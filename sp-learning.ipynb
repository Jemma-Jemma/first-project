{
 "cells": [
  {
   "cell_type": "markdown",
   "metadata": {},
   "source": [
    "# __Проект: Обучение с учителем: качество модели.__"
   ]
  },
  {
   "cell_type": "markdown",
   "metadata": {
    "id": "H6cQIZr3ElW1"
   },
   "source": [
    "**Задача**:  построить модель, которая предскажет вероятность снижения покупательской активности клиента в следующие три месяца, и, используя данные модели и данные о прибыльности клиентов, выделить сегменты покупателей и разработать для них персонализированные предложения. \n",
    "\n",
    "\n",
    "**Данные** состоят из четырёх таблиц, в которых содержится информация о поведении покупателя на сайте, о коммуникациях с покупателем и его продуктовом поведении, о выручке, которую получает магазин с покупателя,о времени, которое покупатель провёл на сайте в течение периода и о среднемесячной прибыли покупателя за последние 3 месяца."
   ]
  },
  {
   "cell_type": "markdown",
   "metadata": {},
   "source": [
    "#### Импортируем необходимые библиотеки."
   ]
  },
  {
   "cell_type": "code",
   "execution_count": null,
   "metadata": {},
   "outputs": [
    {
     "name": "stdout",
     "output_type": "stream",
     "text": [
      "\u001b[31mERROR: pip's dependency resolver does not currently take into account all the packages that are installed. This behaviour is the source of the following dependency conflicts.\r\n",
      "scipy 1.9.1 requires numpy<1.25.0,>=1.18.5, but you have numpy 2.0.2 which is incompatible.\u001b[0m\r\n"
     ]
    }
   ],
   "source": [
    "!pip install -q --upgrade scikit-learn\n",
    "!pip install -q --upgrade matplotlib\n",
    "!pip install -q --upgrade seaborn\n",
    "!pip install -q --upgrade numpy\n",
    "!pip install -q --upgrade numba"
   ]
  },
  {
   "cell_type": "code",
   "execution_count": null,
   "metadata": {},
   "outputs": [],
   "source": [
    "!pip install phik\n",
    "!pip install shap"
   ]
  },
  {
   "cell_type": "code",
   "execution_count": null,
   "metadata": {},
   "outputs": [],
   "source": [
    "import pandas as pd\n",
    "import numpy as np\n",
    "import matplotlib.pyplot as plt\n",
    "import seaborn as sns\n",
    "import sklearn\n",
    "import shap\n",
    "import phik\n",
    "from phik import phik_matrix\n",
    "\n",
    "from sklearn.linear_model import (LinearRegression,\n",
    "                                  LogisticRegression)\n",
    "from sklearn.model_selection import (train_test_split,\n",
    "                                    GridSearchCV,\n",
    "                                    RandomizedSearchCV)\n",
    "from sklearn.preprocessing import (OneHotEncoder,\n",
    "                                   StandardScaler,\n",
    "                                   MinMaxScaler,\n",
    "                                  LabelEncoder,\n",
    "                                  OrdinalEncoder)\n",
    "from sklearn.metrics import (r2_score,\n",
    "                             roc_auc_score,\n",
    "                             mean_absolute_error,\n",
    "                             mean_squared_error,\n",
    "                             accuracy_score,\n",
    "                            confusion_matrix,\n",
    "                            recall_score,\n",
    "                            precision_score)\n",
    "\n",
    "from sklearn.datasets import make_classification\n",
    "from sklearn.pipeline import Pipeline\n",
    "from sklearn.compose import ColumnTransformer\n",
    "from sklearn.multiclass import OneVsRestClassifier\n",
    "from sklearn.impute import SimpleImputer\n",
    "from sklearn.tree import DecisionTreeClassifier\n",
    "from sklearn.neighbors import KNeighborsClassifier\n",
    "from sklearn.svm import SVC\n",
    "from sklearn.linear_model import LogisticRegression\n"
   ]
  },
  {
   "cell_type": "markdown",
   "metadata": {},
   "source": [
    "## Шаг. Загрузка данных"
   ]
  },
  {
   "cell_type": "code",
   "execution_count": null,
   "metadata": {},
   "outputs": [],
   "source": [
    "try:\n",
    "    market_file = pd.read_csv('/datasets/market_file.csv')\n",
    "    market_money = pd.read_csv('/datasets/market_money.csv')\n",
    "    market_time = pd.read_csv('/datasets/market_time.csv')\n",
    "    money = pd.read_csv('/datasets/money.csv', sep=';', decimal=',')\n",
    "except:\n",
    "    try:\n",
    "        market_file = pd.read_csv('C:/Users/1/Documents/DS 2024///datasets/market_file.csv')\n",
    "        market_money = pd.read_csv('C:/Users/1/Documents/DS 2024//datasets/market_money.csv')\n",
    "        market_time = pd.read_csv('C:/Users/1/Documents/DS 2024//datasets/market_time.csv')\n",
    "        money = pd.read_csv('C:/Users/1/Documents/DS 2024//datasets/money.csv', sep=';', decimal=',')\n",
    "    except:\n",
    "        market_file = pd.read_csv('https://code.s3.yandex.net/datasets///datasets/market_file.csv')\n",
    "        market_money = pd.read_csv('https://code.s3.yandex.net/datasets//datasets/market_money.csv')\n",
    "        market_time = pd.read_csv('https://code.s3.yandex.net/datasets//datasets/market_time.csv')\n",
    "        money = pd.read_csv('https://code.s3.yandex.net/datasets//datasets/money.csv', sep=';', decimal=',')"
   ]
  },
  {
   "cell_type": "code",
   "execution_count": null,
   "metadata": {},
   "outputs": [],
   "source": [
    "market_file.head()"
   ]
  },
  {
   "cell_type": "code",
   "execution_count": null,
   "metadata": {},
   "outputs": [],
   "source": [
    "market_money.head()"
   ]
  },
  {
   "cell_type": "code",
   "execution_count": null,
   "metadata": {},
   "outputs": [],
   "source": [
    "market_time.head()"
   ]
  },
  {
   "cell_type": "code",
   "execution_count": null,
   "metadata": {},
   "outputs": [],
   "source": [
    "money.head()"
   ]
  },
  {
   "cell_type": "markdown",
   "metadata": {},
   "source": [
    "**Вывод:** Данные в таблицах соответствуют описанию, перейдём к изучению данных и их предобработке."
   ]
  },
  {
   "cell_type": "markdown",
   "metadata": {},
   "source": [
    "## Шаг. Предобработка данных"
   ]
  },
  {
   "cell_type": "markdown",
   "metadata": {},
   "source": [
    "Изучим данные в каждой из четырёх таблиц."
   ]
  },
  {
   "cell_type": "code",
   "execution_count": null,
   "metadata": {},
   "outputs": [],
   "source": [
    "market_file.info()"
   ]
  },
  {
   "cell_type": "markdown",
   "metadata": {},
   "source": [
    "В целом таблица выглядит нормально. В столбцы 'Покупательская активность', 'Тип сервиса' и  'Разрешить сообщать'  добавим ' _' между словами в названии для единообразия."
   ]
  },
  {
   "cell_type": "code",
   "execution_count": null,
   "metadata": {},
   "outputs": [],
   "source": [
    "market_file = market_file.rename(columns = {'Покупательская активность':'Покупательская_активность', 'Тип сервиса':'Тип_сервиса', 'Разрешить сообщать':'Разрешить_сообщать'})"
   ]
  },
  {
   "cell_type": "code",
   "execution_count": null,
   "metadata": {},
   "outputs": [],
   "source": [
    "market_file.head(2)"
   ]
  },
  {
   "cell_type": "markdown",
   "metadata": {},
   "source": [
    "Рассмотрим стоблец 'Тип_сервиса'."
   ]
  },
  {
   "cell_type": "code",
   "execution_count": null,
   "metadata": {},
   "outputs": [],
   "source": [
    "market_file['Тип_сервиса'].unique()"
   ]
  },
  {
   "cell_type": "markdown",
   "metadata": {},
   "source": [
    "Исправим опечатку в названии категорий типа сервиса и избавимся от неявного дубликата."
   ]
  },
  {
   "cell_type": "code",
   "execution_count": null,
   "metadata": {},
   "outputs": [],
   "source": [
    "market_file['Тип_сервиса'] = market_file['Тип_сервиса'].replace('стандартт', 'стандарт')"
   ]
  },
  {
   "cell_type": "code",
   "execution_count": null,
   "metadata": {},
   "outputs": [],
   "source": [
    "market_file['Тип_сервиса'].unique()"
   ]
  },
  {
   "cell_type": "markdown",
   "metadata": {},
   "source": [
    "Изучим таблицу на наличие дубликатов и пропущенных занчений."
   ]
  },
  {
   "cell_type": "code",
   "execution_count": null,
   "metadata": {
    "scrolled": true
   },
   "outputs": [],
   "source": [
    "market_file.duplicated().sum()"
   ]
  },
  {
   "cell_type": "code",
   "execution_count": null,
   "metadata": {},
   "outputs": [],
   "source": [
    "market_file.isna().sum()"
   ]
  },
  {
   "cell_type": "markdown",
   "metadata": {},
   "source": [
    "Пропущенных значений и полных дубликатов в первой таблице нет, переходим к изучению данных второй таблицы."
   ]
  },
  {
   "cell_type": "code",
   "execution_count": null,
   "metadata": {},
   "outputs": [],
   "source": [
    "market_money.info()"
   ]
  },
  {
   "cell_type": "markdown",
   "metadata": {},
   "source": [
    "Рассмотрим стоблец 'Период'"
   ]
  },
  {
   "cell_type": "code",
   "execution_count": null,
   "metadata": {},
   "outputs": [],
   "source": [
    "market_money['Период'].unique()"
   ]
  },
  {
   "cell_type": "markdown",
   "metadata": {},
   "source": [
    "Кажется, в названии категорий временного периода закралась ошибка. Исправим ее."
   ]
  },
  {
   "cell_type": "code",
   "execution_count": null,
   "metadata": {},
   "outputs": [],
   "source": [
    "market_money.isna().sum()"
   ]
  },
  {
   "cell_type": "code",
   "execution_count": null,
   "metadata": {},
   "outputs": [],
   "source": [
    "market_money.duplicated().sum()"
   ]
  },
  {
   "cell_type": "markdown",
   "metadata": {},
   "source": [
    "Перейдём к изучению данных третьей таблицы."
   ]
  },
  {
   "cell_type": "code",
   "execution_count": null,
   "metadata": {
    "scrolled": true
   },
   "outputs": [],
   "source": [
    "market_time.info()"
   ]
  },
  {
   "cell_type": "code",
   "execution_count": null,
   "metadata": {},
   "outputs": [],
   "source": [
    "market_time['Период'].unique()"
   ]
  },
  {
   "cell_type": "code",
   "execution_count": null,
   "metadata": {},
   "outputs": [],
   "source": [
    "market_time['Период'] = market_time['Период'].replace('предыдцщий_месяц', 'предыдущий_месяц')"
   ]
  },
  {
   "cell_type": "code",
   "execution_count": null,
   "metadata": {},
   "outputs": [],
   "source": [
    "market_time['Период'].unique()"
   ]
  },
  {
   "cell_type": "code",
   "execution_count": null,
   "metadata": {},
   "outputs": [],
   "source": [
    "market_time.isna().sum()"
   ]
  },
  {
   "cell_type": "code",
   "execution_count": null,
   "metadata": {
    "scrolled": true
   },
   "outputs": [],
   "source": [
    "market_time.duplicated().sum()"
   ]
  },
  {
   "cell_type": "markdown",
   "metadata": {},
   "source": [
    "Пропущенных значений и дубликатов нет, поэтому рассмотрим последнюю таблицу с данными о среднемесячной прибыли покупателя за последние 3 месяца."
   ]
  },
  {
   "cell_type": "code",
   "execution_count": null,
   "metadata": {},
   "outputs": [],
   "source": [
    "money.info()"
   ]
  },
  {
   "cell_type": "code",
   "execution_count": null,
   "metadata": {},
   "outputs": [],
   "source": [
    "money.isna().sum()"
   ]
  },
  {
   "cell_type": "code",
   "execution_count": null,
   "metadata": {},
   "outputs": [],
   "source": [
    "money.duplicated().sum()"
   ]
  },
  {
   "cell_type": "markdown",
   "metadata": {},
   "source": [
    "**Вывод**\n",
    "Мы изучили данные четырёх таблиц. В таблице 'market_file' и 'market_time' были внесены изменения в названия категорий столбцов и исправлены ошибки в названиях категорий. В таблицах полные дубликаты обнаружены не были, и во всех таблицах отсутствуют пропущенные значения - можно приступить к исследовательскому анализу данных."
   ]
  },
  {
   "cell_type": "markdown",
   "metadata": {},
   "source": [
    "## Шаг. Исследовательский анализ данных."
   ]
  },
  {
   "cell_type": "markdown",
   "metadata": {},
   "source": [
    "Проведём исследовательский анализ данных по каждой таблице."
   ]
  },
  {
   "cell_type": "code",
   "execution_count": null,
   "metadata": {},
   "outputs": [],
   "source": [
    "market_file.info()"
   ]
  },
  {
   "cell_type": "markdown",
   "metadata": {},
   "source": [
    "Рассмотрим сначала категориальные призанки, потом - количественные. Начнём с 'покупательной_активности' - признака, который является целевым в нашем исследовании."
   ]
  },
  {
   "cell_type": "code",
   "execution_count": null,
   "metadata": {},
   "outputs": [],
   "source": [
    "market_file['Покупательская_активность'].value_counts().plot(kind='pie', figsize=(7,7), autopct='%.1f')\n",
    "plt.title('Гистограмма покупательной активности')\n",
    "plt.xlabel('Покупательная активность');"
   ]
  },
  {
   "cell_type": "markdown",
   "metadata": {},
   "source": [
    "По диаграмме можно сделать вывод, что активность большинства покупателей осталась на прежнем уровне: у 500 человек из 1300 покупательная активность снизилась, у остальных - осталась на прежнем уровне."
   ]
  },
  {
   "cell_type": "code",
   "execution_count": null,
   "metadata": {},
   "outputs": [],
   "source": [
    "market_file['Тип_сервиса'].value_counts().plot(kind='pie', figsize=(7,7), autopct='%.1f')\n",
    "plt.title('Гистограмма распределения типов сервиса среди покупателей')\n",
    "plt.xlabel('Типа сервиса');"
   ]
  },
  {
   "cell_type": "markdown",
   "metadata": {},
   "source": [
    "Анализируя распространение типов сервиса, можно заключить, что большей популярностью пользуется 'стандарт', его выбирает 71% покупателей."
   ]
  },
  {
   "cell_type": "code",
   "execution_count": null,
   "metadata": {},
   "outputs": [],
   "source": [
    "market_file['Разрешить_сообщать'].value_counts().plot(kind='pie', figsize=(7,7), autopct='%.1f')\n",
    "plt.title('Гистограмма распределения согласия покупаталей на получение дополнительной рассылки')\n",
    "plt.xlabel('Разрешать сообщать');"
   ]
  },
  {
   "cell_type": "markdown",
   "metadata": {},
   "source": [
    "Большинство покупателей не против получать дополнительные сообщения с информацией о товаре."
   ]
  },
  {
   "cell_type": "code",
   "execution_count": null,
   "metadata": {},
   "outputs": [],
   "source": [
    "market_file['Популярная_категория'].value_counts().plot(kind='pie', figsize=(7,7), autopct='%.1f')\n",
    "plt.title('Круговая диаграмма популярности различных категорий товаров');"
   ]
  },
  {
   "cell_type": "markdown",
   "metadata": {},
   "source": [
    "Одной из самых популярных категорий товаров являются 'товары для детей' (25.4% всех покупок). Немного по популярности уступают 'домашний текстиль'(19.3%) и 'косметика и аксесуары' (17.2%). Наименее популярной категорией стала 'кухонная посуда' (10.6%)"
   ]
  },
  {
   "cell_type": "markdown",
   "metadata": {},
   "source": [
    "Перейдём к анализу количественных признаков первой таблицы."
   ]
  },
  {
   "cell_type": "code",
   "execution_count": null,
   "metadata": {
    "scrolled": true
   },
   "outputs": [],
   "source": [
    "market_file.info()"
   ]
  },
  {
   "cell_type": "code",
   "execution_count": null,
   "metadata": {},
   "outputs": [],
   "source": [
    "def stat(column):\n",
    "    return column.median(), column.describe(), column.hist(bins=30), plt.title('Столбчатая гистограмма признака'), plt.xlabel('Признак'), plt.ylabel('Количество');"
   ]
  },
  {
   "cell_type": "code",
   "execution_count": null,
   "metadata": {},
   "outputs": [],
   "source": [
    "stat(market_file['Маркет_актив_6_мес'])"
   ]
  },
  {
   "cell_type": "markdown",
   "metadata": {},
   "source": [
    "'Маркет_актив_6_мес' - это число рассылок, звонков, показов рекламы и прочего, которое приходилось на клиента за последние 6 месяцев. Среднее значение этого признака близко к значению медианы, что может быть косвенным свидетельством отсутствия экстремалных значений. Проверим это с помощью ящичковой диаграммы."
   ]
  },
  {
   "cell_type": "code",
   "execution_count": null,
   "metadata": {},
   "outputs": [],
   "source": [
    "market_file.boxplot('Маркет_актив_6_мес')\n",
    "plt.title('Ящичковая диаграмма Маркет_актив за полгода');"
   ]
  },
  {
   "cell_type": "markdown",
   "metadata": {},
   "source": [
    "Оба графика показывают наличие низких значений рассылок, но я предлагаю эти данные не удалять, они не являются экстремальными."
   ]
  },
  {
   "cell_type": "code",
   "execution_count": null,
   "metadata": {},
   "outputs": [],
   "source": [
    "stat(market_file['Маркет_актив_тек_мес'])"
   ]
  },
  {
   "cell_type": "markdown",
   "metadata": {},
   "source": [
    "Для признака 'Маркет_актив_тек_мес' среднее значение и медиана практически совпадают. Также по графику можно выделить три группы покупателей, получивших дополнительную информацию о товарах в текущем месяце."
   ]
  },
  {
   "cell_type": "code",
   "execution_count": null,
   "metadata": {},
   "outputs": [],
   "source": [
    "stat(market_file['Длительность'])"
   ]
  },
  {
   "cell_type": "markdown",
   "metadata": {},
   "source": [
    "'Длительность' показывает, сколько дней прошло с момента регистрации покупателя на сайте. Значение медианы немного выше среднего значения, также довольно высокое стандартное отклонение. Построим столбчатую диаграмму."
   ]
  },
  {
   "cell_type": "code",
   "execution_count": null,
   "metadata": {},
   "outputs": [],
   "source": [
    "market_file.boxplot('Длительность')\n",
    "plt.title('Ящичковая диаграмма длительности регистрации на сайте');"
   ]
  },
  {
   "cell_type": "code",
   "execution_count": null,
   "metadata": {},
   "outputs": [],
   "source": [
    "stat(market_file['Акционные_покупки'])"
   ]
  },
  {
   "cell_type": "markdown",
   "metadata": {},
   "source": [
    "По значениям описательной статистики признака видно сильное отличие среднего и медианного значений. По графику гистограммы можно выделить две группы покупетелей: те, у кого доля акционных покупок составляет больше 0.5 и тех, у кого эта доля ментше 0.5"
   ]
  },
  {
   "cell_type": "code",
   "execution_count": null,
   "metadata": {
    "scrolled": true
   },
   "outputs": [],
   "source": [
    "market_file.boxplot('Акционные_покупки')\n",
    "plt.title('Ящичковая диаграмма среднемесячного количества доли акционных покупок');"
   ]
  },
  {
   "cell_type": "code",
   "execution_count": null,
   "metadata": {},
   "outputs": [],
   "source": [
    "market_file.loc[market_file['Акционные_покупки'] > 0.6]['Акционные_покупки'].count()"
   ]
  },
  {
   "cell_type": "markdown",
   "metadata": {},
   "source": [
    "По графику ящичковой диаграммы мы видим целый ряд значений, которые превышают \"усики\". Но я предлагаю их не удалять, т.к. они не являются нереалистичными."
   ]
  },
  {
   "cell_type": "code",
   "execution_count": null,
   "metadata": {
    "scrolled": true
   },
   "outputs": [],
   "source": [
    "stat(market_file['Средний_просмотр_категорий_за_визит'])"
   ]
  },
  {
   "cell_type": "markdown",
   "metadata": {},
   "source": [
    "По гистограмме признака можно сделать вывод, что в среднем за последний месяц покупатель за визит на сайт больше всего рассматривал до 2 до 4 категорий товаров."
   ]
  },
  {
   "cell_type": "code",
   "execution_count": null,
   "metadata": {},
   "outputs": [],
   "source": [
    "(market_file.loc[(market_file['Средний_просмотр_категорий_за_визит'] >= 2) & (market_file['Средний_просмотр_категорий_за_визит'] < 5) ]['Средний_просмотр_категорий_за_визит'].count()/ market_file['Средний_просмотр_категорий_за_визит'].count())*100"
   ]
  },
  {
   "cell_type": "markdown",
   "metadata": {},
   "source": [
    "Доля таких покупателей составляет 71.6%"
   ]
  },
  {
   "cell_type": "code",
   "execution_count": null,
   "metadata": {},
   "outputs": [],
   "source": [
    "stat(market_file['Неоплаченные_продукты_штук_квартал'])"
   ]
  },
  {
   "cell_type": "code",
   "execution_count": null,
   "metadata": {},
   "outputs": [],
   "source": [
    "market_file.boxplot('Неоплаченные_продукты_штук_квартал')\n",
    "plt.title('Ящичковая диаграмма неоплаченных товаров за последний квартал');"
   ]
  },
  {
   "cell_type": "code",
   "execution_count": null,
   "metadata": {
    "scrolled": true
   },
   "outputs": [],
   "source": [
    "stat(market_file['Ошибка_сервиса'])"
   ]
  },
  {
   "cell_type": "code",
   "execution_count": null,
   "metadata": {},
   "outputs": [],
   "source": [
    "market_file.boxplot('Ошибка_сервиса')\n",
    "plt.title('Ящичковая диаграмма числа сбоев на сайте');"
   ]
  },
  {
   "cell_type": "code",
   "execution_count": null,
   "metadata": {},
   "outputs": [],
   "source": [
    "stat(market_file['Страниц_за_визит'])"
   ]
  },
  {
   "cell_type": "code",
   "execution_count": null,
   "metadata": {},
   "outputs": [],
   "source": [
    "market_file.boxplot('Страниц_за_визит')\n",
    "plt.title('Ящичковая диаграмма соеднего количества страниц за визит');"
   ]
  },
  {
   "cell_type": "code",
   "execution_count": null,
   "metadata": {},
   "outputs": [],
   "source": [
    "numeric_features = ['Маркет_актив_6_мес', 'Маркет_актив_тек_мес', 'Длительность', 'Акционные_покупки', 'Средний_просмотр_категорий_за_визит', 'Ошибка_сервиса', 'Страниц_за_визит', 'Неоплаченные_продукты_штук_квартал']\n",
    "category_features = ['Тип_сервиса', 'Разрешить_сообщать', 'Популярная_категория']\n",
    "for category in category_features:\n",
    "    sns.pairplot(market_file, x_vars=numeric_features, y_vars='Покупательская_активность', hue=category)"
   ]
  },
  {
   "cell_type": "markdown",
   "metadata": {},
   "source": [
    "Перейдём к исследованию данных второй таблицы."
   ]
  },
  {
   "cell_type": "code",
   "execution_count": null,
   "metadata": {},
   "outputs": [],
   "source": [
    "stat(market_money['Выручка'])"
   ]
  },
  {
   "cell_type": "markdown",
   "metadata": {},
   "source": [
    "Среднее значение сильно превышает медианное, а также велико стандартное отклонение. Построим ящичковую диаграмму для этого признака."
   ]
  },
  {
   "cell_type": "code",
   "execution_count": null,
   "metadata": {},
   "outputs": [],
   "source": [
    "market_money.boxplot('Выручка')\n",
    "plt.title('Ящичковая диаграмма суммы выручки');"
   ]
  },
  {
   "cell_type": "markdown",
   "metadata": {},
   "source": [
    "Одно знаение очень сильно выбивается, рассмотрим его подробнее."
   ]
  },
  {
   "cell_type": "code",
   "execution_count": null,
   "metadata": {},
   "outputs": [],
   "source": [
    "market_money.loc[market_money['Выручка'] > 50000]"
   ]
  },
  {
   "cell_type": "markdown",
   "metadata": {},
   "source": [
    "Это значение является экстремальным значением, я предлагаю удалить эту цифру, чтобы она не искажала модель в дальнейшем, и заменить ее средним значением для этого покупателя."
   ]
  },
  {
   "cell_type": "code",
   "execution_count": null,
   "metadata": {
    "scrolled": true
   },
   "outputs": [],
   "source": [
    "market_money.loc[market_money['id'] == 215380]"
   ]
  },
  {
   "cell_type": "code",
   "execution_count": null,
   "metadata": {},
   "outputs": [],
   "source": [
    "market_money.loc[(market_money['id'] == 215380) & (market_money['Период'] != 'текущий_месяц')].mean()"
   ]
  },
  {
   "cell_type": "code",
   "execution_count": null,
   "metadata": {},
   "outputs": [],
   "source": [
    "market_money['Выручка'] = market_money['Выручка'].replace(106862.2, 5564.0)"
   ]
  },
  {
   "cell_type": "code",
   "execution_count": null,
   "metadata": {},
   "outputs": [],
   "source": [
    "market_money.loc[market_money['id'] == 215380]"
   ]
  },
  {
   "cell_type": "markdown",
   "metadata": {},
   "source": [
    "Повторим исследование описательной статистики для этого признака после внесения изменений."
   ]
  },
  {
   "cell_type": "code",
   "execution_count": null,
   "metadata": {
    "scrolled": true
   },
   "outputs": [],
   "source": [
    "stat(market_money['Выручка'])"
   ]
  },
  {
   "cell_type": "markdown",
   "metadata": {},
   "source": [
    "Сгруппируем данные по выручке по временному периоду и построим график."
   ]
  },
  {
   "cell_type": "code",
   "execution_count": null,
   "metadata": {},
   "outputs": [],
   "source": [
    "market_money.groupby('Период')['Выручка'].hist(bins=20, figsize=(7,5), legend='Период', alpha=0.5)\n",
    "plt.xlabel('Сумма выручки');"
   ]
  },
  {
   "cell_type": "code",
   "execution_count": null,
   "metadata": {},
   "outputs": [],
   "source": [
    "market_money.boxplot('Выручка')\n",
    "plt.title('Ящичковая диаграмма суммы выручки');"
   ]
  },
  {
   "cell_type": "code",
   "execution_count": null,
   "metadata": {
    "scrolled": true
   },
   "outputs": [],
   "source": [
    "market_money['Период'].value_counts().plot(kind='pie', figsize=(5,5), autopct='%.1f')\n",
    "plt.title('Гистограмма периодов, за которые была зафиксирована выручка')\n",
    "plt.xlabel('Периоды');"
   ]
  },
  {
   "cell_type": "markdown",
   "metadata": {},
   "source": [
    "За все месяцы было зафиксирвоано одинаковое количество пользователей, покупавших товары."
   ]
  },
  {
   "cell_type": "code",
   "execution_count": null,
   "metadata": {},
   "outputs": [],
   "source": [
    "stat(market_time['минут'])"
   ]
  },
  {
   "cell_type": "code",
   "execution_count": null,
   "metadata": {},
   "outputs": [],
   "source": [
    "market_time.groupby('Период')['минут'].hist(bins=20, figsize=(7,5), legend='Период', alpha=0.5)\n",
    "plt.xlabel('Количество минут, проведённое на сайте');"
   ]
  },
  {
   "cell_type": "code",
   "execution_count": null,
   "metadata": {
    "scrolled": true
   },
   "outputs": [],
   "source": [
    "market_time.boxplot('минут')\n",
    "plt.title('Ящичковая диаграмма времени, проведённого на сайте, в минутах');"
   ]
  },
  {
   "cell_type": "markdown",
   "metadata": {},
   "source": [
    "По статистическим показателям выбросов и экстремальных значений в признаке \"минут\" нет."
   ]
  },
  {
   "cell_type": "code",
   "execution_count": null,
   "metadata": {},
   "outputs": [],
   "source": [
    "market_time['Период'].value_counts().plot(kind='pie', figsize=(5,5), autopct='%.1f')\n",
    "plt.title('Гистограмма периодов, за которые учтено общее время')\n",
    "plt.xlabel('Период');"
   ]
  },
  {
   "cell_type": "markdown",
   "metadata": {},
   "source": [
    "Два наблюдаемых периода соответствуют друг другу по количеству покупателей."
   ]
  },
  {
   "cell_type": "code",
   "execution_count": null,
   "metadata": {
    "scrolled": true
   },
   "outputs": [],
   "source": [
    "stat(money['Прибыль'])"
   ]
  },
  {
   "cell_type": "markdown",
   "metadata": {},
   "source": [
    "Столбчатый график по признаку \"Прибыль\" очень напоминает график нормального распределения."
   ]
  },
  {
   "cell_type": "code",
   "execution_count": null,
   "metadata": {
    "scrolled": true
   },
   "outputs": [],
   "source": [
    "money.boxplot('Прибыль')\n",
    "plt.title('Ящичковая диаграмма прибыли');"
   ]
  },
  {
   "cell_type": "markdown",
   "metadata": {},
   "source": [
    "Нам необходимо отобрать клиентов с покупательной активностью не менее трёх месяцев, то есть таких, которые что-либо покупали в этот период."
   ]
  },
  {
   "cell_type": "code",
   "execution_count": null,
   "metadata": {},
   "outputs": [],
   "source": [
    "tempory_file = market_money.query('Выручка == 0')"
   ]
  },
  {
   "cell_type": "code",
   "execution_count": null,
   "metadata": {},
   "outputs": [],
   "source": [
    "tempory_file.head(10)"
   ]
  },
  {
   "cell_type": "markdown",
   "metadata": {},
   "source": [
    "Мы обнаружили трёх клиентов, которые не были активны на протяжение трёх последних месяцев. Удалим их из всех таблиц для того, чтобы они не влияли на результаты дальнейших этапов анализа."
   ]
  },
  {
   "cell_type": "code",
   "execution_count": null,
   "metadata": {},
   "outputs": [],
   "source": [
    "zeroes = [215348, 215357, 215359]"
   ]
  },
  {
   "cell_type": "code",
   "execution_count": null,
   "metadata": {},
   "outputs": [],
   "source": [
    "market_money_new = market_money[market_money.id.isin (zeroes) == False ]"
   ]
  },
  {
   "cell_type": "code",
   "execution_count": null,
   "metadata": {},
   "outputs": [],
   "source": [
    "market_money_new.info()"
   ]
  },
  {
   "cell_type": "code",
   "execution_count": null,
   "metadata": {},
   "outputs": [],
   "source": [
    "market_file_new = market_file[market_file.id.isin (zeroes) == False ]"
   ]
  },
  {
   "cell_type": "code",
   "execution_count": null,
   "metadata": {},
   "outputs": [],
   "source": [
    "market_time_new = market_time[market_time.id.isin (zeroes) == False ]"
   ]
  },
  {
   "cell_type": "code",
   "execution_count": null,
   "metadata": {},
   "outputs": [],
   "source": [
    "money_new = money[money.id.isin (zeroes) == False ]"
   ]
  },
  {
   "cell_type": "markdown",
   "metadata": {},
   "source": [
    "**Вывод**"
   ]
  },
  {
   "cell_type": "markdown",
   "metadata": {},
   "source": [
    "Мы провели исследовательский анализ данных. Нами было выявлено, что активность большинства покупателей осталась на прежнем уровне: у 500 человек из 1300 покупательная активность снизилась, у остальных - осталась на прежнем уровне.Анализируя распространение типов сервиса, можно заключить, что большей популярностью пользуется 'стандарт', его выбирает 71% покупателей.\n",
    "Большинство покупателей не против получать дополнительные сообщения с информацией о товаре.\n",
    "Одной из самых популярных категорий товаров являются 'товары для детей' (25.4% всех покупок). Немного по популярности уступают 'домашний текстиль'(19.3%) и 'косметика и аксесуары' (17.2%). Наименее популярной категорией стала 'кухонная посуда' (10.6%)\n",
    "'Маркет_актив6мес' - это число рассылок, звонков, показов рекламы и прочего, которое приходилось на клиента за последние 6 месяцев. Среднее значение этого признака близко к значению медианы, что может быть косвенным свидетельством отсутствия экстремалных значений. \n",
    "Оба графика показывают наличие низких значений рассылок, но я предлагаю жти данные не удалять, они не являются экстремальными.\n",
    "Для признака 'Маркет_актив_тек_мес' среднее значение и медиана практически совпадают. Также по графику можно выделить три группы покупателей, получивших дополнительную информацию о товарах в текущем месяце.\n",
    "По графику гистограммы можно выделить две группы покупетелей: те, у кого доля акционных покупок составляет больше 0.5 и тех, у кого эта доля ментше 0.5\n",
    "По графику ящичковой диаграммы среднемесячного количества доли акционных покупок мы видим целый ряд значений, которые превышают \"усики\". Но я предлагаю их не удалять, т.к. они не являются нереалистичными.По гистограмме признака можно сделать вывод, что в среднем за последний месяц покупатель за визит на сайт больше всего рассматривал до 2 до 4 категорий твоаров. Доля таких покупателей составляет 71.6%Удалили одно экстремальное значение по \"выручке\".\n",
    "\n",
    "Также мы отобрали клиентов с покупательной активностью не менее трёх месяцев, исключив из анализа тех, кто хотя бы раз не делал покупки за этот трёхмесячный период."
   ]
  },
  {
   "cell_type": "markdown",
   "metadata": {},
   "source": [
    "## Шаг. Объединение таблиц"
   ]
  },
  {
   "cell_type": "markdown",
   "metadata": {},
   "source": [
    "Объединим все таблицы последовательно, кроме money. Но сначала вынесем временные периоды в таблицах market_money и market_time в столбцы, чтобы сделать все таблицы равными между собой по количеству строк (1300 против 3900 и 2600 в исходных таблицах)."
   ]
  },
  {
   "cell_type": "code",
   "execution_count": null,
   "metadata": {},
   "outputs": [],
   "source": [
    "pivot_market_money = market_money_new.pivot(index='id', columns='Период', values='Выручка').reset_index()"
   ]
  },
  {
   "cell_type": "code",
   "execution_count": null,
   "metadata": {
    "scrolled": false
   },
   "outputs": [],
   "source": [
    "pivot_market_money.head()"
   ]
  },
  {
   "cell_type": "markdown",
   "metadata": {},
   "source": [
    "Преобразуем таким же образом таблицу market_time_new."
   ]
  },
  {
   "cell_type": "code",
   "execution_count": null,
   "metadata": {},
   "outputs": [],
   "source": [
    "pivot_market_time_ = market_time_new.pivot(index='id', columns='Период', values='минут')"
   ]
  },
  {
   "cell_type": "code",
   "execution_count": null,
   "metadata": {},
   "outputs": [],
   "source": [
    "data_1 = market_file_new.merge(pivot_market_money, on='id', how='left')"
   ]
  },
  {
   "cell_type": "code",
   "execution_count": null,
   "metadata": {},
   "outputs": [],
   "source": [
    "data_2 = data_1.merge(pivot_market_time_, on=['id'], how='left')"
   ]
  },
  {
   "cell_type": "markdown",
   "metadata": {},
   "source": [
    "Проверим, адекватно ли выглядит итоговая таблица после слияния."
   ]
  },
  {
   "cell_type": "code",
   "execution_count": null,
   "metadata": {
    "scrolled": true
   },
   "outputs": [],
   "source": [
    "data_2.info()"
   ]
  },
  {
   "cell_type": "code",
   "execution_count": null,
   "metadata": {
    "scrolled": true
   },
   "outputs": [],
   "source": [
    "data_2.head(3)"
   ]
  },
  {
   "cell_type": "code",
   "execution_count": null,
   "metadata": {},
   "outputs": [],
   "source": [
    "data_2 = data_2.rename(columns = {'предыдущий_месяц_x':'Выручка_02_месяц', 'препредыдущий_месяц':'Выручка_03_месяц',\n",
    "                              'текущий_месяц_x':'Выручка_01_месяц', 'предыдущий_месяц_y':'Минут_02_месяц',\n",
    "                             'текущий_месяц_y':'Минут_01_месяц'})"
   ]
  },
  {
   "cell_type": "code",
   "execution_count": null,
   "metadata": {
    "scrolled": true
   },
   "outputs": [],
   "source": [
    "data_2.head(3)"
   ]
  },
  {
   "cell_type": "code",
   "execution_count": null,
   "metadata": {},
   "outputs": [],
   "source": [
    "data = data_2.set_index('id')"
   ]
  },
  {
   "cell_type": "markdown",
   "metadata": {},
   "source": [
    "**Вывод**\n",
    "Мы объединили все таблицы, которые понадобятся нам для дальнейшего моделирвоания, а также создали отдельный столбец по времени, проведённом на сайте, и выручке для каждого временного периода. Приступаем к корреляционному анализу!"
   ]
  },
  {
   "cell_type": "markdown",
   "metadata": {},
   "source": [
    "##  Шаг. Корреляционный анализ"
   ]
  },
  {
   "cell_type": "markdown",
   "metadata": {},
   "source": [
    "Изучим взаимосвязь между признаками, рассчитав между количественными признаками коэффициенты корреляции, воспользуемся библиотекой phix, методом phix_matrix."
   ]
  },
  {
   "cell_type": "code",
   "execution_count": null,
   "metadata": {
    "scrolled": false
   },
   "outputs": [],
   "source": [
    "data_1 = data.drop(['Покупательская_активность', 'Тип_сервиса', 'Разрешить_сообщать', 'Популярная_категория'], axis=1)\n",
    "data_1.phik_matrix()"
   ]
  },
  {
   "cell_type": "markdown",
   "metadata": {},
   "source": [
    "Попробуем изобразить эту таблицу с помощью тепловой карты для лучшего восприятия."
   ]
  },
  {
   "cell_type": "code",
   "execution_count": null,
   "metadata": {},
   "outputs": [],
   "source": [
    "plt.figure(figsize=(10,8))\n",
    "sns.heatmap(data_1.phik_matrix(), annot=True, cmap='coolwarm')\n",
    "plt.title('Коэффициенты корреляции признаков')\n",
    "plt.show();"
   ]
  },
  {
   "cell_type": "markdown",
   "metadata": {},
   "source": [
    "Для трактовки силы связи между признаками будем использовать шкалу Чеддока. Таким образом, очень высокая линейная связь отмечается между выручкой в текущем месяце и выручкой в предыдущем месяце (коэффициент корреляции равен 0.84),что может свидетельствовать о мультиколлинеарности этих признаков. Пока мы принимаем решение не убирать один из этих признаков из таблицы, чтобы избавиться от мультиколлинеарности.\n",
    "Умеренная связь выражена между признаками 'страниц_за_визит' и время, проведённое на саёте в предыдущем месяце (коэффициент коллеляции = 0.48), выручкой за препредыдущий месяц и временем, проведённом на сайте в предыдущий месяц (0.42), а также между признаками 'страниц_за_визит' и 'неоплаченные_продукты_штук_квартал' (0.36) и 'Маркет_актив_6_мес' (0.39)."
   ]
  },
  {
   "cell_type": "markdown",
   "metadata": {},
   "source": [
    "**Вывод** \n",
    "Мы провели корреляционный анализ, в ходе которого выявили очень высокую линейную связь и предполагаемую мультиколлинеарность между выручкой за текущий и предыдущий месяц (коэффициент корреляции равен 0.84). Умеренная связь выражена между признаками 'страниц_за_визит' и время, проведённое на сайте в предыдущем месяце (коэффициент коллеляции = 0.48), выручкой за препредыдущий месяц и временем, проведённом на сайте в предыдущий месяц (0.42), а также между признаками 'страниц_за_визит' и 'неоплаченные_продукты_штук_квартал' (0.36) и 'Маркет_актив6мес' (0.39)."
   ]
  },
  {
   "cell_type": "code",
   "execution_count": null,
   "metadata": {
    "scrolled": true
   },
   "outputs": [],
   "source": [
    "g = sns.PairGrid(data, x_vars='Выручка_01_месяц', y_vars='Выручка_02_месяц', hue='Покупательская_активность')\n",
    "g.map(sns.scatterplot);"
   ]
  },
  {
   "cell_type": "code",
   "execution_count": null,
   "metadata": {},
   "outputs": [],
   "source": [
    "m = sns.PairGrid(data_2, x_vars='id', y_vars='Акционные_покупки', hue='Покупательская_активность')\n",
    "m.map(sns.scatterplot);"
   ]
  },
  {
   "cell_type": "markdown",
   "metadata": {},
   "source": [
    "## Шаг. Использование пайплайнов"
   ]
  },
  {
   "cell_type": "markdown",
   "metadata": {},
   "source": [
    "Подготовим данные для обучения модели, используя  ColumnTransformer. Количественные и категориальные признаки обработаем раздельно, для кодирования категориальных признаков используем OneHotEncoder и OrdinalEncoder, а для масштабирвоания количественных - StandardScaler и MinMaxScaler.\n",
    "Создадим списки с названиями признаков и пайплайны для каждого кодирования и шага, а также общий пайплайн для подготовки данных. \n",
    "Но сначала для удобства закодируем знчаения признака 'Покупательская_активность' в числовой формат."
   ]
  },
  {
   "cell_type": "code",
   "execution_count": null,
   "metadata": {},
   "outputs": [],
   "source": [
    "data['Покупательская_активность'].head(5)"
   ]
  },
  {
   "cell_type": "code",
   "execution_count": null,
   "metadata": {},
   "outputs": [],
   "source": [
    "le = LabelEncoder()\n",
    "le.fit(data['Покупательская_активность'])\n",
    "le.classes_[1], le.classes_[0] = le.classes_[0], le.classes_[1]\n",
    "data['Покупательская_активность'] = le.transform(data['Покупательская_активность'])"
   ]
  },
  {
   "cell_type": "code",
   "execution_count": null,
   "metadata": {},
   "outputs": [],
   "source": [
    "data['Покупательская_активность'].head()"
   ]
  },
  {
   "cell_type": "code",
   "execution_count": null,
   "metadata": {
    "scrolled": true
   },
   "outputs": [],
   "source": [
    "RANDOM_STATE = 42\n",
    "TEST_SIZE = 0.25\n",
    "\n",
    "X = data.drop(['Покупательская_активность'], axis=1)\n",
    "y = data['Покупательская_активность']\n",
    "\n",
    "X_train, X_test, y_train, y_test = train_test_split(\n",
    "    X,\n",
    "    y,\n",
    "    test_size = TEST_SIZE, \n",
    "    random_state = RANDOM_STATE,\n",
    "    stratify = y)\n",
    "\n",
    "\n",
    "X_train.shape, X_test.shape\n",
    "\n",
    "ohe_columns = [\n",
    "    'Популярная_категория', 'Разрешить_сообщать'\n",
    "]\n",
    "ord_columns = [\n",
    "    'Тип_сервиса'\n",
    "]\n",
    "num_columns = ['Маркет_актив_6_мес', 'Маркет_актив_тек_мес', 'Длительность', 'Акционные_покупки',\n",
    "               'Средний_просмотр_категорий_за_визит','Неоплаченные_продукты_штук_квартал',\n",
    "               'Ошибка_сервиса', 'Страниц_за_визит', 'Выручка_01_месяц', 'Выручка_02_месяц',\n",
    "               'Выручка_03_месяц', 'Минут_01_месяц', 'Минут_02_месяц']\n",
    "\n",
    "ohe_pipe = Pipeline(\n",
    "    [\n",
    "        (\n",
    "            'ohe', \n",
    "            OneHotEncoder(drop='first', handle_unknown='error',  sparse_output=False)\n",
    "        )\n",
    "    ]\n",
    ")\n",
    "\n",
    "ord_pipe = Pipeline(\n",
    "    [\n",
    "        (\n",
    "            'ord',\n",
    "            OrdinalEncoder(\n",
    "                categories=[\n",
    "                    ['премиум', 'стандарт'],\n",
    "                ], \n",
    "                handle_unknown='use_encoded_value',\n",
    "                unknown_value=np.nan\n",
    "            )\n",
    "        )\n",
    "    ]\n",
    ")\n",
    "\n",
    "data_preprocessor = ColumnTransformer([\n",
    "    ('ohe', ohe_pipe, ohe_columns),\n",
    "    ('ord', ord_pipe, ord_columns),\n",
    "    ('num', MinMaxScaler(), num_columns)],\n",
    "    remainder='passthrough'\n",
    ")"
   ]
  },
  {
   "cell_type": "markdown",
   "metadata": {},
   "source": [
    "Создадим итоговый пайплайн"
   ]
  },
  {
   "cell_type": "code",
   "execution_count": null,
   "metadata": {},
   "outputs": [],
   "source": [
    "pipe_final = Pipeline([\n",
    "    ('preprocessor', data_preprocessor),\n",
    "    ('models', DecisionTreeClassifier(random_state=RANDOM_STATE))\n",
    "])"
   ]
  },
  {
   "cell_type": "markdown",
   "metadata": {},
   "source": [
    " Обучим четыре модели: KNeighborsClassifier(), DecisionTreeClassifier(), LogisticRegression() и  SVC(). Для каждой из них попробуем подобрать как минимум один гиперпараметр. В качестве метрики будем использовать roc-auc, потому что она отображает истинную и постоянную способность модели к прогнозированию, устойчива к несбалансированным классам и может быть использована для сравнения различных моделей классификации."
   ]
  },
  {
   "cell_type": "code",
   "execution_count": null,
   "metadata": {},
   "outputs": [],
   "source": [
    "param_distributions = [\n",
    "    {\n",
    "        'models': [KNeighborsClassifier()],\n",
    "        'models__n_neighbors': range(1, 25),\n",
    "        'preprocessor__num': [StandardScaler(), MinMaxScaler()]   \n",
    "    },\n",
    "    {\n",
    "        'models': [DecisionTreeClassifier(random_state=RANDOM_STATE)],\n",
    "        'models__max_depth': range(2, 15),\n",
    "        'preprocessor__num': [StandardScaler(), MinMaxScaler()]  \n",
    "    },\n",
    "    {\n",
    "        'models': [LogisticRegression(\n",
    "            random_state=RANDOM_STATE, \n",
    "            solver='liblinear', \n",
    "            penalty='l1'\n",
    "        )],\n",
    "        'models__C': range(1,5),\n",
    "        'preprocessor__num': [StandardScaler(), MinMaxScaler()]  \n",
    "    },\n",
    "    {   'models': [SVC(random_state=RANDOM_STATE, probability=True)], \n",
    "        'models__kernel': ['poly', 'rbf', 'sigmoid'],\n",
    "        'models__degree': range(2, 10),\n",
    "        'preprocessor__num': [StandardScaler(), MinMaxScaler()] \n",
    "}\n",
    "]\n",
    "\n",
    "randomized_search = RandomizedSearchCV(\n",
    "    pipe_final, \n",
    "    param_distributions=param_distributions, \n",
    "    scoring='roc_auc', \n",
    "    random_state=RANDOM_STATE,\n",
    "    n_jobs=-1\n",
    ")\n",
    "randomized_search.fit(X_train, y_train)\n",
    "\n",
    "print('Лучшая модель и её параметры:\\n\\n', randomized_search.best_estimator_)\n",
    "print ('Метрика лучшей модели на тренировочной выборке:', randomized_search.best_score_)"
   ]
  },
  {
   "cell_type": "markdown",
   "metadata": {},
   "source": [
    "Командой grid_search.cv_results_ получим все результаты и сделаем из них датафрейм. Выведем четыре столбца, отсортируем по rank_test_score — рейтингу качества моделей:"
   ]
  },
  {
   "cell_type": "code",
   "execution_count": null,
   "metadata": {},
   "outputs": [],
   "source": [
    "result = pd.DataFrame(randomized_search.cv_results_)\n",
    "print(result[\n",
    "    ['rank_test_score', 'param_models', 'mean_test_score','params']\n",
    "].sort_values('rank_test_score')) "
   ]
  },
  {
   "cell_type": "markdown",
   "metadata": {},
   "source": [
    "Получается, модель с наилучшими параметрами - KNeighborsClassifier(n_neighbors=14). Сохраним её."
   ]
  },
  {
   "cell_type": "code",
   "execution_count": null,
   "metadata": {},
   "outputs": [],
   "source": [
    "y_proba = randomized_search.best_estimator_.predict_proba(X_test)[:, 0]"
   ]
  },
  {
   "cell_type": "code",
   "execution_count": null,
   "metadata": {
    "scrolled": true
   },
   "outputs": [],
   "source": [
    "table = pd.DataFrame(zip(y_test, y_proba),\n",
    "             columns = ['y_valid', 'y_proba']).sort_values(by='y_proba',ascending=False)\n",
    "\n",
    "table.head()"
   ]
  },
  {
   "cell_type": "markdown",
   "metadata": {},
   "source": [
    "**Вывод**\n",
    "Мы подготовили данные для обучения модели, используя ColumnTransformer. Для удобства работы мы закодировали знчаения признака 'Покупательская_активность' в числовой формат. Количественные и категориальные признаки обработали раздельно, для кодирования категориальных признаков использовали OneHotEncoder и OrdinalEncoder, а для масштабирвоания количественных - StandardScaler и MinMaxScaler. Создали списки с названиями признаков и пайплайны для каждого кодирования и шага, а также общий пайплайн для подготовки данных. Мы обучили четыре модели: KNeighborsClassifier(), DecisionTreeClassifier(), LogisticRegression() и SVC(). Для каждой из них подобрали как минимум один гиперпараметр, в качестве метрики использовали roc-auc, которая отображаеть истинную и постоянную способность модели к прогнозированию.\n",
    "Лучшей оказалась модель с наилучшими параметрами - KNeighborsClassifier(n_neighbors=14)."
   ]
  },
  {
   "cell_type": "markdown",
   "metadata": {},
   "source": [
    "## Шаг. Анализ важности признаков"
   ]
  },
  {
   "cell_type": "markdown",
   "metadata": {},
   "source": [
    "Оценим важность признаков для лучшей модели, которую мы получили в предыдущем шаге. Для этого сначала подготовим данные и используем графики метода SHAP. \n",
    "Для того, чтобы определить, какие признаки являются наиболее важными для прогнозов, выдаваемых моделью, используем столбчатую диаграмму (shap.plots.bar)."
   ]
  },
  {
   "cell_type": "markdown",
   "metadata": {},
   "source": [
    "X_train_2 = pd.DataFrame(data_preprocessor.fit_transform(X_train), columns=data_preprocessor.get_feature_names_out() )\n",
    "X_test_2 = pd.DataFrame(data_preprocessor.transform(X_test), columns=data_preprocessor.get_feature_names_out())"
   ]
  },
  {
   "cell_type": "markdown",
   "metadata": {
    "scrolled": true
   },
   "source": [
    "model = randomized_search.best_estimator_.named_steps['models']\n",
    "model.fit(X_train_2.values, y_train)\n",
    "\n",
    "explainer = shap.KernelExplainer(lambda x: model.predict_proba(x), shap.sample(X_train_2, 10))\n",
    "shap_values = explainer(shap.sample(X_test_2, 10))\n",
    "shap.plots.bar(shap_values[:, :, 0], max_display=21)"
   ]
  },
  {
   "cell_type": "markdown",
   "metadata": {},
   "source": [
    "График помогает понять, какие признаки являются наиболее важными для работы нашей модели. Получается, самое большое среднее значение shap имеет признак \"акционные покупки\". Это значит, что этот признак оказывает наиболее сильное воздействие на прогнозы модели. На втором и третьем месте по \"важности\" - количество страниц за визит и количество времени, проведённое на сайте в текущем месяце. Наименее значимыми для модели получились признаки: выручка за текущий и предыдущий месяцы, ошибки сервиса, популярные категории (косметика и аксесуары) и неоплаченные продукты за квартал. \n",
    "При моделировании и принятии бизнес-решений можно использовать информацию, полученную при анализе важности признаков. Так, для более точного результата прогноза можно исключить из исследования наименее важные признаки, оставив наиболее ценные."
   ]
  },
  {
   "cell_type": "markdown",
   "metadata": {},
   "source": [
    "explainer = shap.KernelExplainer(lambda x: model.predict_proba(x), shap.sample(X_train_2))\n",
    "shap_values = explainer.shap_values(shap.sample(X_test_2))\n",
    "shap_obj = explainer(shap.sample(X_test_2))\n",
    "shap.plots.beeswarm(shap_obj[:,:,1], max_display=21)"
   ]
  },
  {
   "cell_type": "markdown",
   "metadata": {},
   "source": [
    "Исследуя SHAP‑значения на этой диаграмме, мы можем исследовать природу взаимоотношений между признаками и спрогнозированной покупательской активностью. Такие признаки, как количество страниц за визит, время, проведённое на сайте за текущий и прошлый месяц, средний просмотр категорий за визит растут по мере увеличения покупательской активности. Мы можем заметить и обратную ситуацию: чем больше значения признаков - тем меньше SHAP‑значения. Это наблюдение указывает на то, что более высокие значения 'неоплаченные продукты_шт_квартал', 'длительность' и 'выручка за текущий месяц' связаны с более низкой спрогнозированной покупательной активностью."
   ]
  },
  {
   "cell_type": "markdown",
   "metadata": {},
   "source": [
    "**Вывод**\n",
    "Для анализа важности призанков мы использовали графики метода shap. Столбчатый график помогает понять, какие признаки являются наиболее важными для работы модели. Самое большое среднее значение shap имеет признак \"акционные покупки\", который оказывает наиболее сильное воздействие на прогнозы модели. На втором и третьем месте по \"важности\" - количество страниц за визит и количество времени, проведённое на сайте в текущем месяце. Наименее значимыми для модели получились признаки: выручка за текущий и предыдущий месяцы, ошибки сервиса, популярные категории (косметика и аксесуары) и неоплаченные продукты за квартал. При моделировании и принятии бизнес-решений можно использовать информацию, полученную при анализе важности признаков. Так, для более точного результата прогноза можно исключить из исследования наименее важные признаки, оставив наиболее ценные."
   ]
  },
  {
   "cell_type": "markdown",
   "metadata": {},
   "source": [
    "## Шаг. Сегментация покупателей"
   ]
  },
  {
   "cell_type": "markdown",
   "metadata": {},
   "source": [
    "После получения прогнозов по вероятности снижения покупательской активности, рассмотрим покупаталей с точки зрения получаемой от них прибыли. Для этого построим диаграмму разброса."
   ]
  },
  {
   "cell_type": "code",
   "execution_count": null,
   "metadata": {},
   "outputs": [],
   "source": [
    "probability = pd.DataFrame({'id': X_test.index, 'Вероятность_снижения': y_proba})"
   ]
  },
  {
   "cell_type": "code",
   "execution_count": null,
   "metadata": {},
   "outputs": [],
   "source": [
    "table_2 = probability.merge(money_new, on=['id'], how='left')"
   ]
  },
  {
   "cell_type": "code",
   "execution_count": null,
   "metadata": {
    "scrolled": true
   },
   "outputs": [],
   "source": [
    "table_2.head(3)"
   ]
  },
  {
   "cell_type": "code",
   "execution_count": null,
   "metadata": {},
   "outputs": [],
   "source": [
    "table_2.plot(kind='scatter', x='Вероятность_снижения', y='Прибыль',  figsize=(12,5), c='blue')\n",
    "plt.title('Диаграмма разброса прибыли в зависимости от вероятности снижения покупательской активности')\n",
    "plt.ticklabel_format(style='plain')\n",
    "plt.xlabel('Вероятность снижения покупательской активности')\n",
    "plt.ylabel('Прибыль');"
   ]
  },
  {
   "cell_type": "markdown",
   "metadata": {},
   "source": [
    "Рассмотрим группу клиентов с наиболее высокой прибыльностью и высокой вероятностью снижения покупательской активности."
   ]
  },
  {
   "cell_type": "code",
   "execution_count": null,
   "metadata": {},
   "outputs": [],
   "source": [
    "_f1 = table_2['Вероятность_снижения'] < 0.25\n",
    "_f2 = table_2['Прибыль'] >= 3\n",
    "low_activity = table_2[_f1 & _f2].sort_values(by='Вероятность_снижения', ascending=False)\n",
    "low_activity.shape[0]"
   ]
  },
  {
   "cell_type": "code",
   "execution_count": null,
   "metadata": {},
   "outputs": [],
   "source": [
    "low_activity.head()"
   ]
  },
  {
   "cell_type": "markdown",
   "metadata": {},
   "source": [
    "Таких клиентов оказалось 156 человек.Рассмотрим, на какие категории товаров они тратят больше всего и меньше всего, как меняются их траты в течение трёх месяцев, проверим, по каким категориям товров траты проседают, а по каким наоборот увеличиваются. Добавим информацию об этом из нашей основной таблицы."
   ]
  },
  {
   "cell_type": "code",
   "execution_count": null,
   "metadata": {},
   "outputs": [],
   "source": [
    "low_activity_view = low_activity.merge(data[['Популярная_категория','Выручка_01_месяц', 'Выручка_02_месяц', 'Выручка_03_месяц']], on=['id'], how='left')"
   ]
  },
  {
   "cell_type": "code",
   "execution_count": null,
   "metadata": {
    "scrolled": false
   },
   "outputs": [],
   "source": [
    "low_activity_view.head()"
   ]
  },
  {
   "cell_type": "code",
   "execution_count": null,
   "metadata": {},
   "outputs": [],
   "source": [
    "low_activity_view['Популярная_категория'].value_counts().plot(kind='pie', figsize=(7,7), autopct='%.1f')\n",
    "plt.title('Круговая диаграмма популярности различных категорий товаров среди клиентов с высокой вероятностью снижения покупательской активности');"
   ]
  },
  {
   "cell_type": "markdown",
   "metadata": {},
   "source": [
    "Наибольшей популярностью среди покупателей жтой группы пользовались такие категории товаров, как домашний текстиль, товары для детей и мелкая бытовая техника и электроника. Наименьшей популярностью пользовалась  косметика и аксесуары и кухонная посуда. Интересно посмотреь динамику покупок товаров этих категорий по времени."
   ]
  },
  {
   "cell_type": "markdown",
   "metadata": {},
   "source": [
    "Рассмотрим поведение группу покупаталей с высокой прибыльностью, но для которых наша модель предсказала другой результат: тех, чья покупательская активность осталась на прежнем уровне."
   ]
  },
  {
   "cell_type": "code",
   "execution_count": null,
   "metadata": {},
   "outputs": [],
   "source": [
    "_f1 = table_2['Вероятность_снижения'] > 0.75\n",
    "_f2 = table_2['Прибыль'] >= 3\n",
    "high_activity = table_2[_f1 & _f2].sort_values(by='Вероятность_снижения', ascending=False)\n",
    "high_activity.shape[0]"
   ]
  },
  {
   "cell_type": "code",
   "execution_count": null,
   "metadata": {},
   "outputs": [],
   "source": [
    "high_activity_view = high_activity.merge(data[['Популярная_категория','Выручка_01_месяц', 'Выручка_02_месяц', 'Выручка_03_месяц']], on=['id'], how='left')"
   ]
  },
  {
   "cell_type": "code",
   "execution_count": null,
   "metadata": {},
   "outputs": [],
   "source": [
    "high_activity_view['Популярная_категория'].value_counts().plot(kind='pie', figsize=(7,7), autopct='%.1f')\n",
    "plt.title('Круговая диаграмма популярности различных категорий товаров среди клиентов с низкой вероятностью снижения покупательской активности');"
   ]
  },
  {
   "cell_type": "markdown",
   "metadata": {},
   "source": [
    "В этой группе покупателей почти в два раза меньше (72 против 156), и при этом популярными являются совсем другие категории товаров. Построим графики для выручси за текущий и предыдущий месяц в обеих рассматриваемых группах."
   ]
  },
  {
   "cell_type": "code",
   "execution_count": null,
   "metadata": {},
   "outputs": [],
   "source": [
    "agg_func = {\n",
    "    'Выручка_01_месяц': ['median'],\n",
    "    'Выручка_02_месяц': ['median'],\n",
    "    'Выручка_03_месяц': ['median']\n",
    "}\n",
    "low_activity_view.groupby('Популярная_категория').agg(agg_func).head(6)"
   ]
  },
  {
   "cell_type": "code",
   "execution_count": null,
   "metadata": {
    "scrolled": true
   },
   "outputs": [],
   "source": [
    "high_activity_view.groupby('Популярная_категория').agg(agg_func).head(6)"
   ]
  },
  {
   "cell_type": "markdown",
   "metadata": {},
   "source": [
    "Выделенная нами группа покупателей с высокой вероятностью снижения покупательной активности имеет лучшие показатели по прибыльности, чем группа спокупательской активностью на прежнем уровне. Для повышения покупательской активности рассматриваемой группы, мы рекомендуем ввести акции для популярных категорий товаров, таких, как домашний текстиль, товары для детей и мелкая бытовая техника и электроника."
   ]
  },
  {
   "cell_type": "markdown",
   "metadata": {},
   "source": [
    "**Вывод**\n",
    "По результатам моделирования и после оценки важности признаков с помощью графиков shap, мы выяснили, что наиболее сильное воздействие на прогнозы модели оказывал признак \"акционные покупки\". Используя результаты моделирования и данные о прибыльности покупателей, мы для дальнейшего анализа выбрали группу клиентов с высокой прибыльностью и высокой вероятностью снижения покупательской активности. Мы исследовали, на какие категории товаров они тратят больше всего и меньше всего, изучили, как менялись траты в течение трёх месяцев и по каким категориям траты проседали, а по каким наоборот увеличивались. Мы сравнили изучаемую группу с контр-группой и в качестве рекомендаций для повышения покупательской активности мы предлагаем ввести акции на категории товаров, на которые они любят тратить больше всего (товары для детей, домашний текстиль), чтобы увеличить их покупательскую активность. Изучив разницу между покупками в разные месяцы, мы можем предложить ввести акции на категорию \"техника дял красоты и здоровья\", поскольку продажи в этой группе товаров почти не меняются. Возможно, это потому, что техника чаще покумается на долгий срок, а, возможно, потому, что на данную категорию требуются акции для увеличения покупательской активности."
   ]
  },
  {
   "cell_type": "markdown",
   "metadata": {},
   "source": [
    "## Шаг. Общий вывод."
   ]
  },
  {
   "cell_type": "markdown",
   "metadata": {},
   "source": [
    "Сделайте общий вывод:\n",
    "опишите задачу;\n",
    "опишите исходные данные и проведённую предобработку;\n",
    "напишите, что вы сделали для поиска лучшей модели;\n",
    "укажите лучшую модель;\n",
    "добавьте выводы и дополнительные предложения для выбранного сегмента покупателей."
   ]
  },
  {
   "cell_type": "markdown",
   "metadata": {},
   "source": [
    "В нашу задачу входило изучить данные и по ним построить модель, которая предскажет вероятность снижения покупательской активности клиента в следующие три месяца, и, используя данные модели и данные о прибыльности клиентов, выделить сегменты покупателей и разработать для них персонализированные предложения.\n",
    "\n",
    "Данные представляли собой четыре таблицы, в которых содержалась информация о поведении покупателя на сайте, о коммуникациях с покупателем и его продуктовом поведении, о выручке, которую получает магазин с покупателя,о времени, которое покупатель провёл на сайте в течение периода и о среднемесячной прибыли покупателя за последние 3 месяца. Мы изучили данные таблиц. В таблице 'market_file' и 'market_time' были внесены изменения в названия категорий столбцов и исправлены ошибки в названиях категорий. В таблицах полные дубликаты обнаружены не были, и во всех таблицах отсутствовали пропущенные значения\n",
    "\n",
    "Мы провели исследовательский анализ данных. Было выявлено, что активность большинства покупателей осталась на прежнем уровне: у 500 человек из 1300 покупательная активность снизилась, у остальных - осталась на прежнем уровне.Анализируя распространение типов сервиса, мы заключили, что большей популярностью пользуется 'стандарт', его выбирает 71% покупателей. Большинство покупателей не против получать дополнительные сообщения с информацией о товаре. Одной из самых популярных категорий товаров являются 'товары для детей' (25.4% всех покупок). Немного по популярности уступают 'домашний текстиль'(19.3%) и 'косметика и аксесуары' (17.2%). Наименее популярной категорией стала 'кухонная посуда' (10.6%) 'Маркет_актив6мес' - это число рассылок, звонков, показов рекламы и прочего, которое приходилось на клиента за последние 6 месяцев. Среднее значение этого признака близко к значению медианы, что может быть косвенным свидетельством отсутствия экстремалных значений. Оба графика показывают наличие низких значений рассылок, но я предлагаю жти данные не удалять, они не являются экстремальными. Для признака 'Маркет_актив_тек_мес' среднее значение и медиана практически совпадают. Также по графику можно выделить три группы покупателей, получивших дополнительную информацию о товарах в текущем месяце. По графику гистограммы можно выделить две группы покупетелей: те, у кого доля акционных покупок составляет больше 0.5 и тех, у кого эта доля ментше 0.5 По графику ящичковой диаграммы среднемесячного количества доли акционных покупок мы видим целый ряд значений, которые превышают \"усики\". Но я предлагаю их не удалять, т.к. они не являются нереалистичными.По гистограмме признака можно сделать вывод, что в среднем за последний месяц покупатель за визит на сайт больше всего рассматривал до 2 до 4 категорий твоаров. Доля таких покупателей составляет 71.6%Удалили одно экстремальное значение по \"выручке\".\n",
    "\n",
    "Также мы отобрали клиентов с покупательной активностью не менее трёх месяцев, исключив из анализа тех, кто хотя бы раз не делал покупки за этот трёхмесячный период.\n",
    "В ходе корреляционного анализа мы выявили очень высокую линейную связь между выручкой за текущий и предыдущий месяц (коэффициент корреляции равен 0.84). Умеренная связь выражена между признаками 'страниц_за_визит' и время, проведённое на сайте в предыдущем месяце (коэффициент коллеляции = 0.48), выручкой за препредыдущий месяц и временем, проведённом на сайте в предыдущий месяц (0.42), а также между признаками 'страниц_за_визит' и 'неоплаченные_продукты_штук_квартал' (0.36) и 'Маркет_актив6мес' (0.39).\n",
    "\n",
    "Далее мы подготовили данные для обучения модели, используя ColumnTransformer. Для удобства работы мы закодировали знчаения признака 'Покупательская_активность' в числовой формат. Количественные и категориальные признаки обработали раздельно, для кодирования категориальных признаков использовали OneHotEncoder и OrdinalEncoder, а для масштабирвоания количественных - StandardScaler и MinMaxScaler. Создали списки с названиями признаков и пайплайны для каждого кодирования и шага, а также общий пайплайн для подготовки данных. Мы обучили четыре модели: KNeighborsClassifier(), DecisionTreeClassifier(), LogisticRegression() и SVC(). Для каждой из них подобрали как минимум один гиперпараметр, в качестве метрики использовали roc-auc, которая отображаеть истинную и постоянную способность модели к прогнозированию. Лучшей оказалась модель с наилучшими параметрами - KNeighborsClassifier(n_neighbors=14).\n",
    "\n",
    "Для анализа важности призанков мы использовали графики метода shap. Столбчатый график помогает понять, какие признаки являются наиболее важными для работы модели. Самое большое среднее значение shap имеет признак \"акционные покупки\", который оказывает наиболее сильное воздействие на прогнозы модели. На втором и третьем месте по \"важности\" - количество страниц за визит и количество времени, проведённое на сайте в текущем месяце. Наименее значимыми для модели получились признаки: выручка за текущий и предыдущий месяцы, ошибки сервиса, популярные категории (косметика и аксесуары) и неоплаченные продукты за квартал. При моделировании и принятии бизнес-решений можно использовать информацию, полученную при анализе важности признаков. Так, для более точного результата прогноза можно исключить из исследования наименее важные признаки, оставив наиболее ценные.\n",
    "\n",
    "По результатам моделирования и после оценки важности признаков с помощью графиков shap, мы выяснили, что наиболее сильное воздействие на прогнозы модели оказывал признак \"акционные покупки\". Используя результаты моделирования и данные о прибыльности покупателей, мы для дальнейшего анализа выбрали группу клиентов с высокой прибыльностью и высокой вероятностью снижения покупательской активности. Мы исследовали, на какие категории товаров они тратят больше всего и меньше всего, изучили, как менялись траты в течение трёх месяцев и по каким категориям траты проседали, а по каким наоборот увеличивались. Мы сравнили изучаемую группу с контр-группой и в качестве рекомендаций для повышения покупательской активности мы предлагаем ввести акции на категории товаров, на которые они любят тратить больше всего (товары для детей, домашний текстиль), чтобы увеличить их покупательскую активность. Изучив разницу между покупками в разные месяцы, мы можем предложить ввести акции на категорию \"техника дял красоты и здоровья\", поскольку продажи в этой группе товаров почти не меняются. Возможно, это потому, что техника чаще покумается на долгий срок, а, возможно, потому, что на данную категорию требуются акции для увеличения покупательской активности."
   ]
  },
  {
   "cell_type": "code",
   "execution_count": null,
   "metadata": {},
   "outputs": [],
   "source": []
  }
 ],
 "metadata": {
  "ExecuteTimeLog": [
   {
    "duration": 1342,
    "start_time": "2024-08-02T11:50:49.953Z"
   },
   {
    "duration": 410,
    "start_time": "2024-08-02T12:21:44.323Z"
   },
   {
    "duration": 54,
    "start_time": "2024-08-02T12:21:45.446Z"
   },
   {
    "duration": 96,
    "start_time": "2024-08-02T12:23:40.935Z"
   },
   {
    "duration": 263,
    "start_time": "2024-08-02T12:23:52.837Z"
   },
   {
    "duration": 102,
    "start_time": "2024-08-02T12:25:09.932Z"
   },
   {
    "duration": 9,
    "start_time": "2024-08-02T12:25:26.453Z"
   },
   {
    "duration": 9,
    "start_time": "2024-08-02T12:26:14.279Z"
   },
   {
    "duration": 6,
    "start_time": "2024-08-02T12:26:18.167Z"
   },
   {
    "duration": 7,
    "start_time": "2024-08-02T12:26:21.447Z"
   },
   {
    "duration": 95,
    "start_time": "2024-08-02T12:27:35.476Z"
   },
   {
    "duration": 11,
    "start_time": "2024-08-02T12:27:36.318Z"
   },
   {
    "duration": 95,
    "start_time": "2024-08-02T12:29:01.153Z"
   },
   {
    "duration": 12,
    "start_time": "2024-08-02T12:29:02.127Z"
   },
   {
    "duration": 7,
    "start_time": "2024-08-02T12:29:03.063Z"
   },
   {
    "duration": 7,
    "start_time": "2024-08-02T12:29:04.591Z"
   },
   {
    "duration": 6,
    "start_time": "2024-08-02T12:29:06.020Z"
   },
   {
    "duration": 4,
    "start_time": "2024-08-03T13:08:18.049Z"
   },
   {
    "duration": 50,
    "start_time": "2024-08-03T13:11:07.613Z"
   },
   {
    "duration": 1661,
    "start_time": "2024-08-03T13:11:18.639Z"
   },
   {
    "duration": 339,
    "start_time": "2024-08-03T13:11:20.302Z"
   },
   {
    "duration": 19,
    "start_time": "2024-08-03T13:11:20.646Z"
   },
   {
    "duration": 8,
    "start_time": "2024-08-03T13:11:20.667Z"
   },
   {
    "duration": 9,
    "start_time": "2024-08-03T13:11:20.677Z"
   },
   {
    "duration": 19,
    "start_time": "2024-08-03T13:11:20.688Z"
   },
   {
    "duration": 13,
    "start_time": "2024-08-03T13:11:20.708Z"
   },
   {
    "duration": 4,
    "start_time": "2024-08-03T13:19:33.200Z"
   },
   {
    "duration": 13,
    "start_time": "2024-08-03T13:19:50.616Z"
   },
   {
    "duration": 5,
    "start_time": "2024-08-03T13:21:20.472Z"
   },
   {
    "duration": 4,
    "start_time": "2024-08-03T13:27:40.963Z"
   },
   {
    "duration": 4,
    "start_time": "2024-08-03T13:27:50.679Z"
   },
   {
    "duration": 13,
    "start_time": "2024-08-03T13:28:24.791Z"
   },
   {
    "duration": 4,
    "start_time": "2024-08-03T13:30:30.674Z"
   },
   {
    "duration": 4,
    "start_time": "2024-08-03T13:32:02.039Z"
   },
   {
    "duration": 7,
    "start_time": "2024-08-03T13:32:14.783Z"
   },
   {
    "duration": 7,
    "start_time": "2024-08-03T13:34:02.109Z"
   },
   {
    "duration": 6,
    "start_time": "2024-08-03T13:34:48.454Z"
   },
   {
    "duration": 6,
    "start_time": "2024-08-03T13:36:18.894Z"
   },
   {
    "duration": 6,
    "start_time": "2024-08-03T13:36:34.998Z"
   },
   {
    "duration": 113,
    "start_time": "2024-08-03T13:44:23.010Z"
   },
   {
    "duration": 13,
    "start_time": "2024-08-03T13:44:34.588Z"
   },
   {
    "duration": 11,
    "start_time": "2024-08-03T13:45:30.024Z"
   },
   {
    "duration": 12,
    "start_time": "2024-08-03T13:49:43.834Z"
   },
   {
    "duration": 6,
    "start_time": "2024-08-03T13:50:43.473Z"
   },
   {
    "duration": 5,
    "start_time": "2024-08-03T13:50:57.771Z"
   },
   {
    "duration": 6,
    "start_time": "2024-08-03T13:51:22.842Z"
   },
   {
    "duration": 11,
    "start_time": "2024-08-03T13:52:17.698Z"
   },
   {
    "duration": 5,
    "start_time": "2024-08-03T13:53:27.285Z"
   },
   {
    "duration": 5,
    "start_time": "2024-08-03T13:54:56.160Z"
   },
   {
    "duration": 5,
    "start_time": "2024-08-03T13:55:08.618Z"
   },
   {
    "duration": 6,
    "start_time": "2024-08-03T13:56:05.330Z"
   },
   {
    "duration": 10,
    "start_time": "2024-08-03T13:56:12.194Z"
   },
   {
    "duration": 6,
    "start_time": "2024-08-03T13:56:21.905Z"
   },
   {
    "duration": 10,
    "start_time": "2024-08-03T13:57:44.019Z"
   },
   {
    "duration": 6,
    "start_time": "2024-08-03T13:58:18.136Z"
   },
   {
    "duration": 6,
    "start_time": "2024-08-03T13:58:33.949Z"
   },
   {
    "duration": 1454,
    "start_time": "2024-08-03T14:20:52.821Z"
   },
   {
    "duration": 92,
    "start_time": "2024-08-03T14:20:54.277Z"
   },
   {
    "duration": 16,
    "start_time": "2024-08-03T14:20:54.371Z"
   },
   {
    "duration": 7,
    "start_time": "2024-08-03T14:20:54.390Z"
   },
   {
    "duration": 27,
    "start_time": "2024-08-03T14:20:54.399Z"
   },
   {
    "duration": 15,
    "start_time": "2024-08-03T14:20:54.428Z"
   },
   {
    "duration": 23,
    "start_time": "2024-08-03T14:20:54.444Z"
   },
   {
    "duration": 5,
    "start_time": "2024-08-03T14:20:54.469Z"
   },
   {
    "duration": 17,
    "start_time": "2024-08-03T14:20:54.475Z"
   },
   {
    "duration": 5,
    "start_time": "2024-08-03T14:20:54.495Z"
   },
   {
    "duration": 4,
    "start_time": "2024-08-03T14:20:54.502Z"
   },
   {
    "duration": 5,
    "start_time": "2024-08-03T14:20:54.508Z"
   },
   {
    "duration": 8,
    "start_time": "2024-08-03T14:20:54.514Z"
   },
   {
    "duration": 21,
    "start_time": "2024-08-03T14:20:54.524Z"
   },
   {
    "duration": 19,
    "start_time": "2024-08-03T14:20:54.547Z"
   },
   {
    "duration": 6,
    "start_time": "2024-08-03T14:20:54.568Z"
   },
   {
    "duration": 12,
    "start_time": "2024-08-03T14:20:54.575Z"
   },
   {
    "duration": 18,
    "start_time": "2024-08-03T14:20:54.588Z"
   },
   {
    "duration": 7,
    "start_time": "2024-08-03T14:20:54.608Z"
   },
   {
    "duration": 5,
    "start_time": "2024-08-03T14:20:54.617Z"
   },
   {
    "duration": 5,
    "start_time": "2024-08-03T14:20:54.624Z"
   },
   {
    "duration": 10,
    "start_time": "2024-08-03T14:20:54.631Z"
   },
   {
    "duration": 13,
    "start_time": "2024-08-03T14:20:54.642Z"
   },
   {
    "duration": 12,
    "start_time": "2024-08-03T14:20:54.656Z"
   },
   {
    "duration": 7,
    "start_time": "2024-08-03T14:20:54.669Z"
   },
   {
    "duration": 7,
    "start_time": "2024-08-03T14:20:54.704Z"
   },
   {
    "duration": 7,
    "start_time": "2024-08-03T14:20:54.712Z"
   },
   {
    "duration": 18,
    "start_time": "2024-08-03T14:20:54.722Z"
   },
   {
    "duration": 6,
    "start_time": "2024-08-03T14:20:54.743Z"
   },
   {
    "duration": 20,
    "start_time": "2024-08-03T14:20:54.750Z"
   },
   {
    "duration": 40,
    "start_time": "2024-08-03T14:20:54.772Z"
   },
   {
    "duration": 1523,
    "start_time": "2024-08-03T16:30:25.590Z"
   },
   {
    "duration": 93,
    "start_time": "2024-08-03T16:30:27.115Z"
   },
   {
    "duration": 16,
    "start_time": "2024-08-03T16:30:27.210Z"
   },
   {
    "duration": 7,
    "start_time": "2024-08-03T16:30:27.228Z"
   },
   {
    "duration": 8,
    "start_time": "2024-08-03T16:30:27.236Z"
   },
   {
    "duration": 7,
    "start_time": "2024-08-03T16:30:27.246Z"
   },
   {
    "duration": 19,
    "start_time": "2024-08-03T16:30:27.255Z"
   },
   {
    "duration": 29,
    "start_time": "2024-08-03T16:30:27.276Z"
   },
   {
    "duration": 19,
    "start_time": "2024-08-03T16:30:27.307Z"
   },
   {
    "duration": 5,
    "start_time": "2024-08-03T16:30:27.329Z"
   },
   {
    "duration": 4,
    "start_time": "2024-08-03T16:30:27.335Z"
   },
   {
    "duration": 9,
    "start_time": "2024-08-03T16:30:27.340Z"
   },
   {
    "duration": 13,
    "start_time": "2024-08-03T16:30:27.351Z"
   },
   {
    "duration": 6,
    "start_time": "2024-08-03T16:30:27.365Z"
   },
   {
    "duration": 33,
    "start_time": "2024-08-03T16:30:27.373Z"
   },
   {
    "duration": 6,
    "start_time": "2024-08-03T16:30:27.408Z"
   },
   {
    "duration": 7,
    "start_time": "2024-08-03T16:30:27.415Z"
   },
   {
    "duration": 7,
    "start_time": "2024-08-03T16:30:27.423Z"
   },
   {
    "duration": 9,
    "start_time": "2024-08-03T16:30:27.432Z"
   },
   {
    "duration": 6,
    "start_time": "2024-08-03T16:30:27.442Z"
   },
   {
    "duration": 6,
    "start_time": "2024-08-03T16:30:27.449Z"
   },
   {
    "duration": 57,
    "start_time": "2024-08-03T16:30:27.456Z"
   },
   {
    "duration": 5,
    "start_time": "2024-08-03T16:30:27.514Z"
   },
   {
    "duration": 5,
    "start_time": "2024-08-03T16:30:27.521Z"
   },
   {
    "duration": 7,
    "start_time": "2024-08-03T16:30:27.528Z"
   },
   {
    "duration": 12,
    "start_time": "2024-08-03T16:30:27.536Z"
   },
   {
    "duration": 23,
    "start_time": "2024-08-03T16:30:27.550Z"
   },
   {
    "duration": 10,
    "start_time": "2024-08-03T16:30:27.577Z"
   },
   {
    "duration": 7,
    "start_time": "2024-08-03T16:30:27.605Z"
   },
   {
    "duration": 8,
    "start_time": "2024-08-03T16:30:27.614Z"
   },
   {
    "duration": 21,
    "start_time": "2024-08-03T16:30:27.623Z"
   },
   {
    "duration": 13,
    "start_time": "2024-08-03T16:41:03.224Z"
   },
   {
    "duration": 228,
    "start_time": "2024-08-03T16:45:45.931Z"
   },
   {
    "duration": 154,
    "start_time": "2024-08-03T16:46:17.259Z"
   },
   {
    "duration": 367,
    "start_time": "2024-08-03T16:47:26.345Z"
   },
   {
    "duration": 1291,
    "start_time": "2024-08-03T16:48:02.626Z"
   },
   {
    "duration": 960,
    "start_time": "2024-08-03T16:48:23.999Z"
   },
   {
    "duration": 247,
    "start_time": "2024-08-03T16:48:48.545Z"
   },
   {
    "duration": 155,
    "start_time": "2024-08-03T16:49:20.807Z"
   },
   {
    "duration": 134,
    "start_time": "2024-08-03T16:54:11.234Z"
   },
   {
    "duration": 4,
    "start_time": "2024-08-03T16:56:17.164Z"
   },
   {
    "duration": 4,
    "start_time": "2024-08-03T16:56:54.913Z"
   },
   {
    "duration": 6,
    "start_time": "2024-08-03T16:57:09.292Z"
   },
   {
    "duration": 5,
    "start_time": "2024-08-03T16:57:59.026Z"
   },
   {
    "duration": 217,
    "start_time": "2024-08-03T16:58:35.653Z"
   },
   {
    "duration": 135,
    "start_time": "2024-08-03T17:00:42.471Z"
   },
   {
    "duration": 7,
    "start_time": "2024-08-03T17:01:15.343Z"
   },
   {
    "duration": 156,
    "start_time": "2024-08-03T17:03:25.275Z"
   },
   {
    "duration": 156,
    "start_time": "2024-08-03T17:03:49.381Z"
   },
   {
    "duration": 174,
    "start_time": "2024-08-03T17:04:25.590Z"
   },
   {
    "duration": 183,
    "start_time": "2024-08-03T17:04:38.418Z"
   },
   {
    "duration": 175,
    "start_time": "2024-08-03T17:04:51.610Z"
   },
   {
    "duration": 298,
    "start_time": "2024-08-03T17:05:26.068Z"
   },
   {
    "duration": 134,
    "start_time": "2024-08-03T17:07:54.887Z"
   },
   {
    "duration": 145,
    "start_time": "2024-08-03T17:08:08.284Z"
   },
   {
    "duration": 130,
    "start_time": "2024-08-03T17:08:33.630Z"
   },
   {
    "duration": 150,
    "start_time": "2024-08-03T17:09:17.620Z"
   },
   {
    "duration": 262,
    "start_time": "2024-08-03T17:10:23.977Z"
   },
   {
    "duration": 144,
    "start_time": "2024-08-03T17:10:47.162Z"
   },
   {
    "duration": 153,
    "start_time": "2024-08-03T17:12:23.060Z"
   },
   {
    "duration": 176,
    "start_time": "2024-08-03T17:12:39.921Z"
   },
   {
    "duration": 12,
    "start_time": "2024-08-03T17:13:14.733Z"
   },
   {
    "duration": 13,
    "start_time": "2024-08-03T17:14:00.418Z"
   },
   {
    "duration": 866,
    "start_time": "2024-08-03T17:14:11.662Z"
   },
   {
    "duration": 1126,
    "start_time": "2024-08-03T17:14:33.897Z"
   },
   {
    "duration": 171,
    "start_time": "2024-08-03T17:15:38.304Z"
   },
   {
    "duration": 174,
    "start_time": "2024-08-03T17:15:53.712Z"
   },
   {
    "duration": 178,
    "start_time": "2024-08-03T17:16:10.284Z"
   },
   {
    "duration": 191,
    "start_time": "2024-08-03T17:16:22.356Z"
   },
   {
    "duration": 184,
    "start_time": "2024-08-03T17:16:28.441Z"
   },
   {
    "duration": 186,
    "start_time": "2024-08-03T17:16:44.172Z"
   },
   {
    "duration": 201,
    "start_time": "2024-08-03T17:17:05.795Z"
   },
   {
    "duration": 66,
    "start_time": "2024-08-03T17:38:06.429Z"
   },
   {
    "duration": 4,
    "start_time": "2024-08-03T17:38:46.688Z"
   },
   {
    "duration": 354,
    "start_time": "2024-08-03T17:39:49.196Z"
   },
   {
    "duration": 3,
    "start_time": "2024-08-03T17:40:31.687Z"
   },
   {
    "duration": 4,
    "start_time": "2024-08-03T17:40:55.363Z"
   },
   {
    "duration": 17,
    "start_time": "2024-08-03T17:40:56.088Z"
   },
   {
    "duration": 4,
    "start_time": "2024-08-03T17:41:39.537Z"
   },
   {
    "duration": 18,
    "start_time": "2024-08-03T17:41:40.667Z"
   },
   {
    "duration": 4,
    "start_time": "2024-08-03T17:42:20.265Z"
   },
   {
    "duration": 16,
    "start_time": "2024-08-03T17:42:21.658Z"
   },
   {
    "duration": 4,
    "start_time": "2024-08-03T17:42:45.923Z"
   },
   {
    "duration": 16,
    "start_time": "2024-08-03T17:42:46.694Z"
   },
   {
    "duration": 4,
    "start_time": "2024-08-03T17:43:35.703Z"
   },
   {
    "duration": 16,
    "start_time": "2024-08-03T17:43:36.197Z"
   },
   {
    "duration": 3,
    "start_time": "2024-08-03T17:44:17.279Z"
   },
   {
    "duration": 215,
    "start_time": "2024-08-03T17:44:17.828Z"
   },
   {
    "duration": 4,
    "start_time": "2024-08-03T17:44:56.867Z"
   },
   {
    "duration": 191,
    "start_time": "2024-08-03T17:44:57.358Z"
   },
   {
    "duration": 3,
    "start_time": "2024-08-03T17:45:21.857Z"
   },
   {
    "duration": 8,
    "start_time": "2024-08-03T17:45:22.950Z"
   },
   {
    "duration": 6,
    "start_time": "2024-08-03T17:45:27.893Z"
   },
   {
    "duration": 2,
    "start_time": "2024-08-03T17:46:40.254Z"
   },
   {
    "duration": 7,
    "start_time": "2024-08-03T17:46:40.865Z"
   },
   {
    "duration": 3,
    "start_time": "2024-08-03T17:47:36.612Z"
   },
   {
    "duration": 9,
    "start_time": "2024-08-03T17:47:37.466Z"
   },
   {
    "duration": 76,
    "start_time": "2024-08-03T17:48:04.459Z"
   },
   {
    "duration": 9,
    "start_time": "2024-08-03T17:48:05.110Z"
   },
   {
    "duration": 3,
    "start_time": "2024-08-03T17:48:21.381Z"
   },
   {
    "duration": 9,
    "start_time": "2024-08-03T17:48:22.023Z"
   },
   {
    "duration": 71,
    "start_time": "2024-08-03T17:53:15.899Z"
   },
   {
    "duration": 3,
    "start_time": "2024-08-03T17:53:25.780Z"
   },
   {
    "duration": 8,
    "start_time": "2024-08-03T17:54:06.173Z"
   },
   {
    "duration": 2,
    "start_time": "2024-08-03T17:54:18.909Z"
   },
   {
    "duration": 6,
    "start_time": "2024-08-03T17:54:20.082Z"
   },
   {
    "duration": 3,
    "start_time": "2024-08-03T17:59:09.807Z"
   },
   {
    "duration": 6,
    "start_time": "2024-08-03T17:59:10.484Z"
   },
   {
    "duration": 3,
    "start_time": "2024-08-03T17:59:29.346Z"
   },
   {
    "duration": 9,
    "start_time": "2024-08-03T17:59:29.880Z"
   },
   {
    "duration": 3,
    "start_time": "2024-08-03T17:59:53.011Z"
   },
   {
    "duration": 9,
    "start_time": "2024-08-03T17:59:53.628Z"
   },
   {
    "duration": 3,
    "start_time": "2024-08-03T18:00:33.490Z"
   },
   {
    "duration": 150,
    "start_time": "2024-08-03T18:00:34.114Z"
   },
   {
    "duration": 77,
    "start_time": "2024-08-03T18:04:15.802Z"
   },
   {
    "duration": 172,
    "start_time": "2024-08-03T18:04:16.543Z"
   },
   {
    "duration": 3,
    "start_time": "2024-08-03T18:05:05.159Z"
   },
   {
    "duration": 156,
    "start_time": "2024-08-03T18:05:06.618Z"
   },
   {
    "duration": 3,
    "start_time": "2024-08-03T18:05:36.213Z"
   },
   {
    "duration": 180,
    "start_time": "2024-08-03T18:05:36.582Z"
   },
   {
    "duration": 4,
    "start_time": "2024-08-03T18:05:55.906Z"
   },
   {
    "duration": 174,
    "start_time": "2024-08-03T18:05:56.421Z"
   },
   {
    "duration": 4,
    "start_time": "2024-08-03T18:06:19.158Z"
   },
   {
    "duration": 179,
    "start_time": "2024-08-03T18:06:19.708Z"
   },
   {
    "duration": 4,
    "start_time": "2024-08-03T18:06:54.151Z"
   },
   {
    "duration": 187,
    "start_time": "2024-08-03T18:06:55.567Z"
   },
   {
    "duration": 3,
    "start_time": "2024-08-03T18:07:33.218Z"
   },
   {
    "duration": 268,
    "start_time": "2024-08-03T18:07:34.580Z"
   },
   {
    "duration": 3,
    "start_time": "2024-08-03T18:08:46.927Z"
   },
   {
    "duration": 159,
    "start_time": "2024-08-03T18:08:48.006Z"
   },
   {
    "duration": 3,
    "start_time": "2024-08-03T18:09:10.758Z"
   },
   {
    "duration": 162,
    "start_time": "2024-08-03T18:09:11.480Z"
   },
   {
    "duration": 3,
    "start_time": "2024-08-03T18:09:43.516Z"
   },
   {
    "duration": 149,
    "start_time": "2024-08-03T18:09:44.365Z"
   },
   {
    "duration": 3,
    "start_time": "2024-08-03T18:10:23.037Z"
   },
   {
    "duration": 18,
    "start_time": "2024-08-03T18:10:23.712Z"
   },
   {
    "duration": 3,
    "start_time": "2024-08-03T18:10:33.584Z"
   },
   {
    "duration": 147,
    "start_time": "2024-08-03T18:10:34.247Z"
   },
   {
    "duration": 3,
    "start_time": "2024-08-03T18:10:49.105Z"
   },
   {
    "duration": 3,
    "start_time": "2024-08-03T18:12:19.731Z"
   },
   {
    "duration": 179,
    "start_time": "2024-08-03T18:12:20.399Z"
   },
   {
    "duration": 4,
    "start_time": "2024-08-03T18:13:02.510Z"
   },
   {
    "duration": 174,
    "start_time": "2024-08-03T18:13:02.897Z"
   },
   {
    "duration": 3,
    "start_time": "2024-08-03T18:14:13.011Z"
   },
   {
    "duration": 160,
    "start_time": "2024-08-03T18:14:13.785Z"
   },
   {
    "duration": 3,
    "start_time": "2024-08-03T18:14:29.763Z"
   },
   {
    "duration": 185,
    "start_time": "2024-08-03T18:14:30.337Z"
   },
   {
    "duration": 4,
    "start_time": "2024-08-03T18:14:43.218Z"
   },
   {
    "duration": 166,
    "start_time": "2024-08-03T18:14:43.817Z"
   },
   {
    "duration": 4,
    "start_time": "2024-08-03T18:15:12.193Z"
   },
   {
    "duration": 192,
    "start_time": "2024-08-03T18:15:12.835Z"
   },
   {
    "duration": 4,
    "start_time": "2024-08-03T18:16:14.824Z"
   },
   {
    "duration": 261,
    "start_time": "2024-08-03T18:16:15.652Z"
   },
   {
    "duration": 3,
    "start_time": "2024-08-03T18:17:19.448Z"
   },
   {
    "duration": 177,
    "start_time": "2024-08-03T18:17:19.979Z"
   },
   {
    "duration": 3,
    "start_time": "2024-08-03T18:17:37.144Z"
   },
   {
    "duration": 176,
    "start_time": "2024-08-03T18:17:38.903Z"
   },
   {
    "duration": 3,
    "start_time": "2024-08-03T18:17:50.251Z"
   },
   {
    "duration": 158,
    "start_time": "2024-08-03T18:17:52.115Z"
   },
   {
    "duration": 66,
    "start_time": "2024-08-03T18:25:25.020Z"
   },
   {
    "duration": 4,
    "start_time": "2024-08-03T18:25:34.286Z"
   },
   {
    "duration": 170,
    "start_time": "2024-08-03T18:25:35.224Z"
   },
   {
    "duration": 3,
    "start_time": "2024-08-03T18:26:29.833Z"
   },
   {
    "duration": 158,
    "start_time": "2024-08-03T18:26:30.924Z"
   },
   {
    "duration": 4,
    "start_time": "2024-08-03T18:27:21.695Z"
   },
   {
    "duration": 165,
    "start_time": "2024-08-03T18:27:22.582Z"
   },
   {
    "duration": 112,
    "start_time": "2024-08-03T18:32:53.238Z"
   },
   {
    "duration": 107,
    "start_time": "2024-08-03T18:34:07.247Z"
   },
   {
    "duration": 186,
    "start_time": "2024-08-03T18:36:21.969Z"
   },
   {
    "duration": 4,
    "start_time": "2024-08-03T18:37:28.278Z"
   },
   {
    "duration": 176,
    "start_time": "2024-08-03T18:37:28.955Z"
   },
   {
    "duration": 110,
    "start_time": "2024-08-03T18:37:31.020Z"
   },
   {
    "duration": 199,
    "start_time": "2024-08-03T18:37:33.666Z"
   },
   {
    "duration": 248,
    "start_time": "2024-08-03T18:40:18.144Z"
   },
   {
    "duration": 164,
    "start_time": "2024-08-03T18:41:55.151Z"
   },
   {
    "duration": 102,
    "start_time": "2024-08-03T18:44:13.494Z"
   },
   {
    "duration": 172,
    "start_time": "2024-08-03T18:45:37.958Z"
   },
   {
    "duration": 109,
    "start_time": "2024-08-03T18:46:09.452Z"
   },
   {
    "duration": 114,
    "start_time": "2024-08-03T18:46:47.544Z"
   },
   {
    "duration": 21,
    "start_time": "2024-08-03T18:51:35.657Z"
   },
   {
    "duration": 9,
    "start_time": "2024-08-03T18:51:54.538Z"
   },
   {
    "duration": 4,
    "start_time": "2024-08-03T18:52:17.350Z"
   },
   {
    "duration": 8,
    "start_time": "2024-08-03T18:52:34.949Z"
   },
   {
    "duration": 7,
    "start_time": "2024-08-03T18:53:39.476Z"
   },
   {
    "duration": 183,
    "start_time": "2024-08-03T18:54:43.493Z"
   },
   {
    "duration": 7,
    "start_time": "2024-08-03T18:58:33.215Z"
   },
   {
    "duration": 8,
    "start_time": "2024-08-03T18:59:37.548Z"
   },
   {
    "duration": 165,
    "start_time": "2024-08-03T19:00:47.924Z"
   },
   {
    "duration": 117,
    "start_time": "2024-08-03T19:18:31.905Z"
   },
   {
    "duration": 156,
    "start_time": "2024-08-03T19:19:25.382Z"
   },
   {
    "duration": 99,
    "start_time": "2024-08-03T19:20:08.391Z"
   },
   {
    "duration": 1063,
    "start_time": "2024-08-03T19:20:50.851Z"
   },
   {
    "duration": 185,
    "start_time": "2024-08-03T19:20:59.234Z"
   },
   {
    "duration": 136,
    "start_time": "2024-08-03T19:21:38.464Z"
   },
   {
    "duration": 21,
    "start_time": "2024-08-03T19:25:38.173Z"
   },
   {
    "duration": 167,
    "start_time": "2024-08-03T19:26:03.366Z"
   },
   {
    "duration": 103,
    "start_time": "2024-08-03T19:28:36.655Z"
   },
   {
    "duration": 11,
    "start_time": "2024-08-03T19:29:48.025Z"
   },
   {
    "duration": 13,
    "start_time": "2024-08-03T19:29:56.555Z"
   },
   {
    "duration": 10,
    "start_time": "2024-08-03T19:30:07.489Z"
   },
   {
    "duration": 9,
    "start_time": "2024-08-03T19:32:40.397Z"
   },
   {
    "duration": 6,
    "start_time": "2024-08-03T19:33:42.086Z"
   },
   {
    "duration": 8,
    "start_time": "2024-08-03T19:35:35.952Z"
   },
   {
    "duration": 7,
    "start_time": "2024-08-03T19:37:22.134Z"
   },
   {
    "duration": 30,
    "start_time": "2024-08-03T19:37:30.706Z"
   },
   {
    "duration": 5,
    "start_time": "2024-08-03T19:42:58.250Z"
   },
   {
    "duration": 5,
    "start_time": "2024-08-03T19:43:09.420Z"
   },
   {
    "duration": 3,
    "start_time": "2024-08-03T19:43:22.362Z"
   },
   {
    "duration": 12,
    "start_time": "2024-08-03T19:43:31.923Z"
   },
   {
    "duration": 9,
    "start_time": "2024-08-03T19:44:02.534Z"
   },
   {
    "duration": 19,
    "start_time": "2024-08-03T19:49:15.531Z"
   },
   {
    "duration": 7,
    "start_time": "2024-08-03T19:51:40.470Z"
   },
   {
    "duration": 10,
    "start_time": "2024-08-03T19:51:51.375Z"
   },
   {
    "duration": 7,
    "start_time": "2024-08-03T19:53:16.081Z"
   },
   {
    "duration": 8,
    "start_time": "2024-08-03T19:53:16.786Z"
   },
   {
    "duration": 11,
    "start_time": "2024-08-03T19:53:54.818Z"
   },
   {
    "duration": 11,
    "start_time": "2024-08-03T19:54:11.175Z"
   },
   {
    "duration": 9,
    "start_time": "2024-08-03T19:54:17.473Z"
   },
   {
    "duration": 15,
    "start_time": "2024-08-03T19:54:33.301Z"
   },
   {
    "duration": 11,
    "start_time": "2024-08-03T19:54:34.548Z"
   },
   {
    "duration": 11,
    "start_time": "2024-08-03T19:56:28.867Z"
   },
   {
    "duration": 10,
    "start_time": "2024-08-03T19:56:47.748Z"
   },
   {
    "duration": 8,
    "start_time": "2024-08-03T19:57:08.137Z"
   },
   {
    "duration": 9,
    "start_time": "2024-08-03T19:57:09.481Z"
   },
   {
    "duration": 4,
    "start_time": "2024-08-03T20:00:35.895Z"
   },
   {
    "duration": 11,
    "start_time": "2024-08-03T20:00:36.762Z"
   },
   {
    "duration": 203,
    "start_time": "2024-08-03T20:01:53.650Z"
   },
   {
    "duration": 300,
    "start_time": "2024-08-03T20:02:16.055Z"
   },
   {
    "duration": 167,
    "start_time": "2024-08-03T20:04:01.803Z"
   },
   {
    "duration": 125,
    "start_time": "2024-08-03T20:04:55.775Z"
   },
   {
    "duration": 927,
    "start_time": "2024-08-03T20:06:53.175Z"
   },
   {
    "duration": 186,
    "start_time": "2024-08-03T20:07:23.980Z"
   },
   {
    "duration": 122,
    "start_time": "2024-08-03T20:08:11.345Z"
   },
   {
    "duration": 130,
    "start_time": "2024-08-03T20:08:25.846Z"
   },
   {
    "duration": 147,
    "start_time": "2024-08-03T20:08:59.628Z"
   },
   {
    "duration": 152,
    "start_time": "2024-08-03T20:09:40.347Z"
   },
   {
    "duration": 195,
    "start_time": "2024-08-03T20:10:29.165Z"
   },
   {
    "duration": 127,
    "start_time": "2024-08-03T20:11:32.637Z"
   },
   {
    "duration": 1636,
    "start_time": "2024-08-27T12:44:51.481Z"
   },
   {
    "duration": 395,
    "start_time": "2024-08-27T12:44:53.118Z"
   },
   {
    "duration": 16,
    "start_time": "2024-08-27T12:44:53.515Z"
   },
   {
    "duration": 60,
    "start_time": "2024-08-27T12:44:53.533Z"
   },
   {
    "duration": 9,
    "start_time": "2024-08-27T12:44:53.595Z"
   },
   {
    "duration": 8,
    "start_time": "2024-08-27T12:44:53.606Z"
   },
   {
    "duration": 13,
    "start_time": "2024-08-27T12:44:53.616Z"
   },
   {
    "duration": 5,
    "start_time": "2024-08-27T12:44:53.631Z"
   },
   {
    "duration": 26,
    "start_time": "2024-08-27T12:44:53.637Z"
   },
   {
    "duration": 5,
    "start_time": "2024-08-27T12:44:53.665Z"
   },
   {
    "duration": 4,
    "start_time": "2024-08-27T12:44:53.671Z"
   },
   {
    "duration": 7,
    "start_time": "2024-08-27T12:44:53.677Z"
   },
   {
    "duration": 7,
    "start_time": "2024-08-27T12:44:53.685Z"
   },
   {
    "duration": 34,
    "start_time": "2024-08-27T12:44:53.694Z"
   },
   {
    "duration": 20,
    "start_time": "2024-08-27T12:44:53.730Z"
   },
   {
    "duration": 7,
    "start_time": "2024-08-27T12:44:53.752Z"
   },
   {
    "duration": 18,
    "start_time": "2024-08-27T12:44:53.760Z"
   },
   {
    "duration": 9,
    "start_time": "2024-08-27T12:44:53.779Z"
   },
   {
    "duration": 7,
    "start_time": "2024-08-27T12:44:53.789Z"
   },
   {
    "duration": 4,
    "start_time": "2024-08-27T12:44:53.798Z"
   },
   {
    "duration": 8,
    "start_time": "2024-08-27T12:44:53.803Z"
   },
   {
    "duration": 9,
    "start_time": "2024-08-27T12:44:53.813Z"
   },
   {
    "duration": 5,
    "start_time": "2024-08-27T12:44:53.823Z"
   },
   {
    "duration": 5,
    "start_time": "2024-08-27T12:44:53.851Z"
   },
   {
    "duration": 14,
    "start_time": "2024-08-27T12:44:53.857Z"
   },
   {
    "duration": 13,
    "start_time": "2024-08-27T12:44:53.872Z"
   },
   {
    "duration": 12,
    "start_time": "2024-08-27T12:44:53.888Z"
   },
   {
    "duration": 20,
    "start_time": "2024-08-27T12:44:53.907Z"
   },
   {
    "duration": 8,
    "start_time": "2024-08-27T12:44:53.929Z"
   },
   {
    "duration": 13,
    "start_time": "2024-08-27T12:44:53.953Z"
   },
   {
    "duration": 31,
    "start_time": "2024-08-27T12:44:53.968Z"
   },
   {
    "duration": 156,
    "start_time": "2024-08-27T12:44:54.001Z"
   },
   {
    "duration": 120,
    "start_time": "2024-08-27T12:44:54.159Z"
   },
   {
    "duration": 5,
    "start_time": "2024-08-27T12:44:54.280Z"
   },
   {
    "duration": 142,
    "start_time": "2024-08-27T12:44:54.287Z"
   },
   {
    "duration": 5,
    "start_time": "2024-08-27T12:44:54.431Z"
   },
   {
    "duration": 164,
    "start_time": "2024-08-27T12:44:54.437Z"
   },
   {
    "duration": 280,
    "start_time": "2024-08-27T12:44:54.602Z"
   },
   {
    "duration": 3,
    "start_time": "2024-08-27T12:44:54.884Z"
   },
   {
    "duration": 187,
    "start_time": "2024-08-27T12:44:54.889Z"
   },
   {
    "duration": 106,
    "start_time": "2024-08-27T12:44:55.078Z"
   },
   {
    "duration": 178,
    "start_time": "2024-08-27T12:44:55.186Z"
   },
   {
    "duration": 164,
    "start_time": "2024-08-27T12:44:55.366Z"
   },
   {
    "duration": 101,
    "start_time": "2024-08-27T12:44:55.532Z"
   },
   {
    "duration": 173,
    "start_time": "2024-08-27T12:44:55.635Z"
   },
   {
    "duration": 121,
    "start_time": "2024-08-27T12:44:55.810Z"
   },
   {
    "duration": 5,
    "start_time": "2024-08-27T12:44:55.932Z"
   },
   {
    "duration": 189,
    "start_time": "2024-08-27T12:44:55.939Z"
   },
   {
    "duration": 6,
    "start_time": "2024-08-27T12:44:56.129Z"
   },
   {
    "duration": 176,
    "start_time": "2024-08-27T12:44:56.137Z"
   },
   {
    "duration": 112,
    "start_time": "2024-08-27T12:44:56.314Z"
   },
   {
    "duration": 256,
    "start_time": "2024-08-27T12:44:56.428Z"
   },
   {
    "duration": 114,
    "start_time": "2024-08-27T12:44:56.686Z"
   },
   {
    "duration": 187,
    "start_time": "2024-08-27T12:44:56.801Z"
   },
   {
    "duration": 125,
    "start_time": "2024-08-27T12:44:56.989Z"
   },
   {
    "duration": 169,
    "start_time": "2024-08-27T12:44:57.115Z"
   },
   {
    "duration": 109,
    "start_time": "2024-08-27T12:44:57.286Z"
   },
   {
    "duration": 8,
    "start_time": "2024-08-27T12:44:57.396Z"
   },
   {
    "duration": 27,
    "start_time": "2024-08-27T12:44:57.406Z"
   },
   {
    "duration": 11,
    "start_time": "2024-08-27T12:44:57.434Z"
   },
   {
    "duration": 18,
    "start_time": "2024-08-27T12:44:57.447Z"
   },
   {
    "duration": 103,
    "start_time": "2024-08-27T12:44:57.467Z"
   },
   {
    "duration": 180,
    "start_time": "2024-08-27T12:44:57.572Z"
   },
   {
    "duration": 122,
    "start_time": "2024-08-27T12:44:57.753Z"
   },
   {
    "duration": 142,
    "start_time": "2024-08-27T12:44:57.876Z"
   },
   {
    "duration": 175,
    "start_time": "2024-08-27T12:44:58.019Z"
   },
   {
    "duration": 121,
    "start_time": "2024-08-27T12:44:58.196Z"
   },
   {
    "duration": 134,
    "start_time": "2024-08-27T12:44:58.319Z"
   },
   {
    "duration": 269,
    "start_time": "2024-08-27T12:44:58.455Z"
   },
   {
    "duration": 108,
    "start_time": "2024-08-27T12:44:58.726Z"
   },
   {
    "duration": 1611,
    "start_time": "2024-09-02T17:02:28.524Z"
   },
   {
    "duration": 437,
    "start_time": "2024-09-02T17:02:30.137Z"
   },
   {
    "duration": 17,
    "start_time": "2024-09-02T17:02:30.575Z"
   },
   {
    "duration": 10,
    "start_time": "2024-09-02T17:02:30.594Z"
   },
   {
    "duration": 35,
    "start_time": "2024-09-02T17:02:30.606Z"
   },
   {
    "duration": 17,
    "start_time": "2024-09-02T17:02:30.642Z"
   },
   {
    "duration": 12,
    "start_time": "2024-09-02T17:02:30.661Z"
   },
   {
    "duration": 3,
    "start_time": "2024-09-02T17:02:30.674Z"
   },
   {
    "duration": 13,
    "start_time": "2024-09-02T17:02:30.679Z"
   },
   {
    "duration": 5,
    "start_time": "2024-09-02T17:02:30.694Z"
   },
   {
    "duration": 10,
    "start_time": "2024-09-02T17:02:30.700Z"
   },
   {
    "duration": 13,
    "start_time": "2024-09-02T17:02:30.712Z"
   },
   {
    "duration": 9,
    "start_time": "2024-09-02T17:02:30.727Z"
   },
   {
    "duration": 31,
    "start_time": "2024-09-02T17:02:30.752Z"
   },
   {
    "duration": 40,
    "start_time": "2024-09-02T17:02:30.784Z"
   },
   {
    "duration": 20,
    "start_time": "2024-09-02T17:02:30.825Z"
   },
   {
    "duration": 22,
    "start_time": "2024-09-02T17:02:30.847Z"
   },
   {
    "duration": 6,
    "start_time": "2024-09-02T17:02:30.870Z"
   },
   {
    "duration": 8,
    "start_time": "2024-09-02T17:02:30.877Z"
   },
   {
    "duration": 5,
    "start_time": "2024-09-02T17:02:30.887Z"
   },
   {
    "duration": 6,
    "start_time": "2024-09-02T17:02:30.894Z"
   },
   {
    "duration": 11,
    "start_time": "2024-09-02T17:02:30.901Z"
   },
   {
    "duration": 11,
    "start_time": "2024-09-02T17:02:30.913Z"
   },
   {
    "duration": 27,
    "start_time": "2024-09-02T17:02:30.925Z"
   },
   {
    "duration": 17,
    "start_time": "2024-09-02T17:02:30.953Z"
   },
   {
    "duration": 17,
    "start_time": "2024-09-02T17:02:30.971Z"
   },
   {
    "duration": 5,
    "start_time": "2024-09-02T17:02:30.990Z"
   },
   {
    "duration": 11,
    "start_time": "2024-09-02T17:02:30.999Z"
   },
   {
    "duration": 17,
    "start_time": "2024-09-02T17:02:31.012Z"
   },
   {
    "duration": 8,
    "start_time": "2024-09-02T17:02:31.030Z"
   },
   {
    "duration": 22,
    "start_time": "2024-09-02T17:02:31.039Z"
   },
   {
    "duration": 162,
    "start_time": "2024-09-02T17:02:31.062Z"
   },
   {
    "duration": 128,
    "start_time": "2024-09-02T17:02:31.226Z"
   },
   {
    "duration": 5,
    "start_time": "2024-09-02T17:02:31.356Z"
   },
   {
    "duration": 164,
    "start_time": "2024-09-02T17:02:31.362Z"
   },
   {
    "duration": 5,
    "start_time": "2024-09-02T17:02:31.528Z"
   },
   {
    "duration": 175,
    "start_time": "2024-09-02T17:02:31.534Z"
   },
   {
    "duration": 282,
    "start_time": "2024-09-02T17:02:31.710Z"
   },
   {
    "duration": 3,
    "start_time": "2024-09-02T17:02:31.994Z"
   },
   {
    "duration": 195,
    "start_time": "2024-09-02T17:02:31.998Z"
   },
   {
    "duration": 113,
    "start_time": "2024-09-02T17:02:32.195Z"
   },
   {
    "duration": 206,
    "start_time": "2024-09-02T17:02:32.310Z"
   },
   {
    "duration": 176,
    "start_time": "2024-09-02T17:02:32.518Z"
   },
   {
    "duration": 119,
    "start_time": "2024-09-02T17:02:32.696Z"
   },
   {
    "duration": 122,
    "start_time": "2024-09-02T17:02:32.818Z"
   },
   {
    "duration": 0,
    "start_time": "2024-09-02T17:02:32.942Z"
   },
   {
    "duration": 0,
    "start_time": "2024-09-02T17:02:32.943Z"
   },
   {
    "duration": 0,
    "start_time": "2024-09-02T17:02:32.952Z"
   },
   {
    "duration": 0,
    "start_time": "2024-09-02T17:02:32.953Z"
   },
   {
    "duration": 0,
    "start_time": "2024-09-02T17:02:32.955Z"
   },
   {
    "duration": 0,
    "start_time": "2024-09-02T17:02:32.956Z"
   },
   {
    "duration": 0,
    "start_time": "2024-09-02T17:02:32.957Z"
   },
   {
    "duration": 0,
    "start_time": "2024-09-02T17:02:32.958Z"
   },
   {
    "duration": 0,
    "start_time": "2024-09-02T17:02:32.959Z"
   },
   {
    "duration": 0,
    "start_time": "2024-09-02T17:02:32.960Z"
   },
   {
    "duration": 0,
    "start_time": "2024-09-02T17:02:32.961Z"
   },
   {
    "duration": 0,
    "start_time": "2024-09-02T17:02:32.962Z"
   },
   {
    "duration": 0,
    "start_time": "2024-09-02T17:02:32.963Z"
   },
   {
    "duration": 0,
    "start_time": "2024-09-02T17:02:32.964Z"
   },
   {
    "duration": 0,
    "start_time": "2024-09-02T17:02:32.965Z"
   },
   {
    "duration": 0,
    "start_time": "2024-09-02T17:02:32.966Z"
   },
   {
    "duration": 0,
    "start_time": "2024-09-02T17:02:32.967Z"
   },
   {
    "duration": 0,
    "start_time": "2024-09-02T17:02:32.968Z"
   },
   {
    "duration": 0,
    "start_time": "2024-09-02T17:02:32.969Z"
   },
   {
    "duration": 0,
    "start_time": "2024-09-02T17:02:32.970Z"
   },
   {
    "duration": 0,
    "start_time": "2024-09-02T17:02:32.971Z"
   },
   {
    "duration": 0,
    "start_time": "2024-09-02T17:02:32.973Z"
   },
   {
    "duration": 0,
    "start_time": "2024-09-02T17:02:32.974Z"
   },
   {
    "duration": 0,
    "start_time": "2024-09-02T17:02:32.974Z"
   },
   {
    "duration": 0,
    "start_time": "2024-09-02T17:02:32.976Z"
   },
   {
    "duration": 167,
    "start_time": "2024-09-02T17:03:24.002Z"
   },
   {
    "duration": 1468,
    "start_time": "2024-09-02T17:05:15.142Z"
   },
   {
    "duration": 104,
    "start_time": "2024-09-02T17:05:16.612Z"
   },
   {
    "duration": 16,
    "start_time": "2024-09-02T17:05:16.718Z"
   },
   {
    "duration": 8,
    "start_time": "2024-09-02T17:05:16.736Z"
   },
   {
    "duration": 71,
    "start_time": "2024-09-02T17:05:16.745Z"
   },
   {
    "duration": 9,
    "start_time": "2024-09-02T17:05:16.818Z"
   },
   {
    "duration": 13,
    "start_time": "2024-09-02T17:05:16.829Z"
   },
   {
    "duration": 4,
    "start_time": "2024-09-02T17:05:16.843Z"
   },
   {
    "duration": 18,
    "start_time": "2024-09-02T17:05:16.848Z"
   },
   {
    "duration": 4,
    "start_time": "2024-09-02T17:05:16.869Z"
   },
   {
    "duration": 4,
    "start_time": "2024-09-02T17:05:16.874Z"
   },
   {
    "duration": 5,
    "start_time": "2024-09-02T17:05:16.879Z"
   },
   {
    "duration": 13,
    "start_time": "2024-09-02T17:05:16.885Z"
   },
   {
    "duration": 6,
    "start_time": "2024-09-02T17:05:16.900Z"
   },
   {
    "duration": 13,
    "start_time": "2024-09-02T17:05:16.907Z"
   },
   {
    "duration": 5,
    "start_time": "2024-09-02T17:05:16.921Z"
   },
   {
    "duration": 7,
    "start_time": "2024-09-02T17:05:16.951Z"
   },
   {
    "duration": 10,
    "start_time": "2024-09-02T17:05:16.960Z"
   },
   {
    "duration": 8,
    "start_time": "2024-09-02T17:05:16.971Z"
   },
   {
    "duration": 4,
    "start_time": "2024-09-02T17:05:16.981Z"
   },
   {
    "duration": 5,
    "start_time": "2024-09-02T17:05:16.987Z"
   },
   {
    "duration": 11,
    "start_time": "2024-09-02T17:05:16.994Z"
   },
   {
    "duration": 6,
    "start_time": "2024-09-02T17:05:17.006Z"
   },
   {
    "duration": 40,
    "start_time": "2024-09-02T17:05:17.013Z"
   },
   {
    "duration": 5,
    "start_time": "2024-09-02T17:05:17.054Z"
   },
   {
    "duration": 7,
    "start_time": "2024-09-02T17:05:17.061Z"
   },
   {
    "duration": 20,
    "start_time": "2024-09-02T17:05:17.069Z"
   },
   {
    "duration": 11,
    "start_time": "2024-09-02T17:05:17.093Z"
   },
   {
    "duration": 6,
    "start_time": "2024-09-02T17:05:17.105Z"
   },
   {
    "duration": 5,
    "start_time": "2024-09-02T17:05:17.113Z"
   },
   {
    "duration": 39,
    "start_time": "2024-09-02T17:05:17.119Z"
   },
   {
    "duration": 161,
    "start_time": "2024-09-02T17:05:17.160Z"
   },
   {
    "duration": 129,
    "start_time": "2024-09-02T17:05:17.323Z"
   },
   {
    "duration": 6,
    "start_time": "2024-09-02T17:05:17.453Z"
   },
   {
    "duration": 140,
    "start_time": "2024-09-02T17:05:17.460Z"
   },
   {
    "duration": 6,
    "start_time": "2024-09-02T17:05:17.601Z"
   },
   {
    "duration": 166,
    "start_time": "2024-09-02T17:05:17.608Z"
   },
   {
    "duration": 276,
    "start_time": "2024-09-02T17:05:17.776Z"
   },
   {
    "duration": 3,
    "start_time": "2024-09-02T17:05:18.054Z"
   },
   {
    "duration": 184,
    "start_time": "2024-09-02T17:05:18.058Z"
   },
   {
    "duration": 104,
    "start_time": "2024-09-02T17:05:18.251Z"
   },
   {
    "duration": 200,
    "start_time": "2024-09-02T17:05:18.357Z"
   },
   {
    "duration": 168,
    "start_time": "2024-09-02T17:05:18.558Z"
   },
   {
    "duration": 106,
    "start_time": "2024-09-02T17:05:18.728Z"
   },
   {
    "duration": 173,
    "start_time": "2024-09-02T17:05:18.835Z"
   },
   {
    "duration": 117,
    "start_time": "2024-09-02T17:05:19.009Z"
   },
   {
    "duration": 5,
    "start_time": "2024-09-02T17:05:19.128Z"
   },
   {
    "duration": 182,
    "start_time": "2024-09-02T17:05:19.135Z"
   },
   {
    "duration": 7,
    "start_time": "2024-09-02T17:05:19.319Z"
   },
   {
    "duration": 206,
    "start_time": "2024-09-02T17:05:19.328Z"
   },
   {
    "duration": 120,
    "start_time": "2024-09-02T17:05:19.536Z"
   },
   {
    "duration": 251,
    "start_time": "2024-09-02T17:05:19.658Z"
   },
   {
    "duration": 108,
    "start_time": "2024-09-02T17:05:19.911Z"
   },
   {
    "duration": 180,
    "start_time": "2024-09-02T17:05:20.021Z"
   },
   {
    "duration": 116,
    "start_time": "2024-09-02T17:05:20.203Z"
   },
   {
    "duration": 175,
    "start_time": "2024-09-02T17:05:20.321Z"
   },
   {
    "duration": 113,
    "start_time": "2024-09-02T17:05:20.497Z"
   },
   {
    "duration": 9,
    "start_time": "2024-09-02T17:05:20.611Z"
   },
   {
    "duration": 9,
    "start_time": "2024-09-02T17:05:20.621Z"
   },
   {
    "duration": 24,
    "start_time": "2024-09-02T17:05:20.632Z"
   },
   {
    "duration": 6,
    "start_time": "2024-09-02T17:05:20.657Z"
   },
   {
    "duration": 9,
    "start_time": "2024-09-02T17:05:20.665Z"
   },
   {
    "duration": 198,
    "start_time": "2024-09-02T17:05:20.676Z"
   },
   {
    "duration": 130,
    "start_time": "2024-09-02T17:05:20.875Z"
   },
   {
    "duration": 142,
    "start_time": "2024-09-02T17:05:21.007Z"
   },
   {
    "duration": 178,
    "start_time": "2024-09-02T17:05:21.152Z"
   },
   {
    "duration": 129,
    "start_time": "2024-09-02T17:05:21.332Z"
   },
   {
    "duration": 136,
    "start_time": "2024-09-02T17:05:21.463Z"
   },
   {
    "duration": 283,
    "start_time": "2024-09-02T17:05:21.601Z"
   },
   {
    "duration": 111,
    "start_time": "2024-09-02T17:05:21.886Z"
   },
   {
    "duration": 8,
    "start_time": "2024-09-02T17:12:01.064Z"
   },
   {
    "duration": 112,
    "start_time": "2024-09-02T17:39:57.294Z"
   },
   {
    "duration": 12,
    "start_time": "2024-09-02T17:40:07.713Z"
   },
   {
    "duration": 9,
    "start_time": "2024-09-02T17:40:25.605Z"
   },
   {
    "duration": 10,
    "start_time": "2024-09-02T17:40:37.467Z"
   },
   {
    "duration": 8,
    "start_time": "2024-09-02T17:40:50.735Z"
   },
   {
    "duration": 6,
    "start_time": "2024-09-02T17:41:08.733Z"
   },
   {
    "duration": 13,
    "start_time": "2024-09-02T17:41:20.976Z"
   },
   {
    "duration": 9,
    "start_time": "2024-09-02T17:43:12.489Z"
   },
   {
    "duration": 10,
    "start_time": "2024-09-02T17:43:21.702Z"
   },
   {
    "duration": 5,
    "start_time": "2024-09-02T17:44:15.872Z"
   },
   {
    "duration": 5,
    "start_time": "2024-09-02T17:44:30.498Z"
   },
   {
    "duration": 10,
    "start_time": "2024-09-02T17:44:56.364Z"
   },
   {
    "duration": 11,
    "start_time": "2024-09-02T17:45:07.552Z"
   },
   {
    "duration": 11,
    "start_time": "2024-09-02T17:45:30.450Z"
   },
   {
    "duration": 9,
    "start_time": "2024-09-02T17:48:46.551Z"
   },
   {
    "duration": 8,
    "start_time": "2024-09-02T17:54:35.508Z"
   },
   {
    "duration": 458,
    "start_time": "2024-09-02T17:55:02.176Z"
   },
   {
    "duration": 4,
    "start_time": "2024-09-02T18:01:01.941Z"
   },
   {
    "duration": 14,
    "start_time": "2024-09-02T18:01:11.032Z"
   },
   {
    "duration": 5,
    "start_time": "2024-09-02T18:09:21.148Z"
   },
   {
    "duration": 11,
    "start_time": "2024-09-02T18:09:41.865Z"
   },
   {
    "duration": 11,
    "start_time": "2024-09-02T18:09:58.629Z"
   },
   {
    "duration": 19,
    "start_time": "2024-09-02T18:11:03.887Z"
   },
   {
    "duration": 5,
    "start_time": "2024-09-02T18:11:22.920Z"
   },
   {
    "duration": 5,
    "start_time": "2024-09-02T18:12:05.898Z"
   },
   {
    "duration": 1694,
    "start_time": "2024-09-04T14:09:12.752Z"
   },
   {
    "duration": 395,
    "start_time": "2024-09-04T14:09:14.448Z"
   },
   {
    "duration": 18,
    "start_time": "2024-09-04T14:09:14.844Z"
   },
   {
    "duration": 8,
    "start_time": "2024-09-04T14:09:14.864Z"
   },
   {
    "duration": 9,
    "start_time": "2024-09-04T14:09:14.874Z"
   },
   {
    "duration": 8,
    "start_time": "2024-09-04T14:09:14.884Z"
   },
   {
    "duration": 15,
    "start_time": "2024-09-04T14:09:14.894Z"
   },
   {
    "duration": 17,
    "start_time": "2024-09-04T14:09:14.911Z"
   },
   {
    "duration": 28,
    "start_time": "2024-09-04T14:09:14.930Z"
   },
   {
    "duration": 13,
    "start_time": "2024-09-04T14:09:14.960Z"
   },
   {
    "duration": 5,
    "start_time": "2024-09-04T14:09:14.974Z"
   },
   {
    "duration": 6,
    "start_time": "2024-09-04T14:09:14.981Z"
   },
   {
    "duration": 7,
    "start_time": "2024-09-04T14:09:14.988Z"
   },
   {
    "duration": 6,
    "start_time": "2024-09-04T14:09:14.997Z"
   },
   {
    "duration": 11,
    "start_time": "2024-09-04T14:09:15.005Z"
   },
   {
    "duration": 58,
    "start_time": "2024-09-04T14:09:15.017Z"
   },
   {
    "duration": 18,
    "start_time": "2024-09-04T14:09:15.076Z"
   },
   {
    "duration": 92,
    "start_time": "2024-09-04T14:09:15.095Z"
   },
   {
    "duration": 47,
    "start_time": "2024-09-04T14:09:15.188Z"
   },
   {
    "duration": 68,
    "start_time": "2024-09-04T14:09:15.237Z"
   },
   {
    "duration": 17,
    "start_time": "2024-09-04T14:09:15.306Z"
   },
   {
    "duration": 28,
    "start_time": "2024-09-04T14:09:15.324Z"
   },
   {
    "duration": 32,
    "start_time": "2024-09-04T14:09:15.354Z"
   },
   {
    "duration": 51,
    "start_time": "2024-09-04T14:09:15.388Z"
   },
   {
    "duration": 41,
    "start_time": "2024-09-04T14:09:15.440Z"
   },
   {
    "duration": 30,
    "start_time": "2024-09-04T14:09:15.483Z"
   },
   {
    "duration": 17,
    "start_time": "2024-09-04T14:09:15.515Z"
   },
   {
    "duration": 21,
    "start_time": "2024-09-04T14:09:15.536Z"
   },
   {
    "duration": 154,
    "start_time": "2024-09-04T14:09:15.558Z"
   },
   {
    "duration": 140,
    "start_time": "2024-09-04T14:09:15.713Z"
   },
   {
    "duration": 5,
    "start_time": "2024-09-04T14:09:15.855Z"
   },
   {
    "duration": 150,
    "start_time": "2024-09-04T14:09:15.862Z"
   },
   {
    "duration": 6,
    "start_time": "2024-09-04T14:09:16.013Z"
   },
   {
    "duration": 175,
    "start_time": "2024-09-04T14:09:16.020Z"
   },
   {
    "duration": 273,
    "start_time": "2024-09-04T14:09:16.197Z"
   },
   {
    "duration": 4,
    "start_time": "2024-09-04T14:09:16.472Z"
   },
   {
    "duration": 193,
    "start_time": "2024-09-04T14:09:16.477Z"
   },
   {
    "duration": 117,
    "start_time": "2024-09-04T14:09:16.671Z"
   },
   {
    "duration": 191,
    "start_time": "2024-09-04T14:09:16.790Z"
   },
   {
    "duration": 173,
    "start_time": "2024-09-04T14:09:16.982Z"
   },
   {
    "duration": 104,
    "start_time": "2024-09-04T14:09:17.156Z"
   },
   {
    "duration": 176,
    "start_time": "2024-09-04T14:09:17.261Z"
   },
   {
    "duration": 119,
    "start_time": "2024-09-04T14:09:17.438Z"
   },
   {
    "duration": 5,
    "start_time": "2024-09-04T14:09:17.558Z"
   },
   {
    "duration": 178,
    "start_time": "2024-09-04T14:09:17.565Z"
   },
   {
    "duration": 11,
    "start_time": "2024-09-04T14:09:17.744Z"
   },
   {
    "duration": 216,
    "start_time": "2024-09-04T14:09:17.757Z"
   },
   {
    "duration": 116,
    "start_time": "2024-09-04T14:09:17.975Z"
   },
   {
    "duration": 261,
    "start_time": "2024-09-04T14:09:18.092Z"
   },
   {
    "duration": 101,
    "start_time": "2024-09-04T14:09:18.355Z"
   },
   {
    "duration": 192,
    "start_time": "2024-09-04T14:09:18.458Z"
   },
   {
    "duration": 124,
    "start_time": "2024-09-04T14:09:18.651Z"
   },
   {
    "duration": 176,
    "start_time": "2024-09-04T14:09:18.777Z"
   },
   {
    "duration": 113,
    "start_time": "2024-09-04T14:09:18.955Z"
   },
   {
    "duration": 8,
    "start_time": "2024-09-04T14:09:19.070Z"
   },
   {
    "duration": 9,
    "start_time": "2024-09-04T14:09:19.079Z"
   },
   {
    "duration": 10,
    "start_time": "2024-09-04T14:09:19.090Z"
   },
   {
    "duration": 5,
    "start_time": "2024-09-04T14:09:19.101Z"
   },
   {
    "duration": 11,
    "start_time": "2024-09-04T14:09:19.107Z"
   },
   {
    "duration": 210,
    "start_time": "2024-09-04T14:09:19.119Z"
   },
   {
    "duration": 131,
    "start_time": "2024-09-04T14:09:19.330Z"
   },
   {
    "duration": 157,
    "start_time": "2024-09-04T14:09:19.463Z"
   },
   {
    "duration": 174,
    "start_time": "2024-09-04T14:09:19.621Z"
   },
   {
    "duration": 129,
    "start_time": "2024-09-04T14:09:19.797Z"
   },
   {
    "duration": 139,
    "start_time": "2024-09-04T14:09:19.927Z"
   },
   {
    "duration": 292,
    "start_time": "2024-09-04T14:09:20.068Z"
   },
   {
    "duration": 121,
    "start_time": "2024-09-04T14:09:20.362Z"
   },
   {
    "duration": 11,
    "start_time": "2024-09-04T14:09:20.484Z"
   },
   {
    "duration": 18,
    "start_time": "2024-09-04T14:09:20.496Z"
   },
   {
    "duration": 9,
    "start_time": "2024-09-04T14:09:20.515Z"
   },
   {
    "duration": 13,
    "start_time": "2024-09-04T14:09:20.525Z"
   },
   {
    "duration": 23,
    "start_time": "2024-09-04T14:09:20.540Z"
   },
   {
    "duration": 14,
    "start_time": "2024-09-04T14:09:20.564Z"
   },
   {
    "duration": 19,
    "start_time": "2024-09-04T14:09:20.579Z"
   },
   {
    "duration": 9,
    "start_time": "2024-09-04T14:09:20.599Z"
   },
   {
    "duration": 12,
    "start_time": "2024-09-04T14:09:20.609Z"
   },
   {
    "duration": 112,
    "start_time": "2024-09-04T14:34:02.721Z"
   },
   {
    "duration": 8,
    "start_time": "2024-09-04T14:34:11.247Z"
   },
   {
    "duration": 9,
    "start_time": "2024-09-04T14:34:42.954Z"
   },
   {
    "duration": 25,
    "start_time": "2024-09-04T14:34:52.412Z"
   },
   {
    "duration": 10,
    "start_time": "2024-09-04T14:35:02.519Z"
   },
   {
    "duration": 15,
    "start_time": "2024-09-04T14:35:08.853Z"
   },
   {
    "duration": 15,
    "start_time": "2024-09-04T14:35:20.211Z"
   },
   {
    "duration": 7,
    "start_time": "2024-09-04T14:35:47.016Z"
   },
   {
    "duration": 8,
    "start_time": "2024-09-04T14:35:47.813Z"
   },
   {
    "duration": 14,
    "start_time": "2024-09-04T14:35:48.543Z"
   },
   {
    "duration": 14,
    "start_time": "2024-09-04T14:45:10.544Z"
   },
   {
    "duration": 12,
    "start_time": "2024-09-04T14:45:41.185Z"
   },
   {
    "duration": 11,
    "start_time": "2024-09-04T14:46:08.811Z"
   },
   {
    "duration": 1402,
    "start_time": "2024-09-04T14:53:53.491Z"
   },
   {
    "duration": 93,
    "start_time": "2024-09-04T14:53:54.895Z"
   },
   {
    "duration": 16,
    "start_time": "2024-09-04T14:53:54.989Z"
   },
   {
    "duration": 7,
    "start_time": "2024-09-04T14:53:55.007Z"
   },
   {
    "duration": 6,
    "start_time": "2024-09-04T14:53:55.015Z"
   },
   {
    "duration": 6,
    "start_time": "2024-09-04T14:53:55.023Z"
   },
   {
    "duration": 15,
    "start_time": "2024-09-04T14:53:55.030Z"
   },
   {
    "duration": 4,
    "start_time": "2024-09-04T14:53:55.046Z"
   },
   {
    "duration": 13,
    "start_time": "2024-09-04T14:53:55.051Z"
   },
   {
    "duration": 16,
    "start_time": "2024-09-04T14:53:55.066Z"
   },
   {
    "duration": 5,
    "start_time": "2024-09-04T14:53:55.084Z"
   },
   {
    "duration": 7,
    "start_time": "2024-09-04T14:53:55.090Z"
   },
   {
    "duration": 8,
    "start_time": "2024-09-04T14:53:55.098Z"
   },
   {
    "duration": 6,
    "start_time": "2024-09-04T14:53:55.107Z"
   },
   {
    "duration": 13,
    "start_time": "2024-09-04T14:53:55.114Z"
   },
   {
    "duration": 24,
    "start_time": "2024-09-04T14:53:55.128Z"
   },
   {
    "duration": 6,
    "start_time": "2024-09-04T14:53:55.153Z"
   },
   {
    "duration": 20,
    "start_time": "2024-09-04T14:53:55.161Z"
   },
   {
    "duration": 10,
    "start_time": "2024-09-04T14:53:55.183Z"
   },
   {
    "duration": 8,
    "start_time": "2024-09-04T14:53:55.194Z"
   },
   {
    "duration": 6,
    "start_time": "2024-09-04T14:53:55.204Z"
   },
   {
    "duration": 7,
    "start_time": "2024-09-04T14:53:55.211Z"
   },
   {
    "duration": 5,
    "start_time": "2024-09-04T14:53:55.219Z"
   },
   {
    "duration": 16,
    "start_time": "2024-09-04T14:53:55.226Z"
   },
   {
    "duration": 10,
    "start_time": "2024-09-04T14:53:55.253Z"
   },
   {
    "duration": 56,
    "start_time": "2024-09-04T14:53:55.265Z"
   },
   {
    "duration": 37,
    "start_time": "2024-09-04T14:53:55.322Z"
   },
   {
    "duration": 13,
    "start_time": "2024-09-04T14:53:55.363Z"
   },
   {
    "duration": 176,
    "start_time": "2024-09-04T14:53:55.377Z"
   },
   {
    "duration": 124,
    "start_time": "2024-09-04T14:53:55.555Z"
   },
   {
    "duration": 5,
    "start_time": "2024-09-04T14:53:55.681Z"
   },
   {
    "duration": 147,
    "start_time": "2024-09-04T14:53:55.687Z"
   },
   {
    "duration": 6,
    "start_time": "2024-09-04T14:53:55.835Z"
   },
   {
    "duration": 172,
    "start_time": "2024-09-04T14:53:55.843Z"
   },
   {
    "duration": 280,
    "start_time": "2024-09-04T14:53:56.017Z"
   },
   {
    "duration": 3,
    "start_time": "2024-09-04T14:53:56.298Z"
   },
   {
    "duration": 179,
    "start_time": "2024-09-04T14:53:56.302Z"
   },
   {
    "duration": 110,
    "start_time": "2024-09-04T14:53:56.482Z"
   },
   {
    "duration": 191,
    "start_time": "2024-09-04T14:53:56.594Z"
   },
   {
    "duration": 166,
    "start_time": "2024-09-04T14:53:56.787Z"
   },
   {
    "duration": 119,
    "start_time": "2024-09-04T14:53:56.955Z"
   },
   {
    "duration": 181,
    "start_time": "2024-09-04T14:53:57.076Z"
   },
   {
    "duration": 118,
    "start_time": "2024-09-04T14:53:57.259Z"
   },
   {
    "duration": 6,
    "start_time": "2024-09-04T14:53:57.378Z"
   },
   {
    "duration": 224,
    "start_time": "2024-09-04T14:53:57.385Z"
   },
   {
    "duration": 6,
    "start_time": "2024-09-04T14:53:57.611Z"
   },
   {
    "duration": 173,
    "start_time": "2024-09-04T14:53:57.619Z"
   },
   {
    "duration": 113,
    "start_time": "2024-09-04T14:53:57.794Z"
   },
   {
    "duration": 248,
    "start_time": "2024-09-04T14:53:57.909Z"
   },
   {
    "duration": 106,
    "start_time": "2024-09-04T14:53:58.158Z"
   },
   {
    "duration": 179,
    "start_time": "2024-09-04T14:53:58.265Z"
   },
   {
    "duration": 122,
    "start_time": "2024-09-04T14:53:58.446Z"
   },
   {
    "duration": 177,
    "start_time": "2024-09-04T14:53:58.569Z"
   },
   {
    "duration": 106,
    "start_time": "2024-09-04T14:53:58.748Z"
   },
   {
    "duration": 7,
    "start_time": "2024-09-04T14:53:58.856Z"
   },
   {
    "duration": 10,
    "start_time": "2024-09-04T14:53:58.865Z"
   },
   {
    "duration": 7,
    "start_time": "2024-09-04T14:53:58.877Z"
   },
   {
    "duration": 4,
    "start_time": "2024-09-04T14:53:58.885Z"
   },
   {
    "duration": 18,
    "start_time": "2024-09-04T14:53:58.890Z"
   },
   {
    "duration": 204,
    "start_time": "2024-09-04T14:53:58.910Z"
   },
   {
    "duration": 125,
    "start_time": "2024-09-04T14:53:59.115Z"
   },
   {
    "duration": 150,
    "start_time": "2024-09-04T14:53:59.242Z"
   },
   {
    "duration": 172,
    "start_time": "2024-09-04T14:53:59.394Z"
   },
   {
    "duration": 121,
    "start_time": "2024-09-04T14:53:59.568Z"
   },
   {
    "duration": 136,
    "start_time": "2024-09-04T14:53:59.691Z"
   },
   {
    "duration": 274,
    "start_time": "2024-09-04T14:53:59.829Z"
   },
   {
    "duration": 114,
    "start_time": "2024-09-04T14:54:00.104Z"
   },
   {
    "duration": 11,
    "start_time": "2024-09-04T14:54:00.219Z"
   },
   {
    "duration": 25,
    "start_time": "2024-09-04T14:54:00.232Z"
   },
   {
    "duration": 19,
    "start_time": "2024-09-04T14:54:00.258Z"
   },
   {
    "duration": 29,
    "start_time": "2024-09-04T14:54:00.278Z"
   },
   {
    "duration": 34,
    "start_time": "2024-09-04T14:54:00.308Z"
   },
   {
    "duration": 10,
    "start_time": "2024-09-04T14:54:00.343Z"
   },
   {
    "duration": 34,
    "start_time": "2024-09-04T14:54:00.355Z"
   },
   {
    "duration": 11,
    "start_time": "2024-09-04T14:54:00.391Z"
   },
   {
    "duration": 16,
    "start_time": "2024-09-04T14:54:00.404Z"
   },
   {
    "duration": 131,
    "start_time": "2024-09-04T14:54:00.422Z"
   },
   {
    "duration": 0,
    "start_time": "2024-09-04T14:54:00.555Z"
   },
   {
    "duration": 8,
    "start_time": "2024-09-04T14:54:11.257Z"
   },
   {
    "duration": 9,
    "start_time": "2024-09-04T14:54:38.940Z"
   },
   {
    "duration": 15,
    "start_time": "2024-09-04T14:54:45.581Z"
   },
   {
    "duration": 16,
    "start_time": "2024-09-04T15:25:00.787Z"
   },
   {
    "duration": 27,
    "start_time": "2024-09-04T15:49:05.346Z"
   },
   {
    "duration": 731,
    "start_time": "2024-09-04T15:50:05.175Z"
   },
   {
    "duration": 10,
    "start_time": "2024-09-04T15:52:40.785Z"
   },
   {
    "duration": 57,
    "start_time": "2024-09-04T15:52:48.051Z"
   },
   {
    "duration": 21,
    "start_time": "2024-09-04T15:57:16.708Z"
   },
   {
    "duration": 744,
    "start_time": "2024-09-04T15:57:46.849Z"
   },
   {
    "duration": 10,
    "start_time": "2024-09-04T16:09:02.089Z"
   },
   {
    "duration": 31,
    "start_time": "2024-09-04T16:09:18.905Z"
   },
   {
    "duration": 766,
    "start_time": "2024-09-04T16:10:15.288Z"
   },
   {
    "duration": 4,
    "start_time": "2024-09-04T16:46:53.170Z"
   },
   {
    "duration": 3,
    "start_time": "2024-09-04T16:46:59.938Z"
   },
   {
    "duration": 17,
    "start_time": "2024-09-04T16:54:24.178Z"
   },
   {
    "duration": 11,
    "start_time": "2024-09-04T16:55:40.501Z"
   },
   {
    "duration": 15,
    "start_time": "2024-09-04T16:55:58.193Z"
   },
   {
    "duration": 367,
    "start_time": "2024-09-04T16:56:46.641Z"
   },
   {
    "duration": 16,
    "start_time": "2024-09-04T16:56:47.624Z"
   },
   {
    "duration": 4,
    "start_time": "2024-09-04T16:58:27.960Z"
   },
   {
    "duration": 16,
    "start_time": "2024-09-04T16:58:29.762Z"
   },
   {
    "duration": 15,
    "start_time": "2024-09-04T16:58:45.569Z"
   },
   {
    "duration": 5,
    "start_time": "2024-09-04T16:58:49.730Z"
   },
   {
    "duration": 15,
    "start_time": "2024-09-04T16:58:50.685Z"
   },
   {
    "duration": 5,
    "start_time": "2024-09-04T17:01:47.953Z"
   },
   {
    "duration": 4,
    "start_time": "2024-09-04T17:02:06.800Z"
   },
   {
    "duration": 4,
    "start_time": "2024-09-04T17:02:47.891Z"
   },
   {
    "duration": 5,
    "start_time": "2024-09-04T17:03:10.056Z"
   },
   {
    "duration": 25,
    "start_time": "2024-09-04T17:03:11.000Z"
   },
   {
    "duration": 5,
    "start_time": "2024-09-04T17:04:35.972Z"
   },
   {
    "duration": 5,
    "start_time": "2024-09-04T17:04:39.925Z"
   },
   {
    "duration": 25,
    "start_time": "2024-09-04T17:04:40.846Z"
   },
   {
    "duration": 18,
    "start_time": "2024-09-04T17:20:49.759Z"
   },
   {
    "duration": 11,
    "start_time": "2024-09-04T17:21:52.850Z"
   },
   {
    "duration": 11,
    "start_time": "2024-09-04T17:22:45.005Z"
   },
   {
    "duration": 3507,
    "start_time": "2024-09-04T17:23:34.653Z"
   },
   {
    "duration": 33,
    "start_time": "2024-09-04T17:23:59.579Z"
   },
   {
    "duration": 2426,
    "start_time": "2024-09-04T17:24:07.439Z"
   },
   {
    "duration": 1445,
    "start_time": "2024-09-04T17:24:09.867Z"
   },
   {
    "duration": 93,
    "start_time": "2024-09-04T17:24:11.314Z"
   },
   {
    "duration": 17,
    "start_time": "2024-09-04T17:24:11.409Z"
   },
   {
    "duration": 26,
    "start_time": "2024-09-04T17:24:11.427Z"
   },
   {
    "duration": 8,
    "start_time": "2024-09-04T17:24:11.454Z"
   },
   {
    "duration": 6,
    "start_time": "2024-09-04T17:24:11.464Z"
   },
   {
    "duration": 11,
    "start_time": "2024-09-04T17:24:11.472Z"
   },
   {
    "duration": 3,
    "start_time": "2024-09-04T17:24:11.485Z"
   },
   {
    "duration": 28,
    "start_time": "2024-09-04T17:24:11.490Z"
   },
   {
    "duration": 13,
    "start_time": "2024-09-04T17:24:11.520Z"
   },
   {
    "duration": 17,
    "start_time": "2024-09-04T17:24:11.535Z"
   },
   {
    "duration": 4,
    "start_time": "2024-09-04T17:24:11.554Z"
   },
   {
    "duration": 8,
    "start_time": "2024-09-04T17:24:11.559Z"
   },
   {
    "duration": 6,
    "start_time": "2024-09-04T17:24:11.568Z"
   },
   {
    "duration": 14,
    "start_time": "2024-09-04T17:24:11.575Z"
   },
   {
    "duration": 6,
    "start_time": "2024-09-04T17:24:11.590Z"
   },
   {
    "duration": 18,
    "start_time": "2024-09-04T17:24:11.597Z"
   },
   {
    "duration": 5,
    "start_time": "2024-09-04T17:24:11.618Z"
   },
   {
    "duration": 35,
    "start_time": "2024-09-04T17:24:11.624Z"
   },
   {
    "duration": 37,
    "start_time": "2024-09-04T17:24:11.660Z"
   },
   {
    "duration": 15,
    "start_time": "2024-09-04T17:24:11.699Z"
   },
   {
    "duration": 5,
    "start_time": "2024-09-04T17:24:11.716Z"
   },
   {
    "duration": 11,
    "start_time": "2024-09-04T17:24:11.723Z"
   },
   {
    "duration": 14,
    "start_time": "2024-09-04T17:24:11.735Z"
   },
   {
    "duration": 79,
    "start_time": "2024-09-04T17:24:11.750Z"
   },
   {
    "duration": 9,
    "start_time": "2024-09-04T17:24:11.830Z"
   },
   {
    "duration": 5,
    "start_time": "2024-09-04T17:24:11.843Z"
   },
   {
    "duration": 11,
    "start_time": "2024-09-04T17:24:11.849Z"
   },
   {
    "duration": 163,
    "start_time": "2024-09-04T17:24:11.861Z"
   },
   {
    "duration": 135,
    "start_time": "2024-09-04T17:24:12.026Z"
   },
   {
    "duration": 6,
    "start_time": "2024-09-04T17:24:12.162Z"
   },
   {
    "duration": 145,
    "start_time": "2024-09-04T17:24:12.169Z"
   },
   {
    "duration": 5,
    "start_time": "2024-09-04T17:24:12.316Z"
   },
   {
    "duration": 165,
    "start_time": "2024-09-04T17:24:12.322Z"
   },
   {
    "duration": 274,
    "start_time": "2024-09-04T17:24:12.488Z"
   },
   {
    "duration": 3,
    "start_time": "2024-09-04T17:24:12.763Z"
   },
   {
    "duration": 187,
    "start_time": "2024-09-04T17:24:12.768Z"
   },
   {
    "duration": 108,
    "start_time": "2024-09-04T17:24:12.956Z"
   },
   {
    "duration": 196,
    "start_time": "2024-09-04T17:24:13.066Z"
   },
   {
    "duration": 167,
    "start_time": "2024-09-04T17:24:13.264Z"
   },
   {
    "duration": 110,
    "start_time": "2024-09-04T17:24:13.432Z"
   },
   {
    "duration": 188,
    "start_time": "2024-09-04T17:24:13.544Z"
   },
   {
    "duration": 123,
    "start_time": "2024-09-04T17:24:13.734Z"
   },
   {
    "duration": 7,
    "start_time": "2024-09-04T17:24:13.859Z"
   },
   {
    "duration": 233,
    "start_time": "2024-09-04T17:24:13.868Z"
   },
   {
    "duration": 7,
    "start_time": "2024-09-04T17:24:14.102Z"
   },
   {
    "duration": 175,
    "start_time": "2024-09-04T17:24:14.110Z"
   },
   {
    "duration": 117,
    "start_time": "2024-09-04T17:24:14.287Z"
   },
   {
    "duration": 252,
    "start_time": "2024-09-04T17:24:14.406Z"
   },
   {
    "duration": 99,
    "start_time": "2024-09-04T17:24:14.659Z"
   },
   {
    "duration": 185,
    "start_time": "2024-09-04T17:24:14.760Z"
   },
   {
    "duration": 130,
    "start_time": "2024-09-04T17:24:14.946Z"
   },
   {
    "duration": 180,
    "start_time": "2024-09-04T17:24:15.078Z"
   },
   {
    "duration": 117,
    "start_time": "2024-09-04T17:24:15.260Z"
   },
   {
    "duration": 9,
    "start_time": "2024-09-04T17:24:15.379Z"
   },
   {
    "duration": 31,
    "start_time": "2024-09-04T17:24:15.389Z"
   },
   {
    "duration": 27,
    "start_time": "2024-09-04T17:24:15.422Z"
   },
   {
    "duration": 20,
    "start_time": "2024-09-04T17:24:15.450Z"
   },
   {
    "duration": 17,
    "start_time": "2024-09-04T17:24:15.471Z"
   },
   {
    "duration": 191,
    "start_time": "2024-09-04T17:24:15.489Z"
   },
   {
    "duration": 131,
    "start_time": "2024-09-04T17:24:15.682Z"
   },
   {
    "duration": 157,
    "start_time": "2024-09-04T17:24:15.815Z"
   },
   {
    "duration": 180,
    "start_time": "2024-09-04T17:24:15.974Z"
   },
   {
    "duration": 120,
    "start_time": "2024-09-04T17:24:16.156Z"
   },
   {
    "duration": 136,
    "start_time": "2024-09-04T17:24:16.277Z"
   },
   {
    "duration": 280,
    "start_time": "2024-09-04T17:24:16.415Z"
   },
   {
    "duration": 117,
    "start_time": "2024-09-04T17:24:16.697Z"
   },
   {
    "duration": 11,
    "start_time": "2024-09-04T17:24:16.815Z"
   },
   {
    "duration": 24,
    "start_time": "2024-09-04T17:24:16.828Z"
   },
   {
    "duration": 9,
    "start_time": "2024-09-04T17:24:16.854Z"
   },
   {
    "duration": 15,
    "start_time": "2024-09-04T17:24:16.864Z"
   },
   {
    "duration": 11,
    "start_time": "2024-09-04T17:24:16.881Z"
   },
   {
    "duration": 5,
    "start_time": "2024-09-04T17:24:16.893Z"
   },
   {
    "duration": 11,
    "start_time": "2024-09-04T17:24:16.900Z"
   },
   {
    "duration": 9,
    "start_time": "2024-09-04T17:24:16.913Z"
   },
   {
    "duration": 29,
    "start_time": "2024-09-04T17:24:16.924Z"
   },
   {
    "duration": 9,
    "start_time": "2024-09-04T17:24:16.955Z"
   },
   {
    "duration": 8,
    "start_time": "2024-09-04T17:24:16.966Z"
   },
   {
    "duration": 13,
    "start_time": "2024-09-04T17:24:16.976Z"
   },
   {
    "duration": 17,
    "start_time": "2024-09-04T17:24:16.990Z"
   },
   {
    "duration": 6,
    "start_time": "2024-09-04T17:24:17.013Z"
   },
   {
    "duration": 34,
    "start_time": "2024-09-04T17:24:17.021Z"
   },
   {
    "duration": 4,
    "start_time": "2024-09-04T17:24:17.057Z"
   },
   {
    "duration": 4,
    "start_time": "2024-09-04T17:24:17.063Z"
   },
   {
    "duration": 8,
    "start_time": "2024-09-04T17:24:17.069Z"
   },
   {
    "duration": 36,
    "start_time": "2024-09-04T17:24:17.078Z"
   },
   {
    "duration": 1438,
    "start_time": "2024-09-04T17:24:17.116Z"
   },
   {
    "duration": 877,
    "start_time": "2024-09-04T17:25:49.376Z"
   },
   {
    "duration": 2455,
    "start_time": "2024-09-04T17:26:26.702Z"
   },
   {
    "duration": 1897,
    "start_time": "2024-09-04T17:42:26.111Z"
   },
   {
    "duration": 113,
    "start_time": "2024-09-04T17:46:00.066Z"
   },
   {
    "duration": 4,
    "start_time": "2024-09-04T17:46:13.897Z"
   },
   {
    "duration": 4,
    "start_time": "2024-09-04T17:46:47.875Z"
   },
   {
    "duration": 4,
    "start_time": "2024-09-04T17:47:05.178Z"
   },
   {
    "duration": 3,
    "start_time": "2024-09-04T17:47:32.115Z"
   },
   {
    "duration": 4,
    "start_time": "2024-09-04T17:47:48.634Z"
   },
   {
    "duration": 889,
    "start_time": "2024-09-04T17:47:57.380Z"
   },
   {
    "duration": 2582,
    "start_time": "2024-09-04T17:47:59.132Z"
   },
   {
    "duration": 2008,
    "start_time": "2024-09-04T17:50:09.339Z"
   },
   {
    "duration": 1335,
    "start_time": "2024-09-04T17:53:54.611Z"
   },
   {
    "duration": 30,
    "start_time": "2024-09-04T18:07:44.304Z"
   },
   {
    "duration": 9,
    "start_time": "2024-09-04T18:11:00.536Z"
   },
   {
    "duration": 14,
    "start_time": "2024-09-04T18:11:01.796Z"
   },
   {
    "duration": 26,
    "start_time": "2024-09-04T18:11:08.843Z"
   },
   {
    "duration": 7,
    "start_time": "2024-09-04T18:12:07.559Z"
   },
   {
    "duration": 5,
    "start_time": "2024-09-04T18:12:08.288Z"
   },
   {
    "duration": 4,
    "start_time": "2024-09-04T18:12:08.936Z"
   },
   {
    "duration": 5,
    "start_time": "2024-09-04T18:12:09.532Z"
   },
   {
    "duration": 5,
    "start_time": "2024-09-04T18:12:10.098Z"
   },
   {
    "duration": 25,
    "start_time": "2024-09-04T18:12:10.615Z"
   },
   {
    "duration": 3,
    "start_time": "2024-09-04T18:12:19.766Z"
   },
   {
    "duration": 4,
    "start_time": "2024-09-04T18:12:20.354Z"
   },
   {
    "duration": 3,
    "start_time": "2024-09-04T18:12:20.887Z"
   },
   {
    "duration": 4,
    "start_time": "2024-09-04T18:12:21.409Z"
   },
   {
    "duration": 3,
    "start_time": "2024-09-04T18:12:21.890Z"
   },
   {
    "duration": 30,
    "start_time": "2024-09-04T18:12:22.380Z"
   },
   {
    "duration": 988,
    "start_time": "2024-09-04T18:12:54.015Z"
   },
   {
    "duration": 2655,
    "start_time": "2024-09-04T18:13:09.205Z"
   },
   {
    "duration": 23,
    "start_time": "2024-09-04T18:13:23.380Z"
   },
   {
    "duration": 1665,
    "start_time": "2024-09-04T18:13:34.822Z"
   },
   {
    "duration": 5,
    "start_time": "2024-09-04T18:16:55.350Z"
   },
   {
    "duration": 32,
    "start_time": "2024-09-04T18:16:56.473Z"
   },
   {
    "duration": 2819,
    "start_time": "2024-09-04T18:17:20.549Z"
   },
   {
    "duration": 1522,
    "start_time": "2024-09-04T18:17:23.372Z"
   },
   {
    "duration": 95,
    "start_time": "2024-09-04T18:17:24.896Z"
   },
   {
    "duration": 16,
    "start_time": "2024-09-04T18:17:24.993Z"
   },
   {
    "duration": 8,
    "start_time": "2024-09-04T18:17:25.010Z"
   },
   {
    "duration": 8,
    "start_time": "2024-09-04T18:17:25.019Z"
   },
   {
    "duration": 6,
    "start_time": "2024-09-04T18:17:25.028Z"
   },
   {
    "duration": 10,
    "start_time": "2024-09-04T18:17:25.036Z"
   },
   {
    "duration": 3,
    "start_time": "2024-09-04T18:17:25.047Z"
   },
   {
    "duration": 17,
    "start_time": "2024-09-04T18:17:25.053Z"
   },
   {
    "duration": 7,
    "start_time": "2024-09-04T18:17:25.072Z"
   },
   {
    "duration": 18,
    "start_time": "2024-09-04T18:17:25.080Z"
   },
   {
    "duration": 5,
    "start_time": "2024-09-04T18:17:25.099Z"
   },
   {
    "duration": 6,
    "start_time": "2024-09-04T18:17:25.106Z"
   },
   {
    "duration": 5,
    "start_time": "2024-09-04T18:17:25.114Z"
   },
   {
    "duration": 16,
    "start_time": "2024-09-04T18:17:25.121Z"
   },
   {
    "duration": 15,
    "start_time": "2024-09-04T18:17:25.138Z"
   },
   {
    "duration": 13,
    "start_time": "2024-09-04T18:17:25.154Z"
   },
   {
    "duration": 7,
    "start_time": "2024-09-04T18:17:25.169Z"
   },
   {
    "duration": 13,
    "start_time": "2024-09-04T18:17:25.179Z"
   },
   {
    "duration": 12,
    "start_time": "2024-09-04T18:17:25.194Z"
   },
   {
    "duration": 4,
    "start_time": "2024-09-04T18:17:25.207Z"
   },
   {
    "duration": 7,
    "start_time": "2024-09-04T18:17:25.212Z"
   },
   {
    "duration": 34,
    "start_time": "2024-09-04T18:17:25.221Z"
   },
   {
    "duration": 19,
    "start_time": "2024-09-04T18:17:25.257Z"
   },
   {
    "duration": 21,
    "start_time": "2024-09-04T18:17:25.277Z"
   },
   {
    "duration": 12,
    "start_time": "2024-09-04T18:17:25.299Z"
   },
   {
    "duration": 4,
    "start_time": "2024-09-04T18:17:25.315Z"
   },
   {
    "duration": 15,
    "start_time": "2024-09-04T18:17:25.320Z"
   },
   {
    "duration": 166,
    "start_time": "2024-09-04T18:17:25.336Z"
   },
   {
    "duration": 138,
    "start_time": "2024-09-04T18:17:25.504Z"
   },
   {
    "duration": 7,
    "start_time": "2024-09-04T18:17:25.652Z"
   },
   {
    "duration": 151,
    "start_time": "2024-09-04T18:17:25.662Z"
   },
   {
    "duration": 5,
    "start_time": "2024-09-04T18:17:25.815Z"
   },
   {
    "duration": 204,
    "start_time": "2024-09-04T18:17:25.822Z"
   },
   {
    "duration": 305,
    "start_time": "2024-09-04T18:17:26.027Z"
   },
   {
    "duration": 3,
    "start_time": "2024-09-04T18:17:26.333Z"
   },
   {
    "duration": 194,
    "start_time": "2024-09-04T18:17:26.338Z"
   },
   {
    "duration": 124,
    "start_time": "2024-09-04T18:17:26.534Z"
   },
   {
    "duration": 214,
    "start_time": "2024-09-04T18:17:26.662Z"
   },
   {
    "duration": 186,
    "start_time": "2024-09-04T18:17:26.878Z"
   },
   {
    "duration": 118,
    "start_time": "2024-09-04T18:17:27.066Z"
   },
   {
    "duration": 202,
    "start_time": "2024-09-04T18:17:27.186Z"
   },
   {
    "duration": 125,
    "start_time": "2024-09-04T18:17:27.389Z"
   },
   {
    "duration": 6,
    "start_time": "2024-09-04T18:17:27.515Z"
   },
   {
    "duration": 198,
    "start_time": "2024-09-04T18:17:27.522Z"
   },
   {
    "duration": 6,
    "start_time": "2024-09-04T18:17:27.722Z"
   },
   {
    "duration": 189,
    "start_time": "2024-09-04T18:17:27.729Z"
   },
   {
    "duration": 125,
    "start_time": "2024-09-04T18:17:27.919Z"
   },
   {
    "duration": 263,
    "start_time": "2024-09-04T18:17:28.051Z"
   },
   {
    "duration": 115,
    "start_time": "2024-09-04T18:17:28.315Z"
   },
   {
    "duration": 203,
    "start_time": "2024-09-04T18:17:28.431Z"
   },
   {
    "duration": 149,
    "start_time": "2024-09-04T18:17:28.635Z"
   },
   {
    "duration": 192,
    "start_time": "2024-09-04T18:17:28.786Z"
   },
   {
    "duration": 122,
    "start_time": "2024-09-04T18:17:28.979Z"
   },
   {
    "duration": 8,
    "start_time": "2024-09-04T18:17:29.102Z"
   },
   {
    "duration": 11,
    "start_time": "2024-09-04T18:17:29.112Z"
   },
   {
    "duration": 7,
    "start_time": "2024-09-04T18:17:29.125Z"
   },
   {
    "duration": 21,
    "start_time": "2024-09-04T18:17:29.133Z"
   },
   {
    "duration": 16,
    "start_time": "2024-09-04T18:17:29.156Z"
   },
   {
    "duration": 240,
    "start_time": "2024-09-04T18:17:29.175Z"
   },
   {
    "duration": 149,
    "start_time": "2024-09-04T18:17:29.416Z"
   },
   {
    "duration": 163,
    "start_time": "2024-09-04T18:17:29.568Z"
   },
   {
    "duration": 205,
    "start_time": "2024-09-04T18:17:29.733Z"
   },
   {
    "duration": 152,
    "start_time": "2024-09-04T18:17:29.940Z"
   },
   {
    "duration": 153,
    "start_time": "2024-09-04T18:17:30.094Z"
   },
   {
    "duration": 322,
    "start_time": "2024-09-04T18:17:30.249Z"
   },
   {
    "duration": 132,
    "start_time": "2024-09-04T18:17:30.574Z"
   },
   {
    "duration": 11,
    "start_time": "2024-09-04T18:17:30.708Z"
   },
   {
    "duration": 14,
    "start_time": "2024-09-04T18:17:30.721Z"
   },
   {
    "duration": 17,
    "start_time": "2024-09-04T18:17:30.737Z"
   },
   {
    "duration": 16,
    "start_time": "2024-09-04T18:17:30.757Z"
   },
   {
    "duration": 27,
    "start_time": "2024-09-04T18:17:30.775Z"
   },
   {
    "duration": 6,
    "start_time": "2024-09-04T18:17:30.804Z"
   },
   {
    "duration": 19,
    "start_time": "2024-09-04T18:17:30.812Z"
   },
   {
    "duration": 7,
    "start_time": "2024-09-04T18:17:30.832Z"
   },
   {
    "duration": 15,
    "start_time": "2024-09-04T18:17:30.841Z"
   },
   {
    "duration": 13,
    "start_time": "2024-09-04T18:17:30.859Z"
   },
   {
    "duration": 12,
    "start_time": "2024-09-04T18:17:30.875Z"
   },
   {
    "duration": 33,
    "start_time": "2024-09-04T18:17:30.888Z"
   },
   {
    "duration": 31,
    "start_time": "2024-09-04T18:17:30.923Z"
   },
   {
    "duration": 9,
    "start_time": "2024-09-04T18:17:30.966Z"
   },
   {
    "duration": 5,
    "start_time": "2024-09-04T18:17:30.977Z"
   },
   {
    "duration": 12,
    "start_time": "2024-09-04T18:17:30.984Z"
   },
   {
    "duration": 4,
    "start_time": "2024-09-04T18:17:30.998Z"
   },
   {
    "duration": 48,
    "start_time": "2024-09-04T18:17:31.003Z"
   },
   {
    "duration": 43,
    "start_time": "2024-09-04T18:17:31.054Z"
   },
   {
    "duration": 3,
    "start_time": "2024-09-04T18:17:31.099Z"
   },
   {
    "duration": 6,
    "start_time": "2024-09-04T18:17:31.104Z"
   },
   {
    "duration": 5,
    "start_time": "2024-09-04T18:17:31.112Z"
   },
   {
    "duration": 7,
    "start_time": "2024-09-04T18:17:31.118Z"
   },
   {
    "duration": 4,
    "start_time": "2024-09-04T18:17:31.126Z"
   },
   {
    "duration": 4,
    "start_time": "2024-09-04T18:17:31.131Z"
   },
   {
    "duration": 57,
    "start_time": "2024-09-04T18:17:31.136Z"
   },
   {
    "duration": 817,
    "start_time": "2024-09-04T18:17:31.194Z"
   },
   {
    "duration": 2532,
    "start_time": "2024-09-04T18:17:32.013Z"
   },
   {
    "duration": 1316,
    "start_time": "2024-09-04T18:17:34.546Z"
   },
   {
    "duration": 2594,
    "start_time": "2024-09-04T18:19:36.232Z"
   },
   {
    "duration": 1512,
    "start_time": "2024-09-04T18:19:38.828Z"
   },
   {
    "duration": 99,
    "start_time": "2024-09-04T18:19:40.341Z"
   },
   {
    "duration": 24,
    "start_time": "2024-09-04T18:19:40.442Z"
   },
   {
    "duration": 12,
    "start_time": "2024-09-04T18:19:40.469Z"
   },
   {
    "duration": 7,
    "start_time": "2024-09-04T18:19:40.482Z"
   },
   {
    "duration": 7,
    "start_time": "2024-09-04T18:19:40.490Z"
   },
   {
    "duration": 13,
    "start_time": "2024-09-04T18:19:40.498Z"
   },
   {
    "duration": 15,
    "start_time": "2024-09-04T18:19:40.512Z"
   },
   {
    "duration": 12,
    "start_time": "2024-09-04T18:19:40.551Z"
   },
   {
    "duration": 18,
    "start_time": "2024-09-04T18:19:40.565Z"
   },
   {
    "duration": 9,
    "start_time": "2024-09-04T18:19:40.585Z"
   },
   {
    "duration": 11,
    "start_time": "2024-09-04T18:19:40.595Z"
   },
   {
    "duration": 10,
    "start_time": "2024-09-04T18:19:40.607Z"
   },
   {
    "duration": 14,
    "start_time": "2024-09-04T18:19:40.619Z"
   },
   {
    "duration": 23,
    "start_time": "2024-09-04T18:19:40.635Z"
   },
   {
    "duration": 6,
    "start_time": "2024-09-04T18:19:40.660Z"
   },
   {
    "duration": 9,
    "start_time": "2024-09-04T18:19:40.668Z"
   },
   {
    "duration": 7,
    "start_time": "2024-09-04T18:19:40.679Z"
   },
   {
    "duration": 10,
    "start_time": "2024-09-04T18:19:40.688Z"
   },
   {
    "duration": 19,
    "start_time": "2024-09-04T18:19:40.700Z"
   },
   {
    "duration": 12,
    "start_time": "2024-09-04T18:19:40.721Z"
   },
   {
    "duration": 20,
    "start_time": "2024-09-04T18:19:40.734Z"
   },
   {
    "duration": 13,
    "start_time": "2024-09-04T18:19:40.756Z"
   },
   {
    "duration": 8,
    "start_time": "2024-09-04T18:19:40.770Z"
   },
   {
    "duration": 19,
    "start_time": "2024-09-04T18:19:40.779Z"
   },
   {
    "duration": 21,
    "start_time": "2024-09-04T18:19:40.799Z"
   },
   {
    "duration": 27,
    "start_time": "2024-09-04T18:19:40.825Z"
   },
   {
    "duration": 22,
    "start_time": "2024-09-04T18:19:40.855Z"
   },
   {
    "duration": 169,
    "start_time": "2024-09-04T18:19:40.879Z"
   },
   {
    "duration": 154,
    "start_time": "2024-09-04T18:19:41.052Z"
   },
   {
    "duration": 5,
    "start_time": "2024-09-04T18:19:41.208Z"
   },
   {
    "duration": 170,
    "start_time": "2024-09-04T18:19:41.214Z"
   },
   {
    "duration": 6,
    "start_time": "2024-09-04T18:19:41.385Z"
   },
   {
    "duration": 186,
    "start_time": "2024-09-04T18:19:41.392Z"
   },
   {
    "duration": 313,
    "start_time": "2024-09-04T18:19:41.579Z"
   },
   {
    "duration": 3,
    "start_time": "2024-09-04T18:19:41.894Z"
   },
   {
    "duration": 209,
    "start_time": "2024-09-04T18:19:41.898Z"
   },
   {
    "duration": 119,
    "start_time": "2024-09-04T18:19:42.108Z"
   },
   {
    "duration": 240,
    "start_time": "2024-09-04T18:19:42.228Z"
   },
   {
    "duration": 187,
    "start_time": "2024-09-04T18:19:42.470Z"
   },
   {
    "duration": 117,
    "start_time": "2024-09-04T18:19:42.659Z"
   },
   {
    "duration": 194,
    "start_time": "2024-09-04T18:19:42.778Z"
   },
   {
    "duration": 132,
    "start_time": "2024-09-04T18:19:42.974Z"
   },
   {
    "duration": 6,
    "start_time": "2024-09-04T18:19:43.107Z"
   },
   {
    "duration": 213,
    "start_time": "2024-09-04T18:19:43.114Z"
   },
   {
    "duration": 6,
    "start_time": "2024-09-04T18:19:43.329Z"
   },
   {
    "duration": 193,
    "start_time": "2024-09-04T18:19:43.337Z"
   },
   {
    "duration": 135,
    "start_time": "2024-09-04T18:19:43.532Z"
   },
   {
    "duration": 311,
    "start_time": "2024-09-04T18:19:43.670Z"
   },
   {
    "duration": 132,
    "start_time": "2024-09-04T18:19:43.983Z"
   },
   {
    "duration": 246,
    "start_time": "2024-09-04T18:19:44.116Z"
   },
   {
    "duration": 134,
    "start_time": "2024-09-04T18:19:44.366Z"
   },
   {
    "duration": 373,
    "start_time": "2024-09-04T18:19:44.501Z"
   },
   {
    "duration": 153,
    "start_time": "2024-09-04T18:19:44.875Z"
   },
   {
    "duration": 9,
    "start_time": "2024-09-04T18:19:45.030Z"
   },
   {
    "duration": 50,
    "start_time": "2024-09-04T18:19:45.040Z"
   },
   {
    "duration": 29,
    "start_time": "2024-09-04T18:19:45.092Z"
   },
   {
    "duration": 35,
    "start_time": "2024-09-04T18:19:45.122Z"
   },
   {
    "duration": 24,
    "start_time": "2024-09-04T18:19:45.159Z"
   },
   {
    "duration": 211,
    "start_time": "2024-09-04T18:19:45.185Z"
   },
   {
    "duration": 141,
    "start_time": "2024-09-04T18:19:45.398Z"
   },
   {
    "duration": 164,
    "start_time": "2024-09-04T18:19:45.541Z"
   },
   {
    "duration": 216,
    "start_time": "2024-09-04T18:19:45.707Z"
   },
   {
    "duration": 147,
    "start_time": "2024-09-04T18:19:45.925Z"
   },
   {
    "duration": 153,
    "start_time": "2024-09-04T18:19:46.073Z"
   },
   {
    "duration": 311,
    "start_time": "2024-09-04T18:19:46.227Z"
   },
   {
    "duration": 119,
    "start_time": "2024-09-04T18:19:46.539Z"
   },
   {
    "duration": 12,
    "start_time": "2024-09-04T18:19:46.660Z"
   },
   {
    "duration": 14,
    "start_time": "2024-09-04T18:19:46.673Z"
   },
   {
    "duration": 6,
    "start_time": "2024-09-04T18:19:46.688Z"
   },
   {
    "duration": 11,
    "start_time": "2024-09-04T18:19:46.695Z"
   },
   {
    "duration": 12,
    "start_time": "2024-09-04T18:19:46.708Z"
   },
   {
    "duration": 6,
    "start_time": "2024-09-04T18:19:46.752Z"
   },
   {
    "duration": 14,
    "start_time": "2024-09-04T18:19:46.759Z"
   },
   {
    "duration": 7,
    "start_time": "2024-09-04T18:19:46.775Z"
   },
   {
    "duration": 5,
    "start_time": "2024-09-04T18:19:46.784Z"
   },
   {
    "duration": 9,
    "start_time": "2024-09-04T18:19:46.790Z"
   },
   {
    "duration": 8,
    "start_time": "2024-09-04T18:19:46.800Z"
   },
   {
    "duration": 50,
    "start_time": "2024-09-04T18:19:46.810Z"
   },
   {
    "duration": 19,
    "start_time": "2024-09-04T18:19:46.862Z"
   },
   {
    "duration": 5,
    "start_time": "2024-09-04T18:19:46.886Z"
   },
   {
    "duration": 8,
    "start_time": "2024-09-04T18:19:46.892Z"
   },
   {
    "duration": 5,
    "start_time": "2024-09-04T18:19:46.901Z"
   },
   {
    "duration": 4,
    "start_time": "2024-09-04T18:19:46.907Z"
   },
   {
    "duration": 5,
    "start_time": "2024-09-04T18:19:46.912Z"
   },
   {
    "duration": 70,
    "start_time": "2024-09-04T18:19:46.918Z"
   },
   {
    "duration": 3,
    "start_time": "2024-09-04T18:19:46.989Z"
   },
   {
    "duration": 30,
    "start_time": "2024-09-04T18:19:46.994Z"
   },
   {
    "duration": 838,
    "start_time": "2024-09-04T18:19:47.026Z"
   },
   {
    "duration": 2482,
    "start_time": "2024-09-04T18:19:47.866Z"
   },
   {
    "duration": 1357,
    "start_time": "2024-09-04T18:19:50.350Z"
   },
   {
    "duration": 4,
    "start_time": "2024-09-04T18:20:20.874Z"
   },
   {
    "duration": 43,
    "start_time": "2024-09-04T18:20:21.545Z"
   },
   {
    "duration": 3735,
    "start_time": "2024-09-05T09:40:05.202Z"
   },
   {
    "duration": 1768,
    "start_time": "2024-09-05T09:40:08.939Z"
   },
   {
    "duration": 355,
    "start_time": "2024-09-05T09:40:10.711Z"
   },
   {
    "duration": 15,
    "start_time": "2024-09-05T09:40:11.068Z"
   },
   {
    "duration": 17,
    "start_time": "2024-09-05T09:40:11.085Z"
   },
   {
    "duration": 21,
    "start_time": "2024-09-05T09:40:11.103Z"
   },
   {
    "duration": 35,
    "start_time": "2024-09-05T09:40:11.126Z"
   },
   {
    "duration": 26,
    "start_time": "2024-09-05T09:40:11.163Z"
   },
   {
    "duration": 11,
    "start_time": "2024-09-05T09:40:11.191Z"
   },
   {
    "duration": 40,
    "start_time": "2024-09-05T09:40:11.203Z"
   },
   {
    "duration": 17,
    "start_time": "2024-09-05T09:40:11.246Z"
   },
   {
    "duration": 17,
    "start_time": "2024-09-05T09:40:11.265Z"
   },
   {
    "duration": 11,
    "start_time": "2024-09-05T09:40:11.284Z"
   },
   {
    "duration": 34,
    "start_time": "2024-09-05T09:40:11.297Z"
   },
   {
    "duration": 30,
    "start_time": "2024-09-05T09:40:11.335Z"
   },
   {
    "duration": 22,
    "start_time": "2024-09-05T09:40:11.367Z"
   },
   {
    "duration": 6,
    "start_time": "2024-09-05T09:40:11.391Z"
   },
   {
    "duration": 27,
    "start_time": "2024-09-05T09:40:11.398Z"
   },
   {
    "duration": 12,
    "start_time": "2024-09-05T09:40:11.426Z"
   },
   {
    "duration": 31,
    "start_time": "2024-09-05T09:40:11.440Z"
   },
   {
    "duration": 10,
    "start_time": "2024-09-05T09:40:11.473Z"
   },
   {
    "duration": 17,
    "start_time": "2024-09-05T09:40:11.485Z"
   },
   {
    "duration": 39,
    "start_time": "2024-09-05T09:40:11.504Z"
   },
   {
    "duration": 22,
    "start_time": "2024-09-05T09:40:11.545Z"
   },
   {
    "duration": 17,
    "start_time": "2024-09-05T09:40:11.569Z"
   },
   {
    "duration": 22,
    "start_time": "2024-09-05T09:40:11.588Z"
   },
   {
    "duration": 19,
    "start_time": "2024-09-05T09:40:11.614Z"
   },
   {
    "duration": 42,
    "start_time": "2024-09-05T09:40:11.635Z"
   },
   {
    "duration": 37,
    "start_time": "2024-09-05T09:40:11.679Z"
   },
   {
    "duration": 197,
    "start_time": "2024-09-05T09:40:11.718Z"
   },
   {
    "duration": 148,
    "start_time": "2024-09-05T09:40:11.916Z"
   },
   {
    "duration": 7,
    "start_time": "2024-09-05T09:40:12.066Z"
   },
   {
    "duration": 148,
    "start_time": "2024-09-05T09:40:12.075Z"
   },
   {
    "duration": 6,
    "start_time": "2024-09-05T09:40:12.224Z"
   },
   {
    "duration": 174,
    "start_time": "2024-09-05T09:40:12.231Z"
   },
   {
    "duration": 293,
    "start_time": "2024-09-05T09:40:12.407Z"
   },
   {
    "duration": 3,
    "start_time": "2024-09-05T09:40:12.703Z"
   },
   {
    "duration": 222,
    "start_time": "2024-09-05T09:40:12.708Z"
   },
   {
    "duration": 126,
    "start_time": "2024-09-05T09:40:12.932Z"
   },
   {
    "duration": 210,
    "start_time": "2024-09-05T09:40:13.059Z"
   },
   {
    "duration": 192,
    "start_time": "2024-09-05T09:40:13.271Z"
   },
   {
    "duration": 115,
    "start_time": "2024-09-05T09:40:13.465Z"
   },
   {
    "duration": 195,
    "start_time": "2024-09-05T09:40:13.582Z"
   },
   {
    "duration": 137,
    "start_time": "2024-09-05T09:40:13.779Z"
   },
   {
    "duration": 6,
    "start_time": "2024-09-05T09:40:13.917Z"
   },
   {
    "duration": 217,
    "start_time": "2024-09-05T09:40:13.925Z"
   },
   {
    "duration": 14,
    "start_time": "2024-09-05T09:40:14.145Z"
   },
   {
    "duration": 281,
    "start_time": "2024-09-05T09:40:14.160Z"
   },
   {
    "duration": 146,
    "start_time": "2024-09-05T09:40:14.443Z"
   },
   {
    "duration": 288,
    "start_time": "2024-09-05T09:40:14.590Z"
   },
   {
    "duration": 104,
    "start_time": "2024-09-05T09:40:14.880Z"
   },
   {
    "duration": 198,
    "start_time": "2024-09-05T09:40:14.986Z"
   },
   {
    "duration": 126,
    "start_time": "2024-09-05T09:40:15.185Z"
   },
   {
    "duration": 185,
    "start_time": "2024-09-05T09:40:15.312Z"
   },
   {
    "duration": 114,
    "start_time": "2024-09-05T09:40:15.499Z"
   },
   {
    "duration": 8,
    "start_time": "2024-09-05T09:40:15.615Z"
   },
   {
    "duration": 57,
    "start_time": "2024-09-05T09:40:15.626Z"
   },
   {
    "duration": 27,
    "start_time": "2024-09-05T09:40:15.685Z"
   },
   {
    "duration": 17,
    "start_time": "2024-09-05T09:40:15.714Z"
   },
   {
    "duration": 24,
    "start_time": "2024-09-05T09:40:15.732Z"
   },
   {
    "duration": 191,
    "start_time": "2024-09-05T09:40:15.759Z"
   },
   {
    "duration": 118,
    "start_time": "2024-09-05T09:40:15.960Z"
   },
   {
    "duration": 144,
    "start_time": "2024-09-05T09:40:16.079Z"
   },
   {
    "duration": 189,
    "start_time": "2024-09-05T09:40:16.224Z"
   },
   {
    "duration": 148,
    "start_time": "2024-09-05T09:40:16.414Z"
   },
   {
    "duration": 142,
    "start_time": "2024-09-05T09:40:16.563Z"
   },
   {
    "duration": 290,
    "start_time": "2024-09-05T09:40:16.707Z"
   },
   {
    "duration": 114,
    "start_time": "2024-09-05T09:40:16.999Z"
   },
   {
    "duration": 10,
    "start_time": "2024-09-05T09:40:17.115Z"
   },
   {
    "duration": 42,
    "start_time": "2024-09-05T09:40:17.127Z"
   },
   {
    "duration": 14,
    "start_time": "2024-09-05T09:40:17.170Z"
   },
   {
    "duration": 24,
    "start_time": "2024-09-05T09:40:17.186Z"
   },
   {
    "duration": 31,
    "start_time": "2024-09-05T09:40:17.212Z"
   },
   {
    "duration": 18,
    "start_time": "2024-09-05T09:40:17.245Z"
   },
   {
    "duration": 32,
    "start_time": "2024-09-05T09:40:17.265Z"
   },
   {
    "duration": 6,
    "start_time": "2024-09-05T09:40:17.299Z"
   },
   {
    "duration": 25,
    "start_time": "2024-09-05T09:40:17.307Z"
   },
   {
    "duration": 30,
    "start_time": "2024-09-05T09:40:17.334Z"
   },
   {
    "duration": 17,
    "start_time": "2024-09-05T09:40:17.366Z"
   },
   {
    "duration": 25,
    "start_time": "2024-09-05T09:40:17.385Z"
   },
   {
    "duration": 18,
    "start_time": "2024-09-05T09:40:17.416Z"
   },
   {
    "duration": 27,
    "start_time": "2024-09-05T09:40:17.436Z"
   },
   {
    "duration": 26,
    "start_time": "2024-09-05T09:40:17.465Z"
   },
   {
    "duration": 10,
    "start_time": "2024-09-05T09:40:17.493Z"
   },
   {
    "duration": 12,
    "start_time": "2024-09-05T09:40:17.505Z"
   },
   {
    "duration": 24,
    "start_time": "2024-09-05T09:40:17.519Z"
   },
   {
    "duration": 43,
    "start_time": "2024-09-05T09:40:17.545Z"
   },
   {
    "duration": 42,
    "start_time": "2024-09-05T09:40:17.594Z"
   },
   {
    "duration": 858,
    "start_time": "2024-09-05T09:40:17.646Z"
   },
   {
    "duration": 2554,
    "start_time": "2024-09-05T09:40:18.506Z"
   },
   {
    "duration": 1432,
    "start_time": "2024-09-05T09:40:21.062Z"
   },
   {
    "duration": 15,
    "start_time": "2024-09-05T09:50:25.550Z"
   },
   {
    "duration": 14,
    "start_time": "2024-09-05T10:01:36.489Z"
   },
   {
    "duration": 10,
    "start_time": "2024-09-05T10:03:10.058Z"
   },
   {
    "duration": 19,
    "start_time": "2024-09-05T10:03:30.443Z"
   },
   {
    "duration": 8,
    "start_time": "2024-09-05T10:05:18.962Z"
   },
   {
    "duration": 10,
    "start_time": "2024-09-05T10:05:19.823Z"
   },
   {
    "duration": 2459,
    "start_time": "2024-09-05T10:10:48.733Z"
   },
   {
    "duration": 1424,
    "start_time": "2024-09-05T10:10:51.194Z"
   },
   {
    "duration": 92,
    "start_time": "2024-09-05T10:10:52.619Z"
   },
   {
    "duration": 15,
    "start_time": "2024-09-05T10:10:52.713Z"
   },
   {
    "duration": 7,
    "start_time": "2024-09-05T10:10:52.730Z"
   },
   {
    "duration": 18,
    "start_time": "2024-09-05T10:10:52.738Z"
   },
   {
    "duration": 9,
    "start_time": "2024-09-05T10:10:52.758Z"
   },
   {
    "duration": 35,
    "start_time": "2024-09-05T10:10:52.768Z"
   },
   {
    "duration": 7,
    "start_time": "2024-09-05T10:10:52.805Z"
   },
   {
    "duration": 20,
    "start_time": "2024-09-05T10:10:52.815Z"
   },
   {
    "duration": 7,
    "start_time": "2024-09-05T10:10:52.836Z"
   },
   {
    "duration": 4,
    "start_time": "2024-09-05T10:10:52.845Z"
   },
   {
    "duration": 7,
    "start_time": "2024-09-05T10:10:52.850Z"
   },
   {
    "duration": 8,
    "start_time": "2024-09-05T10:10:52.858Z"
   },
   {
    "duration": 9,
    "start_time": "2024-09-05T10:10:52.867Z"
   },
   {
    "duration": 17,
    "start_time": "2024-09-05T10:10:52.878Z"
   },
   {
    "duration": 8,
    "start_time": "2024-09-05T10:10:52.896Z"
   },
   {
    "duration": 11,
    "start_time": "2024-09-05T10:10:52.905Z"
   },
   {
    "duration": 7,
    "start_time": "2024-09-05T10:10:52.917Z"
   },
   {
    "duration": 11,
    "start_time": "2024-09-05T10:10:52.946Z"
   },
   {
    "duration": 5,
    "start_time": "2024-09-05T10:10:52.959Z"
   },
   {
    "duration": 4,
    "start_time": "2024-09-05T10:10:52.965Z"
   },
   {
    "duration": 4,
    "start_time": "2024-09-05T10:10:52.971Z"
   },
   {
    "duration": 5,
    "start_time": "2024-09-05T10:10:52.977Z"
   },
   {
    "duration": 9,
    "start_time": "2024-09-05T10:10:52.984Z"
   },
   {
    "duration": 21,
    "start_time": "2024-09-05T10:10:52.994Z"
   },
   {
    "duration": 33,
    "start_time": "2024-09-05T10:10:53.016Z"
   },
   {
    "duration": 5,
    "start_time": "2024-09-05T10:10:53.053Z"
   },
   {
    "duration": 11,
    "start_time": "2024-09-05T10:10:53.059Z"
   },
   {
    "duration": 177,
    "start_time": "2024-09-05T10:10:53.072Z"
   },
   {
    "duration": 134,
    "start_time": "2024-09-05T10:10:53.250Z"
   },
   {
    "duration": 5,
    "start_time": "2024-09-05T10:10:53.386Z"
   },
   {
    "duration": 148,
    "start_time": "2024-09-05T10:10:53.392Z"
   },
   {
    "duration": 5,
    "start_time": "2024-09-05T10:10:53.542Z"
   },
   {
    "duration": 159,
    "start_time": "2024-09-05T10:10:53.548Z"
   },
   {
    "duration": 281,
    "start_time": "2024-09-05T10:10:53.708Z"
   },
   {
    "duration": 3,
    "start_time": "2024-09-05T10:10:53.991Z"
   },
   {
    "duration": 184,
    "start_time": "2024-09-05T10:10:53.996Z"
   },
   {
    "duration": 109,
    "start_time": "2024-09-05T10:10:54.182Z"
   },
   {
    "duration": 186,
    "start_time": "2024-09-05T10:10:54.292Z"
   },
   {
    "duration": 174,
    "start_time": "2024-09-05T10:10:54.480Z"
   },
   {
    "duration": 102,
    "start_time": "2024-09-05T10:10:54.656Z"
   },
   {
    "duration": 176,
    "start_time": "2024-09-05T10:10:54.760Z"
   },
   {
    "duration": 115,
    "start_time": "2024-09-05T10:10:54.938Z"
   },
   {
    "duration": 5,
    "start_time": "2024-09-05T10:10:55.055Z"
   },
   {
    "duration": 193,
    "start_time": "2024-09-05T10:10:55.062Z"
   },
   {
    "duration": 7,
    "start_time": "2024-09-05T10:10:55.256Z"
   },
   {
    "duration": 170,
    "start_time": "2024-09-05T10:10:55.265Z"
   },
   {
    "duration": 153,
    "start_time": "2024-09-05T10:10:55.437Z"
   },
   {
    "duration": 247,
    "start_time": "2024-09-05T10:10:55.592Z"
   },
   {
    "duration": 93,
    "start_time": "2024-09-05T10:10:55.845Z"
   },
   {
    "duration": 191,
    "start_time": "2024-09-05T10:10:55.940Z"
   },
   {
    "duration": 126,
    "start_time": "2024-09-05T10:10:56.132Z"
   },
   {
    "duration": 176,
    "start_time": "2024-09-05T10:10:56.260Z"
   },
   {
    "duration": 119,
    "start_time": "2024-09-05T10:10:56.438Z"
   },
   {
    "duration": 9,
    "start_time": "2024-09-05T10:10:56.559Z"
   },
   {
    "duration": 37,
    "start_time": "2024-09-05T10:10:56.569Z"
   },
   {
    "duration": 33,
    "start_time": "2024-09-05T10:10:56.608Z"
   },
   {
    "duration": 16,
    "start_time": "2024-09-05T10:10:56.643Z"
   },
   {
    "duration": 19,
    "start_time": "2024-09-05T10:10:56.661Z"
   },
   {
    "duration": 197,
    "start_time": "2024-09-05T10:10:56.683Z"
   },
   {
    "duration": 122,
    "start_time": "2024-09-05T10:10:56.882Z"
   },
   {
    "duration": 150,
    "start_time": "2024-09-05T10:10:57.005Z"
   },
   {
    "duration": 205,
    "start_time": "2024-09-05T10:10:57.156Z"
   },
   {
    "duration": 129,
    "start_time": "2024-09-05T10:10:57.363Z"
   },
   {
    "duration": 142,
    "start_time": "2024-09-05T10:10:57.494Z"
   },
   {
    "duration": 275,
    "start_time": "2024-09-05T10:10:57.637Z"
   },
   {
    "duration": 103,
    "start_time": "2024-09-05T10:10:57.913Z"
   },
   {
    "duration": 10,
    "start_time": "2024-09-05T10:10:58.018Z"
   },
   {
    "duration": 51,
    "start_time": "2024-09-05T10:10:58.029Z"
   },
   {
    "duration": 23,
    "start_time": "2024-09-05T10:10:58.082Z"
   },
   {
    "duration": 13,
    "start_time": "2024-09-05T10:10:58.106Z"
   },
   {
    "duration": 10,
    "start_time": "2024-09-05T10:10:58.120Z"
   },
   {
    "duration": 34,
    "start_time": "2024-09-05T10:10:58.131Z"
   },
   {
    "duration": 72,
    "start_time": "2024-09-05T10:10:58.166Z"
   },
   {
    "duration": 13,
    "start_time": "2024-09-05T10:10:58.239Z"
   },
   {
    "duration": 30,
    "start_time": "2024-09-05T10:10:58.253Z"
   },
   {
    "duration": 28,
    "start_time": "2024-09-05T10:10:58.284Z"
   },
   {
    "duration": 10,
    "start_time": "2024-09-05T10:10:58.314Z"
   },
   {
    "duration": 21,
    "start_time": "2024-09-05T10:10:58.325Z"
   },
   {
    "duration": 21,
    "start_time": "2024-09-05T10:10:58.347Z"
   },
   {
    "duration": 13,
    "start_time": "2024-09-05T10:10:58.373Z"
   },
   {
    "duration": 29,
    "start_time": "2024-09-05T10:10:58.388Z"
   },
   {
    "duration": 19,
    "start_time": "2024-09-05T10:10:58.419Z"
   },
   {
    "duration": 17,
    "start_time": "2024-09-05T10:10:58.440Z"
   },
   {
    "duration": 19,
    "start_time": "2024-09-05T10:10:58.459Z"
   },
   {
    "duration": 17,
    "start_time": "2024-09-05T10:10:58.480Z"
   },
   {
    "duration": 14,
    "start_time": "2024-09-05T10:10:58.499Z"
   },
   {
    "duration": 21,
    "start_time": "2024-09-05T10:10:58.515Z"
   },
   {
    "duration": 27,
    "start_time": "2024-09-05T10:10:58.537Z"
   },
   {
    "duration": 52,
    "start_time": "2024-09-05T10:10:58.566Z"
   },
   {
    "duration": 822,
    "start_time": "2024-09-05T10:10:58.623Z"
   },
   {
    "duration": 3138,
    "start_time": "2024-09-05T10:10:59.447Z"
   },
   {
    "duration": 1300,
    "start_time": "2024-09-05T10:11:02.587Z"
   },
   {
    "duration": 6,
    "start_time": "2024-09-05T10:12:28.689Z"
   },
   {
    "duration": 5,
    "start_time": "2024-09-05T10:12:33.677Z"
   },
   {
    "duration": 10,
    "start_time": "2024-09-05T10:12:35.640Z"
   },
   {
    "duration": 11,
    "start_time": "2024-09-05T10:12:38.109Z"
   },
   {
    "duration": 5,
    "start_time": "2024-09-05T10:13:06.320Z"
   },
   {
    "duration": 11,
    "start_time": "2024-09-05T10:13:07.629Z"
   },
   {
    "duration": 11,
    "start_time": "2024-09-05T10:13:10.780Z"
   },
   {
    "duration": 7,
    "start_time": "2024-09-05T10:13:48.586Z"
   },
   {
    "duration": 12,
    "start_time": "2024-09-05T10:13:54.654Z"
   },
   {
    "duration": 8,
    "start_time": "2024-09-05T10:14:37.556Z"
   },
   {
    "duration": 15,
    "start_time": "2024-09-05T10:14:38.544Z"
   },
   {
    "duration": 4,
    "start_time": "2024-09-05T10:14:53.571Z"
   },
   {
    "duration": 5,
    "start_time": "2024-09-05T10:14:55.809Z"
   },
   {
    "duration": 11,
    "start_time": "2024-09-05T10:15:16.027Z"
   },
   {
    "duration": 7,
    "start_time": "2024-09-05T10:15:29.494Z"
   },
   {
    "duration": 11,
    "start_time": "2024-09-05T10:15:30.351Z"
   },
   {
    "duration": 11,
    "start_time": "2024-09-05T10:16:02.292Z"
   },
   {
    "duration": 6,
    "start_time": "2024-09-05T10:16:13.780Z"
   },
   {
    "duration": 10,
    "start_time": "2024-09-05T10:16:14.816Z"
   },
   {
    "duration": 13,
    "start_time": "2024-09-05T10:16:29.898Z"
   },
   {
    "duration": 2524,
    "start_time": "2024-09-05T10:16:41.405Z"
   },
   {
    "duration": 2715,
    "start_time": "2024-09-05T10:16:43.932Z"
   },
   {
    "duration": 94,
    "start_time": "2024-09-05T10:16:46.649Z"
   },
   {
    "duration": 16,
    "start_time": "2024-09-05T10:16:46.745Z"
   },
   {
    "duration": 8,
    "start_time": "2024-09-05T10:16:46.762Z"
   },
   {
    "duration": 9,
    "start_time": "2024-09-05T10:16:46.771Z"
   },
   {
    "duration": 7,
    "start_time": "2024-09-05T10:16:46.782Z"
   },
   {
    "duration": 19,
    "start_time": "2024-09-05T10:16:46.790Z"
   },
   {
    "duration": 6,
    "start_time": "2024-09-05T10:16:46.811Z"
   },
   {
    "duration": 36,
    "start_time": "2024-09-05T10:16:46.820Z"
   },
   {
    "duration": 8,
    "start_time": "2024-09-05T10:16:46.857Z"
   },
   {
    "duration": 6,
    "start_time": "2024-09-05T10:16:46.867Z"
   },
   {
    "duration": 15,
    "start_time": "2024-09-05T10:16:46.875Z"
   },
   {
    "duration": 8,
    "start_time": "2024-09-05T10:16:46.891Z"
   },
   {
    "duration": 11,
    "start_time": "2024-09-05T10:16:46.900Z"
   },
   {
    "duration": 13,
    "start_time": "2024-09-05T10:16:46.912Z"
   },
   {
    "duration": 3,
    "start_time": "2024-09-05T10:16:46.927Z"
   },
   {
    "duration": 7,
    "start_time": "2024-09-05T10:16:46.945Z"
   },
   {
    "duration": 13,
    "start_time": "2024-09-05T10:16:46.954Z"
   },
   {
    "duration": 10,
    "start_time": "2024-09-05T10:16:46.968Z"
   },
   {
    "duration": 4,
    "start_time": "2024-09-05T10:16:46.980Z"
   },
   {
    "duration": 5,
    "start_time": "2024-09-05T10:16:46.986Z"
   },
   {
    "duration": 15,
    "start_time": "2024-09-05T10:16:46.992Z"
   },
   {
    "duration": 16,
    "start_time": "2024-09-05T10:16:47.009Z"
   },
   {
    "duration": 19,
    "start_time": "2024-09-05T10:16:47.027Z"
   },
   {
    "duration": 9,
    "start_time": "2024-09-05T10:16:47.048Z"
   },
   {
    "duration": 7,
    "start_time": "2024-09-05T10:16:47.059Z"
   },
   {
    "duration": 5,
    "start_time": "2024-09-05T10:16:47.070Z"
   },
   {
    "duration": 10,
    "start_time": "2024-09-05T10:16:47.076Z"
   },
   {
    "duration": 195,
    "start_time": "2024-09-05T10:16:47.088Z"
   },
   {
    "duration": 136,
    "start_time": "2024-09-05T10:16:47.284Z"
   },
   {
    "duration": 7,
    "start_time": "2024-09-05T10:16:47.421Z"
   },
   {
    "duration": 198,
    "start_time": "2024-09-05T10:16:47.430Z"
   },
   {
    "duration": 5,
    "start_time": "2024-09-05T10:16:47.630Z"
   },
   {
    "duration": 158,
    "start_time": "2024-09-05T10:16:47.637Z"
   },
   {
    "duration": 285,
    "start_time": "2024-09-05T10:16:47.796Z"
   },
   {
    "duration": 3,
    "start_time": "2024-09-05T10:16:48.083Z"
   },
   {
    "duration": 179,
    "start_time": "2024-09-05T10:16:48.087Z"
   },
   {
    "duration": 111,
    "start_time": "2024-09-05T10:16:48.267Z"
   },
   {
    "duration": 243,
    "start_time": "2024-09-05T10:16:48.379Z"
   },
   {
    "duration": 183,
    "start_time": "2024-09-05T10:16:48.624Z"
   },
   {
    "duration": 110,
    "start_time": "2024-09-05T10:16:48.809Z"
   },
   {
    "duration": 180,
    "start_time": "2024-09-05T10:16:48.920Z"
   },
   {
    "duration": 118,
    "start_time": "2024-09-05T10:16:49.102Z"
   },
   {
    "duration": 61,
    "start_time": "2024-09-05T10:16:49.222Z"
   },
   {
    "duration": 236,
    "start_time": "2024-09-05T10:16:49.284Z"
   },
   {
    "duration": 6,
    "start_time": "2024-09-05T10:16:49.522Z"
   },
   {
    "duration": 187,
    "start_time": "2024-09-05T10:16:49.530Z"
   },
   {
    "duration": 117,
    "start_time": "2024-09-05T10:16:49.719Z"
   },
   {
    "duration": 250,
    "start_time": "2024-09-05T10:16:49.837Z"
   },
   {
    "duration": 103,
    "start_time": "2024-09-05T10:16:50.088Z"
   },
   {
    "duration": 176,
    "start_time": "2024-09-05T10:16:50.192Z"
   },
   {
    "duration": 119,
    "start_time": "2024-09-05T10:16:50.370Z"
   },
   {
    "duration": 202,
    "start_time": "2024-09-05T10:16:50.491Z"
   },
   {
    "duration": 117,
    "start_time": "2024-09-05T10:16:50.694Z"
   },
   {
    "duration": 9,
    "start_time": "2024-09-05T10:16:50.813Z"
   },
   {
    "duration": 31,
    "start_time": "2024-09-05T10:16:50.824Z"
   },
   {
    "duration": 16,
    "start_time": "2024-09-05T10:16:50.857Z"
   },
   {
    "duration": 7,
    "start_time": "2024-09-05T10:16:50.875Z"
   },
   {
    "duration": 10,
    "start_time": "2024-09-05T10:16:50.884Z"
   },
   {
    "duration": 190,
    "start_time": "2024-09-05T10:16:50.896Z"
   },
   {
    "duration": 129,
    "start_time": "2024-09-05T10:16:51.088Z"
   },
   {
    "duration": 159,
    "start_time": "2024-09-05T10:16:51.218Z"
   },
   {
    "duration": 185,
    "start_time": "2024-09-05T10:16:51.378Z"
   },
   {
    "duration": 119,
    "start_time": "2024-09-05T10:16:51.564Z"
   },
   {
    "duration": 141,
    "start_time": "2024-09-05T10:16:51.685Z"
   },
   {
    "duration": 279,
    "start_time": "2024-09-05T10:16:51.828Z"
   },
   {
    "duration": 115,
    "start_time": "2024-09-05T10:16:52.109Z"
   },
   {
    "duration": 20,
    "start_time": "2024-09-05T10:16:52.226Z"
   },
   {
    "duration": 226,
    "start_time": "2024-09-05T10:16:52.248Z"
   },
   {
    "duration": 27,
    "start_time": "2024-09-05T10:16:52.475Z"
   },
   {
    "duration": 21,
    "start_time": "2024-09-05T10:16:52.504Z"
   },
   {
    "duration": 92,
    "start_time": "2024-09-05T10:16:52.527Z"
   },
   {
    "duration": 42,
    "start_time": "2024-09-05T10:16:52.621Z"
   },
   {
    "duration": 74,
    "start_time": "2024-09-05T10:16:52.664Z"
   },
   {
    "duration": 19,
    "start_time": "2024-09-05T10:16:52.740Z"
   },
   {
    "duration": 26,
    "start_time": "2024-09-05T10:16:52.761Z"
   },
   {
    "duration": 84,
    "start_time": "2024-09-05T10:16:52.788Z"
   },
   {
    "duration": 42,
    "start_time": "2024-09-05T10:16:52.874Z"
   },
   {
    "duration": 22,
    "start_time": "2024-09-05T10:16:52.917Z"
   },
   {
    "duration": 15,
    "start_time": "2024-09-05T10:16:52.940Z"
   },
   {
    "duration": 10,
    "start_time": "2024-09-05T10:16:52.961Z"
   },
   {
    "duration": 9,
    "start_time": "2024-09-05T10:16:52.972Z"
   },
   {
    "duration": 9,
    "start_time": "2024-09-05T10:16:52.983Z"
   },
   {
    "duration": 14,
    "start_time": "2024-09-05T10:16:52.994Z"
   },
   {
    "duration": 41,
    "start_time": "2024-09-05T10:16:53.010Z"
   },
   {
    "duration": 8,
    "start_time": "2024-09-05T10:16:53.052Z"
   },
   {
    "duration": 32,
    "start_time": "2024-09-05T10:16:53.061Z"
   },
   {
    "duration": 23,
    "start_time": "2024-09-05T10:16:53.094Z"
   },
   {
    "duration": 20,
    "start_time": "2024-09-05T10:16:53.119Z"
   },
   {
    "duration": 14,
    "start_time": "2024-09-05T10:16:53.140Z"
   },
   {
    "duration": 26,
    "start_time": "2024-09-05T10:16:53.155Z"
   },
   {
    "duration": 35,
    "start_time": "2024-09-05T10:16:53.182Z"
   },
   {
    "duration": 1018,
    "start_time": "2024-09-05T10:16:53.219Z"
   },
   {
    "duration": 2922,
    "start_time": "2024-09-05T10:16:54.239Z"
   },
   {
    "duration": 1736,
    "start_time": "2024-09-05T10:16:57.163Z"
   },
   {
    "duration": 7,
    "start_time": "2024-09-05T10:17:17.116Z"
   },
   {
    "duration": 12,
    "start_time": "2024-09-05T10:17:17.750Z"
   },
   {
    "duration": 11,
    "start_time": "2024-09-05T10:17:26.979Z"
   },
   {
    "duration": 6,
    "start_time": "2024-09-05T10:17:42.931Z"
   },
   {
    "duration": 10,
    "start_time": "2024-09-05T10:17:44.150Z"
   },
   {
    "duration": 6,
    "start_time": "2024-09-05T10:18:04.269Z"
   },
   {
    "duration": 10,
    "start_time": "2024-09-05T10:18:04.963Z"
   },
   {
    "duration": 11,
    "start_time": "2024-09-05T10:18:40.272Z"
   },
   {
    "duration": 9,
    "start_time": "2024-09-05T10:18:54.388Z"
   },
   {
    "duration": 10,
    "start_time": "2024-09-05T10:18:54.920Z"
   },
   {
    "duration": 15,
    "start_time": "2024-09-05T10:18:55.526Z"
   },
   {
    "duration": 11,
    "start_time": "2024-09-05T10:26:31.240Z"
   },
   {
    "duration": 11,
    "start_time": "2024-09-05T10:26:31.983Z"
   },
   {
    "duration": 6,
    "start_time": "2024-09-05T10:30:10.584Z"
   },
   {
    "duration": 10,
    "start_time": "2024-09-05T10:30:24.823Z"
   },
   {
    "duration": 10,
    "start_time": "2024-09-05T10:31:02.303Z"
   },
   {
    "duration": 5,
    "start_time": "2024-09-05T10:31:39.350Z"
   },
   {
    "duration": 8,
    "start_time": "2024-09-05T10:31:59.880Z"
   },
   {
    "duration": 4,
    "start_time": "2024-09-05T10:36:14.428Z"
   },
   {
    "duration": 5,
    "start_time": "2024-09-05T10:37:43.308Z"
   },
   {
    "duration": 9,
    "start_time": "2024-09-05T10:37:55.536Z"
   },
   {
    "duration": 12,
    "start_time": "2024-09-05T10:38:04.626Z"
   },
   {
    "duration": 4,
    "start_time": "2024-09-05T10:39:28.765Z"
   },
   {
    "duration": 15,
    "start_time": "2024-09-05T10:39:36.984Z"
   },
   {
    "duration": 6,
    "start_time": "2024-09-05T10:40:30.948Z"
   },
   {
    "duration": 12,
    "start_time": "2024-09-05T10:40:43.829Z"
   },
   {
    "duration": 4,
    "start_time": "2024-09-05T10:41:31.979Z"
   },
   {
    "duration": 7,
    "start_time": "2024-09-05T10:42:31.950Z"
   },
   {
    "duration": 6,
    "start_time": "2024-09-05T10:42:43.609Z"
   },
   {
    "duration": 10,
    "start_time": "2024-09-05T10:42:44.881Z"
   },
   {
    "duration": 7,
    "start_time": "2024-09-05T10:43:08.236Z"
   },
   {
    "duration": 121,
    "start_time": "2024-09-05T10:43:09.011Z"
   },
   {
    "duration": 15,
    "start_time": "2024-09-05T10:43:24.194Z"
   },
   {
    "duration": 8,
    "start_time": "2024-09-05T10:43:51.948Z"
   },
   {
    "duration": 21,
    "start_time": "2024-09-05T10:44:21.444Z"
   },
   {
    "duration": 8,
    "start_time": "2024-09-05T10:45:43.923Z"
   },
   {
    "duration": 10,
    "start_time": "2024-09-05T10:46:01.296Z"
   },
   {
    "duration": 11,
    "start_time": "2024-09-05T10:46:08.928Z"
   },
   {
    "duration": 9,
    "start_time": "2024-09-05T10:48:37.547Z"
   },
   {
    "duration": 20,
    "start_time": "2024-09-05T10:48:38.220Z"
   },
   {
    "duration": 14,
    "start_time": "2024-09-05T10:48:39.761Z"
   },
   {
    "duration": 11,
    "start_time": "2024-09-05T10:48:55.039Z"
   },
   {
    "duration": 19,
    "start_time": "2024-09-05T10:48:56.337Z"
   },
   {
    "duration": 11,
    "start_time": "2024-09-05T10:49:28.337Z"
   },
   {
    "duration": 7,
    "start_time": "2024-09-05T10:50:03.508Z"
   },
   {
    "duration": 10,
    "start_time": "2024-09-05T10:50:04.671Z"
   },
   {
    "duration": 76,
    "start_time": "2024-09-05T10:50:05.867Z"
   },
   {
    "duration": 14,
    "start_time": "2024-09-05T10:50:14.231Z"
   },
   {
    "duration": 15,
    "start_time": "2024-09-05T10:50:30.351Z"
   },
   {
    "duration": 9,
    "start_time": "2024-09-05T10:51:55.341Z"
   },
   {
    "duration": 6,
    "start_time": "2024-09-05T10:52:15.015Z"
   },
   {
    "duration": 7,
    "start_time": "2024-09-05T10:52:30.430Z"
   },
   {
    "duration": 12,
    "start_time": "2024-09-05T10:52:39.764Z"
   },
   {
    "duration": 15,
    "start_time": "2024-09-05T10:52:56.809Z"
   },
   {
    "duration": 15,
    "start_time": "2024-09-05T10:54:22.105Z"
   },
   {
    "duration": 615,
    "start_time": "2024-09-05T10:54:37.942Z"
   },
   {
    "duration": 1997,
    "start_time": "2024-09-05T10:54:47.382Z"
   },
   {
    "duration": 2634,
    "start_time": "2024-09-05T11:33:07.286Z"
   },
   {
    "duration": 1513,
    "start_time": "2024-09-05T11:33:09.923Z"
   },
   {
    "duration": 94,
    "start_time": "2024-09-05T11:33:11.438Z"
   },
   {
    "duration": 28,
    "start_time": "2024-09-05T11:33:11.534Z"
   },
   {
    "duration": 26,
    "start_time": "2024-09-05T11:33:11.563Z"
   },
   {
    "duration": 8,
    "start_time": "2024-09-05T11:33:11.591Z"
   },
   {
    "duration": 12,
    "start_time": "2024-09-05T11:33:11.601Z"
   },
   {
    "duration": 20,
    "start_time": "2024-09-05T11:33:11.614Z"
   },
   {
    "duration": 10,
    "start_time": "2024-09-05T11:33:11.636Z"
   },
   {
    "duration": 31,
    "start_time": "2024-09-05T11:33:11.649Z"
   },
   {
    "duration": 23,
    "start_time": "2024-09-05T11:33:11.682Z"
   },
   {
    "duration": 4,
    "start_time": "2024-09-05T11:33:11.707Z"
   },
   {
    "duration": 17,
    "start_time": "2024-09-05T11:33:11.713Z"
   },
   {
    "duration": 32,
    "start_time": "2024-09-05T11:33:11.732Z"
   },
   {
    "duration": 9,
    "start_time": "2024-09-05T11:33:11.766Z"
   },
   {
    "duration": 16,
    "start_time": "2024-09-05T11:33:11.777Z"
   },
   {
    "duration": 12,
    "start_time": "2024-09-05T11:33:11.795Z"
   },
   {
    "duration": 9,
    "start_time": "2024-09-05T11:33:11.809Z"
   },
   {
    "duration": 45,
    "start_time": "2024-09-05T11:33:11.820Z"
   },
   {
    "duration": 19,
    "start_time": "2024-09-05T11:33:11.866Z"
   },
   {
    "duration": 43,
    "start_time": "2024-09-05T11:33:11.887Z"
   },
   {
    "duration": 27,
    "start_time": "2024-09-05T11:33:11.932Z"
   },
   {
    "duration": 4,
    "start_time": "2024-09-05T11:33:11.961Z"
   },
   {
    "duration": 13,
    "start_time": "2024-09-05T11:33:11.967Z"
   },
   {
    "duration": 23,
    "start_time": "2024-09-05T11:33:11.982Z"
   },
   {
    "duration": 24,
    "start_time": "2024-09-05T11:33:12.006Z"
   },
   {
    "duration": 6,
    "start_time": "2024-09-05T11:33:12.032Z"
   },
   {
    "duration": 19,
    "start_time": "2024-09-05T11:33:12.042Z"
   },
   {
    "duration": 18,
    "start_time": "2024-09-05T11:33:12.064Z"
   },
   {
    "duration": 159,
    "start_time": "2024-09-05T11:33:12.083Z"
   },
   {
    "duration": 133,
    "start_time": "2024-09-05T11:33:12.245Z"
   },
   {
    "duration": 5,
    "start_time": "2024-09-05T11:33:12.380Z"
   },
   {
    "duration": 183,
    "start_time": "2024-09-05T11:33:12.387Z"
   },
   {
    "duration": 6,
    "start_time": "2024-09-05T11:33:12.572Z"
   },
   {
    "duration": 161,
    "start_time": "2024-09-05T11:33:12.580Z"
   },
   {
    "duration": 296,
    "start_time": "2024-09-05T11:33:12.742Z"
   },
   {
    "duration": 14,
    "start_time": "2024-09-05T11:33:13.039Z"
   },
   {
    "duration": 183,
    "start_time": "2024-09-05T11:33:13.060Z"
   },
   {
    "duration": 130,
    "start_time": "2024-09-05T11:33:13.250Z"
   },
   {
    "duration": 200,
    "start_time": "2024-09-05T11:33:13.382Z"
   },
   {
    "duration": 189,
    "start_time": "2024-09-05T11:33:13.584Z"
   },
   {
    "duration": 112,
    "start_time": "2024-09-05T11:33:13.775Z"
   },
   {
    "duration": 186,
    "start_time": "2024-09-05T11:33:13.888Z"
   },
   {
    "duration": 113,
    "start_time": "2024-09-05T11:33:14.076Z"
   },
   {
    "duration": 5,
    "start_time": "2024-09-05T11:33:14.190Z"
   },
   {
    "duration": 185,
    "start_time": "2024-09-05T11:33:14.197Z"
   },
   {
    "duration": 6,
    "start_time": "2024-09-05T11:33:14.384Z"
   },
   {
    "duration": 183,
    "start_time": "2024-09-05T11:33:14.392Z"
   },
   {
    "duration": 124,
    "start_time": "2024-09-05T11:33:14.577Z"
   },
   {
    "duration": 276,
    "start_time": "2024-09-05T11:33:14.703Z"
   },
   {
    "duration": 108,
    "start_time": "2024-09-05T11:33:14.981Z"
   },
   {
    "duration": 200,
    "start_time": "2024-09-05T11:33:15.091Z"
   },
   {
    "duration": 127,
    "start_time": "2024-09-05T11:33:15.293Z"
   },
   {
    "duration": 205,
    "start_time": "2024-09-05T11:33:15.422Z"
   },
   {
    "duration": 130,
    "start_time": "2024-09-05T11:33:15.629Z"
   },
   {
    "duration": 10,
    "start_time": "2024-09-05T11:33:15.760Z"
   },
   {
    "duration": 29,
    "start_time": "2024-09-05T11:33:15.771Z"
   },
   {
    "duration": 13,
    "start_time": "2024-09-05T11:33:15.802Z"
   },
   {
    "duration": 12,
    "start_time": "2024-09-05T11:33:15.816Z"
   },
   {
    "duration": 30,
    "start_time": "2024-09-05T11:33:15.829Z"
   },
   {
    "duration": 181,
    "start_time": "2024-09-05T11:33:15.861Z"
   },
   {
    "duration": 127,
    "start_time": "2024-09-05T11:33:16.045Z"
   },
   {
    "duration": 150,
    "start_time": "2024-09-05T11:33:16.174Z"
   },
   {
    "duration": 190,
    "start_time": "2024-09-05T11:33:16.326Z"
   },
   {
    "duration": 147,
    "start_time": "2024-09-05T11:33:16.517Z"
   },
   {
    "duration": 164,
    "start_time": "2024-09-05T11:33:16.666Z"
   },
   {
    "duration": 291,
    "start_time": "2024-09-05T11:33:16.832Z"
   },
   {
    "duration": 119,
    "start_time": "2024-09-05T11:33:17.126Z"
   },
   {
    "duration": 15,
    "start_time": "2024-09-05T11:33:17.247Z"
   },
   {
    "duration": 15,
    "start_time": "2024-09-05T11:33:17.264Z"
   },
   {
    "duration": 8,
    "start_time": "2024-09-05T11:33:17.281Z"
   },
   {
    "duration": 17,
    "start_time": "2024-09-05T11:33:17.290Z"
   },
   {
    "duration": 14,
    "start_time": "2024-09-05T11:33:17.308Z"
   },
   {
    "duration": 10,
    "start_time": "2024-09-05T11:33:17.323Z"
   },
   {
    "duration": 5,
    "start_time": "2024-09-05T11:33:17.334Z"
   },
   {
    "duration": 7,
    "start_time": "2024-09-05T11:33:17.341Z"
   },
   {
    "duration": 45,
    "start_time": "2024-09-05T11:33:17.349Z"
   },
   {
    "duration": 16,
    "start_time": "2024-09-05T11:33:17.395Z"
   },
   {
    "duration": 17,
    "start_time": "2024-09-05T11:33:17.413Z"
   },
   {
    "duration": 32,
    "start_time": "2024-09-05T11:33:17.431Z"
   },
   {
    "duration": 21,
    "start_time": "2024-09-05T11:33:17.477Z"
   },
   {
    "duration": 37,
    "start_time": "2024-09-05T11:33:17.505Z"
   },
   {
    "duration": 33,
    "start_time": "2024-09-05T11:33:17.544Z"
   },
   {
    "duration": 590,
    "start_time": "2024-09-05T11:33:17.578Z"
   },
   {
    "duration": 2028,
    "start_time": "2024-09-05T11:33:18.169Z"
   },
   {
    "duration": 10,
    "start_time": "2024-09-05T11:59:46.457Z"
   },
   {
    "duration": 2701,
    "start_time": "2024-09-05T11:59:54.631Z"
   },
   {
    "duration": 1695,
    "start_time": "2024-09-05T11:59:57.334Z"
   },
   {
    "duration": 95,
    "start_time": "2024-09-05T11:59:59.033Z"
   },
   {
    "duration": 30,
    "start_time": "2024-09-05T11:59:59.130Z"
   },
   {
    "duration": 43,
    "start_time": "2024-09-05T11:59:59.162Z"
   },
   {
    "duration": 39,
    "start_time": "2024-09-05T11:59:59.207Z"
   },
   {
    "duration": 18,
    "start_time": "2024-09-05T11:59:59.248Z"
   },
   {
    "duration": 13,
    "start_time": "2024-09-05T11:59:59.268Z"
   },
   {
    "duration": 10,
    "start_time": "2024-09-05T11:59:59.284Z"
   },
   {
    "duration": 23,
    "start_time": "2024-09-05T11:59:59.295Z"
   },
   {
    "duration": 20,
    "start_time": "2024-09-05T11:59:59.319Z"
   },
   {
    "duration": 22,
    "start_time": "2024-09-05T11:59:59.340Z"
   },
   {
    "duration": 7,
    "start_time": "2024-09-05T11:59:59.364Z"
   },
   {
    "duration": 19,
    "start_time": "2024-09-05T11:59:59.372Z"
   },
   {
    "duration": 17,
    "start_time": "2024-09-05T11:59:59.393Z"
   },
   {
    "duration": 18,
    "start_time": "2024-09-05T11:59:59.412Z"
   },
   {
    "duration": 29,
    "start_time": "2024-09-05T11:59:59.432Z"
   },
   {
    "duration": 19,
    "start_time": "2024-09-05T11:59:59.465Z"
   },
   {
    "duration": 15,
    "start_time": "2024-09-05T11:59:59.486Z"
   },
   {
    "duration": 16,
    "start_time": "2024-09-05T11:59:59.503Z"
   },
   {
    "duration": 59,
    "start_time": "2024-09-05T11:59:59.521Z"
   },
   {
    "duration": 19,
    "start_time": "2024-09-05T11:59:59.581Z"
   },
   {
    "duration": 65,
    "start_time": "2024-09-05T11:59:59.602Z"
   },
   {
    "duration": 59,
    "start_time": "2024-09-05T11:59:59.668Z"
   },
   {
    "duration": 10,
    "start_time": "2024-09-05T11:59:59.729Z"
   },
   {
    "duration": 19,
    "start_time": "2024-09-05T11:59:59.740Z"
   },
   {
    "duration": 5,
    "start_time": "2024-09-05T11:59:59.764Z"
   },
   {
    "duration": 10,
    "start_time": "2024-09-05T11:59:59.771Z"
   },
   {
    "duration": 11,
    "start_time": "2024-09-05T11:59:59.782Z"
   },
   {
    "duration": 174,
    "start_time": "2024-09-05T11:59:59.794Z"
   },
   {
    "duration": 132,
    "start_time": "2024-09-05T11:59:59.970Z"
   },
   {
    "duration": 5,
    "start_time": "2024-09-05T12:00:00.104Z"
   },
   {
    "duration": 186,
    "start_time": "2024-09-05T12:00:00.110Z"
   },
   {
    "duration": 8,
    "start_time": "2024-09-05T12:00:00.297Z"
   },
   {
    "duration": 205,
    "start_time": "2024-09-05T12:00:00.306Z"
   },
   {
    "duration": 292,
    "start_time": "2024-09-05T12:00:00.513Z"
   },
   {
    "duration": 3,
    "start_time": "2024-09-05T12:00:00.806Z"
   },
   {
    "duration": 287,
    "start_time": "2024-09-05T12:00:00.810Z"
   },
   {
    "duration": 127,
    "start_time": "2024-09-05T12:00:01.098Z"
   },
   {
    "duration": 251,
    "start_time": "2024-09-05T12:00:01.227Z"
   },
   {
    "duration": 183,
    "start_time": "2024-09-05T12:00:01.479Z"
   },
   {
    "duration": 124,
    "start_time": "2024-09-05T12:00:01.664Z"
   },
   {
    "duration": 197,
    "start_time": "2024-09-05T12:00:01.790Z"
   },
   {
    "duration": 130,
    "start_time": "2024-09-05T12:00:01.989Z"
   },
   {
    "duration": 6,
    "start_time": "2024-09-05T12:00:02.121Z"
   },
   {
    "duration": 215,
    "start_time": "2024-09-05T12:00:02.128Z"
   },
   {
    "duration": 15,
    "start_time": "2024-09-05T12:00:02.345Z"
   },
   {
    "duration": 202,
    "start_time": "2024-09-05T12:00:02.362Z"
   },
   {
    "duration": 133,
    "start_time": "2024-09-05T12:00:02.567Z"
   },
   {
    "duration": 292,
    "start_time": "2024-09-05T12:00:02.702Z"
   },
   {
    "duration": 131,
    "start_time": "2024-09-05T12:00:02.996Z"
   },
   {
    "duration": 233,
    "start_time": "2024-09-05T12:00:03.129Z"
   },
   {
    "duration": 133,
    "start_time": "2024-09-05T12:00:03.364Z"
   },
   {
    "duration": 202,
    "start_time": "2024-09-05T12:00:03.499Z"
   },
   {
    "duration": 128,
    "start_time": "2024-09-05T12:00:03.703Z"
   },
   {
    "duration": 16,
    "start_time": "2024-09-05T12:00:03.833Z"
   },
   {
    "duration": 38,
    "start_time": "2024-09-05T12:00:03.850Z"
   },
   {
    "duration": 89,
    "start_time": "2024-09-05T12:00:03.889Z"
   },
   {
    "duration": 30,
    "start_time": "2024-09-05T12:00:03.980Z"
   },
   {
    "duration": 63,
    "start_time": "2024-09-05T12:00:04.011Z"
   },
   {
    "duration": 207,
    "start_time": "2024-09-05T12:00:04.076Z"
   },
   {
    "duration": 133,
    "start_time": "2024-09-05T12:00:04.285Z"
   },
   {
    "duration": 173,
    "start_time": "2024-09-05T12:00:04.420Z"
   },
   {
    "duration": 210,
    "start_time": "2024-09-05T12:00:04.595Z"
   },
   {
    "duration": 141,
    "start_time": "2024-09-05T12:00:04.807Z"
   },
   {
    "duration": 152,
    "start_time": "2024-09-05T12:00:04.958Z"
   },
   {
    "duration": 331,
    "start_time": "2024-09-05T12:00:05.112Z"
   },
   {
    "duration": 120,
    "start_time": "2024-09-05T12:00:05.445Z"
   },
   {
    "duration": 5,
    "start_time": "2024-09-05T12:00:05.567Z"
   },
   {
    "duration": 101,
    "start_time": "2024-09-05T12:00:05.573Z"
   },
   {
    "duration": 16,
    "start_time": "2024-09-05T12:00:05.675Z"
   },
   {
    "duration": 25,
    "start_time": "2024-09-05T12:00:05.692Z"
   },
   {
    "duration": 38,
    "start_time": "2024-09-05T12:00:05.718Z"
   },
   {
    "duration": 14,
    "start_time": "2024-09-05T12:00:05.759Z"
   },
   {
    "duration": 20,
    "start_time": "2024-09-05T12:00:05.775Z"
   },
   {
    "duration": 71,
    "start_time": "2024-09-05T12:00:05.797Z"
   },
   {
    "duration": 19,
    "start_time": "2024-09-05T12:00:05.870Z"
   },
   {
    "duration": 19,
    "start_time": "2024-09-05T12:00:05.891Z"
   },
   {
    "duration": 24,
    "start_time": "2024-09-05T12:00:05.912Z"
   },
   {
    "duration": 37,
    "start_time": "2024-09-05T12:00:05.938Z"
   },
   {
    "duration": 37,
    "start_time": "2024-09-05T12:00:05.981Z"
   },
   {
    "duration": 76,
    "start_time": "2024-09-05T12:00:06.020Z"
   },
   {
    "duration": 96,
    "start_time": "2024-09-05T12:00:06.098Z"
   },
   {
    "duration": 707,
    "start_time": "2024-09-05T12:00:06.195Z"
   },
   {
    "duration": 2237,
    "start_time": "2024-09-05T12:00:06.904Z"
   },
   {
    "duration": 3589,
    "start_time": "2024-09-08T15:26:01.890Z"
   },
   {
    "duration": 1766,
    "start_time": "2024-09-08T15:26:05.481Z"
   },
   {
    "duration": 327,
    "start_time": "2024-09-08T15:26:07.249Z"
   },
   {
    "duration": 17,
    "start_time": "2024-09-08T15:26:07.577Z"
   },
   {
    "duration": 8,
    "start_time": "2024-09-08T15:26:07.596Z"
   },
   {
    "duration": 9,
    "start_time": "2024-09-08T15:26:07.606Z"
   },
   {
    "duration": 29,
    "start_time": "2024-09-08T15:26:07.617Z"
   },
   {
    "duration": 16,
    "start_time": "2024-09-08T15:26:07.648Z"
   },
   {
    "duration": 11,
    "start_time": "2024-09-08T15:26:07.666Z"
   },
   {
    "duration": 12,
    "start_time": "2024-09-08T15:26:07.679Z"
   },
   {
    "duration": 13,
    "start_time": "2024-09-08T15:26:07.692Z"
   },
   {
    "duration": 9,
    "start_time": "2024-09-08T15:26:07.706Z"
   },
   {
    "duration": 13,
    "start_time": "2024-09-08T15:26:07.716Z"
   },
   {
    "duration": 20,
    "start_time": "2024-09-08T15:26:07.732Z"
   },
   {
    "duration": 21,
    "start_time": "2024-09-08T15:26:07.754Z"
   },
   {
    "duration": 22,
    "start_time": "2024-09-08T15:26:07.776Z"
   },
   {
    "duration": 6,
    "start_time": "2024-09-08T15:26:07.799Z"
   },
   {
    "duration": 13,
    "start_time": "2024-09-08T15:26:07.806Z"
   },
   {
    "duration": 93,
    "start_time": "2024-09-08T15:26:07.820Z"
   },
   {
    "duration": 33,
    "start_time": "2024-09-08T15:26:07.914Z"
   },
   {
    "duration": 20,
    "start_time": "2024-09-08T15:26:07.949Z"
   },
   {
    "duration": 8,
    "start_time": "2024-09-08T15:26:07.970Z"
   },
   {
    "duration": 37,
    "start_time": "2024-09-08T15:26:07.979Z"
   },
   {
    "duration": 12,
    "start_time": "2024-09-08T15:26:08.018Z"
   },
   {
    "duration": 16,
    "start_time": "2024-09-08T15:26:08.032Z"
   },
   {
    "duration": 26,
    "start_time": "2024-09-08T15:26:08.050Z"
   },
   {
    "duration": 20,
    "start_time": "2024-09-08T15:26:08.079Z"
   },
   {
    "duration": 9,
    "start_time": "2024-09-08T15:26:08.101Z"
   },
   {
    "duration": 21,
    "start_time": "2024-09-08T15:26:08.112Z"
   },
   {
    "duration": 163,
    "start_time": "2024-09-08T15:26:08.134Z"
   },
   {
    "duration": 139,
    "start_time": "2024-09-08T15:26:08.299Z"
   },
   {
    "duration": 6,
    "start_time": "2024-09-08T15:26:08.440Z"
   },
   {
    "duration": 154,
    "start_time": "2024-09-08T15:26:08.448Z"
   },
   {
    "duration": 19,
    "start_time": "2024-09-08T15:26:08.604Z"
   },
   {
    "duration": 224,
    "start_time": "2024-09-08T15:26:08.625Z"
   },
   {
    "duration": 202,
    "start_time": "2024-09-08T15:26:08.850Z"
   },
   {
    "duration": 3,
    "start_time": "2024-09-08T15:26:09.054Z"
   },
   {
    "duration": 188,
    "start_time": "2024-09-08T15:26:09.059Z"
   },
   {
    "duration": 117,
    "start_time": "2024-09-08T15:26:09.249Z"
   },
   {
    "duration": 204,
    "start_time": "2024-09-08T15:26:09.368Z"
   },
   {
    "duration": 186,
    "start_time": "2024-09-08T15:26:09.577Z"
   },
   {
    "duration": 116,
    "start_time": "2024-09-08T15:26:09.764Z"
   },
   {
    "duration": 182,
    "start_time": "2024-09-08T15:26:09.882Z"
   },
   {
    "duration": 127,
    "start_time": "2024-09-08T15:26:10.066Z"
   },
   {
    "duration": 6,
    "start_time": "2024-09-08T15:26:10.195Z"
   },
   {
    "duration": 186,
    "start_time": "2024-09-08T15:26:10.202Z"
   },
   {
    "duration": 7,
    "start_time": "2024-09-08T15:26:10.389Z"
   },
   {
    "duration": 181,
    "start_time": "2024-09-08T15:26:10.398Z"
   },
   {
    "duration": 209,
    "start_time": "2024-09-08T15:26:10.580Z"
   },
   {
    "duration": 183,
    "start_time": "2024-09-08T15:26:10.791Z"
   },
   {
    "duration": 107,
    "start_time": "2024-09-08T15:26:10.975Z"
   },
   {
    "duration": 190,
    "start_time": "2024-09-08T15:26:11.084Z"
   },
   {
    "duration": 130,
    "start_time": "2024-09-08T15:26:11.276Z"
   },
   {
    "duration": 194,
    "start_time": "2024-09-08T15:26:11.408Z"
   },
   {
    "duration": 121,
    "start_time": "2024-09-08T15:26:11.604Z"
   },
   {
    "duration": 8,
    "start_time": "2024-09-08T15:26:11.726Z"
   },
   {
    "duration": 22,
    "start_time": "2024-09-08T15:26:11.736Z"
   },
   {
    "duration": 30,
    "start_time": "2024-09-08T15:26:11.760Z"
   },
   {
    "duration": 16,
    "start_time": "2024-09-08T15:26:11.791Z"
   },
   {
    "duration": 11,
    "start_time": "2024-09-08T15:26:11.809Z"
   },
   {
    "duration": 315,
    "start_time": "2024-09-08T15:26:11.821Z"
   },
   {
    "duration": 138,
    "start_time": "2024-09-08T15:26:12.138Z"
   },
   {
    "duration": 147,
    "start_time": "2024-09-08T15:26:12.277Z"
   },
   {
    "duration": 185,
    "start_time": "2024-09-08T15:26:12.426Z"
   },
   {
    "duration": 124,
    "start_time": "2024-09-08T15:26:12.612Z"
   },
   {
    "duration": 245,
    "start_time": "2024-09-08T15:26:12.737Z"
   },
   {
    "duration": 175,
    "start_time": "2024-09-08T15:26:12.984Z"
   },
   {
    "duration": 121,
    "start_time": "2024-09-08T15:26:13.160Z"
   },
   {
    "duration": 5,
    "start_time": "2024-09-08T15:26:13.283Z"
   },
   {
    "duration": 18,
    "start_time": "2024-09-08T15:26:13.290Z"
   },
   {
    "duration": 28,
    "start_time": "2024-09-08T15:26:13.310Z"
   },
   {
    "duration": 6,
    "start_time": "2024-09-08T15:26:13.340Z"
   },
   {
    "duration": 11,
    "start_time": "2024-09-08T15:26:13.348Z"
   },
   {
    "duration": 24,
    "start_time": "2024-09-08T15:26:13.361Z"
   },
   {
    "duration": 13,
    "start_time": "2024-09-08T15:26:13.387Z"
   },
   {
    "duration": 5,
    "start_time": "2024-09-08T15:26:13.402Z"
   },
   {
    "duration": 8,
    "start_time": "2024-09-08T15:26:13.409Z"
   },
   {
    "duration": 16,
    "start_time": "2024-09-08T15:26:13.419Z"
   },
   {
    "duration": 40,
    "start_time": "2024-09-08T15:26:13.437Z"
   },
   {
    "duration": 36,
    "start_time": "2024-09-08T15:26:13.478Z"
   },
   {
    "duration": 13,
    "start_time": "2024-09-08T15:26:13.516Z"
   },
   {
    "duration": 17,
    "start_time": "2024-09-08T15:26:13.531Z"
   },
   {
    "duration": 15,
    "start_time": "2024-09-08T15:26:13.550Z"
   },
   {
    "duration": 636,
    "start_time": "2024-09-08T15:26:13.567Z"
   },
   {
    "duration": 2086,
    "start_time": "2024-09-08T15:26:14.205Z"
   },
   {
    "duration": 3433,
    "start_time": "2024-09-09T12:37:26.724Z"
   },
   {
    "duration": 1483,
    "start_time": "2024-09-09T12:37:30.160Z"
   },
   {
    "duration": 311,
    "start_time": "2024-09-09T12:37:31.644Z"
   },
   {
    "duration": 14,
    "start_time": "2024-09-09T12:37:31.957Z"
   },
   {
    "duration": 21,
    "start_time": "2024-09-09T12:37:31.972Z"
   },
   {
    "duration": 9,
    "start_time": "2024-09-09T12:37:31.995Z"
   },
   {
    "duration": 9,
    "start_time": "2024-09-09T12:37:32.005Z"
   },
   {
    "duration": 11,
    "start_time": "2024-09-09T12:37:32.016Z"
   },
   {
    "duration": 3,
    "start_time": "2024-09-09T12:37:32.029Z"
   },
   {
    "duration": 10,
    "start_time": "2024-09-09T12:37:32.034Z"
   },
   {
    "duration": 26,
    "start_time": "2024-09-09T12:37:32.045Z"
   },
   {
    "duration": 24,
    "start_time": "2024-09-09T12:37:32.072Z"
   },
   {
    "duration": 28,
    "start_time": "2024-09-09T12:37:32.097Z"
   },
   {
    "duration": 9,
    "start_time": "2024-09-09T12:37:32.127Z"
   },
   {
    "duration": 21,
    "start_time": "2024-09-09T12:37:32.138Z"
   },
   {
    "duration": 23,
    "start_time": "2024-09-09T12:37:32.160Z"
   },
   {
    "duration": 28,
    "start_time": "2024-09-09T12:37:32.184Z"
   },
   {
    "duration": 7,
    "start_time": "2024-09-09T12:37:32.213Z"
   },
   {
    "duration": 8,
    "start_time": "2024-09-09T12:37:32.222Z"
   },
   {
    "duration": 10,
    "start_time": "2024-09-09T12:37:32.231Z"
   },
   {
    "duration": 14,
    "start_time": "2024-09-09T12:37:32.242Z"
   },
   {
    "duration": 14,
    "start_time": "2024-09-09T12:37:32.258Z"
   },
   {
    "duration": 15,
    "start_time": "2024-09-09T12:37:32.274Z"
   },
   {
    "duration": 13,
    "start_time": "2024-09-09T12:37:32.290Z"
   },
   {
    "duration": 16,
    "start_time": "2024-09-09T12:37:32.304Z"
   },
   {
    "duration": 8,
    "start_time": "2024-09-09T12:37:32.321Z"
   },
   {
    "duration": 6,
    "start_time": "2024-09-09T12:37:32.330Z"
   },
   {
    "duration": 25,
    "start_time": "2024-09-09T12:37:32.339Z"
   },
   {
    "duration": 9,
    "start_time": "2024-09-09T12:37:32.365Z"
   },
   {
    "duration": 261,
    "start_time": "2024-09-09T12:37:32.376Z"
   },
   {
    "duration": 116,
    "start_time": "2024-09-09T12:37:32.639Z"
   },
   {
    "duration": 6,
    "start_time": "2024-09-09T12:37:32.757Z"
   },
   {
    "duration": 133,
    "start_time": "2024-09-09T12:37:32.764Z"
   },
   {
    "duration": 11,
    "start_time": "2024-09-09T12:37:32.898Z"
   },
   {
    "duration": 267,
    "start_time": "2024-09-09T12:37:32.910Z"
   },
   {
    "duration": 186,
    "start_time": "2024-09-09T12:37:33.178Z"
   },
   {
    "duration": 3,
    "start_time": "2024-09-09T12:37:33.365Z"
   },
   {
    "duration": 149,
    "start_time": "2024-09-09T12:37:33.370Z"
   },
   {
    "duration": 91,
    "start_time": "2024-09-09T12:37:33.520Z"
   },
   {
    "duration": 159,
    "start_time": "2024-09-09T12:37:33.612Z"
   },
   {
    "duration": 136,
    "start_time": "2024-09-09T12:37:33.772Z"
   },
   {
    "duration": 98,
    "start_time": "2024-09-09T12:37:33.910Z"
   },
   {
    "duration": 146,
    "start_time": "2024-09-09T12:37:34.010Z"
   },
   {
    "duration": 105,
    "start_time": "2024-09-09T12:37:34.157Z"
   },
   {
    "duration": 5,
    "start_time": "2024-09-09T12:37:34.264Z"
   },
   {
    "duration": 159,
    "start_time": "2024-09-09T12:37:34.270Z"
   },
   {
    "duration": 7,
    "start_time": "2024-09-09T12:37:34.430Z"
   },
   {
    "duration": 220,
    "start_time": "2024-09-09T12:37:34.438Z"
   },
   {
    "duration": 169,
    "start_time": "2024-09-09T12:37:34.659Z"
   },
   {
    "duration": 150,
    "start_time": "2024-09-09T12:37:34.830Z"
   },
   {
    "duration": 94,
    "start_time": "2024-09-09T12:37:34.982Z"
   },
   {
    "duration": 161,
    "start_time": "2024-09-09T12:37:35.077Z"
   },
   {
    "duration": 117,
    "start_time": "2024-09-09T12:37:35.239Z"
   },
   {
    "duration": 139,
    "start_time": "2024-09-09T12:37:35.357Z"
   },
   {
    "duration": 96,
    "start_time": "2024-09-09T12:37:35.497Z"
   },
   {
    "duration": 13,
    "start_time": "2024-09-09T12:37:35.595Z"
   },
   {
    "duration": 51,
    "start_time": "2024-09-09T12:37:35.609Z"
   },
   {
    "duration": 22,
    "start_time": "2024-09-09T12:37:35.661Z"
   },
   {
    "duration": 7,
    "start_time": "2024-09-09T12:37:35.684Z"
   },
   {
    "duration": 11,
    "start_time": "2024-09-09T12:37:35.692Z"
   },
   {
    "duration": 165,
    "start_time": "2024-09-09T12:37:35.705Z"
   },
   {
    "duration": 100,
    "start_time": "2024-09-09T12:37:35.871Z"
   },
   {
    "duration": 160,
    "start_time": "2024-09-09T12:37:35.973Z"
   },
   {
    "duration": 149,
    "start_time": "2024-09-09T12:37:36.135Z"
   },
   {
    "duration": 104,
    "start_time": "2024-09-09T12:37:36.285Z"
   },
   {
    "duration": 210,
    "start_time": "2024-09-09T12:37:36.391Z"
   },
   {
    "duration": 163,
    "start_time": "2024-09-09T12:37:36.602Z"
   },
   {
    "duration": 91,
    "start_time": "2024-09-09T12:37:36.766Z"
   },
   {
    "duration": 5,
    "start_time": "2024-09-09T12:37:36.858Z"
   },
   {
    "duration": 39,
    "start_time": "2024-09-09T12:37:36.864Z"
   },
   {
    "duration": 68,
    "start_time": "2024-09-09T12:37:36.904Z"
   },
   {
    "duration": 5,
    "start_time": "2024-09-09T12:37:36.974Z"
   },
   {
    "duration": 12,
    "start_time": "2024-09-09T12:37:36.980Z"
   },
   {
    "duration": 4,
    "start_time": "2024-09-09T12:37:36.994Z"
   },
   {
    "duration": 5,
    "start_time": "2024-09-09T12:37:36.999Z"
   },
   {
    "duration": 14,
    "start_time": "2024-09-09T12:37:37.005Z"
   },
   {
    "duration": 8,
    "start_time": "2024-09-09T12:37:37.020Z"
   },
   {
    "duration": 7,
    "start_time": "2024-09-09T12:37:37.029Z"
   },
   {
    "duration": 5,
    "start_time": "2024-09-09T12:37:37.037Z"
   },
   {
    "duration": 13,
    "start_time": "2024-09-09T12:37:37.043Z"
   },
   {
    "duration": 19,
    "start_time": "2024-09-09T12:37:37.057Z"
   },
   {
    "duration": 16,
    "start_time": "2024-09-09T12:37:37.081Z"
   },
   {
    "duration": 12,
    "start_time": "2024-09-09T12:37:37.099Z"
   },
   {
    "duration": 491,
    "start_time": "2024-09-09T12:37:37.113Z"
   },
   {
    "duration": 1667,
    "start_time": "2024-09-09T12:37:37.606Z"
   },
   {
    "duration": 21,
    "start_time": "2024-09-09T13:05:40.491Z"
   },
   {
    "duration": 2649,
    "start_time": "2024-09-09T13:05:49.073Z"
   },
   {
    "duration": 1439,
    "start_time": "2024-09-09T13:05:51.725Z"
   },
   {
    "duration": 95,
    "start_time": "2024-09-09T13:05:53.166Z"
   },
   {
    "duration": 19,
    "start_time": "2024-09-09T13:05:53.263Z"
   },
   {
    "duration": 9,
    "start_time": "2024-09-09T13:05:53.283Z"
   },
   {
    "duration": 36,
    "start_time": "2024-09-09T13:05:53.293Z"
   },
   {
    "duration": 6,
    "start_time": "2024-09-09T13:05:53.331Z"
   },
   {
    "duration": 32,
    "start_time": "2024-09-09T13:05:53.339Z"
   },
   {
    "duration": 61,
    "start_time": "2024-09-09T13:05:53.372Z"
   },
   {
    "duration": 74,
    "start_time": "2024-09-09T13:05:53.436Z"
   },
   {
    "duration": 122,
    "start_time": "2024-09-09T13:05:53.512Z"
   },
   {
    "duration": 8,
    "start_time": "2024-09-09T13:05:53.635Z"
   },
   {
    "duration": 7,
    "start_time": "2024-09-09T13:05:53.644Z"
   },
   {
    "duration": 20,
    "start_time": "2024-09-09T13:05:53.652Z"
   },
   {
    "duration": 11,
    "start_time": "2024-09-09T13:05:53.674Z"
   },
   {
    "duration": 9,
    "start_time": "2024-09-09T13:05:53.687Z"
   },
   {
    "duration": 6,
    "start_time": "2024-09-09T13:05:53.697Z"
   },
   {
    "duration": 19,
    "start_time": "2024-09-09T13:05:53.704Z"
   },
   {
    "duration": 11,
    "start_time": "2024-09-09T13:05:53.725Z"
   },
   {
    "duration": 17,
    "start_time": "2024-09-09T13:05:53.738Z"
   },
   {
    "duration": 7,
    "start_time": "2024-09-09T13:05:53.757Z"
   },
   {
    "duration": 17,
    "start_time": "2024-09-09T13:05:53.765Z"
   },
   {
    "duration": 9,
    "start_time": "2024-09-09T13:05:53.783Z"
   },
   {
    "duration": 11,
    "start_time": "2024-09-09T13:05:53.793Z"
   },
   {
    "duration": 12,
    "start_time": "2024-09-09T13:05:53.805Z"
   },
   {
    "duration": 17,
    "start_time": "2024-09-09T13:05:53.818Z"
   },
   {
    "duration": 18,
    "start_time": "2024-09-09T13:05:53.836Z"
   },
   {
    "duration": 5,
    "start_time": "2024-09-09T13:05:53.858Z"
   },
   {
    "duration": 16,
    "start_time": "2024-09-09T13:05:53.864Z"
   },
   {
    "duration": 162,
    "start_time": "2024-09-09T13:05:53.881Z"
   },
   {
    "duration": 113,
    "start_time": "2024-09-09T13:05:54.045Z"
   },
   {
    "duration": 4,
    "start_time": "2024-09-09T13:05:54.160Z"
   },
   {
    "duration": 135,
    "start_time": "2024-09-09T13:05:54.165Z"
   },
   {
    "duration": 8,
    "start_time": "2024-09-09T13:05:54.301Z"
   },
   {
    "duration": 281,
    "start_time": "2024-09-09T13:05:54.310Z"
   },
   {
    "duration": 185,
    "start_time": "2024-09-09T13:05:54.593Z"
   },
   {
    "duration": 3,
    "start_time": "2024-09-09T13:05:54.780Z"
   },
   {
    "duration": 199,
    "start_time": "2024-09-09T13:05:54.784Z"
   },
   {
    "duration": 99,
    "start_time": "2024-09-09T13:05:54.985Z"
   },
   {
    "duration": 186,
    "start_time": "2024-09-09T13:05:55.086Z"
   },
   {
    "duration": 173,
    "start_time": "2024-09-09T13:05:55.274Z"
   },
   {
    "duration": 97,
    "start_time": "2024-09-09T13:05:55.449Z"
   },
   {
    "duration": 152,
    "start_time": "2024-09-09T13:05:55.547Z"
   },
   {
    "duration": 115,
    "start_time": "2024-09-09T13:05:55.700Z"
   },
   {
    "duration": 6,
    "start_time": "2024-09-09T13:05:55.816Z"
   },
   {
    "duration": 164,
    "start_time": "2024-09-09T13:05:55.823Z"
   },
   {
    "duration": 5,
    "start_time": "2024-09-09T13:05:55.989Z"
   },
   {
    "duration": 158,
    "start_time": "2024-09-09T13:05:55.996Z"
   },
   {
    "duration": 184,
    "start_time": "2024-09-09T13:05:56.155Z"
   },
   {
    "duration": 142,
    "start_time": "2024-09-09T13:05:56.340Z"
   },
   {
    "duration": 92,
    "start_time": "2024-09-09T13:05:56.483Z"
   },
   {
    "duration": 252,
    "start_time": "2024-09-09T13:05:56.577Z"
   },
   {
    "duration": 126,
    "start_time": "2024-09-09T13:05:56.831Z"
   },
   {
    "duration": 152,
    "start_time": "2024-09-09T13:05:56.958Z"
   },
   {
    "duration": 119,
    "start_time": "2024-09-09T13:05:57.112Z"
   },
   {
    "duration": 9,
    "start_time": "2024-09-09T13:05:57.233Z"
   },
   {
    "duration": 8,
    "start_time": "2024-09-09T13:05:57.243Z"
   },
   {
    "duration": 11,
    "start_time": "2024-09-09T13:05:57.253Z"
   },
   {
    "duration": 6,
    "start_time": "2024-09-09T13:05:57.265Z"
   },
   {
    "duration": 12,
    "start_time": "2024-09-09T13:05:57.272Z"
   },
   {
    "duration": 183,
    "start_time": "2024-09-09T13:05:57.286Z"
   },
   {
    "duration": 106,
    "start_time": "2024-09-09T13:05:57.471Z"
   },
   {
    "duration": 127,
    "start_time": "2024-09-09T13:05:57.578Z"
   },
   {
    "duration": 153,
    "start_time": "2024-09-09T13:05:57.706Z"
   },
   {
    "duration": 112,
    "start_time": "2024-09-09T13:05:57.860Z"
   },
   {
    "duration": 210,
    "start_time": "2024-09-09T13:05:57.973Z"
   },
   {
    "duration": 164,
    "start_time": "2024-09-09T13:05:58.184Z"
   },
   {
    "duration": 101,
    "start_time": "2024-09-09T13:05:58.349Z"
   },
   {
    "duration": 4,
    "start_time": "2024-09-09T13:05:58.452Z"
   },
   {
    "duration": 22,
    "start_time": "2024-09-09T13:05:58.457Z"
   },
   {
    "duration": 13,
    "start_time": "2024-09-09T13:05:58.480Z"
   },
   {
    "duration": 7,
    "start_time": "2024-09-09T13:05:58.495Z"
   },
   {
    "duration": 46,
    "start_time": "2024-09-09T13:05:58.503Z"
   },
   {
    "duration": 5,
    "start_time": "2024-09-09T13:05:58.550Z"
   },
   {
    "duration": 14,
    "start_time": "2024-09-09T13:05:58.557Z"
   },
   {
    "duration": 10,
    "start_time": "2024-09-09T13:05:58.573Z"
   },
   {
    "duration": 13,
    "start_time": "2024-09-09T13:05:58.584Z"
   },
   {
    "duration": 11,
    "start_time": "2024-09-09T13:05:58.599Z"
   },
   {
    "duration": 20,
    "start_time": "2024-09-09T13:05:58.611Z"
   },
   {
    "duration": 13,
    "start_time": "2024-09-09T13:05:58.633Z"
   },
   {
    "duration": 8,
    "start_time": "2024-09-09T13:05:58.647Z"
   },
   {
    "duration": 13,
    "start_time": "2024-09-09T13:05:58.662Z"
   },
   {
    "duration": 18,
    "start_time": "2024-09-09T13:05:58.677Z"
   },
   {
    "duration": 539,
    "start_time": "2024-09-09T13:05:58.696Z"
   },
   {
    "duration": 1708,
    "start_time": "2024-09-09T13:05:59.237Z"
   },
   {
    "duration": 118,
    "start_time": "2024-09-09T13:36:00.082Z"
   },
   {
    "duration": 16,
    "start_time": "2024-09-09T13:36:44.819Z"
   },
   {
    "duration": 2659,
    "start_time": "2024-09-09T13:36:57.864Z"
   },
   {
    "duration": 1317,
    "start_time": "2024-09-09T13:37:00.526Z"
   },
   {
    "duration": 88,
    "start_time": "2024-09-09T13:37:01.847Z"
   },
   {
    "duration": 14,
    "start_time": "2024-09-09T13:37:01.937Z"
   },
   {
    "duration": 48,
    "start_time": "2024-09-09T13:37:01.953Z"
   },
   {
    "duration": 18,
    "start_time": "2024-09-09T13:37:02.002Z"
   },
   {
    "duration": 22,
    "start_time": "2024-09-09T13:37:02.022Z"
   },
   {
    "duration": 18,
    "start_time": "2024-09-09T13:37:02.046Z"
   },
   {
    "duration": 40,
    "start_time": "2024-09-09T13:37:02.065Z"
   },
   {
    "duration": 18,
    "start_time": "2024-09-09T13:37:02.107Z"
   },
   {
    "duration": 29,
    "start_time": "2024-09-09T13:37:02.126Z"
   },
   {
    "duration": 20,
    "start_time": "2024-09-09T13:37:02.156Z"
   },
   {
    "duration": 38,
    "start_time": "2024-09-09T13:37:02.177Z"
   },
   {
    "duration": 7,
    "start_time": "2024-09-09T13:37:02.218Z"
   },
   {
    "duration": 19,
    "start_time": "2024-09-09T13:37:02.226Z"
   },
   {
    "duration": 47,
    "start_time": "2024-09-09T13:37:02.246Z"
   },
   {
    "duration": 30,
    "start_time": "2024-09-09T13:37:02.295Z"
   },
   {
    "duration": 29,
    "start_time": "2024-09-09T13:37:02.327Z"
   },
   {
    "duration": 11,
    "start_time": "2024-09-09T13:37:02.358Z"
   },
   {
    "duration": 25,
    "start_time": "2024-09-09T13:37:02.371Z"
   },
   {
    "duration": 17,
    "start_time": "2024-09-09T13:37:02.397Z"
   },
   {
    "duration": 23,
    "start_time": "2024-09-09T13:37:02.415Z"
   },
   {
    "duration": 18,
    "start_time": "2024-09-09T13:37:02.440Z"
   },
   {
    "duration": 40,
    "start_time": "2024-09-09T13:37:02.460Z"
   },
   {
    "duration": 28,
    "start_time": "2024-09-09T13:37:02.502Z"
   },
   {
    "duration": 12,
    "start_time": "2024-09-09T13:37:02.532Z"
   },
   {
    "duration": 37,
    "start_time": "2024-09-09T13:37:02.545Z"
   },
   {
    "duration": 37,
    "start_time": "2024-09-09T13:37:02.588Z"
   },
   {
    "duration": 56,
    "start_time": "2024-09-09T13:37:02.627Z"
   },
   {
    "duration": 143,
    "start_time": "2024-09-09T13:37:02.685Z"
   },
   {
    "duration": 111,
    "start_time": "2024-09-09T13:37:02.830Z"
   },
   {
    "duration": 6,
    "start_time": "2024-09-09T13:37:02.942Z"
   },
   {
    "duration": 197,
    "start_time": "2024-09-09T13:37:02.950Z"
   },
   {
    "duration": 5,
    "start_time": "2024-09-09T13:37:03.149Z"
   },
   {
    "duration": 252,
    "start_time": "2024-09-09T13:37:03.156Z"
   },
   {
    "duration": 177,
    "start_time": "2024-09-09T13:37:03.410Z"
   },
   {
    "duration": 3,
    "start_time": "2024-09-09T13:37:03.589Z"
   },
   {
    "duration": 239,
    "start_time": "2024-09-09T13:37:03.593Z"
   },
   {
    "duration": 96,
    "start_time": "2024-09-09T13:37:03.834Z"
   },
   {
    "duration": 170,
    "start_time": "2024-09-09T13:37:03.932Z"
   },
   {
    "duration": 142,
    "start_time": "2024-09-09T13:37:04.103Z"
   },
   {
    "duration": 100,
    "start_time": "2024-09-09T13:37:04.246Z"
   },
   {
    "duration": 146,
    "start_time": "2024-09-09T13:37:04.348Z"
   },
   {
    "duration": 118,
    "start_time": "2024-09-09T13:37:04.496Z"
   },
   {
    "duration": 6,
    "start_time": "2024-09-09T13:37:04.615Z"
   },
   {
    "duration": 274,
    "start_time": "2024-09-09T13:37:04.623Z"
   },
   {
    "duration": 8,
    "start_time": "2024-09-09T13:37:04.899Z"
   },
   {
    "duration": 170,
    "start_time": "2024-09-09T13:37:04.909Z"
   },
   {
    "duration": 197,
    "start_time": "2024-09-09T13:37:05.081Z"
   },
   {
    "duration": 134,
    "start_time": "2024-09-09T13:37:05.279Z"
   },
   {
    "duration": 84,
    "start_time": "2024-09-09T13:37:05.414Z"
   },
   {
    "duration": 156,
    "start_time": "2024-09-09T13:37:05.508Z"
   },
   {
    "duration": 110,
    "start_time": "2024-09-09T13:37:05.665Z"
   },
   {
    "duration": 148,
    "start_time": "2024-09-09T13:37:05.777Z"
   },
   {
    "duration": 97,
    "start_time": "2024-09-09T13:37:05.926Z"
   },
   {
    "duration": 8,
    "start_time": "2024-09-09T13:37:06.024Z"
   },
   {
    "duration": 14,
    "start_time": "2024-09-09T13:37:06.033Z"
   },
   {
    "duration": 29,
    "start_time": "2024-09-09T13:37:06.048Z"
   },
   {
    "duration": 14,
    "start_time": "2024-09-09T13:37:06.079Z"
   },
   {
    "duration": 14,
    "start_time": "2024-09-09T13:37:06.094Z"
   },
   {
    "duration": 186,
    "start_time": "2024-09-09T13:37:06.109Z"
   },
   {
    "duration": 136,
    "start_time": "2024-09-09T13:37:06.297Z"
   },
   {
    "duration": 131,
    "start_time": "2024-09-09T13:37:06.434Z"
   },
   {
    "duration": 148,
    "start_time": "2024-09-09T13:37:06.566Z"
   },
   {
    "duration": 121,
    "start_time": "2024-09-09T13:37:06.716Z"
   },
   {
    "duration": 217,
    "start_time": "2024-09-09T13:37:06.839Z"
   },
   {
    "duration": 144,
    "start_time": "2024-09-09T13:37:07.057Z"
   },
   {
    "duration": 130,
    "start_time": "2024-09-09T13:37:07.202Z"
   },
   {
    "duration": 6,
    "start_time": "2024-09-09T13:37:07.333Z"
   },
   {
    "duration": 19,
    "start_time": "2024-09-09T13:37:07.341Z"
   },
   {
    "duration": 28,
    "start_time": "2024-09-09T13:37:07.362Z"
   },
   {
    "duration": 14,
    "start_time": "2024-09-09T13:37:07.392Z"
   },
   {
    "duration": 16,
    "start_time": "2024-09-09T13:37:07.407Z"
   },
   {
    "duration": 4,
    "start_time": "2024-09-09T13:37:07.424Z"
   },
   {
    "duration": 6,
    "start_time": "2024-09-09T13:37:07.430Z"
   },
   {
    "duration": 7,
    "start_time": "2024-09-09T13:37:07.437Z"
   },
   {
    "duration": 15,
    "start_time": "2024-09-09T13:37:07.445Z"
   },
   {
    "duration": 20,
    "start_time": "2024-09-09T13:37:07.461Z"
   },
   {
    "duration": 14,
    "start_time": "2024-09-09T13:37:07.483Z"
   },
   {
    "duration": 17,
    "start_time": "2024-09-09T13:37:07.499Z"
   },
   {
    "duration": 10,
    "start_time": "2024-09-09T13:37:07.518Z"
   },
   {
    "duration": 17,
    "start_time": "2024-09-09T13:37:07.535Z"
   },
   {
    "duration": 54,
    "start_time": "2024-09-09T13:37:07.554Z"
   },
   {
    "duration": 605,
    "start_time": "2024-09-09T13:37:07.609Z"
   },
   {
    "duration": 1714,
    "start_time": "2024-09-09T13:37:08.216Z"
   },
   {
    "duration": 15,
    "start_time": "2024-09-09T13:37:09.932Z"
   },
   {
    "duration": 142,
    "start_time": "2024-09-09T13:37:09.949Z"
   },
   {
    "duration": 2626,
    "start_time": "2024-09-09T13:39:03.675Z"
   },
   {
    "duration": 1337,
    "start_time": "2024-09-09T13:39:06.302Z"
   },
   {
    "duration": 91,
    "start_time": "2024-09-09T13:39:07.641Z"
   },
   {
    "duration": 19,
    "start_time": "2024-09-09T13:39:07.742Z"
   },
   {
    "duration": 49,
    "start_time": "2024-09-09T13:39:07.763Z"
   },
   {
    "duration": 13,
    "start_time": "2024-09-09T13:39:07.814Z"
   },
   {
    "duration": 17,
    "start_time": "2024-09-09T13:39:07.829Z"
   },
   {
    "duration": 26,
    "start_time": "2024-09-09T13:39:07.848Z"
   },
   {
    "duration": 4,
    "start_time": "2024-09-09T13:39:07.876Z"
   },
   {
    "duration": 9,
    "start_time": "2024-09-09T13:39:07.883Z"
   },
   {
    "duration": 8,
    "start_time": "2024-09-09T13:39:07.894Z"
   },
   {
    "duration": 4,
    "start_time": "2024-09-09T13:39:07.906Z"
   },
   {
    "duration": 12,
    "start_time": "2024-09-09T13:39:07.911Z"
   },
   {
    "duration": 23,
    "start_time": "2024-09-09T13:39:07.925Z"
   },
   {
    "duration": 28,
    "start_time": "2024-09-09T13:39:07.950Z"
   },
   {
    "duration": 21,
    "start_time": "2024-09-09T13:39:07.980Z"
   },
   {
    "duration": 8,
    "start_time": "2024-09-09T13:39:08.002Z"
   },
   {
    "duration": 38,
    "start_time": "2024-09-09T13:39:08.011Z"
   },
   {
    "duration": 30,
    "start_time": "2024-09-09T13:39:08.050Z"
   },
   {
    "duration": 23,
    "start_time": "2024-09-09T13:39:08.081Z"
   },
   {
    "duration": 21,
    "start_time": "2024-09-09T13:39:08.106Z"
   },
   {
    "duration": 7,
    "start_time": "2024-09-09T13:39:08.129Z"
   },
   {
    "duration": 43,
    "start_time": "2024-09-09T13:39:08.138Z"
   },
   {
    "duration": 16,
    "start_time": "2024-09-09T13:39:08.183Z"
   },
   {
    "duration": 10,
    "start_time": "2024-09-09T13:39:08.201Z"
   },
   {
    "duration": 12,
    "start_time": "2024-09-09T13:39:08.212Z"
   },
   {
    "duration": 16,
    "start_time": "2024-09-09T13:39:08.226Z"
   },
   {
    "duration": 40,
    "start_time": "2024-09-09T13:39:08.248Z"
   },
   {
    "duration": 18,
    "start_time": "2024-09-09T13:39:08.289Z"
   },
   {
    "duration": 151,
    "start_time": "2024-09-09T13:39:08.309Z"
   },
   {
    "duration": 116,
    "start_time": "2024-09-09T13:39:08.462Z"
   },
   {
    "duration": 6,
    "start_time": "2024-09-09T13:39:08.580Z"
   },
   {
    "duration": 190,
    "start_time": "2024-09-09T13:39:08.587Z"
   },
   {
    "duration": 5,
    "start_time": "2024-09-09T13:39:08.778Z"
   },
   {
    "duration": 202,
    "start_time": "2024-09-09T13:39:08.784Z"
   },
   {
    "duration": 198,
    "start_time": "2024-09-09T13:39:08.988Z"
   },
   {
    "duration": 5,
    "start_time": "2024-09-09T13:39:09.187Z"
   },
   {
    "duration": 194,
    "start_time": "2024-09-09T13:39:09.194Z"
   },
   {
    "duration": 95,
    "start_time": "2024-09-09T13:39:09.390Z"
   },
   {
    "duration": 216,
    "start_time": "2024-09-09T13:39:09.486Z"
   },
   {
    "duration": 136,
    "start_time": "2024-09-09T13:39:09.706Z"
   },
   {
    "duration": 96,
    "start_time": "2024-09-09T13:39:09.844Z"
   },
   {
    "duration": 155,
    "start_time": "2024-09-09T13:39:09.941Z"
   },
   {
    "duration": 110,
    "start_time": "2024-09-09T13:39:10.097Z"
   },
   {
    "duration": 6,
    "start_time": "2024-09-09T13:39:10.208Z"
   },
   {
    "duration": 162,
    "start_time": "2024-09-09T13:39:10.215Z"
   },
   {
    "duration": 6,
    "start_time": "2024-09-09T13:39:10.379Z"
   },
   {
    "duration": 169,
    "start_time": "2024-09-09T13:39:10.387Z"
   },
   {
    "duration": 172,
    "start_time": "2024-09-09T13:39:10.557Z"
   },
   {
    "duration": 141,
    "start_time": "2024-09-09T13:39:10.731Z"
   },
   {
    "duration": 129,
    "start_time": "2024-09-09T13:39:10.874Z"
   },
   {
    "duration": 174,
    "start_time": "2024-09-09T13:39:11.005Z"
   },
   {
    "duration": 148,
    "start_time": "2024-09-09T13:39:11.181Z"
   },
   {
    "duration": 171,
    "start_time": "2024-09-09T13:39:11.331Z"
   },
   {
    "duration": 87,
    "start_time": "2024-09-09T13:39:11.503Z"
   },
   {
    "duration": 22,
    "start_time": "2024-09-09T13:39:11.591Z"
   },
   {
    "duration": 78,
    "start_time": "2024-09-09T13:39:11.615Z"
   },
   {
    "duration": 28,
    "start_time": "2024-09-09T13:39:11.695Z"
   },
   {
    "duration": 77,
    "start_time": "2024-09-09T13:39:11.724Z"
   },
   {
    "duration": 37,
    "start_time": "2024-09-09T13:39:11.802Z"
   },
   {
    "duration": 179,
    "start_time": "2024-09-09T13:39:11.841Z"
   },
   {
    "duration": 114,
    "start_time": "2024-09-09T13:39:12.022Z"
   },
   {
    "duration": 139,
    "start_time": "2024-09-09T13:39:12.137Z"
   },
   {
    "duration": 148,
    "start_time": "2024-09-09T13:39:12.277Z"
   },
   {
    "duration": 100,
    "start_time": "2024-09-09T13:39:12.427Z"
   },
   {
    "duration": 270,
    "start_time": "2024-09-09T13:39:12.529Z"
   },
   {
    "duration": 156,
    "start_time": "2024-09-09T13:39:12.801Z"
   },
   {
    "duration": 157,
    "start_time": "2024-09-09T13:39:12.959Z"
   },
   {
    "duration": 4,
    "start_time": "2024-09-09T13:39:13.119Z"
   },
   {
    "duration": 81,
    "start_time": "2024-09-09T13:39:13.124Z"
   },
   {
    "duration": 27,
    "start_time": "2024-09-09T13:39:13.207Z"
   },
   {
    "duration": 34,
    "start_time": "2024-09-09T13:39:13.236Z"
   },
   {
    "duration": 30,
    "start_time": "2024-09-09T13:39:13.271Z"
   },
   {
    "duration": 12,
    "start_time": "2024-09-09T13:39:13.303Z"
   },
   {
    "duration": 16,
    "start_time": "2024-09-09T13:39:13.316Z"
   },
   {
    "duration": 12,
    "start_time": "2024-09-09T13:39:13.333Z"
   },
   {
    "duration": 19,
    "start_time": "2024-09-09T13:39:13.346Z"
   },
   {
    "duration": 19,
    "start_time": "2024-09-09T13:39:13.367Z"
   },
   {
    "duration": 6,
    "start_time": "2024-09-09T13:39:13.388Z"
   },
   {
    "duration": 9,
    "start_time": "2024-09-09T13:39:13.396Z"
   },
   {
    "duration": 7,
    "start_time": "2024-09-09T13:39:13.406Z"
   },
   {
    "duration": 18,
    "start_time": "2024-09-09T13:39:13.420Z"
   },
   {
    "duration": 28,
    "start_time": "2024-09-09T13:39:13.439Z"
   },
   {
    "duration": 478,
    "start_time": "2024-09-09T13:39:13.469Z"
   },
   {
    "duration": 1613,
    "start_time": "2024-09-09T13:39:13.948Z"
   },
   {
    "duration": 10,
    "start_time": "2024-09-09T13:39:15.563Z"
   },
   {
    "duration": 489,
    "start_time": "2024-09-09T13:39:15.575Z"
   },
   {
    "duration": 14,
    "start_time": "2024-09-09T13:52:49.134Z"
   },
   {
    "duration": 193,
    "start_time": "2024-09-09T13:52:57.696Z"
   },
   {
    "duration": 23,
    "start_time": "2024-09-09T13:53:10.329Z"
   },
   {
    "duration": 28,
    "start_time": "2024-09-09T13:54:07.335Z"
   },
   {
    "duration": 10,
    "start_time": "2024-09-09T13:54:17.572Z"
   },
   {
    "duration": 2599,
    "start_time": "2024-09-09T13:54:51.750Z"
   },
   {
    "duration": 1303,
    "start_time": "2024-09-09T13:54:54.351Z"
   },
   {
    "duration": 88,
    "start_time": "2024-09-09T13:54:55.656Z"
   },
   {
    "duration": 14,
    "start_time": "2024-09-09T13:54:55.746Z"
   },
   {
    "duration": 6,
    "start_time": "2024-09-09T13:54:55.762Z"
   },
   {
    "duration": 66,
    "start_time": "2024-09-09T13:54:55.769Z"
   },
   {
    "duration": 31,
    "start_time": "2024-09-09T13:54:55.836Z"
   },
   {
    "duration": 25,
    "start_time": "2024-09-09T13:54:55.869Z"
   },
   {
    "duration": 6,
    "start_time": "2024-09-09T13:54:55.895Z"
   },
   {
    "duration": 12,
    "start_time": "2024-09-09T13:54:55.902Z"
   },
   {
    "duration": 4,
    "start_time": "2024-09-09T13:54:55.915Z"
   },
   {
    "duration": 51,
    "start_time": "2024-09-09T13:54:55.920Z"
   },
   {
    "duration": 43,
    "start_time": "2024-09-09T13:54:55.972Z"
   },
   {
    "duration": 11,
    "start_time": "2024-09-09T13:54:56.018Z"
   },
   {
    "duration": 91,
    "start_time": "2024-09-09T13:54:56.030Z"
   },
   {
    "duration": 82,
    "start_time": "2024-09-09T13:54:56.123Z"
   },
   {
    "duration": 10,
    "start_time": "2024-09-09T13:54:56.206Z"
   },
   {
    "duration": 12,
    "start_time": "2024-09-09T13:54:56.217Z"
   },
   {
    "duration": 20,
    "start_time": "2024-09-09T13:54:56.231Z"
   },
   {
    "duration": 13,
    "start_time": "2024-09-09T13:54:56.252Z"
   },
   {
    "duration": 24,
    "start_time": "2024-09-09T13:54:56.266Z"
   },
   {
    "duration": 7,
    "start_time": "2024-09-09T13:54:56.291Z"
   },
   {
    "duration": 30,
    "start_time": "2024-09-09T13:54:56.299Z"
   },
   {
    "duration": 10,
    "start_time": "2024-09-09T13:54:56.331Z"
   },
   {
    "duration": 10,
    "start_time": "2024-09-09T13:54:56.342Z"
   },
   {
    "duration": 10,
    "start_time": "2024-09-09T13:54:56.353Z"
   },
   {
    "duration": 6,
    "start_time": "2024-09-09T13:54:56.364Z"
   },
   {
    "duration": 13,
    "start_time": "2024-09-09T13:54:56.371Z"
   },
   {
    "duration": 36,
    "start_time": "2024-09-09T13:54:56.385Z"
   },
   {
    "duration": 124,
    "start_time": "2024-09-09T13:54:56.422Z"
   },
   {
    "duration": 106,
    "start_time": "2024-09-09T13:54:56.548Z"
   },
   {
    "duration": 6,
    "start_time": "2024-09-09T13:54:56.655Z"
   },
   {
    "duration": 270,
    "start_time": "2024-09-09T13:54:56.662Z"
   },
   {
    "duration": 5,
    "start_time": "2024-09-09T13:54:56.933Z"
   },
   {
    "duration": 208,
    "start_time": "2024-09-09T13:54:56.940Z"
   },
   {
    "duration": 182,
    "start_time": "2024-09-09T13:54:57.156Z"
   },
   {
    "duration": 3,
    "start_time": "2024-09-09T13:54:57.339Z"
   },
   {
    "duration": 145,
    "start_time": "2024-09-09T13:54:57.344Z"
   },
   {
    "duration": 95,
    "start_time": "2024-09-09T13:54:57.491Z"
   },
   {
    "duration": 166,
    "start_time": "2024-09-09T13:54:57.587Z"
   },
   {
    "duration": 138,
    "start_time": "2024-09-09T13:54:57.757Z"
   },
   {
    "duration": 91,
    "start_time": "2024-09-09T13:54:57.896Z"
   },
   {
    "duration": 143,
    "start_time": "2024-09-09T13:54:57.989Z"
   },
   {
    "duration": 101,
    "start_time": "2024-09-09T13:54:58.133Z"
   },
   {
    "duration": 6,
    "start_time": "2024-09-09T13:54:58.235Z"
   },
   {
    "duration": 157,
    "start_time": "2024-09-09T13:54:58.243Z"
   },
   {
    "duration": 6,
    "start_time": "2024-09-09T13:54:58.407Z"
   },
   {
    "duration": 140,
    "start_time": "2024-09-09T13:54:58.414Z"
   },
   {
    "duration": 162,
    "start_time": "2024-09-09T13:54:58.556Z"
   },
   {
    "duration": 148,
    "start_time": "2024-09-09T13:54:58.719Z"
   },
   {
    "duration": 95,
    "start_time": "2024-09-09T13:54:58.868Z"
   },
   {
    "duration": 152,
    "start_time": "2024-09-09T13:54:58.964Z"
   },
   {
    "duration": 108,
    "start_time": "2024-09-09T13:54:59.117Z"
   },
   {
    "duration": 149,
    "start_time": "2024-09-09T13:54:59.226Z"
   },
   {
    "duration": 97,
    "start_time": "2024-09-09T13:54:59.377Z"
   },
   {
    "duration": 7,
    "start_time": "2024-09-09T13:54:59.476Z"
   },
   {
    "duration": 23,
    "start_time": "2024-09-09T13:54:59.484Z"
   },
   {
    "duration": 7,
    "start_time": "2024-09-09T13:54:59.508Z"
   },
   {
    "duration": 3,
    "start_time": "2024-09-09T13:54:59.517Z"
   },
   {
    "duration": 11,
    "start_time": "2024-09-09T13:54:59.521Z"
   },
   {
    "duration": 158,
    "start_time": "2024-09-09T13:54:59.533Z"
   },
   {
    "duration": 106,
    "start_time": "2024-09-09T13:54:59.693Z"
   },
   {
    "duration": 133,
    "start_time": "2024-09-09T13:54:59.800Z"
   },
   {
    "duration": 153,
    "start_time": "2024-09-09T13:54:59.935Z"
   },
   {
    "duration": 118,
    "start_time": "2024-09-09T13:55:00.090Z"
   },
   {
    "duration": 217,
    "start_time": "2024-09-09T13:55:00.209Z"
   },
   {
    "duration": 170,
    "start_time": "2024-09-09T13:55:00.428Z"
   },
   {
    "duration": 90,
    "start_time": "2024-09-09T13:55:00.600Z"
   },
   {
    "duration": 91,
    "start_time": "2024-09-09T13:55:00.691Z"
   },
   {
    "duration": 30,
    "start_time": "2024-09-09T13:55:00.783Z"
   },
   {
    "duration": 4,
    "start_time": "2024-09-09T13:55:00.815Z"
   },
   {
    "duration": 10,
    "start_time": "2024-09-09T13:55:00.820Z"
   },
   {
    "duration": 18,
    "start_time": "2024-09-09T13:55:00.831Z"
   },
   {
    "duration": 4,
    "start_time": "2024-09-09T13:55:00.850Z"
   },
   {
    "duration": 6,
    "start_time": "2024-09-09T13:55:00.855Z"
   },
   {
    "duration": 31,
    "start_time": "2024-09-09T13:55:00.862Z"
   },
   {
    "duration": 14,
    "start_time": "2024-09-09T13:55:00.894Z"
   },
   {
    "duration": 9,
    "start_time": "2024-09-09T13:55:00.910Z"
   },
   {
    "duration": 18,
    "start_time": "2024-09-09T13:55:00.921Z"
   },
   {
    "duration": 9,
    "start_time": "2024-09-09T13:55:00.940Z"
   },
   {
    "duration": 6,
    "start_time": "2024-09-09T13:55:00.951Z"
   },
   {
    "duration": 11,
    "start_time": "2024-09-09T13:55:00.958Z"
   },
   {
    "duration": 30,
    "start_time": "2024-09-09T13:55:00.970Z"
   },
   {
    "duration": 485,
    "start_time": "2024-09-09T13:55:01.001Z"
   },
   {
    "duration": 1617,
    "start_time": "2024-09-09T13:55:01.488Z"
   },
   {
    "duration": 10,
    "start_time": "2024-09-09T13:55:03.107Z"
   },
   {
    "duration": 149,
    "start_time": "2024-09-09T13:55:03.118Z"
   },
   {
    "duration": 0,
    "start_time": "2024-09-09T13:55:03.268Z"
   },
   {
    "duration": 11,
    "start_time": "2024-09-09T14:01:23.589Z"
   },
   {
    "duration": 23,
    "start_time": "2024-09-09T14:01:25.295Z"
   },
   {
    "duration": 10,
    "start_time": "2024-09-09T14:02:12.361Z"
   },
   {
    "duration": 23,
    "start_time": "2024-09-09T14:02:13.677Z"
   },
   {
    "duration": 10,
    "start_time": "2024-09-09T14:08:45.358Z"
   },
   {
    "duration": 35,
    "start_time": "2024-09-09T14:08:46.600Z"
   },
   {
    "duration": 4082,
    "start_time": "2024-09-09T14:11:12.753Z"
   },
   {
    "duration": 9,
    "start_time": "2024-09-09T14:18:39.523Z"
   },
   {
    "duration": 3,
    "start_time": "2024-09-09T14:20:18.747Z"
   },
   {
    "duration": 4041,
    "start_time": "2024-09-09T14:26:30.967Z"
   },
   {
    "duration": 3,
    "start_time": "2024-09-09T14:26:45.681Z"
   },
   {
    "duration": 4533,
    "start_time": "2024-09-09T14:27:52.280Z"
   },
   {
    "duration": 4710,
    "start_time": "2024-09-09T14:28:08.960Z"
   },
   {
    "duration": 18,
    "start_time": "2024-09-09T14:28:39.532Z"
   },
   {
    "duration": 5,
    "start_time": "2024-09-09T14:29:22.993Z"
   },
   {
    "duration": 3647,
    "start_time": "2024-09-09T14:29:30.472Z"
   },
   {
    "duration": 4,
    "start_time": "2024-09-09T14:30:33.932Z"
   },
   {
    "duration": 23,
    "start_time": "2024-09-09T14:31:21.130Z"
   },
   {
    "duration": 111,
    "start_time": "2024-09-09T15:13:02.675Z"
   },
   {
    "duration": 56,
    "start_time": "2024-09-09T15:14:40.244Z"
   },
   {
    "duration": 52,
    "start_time": "2024-09-09T15:14:54.225Z"
   },
   {
    "duration": 70,
    "start_time": "2024-09-09T15:15:21.074Z"
   },
   {
    "duration": 66,
    "start_time": "2024-09-09T15:15:43.121Z"
   },
   {
    "duration": 62,
    "start_time": "2024-09-09T15:22:20.044Z"
   },
   {
    "duration": 83,
    "start_time": "2024-09-09T15:22:40.725Z"
   },
   {
    "duration": 58,
    "start_time": "2024-09-09T15:22:49.593Z"
   },
   {
    "duration": 61,
    "start_time": "2024-09-09T15:23:09.259Z"
   },
   {
    "duration": 3696,
    "start_time": "2024-09-09T15:23:18.139Z"
   },
   {
    "duration": 8,
    "start_time": "2024-09-09T15:26:17.224Z"
   },
   {
    "duration": 4,
    "start_time": "2024-09-09T15:28:06.703Z"
   },
   {
    "duration": 8,
    "start_time": "2024-09-09T15:31:37.297Z"
   },
   {
    "duration": 7,
    "start_time": "2024-09-09T15:32:57.195Z"
   },
   {
    "duration": 2521,
    "start_time": "2024-09-09T15:33:17.044Z"
   },
   {
    "duration": 1307,
    "start_time": "2024-09-09T15:33:19.567Z"
   },
   {
    "duration": 90,
    "start_time": "2024-09-09T15:33:20.877Z"
   },
   {
    "duration": 14,
    "start_time": "2024-09-09T15:33:20.968Z"
   },
   {
    "duration": 126,
    "start_time": "2024-09-09T15:33:20.984Z"
   },
   {
    "duration": 30,
    "start_time": "2024-09-09T15:33:21.111Z"
   },
   {
    "duration": 11,
    "start_time": "2024-09-09T15:33:21.143Z"
   },
   {
    "duration": 14,
    "start_time": "2024-09-09T15:33:21.155Z"
   },
   {
    "duration": 3,
    "start_time": "2024-09-09T15:33:21.172Z"
   },
   {
    "duration": 14,
    "start_time": "2024-09-09T15:33:21.177Z"
   },
   {
    "duration": 8,
    "start_time": "2024-09-09T15:33:21.193Z"
   },
   {
    "duration": 13,
    "start_time": "2024-09-09T15:33:21.202Z"
   },
   {
    "duration": 10,
    "start_time": "2024-09-09T15:33:21.216Z"
   },
   {
    "duration": 16,
    "start_time": "2024-09-09T15:33:21.227Z"
   },
   {
    "duration": 5,
    "start_time": "2024-09-09T15:33:21.244Z"
   },
   {
    "duration": 17,
    "start_time": "2024-09-09T15:33:21.250Z"
   },
   {
    "duration": 6,
    "start_time": "2024-09-09T15:33:21.269Z"
   },
   {
    "duration": 12,
    "start_time": "2024-09-09T15:33:21.276Z"
   },
   {
    "duration": 9,
    "start_time": "2024-09-09T15:33:21.289Z"
   },
   {
    "duration": 10,
    "start_time": "2024-09-09T15:33:21.299Z"
   },
   {
    "duration": 5,
    "start_time": "2024-09-09T15:33:21.310Z"
   },
   {
    "duration": 9,
    "start_time": "2024-09-09T15:33:21.317Z"
   },
   {
    "duration": 16,
    "start_time": "2024-09-09T15:33:21.327Z"
   },
   {
    "duration": 6,
    "start_time": "2024-09-09T15:33:21.344Z"
   },
   {
    "duration": 16,
    "start_time": "2024-09-09T15:33:21.352Z"
   },
   {
    "duration": 10,
    "start_time": "2024-09-09T15:33:21.370Z"
   },
   {
    "duration": 14,
    "start_time": "2024-09-09T15:33:21.385Z"
   },
   {
    "duration": 26,
    "start_time": "2024-09-09T15:33:21.400Z"
   },
   {
    "duration": 9,
    "start_time": "2024-09-09T15:33:21.428Z"
   },
   {
    "duration": 129,
    "start_time": "2024-09-09T15:33:21.439Z"
   },
   {
    "duration": 104,
    "start_time": "2024-09-09T15:33:21.570Z"
   },
   {
    "duration": 5,
    "start_time": "2024-09-09T15:33:21.676Z"
   },
   {
    "duration": 167,
    "start_time": "2024-09-09T15:33:21.682Z"
   },
   {
    "duration": 6,
    "start_time": "2024-09-09T15:33:21.851Z"
   },
   {
    "duration": 196,
    "start_time": "2024-09-09T15:33:21.858Z"
   },
   {
    "duration": 187,
    "start_time": "2024-09-09T15:33:22.056Z"
   },
   {
    "duration": 4,
    "start_time": "2024-09-09T15:33:22.244Z"
   },
   {
    "duration": 153,
    "start_time": "2024-09-09T15:33:22.249Z"
   },
   {
    "duration": 90,
    "start_time": "2024-09-09T15:33:22.403Z"
   },
   {
    "duration": 187,
    "start_time": "2024-09-09T15:33:22.494Z"
   },
   {
    "duration": 132,
    "start_time": "2024-09-09T15:33:22.683Z"
   },
   {
    "duration": 92,
    "start_time": "2024-09-09T15:33:22.816Z"
   },
   {
    "duration": 138,
    "start_time": "2024-09-09T15:33:22.910Z"
   },
   {
    "duration": 108,
    "start_time": "2024-09-09T15:33:23.049Z"
   },
   {
    "duration": 5,
    "start_time": "2024-09-09T15:33:23.158Z"
   },
   {
    "duration": 173,
    "start_time": "2024-09-09T15:33:23.165Z"
   },
   {
    "duration": 9,
    "start_time": "2024-09-09T15:33:23.340Z"
   },
   {
    "duration": 146,
    "start_time": "2024-09-09T15:33:23.351Z"
   },
   {
    "duration": 173,
    "start_time": "2024-09-09T15:33:23.499Z"
   },
   {
    "duration": 134,
    "start_time": "2024-09-09T15:33:23.674Z"
   },
   {
    "duration": 97,
    "start_time": "2024-09-09T15:33:23.810Z"
   },
   {
    "duration": 149,
    "start_time": "2024-09-09T15:33:23.908Z"
   },
   {
    "duration": 122,
    "start_time": "2024-09-09T15:33:24.058Z"
   },
   {
    "duration": 203,
    "start_time": "2024-09-09T15:33:24.182Z"
   },
   {
    "duration": 95,
    "start_time": "2024-09-09T15:33:24.387Z"
   },
   {
    "duration": 8,
    "start_time": "2024-09-09T15:33:24.483Z"
   },
   {
    "duration": 19,
    "start_time": "2024-09-09T15:33:24.492Z"
   },
   {
    "duration": 15,
    "start_time": "2024-09-09T15:33:24.513Z"
   },
   {
    "duration": 4,
    "start_time": "2024-09-09T15:33:24.530Z"
   },
   {
    "duration": 25,
    "start_time": "2024-09-09T15:33:24.535Z"
   },
   {
    "duration": 162,
    "start_time": "2024-09-09T15:33:24.561Z"
   },
   {
    "duration": 103,
    "start_time": "2024-09-09T15:33:24.725Z"
   },
   {
    "duration": 126,
    "start_time": "2024-09-09T15:33:24.829Z"
   },
   {
    "duration": 150,
    "start_time": "2024-09-09T15:33:24.957Z"
   },
   {
    "duration": 117,
    "start_time": "2024-09-09T15:33:25.108Z"
   },
   {
    "duration": 199,
    "start_time": "2024-09-09T15:33:25.227Z"
   },
   {
    "duration": 163,
    "start_time": "2024-09-09T15:33:25.427Z"
   },
   {
    "duration": 92,
    "start_time": "2024-09-09T15:33:25.591Z"
   },
   {
    "duration": 4,
    "start_time": "2024-09-09T15:33:25.685Z"
   },
   {
    "duration": 42,
    "start_time": "2024-09-09T15:33:25.690Z"
   },
   {
    "duration": 6,
    "start_time": "2024-09-09T15:33:25.734Z"
   },
   {
    "duration": 30,
    "start_time": "2024-09-09T15:33:25.741Z"
   },
   {
    "duration": 39,
    "start_time": "2024-09-09T15:33:25.772Z"
   },
   {
    "duration": 4,
    "start_time": "2024-09-09T15:33:25.812Z"
   },
   {
    "duration": 9,
    "start_time": "2024-09-09T15:33:25.817Z"
   },
   {
    "duration": 16,
    "start_time": "2024-09-09T15:33:25.828Z"
   },
   {
    "duration": 6,
    "start_time": "2024-09-09T15:33:25.846Z"
   },
   {
    "duration": 7,
    "start_time": "2024-09-09T15:33:25.854Z"
   },
   {
    "duration": 7,
    "start_time": "2024-09-09T15:33:25.862Z"
   },
   {
    "duration": 6,
    "start_time": "2024-09-09T15:33:25.870Z"
   },
   {
    "duration": 6,
    "start_time": "2024-09-09T15:33:25.881Z"
   },
   {
    "duration": 26,
    "start_time": "2024-09-09T15:33:25.889Z"
   },
   {
    "duration": 13,
    "start_time": "2024-09-09T15:33:25.917Z"
   },
   {
    "duration": 529,
    "start_time": "2024-09-09T15:33:25.931Z"
   },
   {
    "duration": 1607,
    "start_time": "2024-09-09T15:33:26.462Z"
   },
   {
    "duration": 10,
    "start_time": "2024-09-09T15:33:28.071Z"
   },
   {
    "duration": 15,
    "start_time": "2024-09-09T15:33:28.082Z"
   },
   {
    "duration": 5978,
    "start_time": "2024-09-09T15:33:28.098Z"
   },
   {
    "duration": 18,
    "start_time": "2024-09-09T15:33:34.077Z"
   },
   {
    "duration": 29,
    "start_time": "2024-09-09T15:33:34.096Z"
   },
   {
    "duration": 18,
    "start_time": "2024-09-09T15:34:11.247Z"
   },
   {
    "duration": 4,
    "start_time": "2024-09-09T15:34:16.279Z"
   },
   {
    "duration": 75,
    "start_time": "2024-09-09T15:34:44.197Z"
   },
   {
    "duration": 19,
    "start_time": "2024-09-09T15:35:08.516Z"
   },
   {
    "duration": 4,
    "start_time": "2024-09-09T15:35:48.379Z"
   },
   {
    "duration": 18,
    "start_time": "2024-09-09T15:36:07.471Z"
   },
   {
    "duration": 54,
    "start_time": "2024-09-09T15:37:44.810Z"
   },
   {
    "duration": 62,
    "start_time": "2024-09-09T15:38:50.643Z"
   },
   {
    "duration": 6651,
    "start_time": "2024-09-09T15:39:21.885Z"
   },
   {
    "duration": 14,
    "start_time": "2024-09-09T15:40:43.463Z"
   },
   {
    "duration": 18,
    "start_time": "2024-09-09T15:42:40.057Z"
   },
   {
    "duration": 2517,
    "start_time": "2024-09-09T15:54:24.309Z"
   },
   {
    "duration": 1274,
    "start_time": "2024-09-09T15:54:26.828Z"
   },
   {
    "duration": 87,
    "start_time": "2024-09-09T15:54:28.104Z"
   },
   {
    "duration": 13,
    "start_time": "2024-09-09T15:54:28.192Z"
   },
   {
    "duration": 12,
    "start_time": "2024-09-09T15:54:28.207Z"
   },
   {
    "duration": 35,
    "start_time": "2024-09-09T15:54:28.220Z"
   },
   {
    "duration": 23,
    "start_time": "2024-09-09T15:54:28.256Z"
   },
   {
    "duration": 26,
    "start_time": "2024-09-09T15:54:28.280Z"
   },
   {
    "duration": 3,
    "start_time": "2024-09-09T15:54:28.308Z"
   },
   {
    "duration": 21,
    "start_time": "2024-09-09T15:54:28.312Z"
   },
   {
    "duration": 5,
    "start_time": "2024-09-09T15:54:28.334Z"
   },
   {
    "duration": 3,
    "start_time": "2024-09-09T15:54:28.341Z"
   },
   {
    "duration": 6,
    "start_time": "2024-09-09T15:54:28.345Z"
   },
   {
    "duration": 11,
    "start_time": "2024-09-09T15:54:28.353Z"
   },
   {
    "duration": 26,
    "start_time": "2024-09-09T15:54:28.365Z"
   },
   {
    "duration": 9,
    "start_time": "2024-09-09T15:54:28.392Z"
   },
   {
    "duration": 4,
    "start_time": "2024-09-09T15:54:28.403Z"
   },
   {
    "duration": 6,
    "start_time": "2024-09-09T15:54:28.409Z"
   },
   {
    "duration": 8,
    "start_time": "2024-09-09T15:54:28.416Z"
   },
   {
    "duration": 27,
    "start_time": "2024-09-09T15:54:28.425Z"
   },
   {
    "duration": 5,
    "start_time": "2024-09-09T15:54:28.454Z"
   },
   {
    "duration": 9,
    "start_time": "2024-09-09T15:54:28.461Z"
   },
   {
    "duration": 10,
    "start_time": "2024-09-09T15:54:28.472Z"
   },
   {
    "duration": 8,
    "start_time": "2024-09-09T15:54:28.483Z"
   },
   {
    "duration": 7,
    "start_time": "2024-09-09T15:54:28.493Z"
   },
   {
    "duration": 12,
    "start_time": "2024-09-09T15:54:28.501Z"
   },
   {
    "duration": 8,
    "start_time": "2024-09-09T15:54:28.514Z"
   },
   {
    "duration": 4,
    "start_time": "2024-09-09T15:54:28.523Z"
   },
   {
    "duration": 12,
    "start_time": "2024-09-09T15:54:28.529Z"
   },
   {
    "duration": 145,
    "start_time": "2024-09-09T15:54:28.542Z"
   },
   {
    "duration": 107,
    "start_time": "2024-09-09T15:54:28.689Z"
   },
   {
    "duration": 13,
    "start_time": "2024-09-09T15:54:28.797Z"
   },
   {
    "duration": 113,
    "start_time": "2024-09-09T15:54:28.811Z"
   },
   {
    "duration": 4,
    "start_time": "2024-09-09T15:54:28.926Z"
   },
   {
    "duration": 192,
    "start_time": "2024-09-09T15:54:28.931Z"
   },
   {
    "duration": 183,
    "start_time": "2024-09-09T15:54:29.125Z"
   },
   {
    "duration": 3,
    "start_time": "2024-09-09T15:54:29.310Z"
   },
   {
    "duration": 148,
    "start_time": "2024-09-09T15:54:29.315Z"
   },
   {
    "duration": 90,
    "start_time": "2024-09-09T15:54:29.465Z"
   },
   {
    "duration": 155,
    "start_time": "2024-09-09T15:54:29.556Z"
   },
   {
    "duration": 135,
    "start_time": "2024-09-09T15:54:29.715Z"
   },
   {
    "duration": 99,
    "start_time": "2024-09-09T15:54:29.852Z"
   },
   {
    "duration": 151,
    "start_time": "2024-09-09T15:54:29.952Z"
   },
   {
    "duration": 112,
    "start_time": "2024-09-09T15:54:30.106Z"
   },
   {
    "duration": 6,
    "start_time": "2024-09-09T15:54:30.220Z"
   },
   {
    "duration": 227,
    "start_time": "2024-09-09T15:54:30.227Z"
   },
   {
    "duration": 5,
    "start_time": "2024-09-09T15:54:30.455Z"
   },
   {
    "duration": 162,
    "start_time": "2024-09-09T15:54:30.461Z"
   },
   {
    "duration": 163,
    "start_time": "2024-09-09T15:54:30.624Z"
   },
   {
    "duration": 127,
    "start_time": "2024-09-09T15:54:30.788Z"
   },
   {
    "duration": 80,
    "start_time": "2024-09-09T15:54:30.916Z"
   },
   {
    "duration": 141,
    "start_time": "2024-09-09T15:54:31.006Z"
   },
   {
    "duration": 107,
    "start_time": "2024-09-09T15:54:31.148Z"
   },
   {
    "duration": 142,
    "start_time": "2024-09-09T15:54:31.257Z"
   },
   {
    "duration": 101,
    "start_time": "2024-09-09T15:54:31.407Z"
   },
   {
    "duration": 8,
    "start_time": "2024-09-09T15:54:31.509Z"
   },
   {
    "duration": 10,
    "start_time": "2024-09-09T15:54:31.518Z"
   },
   {
    "duration": 9,
    "start_time": "2024-09-09T15:54:31.529Z"
   },
   {
    "duration": 13,
    "start_time": "2024-09-09T15:54:31.539Z"
   },
   {
    "duration": 31,
    "start_time": "2024-09-09T15:54:31.553Z"
   },
   {
    "duration": 149,
    "start_time": "2024-09-09T15:54:31.586Z"
   },
   {
    "duration": 103,
    "start_time": "2024-09-09T15:54:31.736Z"
   },
   {
    "duration": 133,
    "start_time": "2024-09-09T15:54:31.840Z"
   },
   {
    "duration": 153,
    "start_time": "2024-09-09T15:54:31.975Z"
   },
   {
    "duration": 107,
    "start_time": "2024-09-09T15:54:32.129Z"
   },
   {
    "duration": 200,
    "start_time": "2024-09-09T15:54:32.238Z"
   },
   {
    "duration": 155,
    "start_time": "2024-09-09T15:54:32.440Z"
   },
   {
    "duration": 95,
    "start_time": "2024-09-09T15:54:32.597Z"
   },
   {
    "duration": 5,
    "start_time": "2024-09-09T15:54:32.693Z"
   },
   {
    "duration": 13,
    "start_time": "2024-09-09T15:54:32.699Z"
   },
   {
    "duration": 9,
    "start_time": "2024-09-09T15:54:32.713Z"
   },
   {
    "duration": 9,
    "start_time": "2024-09-09T15:54:32.723Z"
   },
   {
    "duration": 14,
    "start_time": "2024-09-09T15:54:32.733Z"
   },
   {
    "duration": 3,
    "start_time": "2024-09-09T15:54:32.748Z"
   },
   {
    "duration": 24,
    "start_time": "2024-09-09T15:54:32.753Z"
   },
   {
    "duration": 16,
    "start_time": "2024-09-09T15:54:32.779Z"
   },
   {
    "duration": 15,
    "start_time": "2024-09-09T15:54:32.796Z"
   },
   {
    "duration": 7,
    "start_time": "2024-09-09T15:54:32.813Z"
   },
   {
    "duration": 8,
    "start_time": "2024-09-09T15:54:32.821Z"
   },
   {
    "duration": 13,
    "start_time": "2024-09-09T15:54:32.830Z"
   },
   {
    "duration": 18,
    "start_time": "2024-09-09T15:54:32.844Z"
   },
   {
    "duration": 15,
    "start_time": "2024-09-09T15:54:32.863Z"
   },
   {
    "duration": 13,
    "start_time": "2024-09-09T15:54:32.879Z"
   },
   {
    "duration": 472,
    "start_time": "2024-09-09T15:54:32.893Z"
   },
   {
    "duration": 1551,
    "start_time": "2024-09-09T15:54:33.366Z"
   },
   {
    "duration": 9,
    "start_time": "2024-09-09T15:54:34.919Z"
   },
   {
    "duration": 6,
    "start_time": "2024-09-09T15:54:34.930Z"
   },
   {
    "duration": 6293,
    "start_time": "2024-09-09T15:54:34.937Z"
   },
   {
    "duration": 13,
    "start_time": "2024-09-09T15:54:41.231Z"
   },
   {
    "duration": 22,
    "start_time": "2024-09-09T15:54:41.246Z"
   },
   {
    "duration": 3,
    "start_time": "2024-09-09T15:54:41.269Z"
   },
   {
    "duration": 3986,
    "start_time": "2024-09-09T16:07:26.498Z"
   },
   {
    "duration": 41,
    "start_time": "2024-09-09T16:08:04.917Z"
   },
   {
    "duration": 408,
    "start_time": "2024-09-09T16:09:18.294Z"
   },
   {
    "duration": 2,
    "start_time": "2024-09-09T16:24:04.120Z"
   },
   {
    "duration": 127,
    "start_time": "2024-09-09T16:26:36.013Z"
   },
   {
    "duration": 12,
    "start_time": "2024-09-09T16:27:35.219Z"
   },
   {
    "duration": 2559,
    "start_time": "2024-09-09T16:27:48.700Z"
   },
   {
    "duration": 2580,
    "start_time": "2024-09-09T16:27:51.261Z"
   },
   {
    "duration": 1654,
    "start_time": "2024-09-09T16:27:53.843Z"
   },
   {
    "duration": 82,
    "start_time": "2024-09-09T16:27:55.499Z"
   },
   {
    "duration": 13,
    "start_time": "2024-09-09T16:27:55.583Z"
   },
   {
    "duration": 6,
    "start_time": "2024-09-09T16:27:55.597Z"
   },
   {
    "duration": 13,
    "start_time": "2024-09-09T16:27:55.605Z"
   },
   {
    "duration": 6,
    "start_time": "2024-09-09T16:27:55.619Z"
   },
   {
    "duration": 10,
    "start_time": "2024-09-09T16:27:55.626Z"
   },
   {
    "duration": 3,
    "start_time": "2024-09-09T16:27:55.638Z"
   },
   {
    "duration": 23,
    "start_time": "2024-09-09T16:27:55.642Z"
   },
   {
    "duration": 6,
    "start_time": "2024-09-09T16:27:55.666Z"
   },
   {
    "duration": 4,
    "start_time": "2024-09-09T16:27:55.673Z"
   },
   {
    "duration": 5,
    "start_time": "2024-09-09T16:27:55.678Z"
   },
   {
    "duration": 23,
    "start_time": "2024-09-09T16:27:55.684Z"
   },
   {
    "duration": 5,
    "start_time": "2024-09-09T16:27:55.708Z"
   },
   {
    "duration": 29,
    "start_time": "2024-09-09T16:27:55.715Z"
   },
   {
    "duration": 6,
    "start_time": "2024-09-09T16:27:55.746Z"
   },
   {
    "duration": 7,
    "start_time": "2024-09-09T16:27:55.754Z"
   },
   {
    "duration": 13,
    "start_time": "2024-09-09T16:27:55.762Z"
   },
   {
    "duration": 9,
    "start_time": "2024-09-09T16:27:55.776Z"
   },
   {
    "duration": 8,
    "start_time": "2024-09-09T16:27:55.786Z"
   },
   {
    "duration": 5,
    "start_time": "2024-09-09T16:27:55.795Z"
   },
   {
    "duration": 14,
    "start_time": "2024-09-09T16:27:55.801Z"
   },
   {
    "duration": 5,
    "start_time": "2024-09-09T16:27:55.817Z"
   },
   {
    "duration": 6,
    "start_time": "2024-09-09T16:27:55.824Z"
   },
   {
    "duration": 9,
    "start_time": "2024-09-09T16:27:55.831Z"
   },
   {
    "duration": 87,
    "start_time": "2024-09-09T16:27:55.844Z"
   },
   {
    "duration": 11,
    "start_time": "2024-09-09T16:27:55.933Z"
   },
   {
    "duration": 10,
    "start_time": "2024-09-09T16:27:55.946Z"
   },
   {
    "duration": 145,
    "start_time": "2024-09-09T16:27:55.957Z"
   },
   {
    "duration": 112,
    "start_time": "2024-09-09T16:27:56.103Z"
   },
   {
    "duration": 4,
    "start_time": "2024-09-09T16:27:56.217Z"
   },
   {
    "duration": 119,
    "start_time": "2024-09-09T16:27:56.222Z"
   },
   {
    "duration": 4,
    "start_time": "2024-09-09T16:27:56.342Z"
   },
   {
    "duration": 138,
    "start_time": "2024-09-09T16:27:56.347Z"
   },
   {
    "duration": 176,
    "start_time": "2024-09-09T16:27:56.486Z"
   },
   {
    "duration": 3,
    "start_time": "2024-09-09T16:27:56.663Z"
   },
   {
    "duration": 215,
    "start_time": "2024-09-09T16:27:56.667Z"
   },
   {
    "duration": 88,
    "start_time": "2024-09-09T16:27:56.884Z"
   },
   {
    "duration": 152,
    "start_time": "2024-09-09T16:27:56.974Z"
   },
   {
    "duration": 127,
    "start_time": "2024-09-09T16:27:57.128Z"
   },
   {
    "duration": 100,
    "start_time": "2024-09-09T16:27:57.257Z"
   },
   {
    "duration": 155,
    "start_time": "2024-09-09T16:27:57.358Z"
   },
   {
    "duration": 97,
    "start_time": "2024-09-09T16:27:57.514Z"
   },
   {
    "duration": 5,
    "start_time": "2024-09-09T16:27:57.612Z"
   },
   {
    "duration": 165,
    "start_time": "2024-09-09T16:27:57.618Z"
   },
   {
    "duration": 6,
    "start_time": "2024-09-09T16:27:57.785Z"
   },
   {
    "duration": 152,
    "start_time": "2024-09-09T16:27:57.793Z"
   },
   {
    "duration": 102,
    "start_time": "2024-09-09T16:27:57.947Z"
   },
   {
    "duration": 136,
    "start_time": "2024-09-09T16:27:58.050Z"
   },
   {
    "duration": 86,
    "start_time": "2024-09-09T16:27:58.188Z"
   },
   {
    "duration": 215,
    "start_time": "2024-09-09T16:27:58.276Z"
   },
   {
    "duration": 99,
    "start_time": "2024-09-09T16:27:58.492Z"
   },
   {
    "duration": 138,
    "start_time": "2024-09-09T16:27:58.592Z"
   },
   {
    "duration": 99,
    "start_time": "2024-09-09T16:27:58.732Z"
   },
   {
    "duration": 7,
    "start_time": "2024-09-09T16:27:58.833Z"
   },
   {
    "duration": 7,
    "start_time": "2024-09-09T16:27:58.842Z"
   },
   {
    "duration": 6,
    "start_time": "2024-09-09T16:27:58.850Z"
   },
   {
    "duration": 3,
    "start_time": "2024-09-09T16:27:58.858Z"
   },
   {
    "duration": 8,
    "start_time": "2024-09-09T16:27:58.862Z"
   },
   {
    "duration": 181,
    "start_time": "2024-09-09T16:27:58.871Z"
   },
   {
    "duration": 104,
    "start_time": "2024-09-09T16:27:59.054Z"
   },
   {
    "duration": 151,
    "start_time": "2024-09-09T16:27:59.160Z"
   },
   {
    "duration": 139,
    "start_time": "2024-09-09T16:27:59.313Z"
   },
   {
    "duration": 119,
    "start_time": "2024-09-09T16:27:59.454Z"
   },
   {
    "duration": 118,
    "start_time": "2024-09-09T16:27:59.575Z"
   },
   {
    "duration": 140,
    "start_time": "2024-09-09T16:27:59.694Z"
   },
   {
    "duration": 94,
    "start_time": "2024-09-09T16:27:59.835Z"
   },
   {
    "duration": 3,
    "start_time": "2024-09-09T16:27:59.931Z"
   },
   {
    "duration": 7,
    "start_time": "2024-09-09T16:27:59.936Z"
   },
   {
    "duration": 19,
    "start_time": "2024-09-09T16:27:59.945Z"
   },
   {
    "duration": 9,
    "start_time": "2024-09-09T16:27:59.965Z"
   },
   {
    "duration": 58,
    "start_time": "2024-09-09T16:27:59.975Z"
   },
   {
    "duration": 44,
    "start_time": "2024-09-09T16:28:00.035Z"
   },
   {
    "duration": 22,
    "start_time": "2024-09-09T16:28:00.081Z"
   },
   {
    "duration": 117,
    "start_time": "2024-09-09T16:28:00.104Z"
   },
   {
    "duration": 39,
    "start_time": "2024-09-09T16:28:00.222Z"
   },
   {
    "duration": 42,
    "start_time": "2024-09-09T16:28:00.263Z"
   },
   {
    "duration": 16,
    "start_time": "2024-09-09T16:28:00.307Z"
   },
   {
    "duration": 6,
    "start_time": "2024-09-09T16:28:00.324Z"
   },
   {
    "duration": 17,
    "start_time": "2024-09-09T16:28:00.335Z"
   },
   {
    "duration": 15,
    "start_time": "2024-09-09T16:28:00.353Z"
   },
   {
    "duration": 106,
    "start_time": "2024-09-09T16:28:00.370Z"
   },
   {
    "duration": 470,
    "start_time": "2024-09-09T16:28:00.478Z"
   },
   {
    "duration": 1664,
    "start_time": "2024-09-09T16:28:00.949Z"
   },
   {
    "duration": 12,
    "start_time": "2024-09-09T16:28:02.615Z"
   },
   {
    "duration": 7,
    "start_time": "2024-09-09T16:28:02.629Z"
   },
   {
    "duration": 6390,
    "start_time": "2024-09-09T16:28:02.637Z"
   },
   {
    "duration": 12,
    "start_time": "2024-09-09T16:28:09.028Z"
   },
   {
    "duration": 19,
    "start_time": "2024-09-09T16:28:09.042Z"
   },
   {
    "duration": 15,
    "start_time": "2024-09-09T16:28:09.063Z"
   },
   {
    "duration": 34,
    "start_time": "2024-09-09T16:28:09.079Z"
   },
   {
    "duration": 168,
    "start_time": "2024-09-09T16:28:09.115Z"
   },
   {
    "duration": 11,
    "start_time": "2024-09-09T16:29:16.436Z"
   },
   {
    "duration": 18,
    "start_time": "2024-09-09T16:34:23.552Z"
   },
   {
    "duration": 9,
    "start_time": "2024-09-09T16:42:15.161Z"
   },
   {
    "duration": 8,
    "start_time": "2024-09-09T16:42:25.964Z"
   },
   {
    "duration": 10,
    "start_time": "2024-09-09T16:42:37.519Z"
   },
   {
    "duration": 24,
    "start_time": "2024-09-09T16:44:10.472Z"
   },
   {
    "duration": 21,
    "start_time": "2024-09-09T16:45:09.224Z"
   },
   {
    "duration": 55,
    "start_time": "2024-09-09T16:54:22.539Z"
   },
   {
    "duration": 54,
    "start_time": "2024-09-09T16:54:52.737Z"
   },
   {
    "duration": 58,
    "start_time": "2024-09-09T16:55:05.436Z"
   },
   {
    "duration": 56,
    "start_time": "2024-09-09T16:55:51.982Z"
   },
   {
    "duration": 54,
    "start_time": "2024-09-09T16:56:19.200Z"
   },
   {
    "duration": 9,
    "start_time": "2024-09-09T16:57:10.177Z"
   },
   {
    "duration": 20,
    "start_time": "2024-09-09T16:57:23.640Z"
   },
   {
    "duration": 22,
    "start_time": "2024-09-09T16:58:22.752Z"
   },
   {
    "duration": 2,
    "start_time": "2024-09-09T17:02:18.818Z"
   },
   {
    "duration": 25,
    "start_time": "2024-09-09T17:02:43.425Z"
   },
   {
    "duration": 26,
    "start_time": "2024-09-09T17:07:04.231Z"
   },
   {
    "duration": 10,
    "start_time": "2024-09-09T17:13:13.727Z"
   },
   {
    "duration": 18,
    "start_time": "2024-09-09T17:13:29.069Z"
   },
   {
    "duration": 120,
    "start_time": "2024-09-09T17:19:23.087Z"
   },
   {
    "duration": 2637,
    "start_time": "2024-09-09T17:19:50.959Z"
   },
   {
    "duration": 2536,
    "start_time": "2024-09-09T17:19:53.598Z"
   },
   {
    "duration": 1720,
    "start_time": "2024-09-09T17:19:56.136Z"
   },
   {
    "duration": 83,
    "start_time": "2024-09-09T17:19:57.858Z"
   },
   {
    "duration": 13,
    "start_time": "2024-09-09T17:19:57.943Z"
   },
   {
    "duration": 7,
    "start_time": "2024-09-09T17:19:57.957Z"
   },
   {
    "duration": 16,
    "start_time": "2024-09-09T17:19:57.966Z"
   },
   {
    "duration": 15,
    "start_time": "2024-09-09T17:19:57.984Z"
   },
   {
    "duration": 14,
    "start_time": "2024-09-09T17:19:58.000Z"
   },
   {
    "duration": 3,
    "start_time": "2024-09-09T17:19:58.017Z"
   },
   {
    "duration": 11,
    "start_time": "2024-09-09T17:19:58.021Z"
   },
   {
    "duration": 4,
    "start_time": "2024-09-09T17:19:58.033Z"
   },
   {
    "duration": 5,
    "start_time": "2024-09-09T17:19:58.039Z"
   },
   {
    "duration": 8,
    "start_time": "2024-09-09T17:19:58.045Z"
   },
   {
    "duration": 21,
    "start_time": "2024-09-09T17:19:58.054Z"
   },
   {
    "duration": 6,
    "start_time": "2024-09-09T17:19:58.076Z"
   },
   {
    "duration": 27,
    "start_time": "2024-09-09T17:19:58.084Z"
   },
   {
    "duration": 5,
    "start_time": "2024-09-09T17:19:58.112Z"
   },
   {
    "duration": 77,
    "start_time": "2024-09-09T17:19:58.118Z"
   },
   {
    "duration": 8,
    "start_time": "2024-09-09T17:19:58.196Z"
   },
   {
    "duration": 11,
    "start_time": "2024-09-09T17:19:58.206Z"
   },
   {
    "duration": 21,
    "start_time": "2024-09-09T17:19:58.218Z"
   },
   {
    "duration": 5,
    "start_time": "2024-09-09T17:19:58.240Z"
   },
   {
    "duration": 8,
    "start_time": "2024-09-09T17:19:58.246Z"
   },
   {
    "duration": 5,
    "start_time": "2024-09-09T17:19:58.255Z"
   },
   {
    "duration": 9,
    "start_time": "2024-09-09T17:19:58.261Z"
   },
   {
    "duration": 14,
    "start_time": "2024-09-09T17:19:58.271Z"
   },
   {
    "duration": 20,
    "start_time": "2024-09-09T17:19:58.288Z"
   },
   {
    "duration": 73,
    "start_time": "2024-09-09T17:19:58.310Z"
   },
   {
    "duration": 17,
    "start_time": "2024-09-09T17:19:58.384Z"
   },
   {
    "duration": 126,
    "start_time": "2024-09-09T17:19:58.402Z"
   },
   {
    "duration": 103,
    "start_time": "2024-09-09T17:19:58.529Z"
   },
   {
    "duration": 5,
    "start_time": "2024-09-09T17:19:58.633Z"
   },
   {
    "duration": 139,
    "start_time": "2024-09-09T17:19:58.639Z"
   },
   {
    "duration": 4,
    "start_time": "2024-09-09T17:19:58.780Z"
   },
   {
    "duration": 139,
    "start_time": "2024-09-09T17:19:58.786Z"
   },
   {
    "duration": 180,
    "start_time": "2024-09-09T17:19:58.927Z"
   },
   {
    "duration": 2,
    "start_time": "2024-09-09T17:19:59.109Z"
   },
   {
    "duration": 233,
    "start_time": "2024-09-09T17:19:59.112Z"
   },
   {
    "duration": 93,
    "start_time": "2024-09-09T17:19:59.346Z"
   },
   {
    "duration": 171,
    "start_time": "2024-09-09T17:19:59.445Z"
   },
   {
    "duration": 131,
    "start_time": "2024-09-09T17:19:59.618Z"
   },
   {
    "duration": 96,
    "start_time": "2024-09-09T17:19:59.751Z"
   },
   {
    "duration": 145,
    "start_time": "2024-09-09T17:19:59.849Z"
   },
   {
    "duration": 101,
    "start_time": "2024-09-09T17:19:59.995Z"
   },
   {
    "duration": 12,
    "start_time": "2024-09-09T17:20:00.097Z"
   },
   {
    "duration": 254,
    "start_time": "2024-09-09T17:20:00.111Z"
   },
   {
    "duration": 20,
    "start_time": "2024-09-09T17:20:00.366Z"
   },
   {
    "duration": 166,
    "start_time": "2024-09-09T17:20:00.388Z"
   },
   {
    "duration": 95,
    "start_time": "2024-09-09T17:20:00.556Z"
   },
   {
    "duration": 131,
    "start_time": "2024-09-09T17:20:00.652Z"
   },
   {
    "duration": 95,
    "start_time": "2024-09-09T17:20:00.784Z"
   },
   {
    "duration": 229,
    "start_time": "2024-09-09T17:20:00.880Z"
   },
   {
    "duration": 123,
    "start_time": "2024-09-09T17:20:01.110Z"
   },
   {
    "duration": 143,
    "start_time": "2024-09-09T17:20:01.234Z"
   },
   {
    "duration": 89,
    "start_time": "2024-09-09T17:20:01.378Z"
   },
   {
    "duration": 28,
    "start_time": "2024-09-09T17:20:01.469Z"
   },
   {
    "duration": 30,
    "start_time": "2024-09-09T17:20:01.499Z"
   },
   {
    "duration": 24,
    "start_time": "2024-09-09T17:20:01.530Z"
   },
   {
    "duration": 10,
    "start_time": "2024-09-09T17:20:01.555Z"
   },
   {
    "duration": 54,
    "start_time": "2024-09-09T17:20:01.566Z"
   },
   {
    "duration": 165,
    "start_time": "2024-09-09T17:20:01.622Z"
   },
   {
    "duration": 101,
    "start_time": "2024-09-09T17:20:01.788Z"
   },
   {
    "duration": 123,
    "start_time": "2024-09-09T17:20:01.890Z"
   },
   {
    "duration": 150,
    "start_time": "2024-09-09T17:20:02.014Z"
   },
   {
    "duration": 96,
    "start_time": "2024-09-09T17:20:02.165Z"
   },
   {
    "duration": 121,
    "start_time": "2024-09-09T17:20:02.262Z"
   },
   {
    "duration": 146,
    "start_time": "2024-09-09T17:20:02.384Z"
   },
   {
    "duration": 114,
    "start_time": "2024-09-09T17:20:02.532Z"
   },
   {
    "duration": 6,
    "start_time": "2024-09-09T17:20:02.648Z"
   },
   {
    "duration": 54,
    "start_time": "2024-09-09T17:20:02.655Z"
   },
   {
    "duration": 23,
    "start_time": "2024-09-09T17:20:02.711Z"
   },
   {
    "duration": 5,
    "start_time": "2024-09-09T17:20:02.735Z"
   },
   {
    "duration": 14,
    "start_time": "2024-09-09T17:20:02.741Z"
   },
   {
    "duration": 44,
    "start_time": "2024-09-09T17:20:02.756Z"
   },
   {
    "duration": 29,
    "start_time": "2024-09-09T17:20:02.802Z"
   },
   {
    "duration": 8,
    "start_time": "2024-09-09T17:20:02.833Z"
   },
   {
    "duration": 8,
    "start_time": "2024-09-09T17:20:02.842Z"
   },
   {
    "duration": 27,
    "start_time": "2024-09-09T17:20:02.851Z"
   },
   {
    "duration": 20,
    "start_time": "2024-09-09T17:20:02.880Z"
   },
   {
    "duration": 17,
    "start_time": "2024-09-09T17:20:02.902Z"
   },
   {
    "duration": 5,
    "start_time": "2024-09-09T17:20:02.925Z"
   },
   {
    "duration": 11,
    "start_time": "2024-09-09T17:20:02.932Z"
   },
   {
    "duration": 13,
    "start_time": "2024-09-09T17:20:02.945Z"
   },
   {
    "duration": 482,
    "start_time": "2024-09-09T17:20:02.960Z"
   },
   {
    "duration": 1666,
    "start_time": "2024-09-09T17:20:03.443Z"
   },
   {
    "duration": 11,
    "start_time": "2024-09-09T17:20:05.111Z"
   },
   {
    "duration": 7,
    "start_time": "2024-09-09T17:20:05.123Z"
   },
   {
    "duration": 6816,
    "start_time": "2024-09-09T17:20:05.131Z"
   },
   {
    "duration": 63,
    "start_time": "2024-09-09T17:20:11.948Z"
   },
   {
    "duration": 31,
    "start_time": "2024-09-09T17:20:12.012Z"
   },
   {
    "duration": 26,
    "start_time": "2024-09-09T17:20:12.044Z"
   },
   {
    "duration": 397,
    "start_time": "2024-09-09T17:20:12.071Z"
   },
   {
    "duration": 0,
    "start_time": "2024-09-09T17:20:12.470Z"
   },
   {
    "duration": 0,
    "start_time": "2024-09-09T17:20:12.471Z"
   },
   {
    "duration": 218,
    "start_time": "2024-09-09T17:21:18.892Z"
   },
   {
    "duration": 182,
    "start_time": "2024-09-09T17:22:02.825Z"
   },
   {
    "duration": 148,
    "start_time": "2024-09-09T17:23:52.863Z"
   },
   {
    "duration": 2762,
    "start_time": "2024-09-09T17:25:19.552Z"
   },
   {
    "duration": 2586,
    "start_time": "2024-09-09T17:25:22.316Z"
   },
   {
    "duration": 1694,
    "start_time": "2024-09-09T17:25:24.904Z"
   },
   {
    "duration": 85,
    "start_time": "2024-09-09T17:25:26.600Z"
   },
   {
    "duration": 69,
    "start_time": "2024-09-09T17:25:26.687Z"
   },
   {
    "duration": 19,
    "start_time": "2024-09-09T17:25:26.758Z"
   },
   {
    "duration": 35,
    "start_time": "2024-09-09T17:25:26.779Z"
   },
   {
    "duration": 32,
    "start_time": "2024-09-09T17:25:26.815Z"
   },
   {
    "duration": 58,
    "start_time": "2024-09-09T17:25:26.848Z"
   },
   {
    "duration": 57,
    "start_time": "2024-09-09T17:25:26.908Z"
   },
   {
    "duration": 33,
    "start_time": "2024-09-09T17:25:26.966Z"
   },
   {
    "duration": 20,
    "start_time": "2024-09-09T17:25:27.000Z"
   },
   {
    "duration": 9,
    "start_time": "2024-09-09T17:25:27.021Z"
   },
   {
    "duration": 16,
    "start_time": "2024-09-09T17:25:27.031Z"
   },
   {
    "duration": 30,
    "start_time": "2024-09-09T17:25:27.048Z"
   },
   {
    "duration": 6,
    "start_time": "2024-09-09T17:25:27.079Z"
   },
   {
    "duration": 43,
    "start_time": "2024-09-09T17:25:27.086Z"
   },
   {
    "duration": 29,
    "start_time": "2024-09-09T17:25:27.131Z"
   },
   {
    "duration": 22,
    "start_time": "2024-09-09T17:25:27.161Z"
   },
   {
    "duration": 19,
    "start_time": "2024-09-09T17:25:27.184Z"
   },
   {
    "duration": 19,
    "start_time": "2024-09-09T17:25:27.205Z"
   },
   {
    "duration": 22,
    "start_time": "2024-09-09T17:25:27.225Z"
   },
   {
    "duration": 24,
    "start_time": "2024-09-09T17:25:27.249Z"
   },
   {
    "duration": 25,
    "start_time": "2024-09-09T17:25:27.274Z"
   },
   {
    "duration": 12,
    "start_time": "2024-09-09T17:25:27.300Z"
   },
   {
    "duration": 14,
    "start_time": "2024-09-09T17:25:27.313Z"
   },
   {
    "duration": 16,
    "start_time": "2024-09-09T17:25:27.328Z"
   },
   {
    "duration": 12,
    "start_time": "2024-09-09T17:25:27.348Z"
   },
   {
    "duration": 11,
    "start_time": "2024-09-09T17:25:27.361Z"
   },
   {
    "duration": 25,
    "start_time": "2024-09-09T17:25:27.373Z"
   },
   {
    "duration": 231,
    "start_time": "2024-09-09T17:25:27.400Z"
   },
   {
    "duration": 108,
    "start_time": "2024-09-09T17:25:27.633Z"
   },
   {
    "duration": 4,
    "start_time": "2024-09-09T17:25:27.743Z"
   },
   {
    "duration": 123,
    "start_time": "2024-09-09T17:25:27.748Z"
   },
   {
    "duration": 5,
    "start_time": "2024-09-09T17:25:27.873Z"
   },
   {
    "duration": 144,
    "start_time": "2024-09-09T17:25:27.879Z"
   },
   {
    "duration": 184,
    "start_time": "2024-09-09T17:25:28.025Z"
   },
   {
    "duration": 3,
    "start_time": "2024-09-09T17:25:28.210Z"
   },
   {
    "duration": 243,
    "start_time": "2024-09-09T17:25:28.214Z"
   },
   {
    "duration": 92,
    "start_time": "2024-09-09T17:25:28.459Z"
   },
   {
    "duration": 163,
    "start_time": "2024-09-09T17:25:28.553Z"
   },
   {
    "duration": 140,
    "start_time": "2024-09-09T17:25:28.717Z"
   },
   {
    "duration": 96,
    "start_time": "2024-09-09T17:25:28.858Z"
   },
   {
    "duration": 145,
    "start_time": "2024-09-09T17:25:28.956Z"
   },
   {
    "duration": 93,
    "start_time": "2024-09-09T17:25:29.106Z"
   },
   {
    "duration": 5,
    "start_time": "2024-09-09T17:25:29.206Z"
   },
   {
    "duration": 156,
    "start_time": "2024-09-09T17:25:29.212Z"
   },
   {
    "duration": 5,
    "start_time": "2024-09-09T17:25:29.370Z"
   },
   {
    "duration": 140,
    "start_time": "2024-09-09T17:25:29.377Z"
   },
   {
    "duration": 114,
    "start_time": "2024-09-09T17:25:29.519Z"
   },
   {
    "duration": 152,
    "start_time": "2024-09-09T17:25:29.634Z"
   },
   {
    "duration": 91,
    "start_time": "2024-09-09T17:25:29.787Z"
   },
   {
    "duration": 244,
    "start_time": "2024-09-09T17:25:29.879Z"
   },
   {
    "duration": 106,
    "start_time": "2024-09-09T17:25:30.124Z"
   },
   {
    "duration": 159,
    "start_time": "2024-09-09T17:25:30.231Z"
   },
   {
    "duration": 90,
    "start_time": "2024-09-09T17:25:30.392Z"
   },
   {
    "duration": 7,
    "start_time": "2024-09-09T17:25:30.483Z"
   },
   {
    "duration": 19,
    "start_time": "2024-09-09T17:25:30.491Z"
   },
   {
    "duration": 10,
    "start_time": "2024-09-09T17:25:30.512Z"
   },
   {
    "duration": 14,
    "start_time": "2024-09-09T17:25:30.523Z"
   },
   {
    "duration": 17,
    "start_time": "2024-09-09T17:25:30.538Z"
   },
   {
    "duration": 161,
    "start_time": "2024-09-09T17:25:30.556Z"
   },
   {
    "duration": 107,
    "start_time": "2024-09-09T17:25:30.718Z"
   },
   {
    "duration": 124,
    "start_time": "2024-09-09T17:25:30.826Z"
   },
   {
    "duration": 150,
    "start_time": "2024-09-09T17:25:30.951Z"
   },
   {
    "duration": 109,
    "start_time": "2024-09-09T17:25:31.102Z"
   },
   {
    "duration": 116,
    "start_time": "2024-09-09T17:25:31.213Z"
   },
   {
    "duration": 146,
    "start_time": "2024-09-09T17:25:31.330Z"
   },
   {
    "duration": 93,
    "start_time": "2024-09-09T17:25:31.477Z"
   },
   {
    "duration": 7,
    "start_time": "2024-09-09T17:25:31.572Z"
   },
   {
    "duration": 17,
    "start_time": "2024-09-09T17:25:31.581Z"
   },
   {
    "duration": 14,
    "start_time": "2024-09-09T17:25:31.599Z"
   },
   {
    "duration": 14,
    "start_time": "2024-09-09T17:25:31.614Z"
   },
   {
    "duration": 45,
    "start_time": "2024-09-09T17:25:31.629Z"
   },
   {
    "duration": 19,
    "start_time": "2024-09-09T17:25:31.675Z"
   },
   {
    "duration": 11,
    "start_time": "2024-09-09T17:25:31.695Z"
   },
   {
    "duration": 10,
    "start_time": "2024-09-09T17:25:31.707Z"
   },
   {
    "duration": 6,
    "start_time": "2024-09-09T17:25:31.718Z"
   },
   {
    "duration": 7,
    "start_time": "2024-09-09T17:25:31.726Z"
   },
   {
    "duration": 10,
    "start_time": "2024-09-09T17:25:31.734Z"
   },
   {
    "duration": 6,
    "start_time": "2024-09-09T17:25:31.745Z"
   },
   {
    "duration": 11,
    "start_time": "2024-09-09T17:25:31.755Z"
   },
   {
    "duration": 12,
    "start_time": "2024-09-09T17:25:31.767Z"
   },
   {
    "duration": 27,
    "start_time": "2024-09-09T17:25:31.780Z"
   },
   {
    "duration": 481,
    "start_time": "2024-09-09T17:25:31.808Z"
   },
   {
    "duration": 1695,
    "start_time": "2024-09-09T17:25:32.291Z"
   },
   {
    "duration": 10,
    "start_time": "2024-09-09T17:25:33.987Z"
   },
   {
    "duration": 33,
    "start_time": "2024-09-09T17:25:33.998Z"
   },
   {
    "duration": 6594,
    "start_time": "2024-09-09T17:25:34.033Z"
   },
   {
    "duration": 13,
    "start_time": "2024-09-09T17:25:40.628Z"
   },
   {
    "duration": 71,
    "start_time": "2024-09-09T17:25:40.643Z"
   },
   {
    "duration": 4,
    "start_time": "2024-09-09T17:25:40.716Z"
   },
   {
    "duration": 87,
    "start_time": "2024-09-09T17:25:40.722Z"
   },
   {
    "duration": 224,
    "start_time": "2024-09-09T17:25:40.811Z"
   },
   {
    "duration": 0,
    "start_time": "2024-09-09T17:25:41.036Z"
   },
   {
    "duration": 9,
    "start_time": "2024-09-09T17:31:47.517Z"
   },
   {
    "duration": 2615,
    "start_time": "2024-09-09T17:32:41.303Z"
   },
   {
    "duration": 2604,
    "start_time": "2024-09-09T17:32:43.921Z"
   },
   {
    "duration": 1678,
    "start_time": "2024-09-09T17:32:46.527Z"
   },
   {
    "duration": 85,
    "start_time": "2024-09-09T17:32:48.207Z"
   },
   {
    "duration": 14,
    "start_time": "2024-09-09T17:32:48.293Z"
   },
   {
    "duration": 13,
    "start_time": "2024-09-09T17:32:48.308Z"
   },
   {
    "duration": 34,
    "start_time": "2024-09-09T17:32:48.322Z"
   },
   {
    "duration": 70,
    "start_time": "2024-09-09T17:32:48.357Z"
   },
   {
    "duration": 19,
    "start_time": "2024-09-09T17:32:48.429Z"
   },
   {
    "duration": 4,
    "start_time": "2024-09-09T17:32:48.451Z"
   },
   {
    "duration": 13,
    "start_time": "2024-09-09T17:32:48.457Z"
   },
   {
    "duration": 9,
    "start_time": "2024-09-09T17:32:48.472Z"
   },
   {
    "duration": 5,
    "start_time": "2024-09-09T17:32:48.482Z"
   },
   {
    "duration": 5,
    "start_time": "2024-09-09T17:32:48.489Z"
   },
   {
    "duration": 11,
    "start_time": "2024-09-09T17:32:48.496Z"
   },
   {
    "duration": 11,
    "start_time": "2024-09-09T17:32:48.509Z"
   },
   {
    "duration": 17,
    "start_time": "2024-09-09T17:32:48.523Z"
   },
   {
    "duration": 4,
    "start_time": "2024-09-09T17:32:48.541Z"
   },
   {
    "duration": 10,
    "start_time": "2024-09-09T17:32:48.547Z"
   },
   {
    "duration": 5,
    "start_time": "2024-09-09T17:32:48.558Z"
   },
   {
    "duration": 11,
    "start_time": "2024-09-09T17:32:48.564Z"
   },
   {
    "duration": 5,
    "start_time": "2024-09-09T17:32:48.576Z"
   },
   {
    "duration": 4,
    "start_time": "2024-09-09T17:32:48.606Z"
   },
   {
    "duration": 12,
    "start_time": "2024-09-09T17:32:48.612Z"
   },
   {
    "duration": 6,
    "start_time": "2024-09-09T17:32:48.629Z"
   },
   {
    "duration": 41,
    "start_time": "2024-09-09T17:32:48.637Z"
   },
   {
    "duration": 58,
    "start_time": "2024-09-09T17:32:48.680Z"
   },
   {
    "duration": 6,
    "start_time": "2024-09-09T17:32:48.742Z"
   },
   {
    "duration": 11,
    "start_time": "2024-09-09T17:32:48.750Z"
   },
   {
    "duration": 21,
    "start_time": "2024-09-09T17:32:48.763Z"
   },
   {
    "duration": 126,
    "start_time": "2024-09-09T17:32:48.785Z"
   },
   {
    "duration": 109,
    "start_time": "2024-09-09T17:32:48.913Z"
   },
   {
    "duration": 6,
    "start_time": "2024-09-09T17:32:49.025Z"
   },
   {
    "duration": 130,
    "start_time": "2024-09-09T17:32:49.032Z"
   },
   {
    "duration": 7,
    "start_time": "2024-09-09T17:32:49.163Z"
   },
   {
    "duration": 196,
    "start_time": "2024-09-09T17:32:49.171Z"
   },
   {
    "duration": 198,
    "start_time": "2024-09-09T17:32:49.369Z"
   },
   {
    "duration": 4,
    "start_time": "2024-09-09T17:32:49.568Z"
   },
   {
    "duration": 231,
    "start_time": "2024-09-09T17:32:49.573Z"
   },
   {
    "duration": 84,
    "start_time": "2024-09-09T17:32:49.805Z"
   },
   {
    "duration": 163,
    "start_time": "2024-09-09T17:32:49.890Z"
   },
   {
    "duration": 141,
    "start_time": "2024-09-09T17:32:50.054Z"
   },
   {
    "duration": 91,
    "start_time": "2024-09-09T17:32:50.196Z"
   },
   {
    "duration": 168,
    "start_time": "2024-09-09T17:32:50.288Z"
   },
   {
    "duration": 129,
    "start_time": "2024-09-09T17:32:50.457Z"
   },
   {
    "duration": 5,
    "start_time": "2024-09-09T17:32:50.587Z"
   },
   {
    "duration": 150,
    "start_time": "2024-09-09T17:32:50.593Z"
   },
   {
    "duration": 7,
    "start_time": "2024-09-09T17:32:50.745Z"
   },
   {
    "duration": 136,
    "start_time": "2024-09-09T17:32:50.753Z"
   },
   {
    "duration": 105,
    "start_time": "2024-09-09T17:32:50.891Z"
   },
   {
    "duration": 141,
    "start_time": "2024-09-09T17:32:50.997Z"
   },
   {
    "duration": 93,
    "start_time": "2024-09-09T17:32:51.140Z"
   },
   {
    "duration": 228,
    "start_time": "2024-09-09T17:32:51.234Z"
   },
   {
    "duration": 102,
    "start_time": "2024-09-09T17:32:51.464Z"
   },
   {
    "duration": 140,
    "start_time": "2024-09-09T17:32:51.568Z"
   },
   {
    "duration": 87,
    "start_time": "2024-09-09T17:32:51.709Z"
   },
   {
    "duration": 8,
    "start_time": "2024-09-09T17:32:51.806Z"
   },
   {
    "duration": 22,
    "start_time": "2024-09-09T17:32:51.815Z"
   },
   {
    "duration": 22,
    "start_time": "2024-09-09T17:32:51.839Z"
   },
   {
    "duration": 10,
    "start_time": "2024-09-09T17:32:51.862Z"
   },
   {
    "duration": 25,
    "start_time": "2024-09-09T17:32:51.873Z"
   },
   {
    "duration": 167,
    "start_time": "2024-09-09T17:32:51.899Z"
   },
   {
    "duration": 105,
    "start_time": "2024-09-09T17:32:52.067Z"
   },
   {
    "duration": 127,
    "start_time": "2024-09-09T17:32:52.173Z"
   },
   {
    "duration": 167,
    "start_time": "2024-09-09T17:32:52.301Z"
   },
   {
    "duration": 108,
    "start_time": "2024-09-09T17:32:52.470Z"
   },
   {
    "duration": 128,
    "start_time": "2024-09-09T17:32:52.579Z"
   },
   {
    "duration": 147,
    "start_time": "2024-09-09T17:32:52.708Z"
   },
   {
    "duration": 99,
    "start_time": "2024-09-09T17:32:52.857Z"
   },
   {
    "duration": 5,
    "start_time": "2024-09-09T17:32:52.957Z"
   },
   {
    "duration": 20,
    "start_time": "2024-09-09T17:32:52.963Z"
   },
   {
    "duration": 7,
    "start_time": "2024-09-09T17:32:52.985Z"
   },
   {
    "duration": 14,
    "start_time": "2024-09-09T17:32:52.993Z"
   },
   {
    "duration": 10,
    "start_time": "2024-09-09T17:32:53.008Z"
   },
   {
    "duration": 3,
    "start_time": "2024-09-09T17:32:53.020Z"
   },
   {
    "duration": 4,
    "start_time": "2024-09-09T17:32:53.024Z"
   },
   {
    "duration": 4,
    "start_time": "2024-09-09T17:32:53.030Z"
   },
   {
    "duration": 20,
    "start_time": "2024-09-09T17:32:53.036Z"
   },
   {
    "duration": 17,
    "start_time": "2024-09-09T17:32:53.057Z"
   },
   {
    "duration": 7,
    "start_time": "2024-09-09T17:32:53.076Z"
   },
   {
    "duration": 8,
    "start_time": "2024-09-09T17:32:53.084Z"
   },
   {
    "duration": 12,
    "start_time": "2024-09-09T17:32:53.097Z"
   },
   {
    "duration": 9,
    "start_time": "2024-09-09T17:32:53.110Z"
   },
   {
    "duration": 12,
    "start_time": "2024-09-09T17:32:53.121Z"
   },
   {
    "duration": 476,
    "start_time": "2024-09-09T17:32:53.135Z"
   },
   {
    "duration": 1688,
    "start_time": "2024-09-09T17:32:53.613Z"
   },
   {
    "duration": 9,
    "start_time": "2024-09-09T17:32:55.303Z"
   },
   {
    "duration": 12,
    "start_time": "2024-09-09T17:32:55.314Z"
   },
   {
    "duration": 6803,
    "start_time": "2024-09-09T17:32:55.328Z"
   },
   {
    "duration": 12,
    "start_time": "2024-09-09T17:33:02.132Z"
   },
   {
    "duration": 69,
    "start_time": "2024-09-09T17:33:02.145Z"
   },
   {
    "duration": 65,
    "start_time": "2024-09-09T17:33:02.215Z"
   },
   {
    "duration": 132,
    "start_time": "2024-09-09T17:33:02.281Z"
   },
   {
    "duration": 322,
    "start_time": "2024-09-09T17:33:02.415Z"
   },
   {
    "duration": 11,
    "start_time": "2024-09-09T17:36:08.906Z"
   },
   {
    "duration": 9,
    "start_time": "2024-09-09T17:36:41.105Z"
   },
   {
    "duration": 93,
    "start_time": "2024-09-09T17:57:39.915Z"
   },
   {
    "duration": 14,
    "start_time": "2024-09-09T17:58:11.037Z"
   },
   {
    "duration": 12,
    "start_time": "2024-09-09T17:58:38.577Z"
   },
   {
    "duration": 16,
    "start_time": "2024-09-09T17:58:49.417Z"
   },
   {
    "duration": 81,
    "start_time": "2024-09-09T18:02:12.327Z"
   },
   {
    "duration": 175,
    "start_time": "2024-09-09T18:02:32.837Z"
   },
   {
    "duration": 16,
    "start_time": "2024-09-09T18:02:43.663Z"
   },
   {
    "duration": 10,
    "start_time": "2024-09-09T18:30:02.563Z"
   },
   {
    "duration": 3,
    "start_time": "2024-09-09T18:30:30.385Z"
   },
   {
    "duration": 7418,
    "start_time": "2024-09-09T18:31:29.172Z"
   },
   {
    "duration": 65,
    "start_time": "2024-09-09T18:34:59.885Z"
   },
   {
    "duration": 48,
    "start_time": "2024-09-09T18:36:13.882Z"
   },
   {
    "duration": 46,
    "start_time": "2024-09-09T18:37:09.988Z"
   },
   {
    "duration": 48,
    "start_time": "2024-09-09T18:37:18.745Z"
   },
   {
    "duration": 3751,
    "start_time": "2024-09-10T12:20:43.645Z"
   },
   {
    "duration": 4570,
    "start_time": "2024-09-10T12:20:47.398Z"
   },
   {
    "duration": 2802,
    "start_time": "2024-09-10T12:20:51.970Z"
   },
   {
    "duration": 334,
    "start_time": "2024-09-10T12:20:54.775Z"
   },
   {
    "duration": 18,
    "start_time": "2024-09-10T12:20:55.111Z"
   },
   {
    "duration": 9,
    "start_time": "2024-09-10T12:20:55.131Z"
   },
   {
    "duration": 17,
    "start_time": "2024-09-10T12:20:55.141Z"
   },
   {
    "duration": 9,
    "start_time": "2024-09-10T12:20:55.159Z"
   },
   {
    "duration": 36,
    "start_time": "2024-09-10T12:20:55.169Z"
   },
   {
    "duration": 23,
    "start_time": "2024-09-10T12:20:55.208Z"
   },
   {
    "duration": 24,
    "start_time": "2024-09-10T12:20:55.232Z"
   },
   {
    "duration": 5,
    "start_time": "2024-09-10T12:20:55.258Z"
   },
   {
    "duration": 4,
    "start_time": "2024-09-10T12:20:55.264Z"
   },
   {
    "duration": 16,
    "start_time": "2024-09-10T12:20:55.270Z"
   },
   {
    "duration": 17,
    "start_time": "2024-09-10T12:20:55.288Z"
   },
   {
    "duration": 7,
    "start_time": "2024-09-10T12:20:55.307Z"
   },
   {
    "duration": 12,
    "start_time": "2024-09-10T12:20:55.316Z"
   },
   {
    "duration": 24,
    "start_time": "2024-09-10T12:20:55.330Z"
   },
   {
    "duration": 14,
    "start_time": "2024-09-10T12:20:55.356Z"
   },
   {
    "duration": 18,
    "start_time": "2024-09-10T12:20:55.371Z"
   },
   {
    "duration": 11,
    "start_time": "2024-09-10T12:20:55.391Z"
   },
   {
    "duration": 18,
    "start_time": "2024-09-10T12:20:55.403Z"
   },
   {
    "duration": 11,
    "start_time": "2024-09-10T12:20:55.423Z"
   },
   {
    "duration": 13,
    "start_time": "2024-09-10T12:20:55.436Z"
   },
   {
    "duration": 11,
    "start_time": "2024-09-10T12:20:55.450Z"
   },
   {
    "duration": 7,
    "start_time": "2024-09-10T12:20:55.462Z"
   },
   {
    "duration": 17,
    "start_time": "2024-09-10T12:20:55.470Z"
   },
   {
    "duration": 18,
    "start_time": "2024-09-10T12:20:55.492Z"
   },
   {
    "duration": 6,
    "start_time": "2024-09-10T12:20:55.512Z"
   },
   {
    "duration": 25,
    "start_time": "2024-09-10T12:20:55.520Z"
   },
   {
    "duration": 164,
    "start_time": "2024-09-10T12:20:55.546Z"
   },
   {
    "duration": 130,
    "start_time": "2024-09-10T12:20:55.712Z"
   },
   {
    "duration": 6,
    "start_time": "2024-09-10T12:20:55.844Z"
   },
   {
    "duration": 155,
    "start_time": "2024-09-10T12:20:55.852Z"
   },
   {
    "duration": 6,
    "start_time": "2024-09-10T12:20:56.008Z"
   },
   {
    "duration": 221,
    "start_time": "2024-09-10T12:20:56.016Z"
   },
   {
    "duration": 295,
    "start_time": "2024-09-10T12:20:56.239Z"
   },
   {
    "duration": 4,
    "start_time": "2024-09-10T12:20:56.535Z"
   },
   {
    "duration": 282,
    "start_time": "2024-09-10T12:20:56.541Z"
   },
   {
    "duration": 140,
    "start_time": "2024-09-10T12:20:56.825Z"
   },
   {
    "duration": 196,
    "start_time": "2024-09-10T12:20:56.967Z"
   },
   {
    "duration": 181,
    "start_time": "2024-09-10T12:20:57.165Z"
   },
   {
    "duration": 118,
    "start_time": "2024-09-10T12:20:57.347Z"
   },
   {
    "duration": 195,
    "start_time": "2024-09-10T12:20:57.467Z"
   },
   {
    "duration": 125,
    "start_time": "2024-09-10T12:20:57.664Z"
   },
   {
    "duration": 18,
    "start_time": "2024-09-10T12:20:57.791Z"
   },
   {
    "duration": 222,
    "start_time": "2024-09-10T12:20:57.810Z"
   },
   {
    "duration": 7,
    "start_time": "2024-09-10T12:20:58.034Z"
   },
   {
    "duration": 199,
    "start_time": "2024-09-10T12:20:58.042Z"
   },
   {
    "duration": 139,
    "start_time": "2024-09-10T12:20:58.243Z"
   },
   {
    "duration": 177,
    "start_time": "2024-09-10T12:20:58.385Z"
   },
   {
    "duration": 218,
    "start_time": "2024-09-10T12:20:58.564Z"
   },
   {
    "duration": 197,
    "start_time": "2024-09-10T12:20:58.784Z"
   },
   {
    "duration": 127,
    "start_time": "2024-09-10T12:20:58.983Z"
   },
   {
    "duration": 183,
    "start_time": "2024-09-10T12:20:59.112Z"
   },
   {
    "duration": 114,
    "start_time": "2024-09-10T12:20:59.305Z"
   },
   {
    "duration": 11,
    "start_time": "2024-09-10T12:20:59.421Z"
   },
   {
    "duration": 16,
    "start_time": "2024-09-10T12:20:59.436Z"
   },
   {
    "duration": 12,
    "start_time": "2024-09-10T12:20:59.455Z"
   },
   {
    "duration": 19,
    "start_time": "2024-09-10T12:20:59.469Z"
   },
   {
    "duration": 18,
    "start_time": "2024-09-10T12:20:59.490Z"
   },
   {
    "duration": 210,
    "start_time": "2024-09-10T12:20:59.510Z"
   },
   {
    "duration": 135,
    "start_time": "2024-09-10T12:20:59.722Z"
   },
   {
    "duration": 170,
    "start_time": "2024-09-10T12:20:59.859Z"
   },
   {
    "duration": 185,
    "start_time": "2024-09-10T12:21:00.030Z"
   },
   {
    "duration": 129,
    "start_time": "2024-09-10T12:21:00.217Z"
   },
   {
    "duration": 157,
    "start_time": "2024-09-10T12:21:00.348Z"
   },
   {
    "duration": 191,
    "start_time": "2024-09-10T12:21:00.507Z"
   },
   {
    "duration": 120,
    "start_time": "2024-09-10T12:21:00.699Z"
   },
   {
    "duration": 5,
    "start_time": "2024-09-10T12:21:00.820Z"
   },
   {
    "duration": 29,
    "start_time": "2024-09-10T12:21:00.827Z"
   },
   {
    "duration": 4,
    "start_time": "2024-09-10T12:21:00.858Z"
   },
   {
    "duration": 10,
    "start_time": "2024-09-10T12:21:00.863Z"
   },
   {
    "duration": 20,
    "start_time": "2024-09-10T12:21:00.875Z"
   },
   {
    "duration": 21,
    "start_time": "2024-09-10T12:21:00.906Z"
   },
   {
    "duration": 13,
    "start_time": "2024-09-10T12:21:00.928Z"
   },
   {
    "duration": 36,
    "start_time": "2024-09-10T12:21:00.943Z"
   },
   {
    "duration": 27,
    "start_time": "2024-09-10T12:21:00.981Z"
   },
   {
    "duration": 33,
    "start_time": "2024-09-10T12:21:01.010Z"
   },
   {
    "duration": 19,
    "start_time": "2024-09-10T12:21:01.045Z"
   },
   {
    "duration": 9,
    "start_time": "2024-09-10T12:21:01.066Z"
   },
   {
    "duration": 24,
    "start_time": "2024-09-10T12:21:01.081Z"
   },
   {
    "duration": 21,
    "start_time": "2024-09-10T12:21:01.107Z"
   },
   {
    "duration": 52,
    "start_time": "2024-09-10T12:21:01.130Z"
   },
   {
    "duration": 658,
    "start_time": "2024-09-10T12:21:01.184Z"
   },
   {
    "duration": 2205,
    "start_time": "2024-09-10T12:21:01.844Z"
   },
   {
    "duration": 12,
    "start_time": "2024-09-10T12:21:04.051Z"
   },
   {
    "duration": 279,
    "start_time": "2024-09-10T12:21:04.064Z"
   },
   {
    "duration": 0,
    "start_time": "2024-09-10T12:21:04.344Z"
   },
   {
    "duration": 157,
    "start_time": "2024-09-10T12:41:21.010Z"
   },
   {
    "duration": 2859,
    "start_time": "2024-09-10T12:41:33.672Z"
   },
   {
    "duration": 2774,
    "start_time": "2024-09-10T12:41:36.534Z"
   },
   {
    "duration": 2079,
    "start_time": "2024-09-10T12:41:39.311Z"
   },
   {
    "duration": 89,
    "start_time": "2024-09-10T12:41:41.393Z"
   },
   {
    "duration": 25,
    "start_time": "2024-09-10T12:41:41.484Z"
   },
   {
    "duration": 14,
    "start_time": "2024-09-10T12:41:41.512Z"
   },
   {
    "duration": 22,
    "start_time": "2024-09-10T12:41:41.528Z"
   },
   {
    "duration": 11,
    "start_time": "2024-09-10T12:41:41.553Z"
   },
   {
    "duration": 19,
    "start_time": "2024-09-10T12:41:41.566Z"
   },
   {
    "duration": 18,
    "start_time": "2024-09-10T12:41:41.589Z"
   },
   {
    "duration": 18,
    "start_time": "2024-09-10T12:41:41.609Z"
   },
   {
    "duration": 16,
    "start_time": "2024-09-10T12:41:41.629Z"
   },
   {
    "duration": 6,
    "start_time": "2024-09-10T12:41:41.647Z"
   },
   {
    "duration": 5,
    "start_time": "2024-09-10T12:41:41.654Z"
   },
   {
    "duration": 11,
    "start_time": "2024-09-10T12:41:41.661Z"
   },
   {
    "duration": 32,
    "start_time": "2024-09-10T12:41:41.674Z"
   },
   {
    "duration": 12,
    "start_time": "2024-09-10T12:41:41.708Z"
   },
   {
    "duration": 5,
    "start_time": "2024-09-10T12:41:41.721Z"
   },
   {
    "duration": 26,
    "start_time": "2024-09-10T12:41:41.728Z"
   },
   {
    "duration": 9,
    "start_time": "2024-09-10T12:41:41.756Z"
   },
   {
    "duration": 11,
    "start_time": "2024-09-10T12:41:41.767Z"
   },
   {
    "duration": 30,
    "start_time": "2024-09-10T12:41:41.780Z"
   },
   {
    "duration": 5,
    "start_time": "2024-09-10T12:41:41.812Z"
   },
   {
    "duration": 12,
    "start_time": "2024-09-10T12:41:41.819Z"
   },
   {
    "duration": 8,
    "start_time": "2024-09-10T12:41:41.833Z"
   },
   {
    "duration": 26,
    "start_time": "2024-09-10T12:41:41.843Z"
   },
   {
    "duration": 15,
    "start_time": "2024-09-10T12:41:41.872Z"
   },
   {
    "duration": 8,
    "start_time": "2024-09-10T12:41:41.908Z"
   },
   {
    "duration": 12,
    "start_time": "2024-09-10T12:41:41.918Z"
   },
   {
    "duration": 18,
    "start_time": "2024-09-10T12:41:41.932Z"
   },
   {
    "duration": 179,
    "start_time": "2024-09-10T12:41:41.952Z"
   },
   {
    "duration": 150,
    "start_time": "2024-09-10T12:41:42.133Z"
   },
   {
    "duration": 6,
    "start_time": "2024-09-10T12:41:42.285Z"
   },
   {
    "duration": 191,
    "start_time": "2024-09-10T12:41:42.293Z"
   },
   {
    "duration": 6,
    "start_time": "2024-09-10T12:41:42.486Z"
   },
   {
    "duration": 156,
    "start_time": "2024-09-10T12:41:42.505Z"
   },
   {
    "duration": 230,
    "start_time": "2024-09-10T12:41:42.663Z"
   },
   {
    "duration": 10,
    "start_time": "2024-09-10T12:41:42.895Z"
   },
   {
    "duration": 305,
    "start_time": "2024-09-10T12:41:42.907Z"
   },
   {
    "duration": 122,
    "start_time": "2024-09-10T12:41:43.214Z"
   },
   {
    "duration": 214,
    "start_time": "2024-09-10T12:41:43.338Z"
   },
   {
    "duration": 192,
    "start_time": "2024-09-10T12:41:43.554Z"
   },
   {
    "duration": 118,
    "start_time": "2024-09-10T12:41:43.747Z"
   },
   {
    "duration": 195,
    "start_time": "2024-09-10T12:41:43.866Z"
   },
   {
    "duration": 131,
    "start_time": "2024-09-10T12:41:44.063Z"
   },
   {
    "duration": 13,
    "start_time": "2024-09-10T12:41:44.196Z"
   },
   {
    "duration": 197,
    "start_time": "2024-09-10T12:41:44.211Z"
   },
   {
    "duration": 7,
    "start_time": "2024-09-10T12:41:44.410Z"
   },
   {
    "duration": 198,
    "start_time": "2024-09-10T12:41:44.418Z"
   },
   {
    "duration": 126,
    "start_time": "2024-09-10T12:41:44.618Z"
   },
   {
    "duration": 198,
    "start_time": "2024-09-10T12:41:44.746Z"
   },
   {
    "duration": 122,
    "start_time": "2024-09-10T12:41:44.945Z"
   },
   {
    "duration": 338,
    "start_time": "2024-09-10T12:41:45.069Z"
   },
   {
    "duration": 131,
    "start_time": "2024-09-10T12:41:45.409Z"
   },
   {
    "duration": 190,
    "start_time": "2024-09-10T12:41:45.541Z"
   },
   {
    "duration": 125,
    "start_time": "2024-09-10T12:41:45.733Z"
   },
   {
    "duration": 8,
    "start_time": "2024-09-10T12:41:45.860Z"
   },
   {
    "duration": 25,
    "start_time": "2024-09-10T12:41:45.870Z"
   },
   {
    "duration": 32,
    "start_time": "2024-09-10T12:41:45.896Z"
   },
   {
    "duration": 7,
    "start_time": "2024-09-10T12:41:45.930Z"
   },
   {
    "duration": 12,
    "start_time": "2024-09-10T12:41:45.939Z"
   },
   {
    "duration": 251,
    "start_time": "2024-09-10T12:41:45.954Z"
   },
   {
    "duration": 137,
    "start_time": "2024-09-10T12:41:46.207Z"
   },
   {
    "duration": 175,
    "start_time": "2024-09-10T12:41:46.346Z"
   },
   {
    "duration": 198,
    "start_time": "2024-09-10T12:41:46.523Z"
   },
   {
    "duration": 162,
    "start_time": "2024-09-10T12:41:46.723Z"
   },
   {
    "duration": 188,
    "start_time": "2024-09-10T12:41:46.887Z"
   },
   {
    "duration": 196,
    "start_time": "2024-09-10T12:41:47.077Z"
   },
   {
    "duration": 126,
    "start_time": "2024-09-10T12:41:47.275Z"
   },
   {
    "duration": 6,
    "start_time": "2024-09-10T12:41:47.404Z"
   },
   {
    "duration": 12,
    "start_time": "2024-09-10T12:41:47.412Z"
   },
   {
    "duration": 11,
    "start_time": "2024-09-10T12:41:47.426Z"
   },
   {
    "duration": 6,
    "start_time": "2024-09-10T12:41:47.439Z"
   },
   {
    "duration": 15,
    "start_time": "2024-09-10T12:41:47.447Z"
   },
   {
    "duration": 5,
    "start_time": "2024-09-10T12:41:47.464Z"
   },
   {
    "duration": 5,
    "start_time": "2024-09-10T12:41:47.471Z"
   },
   {
    "duration": 29,
    "start_time": "2024-09-10T12:41:47.478Z"
   },
   {
    "duration": 18,
    "start_time": "2024-09-10T12:41:47.509Z"
   },
   {
    "duration": 21,
    "start_time": "2024-09-10T12:41:47.529Z"
   },
   {
    "duration": 15,
    "start_time": "2024-09-10T12:41:47.552Z"
   },
   {
    "duration": 15,
    "start_time": "2024-09-10T12:41:47.569Z"
   },
   {
    "duration": 15,
    "start_time": "2024-09-10T12:41:47.590Z"
   },
   {
    "duration": 13,
    "start_time": "2024-09-10T12:41:47.607Z"
   },
   {
    "duration": 22,
    "start_time": "2024-09-10T12:41:47.622Z"
   },
   {
    "duration": 652,
    "start_time": "2024-09-10T12:41:47.645Z"
   },
   {
    "duration": 2306,
    "start_time": "2024-09-10T12:41:48.299Z"
   },
   {
    "duration": 153,
    "start_time": "2024-09-10T12:41:50.607Z"
   },
   {
    "duration": 0,
    "start_time": "2024-09-10T12:41:50.762Z"
   },
   {
    "duration": 0,
    "start_time": "2024-09-10T12:41:50.764Z"
   },
   {
    "duration": 191,
    "start_time": "2024-09-10T12:45:45.739Z"
   },
   {
    "duration": 152,
    "start_time": "2024-09-10T12:46:40.503Z"
   },
   {
    "duration": 19,
    "start_time": "2024-09-10T12:47:16.674Z"
   },
   {
    "duration": 18,
    "start_time": "2024-09-10T12:50:29.605Z"
   },
   {
    "duration": 11,
    "start_time": "2024-09-10T12:52:16.640Z"
   },
   {
    "duration": 6,
    "start_time": "2024-09-10T13:04:31.584Z"
   },
   {
    "duration": 4,
    "start_time": "2024-09-10T13:04:59.768Z"
   },
   {
    "duration": 5,
    "start_time": "2024-09-10T13:05:20.234Z"
   },
   {
    "duration": 12,
    "start_time": "2024-09-10T13:10:10.907Z"
   },
   {
    "duration": 12,
    "start_time": "2024-09-10T13:16:35.212Z"
   },
   {
    "duration": 3,
    "start_time": "2024-09-10T13:17:44.514Z"
   },
   {
    "duration": 3,
    "start_time": "2024-09-10T13:17:48.971Z"
   },
   {
    "duration": 49,
    "start_time": "2024-09-10T13:20:30.755Z"
   },
   {
    "duration": 980,
    "start_time": "2024-09-10T13:22:39.430Z"
   },
   {
    "duration": 960,
    "start_time": "2024-09-10T13:23:24.229Z"
   },
   {
    "duration": 3,
    "start_time": "2024-09-10T13:27:14.688Z"
   },
   {
    "duration": 7158,
    "start_time": "2024-09-10T13:27:39.029Z"
   },
   {
    "duration": 16,
    "start_time": "2024-09-10T13:28:14.863Z"
   },
   {
    "duration": 33,
    "start_time": "2024-09-10T13:28:29.624Z"
   },
   {
    "duration": 4,
    "start_time": "2024-09-10T13:28:47.511Z"
   },
   {
    "duration": 161,
    "start_time": "2024-09-10T13:29:46.361Z"
   },
   {
    "duration": 10,
    "start_time": "2024-09-10T13:30:06.884Z"
   },
   {
    "duration": 6,
    "start_time": "2024-09-10T13:30:22.881Z"
   },
   {
    "duration": 20,
    "start_time": "2024-09-10T13:31:04.557Z"
   },
   {
    "duration": 19,
    "start_time": "2024-09-10T13:31:06.794Z"
   },
   {
    "duration": 20,
    "start_time": "2024-09-10T13:38:01.849Z"
   },
   {
    "duration": 5652,
    "start_time": "2024-09-10T13:38:25.895Z"
   },
   {
    "duration": 6121,
    "start_time": "2024-09-10T13:39:11.452Z"
   },
   {
    "duration": 5742,
    "start_time": "2024-09-10T13:44:52.383Z"
   },
   {
    "duration": 14,
    "start_time": "2024-09-10T13:48:14.956Z"
   },
   {
    "duration": 1682,
    "start_time": "2024-09-10T13:48:41.307Z"
   },
   {
    "duration": 5670,
    "start_time": "2024-09-10T13:49:09.853Z"
   },
   {
    "duration": 1085,
    "start_time": "2024-09-10T13:53:15.767Z"
   },
   {
    "duration": 41,
    "start_time": "2024-09-10T13:55:42.026Z"
   },
   {
    "duration": 42,
    "start_time": "2024-09-10T13:58:09.318Z"
   },
   {
    "duration": 138,
    "start_time": "2024-09-10T13:59:53.116Z"
   },
   {
    "duration": 149,
    "start_time": "2024-09-10T14:00:05.171Z"
   },
   {
    "duration": 27206,
    "start_time": "2024-09-10T14:00:25.060Z"
   },
   {
    "duration": 20,
    "start_time": "2024-09-10T14:05:33.388Z"
   },
   {
    "duration": 38,
    "start_time": "2024-09-10T14:05:56.709Z"
   },
   {
    "duration": 12,
    "start_time": "2024-09-10T14:12:05.969Z"
   },
   {
    "duration": 667,
    "start_time": "2024-09-10T14:12:35.880Z"
   },
   {
    "duration": 5760,
    "start_time": "2024-09-10T14:22:30.096Z"
   },
   {
    "duration": 5575,
    "start_time": "2024-09-10T14:23:10.455Z"
   },
   {
    "duration": 16,
    "start_time": "2024-09-10T14:24:42.610Z"
   },
   {
    "duration": 6,
    "start_time": "2024-09-10T14:31:39.771Z"
   },
   {
    "duration": 30,
    "start_time": "2024-09-10T14:32:03.710Z"
   },
   {
    "duration": 62,
    "start_time": "2024-09-10T14:34:46.830Z"
   },
   {
    "duration": 85,
    "start_time": "2024-09-10T14:35:53.866Z"
   },
   {
    "duration": 61,
    "start_time": "2024-09-10T14:36:21.976Z"
   },
   {
    "duration": 58,
    "start_time": "2024-09-10T14:36:48.971Z"
   },
   {
    "duration": 119,
    "start_time": "2024-09-10T14:37:18.001Z"
   },
   {
    "duration": 56,
    "start_time": "2024-09-10T14:37:32.735Z"
   },
   {
    "duration": 54,
    "start_time": "2024-09-10T14:37:54.515Z"
   },
   {
    "duration": 30,
    "start_time": "2024-09-10T14:38:06.630Z"
   },
   {
    "duration": 35,
    "start_time": "2024-09-10T14:38:54.499Z"
   },
   {
    "duration": 37,
    "start_time": "2024-09-10T14:45:05.471Z"
   },
   {
    "duration": 45,
    "start_time": "2024-09-10T14:47:43.453Z"
   },
   {
    "duration": 33,
    "start_time": "2024-09-10T14:57:12.710Z"
   },
   {
    "duration": 37,
    "start_time": "2024-09-10T14:58:54.421Z"
   },
   {
    "duration": 34,
    "start_time": "2024-09-10T14:59:06.283Z"
   },
   {
    "duration": 29,
    "start_time": "2024-09-10T15:02:16.744Z"
   },
   {
    "duration": 30,
    "start_time": "2024-09-10T15:02:32.999Z"
   },
   {
    "duration": 48,
    "start_time": "2024-09-10T15:03:15.346Z"
   },
   {
    "duration": 23,
    "start_time": "2024-09-10T15:04:25.824Z"
   },
   {
    "duration": 69,
    "start_time": "2024-09-10T15:05:12.258Z"
   },
   {
    "duration": 54,
    "start_time": "2024-09-10T15:05:56.858Z"
   },
   {
    "duration": 11,
    "start_time": "2024-09-10T15:06:13.314Z"
   },
   {
    "duration": 35,
    "start_time": "2024-09-10T15:07:51.585Z"
   },
   {
    "duration": 23,
    "start_time": "2024-09-10T15:08:11.417Z"
   },
   {
    "duration": 31,
    "start_time": "2024-09-10T15:08:40.981Z"
   },
   {
    "duration": 28,
    "start_time": "2024-09-10T15:08:50.662Z"
   },
   {
    "duration": 32,
    "start_time": "2024-09-10T15:08:59.797Z"
   },
   {
    "duration": 42,
    "start_time": "2024-09-10T15:10:33.946Z"
   },
   {
    "duration": 43,
    "start_time": "2024-09-10T15:14:02.546Z"
   },
   {
    "duration": 45,
    "start_time": "2024-09-10T15:14:44.731Z"
   },
   {
    "duration": 49,
    "start_time": "2024-09-10T15:15:42.351Z"
   },
   {
    "duration": 43,
    "start_time": "2024-09-10T15:17:45.152Z"
   },
   {
    "duration": 2587,
    "start_time": "2024-09-10T15:23:43.473Z"
   },
   {
    "duration": 2506,
    "start_time": "2024-09-10T15:23:46.063Z"
   },
   {
    "duration": 1915,
    "start_time": "2024-09-10T15:23:48.571Z"
   },
   {
    "duration": 86,
    "start_time": "2024-09-10T15:23:50.488Z"
   },
   {
    "duration": 15,
    "start_time": "2024-09-10T15:23:50.575Z"
   },
   {
    "duration": 19,
    "start_time": "2024-09-10T15:23:50.592Z"
   },
   {
    "duration": 41,
    "start_time": "2024-09-10T15:23:50.613Z"
   },
   {
    "duration": 20,
    "start_time": "2024-09-10T15:23:50.655Z"
   },
   {
    "duration": 16,
    "start_time": "2024-09-10T15:23:50.677Z"
   },
   {
    "duration": 12,
    "start_time": "2024-09-10T15:23:50.696Z"
   },
   {
    "duration": 15,
    "start_time": "2024-09-10T15:23:50.710Z"
   },
   {
    "duration": 10,
    "start_time": "2024-09-10T15:23:50.726Z"
   },
   {
    "duration": 6,
    "start_time": "2024-09-10T15:23:50.737Z"
   },
   {
    "duration": 8,
    "start_time": "2024-09-10T15:23:50.744Z"
   },
   {
    "duration": 90,
    "start_time": "2024-09-10T15:23:50.753Z"
   },
   {
    "duration": 50,
    "start_time": "2024-09-10T15:23:50.845Z"
   },
   {
    "duration": 39,
    "start_time": "2024-09-10T15:23:50.897Z"
   },
   {
    "duration": 17,
    "start_time": "2024-09-10T15:23:50.937Z"
   },
   {
    "duration": 26,
    "start_time": "2024-09-10T15:23:50.956Z"
   },
   {
    "duration": 14,
    "start_time": "2024-09-10T15:23:50.983Z"
   },
   {
    "duration": 29,
    "start_time": "2024-09-10T15:23:50.998Z"
   },
   {
    "duration": 8,
    "start_time": "2024-09-10T15:23:51.029Z"
   },
   {
    "duration": 15,
    "start_time": "2024-09-10T15:23:51.038Z"
   },
   {
    "duration": 14,
    "start_time": "2024-09-10T15:23:51.054Z"
   },
   {
    "duration": 8,
    "start_time": "2024-09-10T15:23:51.070Z"
   },
   {
    "duration": 7,
    "start_time": "2024-09-10T15:23:51.079Z"
   },
   {
    "duration": 23,
    "start_time": "2024-09-10T15:23:51.087Z"
   },
   {
    "duration": 5,
    "start_time": "2024-09-10T15:23:51.115Z"
   },
   {
    "duration": 12,
    "start_time": "2024-09-10T15:23:51.122Z"
   },
   {
    "duration": 26,
    "start_time": "2024-09-10T15:23:51.136Z"
   },
   {
    "duration": 187,
    "start_time": "2024-09-10T15:23:51.164Z"
   },
   {
    "duration": 124,
    "start_time": "2024-09-10T15:23:51.352Z"
   },
   {
    "duration": 6,
    "start_time": "2024-09-10T15:23:51.478Z"
   },
   {
    "duration": 142,
    "start_time": "2024-09-10T15:23:51.486Z"
   },
   {
    "duration": 6,
    "start_time": "2024-09-10T15:23:51.629Z"
   },
   {
    "duration": 185,
    "start_time": "2024-09-10T15:23:51.637Z"
   },
   {
    "duration": 228,
    "start_time": "2024-09-10T15:23:51.824Z"
   },
   {
    "duration": 4,
    "start_time": "2024-09-10T15:23:52.053Z"
   },
   {
    "duration": 295,
    "start_time": "2024-09-10T15:23:52.058Z"
   },
   {
    "duration": 100,
    "start_time": "2024-09-10T15:23:52.354Z"
   },
   {
    "duration": 190,
    "start_time": "2024-09-10T15:23:52.456Z"
   },
   {
    "duration": 166,
    "start_time": "2024-09-10T15:23:52.647Z"
   },
   {
    "duration": 112,
    "start_time": "2024-09-10T15:23:52.815Z"
   },
   {
    "duration": 179,
    "start_time": "2024-09-10T15:23:52.929Z"
   },
   {
    "duration": 119,
    "start_time": "2024-09-10T15:23:53.110Z"
   },
   {
    "duration": 5,
    "start_time": "2024-09-10T15:23:53.232Z"
   },
   {
    "duration": 188,
    "start_time": "2024-09-10T15:23:53.239Z"
   },
   {
    "duration": 7,
    "start_time": "2024-09-10T15:23:53.429Z"
   },
   {
    "duration": 190,
    "start_time": "2024-09-10T15:23:53.438Z"
   },
   {
    "duration": 120,
    "start_time": "2024-09-10T15:23:53.630Z"
   },
   {
    "duration": 170,
    "start_time": "2024-09-10T15:23:53.751Z"
   },
   {
    "duration": 112,
    "start_time": "2024-09-10T15:23:53.923Z"
   },
   {
    "duration": 298,
    "start_time": "2024-09-10T15:23:54.037Z"
   },
   {
    "duration": 125,
    "start_time": "2024-09-10T15:23:54.337Z"
   },
   {
    "duration": 188,
    "start_time": "2024-09-10T15:23:54.464Z"
   },
   {
    "duration": 130,
    "start_time": "2024-09-10T15:23:54.654Z"
   },
   {
    "duration": 9,
    "start_time": "2024-09-10T15:23:54.785Z"
   },
   {
    "duration": 55,
    "start_time": "2024-09-10T15:23:54.796Z"
   },
   {
    "duration": 14,
    "start_time": "2024-09-10T15:23:54.854Z"
   },
   {
    "duration": 11,
    "start_time": "2024-09-10T15:23:54.870Z"
   },
   {
    "duration": 20,
    "start_time": "2024-09-10T15:23:54.882Z"
   },
   {
    "duration": 207,
    "start_time": "2024-09-10T15:23:54.904Z"
   },
   {
    "duration": 135,
    "start_time": "2024-09-10T15:23:55.113Z"
   },
   {
    "duration": 156,
    "start_time": "2024-09-10T15:23:55.249Z"
   },
   {
    "duration": 178,
    "start_time": "2024-09-10T15:23:55.407Z"
   },
   {
    "duration": 129,
    "start_time": "2024-09-10T15:23:55.587Z"
   },
   {
    "duration": 136,
    "start_time": "2024-09-10T15:23:55.718Z"
   },
   {
    "duration": 189,
    "start_time": "2024-09-10T15:23:55.856Z"
   },
   {
    "duration": 121,
    "start_time": "2024-09-10T15:23:56.048Z"
   },
   {
    "duration": 5,
    "start_time": "2024-09-10T15:23:56.171Z"
   },
   {
    "duration": 17,
    "start_time": "2024-09-10T15:23:56.178Z"
   },
   {
    "duration": 13,
    "start_time": "2024-09-10T15:23:56.196Z"
   },
   {
    "duration": 14,
    "start_time": "2024-09-10T15:23:56.211Z"
   },
   {
    "duration": 14,
    "start_time": "2024-09-10T15:23:56.226Z"
   },
   {
    "duration": 4,
    "start_time": "2024-09-10T15:23:56.242Z"
   },
   {
    "duration": 6,
    "start_time": "2024-09-10T15:23:56.247Z"
   },
   {
    "duration": 12,
    "start_time": "2024-09-10T15:23:56.255Z"
   },
   {
    "duration": 18,
    "start_time": "2024-09-10T15:23:56.268Z"
   },
   {
    "duration": 21,
    "start_time": "2024-09-10T15:23:56.287Z"
   },
   {
    "duration": 8,
    "start_time": "2024-09-10T15:23:56.310Z"
   },
   {
    "duration": 11,
    "start_time": "2024-09-10T15:23:56.320Z"
   },
   {
    "duration": 6,
    "start_time": "2024-09-10T15:23:56.337Z"
   },
   {
    "duration": 23,
    "start_time": "2024-09-10T15:23:56.345Z"
   },
   {
    "duration": 16,
    "start_time": "2024-09-10T15:23:56.369Z"
   },
   {
    "duration": 627,
    "start_time": "2024-09-10T15:23:56.387Z"
   },
   {
    "duration": 2023,
    "start_time": "2024-09-10T15:23:57.016Z"
   },
   {
    "duration": 5,
    "start_time": "2024-09-10T15:23:59.041Z"
   },
   {
    "duration": 12,
    "start_time": "2024-09-10T15:23:59.047Z"
   },
   {
    "duration": 18,
    "start_time": "2024-09-10T15:23:59.061Z"
   },
   {
    "duration": 18,
    "start_time": "2024-09-10T15:23:59.080Z"
   },
   {
    "duration": 8,
    "start_time": "2024-09-10T15:23:59.099Z"
   },
   {
    "duration": 5524,
    "start_time": "2024-09-10T15:23:59.109Z"
   },
   {
    "duration": 15,
    "start_time": "2024-09-10T15:24:04.634Z"
   },
   {
    "duration": 195,
    "start_time": "2024-09-10T15:24:04.651Z"
   },
   {
    "duration": 40,
    "start_time": "2024-09-10T15:26:49.892Z"
   },
   {
    "duration": 33,
    "start_time": "2024-09-10T15:28:18.768Z"
   },
   {
    "duration": 18,
    "start_time": "2024-09-10T15:29:28.795Z"
   },
   {
    "duration": 2638,
    "start_time": "2024-09-10T15:30:02.679Z"
   },
   {
    "duration": 2660,
    "start_time": "2024-09-10T15:30:05.320Z"
   },
   {
    "duration": 2020,
    "start_time": "2024-09-10T15:30:07.983Z"
   },
   {
    "duration": 87,
    "start_time": "2024-09-10T15:30:10.005Z"
   },
   {
    "duration": 16,
    "start_time": "2024-09-10T15:30:10.094Z"
   },
   {
    "duration": 29,
    "start_time": "2024-09-10T15:30:10.111Z"
   },
   {
    "duration": 13,
    "start_time": "2024-09-10T15:30:10.141Z"
   },
   {
    "duration": 26,
    "start_time": "2024-09-10T15:30:10.155Z"
   },
   {
    "duration": 24,
    "start_time": "2024-09-10T15:30:10.182Z"
   },
   {
    "duration": 28,
    "start_time": "2024-09-10T15:30:10.208Z"
   },
   {
    "duration": 33,
    "start_time": "2024-09-10T15:30:10.238Z"
   },
   {
    "duration": 20,
    "start_time": "2024-09-10T15:30:10.273Z"
   },
   {
    "duration": 29,
    "start_time": "2024-09-10T15:30:10.295Z"
   },
   {
    "duration": 11,
    "start_time": "2024-09-10T15:30:10.326Z"
   },
   {
    "duration": 28,
    "start_time": "2024-09-10T15:30:10.338Z"
   },
   {
    "duration": 18,
    "start_time": "2024-09-10T15:30:10.367Z"
   },
   {
    "duration": 32,
    "start_time": "2024-09-10T15:30:10.387Z"
   },
   {
    "duration": 33,
    "start_time": "2024-09-10T15:30:10.420Z"
   },
   {
    "duration": 11,
    "start_time": "2024-09-10T15:30:10.455Z"
   },
   {
    "duration": 21,
    "start_time": "2024-09-10T15:30:10.467Z"
   },
   {
    "duration": 22,
    "start_time": "2024-09-10T15:30:10.490Z"
   },
   {
    "duration": 56,
    "start_time": "2024-09-10T15:30:10.513Z"
   },
   {
    "duration": 21,
    "start_time": "2024-09-10T15:30:10.571Z"
   },
   {
    "duration": 19,
    "start_time": "2024-09-10T15:30:10.594Z"
   },
   {
    "duration": 31,
    "start_time": "2024-09-10T15:30:10.615Z"
   },
   {
    "duration": 40,
    "start_time": "2024-09-10T15:30:10.647Z"
   },
   {
    "duration": 34,
    "start_time": "2024-09-10T15:30:10.689Z"
   },
   {
    "duration": 33,
    "start_time": "2024-09-10T15:30:10.727Z"
   },
   {
    "duration": 23,
    "start_time": "2024-09-10T15:30:10.762Z"
   },
   {
    "duration": 100,
    "start_time": "2024-09-10T15:30:10.787Z"
   },
   {
    "duration": 195,
    "start_time": "2024-09-10T15:30:10.889Z"
   },
   {
    "duration": 135,
    "start_time": "2024-09-10T15:30:11.086Z"
   },
   {
    "duration": 6,
    "start_time": "2024-09-10T15:30:11.223Z"
   },
   {
    "duration": 152,
    "start_time": "2024-09-10T15:30:11.231Z"
   },
   {
    "duration": 5,
    "start_time": "2024-09-10T15:30:11.385Z"
   },
   {
    "duration": 174,
    "start_time": "2024-09-10T15:30:11.392Z"
   },
   {
    "duration": 217,
    "start_time": "2024-09-10T15:30:11.568Z"
   },
   {
    "duration": 3,
    "start_time": "2024-09-10T15:30:11.787Z"
   },
   {
    "duration": 284,
    "start_time": "2024-09-10T15:30:11.792Z"
   },
   {
    "duration": 113,
    "start_time": "2024-09-10T15:30:12.078Z"
   },
   {
    "duration": 198,
    "start_time": "2024-09-10T15:30:12.193Z"
   },
   {
    "duration": 175,
    "start_time": "2024-09-10T15:30:12.392Z"
   },
   {
    "duration": 112,
    "start_time": "2024-09-10T15:30:12.568Z"
   },
   {
    "duration": 187,
    "start_time": "2024-09-10T15:30:12.682Z"
   },
   {
    "duration": 139,
    "start_time": "2024-09-10T15:30:12.871Z"
   },
   {
    "duration": 7,
    "start_time": "2024-09-10T15:30:13.012Z"
   },
   {
    "duration": 190,
    "start_time": "2024-09-10T15:30:13.021Z"
   },
   {
    "duration": 7,
    "start_time": "2024-09-10T15:30:13.213Z"
   },
   {
    "duration": 186,
    "start_time": "2024-09-10T15:30:13.221Z"
   },
   {
    "duration": 116,
    "start_time": "2024-09-10T15:30:13.409Z"
   },
   {
    "duration": 171,
    "start_time": "2024-09-10T15:30:13.526Z"
   },
   {
    "duration": 108,
    "start_time": "2024-09-10T15:30:13.699Z"
   },
   {
    "duration": 314,
    "start_time": "2024-09-10T15:30:13.809Z"
   },
   {
    "duration": 131,
    "start_time": "2024-09-10T15:30:14.124Z"
   },
   {
    "duration": 187,
    "start_time": "2024-09-10T15:30:14.257Z"
   },
   {
    "duration": 127,
    "start_time": "2024-09-10T15:30:14.446Z"
   },
   {
    "duration": 9,
    "start_time": "2024-09-10T15:30:14.574Z"
   },
   {
    "duration": 22,
    "start_time": "2024-09-10T15:30:14.585Z"
   },
   {
    "duration": 36,
    "start_time": "2024-09-10T15:30:14.608Z"
   },
   {
    "duration": 23,
    "start_time": "2024-09-10T15:30:14.645Z"
   },
   {
    "duration": 31,
    "start_time": "2024-09-10T15:30:14.670Z"
   },
   {
    "duration": 235,
    "start_time": "2024-09-10T15:30:14.703Z"
   },
   {
    "duration": 131,
    "start_time": "2024-09-10T15:30:14.939Z"
   },
   {
    "duration": 152,
    "start_time": "2024-09-10T15:30:15.072Z"
   },
   {
    "duration": 188,
    "start_time": "2024-09-10T15:30:15.226Z"
   },
   {
    "duration": 130,
    "start_time": "2024-09-10T15:30:15.416Z"
   },
   {
    "duration": 140,
    "start_time": "2024-09-10T15:30:15.548Z"
   },
   {
    "duration": 183,
    "start_time": "2024-09-10T15:30:15.690Z"
   },
   {
    "duration": 122,
    "start_time": "2024-09-10T15:30:15.875Z"
   },
   {
    "duration": 7,
    "start_time": "2024-09-10T15:30:16.004Z"
   },
   {
    "duration": 28,
    "start_time": "2024-09-10T15:30:16.013Z"
   },
   {
    "duration": 9,
    "start_time": "2024-09-10T15:30:16.043Z"
   },
   {
    "duration": 10,
    "start_time": "2024-09-10T15:30:16.053Z"
   },
   {
    "duration": 21,
    "start_time": "2024-09-10T15:30:16.064Z"
   },
   {
    "duration": 15,
    "start_time": "2024-09-10T15:30:16.088Z"
   },
   {
    "duration": 8,
    "start_time": "2024-09-10T15:30:16.105Z"
   },
   {
    "duration": 14,
    "start_time": "2024-09-10T15:30:16.115Z"
   },
   {
    "duration": 13,
    "start_time": "2024-09-10T15:30:16.131Z"
   },
   {
    "duration": 17,
    "start_time": "2024-09-10T15:30:16.146Z"
   },
   {
    "duration": 33,
    "start_time": "2024-09-10T15:30:16.165Z"
   },
   {
    "duration": 10,
    "start_time": "2024-09-10T15:30:16.199Z"
   },
   {
    "duration": 6,
    "start_time": "2024-09-10T15:30:16.215Z"
   },
   {
    "duration": 34,
    "start_time": "2024-09-10T15:30:16.223Z"
   },
   {
    "duration": 24,
    "start_time": "2024-09-10T15:30:16.258Z"
   },
   {
    "duration": 619,
    "start_time": "2024-09-10T15:30:16.284Z"
   },
   {
    "duration": 2147,
    "start_time": "2024-09-10T15:30:16.904Z"
   },
   {
    "duration": 5,
    "start_time": "2024-09-10T15:30:19.052Z"
   },
   {
    "duration": 7,
    "start_time": "2024-09-10T15:30:19.058Z"
   },
   {
    "duration": 8,
    "start_time": "2024-09-10T15:30:19.066Z"
   },
   {
    "duration": 18,
    "start_time": "2024-09-10T15:30:19.075Z"
   },
   {
    "duration": 3,
    "start_time": "2024-09-10T15:30:19.104Z"
   },
   {
    "duration": 5634,
    "start_time": "2024-09-10T15:30:19.109Z"
   },
   {
    "duration": 14,
    "start_time": "2024-09-10T15:30:24.745Z"
   },
   {
    "duration": 4,
    "start_time": "2024-09-10T15:39:36.076Z"
   },
   {
    "duration": 19,
    "start_time": "2024-09-10T15:39:47.481Z"
   },
   {
    "duration": 31,
    "start_time": "2024-09-10T15:40:33.076Z"
   },
   {
    "duration": 150,
    "start_time": "2024-09-10T15:40:55.058Z"
   },
   {
    "duration": 37,
    "start_time": "2024-09-10T15:41:05.920Z"
   },
   {
    "duration": 33,
    "start_time": "2024-09-10T15:42:20.143Z"
   },
   {
    "duration": 42,
    "start_time": "2024-09-10T15:44:00.746Z"
   },
   {
    "duration": 28,
    "start_time": "2024-09-10T15:44:32.739Z"
   },
   {
    "duration": 24,
    "start_time": "2024-09-10T15:47:33.024Z"
   },
   {
    "duration": 39,
    "start_time": "2024-09-10T15:47:55.281Z"
   },
   {
    "duration": 39,
    "start_time": "2024-09-10T15:49:38.283Z"
   },
   {
    "duration": 19,
    "start_time": "2024-09-10T15:50:00.237Z"
   },
   {
    "duration": 40,
    "start_time": "2024-09-10T15:50:34.898Z"
   },
   {
    "duration": 31,
    "start_time": "2024-09-10T15:51:10.833Z"
   },
   {
    "duration": 27,
    "start_time": "2024-09-10T15:55:51.521Z"
   },
   {
    "duration": 40,
    "start_time": "2024-09-10T15:56:54.780Z"
   },
   {
    "duration": 47,
    "start_time": "2024-09-10T15:57:09.450Z"
   },
   {
    "duration": 4013,
    "start_time": "2024-09-10T17:51:56.204Z"
   },
   {
    "duration": 4089,
    "start_time": "2024-09-10T17:52:00.220Z"
   },
   {
    "duration": 2194,
    "start_time": "2024-09-10T17:52:04.311Z"
   },
   {
    "duration": 329,
    "start_time": "2024-09-10T17:52:06.508Z"
   },
   {
    "duration": 18,
    "start_time": "2024-09-10T17:52:06.839Z"
   },
   {
    "duration": 8,
    "start_time": "2024-09-10T17:52:06.858Z"
   },
   {
    "duration": 15,
    "start_time": "2024-09-10T17:52:06.868Z"
   },
   {
    "duration": 13,
    "start_time": "2024-09-10T17:52:06.884Z"
   },
   {
    "duration": 29,
    "start_time": "2024-09-10T17:52:06.898Z"
   },
   {
    "duration": 4,
    "start_time": "2024-09-10T17:52:06.930Z"
   },
   {
    "duration": 22,
    "start_time": "2024-09-10T17:52:06.935Z"
   },
   {
    "duration": 5,
    "start_time": "2024-09-10T17:52:06.959Z"
   },
   {
    "duration": 8,
    "start_time": "2024-09-10T17:52:06.966Z"
   },
   {
    "duration": 13,
    "start_time": "2024-09-10T17:52:06.975Z"
   },
   {
    "duration": 40,
    "start_time": "2024-09-10T17:52:06.989Z"
   },
   {
    "duration": 9,
    "start_time": "2024-09-10T17:52:07.031Z"
   },
   {
    "duration": 24,
    "start_time": "2024-09-10T17:52:07.041Z"
   },
   {
    "duration": 19,
    "start_time": "2024-09-10T17:52:07.067Z"
   },
   {
    "duration": 21,
    "start_time": "2024-09-10T17:52:07.087Z"
   },
   {
    "duration": 8,
    "start_time": "2024-09-10T17:52:07.109Z"
   },
   {
    "duration": 17,
    "start_time": "2024-09-10T17:52:07.118Z"
   },
   {
    "duration": 8,
    "start_time": "2024-09-10T17:52:07.136Z"
   },
   {
    "duration": 9,
    "start_time": "2024-09-10T17:52:07.146Z"
   },
   {
    "duration": 27,
    "start_time": "2024-09-10T17:52:07.156Z"
   },
   {
    "duration": 22,
    "start_time": "2024-09-10T17:52:07.184Z"
   },
   {
    "duration": 31,
    "start_time": "2024-09-10T17:52:07.208Z"
   },
   {
    "duration": 28,
    "start_time": "2024-09-10T17:52:07.241Z"
   },
   {
    "duration": 34,
    "start_time": "2024-09-10T17:52:07.274Z"
   },
   {
    "duration": 25,
    "start_time": "2024-09-10T17:52:07.310Z"
   },
   {
    "duration": 23,
    "start_time": "2024-09-10T17:52:07.337Z"
   },
   {
    "duration": 181,
    "start_time": "2024-09-10T17:52:07.362Z"
   },
   {
    "duration": 165,
    "start_time": "2024-09-10T17:52:07.546Z"
   },
   {
    "duration": 6,
    "start_time": "2024-09-10T17:52:07.712Z"
   },
   {
    "duration": 153,
    "start_time": "2024-09-10T17:52:07.720Z"
   },
   {
    "duration": 7,
    "start_time": "2024-09-10T17:52:07.874Z"
   },
   {
    "duration": 237,
    "start_time": "2024-09-10T17:52:07.883Z"
   },
   {
    "duration": 216,
    "start_time": "2024-09-10T17:52:08.121Z"
   },
   {
    "duration": 2,
    "start_time": "2024-09-10T17:52:08.339Z"
   },
   {
    "duration": 305,
    "start_time": "2024-09-10T17:52:08.343Z"
   },
   {
    "duration": 108,
    "start_time": "2024-09-10T17:52:08.655Z"
   },
   {
    "duration": 204,
    "start_time": "2024-09-10T17:52:08.765Z"
   },
   {
    "duration": 190,
    "start_time": "2024-09-10T17:52:08.970Z"
   },
   {
    "duration": 126,
    "start_time": "2024-09-10T17:52:09.162Z"
   },
   {
    "duration": 203,
    "start_time": "2024-09-10T17:52:09.289Z"
   },
   {
    "duration": 132,
    "start_time": "2024-09-10T17:52:09.494Z"
   },
   {
    "duration": 5,
    "start_time": "2024-09-10T17:52:09.628Z"
   },
   {
    "duration": 190,
    "start_time": "2024-09-10T17:52:09.635Z"
   },
   {
    "duration": 6,
    "start_time": "2024-09-10T17:52:09.827Z"
   },
   {
    "duration": 183,
    "start_time": "2024-09-10T17:52:09.835Z"
   },
   {
    "duration": 119,
    "start_time": "2024-09-10T17:52:10.020Z"
   },
   {
    "duration": 174,
    "start_time": "2024-09-10T17:52:10.141Z"
   },
   {
    "duration": 113,
    "start_time": "2024-09-10T17:52:10.317Z"
   },
   {
    "duration": 308,
    "start_time": "2024-09-10T17:52:10.432Z"
   },
   {
    "duration": 136,
    "start_time": "2024-09-10T17:52:10.742Z"
   },
   {
    "duration": 184,
    "start_time": "2024-09-10T17:52:10.880Z"
   },
   {
    "duration": 129,
    "start_time": "2024-09-10T17:52:11.066Z"
   },
   {
    "duration": 8,
    "start_time": "2024-09-10T17:52:11.197Z"
   },
   {
    "duration": 19,
    "start_time": "2024-09-10T17:52:11.207Z"
   },
   {
    "duration": 8,
    "start_time": "2024-09-10T17:52:11.228Z"
   },
   {
    "duration": 18,
    "start_time": "2024-09-10T17:52:11.238Z"
   },
   {
    "duration": 9,
    "start_time": "2024-09-10T17:52:11.258Z"
   },
   {
    "duration": 205,
    "start_time": "2024-09-10T17:52:11.269Z"
   },
   {
    "duration": 135,
    "start_time": "2024-09-10T17:52:11.476Z"
   },
   {
    "duration": 157,
    "start_time": "2024-09-10T17:52:11.613Z"
   },
   {
    "duration": 190,
    "start_time": "2024-09-10T17:52:11.772Z"
   },
   {
    "duration": 133,
    "start_time": "2024-09-10T17:52:11.964Z"
   },
   {
    "duration": 157,
    "start_time": "2024-09-10T17:52:12.098Z"
   },
   {
    "duration": 193,
    "start_time": "2024-09-10T17:52:12.257Z"
   },
   {
    "duration": 117,
    "start_time": "2024-09-10T17:52:12.451Z"
   },
   {
    "duration": 5,
    "start_time": "2024-09-10T17:52:12.570Z"
   },
   {
    "duration": 41,
    "start_time": "2024-09-10T17:52:12.577Z"
   },
   {
    "duration": 4,
    "start_time": "2024-09-10T17:52:12.619Z"
   },
   {
    "duration": 20,
    "start_time": "2024-09-10T17:52:12.625Z"
   },
   {
    "duration": 10,
    "start_time": "2024-09-10T17:52:12.647Z"
   },
   {
    "duration": 14,
    "start_time": "2024-09-10T17:52:12.659Z"
   },
   {
    "duration": 7,
    "start_time": "2024-09-10T17:52:12.675Z"
   },
   {
    "duration": 5,
    "start_time": "2024-09-10T17:52:12.684Z"
   },
   {
    "duration": 9,
    "start_time": "2024-09-10T17:52:12.691Z"
   },
   {
    "duration": 9,
    "start_time": "2024-09-10T17:52:12.701Z"
   },
   {
    "duration": 9,
    "start_time": "2024-09-10T17:52:12.712Z"
   },
   {
    "duration": 7,
    "start_time": "2024-09-10T17:52:12.723Z"
   },
   {
    "duration": 23,
    "start_time": "2024-09-10T17:52:12.736Z"
   },
   {
    "duration": 12,
    "start_time": "2024-09-10T17:52:12.761Z"
   },
   {
    "duration": 15,
    "start_time": "2024-09-10T17:52:12.774Z"
   },
   {
    "duration": 611,
    "start_time": "2024-09-10T17:52:12.791Z"
   },
   {
    "duration": 2245,
    "start_time": "2024-09-10T17:52:13.404Z"
   },
   {
    "duration": 5,
    "start_time": "2024-09-10T17:52:15.650Z"
   },
   {
    "duration": 21,
    "start_time": "2024-09-10T17:52:15.657Z"
   },
   {
    "duration": 8,
    "start_time": "2024-09-10T17:52:15.680Z"
   },
   {
    "duration": 20,
    "start_time": "2024-09-10T17:52:15.689Z"
   },
   {
    "duration": 35,
    "start_time": "2024-09-10T17:52:15.710Z"
   },
   {
    "duration": 6142,
    "start_time": "2024-09-10T17:52:15.747Z"
   },
   {
    "duration": 15,
    "start_time": "2024-09-10T17:52:21.891Z"
   },
   {
    "duration": 243,
    "start_time": "2024-09-10T17:52:21.908Z"
   },
   {
    "duration": 96,
    "start_time": "2024-09-10T17:52:39.060Z"
   },
   {
    "duration": 8,
    "start_time": "2024-09-10T17:53:00.801Z"
   },
   {
    "duration": 80,
    "start_time": "2024-09-10T17:54:30.985Z"
   },
   {
    "duration": 206,
    "start_time": "2024-09-10T17:54:41.255Z"
   },
   {
    "duration": 8,
    "start_time": "2024-09-10T17:55:26.437Z"
   },
   {
    "duration": 11,
    "start_time": "2024-09-10T17:57:43.606Z"
   },
   {
    "duration": 35,
    "start_time": "2024-09-10T17:57:48.521Z"
   },
   {
    "duration": 11,
    "start_time": "2024-09-10T17:57:49.334Z"
   },
   {
    "duration": 39,
    "start_time": "2024-09-10T18:12:52.848Z"
   },
   {
    "duration": 31,
    "start_time": "2024-09-10T18:13:10.621Z"
   },
   {
    "duration": 36,
    "start_time": "2024-09-10T18:13:40.118Z"
   },
   {
    "duration": 48,
    "start_time": "2024-09-10T18:13:55.806Z"
   },
   {
    "duration": 38,
    "start_time": "2024-09-10T18:18:52.312Z"
   },
   {
    "duration": 2765,
    "start_time": "2024-09-10T18:20:19.575Z"
   },
   {
    "duration": 2676,
    "start_time": "2024-09-10T18:20:22.342Z"
   },
   {
    "duration": 1996,
    "start_time": "2024-09-10T18:20:25.020Z"
   },
   {
    "duration": 92,
    "start_time": "2024-09-10T18:20:27.017Z"
   },
   {
    "duration": 18,
    "start_time": "2024-09-10T18:20:27.111Z"
   },
   {
    "duration": 8,
    "start_time": "2024-09-10T18:20:27.131Z"
   },
   {
    "duration": 8,
    "start_time": "2024-09-10T18:20:27.141Z"
   },
   {
    "duration": 8,
    "start_time": "2024-09-10T18:20:27.151Z"
   },
   {
    "duration": 16,
    "start_time": "2024-09-10T18:20:27.160Z"
   },
   {
    "duration": 5,
    "start_time": "2024-09-10T18:20:27.178Z"
   },
   {
    "duration": 27,
    "start_time": "2024-09-10T18:20:27.185Z"
   },
   {
    "duration": 12,
    "start_time": "2024-09-10T18:20:27.213Z"
   },
   {
    "duration": 12,
    "start_time": "2024-09-10T18:20:27.227Z"
   },
   {
    "duration": 16,
    "start_time": "2024-09-10T18:20:27.244Z"
   },
   {
    "duration": 10,
    "start_time": "2024-09-10T18:20:27.262Z"
   },
   {
    "duration": 15,
    "start_time": "2024-09-10T18:20:27.274Z"
   },
   {
    "duration": 27,
    "start_time": "2024-09-10T18:20:27.290Z"
   },
   {
    "duration": 11,
    "start_time": "2024-09-10T18:20:27.318Z"
   },
   {
    "duration": 12,
    "start_time": "2024-09-10T18:20:27.331Z"
   },
   {
    "duration": 15,
    "start_time": "2024-09-10T18:20:27.345Z"
   },
   {
    "duration": 12,
    "start_time": "2024-09-10T18:20:27.362Z"
   },
   {
    "duration": 5,
    "start_time": "2024-09-10T18:20:27.375Z"
   },
   {
    "duration": 19,
    "start_time": "2024-09-10T18:20:27.381Z"
   },
   {
    "duration": 15,
    "start_time": "2024-09-10T18:20:27.402Z"
   },
   {
    "duration": 14,
    "start_time": "2024-09-10T18:20:27.419Z"
   },
   {
    "duration": 21,
    "start_time": "2024-09-10T18:20:27.435Z"
   },
   {
    "duration": 13,
    "start_time": "2024-09-10T18:20:27.458Z"
   },
   {
    "duration": 19,
    "start_time": "2024-09-10T18:20:27.472Z"
   },
   {
    "duration": 17,
    "start_time": "2024-09-10T18:20:27.493Z"
   },
   {
    "duration": 26,
    "start_time": "2024-09-10T18:20:27.511Z"
   },
   {
    "duration": 184,
    "start_time": "2024-09-10T18:20:27.539Z"
   },
   {
    "duration": 137,
    "start_time": "2024-09-10T18:20:27.725Z"
   },
   {
    "duration": 6,
    "start_time": "2024-09-10T18:20:27.863Z"
   },
   {
    "duration": 155,
    "start_time": "2024-09-10T18:20:27.871Z"
   },
   {
    "duration": 6,
    "start_time": "2024-09-10T18:20:28.027Z"
   },
   {
    "duration": 182,
    "start_time": "2024-09-10T18:20:28.034Z"
   },
   {
    "duration": 209,
    "start_time": "2024-09-10T18:20:28.217Z"
   },
   {
    "duration": 3,
    "start_time": "2024-09-10T18:20:28.428Z"
   },
   {
    "duration": 357,
    "start_time": "2024-09-10T18:20:28.433Z"
   },
   {
    "duration": 114,
    "start_time": "2024-09-10T18:20:28.792Z"
   },
   {
    "duration": 196,
    "start_time": "2024-09-10T18:20:28.912Z"
   },
   {
    "duration": 188,
    "start_time": "2024-09-10T18:20:29.110Z"
   },
   {
    "duration": 118,
    "start_time": "2024-09-10T18:20:29.300Z"
   },
   {
    "duration": 187,
    "start_time": "2024-09-10T18:20:29.420Z"
   },
   {
    "duration": 124,
    "start_time": "2024-09-10T18:20:29.609Z"
   },
   {
    "duration": 6,
    "start_time": "2024-09-10T18:20:29.736Z"
   },
   {
    "duration": 203,
    "start_time": "2024-09-10T18:20:29.743Z"
   },
   {
    "duration": 10,
    "start_time": "2024-09-10T18:20:29.948Z"
   },
   {
    "duration": 203,
    "start_time": "2024-09-10T18:20:29.960Z"
   },
   {
    "duration": 132,
    "start_time": "2024-09-10T18:20:30.165Z"
   },
   {
    "duration": 180,
    "start_time": "2024-09-10T18:20:30.298Z"
   },
   {
    "duration": 117,
    "start_time": "2024-09-10T18:20:30.480Z"
   },
   {
    "duration": 311,
    "start_time": "2024-09-10T18:20:30.599Z"
   },
   {
    "duration": 134,
    "start_time": "2024-09-10T18:20:30.912Z"
   },
   {
    "duration": 226,
    "start_time": "2024-09-10T18:20:31.048Z"
   },
   {
    "duration": 123,
    "start_time": "2024-09-10T18:20:31.276Z"
   },
   {
    "duration": 9,
    "start_time": "2024-09-10T18:20:31.401Z"
   },
   {
    "duration": 44,
    "start_time": "2024-09-10T18:20:31.411Z"
   },
   {
    "duration": 62,
    "start_time": "2024-09-10T18:20:31.457Z"
   },
   {
    "duration": 11,
    "start_time": "2024-09-10T18:20:31.521Z"
   },
   {
    "duration": 14,
    "start_time": "2024-09-10T18:20:31.534Z"
   },
   {
    "duration": 221,
    "start_time": "2024-09-10T18:20:31.550Z"
   },
   {
    "duration": 136,
    "start_time": "2024-09-10T18:20:31.773Z"
   },
   {
    "duration": 155,
    "start_time": "2024-09-10T18:20:31.911Z"
   },
   {
    "duration": 198,
    "start_time": "2024-09-10T18:20:32.067Z"
   },
   {
    "duration": 143,
    "start_time": "2024-09-10T18:20:32.267Z"
   },
   {
    "duration": 149,
    "start_time": "2024-09-10T18:20:32.412Z"
   },
   {
    "duration": 305,
    "start_time": "2024-09-10T18:20:32.563Z"
   },
   {
    "duration": 146,
    "start_time": "2024-09-10T18:20:32.870Z"
   },
   {
    "duration": 6,
    "start_time": "2024-09-10T18:20:33.018Z"
   },
   {
    "duration": 23,
    "start_time": "2024-09-10T18:20:33.026Z"
   },
   {
    "duration": 31,
    "start_time": "2024-09-10T18:20:33.055Z"
   },
   {
    "duration": 47,
    "start_time": "2024-09-10T18:20:33.087Z"
   },
   {
    "duration": 58,
    "start_time": "2024-09-10T18:20:33.136Z"
   },
   {
    "duration": 19,
    "start_time": "2024-09-10T18:20:33.196Z"
   },
   {
    "duration": 6,
    "start_time": "2024-09-10T18:20:33.216Z"
   },
   {
    "duration": 5,
    "start_time": "2024-09-10T18:20:33.224Z"
   },
   {
    "duration": 22,
    "start_time": "2024-09-10T18:20:33.230Z"
   },
   {
    "duration": 32,
    "start_time": "2024-09-10T18:20:33.254Z"
   },
   {
    "duration": 7,
    "start_time": "2024-09-10T18:20:33.288Z"
   },
   {
    "duration": 12,
    "start_time": "2024-09-10T18:20:33.297Z"
   },
   {
    "duration": 7,
    "start_time": "2024-09-10T18:20:33.311Z"
   },
   {
    "duration": 13,
    "start_time": "2024-09-10T18:20:33.319Z"
   },
   {
    "duration": 16,
    "start_time": "2024-09-10T18:20:33.333Z"
   },
   {
    "duration": 617,
    "start_time": "2024-09-10T18:20:33.356Z"
   },
   {
    "duration": 2194,
    "start_time": "2024-09-10T18:20:33.975Z"
   },
   {
    "duration": 6,
    "start_time": "2024-09-10T18:20:36.170Z"
   },
   {
    "duration": 5,
    "start_time": "2024-09-10T18:20:36.178Z"
   },
   {
    "duration": 31,
    "start_time": "2024-09-10T18:20:36.184Z"
   },
   {
    "duration": 11,
    "start_time": "2024-09-10T18:20:36.217Z"
   },
   {
    "duration": 18,
    "start_time": "2024-09-10T18:20:36.230Z"
   },
   {
    "duration": 5642,
    "start_time": "2024-09-10T18:20:36.249Z"
   },
   {
    "duration": 15,
    "start_time": "2024-09-10T18:20:41.893Z"
   },
   {
    "duration": 54,
    "start_time": "2024-09-10T18:20:41.910Z"
   },
   {
    "duration": 13,
    "start_time": "2024-09-10T18:20:42.057Z"
   },
   {
    "duration": 207,
    "start_time": "2024-09-10T18:20:42.072Z"
   },
   {
    "duration": 39,
    "start_time": "2024-09-10T18:26:11.916Z"
   },
   {
    "duration": 38,
    "start_time": "2024-09-10T18:30:44.100Z"
   },
   {
    "duration": 38,
    "start_time": "2024-09-10T18:49:42.549Z"
   },
   {
    "duration": 24,
    "start_time": "2024-09-10T18:52:57.544Z"
   },
   {
    "duration": 2752,
    "start_time": "2024-09-10T18:53:18.625Z"
   },
   {
    "duration": 2743,
    "start_time": "2024-09-10T18:53:21.379Z"
   },
   {
    "duration": 1976,
    "start_time": "2024-09-10T18:53:24.124Z"
   },
   {
    "duration": 91,
    "start_time": "2024-09-10T18:53:26.102Z"
   },
   {
    "duration": 17,
    "start_time": "2024-09-10T18:53:26.195Z"
   },
   {
    "duration": 8,
    "start_time": "2024-09-10T18:53:26.213Z"
   },
   {
    "duration": 12,
    "start_time": "2024-09-10T18:53:26.223Z"
   },
   {
    "duration": 23,
    "start_time": "2024-09-10T18:53:26.236Z"
   },
   {
    "duration": 15,
    "start_time": "2024-09-10T18:53:26.260Z"
   },
   {
    "duration": 10,
    "start_time": "2024-09-10T18:53:26.278Z"
   },
   {
    "duration": 17,
    "start_time": "2024-09-10T18:53:26.290Z"
   },
   {
    "duration": 11,
    "start_time": "2024-09-10T18:53:26.309Z"
   },
   {
    "duration": 23,
    "start_time": "2024-09-10T18:53:26.323Z"
   },
   {
    "duration": 9,
    "start_time": "2024-09-10T18:53:26.348Z"
   },
   {
    "duration": 21,
    "start_time": "2024-09-10T18:53:26.359Z"
   },
   {
    "duration": 7,
    "start_time": "2024-09-10T18:53:26.383Z"
   },
   {
    "duration": 21,
    "start_time": "2024-09-10T18:53:26.392Z"
   },
   {
    "duration": 28,
    "start_time": "2024-09-10T18:53:26.414Z"
   },
   {
    "duration": 11,
    "start_time": "2024-09-10T18:53:26.444Z"
   },
   {
    "duration": 16,
    "start_time": "2024-09-10T18:53:26.457Z"
   },
   {
    "duration": 12,
    "start_time": "2024-09-10T18:53:26.475Z"
   },
   {
    "duration": 16,
    "start_time": "2024-09-10T18:53:26.489Z"
   },
   {
    "duration": 4,
    "start_time": "2024-09-10T18:53:26.506Z"
   },
   {
    "duration": 13,
    "start_time": "2024-09-10T18:53:26.512Z"
   },
   {
    "duration": 7,
    "start_time": "2024-09-10T18:53:26.527Z"
   },
   {
    "duration": 23,
    "start_time": "2024-09-10T18:53:26.535Z"
   },
   {
    "duration": 10,
    "start_time": "2024-09-10T18:53:26.560Z"
   },
   {
    "duration": 89,
    "start_time": "2024-09-10T18:53:26.575Z"
   },
   {
    "duration": 6,
    "start_time": "2024-09-10T18:53:26.665Z"
   },
   {
    "duration": 38,
    "start_time": "2024-09-10T18:53:26.673Z"
   },
   {
    "duration": 163,
    "start_time": "2024-09-10T18:53:26.713Z"
   },
   {
    "duration": 138,
    "start_time": "2024-09-10T18:53:26.878Z"
   },
   {
    "duration": 6,
    "start_time": "2024-09-10T18:53:27.018Z"
   },
   {
    "duration": 164,
    "start_time": "2024-09-10T18:53:27.026Z"
   },
   {
    "duration": 7,
    "start_time": "2024-09-10T18:53:27.191Z"
   },
   {
    "duration": 176,
    "start_time": "2024-09-10T18:53:27.200Z"
   },
   {
    "duration": 234,
    "start_time": "2024-09-10T18:53:27.378Z"
   },
   {
    "duration": 5,
    "start_time": "2024-09-10T18:53:27.614Z"
   },
   {
    "duration": 308,
    "start_time": "2024-09-10T18:53:27.620Z"
   },
   {
    "duration": 120,
    "start_time": "2024-09-10T18:53:27.930Z"
   },
   {
    "duration": 213,
    "start_time": "2024-09-10T18:53:28.055Z"
   },
   {
    "duration": 177,
    "start_time": "2024-09-10T18:53:28.270Z"
   },
   {
    "duration": 116,
    "start_time": "2024-09-10T18:53:28.448Z"
   },
   {
    "duration": 186,
    "start_time": "2024-09-10T18:53:28.566Z"
   },
   {
    "duration": 134,
    "start_time": "2024-09-10T18:53:28.755Z"
   },
   {
    "duration": 6,
    "start_time": "2024-09-10T18:53:28.890Z"
   },
   {
    "duration": 186,
    "start_time": "2024-09-10T18:53:28.897Z"
   },
   {
    "duration": 7,
    "start_time": "2024-09-10T18:53:29.084Z"
   },
   {
    "duration": 201,
    "start_time": "2024-09-10T18:53:29.093Z"
   },
   {
    "duration": 135,
    "start_time": "2024-09-10T18:53:29.296Z"
   },
   {
    "duration": 185,
    "start_time": "2024-09-10T18:53:29.433Z"
   },
   {
    "duration": 111,
    "start_time": "2024-09-10T18:53:29.620Z"
   },
   {
    "duration": 297,
    "start_time": "2024-09-10T18:53:29.733Z"
   },
   {
    "duration": 131,
    "start_time": "2024-09-10T18:53:30.031Z"
   },
   {
    "duration": 194,
    "start_time": "2024-09-10T18:53:30.164Z"
   },
   {
    "duration": 120,
    "start_time": "2024-09-10T18:53:30.360Z"
   },
   {
    "duration": 9,
    "start_time": "2024-09-10T18:53:30.481Z"
   },
   {
    "duration": 30,
    "start_time": "2024-09-10T18:53:30.492Z"
   },
   {
    "duration": 26,
    "start_time": "2024-09-10T18:53:30.525Z"
   },
   {
    "duration": 7,
    "start_time": "2024-09-10T18:53:30.553Z"
   },
   {
    "duration": 21,
    "start_time": "2024-09-10T18:53:30.561Z"
   },
   {
    "duration": 292,
    "start_time": "2024-09-10T18:53:30.585Z"
   },
   {
    "duration": 147,
    "start_time": "2024-09-10T18:53:30.879Z"
   },
   {
    "duration": 170,
    "start_time": "2024-09-10T18:53:31.028Z"
   },
   {
    "duration": 193,
    "start_time": "2024-09-10T18:53:31.200Z"
   },
   {
    "duration": 131,
    "start_time": "2024-09-10T18:53:31.395Z"
   },
   {
    "duration": 146,
    "start_time": "2024-09-10T18:53:31.528Z"
   },
   {
    "duration": 192,
    "start_time": "2024-09-10T18:53:31.677Z"
   },
   {
    "duration": 122,
    "start_time": "2024-09-10T18:53:31.871Z"
   },
   {
    "duration": 6,
    "start_time": "2024-09-10T18:53:31.995Z"
   },
   {
    "duration": 9,
    "start_time": "2024-09-10T18:53:32.002Z"
   },
   {
    "duration": 6,
    "start_time": "2024-09-10T18:53:32.013Z"
   },
   {
    "duration": 9,
    "start_time": "2024-09-10T18:53:32.021Z"
   },
   {
    "duration": 46,
    "start_time": "2024-09-10T18:53:32.031Z"
   },
   {
    "duration": 16,
    "start_time": "2024-09-10T18:53:32.079Z"
   },
   {
    "duration": 27,
    "start_time": "2024-09-10T18:53:32.097Z"
   },
   {
    "duration": 89,
    "start_time": "2024-09-10T18:53:32.125Z"
   },
   {
    "duration": 15,
    "start_time": "2024-09-10T18:53:32.216Z"
   },
   {
    "duration": 19,
    "start_time": "2024-09-10T18:53:32.233Z"
   },
   {
    "duration": 8,
    "start_time": "2024-09-10T18:53:32.254Z"
   },
   {
    "duration": 66,
    "start_time": "2024-09-10T18:53:32.263Z"
   },
   {
    "duration": 9,
    "start_time": "2024-09-10T18:53:32.336Z"
   },
   {
    "duration": 15,
    "start_time": "2024-09-10T18:53:32.347Z"
   },
   {
    "duration": 24,
    "start_time": "2024-09-10T18:53:32.364Z"
   },
   {
    "duration": 666,
    "start_time": "2024-09-10T18:53:32.390Z"
   },
   {
    "duration": 2222,
    "start_time": "2024-09-10T18:53:33.058Z"
   },
   {
    "duration": 6,
    "start_time": "2024-09-10T18:53:35.282Z"
   },
   {
    "duration": 44,
    "start_time": "2024-09-10T18:53:35.290Z"
   },
   {
    "duration": 20,
    "start_time": "2024-09-10T18:53:35.336Z"
   },
   {
    "duration": 13,
    "start_time": "2024-09-10T18:53:35.358Z"
   },
   {
    "duration": 11,
    "start_time": "2024-09-10T18:53:35.373Z"
   },
   {
    "duration": 5604,
    "start_time": "2024-09-10T18:53:35.386Z"
   },
   {
    "duration": 16,
    "start_time": "2024-09-10T18:53:40.992Z"
   },
   {
    "duration": 149,
    "start_time": "2024-09-10T18:53:41.010Z"
   },
   {
    "duration": 100,
    "start_time": "2024-09-10T18:53:41.162Z"
   },
   {
    "duration": 185,
    "start_time": "2024-09-10T18:53:41.265Z"
   },
   {
    "duration": 32,
    "start_time": "2024-09-10T18:54:21.697Z"
   },
   {
    "duration": 23,
    "start_time": "2024-09-10T18:54:46.139Z"
   },
   {
    "duration": 2692,
    "start_time": "2024-09-10T18:55:00.180Z"
   },
   {
    "duration": 2635,
    "start_time": "2024-09-10T18:55:02.875Z"
   },
   {
    "duration": 2757,
    "start_time": "2024-09-10T18:55:05.512Z"
   },
   {
    "duration": 90,
    "start_time": "2024-09-10T18:55:08.271Z"
   },
   {
    "duration": 18,
    "start_time": "2024-09-10T18:55:08.362Z"
   },
   {
    "duration": 16,
    "start_time": "2024-09-10T18:55:08.381Z"
   },
   {
    "duration": 30,
    "start_time": "2024-09-10T18:55:08.399Z"
   },
   {
    "duration": 35,
    "start_time": "2024-09-10T18:55:08.430Z"
   },
   {
    "duration": 31,
    "start_time": "2024-09-10T18:55:08.466Z"
   },
   {
    "duration": 22,
    "start_time": "2024-09-10T18:55:08.500Z"
   },
   {
    "duration": 28,
    "start_time": "2024-09-10T18:55:08.524Z"
   },
   {
    "duration": 21,
    "start_time": "2024-09-10T18:55:08.553Z"
   },
   {
    "duration": 39,
    "start_time": "2024-09-10T18:55:08.575Z"
   },
   {
    "duration": 64,
    "start_time": "2024-09-10T18:55:08.615Z"
   },
   {
    "duration": 32,
    "start_time": "2024-09-10T18:55:08.681Z"
   },
   {
    "duration": 22,
    "start_time": "2024-09-10T18:55:08.715Z"
   },
   {
    "duration": 28,
    "start_time": "2024-09-10T18:55:08.739Z"
   },
   {
    "duration": 31,
    "start_time": "2024-09-10T18:55:08.769Z"
   },
   {
    "duration": 32,
    "start_time": "2024-09-10T18:55:08.802Z"
   },
   {
    "duration": 24,
    "start_time": "2024-09-10T18:55:08.838Z"
   },
   {
    "duration": 33,
    "start_time": "2024-09-10T18:55:08.864Z"
   },
   {
    "duration": 22,
    "start_time": "2024-09-10T18:55:08.900Z"
   },
   {
    "duration": 4,
    "start_time": "2024-09-10T18:55:08.956Z"
   },
   {
    "duration": 41,
    "start_time": "2024-09-10T18:55:08.962Z"
   },
   {
    "duration": 52,
    "start_time": "2024-09-10T18:55:09.005Z"
   },
   {
    "duration": 23,
    "start_time": "2024-09-10T18:55:09.059Z"
   },
   {
    "duration": 22,
    "start_time": "2024-09-10T18:55:09.084Z"
   },
   {
    "duration": 49,
    "start_time": "2024-09-10T18:55:09.110Z"
   },
   {
    "duration": 20,
    "start_time": "2024-09-10T18:55:09.160Z"
   },
   {
    "duration": 21,
    "start_time": "2024-09-10T18:55:09.182Z"
   },
   {
    "duration": 353,
    "start_time": "2024-09-10T18:55:09.205Z"
   },
   {
    "duration": 232,
    "start_time": "2024-09-10T18:55:09.560Z"
   },
   {
    "duration": 6,
    "start_time": "2024-09-10T18:55:09.794Z"
   },
   {
    "duration": 292,
    "start_time": "2024-09-10T18:55:09.801Z"
   },
   {
    "duration": 6,
    "start_time": "2024-09-10T18:55:10.095Z"
   },
   {
    "duration": 359,
    "start_time": "2024-09-10T18:55:10.102Z"
   },
   {
    "duration": 217,
    "start_time": "2024-09-10T18:55:10.462Z"
   },
   {
    "duration": 3,
    "start_time": "2024-09-10T18:55:10.681Z"
   },
   {
    "duration": 293,
    "start_time": "2024-09-10T18:55:10.686Z"
   },
   {
    "duration": 121,
    "start_time": "2024-09-10T18:55:10.981Z"
   },
   {
    "duration": 214,
    "start_time": "2024-09-10T18:55:11.104Z"
   },
   {
    "duration": 180,
    "start_time": "2024-09-10T18:55:11.320Z"
   },
   {
    "duration": 113,
    "start_time": "2024-09-10T18:55:11.502Z"
   },
   {
    "duration": 198,
    "start_time": "2024-09-10T18:55:11.617Z"
   },
   {
    "duration": 133,
    "start_time": "2024-09-10T18:55:11.816Z"
   },
   {
    "duration": 6,
    "start_time": "2024-09-10T18:55:11.955Z"
   },
   {
    "duration": 187,
    "start_time": "2024-09-10T18:55:11.963Z"
   },
   {
    "duration": 7,
    "start_time": "2024-09-10T18:55:12.155Z"
   },
   {
    "duration": 234,
    "start_time": "2024-09-10T18:55:12.164Z"
   },
   {
    "duration": 125,
    "start_time": "2024-09-10T18:55:12.400Z"
   },
   {
    "duration": 225,
    "start_time": "2024-09-10T18:55:12.527Z"
   },
   {
    "duration": 112,
    "start_time": "2024-09-10T18:55:12.753Z"
   },
   {
    "duration": 323,
    "start_time": "2024-09-10T18:55:12.867Z"
   },
   {
    "duration": 137,
    "start_time": "2024-09-10T18:55:13.192Z"
   },
   {
    "duration": 207,
    "start_time": "2024-09-10T18:55:13.330Z"
   },
   {
    "duration": 124,
    "start_time": "2024-09-10T18:55:13.538Z"
   },
   {
    "duration": 9,
    "start_time": "2024-09-10T18:55:13.664Z"
   },
   {
    "duration": 26,
    "start_time": "2024-09-10T18:55:13.674Z"
   },
   {
    "duration": 21,
    "start_time": "2024-09-10T18:55:13.702Z"
   },
   {
    "duration": 23,
    "start_time": "2024-09-10T18:55:13.725Z"
   },
   {
    "duration": 13,
    "start_time": "2024-09-10T18:55:13.749Z"
   },
   {
    "duration": 196,
    "start_time": "2024-09-10T18:55:13.765Z"
   },
   {
    "duration": 132,
    "start_time": "2024-09-10T18:55:13.962Z"
   },
   {
    "duration": 149,
    "start_time": "2024-09-10T18:55:14.096Z"
   },
   {
    "duration": 195,
    "start_time": "2024-09-10T18:55:14.247Z"
   },
   {
    "duration": 125,
    "start_time": "2024-09-10T18:55:14.444Z"
   },
   {
    "duration": 151,
    "start_time": "2024-09-10T18:55:14.571Z"
   },
   {
    "duration": 190,
    "start_time": "2024-09-10T18:55:14.723Z"
   },
   {
    "duration": 127,
    "start_time": "2024-09-10T18:55:14.915Z"
   },
   {
    "duration": 5,
    "start_time": "2024-09-10T18:55:15.044Z"
   },
   {
    "duration": 38,
    "start_time": "2024-09-10T18:55:15.056Z"
   },
   {
    "duration": 25,
    "start_time": "2024-09-10T18:55:15.096Z"
   },
   {
    "duration": 49,
    "start_time": "2024-09-10T18:55:15.124Z"
   },
   {
    "duration": 44,
    "start_time": "2024-09-10T18:55:15.175Z"
   },
   {
    "duration": 38,
    "start_time": "2024-09-10T18:55:15.221Z"
   },
   {
    "duration": 40,
    "start_time": "2024-09-10T18:55:15.261Z"
   },
   {
    "duration": 35,
    "start_time": "2024-09-10T18:55:15.302Z"
   },
   {
    "duration": 29,
    "start_time": "2024-09-10T18:55:15.338Z"
   },
   {
    "duration": 41,
    "start_time": "2024-09-10T18:55:15.369Z"
   },
   {
    "duration": 68,
    "start_time": "2024-09-10T18:55:15.412Z"
   },
   {
    "duration": 20,
    "start_time": "2024-09-10T18:55:15.482Z"
   },
   {
    "duration": 46,
    "start_time": "2024-09-10T18:55:15.508Z"
   },
   {
    "duration": 12,
    "start_time": "2024-09-10T18:55:15.556Z"
   },
   {
    "duration": 16,
    "start_time": "2024-09-10T18:55:15.570Z"
   },
   {
    "duration": 601,
    "start_time": "2024-09-10T18:55:15.587Z"
   },
   {
    "duration": 2147,
    "start_time": "2024-09-10T18:55:16.190Z"
   },
   {
    "duration": 5,
    "start_time": "2024-09-10T18:55:18.338Z"
   },
   {
    "duration": 10,
    "start_time": "2024-09-10T18:55:18.345Z"
   },
   {
    "duration": 6,
    "start_time": "2024-09-10T18:55:18.357Z"
   },
   {
    "duration": 10,
    "start_time": "2024-09-10T18:55:18.364Z"
   },
   {
    "duration": 9,
    "start_time": "2024-09-10T18:55:18.376Z"
   },
   {
    "duration": 5718,
    "start_time": "2024-09-10T18:55:18.386Z"
   },
   {
    "duration": 17,
    "start_time": "2024-09-10T18:55:24.106Z"
   },
   {
    "duration": 132,
    "start_time": "2024-09-10T18:55:24.124Z"
   },
   {
    "duration": 103,
    "start_time": "2024-09-10T18:55:24.258Z"
   },
   {
    "duration": 180,
    "start_time": "2024-09-10T18:55:24.363Z"
   },
   {
    "duration": 17,
    "start_time": "2024-09-10T19:03:55.420Z"
   },
   {
    "duration": 30,
    "start_time": "2024-09-10T19:04:23.963Z"
   },
   {
    "duration": 21,
    "start_time": "2024-09-10T19:05:09.400Z"
   },
   {
    "duration": 22,
    "start_time": "2024-09-10T19:05:20.036Z"
   },
   {
    "duration": 11,
    "start_time": "2024-09-10T19:09:28.812Z"
   },
   {
    "duration": 14,
    "start_time": "2024-09-10T19:20:49.964Z"
   },
   {
    "duration": 4,
    "start_time": "2024-09-10T19:26:09.364Z"
   },
   {
    "duration": 14382,
    "start_time": "2024-09-10T19:36:53.096Z"
   },
   {
    "duration": 2878,
    "start_time": "2024-09-10T19:37:07.481Z"
   },
   {
    "duration": 3062,
    "start_time": "2024-09-10T19:37:10.361Z"
   },
   {
    "duration": 1733,
    "start_time": "2024-09-10T19:37:13.426Z"
   },
   {
    "duration": 0,
    "start_time": "2024-09-10T19:37:15.164Z"
   },
   {
    "duration": 0,
    "start_time": "2024-09-10T19:37:15.167Z"
   },
   {
    "duration": 0,
    "start_time": "2024-09-10T19:37:15.169Z"
   },
   {
    "duration": 0,
    "start_time": "2024-09-10T19:37:15.171Z"
   },
   {
    "duration": 1,
    "start_time": "2024-09-10T19:37:15.172Z"
   },
   {
    "duration": 0,
    "start_time": "2024-09-10T19:37:15.174Z"
   },
   {
    "duration": 0,
    "start_time": "2024-09-10T19:37:15.177Z"
   },
   {
    "duration": 0,
    "start_time": "2024-09-10T19:37:15.178Z"
   },
   {
    "duration": 0,
    "start_time": "2024-09-10T19:37:15.180Z"
   },
   {
    "duration": 0,
    "start_time": "2024-09-10T19:37:15.182Z"
   },
   {
    "duration": 0,
    "start_time": "2024-09-10T19:37:15.184Z"
   },
   {
    "duration": 0,
    "start_time": "2024-09-10T19:37:15.186Z"
   },
   {
    "duration": 1,
    "start_time": "2024-09-10T19:37:15.187Z"
   },
   {
    "duration": 0,
    "start_time": "2024-09-10T19:37:15.189Z"
   },
   {
    "duration": 0,
    "start_time": "2024-09-10T19:37:15.191Z"
   },
   {
    "duration": 0,
    "start_time": "2024-09-10T19:37:15.193Z"
   },
   {
    "duration": 0,
    "start_time": "2024-09-10T19:37:15.194Z"
   },
   {
    "duration": 0,
    "start_time": "2024-09-10T19:37:15.196Z"
   },
   {
    "duration": 0,
    "start_time": "2024-09-10T19:37:15.197Z"
   },
   {
    "duration": 0,
    "start_time": "2024-09-10T19:37:15.199Z"
   },
   {
    "duration": 0,
    "start_time": "2024-09-10T19:37:15.256Z"
   },
   {
    "duration": 0,
    "start_time": "2024-09-10T19:37:15.257Z"
   },
   {
    "duration": 0,
    "start_time": "2024-09-10T19:37:15.259Z"
   },
   {
    "duration": 0,
    "start_time": "2024-09-10T19:37:15.260Z"
   },
   {
    "duration": 0,
    "start_time": "2024-09-10T19:37:15.262Z"
   },
   {
    "duration": 0,
    "start_time": "2024-09-10T19:37:15.263Z"
   },
   {
    "duration": 0,
    "start_time": "2024-09-10T19:37:15.265Z"
   },
   {
    "duration": 0,
    "start_time": "2024-09-10T19:37:15.267Z"
   },
   {
    "duration": 0,
    "start_time": "2024-09-10T19:37:15.269Z"
   },
   {
    "duration": 0,
    "start_time": "2024-09-10T19:37:15.271Z"
   },
   {
    "duration": 0,
    "start_time": "2024-09-10T19:37:15.273Z"
   },
   {
    "duration": 0,
    "start_time": "2024-09-10T19:37:15.274Z"
   },
   {
    "duration": 0,
    "start_time": "2024-09-10T19:37:15.277Z"
   },
   {
    "duration": 0,
    "start_time": "2024-09-10T19:37:15.278Z"
   },
   {
    "duration": 0,
    "start_time": "2024-09-10T19:37:15.280Z"
   },
   {
    "duration": 0,
    "start_time": "2024-09-10T19:37:15.281Z"
   },
   {
    "duration": 0,
    "start_time": "2024-09-10T19:37:15.282Z"
   },
   {
    "duration": 0,
    "start_time": "2024-09-10T19:37:15.284Z"
   },
   {
    "duration": 0,
    "start_time": "2024-09-10T19:37:15.285Z"
   },
   {
    "duration": 0,
    "start_time": "2024-09-10T19:37:15.286Z"
   },
   {
    "duration": 0,
    "start_time": "2024-09-10T19:37:15.287Z"
   },
   {
    "duration": 0,
    "start_time": "2024-09-10T19:37:15.288Z"
   },
   {
    "duration": 0,
    "start_time": "2024-09-10T19:37:15.290Z"
   },
   {
    "duration": 0,
    "start_time": "2024-09-10T19:37:15.291Z"
   },
   {
    "duration": 0,
    "start_time": "2024-09-10T19:37:15.355Z"
   },
   {
    "duration": 0,
    "start_time": "2024-09-10T19:37:15.356Z"
   },
   {
    "duration": 0,
    "start_time": "2024-09-10T19:37:15.358Z"
   },
   {
    "duration": 0,
    "start_time": "2024-09-10T19:37:15.359Z"
   },
   {
    "duration": 0,
    "start_time": "2024-09-10T19:37:15.361Z"
   },
   {
    "duration": 0,
    "start_time": "2024-09-10T19:37:15.362Z"
   },
   {
    "duration": 0,
    "start_time": "2024-09-10T19:37:15.364Z"
   },
   {
    "duration": 0,
    "start_time": "2024-09-10T19:37:15.365Z"
   },
   {
    "duration": 0,
    "start_time": "2024-09-10T19:37:15.367Z"
   },
   {
    "duration": 0,
    "start_time": "2024-09-10T19:37:15.368Z"
   },
   {
    "duration": 0,
    "start_time": "2024-09-10T19:37:15.370Z"
   },
   {
    "duration": 0,
    "start_time": "2024-09-10T19:37:15.372Z"
   },
   {
    "duration": 0,
    "start_time": "2024-09-10T19:37:15.373Z"
   },
   {
    "duration": 0,
    "start_time": "2024-09-10T19:37:15.375Z"
   },
   {
    "duration": 0,
    "start_time": "2024-09-10T19:37:15.376Z"
   },
   {
    "duration": 0,
    "start_time": "2024-09-10T19:37:15.377Z"
   },
   {
    "duration": 0,
    "start_time": "2024-09-10T19:37:15.379Z"
   },
   {
    "duration": 0,
    "start_time": "2024-09-10T19:37:15.380Z"
   },
   {
    "duration": 0,
    "start_time": "2024-09-10T19:37:15.382Z"
   },
   {
    "duration": 0,
    "start_time": "2024-09-10T19:37:15.383Z"
   },
   {
    "duration": 0,
    "start_time": "2024-09-10T19:37:15.385Z"
   },
   {
    "duration": 0,
    "start_time": "2024-09-10T19:37:15.386Z"
   },
   {
    "duration": 0,
    "start_time": "2024-09-10T19:37:15.387Z"
   },
   {
    "duration": 0,
    "start_time": "2024-09-10T19:37:15.389Z"
   },
   {
    "duration": 0,
    "start_time": "2024-09-10T19:37:15.391Z"
   },
   {
    "duration": 0,
    "start_time": "2024-09-10T19:37:15.393Z"
   },
   {
    "duration": 0,
    "start_time": "2024-09-10T19:37:15.394Z"
   },
   {
    "duration": 0,
    "start_time": "2024-09-10T19:37:15.456Z"
   },
   {
    "duration": 0,
    "start_time": "2024-09-10T19:37:15.458Z"
   },
   {
    "duration": 0,
    "start_time": "2024-09-10T19:37:15.460Z"
   },
   {
    "duration": 0,
    "start_time": "2024-09-10T19:37:15.461Z"
   },
   {
    "duration": 0,
    "start_time": "2024-09-10T19:37:15.463Z"
   },
   {
    "duration": 0,
    "start_time": "2024-09-10T19:37:15.465Z"
   },
   {
    "duration": 0,
    "start_time": "2024-09-10T19:37:15.467Z"
   },
   {
    "duration": 0,
    "start_time": "2024-09-10T19:37:15.468Z"
   },
   {
    "duration": 0,
    "start_time": "2024-09-10T19:37:15.470Z"
   },
   {
    "duration": 0,
    "start_time": "2024-09-10T19:37:15.471Z"
   },
   {
    "duration": 0,
    "start_time": "2024-09-10T19:37:15.473Z"
   },
   {
    "duration": 0,
    "start_time": "2024-09-10T19:37:15.474Z"
   },
   {
    "duration": 0,
    "start_time": "2024-09-10T19:37:15.476Z"
   },
   {
    "duration": 0,
    "start_time": "2024-09-10T19:37:15.477Z"
   },
   {
    "duration": 0,
    "start_time": "2024-09-10T19:37:15.479Z"
   },
   {
    "duration": 0,
    "start_time": "2024-09-10T19:37:15.480Z"
   },
   {
    "duration": 0,
    "start_time": "2024-09-10T19:37:15.482Z"
   },
   {
    "duration": 0,
    "start_time": "2024-09-10T19:37:15.484Z"
   },
   {
    "duration": 0,
    "start_time": "2024-09-10T19:37:15.486Z"
   },
   {
    "duration": 0,
    "start_time": "2024-09-10T19:37:15.487Z"
   },
   {
    "duration": 0,
    "start_time": "2024-09-10T19:37:15.489Z"
   },
   {
    "duration": 0,
    "start_time": "2024-09-10T19:37:15.490Z"
   },
   {
    "duration": 0,
    "start_time": "2024-09-10T19:37:15.556Z"
   },
   {
    "duration": 0,
    "start_time": "2024-09-10T19:37:15.557Z"
   },
   {
    "duration": 0,
    "start_time": "2024-09-10T19:37:15.558Z"
   },
   {
    "duration": 0,
    "start_time": "2024-09-10T19:37:15.560Z"
   },
   {
    "duration": 0,
    "start_time": "2024-09-10T19:37:15.561Z"
   },
   {
    "duration": 13067,
    "start_time": "2024-09-10T19:38:16.533Z"
   },
   {
    "duration": 2749,
    "start_time": "2024-09-10T19:38:29.603Z"
   },
   {
    "duration": 2758,
    "start_time": "2024-09-10T19:38:32.354Z"
   },
   {
    "duration": 1438,
    "start_time": "2024-09-10T19:38:35.114Z"
   },
   {
    "duration": 0,
    "start_time": "2024-09-10T19:38:36.556Z"
   },
   {
    "duration": 0,
    "start_time": "2024-09-10T19:38:36.557Z"
   },
   {
    "duration": 0,
    "start_time": "2024-09-10T19:38:36.558Z"
   },
   {
    "duration": 0,
    "start_time": "2024-09-10T19:38:36.559Z"
   },
   {
    "duration": 0,
    "start_time": "2024-09-10T19:38:36.561Z"
   },
   {
    "duration": 0,
    "start_time": "2024-09-10T19:38:36.562Z"
   },
   {
    "duration": 0,
    "start_time": "2024-09-10T19:38:36.563Z"
   },
   {
    "duration": 0,
    "start_time": "2024-09-10T19:38:36.564Z"
   },
   {
    "duration": 0,
    "start_time": "2024-09-10T19:38:36.566Z"
   },
   {
    "duration": 0,
    "start_time": "2024-09-10T19:38:36.567Z"
   },
   {
    "duration": 0,
    "start_time": "2024-09-10T19:38:36.568Z"
   },
   {
    "duration": 0,
    "start_time": "2024-09-10T19:38:36.569Z"
   },
   {
    "duration": 0,
    "start_time": "2024-09-10T19:38:36.570Z"
   },
   {
    "duration": 0,
    "start_time": "2024-09-10T19:38:36.571Z"
   },
   {
    "duration": 0,
    "start_time": "2024-09-10T19:38:36.572Z"
   },
   {
    "duration": 0,
    "start_time": "2024-09-10T19:38:36.573Z"
   },
   {
    "duration": 0,
    "start_time": "2024-09-10T19:38:36.574Z"
   },
   {
    "duration": 0,
    "start_time": "2024-09-10T19:38:36.575Z"
   },
   {
    "duration": 0,
    "start_time": "2024-09-10T19:38:36.577Z"
   },
   {
    "duration": 0,
    "start_time": "2024-09-10T19:38:36.578Z"
   },
   {
    "duration": 0,
    "start_time": "2024-09-10T19:38:36.579Z"
   },
   {
    "duration": 0,
    "start_time": "2024-09-10T19:38:36.580Z"
   },
   {
    "duration": 0,
    "start_time": "2024-09-10T19:38:36.581Z"
   },
   {
    "duration": 0,
    "start_time": "2024-09-10T19:38:36.582Z"
   },
   {
    "duration": 0,
    "start_time": "2024-09-10T19:38:36.583Z"
   },
   {
    "duration": 0,
    "start_time": "2024-09-10T19:38:36.584Z"
   },
   {
    "duration": 0,
    "start_time": "2024-09-10T19:38:36.586Z"
   },
   {
    "duration": 0,
    "start_time": "2024-09-10T19:38:36.587Z"
   },
   {
    "duration": 0,
    "start_time": "2024-09-10T19:38:36.588Z"
   },
   {
    "duration": 0,
    "start_time": "2024-09-10T19:38:36.590Z"
   },
   {
    "duration": 0,
    "start_time": "2024-09-10T19:38:36.591Z"
   },
   {
    "duration": 0,
    "start_time": "2024-09-10T19:38:36.593Z"
   },
   {
    "duration": 0,
    "start_time": "2024-09-10T19:38:36.656Z"
   },
   {
    "duration": 0,
    "start_time": "2024-09-10T19:38:36.658Z"
   },
   {
    "duration": 0,
    "start_time": "2024-09-10T19:38:36.659Z"
   },
   {
    "duration": 0,
    "start_time": "2024-09-10T19:38:36.661Z"
   },
   {
    "duration": 0,
    "start_time": "2024-09-10T19:38:36.662Z"
   },
   {
    "duration": 0,
    "start_time": "2024-09-10T19:38:36.664Z"
   },
   {
    "duration": 0,
    "start_time": "2024-09-10T19:38:36.665Z"
   },
   {
    "duration": 0,
    "start_time": "2024-09-10T19:38:36.667Z"
   },
   {
    "duration": 0,
    "start_time": "2024-09-10T19:38:36.668Z"
   },
   {
    "duration": 0,
    "start_time": "2024-09-10T19:38:36.670Z"
   },
   {
    "duration": 0,
    "start_time": "2024-09-10T19:38:36.671Z"
   },
   {
    "duration": 0,
    "start_time": "2024-09-10T19:38:36.673Z"
   },
   {
    "duration": 0,
    "start_time": "2024-09-10T19:38:36.674Z"
   },
   {
    "duration": 0,
    "start_time": "2024-09-10T19:38:36.676Z"
   },
   {
    "duration": 1,
    "start_time": "2024-09-10T19:38:36.677Z"
   },
   {
    "duration": 0,
    "start_time": "2024-09-10T19:38:36.679Z"
   },
   {
    "duration": 0,
    "start_time": "2024-09-10T19:38:36.680Z"
   },
   {
    "duration": 0,
    "start_time": "2024-09-10T19:38:36.681Z"
   },
   {
    "duration": 0,
    "start_time": "2024-09-10T19:38:36.682Z"
   },
   {
    "duration": 0,
    "start_time": "2024-09-10T19:38:36.683Z"
   },
   {
    "duration": 0,
    "start_time": "2024-09-10T19:38:36.684Z"
   },
   {
    "duration": 0,
    "start_time": "2024-09-10T19:38:36.685Z"
   },
   {
    "duration": 0,
    "start_time": "2024-09-10T19:38:36.686Z"
   },
   {
    "duration": 0,
    "start_time": "2024-09-10T19:38:36.687Z"
   },
   {
    "duration": 0,
    "start_time": "2024-09-10T19:38:36.688Z"
   },
   {
    "duration": 0,
    "start_time": "2024-09-10T19:38:36.690Z"
   },
   {
    "duration": 0,
    "start_time": "2024-09-10T19:38:36.691Z"
   },
   {
    "duration": 0,
    "start_time": "2024-09-10T19:38:36.692Z"
   },
   {
    "duration": 0,
    "start_time": "2024-09-10T19:38:36.693Z"
   },
   {
    "duration": 0,
    "start_time": "2024-09-10T19:38:36.761Z"
   },
   {
    "duration": 0,
    "start_time": "2024-09-10T19:38:36.763Z"
   },
   {
    "duration": 0,
    "start_time": "2024-09-10T19:38:36.765Z"
   },
   {
    "duration": 0,
    "start_time": "2024-09-10T19:38:36.766Z"
   },
   {
    "duration": 0,
    "start_time": "2024-09-10T19:38:36.767Z"
   },
   {
    "duration": 0,
    "start_time": "2024-09-10T19:38:36.769Z"
   },
   {
    "duration": 0,
    "start_time": "2024-09-10T19:38:36.770Z"
   },
   {
    "duration": 0,
    "start_time": "2024-09-10T19:38:36.772Z"
   },
   {
    "duration": 0,
    "start_time": "2024-09-10T19:38:36.774Z"
   },
   {
    "duration": 0,
    "start_time": "2024-09-10T19:38:36.775Z"
   },
   {
    "duration": 0,
    "start_time": "2024-09-10T19:38:36.777Z"
   },
   {
    "duration": 0,
    "start_time": "2024-09-10T19:38:36.778Z"
   },
   {
    "duration": 0,
    "start_time": "2024-09-10T19:38:36.780Z"
   },
   {
    "duration": 0,
    "start_time": "2024-09-10T19:38:36.782Z"
   },
   {
    "duration": 0,
    "start_time": "2024-09-10T19:38:36.783Z"
   },
   {
    "duration": 0,
    "start_time": "2024-09-10T19:38:36.785Z"
   },
   {
    "duration": 0,
    "start_time": "2024-09-10T19:38:36.786Z"
   },
   {
    "duration": 0,
    "start_time": "2024-09-10T19:38:36.788Z"
   },
   {
    "duration": 0,
    "start_time": "2024-09-10T19:38:36.789Z"
   },
   {
    "duration": 0,
    "start_time": "2024-09-10T19:38:36.791Z"
   },
   {
    "duration": 0,
    "start_time": "2024-09-10T19:38:36.792Z"
   },
   {
    "duration": 0,
    "start_time": "2024-09-10T19:38:36.794Z"
   },
   {
    "duration": 0,
    "start_time": "2024-09-10T19:38:36.795Z"
   },
   {
    "duration": 0,
    "start_time": "2024-09-10T19:38:36.797Z"
   },
   {
    "duration": 0,
    "start_time": "2024-09-10T19:38:36.798Z"
   },
   {
    "duration": 0,
    "start_time": "2024-09-10T19:38:36.857Z"
   },
   {
    "duration": 0,
    "start_time": "2024-09-10T19:38:36.858Z"
   },
   {
    "duration": 0,
    "start_time": "2024-09-10T19:38:36.860Z"
   },
   {
    "duration": 0,
    "start_time": "2024-09-10T19:38:36.862Z"
   },
   {
    "duration": 0,
    "start_time": "2024-09-10T19:38:36.863Z"
   },
   {
    "duration": 0,
    "start_time": "2024-09-10T19:38:36.867Z"
   },
   {
    "duration": 0,
    "start_time": "2024-09-10T19:38:36.869Z"
   },
   {
    "duration": 0,
    "start_time": "2024-09-10T19:38:36.870Z"
   },
   {
    "duration": 0,
    "start_time": "2024-09-10T19:38:36.872Z"
   },
   {
    "duration": 0,
    "start_time": "2024-09-10T19:38:36.874Z"
   },
   {
    "duration": 0,
    "start_time": "2024-09-10T19:38:36.875Z"
   },
   {
    "duration": 0,
    "start_time": "2024-09-10T19:38:36.877Z"
   },
   {
    "duration": 14157,
    "start_time": "2024-09-10T19:39:47.958Z"
   },
   {
    "duration": 2814,
    "start_time": "2024-09-10T19:40:02.118Z"
   },
   {
    "duration": 3523,
    "start_time": "2024-09-10T19:40:04.934Z"
   },
   {
    "duration": 1488,
    "start_time": "2024-09-10T19:40:08.460Z"
   },
   {
    "duration": 0,
    "start_time": "2024-09-10T19:40:09.957Z"
   },
   {
    "duration": 0,
    "start_time": "2024-09-10T19:40:09.958Z"
   },
   {
    "duration": 0,
    "start_time": "2024-09-10T19:40:09.958Z"
   },
   {
    "duration": 0,
    "start_time": "2024-09-10T19:40:09.960Z"
   },
   {
    "duration": 0,
    "start_time": "2024-09-10T19:40:09.961Z"
   },
   {
    "duration": 0,
    "start_time": "2024-09-10T19:40:09.962Z"
   },
   {
    "duration": 0,
    "start_time": "2024-09-10T19:40:09.964Z"
   },
   {
    "duration": 0,
    "start_time": "2024-09-10T19:40:09.965Z"
   },
   {
    "duration": 0,
    "start_time": "2024-09-10T19:40:09.966Z"
   },
   {
    "duration": 0,
    "start_time": "2024-09-10T19:40:09.967Z"
   },
   {
    "duration": 0,
    "start_time": "2024-09-10T19:40:09.968Z"
   },
   {
    "duration": 1,
    "start_time": "2024-09-10T19:40:09.969Z"
   },
   {
    "duration": 0,
    "start_time": "2024-09-10T19:40:09.970Z"
   },
   {
    "duration": 0,
    "start_time": "2024-09-10T19:40:09.971Z"
   },
   {
    "duration": 0,
    "start_time": "2024-09-10T19:40:09.973Z"
   },
   {
    "duration": 0,
    "start_time": "2024-09-10T19:40:09.974Z"
   },
   {
    "duration": 0,
    "start_time": "2024-09-10T19:40:09.975Z"
   },
   {
    "duration": 0,
    "start_time": "2024-09-10T19:40:09.977Z"
   },
   {
    "duration": 0,
    "start_time": "2024-09-10T19:40:09.978Z"
   },
   {
    "duration": 0,
    "start_time": "2024-09-10T19:40:09.979Z"
   },
   {
    "duration": 0,
    "start_time": "2024-09-10T19:40:09.980Z"
   },
   {
    "duration": 0,
    "start_time": "2024-09-10T19:40:09.982Z"
   },
   {
    "duration": 0,
    "start_time": "2024-09-10T19:40:09.983Z"
   },
   {
    "duration": 0,
    "start_time": "2024-09-10T19:40:09.984Z"
   },
   {
    "duration": 0,
    "start_time": "2024-09-10T19:40:09.985Z"
   },
   {
    "duration": 0,
    "start_time": "2024-09-10T19:40:09.986Z"
   },
   {
    "duration": 0,
    "start_time": "2024-09-10T19:40:09.987Z"
   },
   {
    "duration": 0,
    "start_time": "2024-09-10T19:40:09.988Z"
   },
   {
    "duration": 0,
    "start_time": "2024-09-10T19:40:09.990Z"
   },
   {
    "duration": 0,
    "start_time": "2024-09-10T19:40:09.990Z"
   },
   {
    "duration": 0,
    "start_time": "2024-09-10T19:40:09.992Z"
   },
   {
    "duration": 0,
    "start_time": "2024-09-10T19:40:09.993Z"
   },
   {
    "duration": 0,
    "start_time": "2024-09-10T19:40:09.994Z"
   },
   {
    "duration": 0,
    "start_time": "2024-09-10T19:40:09.995Z"
   },
   {
    "duration": 0,
    "start_time": "2024-09-10T19:40:09.996Z"
   },
   {
    "duration": 0,
    "start_time": "2024-09-10T19:40:10.056Z"
   },
   {
    "duration": 0,
    "start_time": "2024-09-10T19:40:10.057Z"
   },
   {
    "duration": 0,
    "start_time": "2024-09-10T19:40:10.058Z"
   },
   {
    "duration": 0,
    "start_time": "2024-09-10T19:40:10.059Z"
   },
   {
    "duration": 0,
    "start_time": "2024-09-10T19:40:10.061Z"
   },
   {
    "duration": 0,
    "start_time": "2024-09-10T19:40:10.061Z"
   },
   {
    "duration": 0,
    "start_time": "2024-09-10T19:40:10.062Z"
   },
   {
    "duration": 0,
    "start_time": "2024-09-10T19:40:10.063Z"
   },
   {
    "duration": 0,
    "start_time": "2024-09-10T19:40:10.064Z"
   },
   {
    "duration": 0,
    "start_time": "2024-09-10T19:40:10.065Z"
   },
   {
    "duration": 0,
    "start_time": "2024-09-10T19:40:10.066Z"
   },
   {
    "duration": 0,
    "start_time": "2024-09-10T19:40:10.067Z"
   },
   {
    "duration": 0,
    "start_time": "2024-09-10T19:40:10.068Z"
   },
   {
    "duration": 0,
    "start_time": "2024-09-10T19:40:10.069Z"
   },
   {
    "duration": 0,
    "start_time": "2024-09-10T19:40:10.070Z"
   },
   {
    "duration": 0,
    "start_time": "2024-09-10T19:40:10.071Z"
   },
   {
    "duration": 0,
    "start_time": "2024-09-10T19:40:10.072Z"
   },
   {
    "duration": 0,
    "start_time": "2024-09-10T19:40:10.073Z"
   },
   {
    "duration": 0,
    "start_time": "2024-09-10T19:40:10.074Z"
   },
   {
    "duration": 0,
    "start_time": "2024-09-10T19:40:10.075Z"
   },
   {
    "duration": 0,
    "start_time": "2024-09-10T19:40:10.076Z"
   },
   {
    "duration": 0,
    "start_time": "2024-09-10T19:40:10.077Z"
   },
   {
    "duration": 0,
    "start_time": "2024-09-10T19:40:10.079Z"
   },
   {
    "duration": 0,
    "start_time": "2024-09-10T19:40:10.080Z"
   },
   {
    "duration": 0,
    "start_time": "2024-09-10T19:40:10.081Z"
   },
   {
    "duration": 0,
    "start_time": "2024-09-10T19:40:10.082Z"
   },
   {
    "duration": 0,
    "start_time": "2024-09-10T19:40:10.083Z"
   },
   {
    "duration": 0,
    "start_time": "2024-09-10T19:40:10.083Z"
   },
   {
    "duration": 0,
    "start_time": "2024-09-10T19:40:10.085Z"
   },
   {
    "duration": 0,
    "start_time": "2024-09-10T19:40:10.086Z"
   },
   {
    "duration": 0,
    "start_time": "2024-09-10T19:40:10.087Z"
   },
   {
    "duration": 0,
    "start_time": "2024-09-10T19:40:10.088Z"
   },
   {
    "duration": 0,
    "start_time": "2024-09-10T19:40:10.089Z"
   },
   {
    "duration": 0,
    "start_time": "2024-09-10T19:40:10.091Z"
   },
   {
    "duration": 0,
    "start_time": "2024-09-10T19:40:10.092Z"
   },
   {
    "duration": 0,
    "start_time": "2024-09-10T19:40:10.155Z"
   },
   {
    "duration": 0,
    "start_time": "2024-09-10T19:40:10.156Z"
   },
   {
    "duration": 0,
    "start_time": "2024-09-10T19:40:10.157Z"
   },
   {
    "duration": 0,
    "start_time": "2024-09-10T19:40:10.158Z"
   },
   {
    "duration": 0,
    "start_time": "2024-09-10T19:40:10.160Z"
   },
   {
    "duration": 0,
    "start_time": "2024-09-10T19:40:10.161Z"
   },
   {
    "duration": 0,
    "start_time": "2024-09-10T19:40:10.162Z"
   },
   {
    "duration": 0,
    "start_time": "2024-09-10T19:40:10.163Z"
   },
   {
    "duration": 0,
    "start_time": "2024-09-10T19:40:10.165Z"
   },
   {
    "duration": 0,
    "start_time": "2024-09-10T19:40:10.166Z"
   },
   {
    "duration": 0,
    "start_time": "2024-09-10T19:40:10.167Z"
   },
   {
    "duration": 0,
    "start_time": "2024-09-10T19:40:10.168Z"
   },
   {
    "duration": 0,
    "start_time": "2024-09-10T19:40:10.169Z"
   },
   {
    "duration": 0,
    "start_time": "2024-09-10T19:40:10.170Z"
   },
   {
    "duration": 0,
    "start_time": "2024-09-10T19:40:10.171Z"
   },
   {
    "duration": 0,
    "start_time": "2024-09-10T19:40:10.172Z"
   },
   {
    "duration": 0,
    "start_time": "2024-09-10T19:40:10.173Z"
   },
   {
    "duration": 0,
    "start_time": "2024-09-10T19:40:10.174Z"
   },
   {
    "duration": 0,
    "start_time": "2024-09-10T19:40:10.175Z"
   },
   {
    "duration": 0,
    "start_time": "2024-09-10T19:40:10.176Z"
   },
   {
    "duration": 0,
    "start_time": "2024-09-10T19:40:10.177Z"
   },
   {
    "duration": 0,
    "start_time": "2024-09-10T19:40:10.178Z"
   },
   {
    "duration": 0,
    "start_time": "2024-09-10T19:40:10.179Z"
   },
   {
    "duration": 0,
    "start_time": "2024-09-10T19:40:10.180Z"
   },
   {
    "duration": 0,
    "start_time": "2024-09-10T19:40:10.181Z"
   },
   {
    "duration": 0,
    "start_time": "2024-09-10T19:40:10.182Z"
   },
   {
    "duration": 0,
    "start_time": "2024-09-10T19:40:10.183Z"
   },
   {
    "duration": 0,
    "start_time": "2024-09-10T19:40:10.184Z"
   },
   {
    "duration": 15098,
    "start_time": "2024-09-11T09:01:32.699Z"
   },
   {
    "duration": 3612,
    "start_time": "2024-09-11T09:01:47.799Z"
   },
   {
    "duration": 2819,
    "start_time": "2024-09-11T09:01:51.412Z"
   },
   {
    "duration": 68,
    "start_time": "2024-09-11T09:01:54.234Z"
   },
   {
    "duration": 0,
    "start_time": "2024-09-11T09:01:54.306Z"
   },
   {
    "duration": 0,
    "start_time": "2024-09-11T09:01:54.308Z"
   },
   {
    "duration": 0,
    "start_time": "2024-09-11T09:01:54.309Z"
   },
   {
    "duration": 0,
    "start_time": "2024-09-11T09:01:54.310Z"
   },
   {
    "duration": 0,
    "start_time": "2024-09-11T09:01:54.311Z"
   },
   {
    "duration": 0,
    "start_time": "2024-09-11T09:01:54.312Z"
   },
   {
    "duration": 0,
    "start_time": "2024-09-11T09:01:54.313Z"
   },
   {
    "duration": 0,
    "start_time": "2024-09-11T09:01:54.314Z"
   },
   {
    "duration": 0,
    "start_time": "2024-09-11T09:01:54.315Z"
   },
   {
    "duration": 0,
    "start_time": "2024-09-11T09:01:54.317Z"
   },
   {
    "duration": 0,
    "start_time": "2024-09-11T09:01:54.318Z"
   },
   {
    "duration": 0,
    "start_time": "2024-09-11T09:01:54.319Z"
   },
   {
    "duration": 0,
    "start_time": "2024-09-11T09:01:54.320Z"
   },
   {
    "duration": 0,
    "start_time": "2024-09-11T09:01:54.321Z"
   },
   {
    "duration": 0,
    "start_time": "2024-09-11T09:01:54.322Z"
   },
   {
    "duration": 0,
    "start_time": "2024-09-11T09:01:54.323Z"
   },
   {
    "duration": 0,
    "start_time": "2024-09-11T09:01:54.324Z"
   },
   {
    "duration": 0,
    "start_time": "2024-09-11T09:01:54.355Z"
   },
   {
    "duration": 0,
    "start_time": "2024-09-11T09:01:54.356Z"
   },
   {
    "duration": 0,
    "start_time": "2024-09-11T09:01:54.358Z"
   },
   {
    "duration": 0,
    "start_time": "2024-09-11T09:01:54.359Z"
   },
   {
    "duration": 0,
    "start_time": "2024-09-11T09:01:54.360Z"
   },
   {
    "duration": 0,
    "start_time": "2024-09-11T09:01:54.361Z"
   },
   {
    "duration": 0,
    "start_time": "2024-09-11T09:01:54.362Z"
   },
   {
    "duration": 0,
    "start_time": "2024-09-11T09:01:54.363Z"
   },
   {
    "duration": 0,
    "start_time": "2024-09-11T09:01:54.364Z"
   },
   {
    "duration": 0,
    "start_time": "2024-09-11T09:01:54.365Z"
   },
   {
    "duration": 0,
    "start_time": "2024-09-11T09:01:54.366Z"
   },
   {
    "duration": 0,
    "start_time": "2024-09-11T09:01:54.367Z"
   },
   {
    "duration": 0,
    "start_time": "2024-09-11T09:01:54.368Z"
   },
   {
    "duration": 0,
    "start_time": "2024-09-11T09:01:54.369Z"
   },
   {
    "duration": 0,
    "start_time": "2024-09-11T09:01:54.370Z"
   },
   {
    "duration": 0,
    "start_time": "2024-09-11T09:01:54.371Z"
   },
   {
    "duration": 0,
    "start_time": "2024-09-11T09:01:54.372Z"
   },
   {
    "duration": 0,
    "start_time": "2024-09-11T09:01:54.373Z"
   },
   {
    "duration": 0,
    "start_time": "2024-09-11T09:01:54.374Z"
   },
   {
    "duration": 0,
    "start_time": "2024-09-11T09:01:54.375Z"
   },
   {
    "duration": 0,
    "start_time": "2024-09-11T09:01:54.376Z"
   },
   {
    "duration": 0,
    "start_time": "2024-09-11T09:01:54.377Z"
   },
   {
    "duration": 0,
    "start_time": "2024-09-11T09:01:54.378Z"
   },
   {
    "duration": 0,
    "start_time": "2024-09-11T09:01:54.380Z"
   },
   {
    "duration": 0,
    "start_time": "2024-09-11T09:01:54.380Z"
   },
   {
    "duration": 0,
    "start_time": "2024-09-11T09:01:54.381Z"
   },
   {
    "duration": 0,
    "start_time": "2024-09-11T09:01:54.383Z"
   },
   {
    "duration": 0,
    "start_time": "2024-09-11T09:01:54.384Z"
   },
   {
    "duration": 0,
    "start_time": "2024-09-11T09:01:54.385Z"
   },
   {
    "duration": 1,
    "start_time": "2024-09-11T09:01:54.386Z"
   },
   {
    "duration": 0,
    "start_time": "2024-09-11T09:01:54.387Z"
   },
   {
    "duration": 0,
    "start_time": "2024-09-11T09:01:54.389Z"
   },
   {
    "duration": 0,
    "start_time": "2024-09-11T09:01:54.390Z"
   },
   {
    "duration": 0,
    "start_time": "2024-09-11T09:01:54.391Z"
   },
   {
    "duration": 0,
    "start_time": "2024-09-11T09:01:54.392Z"
   },
   {
    "duration": 0,
    "start_time": "2024-09-11T09:01:54.393Z"
   },
   {
    "duration": 0,
    "start_time": "2024-09-11T09:01:54.456Z"
   },
   {
    "duration": 0,
    "start_time": "2024-09-11T09:01:54.458Z"
   },
   {
    "duration": 0,
    "start_time": "2024-09-11T09:01:54.460Z"
   },
   {
    "duration": 0,
    "start_time": "2024-09-11T09:01:54.461Z"
   },
   {
    "duration": 0,
    "start_time": "2024-09-11T09:01:54.464Z"
   },
   {
    "duration": 0,
    "start_time": "2024-09-11T09:01:54.465Z"
   },
   {
    "duration": 0,
    "start_time": "2024-09-11T09:01:54.466Z"
   },
   {
    "duration": 0,
    "start_time": "2024-09-11T09:01:54.468Z"
   },
   {
    "duration": 0,
    "start_time": "2024-09-11T09:01:54.470Z"
   },
   {
    "duration": 0,
    "start_time": "2024-09-11T09:01:54.470Z"
   },
   {
    "duration": 0,
    "start_time": "2024-09-11T09:01:54.472Z"
   },
   {
    "duration": 0,
    "start_time": "2024-09-11T09:01:54.473Z"
   },
   {
    "duration": 0,
    "start_time": "2024-09-11T09:01:54.474Z"
   },
   {
    "duration": 0,
    "start_time": "2024-09-11T09:01:54.475Z"
   },
   {
    "duration": 0,
    "start_time": "2024-09-11T09:01:54.476Z"
   },
   {
    "duration": 0,
    "start_time": "2024-09-11T09:01:54.477Z"
   },
   {
    "duration": 0,
    "start_time": "2024-09-11T09:01:54.479Z"
   },
   {
    "duration": 0,
    "start_time": "2024-09-11T09:01:54.480Z"
   },
   {
    "duration": 0,
    "start_time": "2024-09-11T09:01:54.481Z"
   },
   {
    "duration": 0,
    "start_time": "2024-09-11T09:01:54.482Z"
   },
   {
    "duration": 0,
    "start_time": "2024-09-11T09:01:54.483Z"
   },
   {
    "duration": 0,
    "start_time": "2024-09-11T09:01:54.484Z"
   },
   {
    "duration": 0,
    "start_time": "2024-09-11T09:01:54.486Z"
   },
   {
    "duration": 0,
    "start_time": "2024-09-11T09:01:54.487Z"
   },
   {
    "duration": 0,
    "start_time": "2024-09-11T09:01:54.488Z"
   },
   {
    "duration": 0,
    "start_time": "2024-09-11T09:01:54.489Z"
   },
   {
    "duration": 0,
    "start_time": "2024-09-11T09:01:54.491Z"
   },
   {
    "duration": 0,
    "start_time": "2024-09-11T09:01:54.557Z"
   },
   {
    "duration": 0,
    "start_time": "2024-09-11T09:01:54.559Z"
   },
   {
    "duration": 0,
    "start_time": "2024-09-11T09:01:54.560Z"
   },
   {
    "duration": 0,
    "start_time": "2024-09-11T09:01:54.561Z"
   },
   {
    "duration": 0,
    "start_time": "2024-09-11T09:01:54.563Z"
   },
   {
    "duration": 0,
    "start_time": "2024-09-11T09:01:54.564Z"
   },
   {
    "duration": 0,
    "start_time": "2024-09-11T09:01:54.565Z"
   },
   {
    "duration": 0,
    "start_time": "2024-09-11T09:01:54.567Z"
   },
   {
    "duration": 0,
    "start_time": "2024-09-11T09:01:54.568Z"
   },
   {
    "duration": 0,
    "start_time": "2024-09-11T09:01:54.569Z"
   },
   {
    "duration": 1,
    "start_time": "2024-09-11T09:01:54.570Z"
   },
   {
    "duration": 0,
    "start_time": "2024-09-11T09:01:54.571Z"
   },
   {
    "duration": 0,
    "start_time": "2024-09-11T09:01:54.573Z"
   },
   {
    "duration": 0,
    "start_time": "2024-09-11T09:01:54.574Z"
   },
   {
    "duration": 0,
    "start_time": "2024-09-11T09:01:54.575Z"
   },
   {
    "duration": 0,
    "start_time": "2024-09-11T09:01:54.576Z"
   },
   {
    "duration": 0,
    "start_time": "2024-09-11T09:01:54.578Z"
   },
   {
    "duration": 0,
    "start_time": "2024-09-11T09:01:54.579Z"
   },
   {
    "duration": 14784,
    "start_time": "2024-09-11T09:04:53.544Z"
   },
   {
    "duration": 2803,
    "start_time": "2024-09-11T09:05:08.331Z"
   },
   {
    "duration": 2848,
    "start_time": "2024-09-11T09:05:11.136Z"
   },
   {
    "duration": 57,
    "start_time": "2024-09-11T09:05:13.987Z"
   },
   {
    "duration": 0,
    "start_time": "2024-09-11T09:05:14.048Z"
   },
   {
    "duration": 0,
    "start_time": "2024-09-11T09:05:14.050Z"
   },
   {
    "duration": 0,
    "start_time": "2024-09-11T09:05:14.051Z"
   },
   {
    "duration": 0,
    "start_time": "2024-09-11T09:05:14.052Z"
   },
   {
    "duration": 0,
    "start_time": "2024-09-11T09:05:14.053Z"
   },
   {
    "duration": 0,
    "start_time": "2024-09-11T09:05:14.054Z"
   },
   {
    "duration": 0,
    "start_time": "2024-09-11T09:05:14.056Z"
   },
   {
    "duration": 0,
    "start_time": "2024-09-11T09:05:14.057Z"
   },
   {
    "duration": 0,
    "start_time": "2024-09-11T09:05:14.058Z"
   },
   {
    "duration": 0,
    "start_time": "2024-09-11T09:05:14.060Z"
   },
   {
    "duration": 0,
    "start_time": "2024-09-11T09:05:14.061Z"
   },
   {
    "duration": 0,
    "start_time": "2024-09-11T09:05:14.063Z"
   },
   {
    "duration": 0,
    "start_time": "2024-09-11T09:05:14.064Z"
   },
   {
    "duration": 0,
    "start_time": "2024-09-11T09:05:14.066Z"
   },
   {
    "duration": 0,
    "start_time": "2024-09-11T09:05:14.067Z"
   },
   {
    "duration": 0,
    "start_time": "2024-09-11T09:05:14.068Z"
   },
   {
    "duration": 0,
    "start_time": "2024-09-11T09:05:14.070Z"
   },
   {
    "duration": 0,
    "start_time": "2024-09-11T09:05:14.072Z"
   },
   {
    "duration": 0,
    "start_time": "2024-09-11T09:05:14.073Z"
   },
   {
    "duration": 0,
    "start_time": "2024-09-11T09:05:14.074Z"
   },
   {
    "duration": 0,
    "start_time": "2024-09-11T09:05:14.076Z"
   },
   {
    "duration": 0,
    "start_time": "2024-09-11T09:05:14.077Z"
   },
   {
    "duration": 0,
    "start_time": "2024-09-11T09:05:14.078Z"
   },
   {
    "duration": 0,
    "start_time": "2024-09-11T09:05:14.080Z"
   },
   {
    "duration": 0,
    "start_time": "2024-09-11T09:05:14.081Z"
   },
   {
    "duration": 0,
    "start_time": "2024-09-11T09:05:14.082Z"
   },
   {
    "duration": 0,
    "start_time": "2024-09-11T09:05:14.084Z"
   },
   {
    "duration": 0,
    "start_time": "2024-09-11T09:05:14.085Z"
   },
   {
    "duration": 0,
    "start_time": "2024-09-11T09:05:14.086Z"
   },
   {
    "duration": 0,
    "start_time": "2024-09-11T09:05:14.087Z"
   },
   {
    "duration": 0,
    "start_time": "2024-09-11T09:05:14.088Z"
   },
   {
    "duration": 0,
    "start_time": "2024-09-11T09:05:14.089Z"
   },
   {
    "duration": 0,
    "start_time": "2024-09-11T09:05:14.091Z"
   },
   {
    "duration": 0,
    "start_time": "2024-09-11T09:05:14.092Z"
   },
   {
    "duration": 0,
    "start_time": "2024-09-11T09:05:14.093Z"
   },
   {
    "duration": 0,
    "start_time": "2024-09-11T09:05:14.094Z"
   },
   {
    "duration": 0,
    "start_time": "2024-09-11T09:05:14.094Z"
   },
   {
    "duration": 0,
    "start_time": "2024-09-11T09:05:14.095Z"
   },
   {
    "duration": 0,
    "start_time": "2024-09-11T09:05:14.155Z"
   },
   {
    "duration": 0,
    "start_time": "2024-09-11T09:05:14.156Z"
   },
   {
    "duration": 0,
    "start_time": "2024-09-11T09:05:14.158Z"
   },
   {
    "duration": 0,
    "start_time": "2024-09-11T09:05:14.158Z"
   },
   {
    "duration": 0,
    "start_time": "2024-09-11T09:05:14.160Z"
   },
   {
    "duration": 0,
    "start_time": "2024-09-11T09:05:14.161Z"
   },
   {
    "duration": 0,
    "start_time": "2024-09-11T09:05:14.162Z"
   },
   {
    "duration": 0,
    "start_time": "2024-09-11T09:05:14.163Z"
   },
   {
    "duration": 0,
    "start_time": "2024-09-11T09:05:14.164Z"
   },
   {
    "duration": 0,
    "start_time": "2024-09-11T09:05:14.165Z"
   },
   {
    "duration": 0,
    "start_time": "2024-09-11T09:05:14.166Z"
   },
   {
    "duration": 0,
    "start_time": "2024-09-11T09:05:14.167Z"
   },
   {
    "duration": 0,
    "start_time": "2024-09-11T09:05:14.168Z"
   },
   {
    "duration": 0,
    "start_time": "2024-09-11T09:05:14.169Z"
   },
   {
    "duration": 0,
    "start_time": "2024-09-11T09:05:14.170Z"
   },
   {
    "duration": 0,
    "start_time": "2024-09-11T09:05:14.171Z"
   },
   {
    "duration": 0,
    "start_time": "2024-09-11T09:05:14.172Z"
   },
   {
    "duration": 0,
    "start_time": "2024-09-11T09:05:14.173Z"
   },
   {
    "duration": 0,
    "start_time": "2024-09-11T09:05:14.174Z"
   },
   {
    "duration": 0,
    "start_time": "2024-09-11T09:05:14.176Z"
   },
   {
    "duration": 0,
    "start_time": "2024-09-11T09:05:14.176Z"
   },
   {
    "duration": 0,
    "start_time": "2024-09-11T09:05:14.177Z"
   },
   {
    "duration": 0,
    "start_time": "2024-09-11T09:05:14.178Z"
   },
   {
    "duration": 0,
    "start_time": "2024-09-11T09:05:14.179Z"
   },
   {
    "duration": 0,
    "start_time": "2024-09-11T09:05:14.180Z"
   },
   {
    "duration": 0,
    "start_time": "2024-09-11T09:05:14.181Z"
   },
   {
    "duration": 0,
    "start_time": "2024-09-11T09:05:14.182Z"
   },
   {
    "duration": 0,
    "start_time": "2024-09-11T09:05:14.183Z"
   },
   {
    "duration": 0,
    "start_time": "2024-09-11T09:05:14.185Z"
   },
   {
    "duration": 0,
    "start_time": "2024-09-11T09:05:14.186Z"
   },
   {
    "duration": 0,
    "start_time": "2024-09-11T09:05:14.187Z"
   },
   {
    "duration": 0,
    "start_time": "2024-09-11T09:05:14.188Z"
   },
   {
    "duration": 0,
    "start_time": "2024-09-11T09:05:14.189Z"
   },
   {
    "duration": 0,
    "start_time": "2024-09-11T09:05:14.190Z"
   },
   {
    "duration": 0,
    "start_time": "2024-09-11T09:05:14.191Z"
   },
   {
    "duration": 0,
    "start_time": "2024-09-11T09:05:14.193Z"
   },
   {
    "duration": 0,
    "start_time": "2024-09-11T09:05:14.256Z"
   },
   {
    "duration": 0,
    "start_time": "2024-09-11T09:05:14.257Z"
   },
   {
    "duration": 0,
    "start_time": "2024-09-11T09:05:14.259Z"
   },
   {
    "duration": 0,
    "start_time": "2024-09-11T09:05:14.260Z"
   },
   {
    "duration": 0,
    "start_time": "2024-09-11T09:05:14.261Z"
   },
   {
    "duration": 0,
    "start_time": "2024-09-11T09:05:14.263Z"
   },
   {
    "duration": 0,
    "start_time": "2024-09-11T09:05:14.264Z"
   },
   {
    "duration": 0,
    "start_time": "2024-09-11T09:05:14.265Z"
   },
   {
    "duration": 0,
    "start_time": "2024-09-11T09:05:14.267Z"
   },
   {
    "duration": 0,
    "start_time": "2024-09-11T09:05:14.268Z"
   },
   {
    "duration": 0,
    "start_time": "2024-09-11T09:05:14.269Z"
   },
   {
    "duration": 0,
    "start_time": "2024-09-11T09:05:14.270Z"
   },
   {
    "duration": 0,
    "start_time": "2024-09-11T09:05:14.272Z"
   },
   {
    "duration": 0,
    "start_time": "2024-09-11T09:05:14.273Z"
   },
   {
    "duration": 0,
    "start_time": "2024-09-11T09:05:14.274Z"
   },
   {
    "duration": 0,
    "start_time": "2024-09-11T09:05:14.274Z"
   },
   {
    "duration": 0,
    "start_time": "2024-09-11T09:05:14.276Z"
   },
   {
    "duration": 0,
    "start_time": "2024-09-11T09:05:14.276Z"
   },
   {
    "duration": 0,
    "start_time": "2024-09-11T09:05:14.278Z"
   },
   {
    "duration": 0,
    "start_time": "2024-09-11T09:05:14.279Z"
   },
   {
    "duration": 0,
    "start_time": "2024-09-11T09:05:14.280Z"
   },
   {
    "duration": 0,
    "start_time": "2024-09-11T09:05:14.281Z"
   },
   {
    "duration": 0,
    "start_time": "2024-09-11T09:05:14.282Z"
   },
   {
    "duration": 0,
    "start_time": "2024-09-11T09:05:14.282Z"
   },
   {
    "duration": 13763,
    "start_time": "2024-09-11T09:05:36.875Z"
   },
   {
    "duration": 2997,
    "start_time": "2024-09-11T09:05:50.641Z"
   },
   {
    "duration": 2740,
    "start_time": "2024-09-11T09:05:53.640Z"
   },
   {
    "duration": 55,
    "start_time": "2024-09-11T09:05:56.383Z"
   },
   {
    "duration": 0,
    "start_time": "2024-09-11T09:05:56.442Z"
   },
   {
    "duration": 0,
    "start_time": "2024-09-11T09:05:56.444Z"
   },
   {
    "duration": 0,
    "start_time": "2024-09-11T09:05:56.445Z"
   },
   {
    "duration": 0,
    "start_time": "2024-09-11T09:05:56.446Z"
   },
   {
    "duration": 0,
    "start_time": "2024-09-11T09:05:56.448Z"
   },
   {
    "duration": 0,
    "start_time": "2024-09-11T09:05:56.449Z"
   },
   {
    "duration": 0,
    "start_time": "2024-09-11T09:05:56.450Z"
   },
   {
    "duration": 0,
    "start_time": "2024-09-11T09:05:56.452Z"
   },
   {
    "duration": 0,
    "start_time": "2024-09-11T09:05:56.452Z"
   },
   {
    "duration": 0,
    "start_time": "2024-09-11T09:05:56.453Z"
   },
   {
    "duration": 0,
    "start_time": "2024-09-11T09:05:56.454Z"
   },
   {
    "duration": 0,
    "start_time": "2024-09-11T09:05:56.456Z"
   },
   {
    "duration": 0,
    "start_time": "2024-09-11T09:05:56.457Z"
   },
   {
    "duration": 0,
    "start_time": "2024-09-11T09:05:56.457Z"
   },
   {
    "duration": 0,
    "start_time": "2024-09-11T09:05:56.458Z"
   },
   {
    "duration": 0,
    "start_time": "2024-09-11T09:05:56.460Z"
   },
   {
    "duration": 0,
    "start_time": "2024-09-11T09:05:56.460Z"
   },
   {
    "duration": 0,
    "start_time": "2024-09-11T09:05:56.462Z"
   },
   {
    "duration": 0,
    "start_time": "2024-09-11T09:05:56.462Z"
   },
   {
    "duration": 0,
    "start_time": "2024-09-11T09:05:56.464Z"
   },
   {
    "duration": 0,
    "start_time": "2024-09-11T09:05:56.464Z"
   },
   {
    "duration": 0,
    "start_time": "2024-09-11T09:05:56.465Z"
   },
   {
    "duration": 0,
    "start_time": "2024-09-11T09:05:56.466Z"
   },
   {
    "duration": 0,
    "start_time": "2024-09-11T09:05:56.467Z"
   },
   {
    "duration": 0,
    "start_time": "2024-09-11T09:05:56.468Z"
   },
   {
    "duration": 0,
    "start_time": "2024-09-11T09:05:56.470Z"
   },
   {
    "duration": 0,
    "start_time": "2024-09-11T09:05:56.471Z"
   },
   {
    "duration": 0,
    "start_time": "2024-09-11T09:05:56.472Z"
   },
   {
    "duration": 0,
    "start_time": "2024-09-11T09:05:56.473Z"
   },
   {
    "duration": 0,
    "start_time": "2024-09-11T09:05:56.474Z"
   },
   {
    "duration": 0,
    "start_time": "2024-09-11T09:05:56.475Z"
   },
   {
    "duration": 0,
    "start_time": "2024-09-11T09:05:56.476Z"
   },
   {
    "duration": 0,
    "start_time": "2024-09-11T09:05:56.477Z"
   },
   {
    "duration": 0,
    "start_time": "2024-09-11T09:05:56.479Z"
   },
   {
    "duration": 0,
    "start_time": "2024-09-11T09:05:56.480Z"
   },
   {
    "duration": 0,
    "start_time": "2024-09-11T09:05:56.481Z"
   },
   {
    "duration": 0,
    "start_time": "2024-09-11T09:05:56.482Z"
   },
   {
    "duration": 0,
    "start_time": "2024-09-11T09:05:56.483Z"
   },
   {
    "duration": 0,
    "start_time": "2024-09-11T09:05:56.484Z"
   },
   {
    "duration": 0,
    "start_time": "2024-09-11T09:05:56.486Z"
   },
   {
    "duration": 0,
    "start_time": "2024-09-11T09:05:56.487Z"
   },
   {
    "duration": 0,
    "start_time": "2024-09-11T09:05:56.488Z"
   },
   {
    "duration": 0,
    "start_time": "2024-09-11T09:05:56.489Z"
   },
   {
    "duration": 0,
    "start_time": "2024-09-11T09:05:56.490Z"
   },
   {
    "duration": 0,
    "start_time": "2024-09-11T09:05:56.492Z"
   },
   {
    "duration": 0,
    "start_time": "2024-09-11T09:05:56.493Z"
   },
   {
    "duration": 0,
    "start_time": "2024-09-11T09:05:56.556Z"
   },
   {
    "duration": 0,
    "start_time": "2024-09-11T09:05:56.557Z"
   },
   {
    "duration": 0,
    "start_time": "2024-09-11T09:05:56.558Z"
   },
   {
    "duration": 0,
    "start_time": "2024-09-11T09:05:56.559Z"
   },
   {
    "duration": 0,
    "start_time": "2024-09-11T09:05:56.560Z"
   },
   {
    "duration": 0,
    "start_time": "2024-09-11T09:05:56.561Z"
   },
   {
    "duration": 0,
    "start_time": "2024-09-11T09:05:56.563Z"
   },
   {
    "duration": 0,
    "start_time": "2024-09-11T09:05:56.564Z"
   },
   {
    "duration": 0,
    "start_time": "2024-09-11T09:05:56.565Z"
   },
   {
    "duration": 0,
    "start_time": "2024-09-11T09:05:56.566Z"
   },
   {
    "duration": 0,
    "start_time": "2024-09-11T09:05:56.567Z"
   },
   {
    "duration": 0,
    "start_time": "2024-09-11T09:05:56.568Z"
   },
   {
    "duration": 0,
    "start_time": "2024-09-11T09:05:56.569Z"
   },
   {
    "duration": 0,
    "start_time": "2024-09-11T09:05:56.570Z"
   },
   {
    "duration": 0,
    "start_time": "2024-09-11T09:05:56.571Z"
   },
   {
    "duration": 0,
    "start_time": "2024-09-11T09:05:56.572Z"
   },
   {
    "duration": 0,
    "start_time": "2024-09-11T09:05:56.574Z"
   },
   {
    "duration": 0,
    "start_time": "2024-09-11T09:05:56.575Z"
   },
   {
    "duration": 0,
    "start_time": "2024-09-11T09:05:56.576Z"
   },
   {
    "duration": 0,
    "start_time": "2024-09-11T09:05:56.577Z"
   },
   {
    "duration": 0,
    "start_time": "2024-09-11T09:05:56.578Z"
   },
   {
    "duration": 0,
    "start_time": "2024-09-11T09:05:56.579Z"
   },
   {
    "duration": 0,
    "start_time": "2024-09-11T09:05:56.581Z"
   },
   {
    "duration": 0,
    "start_time": "2024-09-11T09:05:56.582Z"
   },
   {
    "duration": 0,
    "start_time": "2024-09-11T09:05:56.583Z"
   },
   {
    "duration": 0,
    "start_time": "2024-09-11T09:05:56.584Z"
   },
   {
    "duration": 0,
    "start_time": "2024-09-11T09:05:56.585Z"
   },
   {
    "duration": 0,
    "start_time": "2024-09-11T09:05:56.586Z"
   },
   {
    "duration": 0,
    "start_time": "2024-09-11T09:05:56.588Z"
   },
   {
    "duration": 0,
    "start_time": "2024-09-11T09:05:56.589Z"
   },
   {
    "duration": 0,
    "start_time": "2024-09-11T09:05:56.590Z"
   },
   {
    "duration": 0,
    "start_time": "2024-09-11T09:05:56.591Z"
   },
   {
    "duration": 0,
    "start_time": "2024-09-11T09:05:56.592Z"
   },
   {
    "duration": 0,
    "start_time": "2024-09-11T09:05:56.593Z"
   },
   {
    "duration": 0,
    "start_time": "2024-09-11T09:05:56.655Z"
   },
   {
    "duration": 0,
    "start_time": "2024-09-11T09:05:56.657Z"
   },
   {
    "duration": 0,
    "start_time": "2024-09-11T09:05:56.658Z"
   },
   {
    "duration": 0,
    "start_time": "2024-09-11T09:05:56.660Z"
   },
   {
    "duration": 0,
    "start_time": "2024-09-11T09:05:56.661Z"
   },
   {
    "duration": 0,
    "start_time": "2024-09-11T09:05:56.663Z"
   },
   {
    "duration": 0,
    "start_time": "2024-09-11T09:05:56.665Z"
   },
   {
    "duration": 0,
    "start_time": "2024-09-11T09:05:56.666Z"
   },
   {
    "duration": 0,
    "start_time": "2024-09-11T09:05:56.668Z"
   },
   {
    "duration": 0,
    "start_time": "2024-09-11T09:05:56.669Z"
   },
   {
    "duration": 0,
    "start_time": "2024-09-11T09:05:56.670Z"
   },
   {
    "duration": 0,
    "start_time": "2024-09-11T09:05:56.672Z"
   },
   {
    "duration": 0,
    "start_time": "2024-09-11T09:05:56.673Z"
   },
   {
    "duration": 0,
    "start_time": "2024-09-11T09:05:56.675Z"
   },
   {
    "duration": 0,
    "start_time": "2024-09-11T09:05:56.676Z"
   },
   {
    "duration": 0,
    "start_time": "2024-09-11T09:05:56.678Z"
   },
   {
    "duration": 0,
    "start_time": "2024-09-11T09:05:56.679Z"
   },
   {
    "duration": 0,
    "start_time": "2024-09-11T09:05:56.680Z"
   },
   {
    "duration": 3370,
    "start_time": "2024-09-11T09:07:48.999Z"
   },
   {
    "duration": 13242,
    "start_time": "2024-09-11T11:59:58.643Z"
   },
   {
    "duration": 14106,
    "start_time": "2024-09-11T12:00:19.186Z"
   },
   {
    "duration": 2842,
    "start_time": "2024-09-11T12:00:33.295Z"
   },
   {
    "duration": 2721,
    "start_time": "2024-09-11T12:00:36.139Z"
   },
   {
    "duration": 53,
    "start_time": "2024-09-11T12:00:38.862Z"
   },
   {
    "duration": 1,
    "start_time": "2024-09-11T12:00:38.919Z"
   },
   {
    "duration": 0,
    "start_time": "2024-09-11T12:00:38.921Z"
   },
   {
    "duration": 0,
    "start_time": "2024-09-11T12:00:38.922Z"
   },
   {
    "duration": 0,
    "start_time": "2024-09-11T12:00:38.923Z"
   },
   {
    "duration": 0,
    "start_time": "2024-09-11T12:00:38.924Z"
   },
   {
    "duration": 0,
    "start_time": "2024-09-11T12:00:38.925Z"
   },
   {
    "duration": 0,
    "start_time": "2024-09-11T12:00:38.926Z"
   },
   {
    "duration": 0,
    "start_time": "2024-09-11T12:00:38.927Z"
   },
   {
    "duration": 0,
    "start_time": "2024-09-11T12:00:38.928Z"
   },
   {
    "duration": 0,
    "start_time": "2024-09-11T12:00:38.929Z"
   },
   {
    "duration": 0,
    "start_time": "2024-09-11T12:00:38.930Z"
   },
   {
    "duration": 0,
    "start_time": "2024-09-11T12:00:38.931Z"
   },
   {
    "duration": 0,
    "start_time": "2024-09-11T12:00:38.932Z"
   },
   {
    "duration": 0,
    "start_time": "2024-09-11T12:00:38.956Z"
   },
   {
    "duration": 0,
    "start_time": "2024-09-11T12:00:38.957Z"
   },
   {
    "duration": 0,
    "start_time": "2024-09-11T12:00:38.958Z"
   },
   {
    "duration": 0,
    "start_time": "2024-09-11T12:00:38.959Z"
   },
   {
    "duration": 0,
    "start_time": "2024-09-11T12:00:38.960Z"
   },
   {
    "duration": 0,
    "start_time": "2024-09-11T12:00:38.962Z"
   },
   {
    "duration": 0,
    "start_time": "2024-09-11T12:00:38.963Z"
   },
   {
    "duration": 0,
    "start_time": "2024-09-11T12:00:38.964Z"
   },
   {
    "duration": 0,
    "start_time": "2024-09-11T12:00:38.965Z"
   },
   {
    "duration": 0,
    "start_time": "2024-09-11T12:00:38.966Z"
   },
   {
    "duration": 0,
    "start_time": "2024-09-11T12:00:38.968Z"
   },
   {
    "duration": 0,
    "start_time": "2024-09-11T12:00:38.969Z"
   },
   {
    "duration": 0,
    "start_time": "2024-09-11T12:00:38.969Z"
   },
   {
    "duration": 0,
    "start_time": "2024-09-11T12:00:38.970Z"
   },
   {
    "duration": 0,
    "start_time": "2024-09-11T12:00:38.971Z"
   },
   {
    "duration": 0,
    "start_time": "2024-09-11T12:00:38.972Z"
   },
   {
    "duration": 0,
    "start_time": "2024-09-11T12:00:38.973Z"
   },
   {
    "duration": 0,
    "start_time": "2024-09-11T12:00:38.974Z"
   },
   {
    "duration": 0,
    "start_time": "2024-09-11T12:00:38.975Z"
   },
   {
    "duration": 0,
    "start_time": "2024-09-11T12:00:38.977Z"
   },
   {
    "duration": 0,
    "start_time": "2024-09-11T12:00:38.978Z"
   },
   {
    "duration": 0,
    "start_time": "2024-09-11T12:00:38.979Z"
   },
   {
    "duration": 0,
    "start_time": "2024-09-11T12:00:38.980Z"
   },
   {
    "duration": 0,
    "start_time": "2024-09-11T12:00:38.981Z"
   },
   {
    "duration": 0,
    "start_time": "2024-09-11T12:00:38.982Z"
   },
   {
    "duration": 0,
    "start_time": "2024-09-11T12:00:38.983Z"
   },
   {
    "duration": 0,
    "start_time": "2024-09-11T12:00:38.984Z"
   },
   {
    "duration": 0,
    "start_time": "2024-09-11T12:00:38.985Z"
   },
   {
    "duration": 0,
    "start_time": "2024-09-11T12:00:38.986Z"
   },
   {
    "duration": 0,
    "start_time": "2024-09-11T12:00:38.988Z"
   },
   {
    "duration": 0,
    "start_time": "2024-09-11T12:00:38.989Z"
   },
   {
    "duration": 0,
    "start_time": "2024-09-11T12:00:38.990Z"
   },
   {
    "duration": 0,
    "start_time": "2024-09-11T12:00:38.991Z"
   },
   {
    "duration": 0,
    "start_time": "2024-09-11T12:00:38.992Z"
   },
   {
    "duration": 0,
    "start_time": "2024-09-11T12:00:39.055Z"
   },
   {
    "duration": 0,
    "start_time": "2024-09-11T12:00:39.056Z"
   },
   {
    "duration": 0,
    "start_time": "2024-09-11T12:00:39.057Z"
   },
   {
    "duration": 0,
    "start_time": "2024-09-11T12:00:39.058Z"
   },
   {
    "duration": 0,
    "start_time": "2024-09-11T12:00:39.059Z"
   },
   {
    "duration": 0,
    "start_time": "2024-09-11T12:00:39.060Z"
   },
   {
    "duration": 0,
    "start_time": "2024-09-11T12:00:39.061Z"
   },
   {
    "duration": 0,
    "start_time": "2024-09-11T12:00:39.062Z"
   },
   {
    "duration": 0,
    "start_time": "2024-09-11T12:00:39.063Z"
   },
   {
    "duration": 0,
    "start_time": "2024-09-11T12:00:39.064Z"
   },
   {
    "duration": 0,
    "start_time": "2024-09-11T12:00:39.065Z"
   },
   {
    "duration": 0,
    "start_time": "2024-09-11T12:00:39.067Z"
   },
   {
    "duration": 0,
    "start_time": "2024-09-11T12:00:39.068Z"
   },
   {
    "duration": 0,
    "start_time": "2024-09-11T12:00:39.069Z"
   },
   {
    "duration": 0,
    "start_time": "2024-09-11T12:00:39.070Z"
   },
   {
    "duration": 0,
    "start_time": "2024-09-11T12:00:39.070Z"
   },
   {
    "duration": 0,
    "start_time": "2024-09-11T12:00:39.071Z"
   },
   {
    "duration": 0,
    "start_time": "2024-09-11T12:00:39.073Z"
   },
   {
    "duration": 0,
    "start_time": "2024-09-11T12:00:39.074Z"
   },
   {
    "duration": 0,
    "start_time": "2024-09-11T12:00:39.075Z"
   },
   {
    "duration": 0,
    "start_time": "2024-09-11T12:00:39.076Z"
   },
   {
    "duration": 0,
    "start_time": "2024-09-11T12:00:39.077Z"
   },
   {
    "duration": 0,
    "start_time": "2024-09-11T12:00:39.078Z"
   },
   {
    "duration": 0,
    "start_time": "2024-09-11T12:00:39.079Z"
   },
   {
    "duration": 0,
    "start_time": "2024-09-11T12:00:39.080Z"
   },
   {
    "duration": 0,
    "start_time": "2024-09-11T12:00:39.081Z"
   },
   {
    "duration": 0,
    "start_time": "2024-09-11T12:00:39.082Z"
   },
   {
    "duration": 0,
    "start_time": "2024-09-11T12:00:39.083Z"
   },
   {
    "duration": 0,
    "start_time": "2024-09-11T12:00:39.084Z"
   },
   {
    "duration": 0,
    "start_time": "2024-09-11T12:00:39.085Z"
   },
   {
    "duration": 0,
    "start_time": "2024-09-11T12:00:39.086Z"
   },
   {
    "duration": 0,
    "start_time": "2024-09-11T12:00:39.087Z"
   },
   {
    "duration": 0,
    "start_time": "2024-09-11T12:00:39.088Z"
   },
   {
    "duration": 0,
    "start_time": "2024-09-11T12:00:39.089Z"
   },
   {
    "duration": 0,
    "start_time": "2024-09-11T12:00:39.090Z"
   },
   {
    "duration": 0,
    "start_time": "2024-09-11T12:00:39.091Z"
   },
   {
    "duration": 0,
    "start_time": "2024-09-11T12:00:39.092Z"
   },
   {
    "duration": 0,
    "start_time": "2024-09-11T12:00:39.093Z"
   },
   {
    "duration": 0,
    "start_time": "2024-09-11T12:00:39.156Z"
   },
   {
    "duration": 0,
    "start_time": "2024-09-11T12:00:39.157Z"
   },
   {
    "duration": 0,
    "start_time": "2024-09-11T12:00:39.158Z"
   },
   {
    "duration": 0,
    "start_time": "2024-09-11T12:00:39.159Z"
   },
   {
    "duration": 0,
    "start_time": "2024-09-11T12:00:39.160Z"
   },
   {
    "duration": 0,
    "start_time": "2024-09-11T12:00:39.161Z"
   },
   {
    "duration": 0,
    "start_time": "2024-09-11T12:00:39.162Z"
   },
   {
    "duration": 0,
    "start_time": "2024-09-11T12:00:39.163Z"
   },
   {
    "duration": 0,
    "start_time": "2024-09-11T12:00:39.164Z"
   },
   {
    "duration": 0,
    "start_time": "2024-09-11T12:00:39.165Z"
   },
   {
    "duration": 0,
    "start_time": "2024-09-11T12:00:39.166Z"
   },
   {
    "duration": 0,
    "start_time": "2024-09-11T12:00:39.167Z"
   },
   {
    "duration": 0,
    "start_time": "2024-09-11T12:00:39.168Z"
   },
   {
    "duration": 14915,
    "start_time": "2024-09-11T12:14:22.106Z"
   },
   {
    "duration": 2841,
    "start_time": "2024-09-11T12:14:37.024Z"
   },
   {
    "duration": 2874,
    "start_time": "2024-09-11T12:14:39.871Z"
   },
   {
    "duration": 56,
    "start_time": "2024-09-11T12:14:42.747Z"
   },
   {
    "duration": 0,
    "start_time": "2024-09-11T12:14:42.808Z"
   },
   {
    "duration": 0,
    "start_time": "2024-09-11T12:14:42.809Z"
   },
   {
    "duration": 0,
    "start_time": "2024-09-11T12:14:42.810Z"
   },
   {
    "duration": 0,
    "start_time": "2024-09-11T12:14:42.811Z"
   },
   {
    "duration": 0,
    "start_time": "2024-09-11T12:14:42.812Z"
   },
   {
    "duration": 0,
    "start_time": "2024-09-11T12:14:42.813Z"
   },
   {
    "duration": 0,
    "start_time": "2024-09-11T12:14:42.814Z"
   },
   {
    "duration": 0,
    "start_time": "2024-09-11T12:14:42.815Z"
   },
   {
    "duration": 0,
    "start_time": "2024-09-11T12:14:42.816Z"
   },
   {
    "duration": 0,
    "start_time": "2024-09-11T12:14:42.817Z"
   },
   {
    "duration": 0,
    "start_time": "2024-09-11T12:14:42.818Z"
   },
   {
    "duration": 0,
    "start_time": "2024-09-11T12:14:42.819Z"
   },
   {
    "duration": 0,
    "start_time": "2024-09-11T12:14:42.820Z"
   },
   {
    "duration": 0,
    "start_time": "2024-09-11T12:14:42.822Z"
   },
   {
    "duration": 0,
    "start_time": "2024-09-11T12:14:42.823Z"
   },
   {
    "duration": 0,
    "start_time": "2024-09-11T12:14:42.824Z"
   },
   {
    "duration": 0,
    "start_time": "2024-09-11T12:14:42.826Z"
   },
   {
    "duration": 0,
    "start_time": "2024-09-11T12:14:42.826Z"
   },
   {
    "duration": 0,
    "start_time": "2024-09-11T12:14:42.856Z"
   },
   {
    "duration": 0,
    "start_time": "2024-09-11T12:14:42.857Z"
   },
   {
    "duration": 0,
    "start_time": "2024-09-11T12:14:42.859Z"
   },
   {
    "duration": 0,
    "start_time": "2024-09-11T12:14:42.860Z"
   },
   {
    "duration": 0,
    "start_time": "2024-09-11T12:14:42.861Z"
   },
   {
    "duration": 0,
    "start_time": "2024-09-11T12:14:42.862Z"
   },
   {
    "duration": 0,
    "start_time": "2024-09-11T12:14:42.863Z"
   },
   {
    "duration": 0,
    "start_time": "2024-09-11T12:14:42.864Z"
   },
   {
    "duration": 0,
    "start_time": "2024-09-11T12:14:42.865Z"
   },
   {
    "duration": 0,
    "start_time": "2024-09-11T12:14:42.866Z"
   },
   {
    "duration": 0,
    "start_time": "2024-09-11T12:14:42.868Z"
   },
   {
    "duration": 0,
    "start_time": "2024-09-11T12:14:42.869Z"
   },
   {
    "duration": 0,
    "start_time": "2024-09-11T12:14:42.870Z"
   },
   {
    "duration": 0,
    "start_time": "2024-09-11T12:14:42.871Z"
   },
   {
    "duration": 1,
    "start_time": "2024-09-11T12:14:42.872Z"
   },
   {
    "duration": 0,
    "start_time": "2024-09-11T12:14:42.874Z"
   },
   {
    "duration": 0,
    "start_time": "2024-09-11T12:14:42.876Z"
   },
   {
    "duration": 0,
    "start_time": "2024-09-11T12:14:42.877Z"
   },
   {
    "duration": 0,
    "start_time": "2024-09-11T12:14:42.879Z"
   },
   {
    "duration": 0,
    "start_time": "2024-09-11T12:14:42.880Z"
   },
   {
    "duration": 0,
    "start_time": "2024-09-11T12:14:42.882Z"
   },
   {
    "duration": 0,
    "start_time": "2024-09-11T12:14:42.883Z"
   },
   {
    "duration": 0,
    "start_time": "2024-09-11T12:14:42.885Z"
   },
   {
    "duration": 0,
    "start_time": "2024-09-11T12:14:42.886Z"
   },
   {
    "duration": 0,
    "start_time": "2024-09-11T12:14:42.888Z"
   },
   {
    "duration": 0,
    "start_time": "2024-09-11T12:14:42.889Z"
   },
   {
    "duration": 0,
    "start_time": "2024-09-11T12:14:42.890Z"
   },
   {
    "duration": 0,
    "start_time": "2024-09-11T12:14:42.956Z"
   },
   {
    "duration": 0,
    "start_time": "2024-09-11T12:14:42.957Z"
   },
   {
    "duration": 0,
    "start_time": "2024-09-11T12:14:42.959Z"
   },
   {
    "duration": 0,
    "start_time": "2024-09-11T12:14:42.960Z"
   },
   {
    "duration": 0,
    "start_time": "2024-09-11T12:14:42.962Z"
   },
   {
    "duration": 0,
    "start_time": "2024-09-11T12:14:42.963Z"
   },
   {
    "duration": 1,
    "start_time": "2024-09-11T12:14:42.964Z"
   },
   {
    "duration": 0,
    "start_time": "2024-09-11T12:14:42.966Z"
   },
   {
    "duration": 0,
    "start_time": "2024-09-11T12:14:42.967Z"
   },
   {
    "duration": 0,
    "start_time": "2024-09-11T12:14:42.969Z"
   },
   {
    "duration": 0,
    "start_time": "2024-09-11T12:14:42.970Z"
   },
   {
    "duration": 0,
    "start_time": "2024-09-11T12:14:42.972Z"
   },
   {
    "duration": 0,
    "start_time": "2024-09-11T12:14:42.974Z"
   },
   {
    "duration": 0,
    "start_time": "2024-09-11T12:14:42.975Z"
   },
   {
    "duration": 0,
    "start_time": "2024-09-11T12:14:42.977Z"
   },
   {
    "duration": 0,
    "start_time": "2024-09-11T12:14:42.979Z"
   },
   {
    "duration": 0,
    "start_time": "2024-09-11T12:14:42.981Z"
   },
   {
    "duration": 0,
    "start_time": "2024-09-11T12:14:42.982Z"
   },
   {
    "duration": 0,
    "start_time": "2024-09-11T12:14:42.984Z"
   },
   {
    "duration": 0,
    "start_time": "2024-09-11T12:14:42.985Z"
   },
   {
    "duration": 0,
    "start_time": "2024-09-11T12:14:42.987Z"
   },
   {
    "duration": 0,
    "start_time": "2024-09-11T12:14:42.989Z"
   },
   {
    "duration": 0,
    "start_time": "2024-09-11T12:14:42.990Z"
   },
   {
    "duration": 0,
    "start_time": "2024-09-11T12:14:42.992Z"
   },
   {
    "duration": 0,
    "start_time": "2024-09-11T12:14:42.993Z"
   },
   {
    "duration": 0,
    "start_time": "2024-09-11T12:14:43.055Z"
   },
   {
    "duration": 0,
    "start_time": "2024-09-11T12:14:43.057Z"
   },
   {
    "duration": 0,
    "start_time": "2024-09-11T12:14:43.059Z"
   },
   {
    "duration": 0,
    "start_time": "2024-09-11T12:14:43.060Z"
   },
   {
    "duration": 0,
    "start_time": "2024-09-11T12:14:43.061Z"
   },
   {
    "duration": 0,
    "start_time": "2024-09-11T12:14:43.062Z"
   },
   {
    "duration": 0,
    "start_time": "2024-09-11T12:14:43.063Z"
   },
   {
    "duration": 0,
    "start_time": "2024-09-11T12:14:43.064Z"
   },
   {
    "duration": 0,
    "start_time": "2024-09-11T12:14:43.066Z"
   },
   {
    "duration": 0,
    "start_time": "2024-09-11T12:14:43.067Z"
   },
   {
    "duration": 0,
    "start_time": "2024-09-11T12:14:43.068Z"
   },
   {
    "duration": 0,
    "start_time": "2024-09-11T12:14:43.070Z"
   },
   {
    "duration": 0,
    "start_time": "2024-09-11T12:14:43.071Z"
   },
   {
    "duration": 0,
    "start_time": "2024-09-11T12:14:43.072Z"
   },
   {
    "duration": 0,
    "start_time": "2024-09-11T12:14:43.073Z"
   },
   {
    "duration": 0,
    "start_time": "2024-09-11T12:14:43.075Z"
   },
   {
    "duration": 0,
    "start_time": "2024-09-11T12:14:43.076Z"
   },
   {
    "duration": 0,
    "start_time": "2024-09-11T12:14:43.077Z"
   },
   {
    "duration": 0,
    "start_time": "2024-09-11T12:14:43.079Z"
   },
   {
    "duration": 0,
    "start_time": "2024-09-11T12:14:43.080Z"
   },
   {
    "duration": 0,
    "start_time": "2024-09-11T12:14:43.081Z"
   },
   {
    "duration": 0,
    "start_time": "2024-09-11T12:14:43.083Z"
   },
   {
    "duration": 0,
    "start_time": "2024-09-11T12:14:43.085Z"
   },
   {
    "duration": 0,
    "start_time": "2024-09-11T12:14:43.086Z"
   },
   {
    "duration": 0,
    "start_time": "2024-09-11T12:14:43.088Z"
   },
   {
    "duration": 0,
    "start_time": "2024-09-11T12:14:43.089Z"
   },
   {
    "duration": 0,
    "start_time": "2024-09-11T12:14:43.090Z"
   },
   {
    "duration": 0,
    "start_time": "2024-09-11T12:14:43.092Z"
   },
   {
    "duration": 1363,
    "start_time": "2024-09-11T12:20:48.951Z"
   },
   {
    "duration": 3387,
    "start_time": "2024-09-11T12:22:03.784Z"
   },
   {
    "duration": 3429,
    "start_time": "2024-09-11T12:22:17.803Z"
   },
   {
    "duration": 3771,
    "start_time": "2024-09-11T12:22:21.236Z"
   },
   {
    "duration": 2842,
    "start_time": "2024-09-11T12:22:25.009Z"
   },
   {
    "duration": 57,
    "start_time": "2024-09-11T12:22:27.854Z"
   },
   {
    "duration": 0,
    "start_time": "2024-09-11T12:22:27.915Z"
   },
   {
    "duration": 0,
    "start_time": "2024-09-11T12:22:27.916Z"
   },
   {
    "duration": 0,
    "start_time": "2024-09-11T12:22:27.918Z"
   },
   {
    "duration": 0,
    "start_time": "2024-09-11T12:22:27.919Z"
   },
   {
    "duration": 0,
    "start_time": "2024-09-11T12:22:27.920Z"
   },
   {
    "duration": 0,
    "start_time": "2024-09-11T12:22:27.921Z"
   },
   {
    "duration": 0,
    "start_time": "2024-09-11T12:22:27.923Z"
   },
   {
    "duration": 0,
    "start_time": "2024-09-11T12:22:27.924Z"
   },
   {
    "duration": 0,
    "start_time": "2024-09-11T12:22:27.925Z"
   },
   {
    "duration": 0,
    "start_time": "2024-09-11T12:22:27.927Z"
   },
   {
    "duration": 0,
    "start_time": "2024-09-11T12:22:27.955Z"
   },
   {
    "duration": 0,
    "start_time": "2024-09-11T12:22:27.957Z"
   },
   {
    "duration": 0,
    "start_time": "2024-09-11T12:22:27.959Z"
   },
   {
    "duration": 0,
    "start_time": "2024-09-11T12:22:27.960Z"
   },
   {
    "duration": 0,
    "start_time": "2024-09-11T12:22:27.962Z"
   },
   {
    "duration": 0,
    "start_time": "2024-09-11T12:22:27.964Z"
   },
   {
    "duration": 0,
    "start_time": "2024-09-11T12:22:27.965Z"
   },
   {
    "duration": 0,
    "start_time": "2024-09-11T12:22:27.966Z"
   },
   {
    "duration": 0,
    "start_time": "2024-09-11T12:22:27.968Z"
   },
   {
    "duration": 0,
    "start_time": "2024-09-11T12:22:27.970Z"
   },
   {
    "duration": 0,
    "start_time": "2024-09-11T12:22:27.971Z"
   },
   {
    "duration": 0,
    "start_time": "2024-09-11T12:22:27.973Z"
   },
   {
    "duration": 0,
    "start_time": "2024-09-11T12:22:27.974Z"
   },
   {
    "duration": 0,
    "start_time": "2024-09-11T12:22:27.976Z"
   },
   {
    "duration": 0,
    "start_time": "2024-09-11T12:22:27.977Z"
   },
   {
    "duration": 0,
    "start_time": "2024-09-11T12:22:27.978Z"
   },
   {
    "duration": 0,
    "start_time": "2024-09-11T12:22:27.979Z"
   },
   {
    "duration": 0,
    "start_time": "2024-09-11T12:22:27.980Z"
   },
   {
    "duration": 0,
    "start_time": "2024-09-11T12:22:27.982Z"
   },
   {
    "duration": 0,
    "start_time": "2024-09-11T12:22:27.983Z"
   },
   {
    "duration": 0,
    "start_time": "2024-09-11T12:22:27.984Z"
   },
   {
    "duration": 0,
    "start_time": "2024-09-11T12:22:27.986Z"
   },
   {
    "duration": 0,
    "start_time": "2024-09-11T12:22:27.987Z"
   },
   {
    "duration": 0,
    "start_time": "2024-09-11T12:22:27.989Z"
   },
   {
    "duration": 1,
    "start_time": "2024-09-11T12:22:27.990Z"
   },
   {
    "duration": 0,
    "start_time": "2024-09-11T12:22:27.992Z"
   },
   {
    "duration": 0,
    "start_time": "2024-09-11T12:22:27.993Z"
   },
   {
    "duration": 0,
    "start_time": "2024-09-11T12:22:27.994Z"
   },
   {
    "duration": 0,
    "start_time": "2024-09-11T12:22:27.995Z"
   },
   {
    "duration": 0,
    "start_time": "2024-09-11T12:22:28.055Z"
   },
   {
    "duration": 1,
    "start_time": "2024-09-11T12:22:28.056Z"
   },
   {
    "duration": 0,
    "start_time": "2024-09-11T12:22:28.058Z"
   },
   {
    "duration": 0,
    "start_time": "2024-09-11T12:22:28.059Z"
   },
   {
    "duration": 0,
    "start_time": "2024-09-11T12:22:28.061Z"
   },
   {
    "duration": 0,
    "start_time": "2024-09-11T12:22:28.062Z"
   },
   {
    "duration": 0,
    "start_time": "2024-09-11T12:22:28.064Z"
   },
   {
    "duration": 0,
    "start_time": "2024-09-11T12:22:28.066Z"
   },
   {
    "duration": 0,
    "start_time": "2024-09-11T12:22:28.068Z"
   },
   {
    "duration": 0,
    "start_time": "2024-09-11T12:22:28.069Z"
   },
   {
    "duration": 0,
    "start_time": "2024-09-11T12:22:28.071Z"
   },
   {
    "duration": 0,
    "start_time": "2024-09-11T12:22:28.073Z"
   },
   {
    "duration": 0,
    "start_time": "2024-09-11T12:22:28.074Z"
   },
   {
    "duration": 0,
    "start_time": "2024-09-11T12:22:28.075Z"
   },
   {
    "duration": 0,
    "start_time": "2024-09-11T12:22:28.076Z"
   },
   {
    "duration": 0,
    "start_time": "2024-09-11T12:22:28.078Z"
   },
   {
    "duration": 0,
    "start_time": "2024-09-11T12:22:28.079Z"
   },
   {
    "duration": 0,
    "start_time": "2024-09-11T12:22:28.080Z"
   },
   {
    "duration": 0,
    "start_time": "2024-09-11T12:22:28.082Z"
   },
   {
    "duration": 0,
    "start_time": "2024-09-11T12:22:28.083Z"
   },
   {
    "duration": 0,
    "start_time": "2024-09-11T12:22:28.084Z"
   },
   {
    "duration": 0,
    "start_time": "2024-09-11T12:22:28.085Z"
   },
   {
    "duration": 0,
    "start_time": "2024-09-11T12:22:28.087Z"
   },
   {
    "duration": 0,
    "start_time": "2024-09-11T12:22:28.088Z"
   },
   {
    "duration": 0,
    "start_time": "2024-09-11T12:22:28.089Z"
   },
   {
    "duration": 0,
    "start_time": "2024-09-11T12:22:28.090Z"
   },
   {
    "duration": 0,
    "start_time": "2024-09-11T12:22:28.155Z"
   },
   {
    "duration": 0,
    "start_time": "2024-09-11T12:22:28.156Z"
   },
   {
    "duration": 0,
    "start_time": "2024-09-11T12:22:28.158Z"
   },
   {
    "duration": 0,
    "start_time": "2024-09-11T12:22:28.159Z"
   },
   {
    "duration": 0,
    "start_time": "2024-09-11T12:22:28.161Z"
   },
   {
    "duration": 0,
    "start_time": "2024-09-11T12:22:28.162Z"
   },
   {
    "duration": 1,
    "start_time": "2024-09-11T12:22:28.163Z"
   },
   {
    "duration": 0,
    "start_time": "2024-09-11T12:22:28.165Z"
   },
   {
    "duration": 0,
    "start_time": "2024-09-11T12:22:28.167Z"
   },
   {
    "duration": 0,
    "start_time": "2024-09-11T12:22:28.169Z"
   },
   {
    "duration": 0,
    "start_time": "2024-09-11T12:22:28.170Z"
   },
   {
    "duration": 0,
    "start_time": "2024-09-11T12:22:28.171Z"
   },
   {
    "duration": 0,
    "start_time": "2024-09-11T12:22:28.172Z"
   },
   {
    "duration": 0,
    "start_time": "2024-09-11T12:22:28.174Z"
   },
   {
    "duration": 0,
    "start_time": "2024-09-11T12:22:28.175Z"
   },
   {
    "duration": 0,
    "start_time": "2024-09-11T12:22:28.176Z"
   },
   {
    "duration": 0,
    "start_time": "2024-09-11T12:22:28.178Z"
   },
   {
    "duration": 0,
    "start_time": "2024-09-11T12:22:28.180Z"
   },
   {
    "duration": 0,
    "start_time": "2024-09-11T12:22:28.181Z"
   },
   {
    "duration": 0,
    "start_time": "2024-09-11T12:22:28.183Z"
   },
   {
    "duration": 0,
    "start_time": "2024-09-11T12:22:28.184Z"
   },
   {
    "duration": 0,
    "start_time": "2024-09-11T12:22:28.185Z"
   },
   {
    "duration": 0,
    "start_time": "2024-09-11T12:22:28.186Z"
   },
   {
    "duration": 0,
    "start_time": "2024-09-11T12:22:28.188Z"
   },
   {
    "duration": 0,
    "start_time": "2024-09-11T12:22:28.189Z"
   },
   {
    "duration": 0,
    "start_time": "2024-09-11T12:22:28.191Z"
   },
   {
    "duration": 0,
    "start_time": "2024-09-11T12:22:28.192Z"
   },
   {
    "duration": 0,
    "start_time": "2024-09-11T12:22:28.193Z"
   },
   {
    "duration": 0,
    "start_time": "2024-09-11T12:22:28.194Z"
   },
   {
    "duration": 0,
    "start_time": "2024-09-11T12:22:28.255Z"
   },
   {
    "duration": 0,
    "start_time": "2024-09-11T12:22:28.256Z"
   },
   {
    "duration": 0,
    "start_time": "2024-09-11T12:22:28.258Z"
   },
   {
    "duration": 0,
    "start_time": "2024-09-11T12:22:28.259Z"
   },
   {
    "duration": 2892,
    "start_time": "2024-09-11T12:24:15.120Z"
   },
   {
    "duration": 3313,
    "start_time": "2024-09-11T12:24:18.015Z"
   },
   {
    "duration": 65,
    "start_time": "2024-09-11T12:24:21.330Z"
   },
   {
    "duration": 0,
    "start_time": "2024-09-11T12:24:21.400Z"
   },
   {
    "duration": 0,
    "start_time": "2024-09-11T12:24:21.401Z"
   },
   {
    "duration": 0,
    "start_time": "2024-09-11T12:24:21.403Z"
   },
   {
    "duration": 0,
    "start_time": "2024-09-11T12:24:21.405Z"
   },
   {
    "duration": 1,
    "start_time": "2024-09-11T12:24:21.406Z"
   },
   {
    "duration": 0,
    "start_time": "2024-09-11T12:24:21.408Z"
   },
   {
    "duration": 0,
    "start_time": "2024-09-11T12:24:21.410Z"
   },
   {
    "duration": 0,
    "start_time": "2024-09-11T12:24:21.412Z"
   },
   {
    "duration": 0,
    "start_time": "2024-09-11T12:24:21.413Z"
   },
   {
    "duration": 0,
    "start_time": "2024-09-11T12:24:21.414Z"
   },
   {
    "duration": 0,
    "start_time": "2024-09-11T12:24:21.416Z"
   },
   {
    "duration": 0,
    "start_time": "2024-09-11T12:24:21.417Z"
   },
   {
    "duration": 0,
    "start_time": "2024-09-11T12:24:21.419Z"
   },
   {
    "duration": 0,
    "start_time": "2024-09-11T12:24:21.456Z"
   },
   {
    "duration": 1,
    "start_time": "2024-09-11T12:24:21.457Z"
   },
   {
    "duration": 0,
    "start_time": "2024-09-11T12:24:21.459Z"
   },
   {
    "duration": 0,
    "start_time": "2024-09-11T12:24:21.461Z"
   },
   {
    "duration": 0,
    "start_time": "2024-09-11T12:24:21.462Z"
   },
   {
    "duration": 0,
    "start_time": "2024-09-11T12:24:21.464Z"
   },
   {
    "duration": 0,
    "start_time": "2024-09-11T12:24:21.465Z"
   },
   {
    "duration": 0,
    "start_time": "2024-09-11T12:24:21.467Z"
   },
   {
    "duration": 0,
    "start_time": "2024-09-11T12:24:21.468Z"
   },
   {
    "duration": 0,
    "start_time": "2024-09-11T12:24:21.470Z"
   },
   {
    "duration": 0,
    "start_time": "2024-09-11T12:24:21.471Z"
   },
   {
    "duration": 0,
    "start_time": "2024-09-11T12:24:21.472Z"
   },
   {
    "duration": 0,
    "start_time": "2024-09-11T12:24:21.473Z"
   },
   {
    "duration": 0,
    "start_time": "2024-09-11T12:24:21.475Z"
   },
   {
    "duration": 0,
    "start_time": "2024-09-11T12:24:21.476Z"
   },
   {
    "duration": 0,
    "start_time": "2024-09-11T12:24:21.477Z"
   },
   {
    "duration": 0,
    "start_time": "2024-09-11T12:24:21.479Z"
   },
   {
    "duration": 0,
    "start_time": "2024-09-11T12:24:21.480Z"
   },
   {
    "duration": 0,
    "start_time": "2024-09-11T12:24:21.481Z"
   },
   {
    "duration": 0,
    "start_time": "2024-09-11T12:24:21.483Z"
   },
   {
    "duration": 0,
    "start_time": "2024-09-11T12:24:21.484Z"
   },
   {
    "duration": 0,
    "start_time": "2024-09-11T12:24:21.485Z"
   },
   {
    "duration": 0,
    "start_time": "2024-09-11T12:24:21.487Z"
   },
   {
    "duration": 0,
    "start_time": "2024-09-11T12:24:21.488Z"
   },
   {
    "duration": 0,
    "start_time": "2024-09-11T12:24:21.490Z"
   },
   {
    "duration": 0,
    "start_time": "2024-09-11T12:24:21.491Z"
   },
   {
    "duration": 0,
    "start_time": "2024-09-11T12:24:21.492Z"
   },
   {
    "duration": 0,
    "start_time": "2024-09-11T12:24:21.494Z"
   },
   {
    "duration": 0,
    "start_time": "2024-09-11T12:24:21.495Z"
   },
   {
    "duration": 0,
    "start_time": "2024-09-11T12:24:21.556Z"
   },
   {
    "duration": 0,
    "start_time": "2024-09-11T12:24:21.558Z"
   },
   {
    "duration": 0,
    "start_time": "2024-09-11T12:24:21.560Z"
   },
   {
    "duration": 0,
    "start_time": "2024-09-11T12:24:21.561Z"
   },
   {
    "duration": 0,
    "start_time": "2024-09-11T12:24:21.562Z"
   },
   {
    "duration": 1,
    "start_time": "2024-09-11T12:24:21.563Z"
   },
   {
    "duration": 1,
    "start_time": "2024-09-11T12:24:21.567Z"
   },
   {
    "duration": 0,
    "start_time": "2024-09-11T12:24:21.568Z"
   },
   {
    "duration": 0,
    "start_time": "2024-09-11T12:24:21.570Z"
   },
   {
    "duration": 0,
    "start_time": "2024-09-11T12:24:21.572Z"
   },
   {
    "duration": 0,
    "start_time": "2024-09-11T12:24:21.573Z"
   },
   {
    "duration": 0,
    "start_time": "2024-09-11T12:24:21.574Z"
   },
   {
    "duration": 0,
    "start_time": "2024-09-11T12:24:21.576Z"
   },
   {
    "duration": 0,
    "start_time": "2024-09-11T12:24:21.577Z"
   },
   {
    "duration": 0,
    "start_time": "2024-09-11T12:24:21.579Z"
   },
   {
    "duration": 0,
    "start_time": "2024-09-11T12:24:21.580Z"
   },
   {
    "duration": 0,
    "start_time": "2024-09-11T12:24:21.582Z"
   },
   {
    "duration": 0,
    "start_time": "2024-09-11T12:24:21.583Z"
   },
   {
    "duration": 1,
    "start_time": "2024-09-11T12:24:21.584Z"
   },
   {
    "duration": 0,
    "start_time": "2024-09-11T12:24:21.588Z"
   },
   {
    "duration": 0,
    "start_time": "2024-09-11T12:24:21.588Z"
   },
   {
    "duration": 0,
    "start_time": "2024-09-11T12:24:21.590Z"
   },
   {
    "duration": 0,
    "start_time": "2024-09-11T12:24:21.596Z"
   },
   {
    "duration": 0,
    "start_time": "2024-09-11T12:24:21.656Z"
   },
   {
    "duration": 0,
    "start_time": "2024-09-11T12:24:21.658Z"
   },
   {
    "duration": 0,
    "start_time": "2024-09-11T12:24:21.660Z"
   },
   {
    "duration": 0,
    "start_time": "2024-09-11T12:24:21.662Z"
   },
   {
    "duration": 0,
    "start_time": "2024-09-11T12:24:21.663Z"
   },
   {
    "duration": 0,
    "start_time": "2024-09-11T12:24:21.665Z"
   },
   {
    "duration": 0,
    "start_time": "2024-09-11T12:24:21.667Z"
   },
   {
    "duration": 0,
    "start_time": "2024-09-11T12:24:21.668Z"
   },
   {
    "duration": 0,
    "start_time": "2024-09-11T12:24:21.670Z"
   },
   {
    "duration": 0,
    "start_time": "2024-09-11T12:24:21.672Z"
   },
   {
    "duration": 0,
    "start_time": "2024-09-11T12:24:21.673Z"
   },
   {
    "duration": 0,
    "start_time": "2024-09-11T12:24:21.674Z"
   },
   {
    "duration": 0,
    "start_time": "2024-09-11T12:24:21.676Z"
   },
   {
    "duration": 0,
    "start_time": "2024-09-11T12:24:21.678Z"
   },
   {
    "duration": 0,
    "start_time": "2024-09-11T12:24:21.679Z"
   },
   {
    "duration": 0,
    "start_time": "2024-09-11T12:24:21.681Z"
   },
   {
    "duration": 0,
    "start_time": "2024-09-11T12:24:21.682Z"
   },
   {
    "duration": 0,
    "start_time": "2024-09-11T12:24:21.683Z"
   },
   {
    "duration": 0,
    "start_time": "2024-09-11T12:24:21.684Z"
   },
   {
    "duration": 0,
    "start_time": "2024-09-11T12:24:21.686Z"
   },
   {
    "duration": 0,
    "start_time": "2024-09-11T12:24:21.687Z"
   },
   {
    "duration": 0,
    "start_time": "2024-09-11T12:24:21.689Z"
   },
   {
    "duration": 0,
    "start_time": "2024-09-11T12:24:21.690Z"
   },
   {
    "duration": 0,
    "start_time": "2024-09-11T12:24:21.691Z"
   },
   {
    "duration": 0,
    "start_time": "2024-09-11T12:24:21.692Z"
   },
   {
    "duration": 1,
    "start_time": "2024-09-11T12:24:21.694Z"
   },
   {
    "duration": 0,
    "start_time": "2024-09-11T12:24:21.756Z"
   },
   {
    "duration": 1,
    "start_time": "2024-09-11T12:24:21.757Z"
   },
   {
    "duration": 0,
    "start_time": "2024-09-11T12:24:21.759Z"
   },
   {
    "duration": 0,
    "start_time": "2024-09-11T12:24:21.760Z"
   },
   {
    "duration": 0,
    "start_time": "2024-09-11T12:24:21.762Z"
   },
   {
    "duration": 0,
    "start_time": "2024-09-11T12:24:21.764Z"
   },
   {
    "duration": 0,
    "start_time": "2024-09-11T12:24:21.765Z"
   },
   {
    "duration": 80,
    "start_time": "2024-09-11T12:25:37.145Z"
   },
   {
    "duration": 0,
    "start_time": "2024-09-11T12:25:37.256Z"
   },
   {
    "duration": 0,
    "start_time": "2024-09-11T12:25:37.258Z"
   },
   {
    "duration": 0,
    "start_time": "2024-09-11T12:25:37.259Z"
   },
   {
    "duration": 0,
    "start_time": "2024-09-11T12:25:37.260Z"
   },
   {
    "duration": 0,
    "start_time": "2024-09-11T12:25:37.261Z"
   },
   {
    "duration": 0,
    "start_time": "2024-09-11T12:25:37.262Z"
   },
   {
    "duration": 0,
    "start_time": "2024-09-11T12:25:37.264Z"
   },
   {
    "duration": 0,
    "start_time": "2024-09-11T12:25:37.265Z"
   },
   {
    "duration": 0,
    "start_time": "2024-09-11T12:25:37.266Z"
   },
   {
    "duration": 0,
    "start_time": "2024-09-11T12:25:37.267Z"
   },
   {
    "duration": 0,
    "start_time": "2024-09-11T12:25:37.268Z"
   },
   {
    "duration": 0,
    "start_time": "2024-09-11T12:25:37.270Z"
   },
   {
    "duration": 0,
    "start_time": "2024-09-11T12:25:37.271Z"
   },
   {
    "duration": 0,
    "start_time": "2024-09-11T12:25:37.272Z"
   },
   {
    "duration": 0,
    "start_time": "2024-09-11T12:25:37.273Z"
   },
   {
    "duration": 0,
    "start_time": "2024-09-11T12:25:37.275Z"
   },
   {
    "duration": 0,
    "start_time": "2024-09-11T12:25:37.276Z"
   },
   {
    "duration": 0,
    "start_time": "2024-09-11T12:25:37.280Z"
   },
   {
    "duration": 0,
    "start_time": "2024-09-11T12:25:37.281Z"
   },
   {
    "duration": 0,
    "start_time": "2024-09-11T12:25:37.283Z"
   },
   {
    "duration": 0,
    "start_time": "2024-09-11T12:25:37.284Z"
   },
   {
    "duration": 0,
    "start_time": "2024-09-11T12:25:37.286Z"
   },
   {
    "duration": 0,
    "start_time": "2024-09-11T12:25:37.288Z"
   },
   {
    "duration": 0,
    "start_time": "2024-09-11T12:25:37.289Z"
   },
   {
    "duration": 0,
    "start_time": "2024-09-11T12:25:37.290Z"
   },
   {
    "duration": 0,
    "start_time": "2024-09-11T12:25:37.292Z"
   },
   {
    "duration": 0,
    "start_time": "2024-09-11T12:25:37.293Z"
   },
   {
    "duration": 0,
    "start_time": "2024-09-11T12:25:37.295Z"
   },
   {
    "duration": 1,
    "start_time": "2024-09-11T12:25:37.355Z"
   },
   {
    "duration": 0,
    "start_time": "2024-09-11T12:25:37.357Z"
   },
   {
    "duration": 0,
    "start_time": "2024-09-11T12:25:37.358Z"
   },
   {
    "duration": 0,
    "start_time": "2024-09-11T12:25:37.360Z"
   },
   {
    "duration": 9,
    "start_time": "2024-09-11T12:25:37.374Z"
   },
   {
    "duration": 0,
    "start_time": "2024-09-11T12:25:37.384Z"
   },
   {
    "duration": 0,
    "start_time": "2024-09-11T12:25:37.386Z"
   },
   {
    "duration": 0,
    "start_time": "2024-09-11T12:25:37.387Z"
   },
   {
    "duration": 0,
    "start_time": "2024-09-11T12:25:37.388Z"
   },
   {
    "duration": 0,
    "start_time": "2024-09-11T12:25:37.389Z"
   },
   {
    "duration": 0,
    "start_time": "2024-09-11T12:25:37.390Z"
   },
   {
    "duration": 1,
    "start_time": "2024-09-11T12:25:37.392Z"
   },
   {
    "duration": 0,
    "start_time": "2024-09-11T12:25:37.394Z"
   },
   {
    "duration": 0,
    "start_time": "2024-09-11T12:25:37.456Z"
   },
   {
    "duration": 0,
    "start_time": "2024-09-11T12:25:37.457Z"
   },
   {
    "duration": 0,
    "start_time": "2024-09-11T12:25:37.458Z"
   },
   {
    "duration": 0,
    "start_time": "2024-09-11T12:25:37.459Z"
   },
   {
    "duration": 0,
    "start_time": "2024-09-11T12:25:37.461Z"
   },
   {
    "duration": 0,
    "start_time": "2024-09-11T12:25:37.462Z"
   },
   {
    "duration": 0,
    "start_time": "2024-09-11T12:25:37.463Z"
   },
   {
    "duration": 0,
    "start_time": "2024-09-11T12:25:37.464Z"
   },
   {
    "duration": 0,
    "start_time": "2024-09-11T12:25:37.465Z"
   },
   {
    "duration": 0,
    "start_time": "2024-09-11T12:25:37.466Z"
   },
   {
    "duration": 0,
    "start_time": "2024-09-11T12:25:37.467Z"
   },
   {
    "duration": 0,
    "start_time": "2024-09-11T12:25:37.468Z"
   },
   {
    "duration": 0,
    "start_time": "2024-09-11T12:25:37.469Z"
   },
   {
    "duration": 0,
    "start_time": "2024-09-11T12:25:37.470Z"
   },
   {
    "duration": 0,
    "start_time": "2024-09-11T12:25:37.471Z"
   },
   {
    "duration": 0,
    "start_time": "2024-09-11T12:25:37.472Z"
   },
   {
    "duration": 0,
    "start_time": "2024-09-11T12:25:37.473Z"
   },
   {
    "duration": 0,
    "start_time": "2024-09-11T12:25:37.474Z"
   },
   {
    "duration": 0,
    "start_time": "2024-09-11T12:25:37.475Z"
   },
   {
    "duration": 0,
    "start_time": "2024-09-11T12:25:37.476Z"
   },
   {
    "duration": 0,
    "start_time": "2024-09-11T12:25:37.477Z"
   },
   {
    "duration": 0,
    "start_time": "2024-09-11T12:25:37.479Z"
   },
   {
    "duration": 0,
    "start_time": "2024-09-11T12:25:37.479Z"
   },
   {
    "duration": 0,
    "start_time": "2024-09-11T12:25:37.480Z"
   },
   {
    "duration": 0,
    "start_time": "2024-09-11T12:25:37.481Z"
   },
   {
    "duration": 0,
    "start_time": "2024-09-11T12:25:37.482Z"
   },
   {
    "duration": 0,
    "start_time": "2024-09-11T12:25:37.483Z"
   },
   {
    "duration": 0,
    "start_time": "2024-09-11T12:25:37.485Z"
   },
   {
    "duration": 0,
    "start_time": "2024-09-11T12:25:37.486Z"
   },
   {
    "duration": 0,
    "start_time": "2024-09-11T12:25:37.488Z"
   },
   {
    "duration": 0,
    "start_time": "2024-09-11T12:25:37.489Z"
   },
   {
    "duration": 0,
    "start_time": "2024-09-11T12:25:37.490Z"
   },
   {
    "duration": 0,
    "start_time": "2024-09-11T12:25:37.491Z"
   },
   {
    "duration": 0,
    "start_time": "2024-09-11T12:25:37.492Z"
   },
   {
    "duration": 0,
    "start_time": "2024-09-11T12:25:37.555Z"
   },
   {
    "duration": 0,
    "start_time": "2024-09-11T12:25:37.556Z"
   },
   {
    "duration": 0,
    "start_time": "2024-09-11T12:25:37.558Z"
   },
   {
    "duration": 0,
    "start_time": "2024-09-11T12:25:37.559Z"
   },
   {
    "duration": 0,
    "start_time": "2024-09-11T12:25:37.561Z"
   },
   {
    "duration": 0,
    "start_time": "2024-09-11T12:25:37.563Z"
   },
   {
    "duration": 0,
    "start_time": "2024-09-11T12:25:37.564Z"
   },
   {
    "duration": 0,
    "start_time": "2024-09-11T12:25:37.565Z"
   },
   {
    "duration": 0,
    "start_time": "2024-09-11T12:25:37.566Z"
   },
   {
    "duration": 0,
    "start_time": "2024-09-11T12:25:37.567Z"
   },
   {
    "duration": 0,
    "start_time": "2024-09-11T12:25:37.568Z"
   },
   {
    "duration": 0,
    "start_time": "2024-09-11T12:25:37.569Z"
   },
   {
    "duration": 1,
    "start_time": "2024-09-11T12:25:37.572Z"
   },
   {
    "duration": 0,
    "start_time": "2024-09-11T12:25:37.574Z"
   },
   {
    "duration": 0,
    "start_time": "2024-09-11T12:25:37.576Z"
   },
   {
    "duration": 0,
    "start_time": "2024-09-11T12:25:37.577Z"
   },
   {
    "duration": 0,
    "start_time": "2024-09-11T12:25:37.579Z"
   },
   {
    "duration": 0,
    "start_time": "2024-09-11T12:25:37.582Z"
   },
   {
    "duration": 0,
    "start_time": "2024-09-11T12:25:37.589Z"
   },
   {
    "duration": 0,
    "start_time": "2024-09-11T12:25:37.591Z"
   },
   {
    "duration": 0,
    "start_time": "2024-09-11T12:25:37.593Z"
   },
   {
    "duration": 0,
    "start_time": "2024-09-11T12:25:37.594Z"
   },
   {
    "duration": 0,
    "start_time": "2024-09-11T12:25:37.657Z"
   },
   {
    "duration": 13850,
    "start_time": "2024-09-11T12:26:52.730Z"
   },
   {
    "duration": 14654,
    "start_time": "2024-09-11T12:27:45.925Z"
   },
   {
    "duration": 57,
    "start_time": "2024-09-11T12:28:00.581Z"
   },
   {
    "duration": 0,
    "start_time": "2024-09-11T12:28:00.644Z"
   },
   {
    "duration": 0,
    "start_time": "2024-09-11T12:28:00.645Z"
   },
   {
    "duration": 0,
    "start_time": "2024-09-11T12:28:00.646Z"
   },
   {
    "duration": 0,
    "start_time": "2024-09-11T12:28:00.648Z"
   },
   {
    "duration": 0,
    "start_time": "2024-09-11T12:28:00.649Z"
   },
   {
    "duration": 0,
    "start_time": "2024-09-11T12:28:00.650Z"
   },
   {
    "duration": 0,
    "start_time": "2024-09-11T12:28:00.651Z"
   },
   {
    "duration": 0,
    "start_time": "2024-09-11T12:28:00.653Z"
   },
   {
    "duration": 0,
    "start_time": "2024-09-11T12:28:00.655Z"
   },
   {
    "duration": 0,
    "start_time": "2024-09-11T12:28:00.655Z"
   },
   {
    "duration": 0,
    "start_time": "2024-09-11T12:28:00.657Z"
   },
   {
    "duration": 0,
    "start_time": "2024-09-11T12:28:00.658Z"
   },
   {
    "duration": 0,
    "start_time": "2024-09-11T12:28:00.660Z"
   },
   {
    "duration": 0,
    "start_time": "2024-09-11T12:28:00.661Z"
   },
   {
    "duration": 0,
    "start_time": "2024-09-11T12:28:00.663Z"
   },
   {
    "duration": 0,
    "start_time": "2024-09-11T12:28:00.664Z"
   },
   {
    "duration": 0,
    "start_time": "2024-09-11T12:28:00.665Z"
   },
   {
    "duration": 0,
    "start_time": "2024-09-11T12:28:00.667Z"
   },
   {
    "duration": 0,
    "start_time": "2024-09-11T12:28:00.668Z"
   },
   {
    "duration": 0,
    "start_time": "2024-09-11T12:28:00.670Z"
   },
   {
    "duration": 0,
    "start_time": "2024-09-11T12:28:00.671Z"
   },
   {
    "duration": 0,
    "start_time": "2024-09-11T12:28:00.673Z"
   },
   {
    "duration": 0,
    "start_time": "2024-09-11T12:28:00.675Z"
   },
   {
    "duration": 0,
    "start_time": "2024-09-11T12:28:00.677Z"
   },
   {
    "duration": 0,
    "start_time": "2024-09-11T12:28:00.678Z"
   },
   {
    "duration": 0,
    "start_time": "2024-09-11T12:28:00.680Z"
   },
   {
    "duration": 1,
    "start_time": "2024-09-11T12:28:00.680Z"
   },
   {
    "duration": 0,
    "start_time": "2024-09-11T12:28:00.682Z"
   },
   {
    "duration": 0,
    "start_time": "2024-09-11T12:28:00.684Z"
   },
   {
    "duration": 0,
    "start_time": "2024-09-11T12:28:00.685Z"
   },
   {
    "duration": 0,
    "start_time": "2024-09-11T12:28:00.686Z"
   },
   {
    "duration": 0,
    "start_time": "2024-09-11T12:28:00.687Z"
   },
   {
    "duration": 0,
    "start_time": "2024-09-11T12:28:00.689Z"
   },
   {
    "duration": 0,
    "start_time": "2024-09-11T12:28:00.690Z"
   },
   {
    "duration": 0,
    "start_time": "2024-09-11T12:28:00.691Z"
   },
   {
    "duration": 0,
    "start_time": "2024-09-11T12:28:00.692Z"
   },
   {
    "duration": 0,
    "start_time": "2024-09-11T12:28:00.694Z"
   },
   {
    "duration": 0,
    "start_time": "2024-09-11T12:28:00.695Z"
   },
   {
    "duration": 0,
    "start_time": "2024-09-11T12:28:00.756Z"
   },
   {
    "duration": 0,
    "start_time": "2024-09-11T12:28:00.757Z"
   },
   {
    "duration": 0,
    "start_time": "2024-09-11T12:28:00.758Z"
   },
   {
    "duration": 0,
    "start_time": "2024-09-11T12:28:00.760Z"
   },
   {
    "duration": 0,
    "start_time": "2024-09-11T12:28:00.761Z"
   },
   {
    "duration": 0,
    "start_time": "2024-09-11T12:28:00.762Z"
   },
   {
    "duration": 0,
    "start_time": "2024-09-11T12:28:00.763Z"
   },
   {
    "duration": 0,
    "start_time": "2024-09-11T12:28:00.764Z"
   },
   {
    "duration": 0,
    "start_time": "2024-09-11T12:28:00.766Z"
   },
   {
    "duration": 0,
    "start_time": "2024-09-11T12:28:00.767Z"
   },
   {
    "duration": 0,
    "start_time": "2024-09-11T12:28:00.769Z"
   },
   {
    "duration": 0,
    "start_time": "2024-09-11T12:28:00.771Z"
   },
   {
    "duration": 0,
    "start_time": "2024-09-11T12:28:00.772Z"
   },
   {
    "duration": 0,
    "start_time": "2024-09-11T12:28:00.773Z"
   },
   {
    "duration": 0,
    "start_time": "2024-09-11T12:28:00.774Z"
   },
   {
    "duration": 0,
    "start_time": "2024-09-11T12:28:00.776Z"
   },
   {
    "duration": 0,
    "start_time": "2024-09-11T12:28:00.777Z"
   },
   {
    "duration": 0,
    "start_time": "2024-09-11T12:28:00.779Z"
   },
   {
    "duration": 0,
    "start_time": "2024-09-11T12:28:00.781Z"
   },
   {
    "duration": 0,
    "start_time": "2024-09-11T12:28:00.782Z"
   },
   {
    "duration": 0,
    "start_time": "2024-09-11T12:28:00.784Z"
   },
   {
    "duration": 0,
    "start_time": "2024-09-11T12:28:00.785Z"
   },
   {
    "duration": 0,
    "start_time": "2024-09-11T12:28:00.787Z"
   },
   {
    "duration": 0,
    "start_time": "2024-09-11T12:28:00.788Z"
   },
   {
    "duration": 0,
    "start_time": "2024-09-11T12:28:00.789Z"
   },
   {
    "duration": 0,
    "start_time": "2024-09-11T12:28:00.790Z"
   },
   {
    "duration": 0,
    "start_time": "2024-09-11T12:28:00.791Z"
   },
   {
    "duration": 0,
    "start_time": "2024-09-11T12:28:00.792Z"
   },
   {
    "duration": 0,
    "start_time": "2024-09-11T12:28:00.793Z"
   },
   {
    "duration": 0,
    "start_time": "2024-09-11T12:28:00.857Z"
   },
   {
    "duration": 0,
    "start_time": "2024-09-11T12:28:00.858Z"
   },
   {
    "duration": 0,
    "start_time": "2024-09-11T12:28:00.860Z"
   },
   {
    "duration": 0,
    "start_time": "2024-09-11T12:28:00.861Z"
   },
   {
    "duration": 0,
    "start_time": "2024-09-11T12:28:00.862Z"
   },
   {
    "duration": 0,
    "start_time": "2024-09-11T12:28:00.863Z"
   },
   {
    "duration": 0,
    "start_time": "2024-09-11T12:28:00.864Z"
   },
   {
    "duration": 0,
    "start_time": "2024-09-11T12:28:00.866Z"
   },
   {
    "duration": 0,
    "start_time": "2024-09-11T12:28:00.867Z"
   },
   {
    "duration": 0,
    "start_time": "2024-09-11T12:28:00.868Z"
   },
   {
    "duration": 0,
    "start_time": "2024-09-11T12:28:00.869Z"
   },
   {
    "duration": 0,
    "start_time": "2024-09-11T12:28:00.870Z"
   },
   {
    "duration": 0,
    "start_time": "2024-09-11T12:28:00.871Z"
   },
   {
    "duration": 0,
    "start_time": "2024-09-11T12:28:00.872Z"
   },
   {
    "duration": 0,
    "start_time": "2024-09-11T12:28:00.874Z"
   },
   {
    "duration": 0,
    "start_time": "2024-09-11T12:28:00.875Z"
   },
   {
    "duration": 0,
    "start_time": "2024-09-11T12:28:00.876Z"
   },
   {
    "duration": 0,
    "start_time": "2024-09-11T12:28:00.878Z"
   },
   {
    "duration": 0,
    "start_time": "2024-09-11T12:28:00.879Z"
   },
   {
    "duration": 0,
    "start_time": "2024-09-11T12:28:00.880Z"
   },
   {
    "duration": 0,
    "start_time": "2024-09-11T12:28:00.881Z"
   },
   {
    "duration": 0,
    "start_time": "2024-09-11T12:28:00.882Z"
   },
   {
    "duration": 0,
    "start_time": "2024-09-11T12:28:00.883Z"
   },
   {
    "duration": 0,
    "start_time": "2024-09-11T12:28:00.884Z"
   },
   {
    "duration": 0,
    "start_time": "2024-09-11T12:28:00.885Z"
   },
   {
    "duration": 0,
    "start_time": "2024-09-11T12:28:00.886Z"
   },
   {
    "duration": 0,
    "start_time": "2024-09-11T12:28:00.887Z"
   },
   {
    "duration": 0,
    "start_time": "2024-09-11T12:28:00.888Z"
   },
   {
    "duration": 0,
    "start_time": "2024-09-11T12:28:00.889Z"
   },
   {
    "duration": 0,
    "start_time": "2024-09-11T12:28:00.890Z"
   },
   {
    "duration": 0,
    "start_time": "2024-09-11T12:28:00.891Z"
   },
   {
    "duration": 10072,
    "start_time": "2024-09-11T12:28:15.695Z"
   },
   {
    "duration": 13648,
    "start_time": "2024-09-11T12:30:26.964Z"
   },
   {
    "duration": 2723,
    "start_time": "2024-09-11T12:32:22.733Z"
   },
   {
    "duration": 2779,
    "start_time": "2024-09-11T12:32:41.007Z"
   },
   {
    "duration": 54,
    "start_time": "2024-09-11T12:32:43.788Z"
   },
   {
    "duration": 0,
    "start_time": "2024-09-11T12:32:43.846Z"
   },
   {
    "duration": 0,
    "start_time": "2024-09-11T12:32:43.847Z"
   },
   {
    "duration": 0,
    "start_time": "2024-09-11T12:32:43.848Z"
   },
   {
    "duration": 0,
    "start_time": "2024-09-11T12:32:43.849Z"
   },
   {
    "duration": 0,
    "start_time": "2024-09-11T12:32:43.850Z"
   },
   {
    "duration": 0,
    "start_time": "2024-09-11T12:32:43.851Z"
   },
   {
    "duration": 0,
    "start_time": "2024-09-11T12:32:43.852Z"
   },
   {
    "duration": 0,
    "start_time": "2024-09-11T12:32:43.852Z"
   },
   {
    "duration": 0,
    "start_time": "2024-09-11T12:32:43.853Z"
   },
   {
    "duration": 0,
    "start_time": "2024-09-11T12:32:43.854Z"
   },
   {
    "duration": 0,
    "start_time": "2024-09-11T12:32:43.855Z"
   },
   {
    "duration": 0,
    "start_time": "2024-09-11T12:32:43.856Z"
   },
   {
    "duration": 0,
    "start_time": "2024-09-11T12:32:43.857Z"
   },
   {
    "duration": 0,
    "start_time": "2024-09-11T12:32:43.858Z"
   },
   {
    "duration": 0,
    "start_time": "2024-09-11T12:32:43.859Z"
   },
   {
    "duration": 0,
    "start_time": "2024-09-11T12:32:43.861Z"
   },
   {
    "duration": 0,
    "start_time": "2024-09-11T12:32:43.862Z"
   },
   {
    "duration": 0,
    "start_time": "2024-09-11T12:32:43.863Z"
   },
   {
    "duration": 0,
    "start_time": "2024-09-11T12:32:43.864Z"
   },
   {
    "duration": 0,
    "start_time": "2024-09-11T12:32:43.865Z"
   },
   {
    "duration": 0,
    "start_time": "2024-09-11T12:32:43.866Z"
   },
   {
    "duration": 0,
    "start_time": "2024-09-11T12:32:43.868Z"
   },
   {
    "duration": 0,
    "start_time": "2024-09-11T12:32:43.869Z"
   },
   {
    "duration": 0,
    "start_time": "2024-09-11T12:32:43.869Z"
   },
   {
    "duration": 0,
    "start_time": "2024-09-11T12:32:43.870Z"
   },
   {
    "duration": 0,
    "start_time": "2024-09-11T12:32:43.871Z"
   },
   {
    "duration": 0,
    "start_time": "2024-09-11T12:32:43.872Z"
   },
   {
    "duration": 0,
    "start_time": "2024-09-11T12:32:43.874Z"
   },
   {
    "duration": 0,
    "start_time": "2024-09-11T12:32:43.875Z"
   },
   {
    "duration": 0,
    "start_time": "2024-09-11T12:32:43.876Z"
   },
   {
    "duration": 0,
    "start_time": "2024-09-11T12:32:43.877Z"
   },
   {
    "duration": 0,
    "start_time": "2024-09-11T12:32:43.878Z"
   },
   {
    "duration": 0,
    "start_time": "2024-09-11T12:32:43.879Z"
   },
   {
    "duration": 0,
    "start_time": "2024-09-11T12:32:43.880Z"
   },
   {
    "duration": 0,
    "start_time": "2024-09-11T12:32:43.881Z"
   },
   {
    "duration": 0,
    "start_time": "2024-09-11T12:32:43.882Z"
   },
   {
    "duration": 0,
    "start_time": "2024-09-11T12:32:43.883Z"
   },
   {
    "duration": 0,
    "start_time": "2024-09-11T12:32:43.884Z"
   },
   {
    "duration": 0,
    "start_time": "2024-09-11T12:32:43.885Z"
   },
   {
    "duration": 0,
    "start_time": "2024-09-11T12:32:43.886Z"
   },
   {
    "duration": 0,
    "start_time": "2024-09-11T12:32:43.887Z"
   },
   {
    "duration": 0,
    "start_time": "2024-09-11T12:32:43.888Z"
   },
   {
    "duration": 0,
    "start_time": "2024-09-11T12:32:43.889Z"
   },
   {
    "duration": 0,
    "start_time": "2024-09-11T12:32:43.890Z"
   },
   {
    "duration": 0,
    "start_time": "2024-09-11T12:32:43.891Z"
   },
   {
    "duration": 0,
    "start_time": "2024-09-11T12:32:43.892Z"
   },
   {
    "duration": 0,
    "start_time": "2024-09-11T12:32:43.893Z"
   },
   {
    "duration": 0,
    "start_time": "2024-09-11T12:32:43.955Z"
   },
   {
    "duration": 0,
    "start_time": "2024-09-11T12:32:43.956Z"
   },
   {
    "duration": 0,
    "start_time": "2024-09-11T12:32:43.957Z"
   },
   {
    "duration": 0,
    "start_time": "2024-09-11T12:32:43.958Z"
   },
   {
    "duration": 0,
    "start_time": "2024-09-11T12:32:43.960Z"
   },
   {
    "duration": 0,
    "start_time": "2024-09-11T12:32:43.961Z"
   },
   {
    "duration": 0,
    "start_time": "2024-09-11T12:32:43.962Z"
   },
   {
    "duration": 0,
    "start_time": "2024-09-11T12:32:43.963Z"
   },
   {
    "duration": 0,
    "start_time": "2024-09-11T12:32:43.964Z"
   },
   {
    "duration": 0,
    "start_time": "2024-09-11T12:32:43.965Z"
   },
   {
    "duration": 0,
    "start_time": "2024-09-11T12:32:43.966Z"
   },
   {
    "duration": 0,
    "start_time": "2024-09-11T12:32:43.967Z"
   },
   {
    "duration": 0,
    "start_time": "2024-09-11T12:32:43.968Z"
   },
   {
    "duration": 0,
    "start_time": "2024-09-11T12:32:43.969Z"
   },
   {
    "duration": 0,
    "start_time": "2024-09-11T12:32:43.970Z"
   },
   {
    "duration": 0,
    "start_time": "2024-09-11T12:32:43.971Z"
   },
   {
    "duration": 0,
    "start_time": "2024-09-11T12:32:43.972Z"
   },
   {
    "duration": 1,
    "start_time": "2024-09-11T12:32:43.973Z"
   },
   {
    "duration": 0,
    "start_time": "2024-09-11T12:32:43.975Z"
   },
   {
    "duration": 0,
    "start_time": "2024-09-11T12:32:43.976Z"
   },
   {
    "duration": 0,
    "start_time": "2024-09-11T12:32:43.977Z"
   },
   {
    "duration": 0,
    "start_time": "2024-09-11T12:32:43.978Z"
   },
   {
    "duration": 0,
    "start_time": "2024-09-11T12:32:43.979Z"
   },
   {
    "duration": 0,
    "start_time": "2024-09-11T12:32:43.980Z"
   },
   {
    "duration": 0,
    "start_time": "2024-09-11T12:32:43.981Z"
   },
   {
    "duration": 0,
    "start_time": "2024-09-11T12:32:43.982Z"
   },
   {
    "duration": 0,
    "start_time": "2024-09-11T12:32:43.983Z"
   },
   {
    "duration": 0,
    "start_time": "2024-09-11T12:32:43.984Z"
   },
   {
    "duration": 0,
    "start_time": "2024-09-11T12:32:43.985Z"
   },
   {
    "duration": 0,
    "start_time": "2024-09-11T12:32:43.986Z"
   },
   {
    "duration": 0,
    "start_time": "2024-09-11T12:32:43.988Z"
   },
   {
    "duration": 0,
    "start_time": "2024-09-11T12:32:43.989Z"
   },
   {
    "duration": 0,
    "start_time": "2024-09-11T12:32:43.990Z"
   },
   {
    "duration": 0,
    "start_time": "2024-09-11T12:32:43.991Z"
   },
   {
    "duration": 0,
    "start_time": "2024-09-11T12:32:43.992Z"
   },
   {
    "duration": 0,
    "start_time": "2024-09-11T12:32:44.056Z"
   },
   {
    "duration": 0,
    "start_time": "2024-09-11T12:32:44.057Z"
   },
   {
    "duration": 0,
    "start_time": "2024-09-11T12:32:44.058Z"
   },
   {
    "duration": 0,
    "start_time": "2024-09-11T12:32:44.059Z"
   },
   {
    "duration": 0,
    "start_time": "2024-09-11T12:32:44.060Z"
   },
   {
    "duration": 0,
    "start_time": "2024-09-11T12:32:44.061Z"
   },
   {
    "duration": 0,
    "start_time": "2024-09-11T12:32:44.062Z"
   },
   {
    "duration": 0,
    "start_time": "2024-09-11T12:32:44.064Z"
   },
   {
    "duration": 0,
    "start_time": "2024-09-11T12:32:44.065Z"
   },
   {
    "duration": 0,
    "start_time": "2024-09-11T12:32:44.066Z"
   },
   {
    "duration": 0,
    "start_time": "2024-09-11T12:32:44.067Z"
   },
   {
    "duration": 0,
    "start_time": "2024-09-11T12:32:44.068Z"
   },
   {
    "duration": 0,
    "start_time": "2024-09-11T12:32:44.069Z"
   },
   {
    "duration": 0,
    "start_time": "2024-09-11T12:32:44.070Z"
   },
   {
    "duration": 0,
    "start_time": "2024-09-11T12:32:44.071Z"
   },
   {
    "duration": 0,
    "start_time": "2024-09-11T12:32:44.072Z"
   },
   {
    "duration": 11836,
    "start_time": "2024-09-11T12:33:42.667Z"
   },
   {
    "duration": 8872,
    "start_time": "2024-09-11T12:34:25.112Z"
   },
   {
    "duration": 68,
    "start_time": "2024-09-11T12:34:33.987Z"
   },
   {
    "duration": 0,
    "start_time": "2024-09-11T12:34:34.060Z"
   },
   {
    "duration": 0,
    "start_time": "2024-09-11T12:34:34.061Z"
   },
   {
    "duration": 0,
    "start_time": "2024-09-11T12:34:34.063Z"
   },
   {
    "duration": 0,
    "start_time": "2024-09-11T12:34:34.064Z"
   },
   {
    "duration": 0,
    "start_time": "2024-09-11T12:34:34.065Z"
   },
   {
    "duration": 0,
    "start_time": "2024-09-11T12:34:34.066Z"
   },
   {
    "duration": 0,
    "start_time": "2024-09-11T12:34:34.068Z"
   },
   {
    "duration": 0,
    "start_time": "2024-09-11T12:34:34.069Z"
   },
   {
    "duration": 0,
    "start_time": "2024-09-11T12:34:34.070Z"
   },
   {
    "duration": 0,
    "start_time": "2024-09-11T12:34:34.071Z"
   },
   {
    "duration": 0,
    "start_time": "2024-09-11T12:34:34.072Z"
   },
   {
    "duration": 0,
    "start_time": "2024-09-11T12:34:34.073Z"
   },
   {
    "duration": 0,
    "start_time": "2024-09-11T12:34:34.074Z"
   },
   {
    "duration": 0,
    "start_time": "2024-09-11T12:34:34.075Z"
   },
   {
    "duration": 0,
    "start_time": "2024-09-11T12:34:34.077Z"
   },
   {
    "duration": 0,
    "start_time": "2024-09-11T12:34:34.078Z"
   },
   {
    "duration": 0,
    "start_time": "2024-09-11T12:34:34.079Z"
   },
   {
    "duration": 0,
    "start_time": "2024-09-11T12:34:34.080Z"
   },
   {
    "duration": 0,
    "start_time": "2024-09-11T12:34:34.081Z"
   },
   {
    "duration": 0,
    "start_time": "2024-09-11T12:34:34.082Z"
   },
   {
    "duration": 0,
    "start_time": "2024-09-11T12:34:34.084Z"
   },
   {
    "duration": 0,
    "start_time": "2024-09-11T12:34:34.085Z"
   },
   {
    "duration": 0,
    "start_time": "2024-09-11T12:34:34.086Z"
   },
   {
    "duration": 0,
    "start_time": "2024-09-11T12:34:34.087Z"
   },
   {
    "duration": 0,
    "start_time": "2024-09-11T12:34:34.088Z"
   },
   {
    "duration": 0,
    "start_time": "2024-09-11T12:34:34.089Z"
   },
   {
    "duration": 0,
    "start_time": "2024-09-11T12:34:34.090Z"
   },
   {
    "duration": 0,
    "start_time": "2024-09-11T12:34:34.091Z"
   },
   {
    "duration": 0,
    "start_time": "2024-09-11T12:34:34.092Z"
   },
   {
    "duration": 0,
    "start_time": "2024-09-11T12:34:34.093Z"
   },
   {
    "duration": 0,
    "start_time": "2024-09-11T12:34:34.094Z"
   },
   {
    "duration": 0,
    "start_time": "2024-09-11T12:34:34.155Z"
   },
   {
    "duration": 0,
    "start_time": "2024-09-11T12:34:34.157Z"
   },
   {
    "duration": 0,
    "start_time": "2024-09-11T12:34:34.158Z"
   },
   {
    "duration": 0,
    "start_time": "2024-09-11T12:34:34.159Z"
   },
   {
    "duration": 0,
    "start_time": "2024-09-11T12:34:34.160Z"
   },
   {
    "duration": 0,
    "start_time": "2024-09-11T12:34:34.162Z"
   },
   {
    "duration": 0,
    "start_time": "2024-09-11T12:34:34.163Z"
   },
   {
    "duration": 0,
    "start_time": "2024-09-11T12:34:34.164Z"
   },
   {
    "duration": 0,
    "start_time": "2024-09-11T12:34:34.166Z"
   },
   {
    "duration": 0,
    "start_time": "2024-09-11T12:34:34.167Z"
   },
   {
    "duration": 0,
    "start_time": "2024-09-11T12:34:34.168Z"
   },
   {
    "duration": 0,
    "start_time": "2024-09-11T12:34:34.170Z"
   },
   {
    "duration": 0,
    "start_time": "2024-09-11T12:34:34.171Z"
   },
   {
    "duration": 0,
    "start_time": "2024-09-11T12:34:34.172Z"
   },
   {
    "duration": 0,
    "start_time": "2024-09-11T12:34:34.173Z"
   },
   {
    "duration": 0,
    "start_time": "2024-09-11T12:34:34.174Z"
   },
   {
    "duration": 0,
    "start_time": "2024-09-11T12:34:34.176Z"
   },
   {
    "duration": 0,
    "start_time": "2024-09-11T12:34:34.177Z"
   },
   {
    "duration": 0,
    "start_time": "2024-09-11T12:34:34.178Z"
   },
   {
    "duration": 0,
    "start_time": "2024-09-11T12:34:34.180Z"
   },
   {
    "duration": 0,
    "start_time": "2024-09-11T12:34:34.181Z"
   },
   {
    "duration": 0,
    "start_time": "2024-09-11T12:34:34.182Z"
   },
   {
    "duration": 0,
    "start_time": "2024-09-11T12:34:34.184Z"
   },
   {
    "duration": 0,
    "start_time": "2024-09-11T12:34:34.185Z"
   },
   {
    "duration": 0,
    "start_time": "2024-09-11T12:34:34.186Z"
   },
   {
    "duration": 0,
    "start_time": "2024-09-11T12:34:34.188Z"
   },
   {
    "duration": 0,
    "start_time": "2024-09-11T12:34:34.189Z"
   },
   {
    "duration": 0,
    "start_time": "2024-09-11T12:34:34.190Z"
   },
   {
    "duration": 0,
    "start_time": "2024-09-11T12:34:34.191Z"
   },
   {
    "duration": 0,
    "start_time": "2024-09-11T12:34:34.256Z"
   },
   {
    "duration": 0,
    "start_time": "2024-09-11T12:34:34.257Z"
   },
   {
    "duration": 0,
    "start_time": "2024-09-11T12:34:34.258Z"
   },
   {
    "duration": 0,
    "start_time": "2024-09-11T12:34:34.259Z"
   },
   {
    "duration": 0,
    "start_time": "2024-09-11T12:34:34.260Z"
   },
   {
    "duration": 0,
    "start_time": "2024-09-11T12:34:34.261Z"
   },
   {
    "duration": 0,
    "start_time": "2024-09-11T12:34:34.262Z"
   },
   {
    "duration": 0,
    "start_time": "2024-09-11T12:34:34.263Z"
   },
   {
    "duration": 0,
    "start_time": "2024-09-11T12:34:34.264Z"
   },
   {
    "duration": 0,
    "start_time": "2024-09-11T12:34:34.265Z"
   },
   {
    "duration": 0,
    "start_time": "2024-09-11T12:34:34.267Z"
   },
   {
    "duration": 0,
    "start_time": "2024-09-11T12:34:34.268Z"
   },
   {
    "duration": 0,
    "start_time": "2024-09-11T12:34:34.269Z"
   },
   {
    "duration": 0,
    "start_time": "2024-09-11T12:34:34.270Z"
   },
   {
    "duration": 1,
    "start_time": "2024-09-11T12:34:34.271Z"
   },
   {
    "duration": 0,
    "start_time": "2024-09-11T12:34:34.273Z"
   },
   {
    "duration": 0,
    "start_time": "2024-09-11T12:34:34.274Z"
   },
   {
    "duration": 0,
    "start_time": "2024-09-11T12:34:34.275Z"
   },
   {
    "duration": 0,
    "start_time": "2024-09-11T12:34:34.276Z"
   },
   {
    "duration": 0,
    "start_time": "2024-09-11T12:34:34.277Z"
   },
   {
    "duration": 0,
    "start_time": "2024-09-11T12:34:34.278Z"
   },
   {
    "duration": 0,
    "start_time": "2024-09-11T12:34:34.279Z"
   },
   {
    "duration": 0,
    "start_time": "2024-09-11T12:34:34.281Z"
   },
   {
    "duration": 0,
    "start_time": "2024-09-11T12:34:34.282Z"
   },
   {
    "duration": 0,
    "start_time": "2024-09-11T12:34:34.283Z"
   },
   {
    "duration": 0,
    "start_time": "2024-09-11T12:34:34.284Z"
   },
   {
    "duration": 0,
    "start_time": "2024-09-11T12:34:34.285Z"
   },
   {
    "duration": 0,
    "start_time": "2024-09-11T12:34:34.287Z"
   },
   {
    "duration": 0,
    "start_time": "2024-09-11T12:34:34.288Z"
   },
   {
    "duration": 0,
    "start_time": "2024-09-11T12:34:34.289Z"
   },
   {
    "duration": 0,
    "start_time": "2024-09-11T12:34:34.290Z"
   },
   {
    "duration": 0,
    "start_time": "2024-09-11T12:34:34.356Z"
   },
   {
    "duration": 0,
    "start_time": "2024-09-11T12:34:34.358Z"
   },
   {
    "duration": 0,
    "start_time": "2024-09-11T12:34:34.360Z"
   },
   {
    "duration": 0,
    "start_time": "2024-09-11T12:34:34.361Z"
   },
   {
    "duration": 0,
    "start_time": "2024-09-11T12:34:34.363Z"
   },
   {
    "duration": 1,
    "start_time": "2024-09-11T12:34:34.364Z"
   },
   {
    "duration": 0,
    "start_time": "2024-09-11T12:34:34.366Z"
   },
   {
    "duration": 12257,
    "start_time": "2024-09-11T12:44:12.348Z"
   },
   {
    "duration": 58,
    "start_time": "2024-09-11T12:47:00.704Z"
   },
   {
    "duration": 9115,
    "start_time": "2024-09-11T12:47:12.566Z"
   },
   {
    "duration": 67,
    "start_time": "2024-09-11T12:51:26.334Z"
   },
   {
    "duration": 1,
    "start_time": "2024-09-11T12:51:26.403Z"
   },
   {
    "duration": 0,
    "start_time": "2024-09-11T12:51:26.404Z"
   },
   {
    "duration": 0,
    "start_time": "2024-09-11T12:51:26.405Z"
   },
   {
    "duration": 0,
    "start_time": "2024-09-11T12:51:26.407Z"
   },
   {
    "duration": 0,
    "start_time": "2024-09-11T12:51:26.408Z"
   },
   {
    "duration": 0,
    "start_time": "2024-09-11T12:51:26.409Z"
   },
   {
    "duration": 0,
    "start_time": "2024-09-11T12:51:26.410Z"
   },
   {
    "duration": 0,
    "start_time": "2024-09-11T12:51:26.411Z"
   },
   {
    "duration": 0,
    "start_time": "2024-09-11T12:51:26.412Z"
   },
   {
    "duration": 0,
    "start_time": "2024-09-11T12:51:26.413Z"
   },
   {
    "duration": 0,
    "start_time": "2024-09-11T12:51:26.415Z"
   },
   {
    "duration": 0,
    "start_time": "2024-09-11T12:51:26.416Z"
   },
   {
    "duration": 0,
    "start_time": "2024-09-11T12:51:26.456Z"
   },
   {
    "duration": 0,
    "start_time": "2024-09-11T12:51:26.457Z"
   },
   {
    "duration": 0,
    "start_time": "2024-09-11T12:51:26.458Z"
   },
   {
    "duration": 0,
    "start_time": "2024-09-11T12:51:26.459Z"
   },
   {
    "duration": 0,
    "start_time": "2024-09-11T12:51:26.461Z"
   },
   {
    "duration": 0,
    "start_time": "2024-09-11T12:51:26.462Z"
   },
   {
    "duration": 0,
    "start_time": "2024-09-11T12:51:26.462Z"
   },
   {
    "duration": 0,
    "start_time": "2024-09-11T12:51:26.464Z"
   },
   {
    "duration": 0,
    "start_time": "2024-09-11T12:51:26.465Z"
   },
   {
    "duration": 0,
    "start_time": "2024-09-11T12:51:26.466Z"
   },
   {
    "duration": 0,
    "start_time": "2024-09-11T12:51:26.467Z"
   },
   {
    "duration": 0,
    "start_time": "2024-09-11T12:51:26.468Z"
   },
   {
    "duration": 0,
    "start_time": "2024-09-11T12:51:26.470Z"
   },
   {
    "duration": 0,
    "start_time": "2024-09-11T12:51:26.471Z"
   },
   {
    "duration": 0,
    "start_time": "2024-09-11T12:51:26.472Z"
   },
   {
    "duration": 10,
    "start_time": "2024-09-11T12:51:26.479Z"
   },
   {
    "duration": 0,
    "start_time": "2024-09-11T12:51:26.492Z"
   },
   {
    "duration": 0,
    "start_time": "2024-09-11T12:51:26.494Z"
   },
   {
    "duration": 0,
    "start_time": "2024-09-11T12:51:26.496Z"
   },
   {
    "duration": 0,
    "start_time": "2024-09-11T12:51:26.497Z"
   },
   {
    "duration": 0,
    "start_time": "2024-09-11T12:51:26.556Z"
   },
   {
    "duration": 0,
    "start_time": "2024-09-11T12:51:26.557Z"
   },
   {
    "duration": 0,
    "start_time": "2024-09-11T12:51:26.558Z"
   },
   {
    "duration": 0,
    "start_time": "2024-09-11T12:51:26.560Z"
   },
   {
    "duration": 0,
    "start_time": "2024-09-11T12:51:26.561Z"
   },
   {
    "duration": 0,
    "start_time": "2024-09-11T12:51:26.563Z"
   },
   {
    "duration": 0,
    "start_time": "2024-09-11T12:51:26.564Z"
   },
   {
    "duration": 0,
    "start_time": "2024-09-11T12:51:26.566Z"
   },
   {
    "duration": 0,
    "start_time": "2024-09-11T12:51:26.568Z"
   },
   {
    "duration": 0,
    "start_time": "2024-09-11T12:51:26.569Z"
   },
   {
    "duration": 0,
    "start_time": "2024-09-11T12:51:26.571Z"
   },
   {
    "duration": 0,
    "start_time": "2024-09-11T12:51:26.572Z"
   },
   {
    "duration": 0,
    "start_time": "2024-09-11T12:51:26.574Z"
   },
   {
    "duration": 0,
    "start_time": "2024-09-11T12:51:26.575Z"
   },
   {
    "duration": 0,
    "start_time": "2024-09-11T12:51:26.577Z"
   },
   {
    "duration": 0,
    "start_time": "2024-09-11T12:51:26.578Z"
   },
   {
    "duration": 0,
    "start_time": "2024-09-11T12:51:26.579Z"
   },
   {
    "duration": 0,
    "start_time": "2024-09-11T12:51:26.580Z"
   },
   {
    "duration": 0,
    "start_time": "2024-09-11T12:51:26.581Z"
   },
   {
    "duration": 0,
    "start_time": "2024-09-11T12:51:26.582Z"
   },
   {
    "duration": 0,
    "start_time": "2024-09-11T12:51:26.583Z"
   },
   {
    "duration": 0,
    "start_time": "2024-09-11T12:51:26.584Z"
   },
   {
    "duration": 0,
    "start_time": "2024-09-11T12:51:26.585Z"
   },
   {
    "duration": 0,
    "start_time": "2024-09-11T12:51:26.586Z"
   },
   {
    "duration": 0,
    "start_time": "2024-09-11T12:51:26.587Z"
   },
   {
    "duration": 0,
    "start_time": "2024-09-11T12:51:26.588Z"
   },
   {
    "duration": 0,
    "start_time": "2024-09-11T12:51:26.589Z"
   },
   {
    "duration": 0,
    "start_time": "2024-09-11T12:51:26.591Z"
   },
   {
    "duration": 0,
    "start_time": "2024-09-11T12:51:26.655Z"
   },
   {
    "duration": 0,
    "start_time": "2024-09-11T12:51:26.657Z"
   },
   {
    "duration": 0,
    "start_time": "2024-09-11T12:51:26.659Z"
   },
   {
    "duration": 0,
    "start_time": "2024-09-11T12:51:26.660Z"
   },
   {
    "duration": 0,
    "start_time": "2024-09-11T12:51:26.661Z"
   },
   {
    "duration": 0,
    "start_time": "2024-09-11T12:51:26.662Z"
   },
   {
    "duration": 0,
    "start_time": "2024-09-11T12:51:26.663Z"
   },
   {
    "duration": 0,
    "start_time": "2024-09-11T12:51:26.665Z"
   },
   {
    "duration": 0,
    "start_time": "2024-09-11T12:51:26.666Z"
   },
   {
    "duration": 0,
    "start_time": "2024-09-11T12:51:26.667Z"
   },
   {
    "duration": 0,
    "start_time": "2024-09-11T12:51:26.669Z"
   },
   {
    "duration": 11,
    "start_time": "2024-09-11T12:51:26.675Z"
   },
   {
    "duration": 0,
    "start_time": "2024-09-11T12:51:26.688Z"
   },
   {
    "duration": 0,
    "start_time": "2024-09-11T12:51:26.689Z"
   },
   {
    "duration": 0,
    "start_time": "2024-09-11T12:51:26.690Z"
   },
   {
    "duration": 0,
    "start_time": "2024-09-11T12:51:26.691Z"
   },
   {
    "duration": 0,
    "start_time": "2024-09-11T12:51:26.691Z"
   },
   {
    "duration": 0,
    "start_time": "2024-09-11T12:51:26.692Z"
   },
   {
    "duration": 0,
    "start_time": "2024-09-11T12:51:26.694Z"
   },
   {
    "duration": 0,
    "start_time": "2024-09-11T12:51:26.694Z"
   },
   {
    "duration": 0,
    "start_time": "2024-09-11T12:51:26.755Z"
   },
   {
    "duration": 0,
    "start_time": "2024-09-11T12:51:26.756Z"
   },
   {
    "duration": 0,
    "start_time": "2024-09-11T12:51:26.757Z"
   },
   {
    "duration": 0,
    "start_time": "2024-09-11T12:51:26.758Z"
   },
   {
    "duration": 0,
    "start_time": "2024-09-11T12:51:26.760Z"
   },
   {
    "duration": 0,
    "start_time": "2024-09-11T12:51:26.760Z"
   },
   {
    "duration": 0,
    "start_time": "2024-09-11T12:51:26.762Z"
   },
   {
    "duration": 0,
    "start_time": "2024-09-11T12:51:26.763Z"
   },
   {
    "duration": 0,
    "start_time": "2024-09-11T12:51:26.764Z"
   },
   {
    "duration": 0,
    "start_time": "2024-09-11T12:51:26.765Z"
   },
   {
    "duration": 0,
    "start_time": "2024-09-11T12:51:26.766Z"
   },
   {
    "duration": 0,
    "start_time": "2024-09-11T12:51:26.767Z"
   },
   {
    "duration": 0,
    "start_time": "2024-09-11T12:51:26.769Z"
   },
   {
    "duration": 0,
    "start_time": "2024-09-11T12:51:26.770Z"
   },
   {
    "duration": 0,
    "start_time": "2024-09-11T12:51:26.771Z"
   },
   {
    "duration": 0,
    "start_time": "2024-09-11T12:51:26.772Z"
   },
   {
    "duration": 0,
    "start_time": "2024-09-11T12:51:26.773Z"
   },
   {
    "duration": 0,
    "start_time": "2024-09-11T12:51:26.774Z"
   },
   {
    "duration": 57,
    "start_time": "2024-09-11T12:52:34.147Z"
   },
   {
    "duration": 0,
    "start_time": "2024-09-11T12:52:34.206Z"
   },
   {
    "duration": 0,
    "start_time": "2024-09-11T12:52:34.208Z"
   },
   {
    "duration": 0,
    "start_time": "2024-09-11T12:52:34.209Z"
   },
   {
    "duration": 0,
    "start_time": "2024-09-11T12:52:34.210Z"
   },
   {
    "duration": 0,
    "start_time": "2024-09-11T12:52:34.211Z"
   },
   {
    "duration": 0,
    "start_time": "2024-09-11T12:52:34.213Z"
   },
   {
    "duration": 0,
    "start_time": "2024-09-11T12:52:34.215Z"
   },
   {
    "duration": 0,
    "start_time": "2024-09-11T12:52:34.216Z"
   },
   {
    "duration": 0,
    "start_time": "2024-09-11T12:52:34.218Z"
   },
   {
    "duration": 0,
    "start_time": "2024-09-11T12:52:34.254Z"
   },
   {
    "duration": 0,
    "start_time": "2024-09-11T12:52:34.256Z"
   },
   {
    "duration": 0,
    "start_time": "2024-09-11T12:52:34.257Z"
   },
   {
    "duration": 0,
    "start_time": "2024-09-11T12:52:34.258Z"
   },
   {
    "duration": 1,
    "start_time": "2024-09-11T12:52:34.259Z"
   },
   {
    "duration": 0,
    "start_time": "2024-09-11T12:52:34.261Z"
   },
   {
    "duration": 0,
    "start_time": "2024-09-11T12:52:34.262Z"
   },
   {
    "duration": 0,
    "start_time": "2024-09-11T12:52:34.263Z"
   },
   {
    "duration": 0,
    "start_time": "2024-09-11T12:52:34.264Z"
   },
   {
    "duration": 0,
    "start_time": "2024-09-11T12:52:34.265Z"
   },
   {
    "duration": 0,
    "start_time": "2024-09-11T12:52:34.266Z"
   },
   {
    "duration": 0,
    "start_time": "2024-09-11T12:52:34.268Z"
   },
   {
    "duration": 0,
    "start_time": "2024-09-11T12:52:34.269Z"
   },
   {
    "duration": 7,
    "start_time": "2024-09-11T12:52:34.274Z"
   },
   {
    "duration": 0,
    "start_time": "2024-09-11T12:52:34.284Z"
   },
   {
    "duration": 0,
    "start_time": "2024-09-11T12:52:34.285Z"
   },
   {
    "duration": 0,
    "start_time": "2024-09-11T12:52:34.287Z"
   },
   {
    "duration": 0,
    "start_time": "2024-09-11T12:52:34.288Z"
   },
   {
    "duration": 0,
    "start_time": "2024-09-11T12:52:34.289Z"
   },
   {
    "duration": 0,
    "start_time": "2024-09-11T12:52:34.290Z"
   },
   {
    "duration": 0,
    "start_time": "2024-09-11T12:52:34.291Z"
   },
   {
    "duration": 0,
    "start_time": "2024-09-11T12:52:34.356Z"
   },
   {
    "duration": 0,
    "start_time": "2024-09-11T12:52:34.358Z"
   },
   {
    "duration": 0,
    "start_time": "2024-09-11T12:52:34.359Z"
   },
   {
    "duration": 0,
    "start_time": "2024-09-11T12:52:34.360Z"
   },
   {
    "duration": 0,
    "start_time": "2024-09-11T12:52:34.361Z"
   },
   {
    "duration": 0,
    "start_time": "2024-09-11T12:52:34.362Z"
   },
   {
    "duration": 0,
    "start_time": "2024-09-11T12:52:34.363Z"
   },
   {
    "duration": 0,
    "start_time": "2024-09-11T12:52:34.364Z"
   },
   {
    "duration": 0,
    "start_time": "2024-09-11T12:52:34.366Z"
   },
   {
    "duration": 0,
    "start_time": "2024-09-11T12:52:34.367Z"
   },
   {
    "duration": 0,
    "start_time": "2024-09-11T12:52:34.368Z"
   },
   {
    "duration": 0,
    "start_time": "2024-09-11T12:52:34.370Z"
   },
   {
    "duration": 0,
    "start_time": "2024-09-11T12:52:34.370Z"
   },
   {
    "duration": 0,
    "start_time": "2024-09-11T12:52:34.372Z"
   },
   {
    "duration": 0,
    "start_time": "2024-09-11T12:52:34.373Z"
   },
   {
    "duration": 0,
    "start_time": "2024-09-11T12:52:34.373Z"
   },
   {
    "duration": 0,
    "start_time": "2024-09-11T12:52:34.375Z"
   },
   {
    "duration": 0,
    "start_time": "2024-09-11T12:52:34.376Z"
   },
   {
    "duration": 0,
    "start_time": "2024-09-11T12:52:34.377Z"
   },
   {
    "duration": 0,
    "start_time": "2024-09-11T12:52:34.378Z"
   },
   {
    "duration": 0,
    "start_time": "2024-09-11T12:52:34.379Z"
   },
   {
    "duration": 0,
    "start_time": "2024-09-11T12:52:34.380Z"
   },
   {
    "duration": 0,
    "start_time": "2024-09-11T12:52:34.382Z"
   },
   {
    "duration": 0,
    "start_time": "2024-09-11T12:52:34.383Z"
   },
   {
    "duration": 0,
    "start_time": "2024-09-11T12:52:34.384Z"
   },
   {
    "duration": 0,
    "start_time": "2024-09-11T12:52:34.385Z"
   },
   {
    "duration": 70,
    "start_time": "2024-09-11T12:52:34.392Z"
   },
   {
    "duration": 0,
    "start_time": "2024-09-11T12:52:34.464Z"
   },
   {
    "duration": 0,
    "start_time": "2024-09-11T12:52:34.465Z"
   },
   {
    "duration": 0,
    "start_time": "2024-09-11T12:52:34.467Z"
   },
   {
    "duration": 0,
    "start_time": "2024-09-11T12:52:34.468Z"
   },
   {
    "duration": 0,
    "start_time": "2024-09-11T12:52:34.468Z"
   },
   {
    "duration": 0,
    "start_time": "2024-09-11T12:52:34.469Z"
   },
   {
    "duration": 0,
    "start_time": "2024-09-11T12:52:34.471Z"
   },
   {
    "duration": 0,
    "start_time": "2024-09-11T12:52:34.472Z"
   },
   {
    "duration": 0,
    "start_time": "2024-09-11T12:52:34.473Z"
   },
   {
    "duration": 0,
    "start_time": "2024-09-11T12:52:34.474Z"
   },
   {
    "duration": 0,
    "start_time": "2024-09-11T12:52:34.475Z"
   },
   {
    "duration": 0,
    "start_time": "2024-09-11T12:52:34.476Z"
   },
   {
    "duration": 0,
    "start_time": "2024-09-11T12:52:34.477Z"
   },
   {
    "duration": 0,
    "start_time": "2024-09-11T12:52:34.478Z"
   },
   {
    "duration": 0,
    "start_time": "2024-09-11T12:52:34.479Z"
   },
   {
    "duration": 0,
    "start_time": "2024-09-11T12:52:34.480Z"
   },
   {
    "duration": 0,
    "start_time": "2024-09-11T12:52:34.481Z"
   },
   {
    "duration": 0,
    "start_time": "2024-09-11T12:52:34.482Z"
   },
   {
    "duration": 0,
    "start_time": "2024-09-11T12:52:34.483Z"
   },
   {
    "duration": 0,
    "start_time": "2024-09-11T12:52:34.484Z"
   },
   {
    "duration": 0,
    "start_time": "2024-09-11T12:52:34.485Z"
   },
   {
    "duration": 0,
    "start_time": "2024-09-11T12:52:34.486Z"
   },
   {
    "duration": 0,
    "start_time": "2024-09-11T12:52:34.487Z"
   },
   {
    "duration": 0,
    "start_time": "2024-09-11T12:52:34.489Z"
   },
   {
    "duration": 0,
    "start_time": "2024-09-11T12:52:34.490Z"
   },
   {
    "duration": 0,
    "start_time": "2024-09-11T12:52:34.491Z"
   },
   {
    "duration": 0,
    "start_time": "2024-09-11T12:52:34.492Z"
   },
   {
    "duration": 0,
    "start_time": "2024-09-11T12:52:34.493Z"
   },
   {
    "duration": 0,
    "start_time": "2024-09-11T12:52:34.555Z"
   },
   {
    "duration": 0,
    "start_time": "2024-09-11T12:52:34.557Z"
   },
   {
    "duration": 0,
    "start_time": "2024-09-11T12:52:34.558Z"
   },
   {
    "duration": 0,
    "start_time": "2024-09-11T12:52:34.560Z"
   },
   {
    "duration": 0,
    "start_time": "2024-09-11T12:52:34.561Z"
   },
   {
    "duration": 0,
    "start_time": "2024-09-11T12:52:34.562Z"
   },
   {
    "duration": 0,
    "start_time": "2024-09-11T12:52:34.563Z"
   },
   {
    "duration": 0,
    "start_time": "2024-09-11T12:52:34.564Z"
   },
   {
    "duration": 0,
    "start_time": "2024-09-11T12:52:34.565Z"
   },
   {
    "duration": 0,
    "start_time": "2024-09-11T12:52:34.566Z"
   },
   {
    "duration": 0,
    "start_time": "2024-09-11T12:52:34.567Z"
   },
   {
    "duration": 0,
    "start_time": "2024-09-11T12:52:34.568Z"
   },
   {
    "duration": 0,
    "start_time": "2024-09-11T12:52:34.569Z"
   },
   {
    "duration": 5614,
    "start_time": "2024-09-11T12:55:22.833Z"
   },
   {
    "duration": 15,
    "start_time": "2024-09-11T12:56:31.402Z"
   },
   {
    "duration": 13,
    "start_time": "2024-09-11T12:56:46.375Z"
   },
   {
    "duration": 6715,
    "start_time": "2024-09-11T12:57:59.993Z"
   },
   {
    "duration": 61,
    "start_time": "2024-09-11T12:58:06.711Z"
   },
   {
    "duration": 0,
    "start_time": "2024-09-11T12:58:06.776Z"
   },
   {
    "duration": 0,
    "start_time": "2024-09-11T12:58:06.777Z"
   },
   {
    "duration": 0,
    "start_time": "2024-09-11T12:58:06.779Z"
   },
   {
    "duration": 0,
    "start_time": "2024-09-11T12:58:06.781Z"
   },
   {
    "duration": 0,
    "start_time": "2024-09-11T12:58:06.782Z"
   },
   {
    "duration": 0,
    "start_time": "2024-09-11T12:58:06.784Z"
   },
   {
    "duration": 0,
    "start_time": "2024-09-11T12:58:06.785Z"
   },
   {
    "duration": 0,
    "start_time": "2024-09-11T12:58:06.787Z"
   },
   {
    "duration": 0,
    "start_time": "2024-09-11T12:58:06.788Z"
   },
   {
    "duration": 0,
    "start_time": "2024-09-11T12:58:06.789Z"
   },
   {
    "duration": 0,
    "start_time": "2024-09-11T12:58:06.791Z"
   },
   {
    "duration": 0,
    "start_time": "2024-09-11T12:58:06.792Z"
   },
   {
    "duration": 0,
    "start_time": "2024-09-11T12:58:06.794Z"
   },
   {
    "duration": 0,
    "start_time": "2024-09-11T12:58:06.795Z"
   },
   {
    "duration": 0,
    "start_time": "2024-09-11T12:58:06.797Z"
   },
   {
    "duration": 0,
    "start_time": "2024-09-11T12:58:06.798Z"
   },
   {
    "duration": 1,
    "start_time": "2024-09-11T12:58:06.799Z"
   },
   {
    "duration": 0,
    "start_time": "2024-09-11T12:58:06.801Z"
   },
   {
    "duration": 0,
    "start_time": "2024-09-11T12:58:06.802Z"
   },
   {
    "duration": 0,
    "start_time": "2024-09-11T12:58:06.803Z"
   },
   {
    "duration": 0,
    "start_time": "2024-09-11T12:58:06.805Z"
   },
   {
    "duration": 0,
    "start_time": "2024-09-11T12:58:06.855Z"
   },
   {
    "duration": 0,
    "start_time": "2024-09-11T12:58:06.858Z"
   },
   {
    "duration": 0,
    "start_time": "2024-09-11T12:58:06.859Z"
   },
   {
    "duration": 0,
    "start_time": "2024-09-11T12:58:06.861Z"
   },
   {
    "duration": 0,
    "start_time": "2024-09-11T12:58:06.862Z"
   },
   {
    "duration": 0,
    "start_time": "2024-09-11T12:58:06.864Z"
   },
   {
    "duration": 0,
    "start_time": "2024-09-11T12:58:06.865Z"
   },
   {
    "duration": 0,
    "start_time": "2024-09-11T12:58:06.866Z"
   },
   {
    "duration": 0,
    "start_time": "2024-09-11T12:58:06.867Z"
   },
   {
    "duration": 0,
    "start_time": "2024-09-11T12:58:06.869Z"
   },
   {
    "duration": 0,
    "start_time": "2024-09-11T12:58:06.870Z"
   },
   {
    "duration": 0,
    "start_time": "2024-09-11T12:58:06.872Z"
   },
   {
    "duration": 0,
    "start_time": "2024-09-11T12:58:06.873Z"
   },
   {
    "duration": 0,
    "start_time": "2024-09-11T12:58:06.874Z"
   },
   {
    "duration": 0,
    "start_time": "2024-09-11T12:58:06.876Z"
   },
   {
    "duration": 0,
    "start_time": "2024-09-11T12:58:06.878Z"
   },
   {
    "duration": 0,
    "start_time": "2024-09-11T12:58:06.879Z"
   },
   {
    "duration": 0,
    "start_time": "2024-09-11T12:58:06.881Z"
   },
   {
    "duration": 0,
    "start_time": "2024-09-11T12:58:06.882Z"
   },
   {
    "duration": 0,
    "start_time": "2024-09-11T12:58:06.883Z"
   },
   {
    "duration": 0,
    "start_time": "2024-09-11T12:58:06.885Z"
   },
   {
    "duration": 0,
    "start_time": "2024-09-11T12:58:06.886Z"
   },
   {
    "duration": 0,
    "start_time": "2024-09-11T12:58:06.888Z"
   },
   {
    "duration": 0,
    "start_time": "2024-09-11T12:58:06.889Z"
   },
   {
    "duration": 0,
    "start_time": "2024-09-11T12:58:06.890Z"
   },
   {
    "duration": 0,
    "start_time": "2024-09-11T12:58:06.891Z"
   },
   {
    "duration": 0,
    "start_time": "2024-09-11T12:58:06.893Z"
   },
   {
    "duration": 0,
    "start_time": "2024-09-11T12:58:06.955Z"
   },
   {
    "duration": 0,
    "start_time": "2024-09-11T12:58:06.957Z"
   },
   {
    "duration": 0,
    "start_time": "2024-09-11T12:58:06.958Z"
   },
   {
    "duration": 0,
    "start_time": "2024-09-11T12:58:06.960Z"
   },
   {
    "duration": 0,
    "start_time": "2024-09-11T12:58:06.961Z"
   },
   {
    "duration": 0,
    "start_time": "2024-09-11T12:58:06.962Z"
   },
   {
    "duration": 0,
    "start_time": "2024-09-11T12:58:06.963Z"
   },
   {
    "duration": 0,
    "start_time": "2024-09-11T12:58:06.965Z"
   },
   {
    "duration": 0,
    "start_time": "2024-09-11T12:58:06.966Z"
   },
   {
    "duration": 0,
    "start_time": "2024-09-11T12:58:06.967Z"
   },
   {
    "duration": 0,
    "start_time": "2024-09-11T12:58:06.969Z"
   },
   {
    "duration": 0,
    "start_time": "2024-09-11T12:58:06.970Z"
   },
   {
    "duration": 0,
    "start_time": "2024-09-11T12:58:06.971Z"
   },
   {
    "duration": 0,
    "start_time": "2024-09-11T12:58:06.972Z"
   },
   {
    "duration": 0,
    "start_time": "2024-09-11T12:58:06.973Z"
   },
   {
    "duration": 0,
    "start_time": "2024-09-11T12:58:06.974Z"
   },
   {
    "duration": 0,
    "start_time": "2024-09-11T12:58:06.976Z"
   },
   {
    "duration": 0,
    "start_time": "2024-09-11T12:58:06.977Z"
   },
   {
    "duration": 0,
    "start_time": "2024-09-11T12:58:06.978Z"
   },
   {
    "duration": 0,
    "start_time": "2024-09-11T12:58:06.979Z"
   },
   {
    "duration": 0,
    "start_time": "2024-09-11T12:58:06.981Z"
   },
   {
    "duration": 0,
    "start_time": "2024-09-11T12:58:06.982Z"
   },
   {
    "duration": 0,
    "start_time": "2024-09-11T12:58:06.983Z"
   },
   {
    "duration": 0,
    "start_time": "2024-09-11T12:58:06.984Z"
   },
   {
    "duration": 0,
    "start_time": "2024-09-11T12:58:06.986Z"
   },
   {
    "duration": 0,
    "start_time": "2024-09-11T12:58:06.987Z"
   },
   {
    "duration": 0,
    "start_time": "2024-09-11T12:58:06.989Z"
   },
   {
    "duration": 0,
    "start_time": "2024-09-11T12:58:06.990Z"
   },
   {
    "duration": 0,
    "start_time": "2024-09-11T12:58:07.055Z"
   },
   {
    "duration": 0,
    "start_time": "2024-09-11T12:58:07.056Z"
   },
   {
    "duration": 1,
    "start_time": "2024-09-11T12:58:07.057Z"
   },
   {
    "duration": 0,
    "start_time": "2024-09-11T12:58:07.059Z"
   },
   {
    "duration": 0,
    "start_time": "2024-09-11T12:58:07.060Z"
   },
   {
    "duration": 0,
    "start_time": "2024-09-11T12:58:07.062Z"
   },
   {
    "duration": 0,
    "start_time": "2024-09-11T12:58:07.063Z"
   },
   {
    "duration": 0,
    "start_time": "2024-09-11T12:58:07.064Z"
   },
   {
    "duration": 0,
    "start_time": "2024-09-11T12:58:07.065Z"
   },
   {
    "duration": 0,
    "start_time": "2024-09-11T12:58:07.066Z"
   },
   {
    "duration": 0,
    "start_time": "2024-09-11T12:58:07.068Z"
   },
   {
    "duration": 0,
    "start_time": "2024-09-11T12:58:07.069Z"
   },
   {
    "duration": 0,
    "start_time": "2024-09-11T12:58:07.071Z"
   },
   {
    "duration": 0,
    "start_time": "2024-09-11T12:58:07.072Z"
   },
   {
    "duration": 0,
    "start_time": "2024-09-11T12:58:07.073Z"
   },
   {
    "duration": 0,
    "start_time": "2024-09-11T12:58:07.074Z"
   },
   {
    "duration": 0,
    "start_time": "2024-09-11T12:58:07.076Z"
   },
   {
    "duration": 0,
    "start_time": "2024-09-11T12:58:07.077Z"
   },
   {
    "duration": 0,
    "start_time": "2024-09-11T12:58:07.078Z"
   },
   {
    "duration": 0,
    "start_time": "2024-09-11T12:58:07.079Z"
   },
   {
    "duration": 0,
    "start_time": "2024-09-11T12:58:07.080Z"
   },
   {
    "duration": 0,
    "start_time": "2024-09-11T12:58:07.081Z"
   },
   {
    "duration": 5816,
    "start_time": "2024-09-11T13:02:49.768Z"
   },
   {
    "duration": 95,
    "start_time": "2024-09-11T13:02:55.586Z"
   },
   {
    "duration": 0,
    "start_time": "2024-09-11T13:02:55.685Z"
   },
   {
    "duration": 0,
    "start_time": "2024-09-11T13:02:55.687Z"
   },
   {
    "duration": 0,
    "start_time": "2024-09-11T13:02:55.689Z"
   },
   {
    "duration": 0,
    "start_time": "2024-09-11T13:02:55.690Z"
   },
   {
    "duration": 0,
    "start_time": "2024-09-11T13:02:55.692Z"
   },
   {
    "duration": 0,
    "start_time": "2024-09-11T13:02:55.693Z"
   },
   {
    "duration": 0,
    "start_time": "2024-09-11T13:02:55.694Z"
   },
   {
    "duration": 0,
    "start_time": "2024-09-11T13:02:55.695Z"
   },
   {
    "duration": 0,
    "start_time": "2024-09-11T13:02:55.696Z"
   },
   {
    "duration": 0,
    "start_time": "2024-09-11T13:02:55.698Z"
   },
   {
    "duration": 0,
    "start_time": "2024-09-11T13:02:55.755Z"
   },
   {
    "duration": 0,
    "start_time": "2024-09-11T13:02:55.757Z"
   },
   {
    "duration": 0,
    "start_time": "2024-09-11T13:02:55.759Z"
   },
   {
    "duration": 0,
    "start_time": "2024-09-11T13:02:55.760Z"
   },
   {
    "duration": 0,
    "start_time": "2024-09-11T13:02:55.762Z"
   },
   {
    "duration": 0,
    "start_time": "2024-09-11T13:02:55.763Z"
   },
   {
    "duration": 0,
    "start_time": "2024-09-11T13:02:55.765Z"
   },
   {
    "duration": 0,
    "start_time": "2024-09-11T13:02:55.766Z"
   },
   {
    "duration": 0,
    "start_time": "2024-09-11T13:02:55.768Z"
   },
   {
    "duration": 0,
    "start_time": "2024-09-11T13:02:55.769Z"
   },
   {
    "duration": 0,
    "start_time": "2024-09-11T13:02:55.771Z"
   },
   {
    "duration": 0,
    "start_time": "2024-09-11T13:02:55.772Z"
   },
   {
    "duration": 1,
    "start_time": "2024-09-11T13:02:55.773Z"
   },
   {
    "duration": 0,
    "start_time": "2024-09-11T13:02:55.775Z"
   },
   {
    "duration": 0,
    "start_time": "2024-09-11T13:02:55.777Z"
   },
   {
    "duration": 0,
    "start_time": "2024-09-11T13:02:55.778Z"
   },
   {
    "duration": 0,
    "start_time": "2024-09-11T13:02:55.780Z"
   },
   {
    "duration": 0,
    "start_time": "2024-09-11T13:02:55.782Z"
   },
   {
    "duration": 0,
    "start_time": "2024-09-11T13:02:55.784Z"
   },
   {
    "duration": 0,
    "start_time": "2024-09-11T13:02:55.785Z"
   },
   {
    "duration": 0,
    "start_time": "2024-09-11T13:02:55.787Z"
   },
   {
    "duration": 0,
    "start_time": "2024-09-11T13:02:55.788Z"
   },
   {
    "duration": 0,
    "start_time": "2024-09-11T13:02:55.790Z"
   },
   {
    "duration": 0,
    "start_time": "2024-09-11T13:02:55.792Z"
   },
   {
    "duration": 0,
    "start_time": "2024-09-11T13:02:55.793Z"
   },
   {
    "duration": 0,
    "start_time": "2024-09-11T13:02:55.795Z"
   },
   {
    "duration": 0,
    "start_time": "2024-09-11T13:02:55.857Z"
   },
   {
    "duration": 0,
    "start_time": "2024-09-11T13:02:55.858Z"
   },
   {
    "duration": 0,
    "start_time": "2024-09-11T13:02:55.861Z"
   },
   {
    "duration": 0,
    "start_time": "2024-09-11T13:02:55.862Z"
   },
   {
    "duration": 0,
    "start_time": "2024-09-11T13:02:55.863Z"
   },
   {
    "duration": 0,
    "start_time": "2024-09-11T13:02:55.865Z"
   },
   {
    "duration": 0,
    "start_time": "2024-09-11T13:02:55.867Z"
   },
   {
    "duration": 0,
    "start_time": "2024-09-11T13:02:55.869Z"
   },
   {
    "duration": 0,
    "start_time": "2024-09-11T13:02:55.870Z"
   },
   {
    "duration": 0,
    "start_time": "2024-09-11T13:02:55.872Z"
   },
   {
    "duration": 0,
    "start_time": "2024-09-11T13:02:55.874Z"
   },
   {
    "duration": 0,
    "start_time": "2024-09-11T13:02:55.875Z"
   },
   {
    "duration": 0,
    "start_time": "2024-09-11T13:02:55.877Z"
   },
   {
    "duration": 0,
    "start_time": "2024-09-11T13:02:55.878Z"
   },
   {
    "duration": 0,
    "start_time": "2024-09-11T13:02:55.880Z"
   },
   {
    "duration": 0,
    "start_time": "2024-09-11T13:02:55.882Z"
   },
   {
    "duration": 0,
    "start_time": "2024-09-11T13:02:55.884Z"
   },
   {
    "duration": 0,
    "start_time": "2024-09-11T13:02:55.885Z"
   },
   {
    "duration": 0,
    "start_time": "2024-09-11T13:02:55.887Z"
   },
   {
    "duration": 0,
    "start_time": "2024-09-11T13:02:55.892Z"
   },
   {
    "duration": 0,
    "start_time": "2024-09-11T13:02:55.893Z"
   },
   {
    "duration": 0,
    "start_time": "2024-09-11T13:02:55.955Z"
   },
   {
    "duration": 0,
    "start_time": "2024-09-11T13:02:55.957Z"
   },
   {
    "duration": 0,
    "start_time": "2024-09-11T13:02:55.958Z"
   },
   {
    "duration": 0,
    "start_time": "2024-09-11T13:02:55.959Z"
   },
   {
    "duration": 0,
    "start_time": "2024-09-11T13:02:55.960Z"
   },
   {
    "duration": 0,
    "start_time": "2024-09-11T13:02:55.962Z"
   },
   {
    "duration": 0,
    "start_time": "2024-09-11T13:02:55.963Z"
   },
   {
    "duration": 0,
    "start_time": "2024-09-11T13:02:55.964Z"
   },
   {
    "duration": 0,
    "start_time": "2024-09-11T13:02:55.965Z"
   },
   {
    "duration": 0,
    "start_time": "2024-09-11T13:02:55.966Z"
   },
   {
    "duration": 0,
    "start_time": "2024-09-11T13:02:55.967Z"
   },
   {
    "duration": 0,
    "start_time": "2024-09-11T13:02:55.967Z"
   },
   {
    "duration": 0,
    "start_time": "2024-09-11T13:02:55.968Z"
   },
   {
    "duration": 0,
    "start_time": "2024-09-11T13:02:55.969Z"
   },
   {
    "duration": 0,
    "start_time": "2024-09-11T13:02:55.970Z"
   },
   {
    "duration": 0,
    "start_time": "2024-09-11T13:02:55.971Z"
   },
   {
    "duration": 0,
    "start_time": "2024-09-11T13:02:55.972Z"
   },
   {
    "duration": 0,
    "start_time": "2024-09-11T13:02:55.973Z"
   },
   {
    "duration": 0,
    "start_time": "2024-09-11T13:02:55.974Z"
   },
   {
    "duration": 0,
    "start_time": "2024-09-11T13:02:55.975Z"
   },
   {
    "duration": 0,
    "start_time": "2024-09-11T13:02:55.976Z"
   },
   {
    "duration": 0,
    "start_time": "2024-09-11T13:02:55.977Z"
   },
   {
    "duration": 0,
    "start_time": "2024-09-11T13:02:55.978Z"
   },
   {
    "duration": 0,
    "start_time": "2024-09-11T13:02:55.979Z"
   },
   {
    "duration": 0,
    "start_time": "2024-09-11T13:02:55.980Z"
   },
   {
    "duration": 0,
    "start_time": "2024-09-11T13:02:55.981Z"
   },
   {
    "duration": 0,
    "start_time": "2024-09-11T13:02:55.982Z"
   },
   {
    "duration": 0,
    "start_time": "2024-09-11T13:02:55.983Z"
   },
   {
    "duration": 0,
    "start_time": "2024-09-11T13:02:55.984Z"
   },
   {
    "duration": 0,
    "start_time": "2024-09-11T13:02:55.985Z"
   },
   {
    "duration": 0,
    "start_time": "2024-09-11T13:02:55.986Z"
   },
   {
    "duration": 0,
    "start_time": "2024-09-11T13:02:55.988Z"
   },
   {
    "duration": 0,
    "start_time": "2024-09-11T13:02:55.988Z"
   },
   {
    "duration": 0,
    "start_time": "2024-09-11T13:02:55.989Z"
   },
   {
    "duration": 0,
    "start_time": "2024-09-11T13:02:55.991Z"
   },
   {
    "duration": 0,
    "start_time": "2024-09-11T13:02:55.992Z"
   },
   {
    "duration": 0,
    "start_time": "2024-09-11T13:02:56.056Z"
   },
   {
    "duration": 0,
    "start_time": "2024-09-11T13:02:56.057Z"
   },
   {
    "duration": 0,
    "start_time": "2024-09-11T13:02:56.059Z"
   },
   {
    "duration": 0,
    "start_time": "2024-09-11T13:02:56.060Z"
   },
   {
    "duration": 0,
    "start_time": "2024-09-11T13:02:56.062Z"
   },
   {
    "duration": 13642,
    "start_time": "2024-09-11T15:26:57.906Z"
   },
   {
    "duration": 1656,
    "start_time": "2024-09-11T15:27:11.550Z"
   },
   {
    "duration": 0,
    "start_time": "2024-09-11T15:27:13.210Z"
   },
   {
    "duration": 0,
    "start_time": "2024-09-11T15:27:13.211Z"
   },
   {
    "duration": 0,
    "start_time": "2024-09-11T15:27:13.212Z"
   },
   {
    "duration": 0,
    "start_time": "2024-09-11T15:27:13.213Z"
   },
   {
    "duration": 0,
    "start_time": "2024-09-11T15:27:13.214Z"
   },
   {
    "duration": 0,
    "start_time": "2024-09-11T15:27:13.215Z"
   },
   {
    "duration": 0,
    "start_time": "2024-09-11T15:27:13.217Z"
   },
   {
    "duration": 0,
    "start_time": "2024-09-11T15:27:13.218Z"
   },
   {
    "duration": 0,
    "start_time": "2024-09-11T15:27:13.219Z"
   },
   {
    "duration": 0,
    "start_time": "2024-09-11T15:27:13.220Z"
   },
   {
    "duration": 0,
    "start_time": "2024-09-11T15:27:13.221Z"
   },
   {
    "duration": 0,
    "start_time": "2024-09-11T15:27:13.222Z"
   },
   {
    "duration": 0,
    "start_time": "2024-09-11T15:27:13.222Z"
   },
   {
    "duration": 0,
    "start_time": "2024-09-11T15:27:13.223Z"
   },
   {
    "duration": 0,
    "start_time": "2024-09-11T15:27:13.224Z"
   },
   {
    "duration": 0,
    "start_time": "2024-09-11T15:27:13.225Z"
   },
   {
    "duration": 0,
    "start_time": "2024-09-11T15:27:13.226Z"
   },
   {
    "duration": 0,
    "start_time": "2024-09-11T15:27:13.227Z"
   },
   {
    "duration": 0,
    "start_time": "2024-09-11T15:27:13.228Z"
   },
   {
    "duration": 0,
    "start_time": "2024-09-11T15:27:13.229Z"
   },
   {
    "duration": 0,
    "start_time": "2024-09-11T15:27:13.230Z"
   },
   {
    "duration": 0,
    "start_time": "2024-09-11T15:27:13.231Z"
   },
   {
    "duration": 0,
    "start_time": "2024-09-11T15:27:13.232Z"
   },
   {
    "duration": 0,
    "start_time": "2024-09-11T15:27:13.234Z"
   },
   {
    "duration": 0,
    "start_time": "2024-09-11T15:27:13.235Z"
   },
   {
    "duration": 0,
    "start_time": "2024-09-11T15:27:13.236Z"
   },
   {
    "duration": 0,
    "start_time": "2024-09-11T15:27:13.237Z"
   },
   {
    "duration": 0,
    "start_time": "2024-09-11T15:27:13.238Z"
   },
   {
    "duration": 1,
    "start_time": "2024-09-11T15:27:13.238Z"
   },
   {
    "duration": 0,
    "start_time": "2024-09-11T15:27:13.240Z"
   },
   {
    "duration": 0,
    "start_time": "2024-09-11T15:27:13.241Z"
   },
   {
    "duration": 0,
    "start_time": "2024-09-11T15:27:13.242Z"
   },
   {
    "duration": 0,
    "start_time": "2024-09-11T15:27:13.243Z"
   },
   {
    "duration": 1,
    "start_time": "2024-09-11T15:27:13.243Z"
   },
   {
    "duration": 0,
    "start_time": "2024-09-11T15:27:13.244Z"
   },
   {
    "duration": 0,
    "start_time": "2024-09-11T15:27:13.306Z"
   },
   {
    "duration": 0,
    "start_time": "2024-09-11T15:27:13.307Z"
   },
   {
    "duration": 0,
    "start_time": "2024-09-11T15:27:13.308Z"
   },
   {
    "duration": 0,
    "start_time": "2024-09-11T15:27:13.309Z"
   },
   {
    "duration": 0,
    "start_time": "2024-09-11T15:27:13.310Z"
   },
   {
    "duration": 0,
    "start_time": "2024-09-11T15:27:13.311Z"
   },
   {
    "duration": 0,
    "start_time": "2024-09-11T15:27:13.312Z"
   },
   {
    "duration": 0,
    "start_time": "2024-09-11T15:27:13.313Z"
   },
   {
    "duration": 0,
    "start_time": "2024-09-11T15:27:13.314Z"
   },
   {
    "duration": 0,
    "start_time": "2024-09-11T15:27:13.315Z"
   },
   {
    "duration": 0,
    "start_time": "2024-09-11T15:27:13.316Z"
   },
   {
    "duration": 0,
    "start_time": "2024-09-11T15:27:13.317Z"
   },
   {
    "duration": 0,
    "start_time": "2024-09-11T15:27:13.318Z"
   },
   {
    "duration": 0,
    "start_time": "2024-09-11T15:27:13.320Z"
   },
   {
    "duration": 0,
    "start_time": "2024-09-11T15:27:13.321Z"
   },
   {
    "duration": 0,
    "start_time": "2024-09-11T15:27:13.322Z"
   },
   {
    "duration": 0,
    "start_time": "2024-09-11T15:27:13.323Z"
   },
   {
    "duration": 0,
    "start_time": "2024-09-11T15:27:13.324Z"
   },
   {
    "duration": 0,
    "start_time": "2024-09-11T15:27:13.325Z"
   },
   {
    "duration": 0,
    "start_time": "2024-09-11T15:27:13.327Z"
   },
   {
    "duration": 0,
    "start_time": "2024-09-11T15:27:13.327Z"
   },
   {
    "duration": 0,
    "start_time": "2024-09-11T15:27:13.329Z"
   },
   {
    "duration": 0,
    "start_time": "2024-09-11T15:27:13.330Z"
   },
   {
    "duration": 0,
    "start_time": "2024-09-11T15:27:13.331Z"
   },
   {
    "duration": 0,
    "start_time": "2024-09-11T15:27:13.332Z"
   },
   {
    "duration": 0,
    "start_time": "2024-09-11T15:27:13.333Z"
   },
   {
    "duration": 0,
    "start_time": "2024-09-11T15:27:13.334Z"
   },
   {
    "duration": 0,
    "start_time": "2024-09-11T15:27:13.335Z"
   },
   {
    "duration": 0,
    "start_time": "2024-09-11T15:27:13.336Z"
   },
   {
    "duration": 0,
    "start_time": "2024-09-11T15:27:13.337Z"
   },
   {
    "duration": 0,
    "start_time": "2024-09-11T15:27:13.338Z"
   },
   {
    "duration": 0,
    "start_time": "2024-09-11T15:27:13.340Z"
   },
   {
    "duration": 0,
    "start_time": "2024-09-11T15:27:13.341Z"
   },
   {
    "duration": 0,
    "start_time": "2024-09-11T15:27:13.404Z"
   },
   {
    "duration": 0,
    "start_time": "2024-09-11T15:27:13.406Z"
   },
   {
    "duration": 0,
    "start_time": "2024-09-11T15:27:13.407Z"
   },
   {
    "duration": 0,
    "start_time": "2024-09-11T15:27:13.408Z"
   },
   {
    "duration": 0,
    "start_time": "2024-09-11T15:27:13.409Z"
   },
   {
    "duration": 0,
    "start_time": "2024-09-11T15:27:13.410Z"
   },
   {
    "duration": 0,
    "start_time": "2024-09-11T15:27:13.411Z"
   },
   {
    "duration": 0,
    "start_time": "2024-09-11T15:27:13.412Z"
   },
   {
    "duration": 0,
    "start_time": "2024-09-11T15:27:13.413Z"
   },
   {
    "duration": 0,
    "start_time": "2024-09-11T15:27:13.414Z"
   },
   {
    "duration": 0,
    "start_time": "2024-09-11T15:27:13.415Z"
   },
   {
    "duration": 1,
    "start_time": "2024-09-11T15:27:13.416Z"
   },
   {
    "duration": 0,
    "start_time": "2024-09-11T15:27:13.418Z"
   },
   {
    "duration": 0,
    "start_time": "2024-09-11T15:27:13.418Z"
   },
   {
    "duration": 0,
    "start_time": "2024-09-11T15:27:13.420Z"
   },
   {
    "duration": 0,
    "start_time": "2024-09-11T15:27:13.421Z"
   },
   {
    "duration": 0,
    "start_time": "2024-09-11T15:27:13.422Z"
   },
   {
    "duration": 0,
    "start_time": "2024-09-11T15:27:13.423Z"
   },
   {
    "duration": 0,
    "start_time": "2024-09-11T15:27:13.424Z"
   },
   {
    "duration": 0,
    "start_time": "2024-09-11T15:27:13.424Z"
   },
   {
    "duration": 0,
    "start_time": "2024-09-11T15:27:13.425Z"
   },
   {
    "duration": 0,
    "start_time": "2024-09-11T15:27:13.427Z"
   },
   {
    "duration": 0,
    "start_time": "2024-09-11T15:27:13.427Z"
   },
   {
    "duration": 0,
    "start_time": "2024-09-11T15:27:13.428Z"
   },
   {
    "duration": 0,
    "start_time": "2024-09-11T15:27:13.429Z"
   },
   {
    "duration": 0,
    "start_time": "2024-09-11T15:27:13.431Z"
   },
   {
    "duration": 0,
    "start_time": "2024-09-11T15:27:13.432Z"
   },
   {
    "duration": 0,
    "start_time": "2024-09-11T15:27:13.433Z"
   },
   {
    "duration": 0,
    "start_time": "2024-09-11T15:27:13.434Z"
   },
   {
    "duration": 0,
    "start_time": "2024-09-11T15:27:13.435Z"
   },
   {
    "duration": 13055,
    "start_time": "2024-09-11T15:27:52.492Z"
   },
   {
    "duration": 1456,
    "start_time": "2024-09-11T15:28:05.549Z"
   },
   {
    "duration": 0,
    "start_time": "2024-09-11T15:28:07.009Z"
   },
   {
    "duration": 0,
    "start_time": "2024-09-11T15:28:07.010Z"
   },
   {
    "duration": 0,
    "start_time": "2024-09-11T15:28:07.012Z"
   },
   {
    "duration": 0,
    "start_time": "2024-09-11T15:28:07.013Z"
   },
   {
    "duration": 0,
    "start_time": "2024-09-11T15:28:07.014Z"
   },
   {
    "duration": 0,
    "start_time": "2024-09-11T15:28:07.015Z"
   },
   {
    "duration": 0,
    "start_time": "2024-09-11T15:28:07.016Z"
   },
   {
    "duration": 0,
    "start_time": "2024-09-11T15:28:07.017Z"
   },
   {
    "duration": 0,
    "start_time": "2024-09-11T15:28:07.019Z"
   },
   {
    "duration": 0,
    "start_time": "2024-09-11T15:28:07.020Z"
   },
   {
    "duration": 0,
    "start_time": "2024-09-11T15:28:07.021Z"
   },
   {
    "duration": 0,
    "start_time": "2024-09-11T15:28:07.022Z"
   },
   {
    "duration": 0,
    "start_time": "2024-09-11T15:28:07.023Z"
   },
   {
    "duration": 0,
    "start_time": "2024-09-11T15:28:07.024Z"
   },
   {
    "duration": 0,
    "start_time": "2024-09-11T15:28:07.026Z"
   },
   {
    "duration": 0,
    "start_time": "2024-09-11T15:28:07.027Z"
   },
   {
    "duration": 0,
    "start_time": "2024-09-11T15:28:07.028Z"
   },
   {
    "duration": 0,
    "start_time": "2024-09-11T15:28:07.029Z"
   },
   {
    "duration": 0,
    "start_time": "2024-09-11T15:28:07.030Z"
   },
   {
    "duration": 0,
    "start_time": "2024-09-11T15:28:07.031Z"
   },
   {
    "duration": 0,
    "start_time": "2024-09-11T15:28:07.032Z"
   },
   {
    "duration": 0,
    "start_time": "2024-09-11T15:28:07.033Z"
   },
   {
    "duration": 0,
    "start_time": "2024-09-11T15:28:07.034Z"
   },
   {
    "duration": 0,
    "start_time": "2024-09-11T15:28:07.036Z"
   },
   {
    "duration": 0,
    "start_time": "2024-09-11T15:28:07.037Z"
   },
   {
    "duration": 0,
    "start_time": "2024-09-11T15:28:07.038Z"
   },
   {
    "duration": 0,
    "start_time": "2024-09-11T15:28:07.040Z"
   },
   {
    "duration": 0,
    "start_time": "2024-09-11T15:28:07.041Z"
   },
   {
    "duration": 0,
    "start_time": "2024-09-11T15:28:07.042Z"
   },
   {
    "duration": 0,
    "start_time": "2024-09-11T15:28:07.043Z"
   },
   {
    "duration": 0,
    "start_time": "2024-09-11T15:28:07.044Z"
   },
   {
    "duration": 0,
    "start_time": "2024-09-11T15:28:07.105Z"
   },
   {
    "duration": 0,
    "start_time": "2024-09-11T15:28:07.106Z"
   },
   {
    "duration": 0,
    "start_time": "2024-09-11T15:28:07.107Z"
   },
   {
    "duration": 0,
    "start_time": "2024-09-11T15:28:07.108Z"
   },
   {
    "duration": 0,
    "start_time": "2024-09-11T15:28:07.109Z"
   },
   {
    "duration": 0,
    "start_time": "2024-09-11T15:28:07.110Z"
   },
   {
    "duration": 0,
    "start_time": "2024-09-11T15:28:07.112Z"
   },
   {
    "duration": 0,
    "start_time": "2024-09-11T15:28:07.113Z"
   },
   {
    "duration": 0,
    "start_time": "2024-09-11T15:28:07.114Z"
   },
   {
    "duration": 0,
    "start_time": "2024-09-11T15:28:07.115Z"
   },
   {
    "duration": 0,
    "start_time": "2024-09-11T15:28:07.116Z"
   },
   {
    "duration": 0,
    "start_time": "2024-09-11T15:28:07.117Z"
   },
   {
    "duration": 0,
    "start_time": "2024-09-11T15:28:07.118Z"
   },
   {
    "duration": 0,
    "start_time": "2024-09-11T15:28:07.120Z"
   },
   {
    "duration": 0,
    "start_time": "2024-09-11T15:28:07.121Z"
   },
   {
    "duration": 0,
    "start_time": "2024-09-11T15:28:07.122Z"
   },
   {
    "duration": 0,
    "start_time": "2024-09-11T15:28:07.123Z"
   },
   {
    "duration": 0,
    "start_time": "2024-09-11T15:28:07.124Z"
   },
   {
    "duration": 0,
    "start_time": "2024-09-11T15:28:07.125Z"
   },
   {
    "duration": 0,
    "start_time": "2024-09-11T15:28:07.126Z"
   },
   {
    "duration": 0,
    "start_time": "2024-09-11T15:28:07.127Z"
   },
   {
    "duration": 0,
    "start_time": "2024-09-11T15:28:07.128Z"
   },
   {
    "duration": 0,
    "start_time": "2024-09-11T15:28:07.129Z"
   },
   {
    "duration": 0,
    "start_time": "2024-09-11T15:28:07.130Z"
   },
   {
    "duration": 0,
    "start_time": "2024-09-11T15:28:07.131Z"
   },
   {
    "duration": 0,
    "start_time": "2024-09-11T15:28:07.132Z"
   },
   {
    "duration": 0,
    "start_time": "2024-09-11T15:28:07.133Z"
   },
   {
    "duration": 0,
    "start_time": "2024-09-11T15:28:07.134Z"
   },
   {
    "duration": 0,
    "start_time": "2024-09-11T15:28:07.135Z"
   },
   {
    "duration": 0,
    "start_time": "2024-09-11T15:28:07.136Z"
   },
   {
    "duration": 0,
    "start_time": "2024-09-11T15:28:07.137Z"
   },
   {
    "duration": 0,
    "start_time": "2024-09-11T15:28:07.139Z"
   },
   {
    "duration": 0,
    "start_time": "2024-09-11T15:28:07.140Z"
   },
   {
    "duration": 0,
    "start_time": "2024-09-11T15:28:07.205Z"
   },
   {
    "duration": 0,
    "start_time": "2024-09-11T15:28:07.206Z"
   },
   {
    "duration": 0,
    "start_time": "2024-09-11T15:28:07.208Z"
   },
   {
    "duration": 1,
    "start_time": "2024-09-11T15:28:07.208Z"
   },
   {
    "duration": 0,
    "start_time": "2024-09-11T15:28:07.210Z"
   },
   {
    "duration": 0,
    "start_time": "2024-09-11T15:28:07.211Z"
   },
   {
    "duration": 0,
    "start_time": "2024-09-11T15:28:07.212Z"
   },
   {
    "duration": 0,
    "start_time": "2024-09-11T15:28:07.213Z"
   },
   {
    "duration": 0,
    "start_time": "2024-09-11T15:28:07.214Z"
   },
   {
    "duration": 0,
    "start_time": "2024-09-11T15:28:07.215Z"
   },
   {
    "duration": 0,
    "start_time": "2024-09-11T15:28:07.216Z"
   },
   {
    "duration": 0,
    "start_time": "2024-09-11T15:28:07.217Z"
   },
   {
    "duration": 0,
    "start_time": "2024-09-11T15:28:07.218Z"
   },
   {
    "duration": 0,
    "start_time": "2024-09-11T15:28:07.220Z"
   },
   {
    "duration": 0,
    "start_time": "2024-09-11T15:28:07.221Z"
   },
   {
    "duration": 0,
    "start_time": "2024-09-11T15:28:07.222Z"
   },
   {
    "duration": 0,
    "start_time": "2024-09-11T15:28:07.223Z"
   },
   {
    "duration": 0,
    "start_time": "2024-09-11T15:28:07.224Z"
   },
   {
    "duration": 0,
    "start_time": "2024-09-11T15:28:07.225Z"
   },
   {
    "duration": 0,
    "start_time": "2024-09-11T15:28:07.226Z"
   },
   {
    "duration": 0,
    "start_time": "2024-09-11T15:28:07.227Z"
   },
   {
    "duration": 0,
    "start_time": "2024-09-11T15:28:07.228Z"
   },
   {
    "duration": 0,
    "start_time": "2024-09-11T15:28:07.229Z"
   },
   {
    "duration": 0,
    "start_time": "2024-09-11T15:28:07.230Z"
   },
   {
    "duration": 0,
    "start_time": "2024-09-11T15:28:07.231Z"
   },
   {
    "duration": 0,
    "start_time": "2024-09-11T15:28:07.232Z"
   },
   {
    "duration": 0,
    "start_time": "2024-09-11T15:28:07.233Z"
   },
   {
    "duration": 0,
    "start_time": "2024-09-11T15:28:07.234Z"
   },
   {
    "duration": 0,
    "start_time": "2024-09-11T15:28:07.235Z"
   },
   {
    "duration": 0,
    "start_time": "2024-09-11T15:28:07.236Z"
   },
   {
    "duration": 1,
    "start_time": "2024-09-11T15:28:07.237Z"
   },
   {
    "duration": 0,
    "start_time": "2024-09-11T15:28:07.238Z"
   },
   {
    "duration": 0,
    "start_time": "2024-09-11T15:28:07.239Z"
   },
   {
    "duration": 0,
    "start_time": "2024-09-11T15:28:07.305Z"
   },
   {
    "duration": 12955,
    "start_time": "2024-09-11T15:31:49.788Z"
   },
   {
    "duration": 1463,
    "start_time": "2024-09-11T15:32:02.745Z"
   },
   {
    "duration": 0,
    "start_time": "2024-09-11T15:32:04.212Z"
   },
   {
    "duration": 0,
    "start_time": "2024-09-11T15:32:04.214Z"
   },
   {
    "duration": 0,
    "start_time": "2024-09-11T15:32:04.214Z"
   },
   {
    "duration": 0,
    "start_time": "2024-09-11T15:32:04.216Z"
   },
   {
    "duration": 0,
    "start_time": "2024-09-11T15:32:04.217Z"
   },
   {
    "duration": 0,
    "start_time": "2024-09-11T15:32:04.218Z"
   },
   {
    "duration": 0,
    "start_time": "2024-09-11T15:32:04.219Z"
   },
   {
    "duration": 0,
    "start_time": "2024-09-11T15:32:04.220Z"
   },
   {
    "duration": 0,
    "start_time": "2024-09-11T15:32:04.221Z"
   },
   {
    "duration": 0,
    "start_time": "2024-09-11T15:32:04.222Z"
   },
   {
    "duration": 0,
    "start_time": "2024-09-11T15:32:04.223Z"
   },
   {
    "duration": 0,
    "start_time": "2024-09-11T15:32:04.224Z"
   },
   {
    "duration": 0,
    "start_time": "2024-09-11T15:32:04.225Z"
   },
   {
    "duration": 0,
    "start_time": "2024-09-11T15:32:04.226Z"
   },
   {
    "duration": 0,
    "start_time": "2024-09-11T15:32:04.227Z"
   },
   {
    "duration": 0,
    "start_time": "2024-09-11T15:32:04.228Z"
   },
   {
    "duration": 0,
    "start_time": "2024-09-11T15:32:04.229Z"
   },
   {
    "duration": 0,
    "start_time": "2024-09-11T15:32:04.230Z"
   },
   {
    "duration": 0,
    "start_time": "2024-09-11T15:32:04.231Z"
   },
   {
    "duration": 0,
    "start_time": "2024-09-11T15:32:04.232Z"
   },
   {
    "duration": 0,
    "start_time": "2024-09-11T15:32:04.233Z"
   },
   {
    "duration": 0,
    "start_time": "2024-09-11T15:32:04.234Z"
   },
   {
    "duration": 0,
    "start_time": "2024-09-11T15:32:04.235Z"
   },
   {
    "duration": 0,
    "start_time": "2024-09-11T15:32:04.236Z"
   },
   {
    "duration": 0,
    "start_time": "2024-09-11T15:32:04.238Z"
   },
   {
    "duration": 0,
    "start_time": "2024-09-11T15:32:04.239Z"
   },
   {
    "duration": 0,
    "start_time": "2024-09-11T15:32:04.240Z"
   },
   {
    "duration": 0,
    "start_time": "2024-09-11T15:32:04.241Z"
   },
   {
    "duration": 0,
    "start_time": "2024-09-11T15:32:04.242Z"
   },
   {
    "duration": 0,
    "start_time": "2024-09-11T15:32:04.243Z"
   },
   {
    "duration": 0,
    "start_time": "2024-09-11T15:32:04.244Z"
   },
   {
    "duration": 0,
    "start_time": "2024-09-11T15:32:04.245Z"
   },
   {
    "duration": 0,
    "start_time": "2024-09-11T15:32:04.247Z"
   },
   {
    "duration": 0,
    "start_time": "2024-09-11T15:32:04.248Z"
   },
   {
    "duration": 0,
    "start_time": "2024-09-11T15:32:04.249Z"
   },
   {
    "duration": 0,
    "start_time": "2024-09-11T15:32:04.305Z"
   },
   {
    "duration": 0,
    "start_time": "2024-09-11T15:32:04.306Z"
   },
   {
    "duration": 0,
    "start_time": "2024-09-11T15:32:04.308Z"
   },
   {
    "duration": 0,
    "start_time": "2024-09-11T15:32:04.309Z"
   },
   {
    "duration": 0,
    "start_time": "2024-09-11T15:32:04.310Z"
   },
   {
    "duration": 0,
    "start_time": "2024-09-11T15:32:04.311Z"
   },
   {
    "duration": 0,
    "start_time": "2024-09-11T15:32:04.312Z"
   },
   {
    "duration": 0,
    "start_time": "2024-09-11T15:32:04.313Z"
   },
   {
    "duration": 0,
    "start_time": "2024-09-11T15:32:04.314Z"
   },
   {
    "duration": 0,
    "start_time": "2024-09-11T15:32:04.315Z"
   },
   {
    "duration": 0,
    "start_time": "2024-09-11T15:32:04.316Z"
   },
   {
    "duration": 0,
    "start_time": "2024-09-11T15:32:04.317Z"
   },
   {
    "duration": 0,
    "start_time": "2024-09-11T15:32:04.318Z"
   },
   {
    "duration": 1,
    "start_time": "2024-09-11T15:32:04.318Z"
   },
   {
    "duration": 0,
    "start_time": "2024-09-11T15:32:04.320Z"
   },
   {
    "duration": 0,
    "start_time": "2024-09-11T15:32:04.321Z"
   },
   {
    "duration": 0,
    "start_time": "2024-09-11T15:32:04.322Z"
   },
   {
    "duration": 0,
    "start_time": "2024-09-11T15:32:04.323Z"
   },
   {
    "duration": 0,
    "start_time": "2024-09-11T15:32:04.324Z"
   },
   {
    "duration": 1,
    "start_time": "2024-09-11T15:32:04.325Z"
   },
   {
    "duration": 0,
    "start_time": "2024-09-11T15:32:04.326Z"
   },
   {
    "duration": 0,
    "start_time": "2024-09-11T15:32:04.327Z"
   },
   {
    "duration": 0,
    "start_time": "2024-09-11T15:32:04.328Z"
   },
   {
    "duration": 0,
    "start_time": "2024-09-11T15:32:04.329Z"
   },
   {
    "duration": 1,
    "start_time": "2024-09-11T15:32:04.330Z"
   },
   {
    "duration": 0,
    "start_time": "2024-09-11T15:32:04.331Z"
   },
   {
    "duration": 0,
    "start_time": "2024-09-11T15:32:04.332Z"
   },
   {
    "duration": 0,
    "start_time": "2024-09-11T15:32:04.333Z"
   },
   {
    "duration": 0,
    "start_time": "2024-09-11T15:32:04.334Z"
   },
   {
    "duration": 0,
    "start_time": "2024-09-11T15:32:04.335Z"
   },
   {
    "duration": 0,
    "start_time": "2024-09-11T15:32:04.336Z"
   },
   {
    "duration": 0,
    "start_time": "2024-09-11T15:32:04.337Z"
   },
   {
    "duration": 0,
    "start_time": "2024-09-11T15:32:04.338Z"
   },
   {
    "duration": 0,
    "start_time": "2024-09-11T15:32:04.339Z"
   },
   {
    "duration": 0,
    "start_time": "2024-09-11T15:32:04.340Z"
   },
   {
    "duration": 0,
    "start_time": "2024-09-11T15:32:04.341Z"
   },
   {
    "duration": 0,
    "start_time": "2024-09-11T15:32:04.342Z"
   },
   {
    "duration": 0,
    "start_time": "2024-09-11T15:32:04.343Z"
   },
   {
    "duration": 0,
    "start_time": "2024-09-11T15:32:04.405Z"
   },
   {
    "duration": 0,
    "start_time": "2024-09-11T15:32:04.406Z"
   },
   {
    "duration": 0,
    "start_time": "2024-09-11T15:32:04.407Z"
   },
   {
    "duration": 0,
    "start_time": "2024-09-11T15:32:04.408Z"
   },
   {
    "duration": 0,
    "start_time": "2024-09-11T15:32:04.409Z"
   },
   {
    "duration": 0,
    "start_time": "2024-09-11T15:32:04.410Z"
   },
   {
    "duration": 0,
    "start_time": "2024-09-11T15:32:04.411Z"
   },
   {
    "duration": 0,
    "start_time": "2024-09-11T15:32:04.412Z"
   },
   {
    "duration": 0,
    "start_time": "2024-09-11T15:32:04.413Z"
   },
   {
    "duration": 0,
    "start_time": "2024-09-11T15:32:04.414Z"
   },
   {
    "duration": 0,
    "start_time": "2024-09-11T15:32:04.415Z"
   },
   {
    "duration": 0,
    "start_time": "2024-09-11T15:32:04.416Z"
   },
   {
    "duration": 0,
    "start_time": "2024-09-11T15:32:04.417Z"
   },
   {
    "duration": 0,
    "start_time": "2024-09-11T15:32:04.418Z"
   },
   {
    "duration": 0,
    "start_time": "2024-09-11T15:32:04.419Z"
   },
   {
    "duration": 0,
    "start_time": "2024-09-11T15:32:04.420Z"
   },
   {
    "duration": 0,
    "start_time": "2024-09-11T15:32:04.421Z"
   },
   {
    "duration": 0,
    "start_time": "2024-09-11T15:32:04.422Z"
   },
   {
    "duration": 0,
    "start_time": "2024-09-11T15:32:04.423Z"
   },
   {
    "duration": 0,
    "start_time": "2024-09-11T15:32:04.424Z"
   },
   {
    "duration": 0,
    "start_time": "2024-09-11T15:32:04.426Z"
   },
   {
    "duration": 0,
    "start_time": "2024-09-11T15:32:04.427Z"
   },
   {
    "duration": 0,
    "start_time": "2024-09-11T15:32:04.428Z"
   },
   {
    "duration": 0,
    "start_time": "2024-09-11T15:32:04.429Z"
   },
   {
    "duration": 0,
    "start_time": "2024-09-11T15:32:04.431Z"
   },
   {
    "duration": 12795,
    "start_time": "2024-09-11T15:35:02.099Z"
   },
   {
    "duration": 1534,
    "start_time": "2024-09-11T15:35:14.896Z"
   },
   {
    "duration": 0,
    "start_time": "2024-09-11T15:35:16.434Z"
   },
   {
    "duration": 0,
    "start_time": "2024-09-11T15:35:16.435Z"
   },
   {
    "duration": 0,
    "start_time": "2024-09-11T15:35:16.436Z"
   },
   {
    "duration": 0,
    "start_time": "2024-09-11T15:35:16.437Z"
   },
   {
    "duration": 0,
    "start_time": "2024-09-11T15:35:16.438Z"
   },
   {
    "duration": 0,
    "start_time": "2024-09-11T15:35:16.439Z"
   },
   {
    "duration": 0,
    "start_time": "2024-09-11T15:35:16.440Z"
   },
   {
    "duration": 0,
    "start_time": "2024-09-11T15:35:16.441Z"
   },
   {
    "duration": 0,
    "start_time": "2024-09-11T15:35:16.442Z"
   },
   {
    "duration": 0,
    "start_time": "2024-09-11T15:35:16.443Z"
   },
   {
    "duration": 0,
    "start_time": "2024-09-11T15:35:16.444Z"
   },
   {
    "duration": 0,
    "start_time": "2024-09-11T15:35:16.445Z"
   },
   {
    "duration": 0,
    "start_time": "2024-09-11T15:35:16.446Z"
   },
   {
    "duration": 0,
    "start_time": "2024-09-11T15:35:16.447Z"
   },
   {
    "duration": 0,
    "start_time": "2024-09-11T15:35:16.448Z"
   },
   {
    "duration": 0,
    "start_time": "2024-09-11T15:35:16.449Z"
   },
   {
    "duration": 0,
    "start_time": "2024-09-11T15:35:16.450Z"
   },
   {
    "duration": 0,
    "start_time": "2024-09-11T15:35:16.451Z"
   },
   {
    "duration": 0,
    "start_time": "2024-09-11T15:35:16.452Z"
   },
   {
    "duration": 0,
    "start_time": "2024-09-11T15:35:16.453Z"
   },
   {
    "duration": 0,
    "start_time": "2024-09-11T15:35:16.454Z"
   },
   {
    "duration": 0,
    "start_time": "2024-09-11T15:35:16.455Z"
   },
   {
    "duration": 0,
    "start_time": "2024-09-11T15:35:16.456Z"
   },
   {
    "duration": 0,
    "start_time": "2024-09-11T15:35:16.457Z"
   },
   {
    "duration": 0,
    "start_time": "2024-09-11T15:35:16.458Z"
   },
   {
    "duration": 0,
    "start_time": "2024-09-11T15:35:16.459Z"
   },
   {
    "duration": 0,
    "start_time": "2024-09-11T15:35:16.460Z"
   },
   {
    "duration": 0,
    "start_time": "2024-09-11T15:35:16.461Z"
   },
   {
    "duration": 0,
    "start_time": "2024-09-11T15:35:16.462Z"
   },
   {
    "duration": 0,
    "start_time": "2024-09-11T15:35:16.463Z"
   },
   {
    "duration": 0,
    "start_time": "2024-09-11T15:35:16.464Z"
   },
   {
    "duration": 0,
    "start_time": "2024-09-11T15:35:16.505Z"
   },
   {
    "duration": 0,
    "start_time": "2024-09-11T15:35:16.506Z"
   },
   {
    "duration": 0,
    "start_time": "2024-09-11T15:35:16.507Z"
   },
   {
    "duration": 0,
    "start_time": "2024-09-11T15:35:16.508Z"
   },
   {
    "duration": 0,
    "start_time": "2024-09-11T15:35:16.509Z"
   },
   {
    "duration": 0,
    "start_time": "2024-09-11T15:35:16.510Z"
   },
   {
    "duration": 0,
    "start_time": "2024-09-11T15:35:16.511Z"
   },
   {
    "duration": 0,
    "start_time": "2024-09-11T15:35:16.512Z"
   },
   {
    "duration": 0,
    "start_time": "2024-09-11T15:35:16.513Z"
   },
   {
    "duration": 0,
    "start_time": "2024-09-11T15:35:16.514Z"
   },
   {
    "duration": 0,
    "start_time": "2024-09-11T15:35:16.515Z"
   },
   {
    "duration": 0,
    "start_time": "2024-09-11T15:35:16.516Z"
   },
   {
    "duration": 0,
    "start_time": "2024-09-11T15:35:16.517Z"
   },
   {
    "duration": 0,
    "start_time": "2024-09-11T15:35:16.518Z"
   },
   {
    "duration": 0,
    "start_time": "2024-09-11T15:35:16.519Z"
   },
   {
    "duration": 0,
    "start_time": "2024-09-11T15:35:16.520Z"
   },
   {
    "duration": 0,
    "start_time": "2024-09-11T15:35:16.521Z"
   },
   {
    "duration": 0,
    "start_time": "2024-09-11T15:35:16.522Z"
   },
   {
    "duration": 0,
    "start_time": "2024-09-11T15:35:16.523Z"
   },
   {
    "duration": 0,
    "start_time": "2024-09-11T15:35:16.524Z"
   },
   {
    "duration": 0,
    "start_time": "2024-09-11T15:35:16.524Z"
   },
   {
    "duration": 0,
    "start_time": "2024-09-11T15:35:16.525Z"
   },
   {
    "duration": 0,
    "start_time": "2024-09-11T15:35:16.526Z"
   },
   {
    "duration": 0,
    "start_time": "2024-09-11T15:35:16.527Z"
   },
   {
    "duration": 0,
    "start_time": "2024-09-11T15:35:16.528Z"
   },
   {
    "duration": 0,
    "start_time": "2024-09-11T15:35:16.529Z"
   },
   {
    "duration": 0,
    "start_time": "2024-09-11T15:35:16.530Z"
   },
   {
    "duration": 0,
    "start_time": "2024-09-11T15:35:16.531Z"
   },
   {
    "duration": 0,
    "start_time": "2024-09-11T15:35:16.532Z"
   },
   {
    "duration": 0,
    "start_time": "2024-09-11T15:35:16.533Z"
   },
   {
    "duration": 0,
    "start_time": "2024-09-11T15:35:16.534Z"
   },
   {
    "duration": 0,
    "start_time": "2024-09-11T15:35:16.535Z"
   },
   {
    "duration": 0,
    "start_time": "2024-09-11T15:35:16.536Z"
   },
   {
    "duration": 0,
    "start_time": "2024-09-11T15:35:16.537Z"
   },
   {
    "duration": 0,
    "start_time": "2024-09-11T15:35:16.538Z"
   },
   {
    "duration": 0,
    "start_time": "2024-09-11T15:35:16.539Z"
   },
   {
    "duration": 0,
    "start_time": "2024-09-11T15:35:16.540Z"
   },
   {
    "duration": 0,
    "start_time": "2024-09-11T15:35:16.541Z"
   },
   {
    "duration": 0,
    "start_time": "2024-09-11T15:35:16.542Z"
   },
   {
    "duration": 0,
    "start_time": "2024-09-11T15:35:16.543Z"
   },
   {
    "duration": 0,
    "start_time": "2024-09-11T15:35:16.544Z"
   },
   {
    "duration": 0,
    "start_time": "2024-09-11T15:35:16.605Z"
   },
   {
    "duration": 0,
    "start_time": "2024-09-11T15:35:16.606Z"
   },
   {
    "duration": 0,
    "start_time": "2024-09-11T15:35:16.608Z"
   },
   {
    "duration": 0,
    "start_time": "2024-09-11T15:35:16.608Z"
   },
   {
    "duration": 1,
    "start_time": "2024-09-11T15:35:16.609Z"
   },
   {
    "duration": 0,
    "start_time": "2024-09-11T15:35:16.610Z"
   },
   {
    "duration": 1,
    "start_time": "2024-09-11T15:35:16.611Z"
   },
   {
    "duration": 0,
    "start_time": "2024-09-11T15:35:16.613Z"
   },
   {
    "duration": 0,
    "start_time": "2024-09-11T15:35:16.614Z"
   },
   {
    "duration": 0,
    "start_time": "2024-09-11T15:35:16.615Z"
   },
   {
    "duration": 0,
    "start_time": "2024-09-11T15:35:16.616Z"
   },
   {
    "duration": 0,
    "start_time": "2024-09-11T15:35:16.617Z"
   },
   {
    "duration": 0,
    "start_time": "2024-09-11T15:35:16.618Z"
   },
   {
    "duration": 0,
    "start_time": "2024-09-11T15:35:16.618Z"
   },
   {
    "duration": 0,
    "start_time": "2024-09-11T15:35:16.619Z"
   },
   {
    "duration": 0,
    "start_time": "2024-09-11T15:35:16.620Z"
   },
   {
    "duration": 0,
    "start_time": "2024-09-11T15:35:16.621Z"
   },
   {
    "duration": 0,
    "start_time": "2024-09-11T15:35:16.623Z"
   },
   {
    "duration": 0,
    "start_time": "2024-09-11T15:35:16.624Z"
   },
   {
    "duration": 0,
    "start_time": "2024-09-11T15:35:16.625Z"
   },
   {
    "duration": 0,
    "start_time": "2024-09-11T15:35:16.626Z"
   },
   {
    "duration": 0,
    "start_time": "2024-09-11T15:35:16.627Z"
   },
   {
    "duration": 0,
    "start_time": "2024-09-11T15:35:16.628Z"
   },
   {
    "duration": 0,
    "start_time": "2024-09-11T15:35:16.629Z"
   },
   {
    "duration": 0,
    "start_time": "2024-09-11T15:35:16.630Z"
   },
   {
    "duration": 0,
    "start_time": "2024-09-11T15:35:16.631Z"
   },
   {
    "duration": 12840,
    "start_time": "2024-09-11T15:38:06.458Z"
   },
   {
    "duration": 3459,
    "start_time": "2024-09-11T15:38:19.300Z"
   },
   {
    "duration": 1438,
    "start_time": "2024-09-11T15:38:22.762Z"
   },
   {
    "duration": 0,
    "start_time": "2024-09-11T15:38:24.205Z"
   },
   {
    "duration": 0,
    "start_time": "2024-09-11T15:38:24.206Z"
   },
   {
    "duration": 0,
    "start_time": "2024-09-11T15:38:24.207Z"
   },
   {
    "duration": 0,
    "start_time": "2024-09-11T15:38:24.208Z"
   },
   {
    "duration": 0,
    "start_time": "2024-09-11T15:38:24.210Z"
   },
   {
    "duration": 0,
    "start_time": "2024-09-11T15:38:24.211Z"
   },
   {
    "duration": 0,
    "start_time": "2024-09-11T15:38:24.212Z"
   },
   {
    "duration": 0,
    "start_time": "2024-09-11T15:38:24.213Z"
   },
   {
    "duration": 0,
    "start_time": "2024-09-11T15:38:24.214Z"
   },
   {
    "duration": 0,
    "start_time": "2024-09-11T15:38:24.216Z"
   },
   {
    "duration": 0,
    "start_time": "2024-09-11T15:38:24.217Z"
   },
   {
    "duration": 0,
    "start_time": "2024-09-11T15:38:24.218Z"
   },
   {
    "duration": 0,
    "start_time": "2024-09-11T15:38:24.219Z"
   },
   {
    "duration": 0,
    "start_time": "2024-09-11T15:38:24.221Z"
   },
   {
    "duration": 0,
    "start_time": "2024-09-11T15:38:24.222Z"
   },
   {
    "duration": 0,
    "start_time": "2024-09-11T15:38:24.223Z"
   },
   {
    "duration": 0,
    "start_time": "2024-09-11T15:38:24.224Z"
   },
   {
    "duration": 0,
    "start_time": "2024-09-11T15:38:24.225Z"
   },
   {
    "duration": 0,
    "start_time": "2024-09-11T15:38:24.226Z"
   },
   {
    "duration": 0,
    "start_time": "2024-09-11T15:38:24.228Z"
   },
   {
    "duration": 0,
    "start_time": "2024-09-11T15:38:24.229Z"
   },
   {
    "duration": 0,
    "start_time": "2024-09-11T15:38:24.230Z"
   },
   {
    "duration": 0,
    "start_time": "2024-09-11T15:38:24.231Z"
   },
   {
    "duration": 1,
    "start_time": "2024-09-11T15:38:24.232Z"
   },
   {
    "duration": 0,
    "start_time": "2024-09-11T15:38:24.233Z"
   },
   {
    "duration": 0,
    "start_time": "2024-09-11T15:38:24.235Z"
   },
   {
    "duration": 0,
    "start_time": "2024-09-11T15:38:24.236Z"
   },
   {
    "duration": 0,
    "start_time": "2024-09-11T15:38:24.237Z"
   },
   {
    "duration": 0,
    "start_time": "2024-09-11T15:38:24.238Z"
   },
   {
    "duration": 0,
    "start_time": "2024-09-11T15:38:24.239Z"
   },
   {
    "duration": 0,
    "start_time": "2024-09-11T15:38:24.240Z"
   },
   {
    "duration": 0,
    "start_time": "2024-09-11T15:38:24.241Z"
   },
   {
    "duration": 0,
    "start_time": "2024-09-11T15:38:24.242Z"
   },
   {
    "duration": 0,
    "start_time": "2024-09-11T15:38:24.306Z"
   },
   {
    "duration": 0,
    "start_time": "2024-09-11T15:38:24.307Z"
   },
   {
    "duration": 0,
    "start_time": "2024-09-11T15:38:24.308Z"
   },
   {
    "duration": 0,
    "start_time": "2024-09-11T15:38:24.309Z"
   },
   {
    "duration": 0,
    "start_time": "2024-09-11T15:38:24.310Z"
   },
   {
    "duration": 0,
    "start_time": "2024-09-11T15:38:24.311Z"
   },
   {
    "duration": 0,
    "start_time": "2024-09-11T15:38:24.313Z"
   },
   {
    "duration": 0,
    "start_time": "2024-09-11T15:38:24.314Z"
   },
   {
    "duration": 0,
    "start_time": "2024-09-11T15:38:24.315Z"
   },
   {
    "duration": 0,
    "start_time": "2024-09-11T15:38:24.316Z"
   },
   {
    "duration": 0,
    "start_time": "2024-09-11T15:38:24.317Z"
   },
   {
    "duration": 0,
    "start_time": "2024-09-11T15:38:24.318Z"
   },
   {
    "duration": 0,
    "start_time": "2024-09-11T15:38:24.319Z"
   },
   {
    "duration": 0,
    "start_time": "2024-09-11T15:38:24.321Z"
   },
   {
    "duration": 0,
    "start_time": "2024-09-11T15:38:24.322Z"
   },
   {
    "duration": 0,
    "start_time": "2024-09-11T15:38:24.323Z"
   },
   {
    "duration": 0,
    "start_time": "2024-09-11T15:38:24.324Z"
   },
   {
    "duration": 0,
    "start_time": "2024-09-11T15:38:24.325Z"
   },
   {
    "duration": 0,
    "start_time": "2024-09-11T15:38:24.326Z"
   },
   {
    "duration": 0,
    "start_time": "2024-09-11T15:38:24.327Z"
   },
   {
    "duration": 0,
    "start_time": "2024-09-11T15:38:24.328Z"
   },
   {
    "duration": 0,
    "start_time": "2024-09-11T15:38:24.329Z"
   },
   {
    "duration": 0,
    "start_time": "2024-09-11T15:38:24.330Z"
   },
   {
    "duration": 0,
    "start_time": "2024-09-11T15:38:24.332Z"
   },
   {
    "duration": 0,
    "start_time": "2024-09-11T15:38:24.333Z"
   },
   {
    "duration": 0,
    "start_time": "2024-09-11T15:38:24.334Z"
   },
   {
    "duration": 0,
    "start_time": "2024-09-11T15:38:24.335Z"
   },
   {
    "duration": 0,
    "start_time": "2024-09-11T15:38:24.336Z"
   },
   {
    "duration": 0,
    "start_time": "2024-09-11T15:38:24.337Z"
   },
   {
    "duration": 0,
    "start_time": "2024-09-11T15:38:24.338Z"
   },
   {
    "duration": 0,
    "start_time": "2024-09-11T15:38:24.339Z"
   },
   {
    "duration": 0,
    "start_time": "2024-09-11T15:38:24.341Z"
   },
   {
    "duration": 0,
    "start_time": "2024-09-11T15:38:24.405Z"
   },
   {
    "duration": 0,
    "start_time": "2024-09-11T15:38:24.407Z"
   },
   {
    "duration": 0,
    "start_time": "2024-09-11T15:38:24.408Z"
   },
   {
    "duration": 0,
    "start_time": "2024-09-11T15:38:24.409Z"
   },
   {
    "duration": 0,
    "start_time": "2024-09-11T15:38:24.410Z"
   },
   {
    "duration": 0,
    "start_time": "2024-09-11T15:38:24.412Z"
   },
   {
    "duration": 0,
    "start_time": "2024-09-11T15:38:24.413Z"
   },
   {
    "duration": 0,
    "start_time": "2024-09-11T15:38:24.414Z"
   },
   {
    "duration": 0,
    "start_time": "2024-09-11T15:38:24.415Z"
   },
   {
    "duration": 0,
    "start_time": "2024-09-11T15:38:24.416Z"
   },
   {
    "duration": 0,
    "start_time": "2024-09-11T15:38:24.417Z"
   },
   {
    "duration": 0,
    "start_time": "2024-09-11T15:38:24.418Z"
   },
   {
    "duration": 0,
    "start_time": "2024-09-11T15:38:24.420Z"
   },
   {
    "duration": 0,
    "start_time": "2024-09-11T15:38:24.421Z"
   },
   {
    "duration": 0,
    "start_time": "2024-09-11T15:38:24.422Z"
   },
   {
    "duration": 0,
    "start_time": "2024-09-11T15:38:24.423Z"
   },
   {
    "duration": 0,
    "start_time": "2024-09-11T15:38:24.424Z"
   },
   {
    "duration": 0,
    "start_time": "2024-09-11T15:38:24.425Z"
   },
   {
    "duration": 0,
    "start_time": "2024-09-11T15:38:24.426Z"
   },
   {
    "duration": 0,
    "start_time": "2024-09-11T15:38:24.427Z"
   },
   {
    "duration": 0,
    "start_time": "2024-09-11T15:38:24.428Z"
   },
   {
    "duration": 0,
    "start_time": "2024-09-11T15:38:24.429Z"
   },
   {
    "duration": 0,
    "start_time": "2024-09-11T15:38:24.430Z"
   },
   {
    "duration": 0,
    "start_time": "2024-09-11T15:38:24.432Z"
   },
   {
    "duration": 0,
    "start_time": "2024-09-11T15:38:24.433Z"
   },
   {
    "duration": 0,
    "start_time": "2024-09-11T15:38:24.434Z"
   },
   {
    "duration": 0,
    "start_time": "2024-09-11T15:38:24.435Z"
   },
   {
    "duration": 0,
    "start_time": "2024-09-11T15:38:24.436Z"
   },
   {
    "duration": 0,
    "start_time": "2024-09-11T15:38:24.437Z"
   },
   {
    "duration": 0,
    "start_time": "2024-09-11T15:38:24.438Z"
   },
   {
    "duration": 0,
    "start_time": "2024-09-11T15:38:24.505Z"
   },
   {
    "duration": 0,
    "start_time": "2024-09-11T15:38:24.507Z"
   },
   {
    "duration": 0,
    "start_time": "2024-09-11T15:38:24.508Z"
   },
   {
    "duration": 39217,
    "start_time": "2024-09-11T18:32:03.913Z"
   },
   {
    "duration": 3813,
    "start_time": "2024-09-11T18:32:43.133Z"
   },
   {
    "duration": 2514,
    "start_time": "2024-09-11T18:32:46.948Z"
   },
   {
    "duration": 410,
    "start_time": "2024-09-11T18:32:49.467Z"
   },
   {
    "duration": 21,
    "start_time": "2024-09-11T18:32:49.879Z"
   },
   {
    "duration": 8,
    "start_time": "2024-09-11T18:32:49.902Z"
   },
   {
    "duration": 8,
    "start_time": "2024-09-11T18:32:49.912Z"
   },
   {
    "duration": 20,
    "start_time": "2024-09-11T18:32:49.922Z"
   },
   {
    "duration": 32,
    "start_time": "2024-09-11T18:32:49.944Z"
   },
   {
    "duration": 7,
    "start_time": "2024-09-11T18:32:49.979Z"
   },
   {
    "duration": 13,
    "start_time": "2024-09-11T18:32:49.988Z"
   },
   {
    "duration": 17,
    "start_time": "2024-09-11T18:32:50.002Z"
   },
   {
    "duration": 7,
    "start_time": "2024-09-11T18:32:50.020Z"
   },
   {
    "duration": 16,
    "start_time": "2024-09-11T18:32:50.029Z"
   },
   {
    "duration": 26,
    "start_time": "2024-09-11T18:32:50.046Z"
   },
   {
    "duration": 11,
    "start_time": "2024-09-11T18:32:50.075Z"
   },
   {
    "duration": 27,
    "start_time": "2024-09-11T18:32:50.088Z"
   },
   {
    "duration": 5,
    "start_time": "2024-09-11T18:32:50.117Z"
   },
   {
    "duration": 7,
    "start_time": "2024-09-11T18:32:50.124Z"
   },
   {
    "duration": 12,
    "start_time": "2024-09-11T18:32:50.133Z"
   },
   {
    "duration": 19,
    "start_time": "2024-09-11T18:32:50.146Z"
   },
   {
    "duration": 7,
    "start_time": "2024-09-11T18:32:50.167Z"
   },
   {
    "duration": 10,
    "start_time": "2024-09-11T18:32:50.176Z"
   },
   {
    "duration": 8,
    "start_time": "2024-09-11T18:32:50.188Z"
   },
   {
    "duration": 16,
    "start_time": "2024-09-11T18:32:50.198Z"
   },
   {
    "duration": 7,
    "start_time": "2024-09-11T18:32:50.215Z"
   },
   {
    "duration": 10,
    "start_time": "2024-09-11T18:32:50.224Z"
   },
   {
    "duration": 6,
    "start_time": "2024-09-11T18:32:50.257Z"
   },
   {
    "duration": 7,
    "start_time": "2024-09-11T18:32:50.264Z"
   },
   {
    "duration": 12,
    "start_time": "2024-09-11T18:32:50.273Z"
   },
   {
    "duration": 401,
    "start_time": "2024-09-11T18:32:50.286Z"
   },
   {
    "duration": 254,
    "start_time": "2024-09-11T18:32:50.688Z"
   },
   {
    "duration": 7,
    "start_time": "2024-09-11T18:32:50.952Z"
   },
   {
    "duration": 296,
    "start_time": "2024-09-11T18:32:50.961Z"
   },
   {
    "duration": 9,
    "start_time": "2024-09-11T18:32:51.260Z"
   },
   {
    "duration": 309,
    "start_time": "2024-09-11T18:32:51.272Z"
   },
   {
    "duration": 369,
    "start_time": "2024-09-11T18:32:51.583Z"
   },
   {
    "duration": 4,
    "start_time": "2024-09-11T18:32:51.955Z"
   },
   {
    "duration": 342,
    "start_time": "2024-09-11T18:32:51.960Z"
   },
   {
    "duration": 339,
    "start_time": "2024-09-11T18:32:52.304Z"
   },
   {
    "duration": 356,
    "start_time": "2024-09-11T18:32:52.645Z"
   },
   {
    "duration": 342,
    "start_time": "2024-09-11T18:32:53.003Z"
   },
   {
    "duration": 253,
    "start_time": "2024-09-11T18:32:53.346Z"
   },
   {
    "duration": 401,
    "start_time": "2024-09-11T18:32:53.600Z"
   },
   {
    "duration": 248,
    "start_time": "2024-09-11T18:32:54.004Z"
   },
   {
    "duration": 6,
    "start_time": "2024-09-11T18:32:54.254Z"
   },
   {
    "duration": 326,
    "start_time": "2024-09-11T18:32:54.261Z"
   },
   {
    "duration": 7,
    "start_time": "2024-09-11T18:32:54.589Z"
   },
   {
    "duration": 363,
    "start_time": "2024-09-11T18:32:54.598Z"
   },
   {
    "duration": 260,
    "start_time": "2024-09-11T18:32:54.962Z"
   },
   {
    "duration": 338,
    "start_time": "2024-09-11T18:32:55.225Z"
   },
   {
    "duration": 236,
    "start_time": "2024-09-11T18:32:55.565Z"
   },
   {
    "duration": 368,
    "start_time": "2024-09-11T18:32:55.803Z"
   },
   {
    "duration": 256,
    "start_time": "2024-09-11T18:32:56.173Z"
   },
   {
    "duration": 341,
    "start_time": "2024-09-11T18:32:56.430Z"
   },
   {
    "duration": 236,
    "start_time": "2024-09-11T18:32:56.773Z"
   },
   {
    "duration": 9,
    "start_time": "2024-09-11T18:32:57.011Z"
   },
   {
    "duration": 13,
    "start_time": "2024-09-11T18:32:57.021Z"
   },
   {
    "duration": 25,
    "start_time": "2024-09-11T18:32:57.035Z"
   },
   {
    "duration": 10,
    "start_time": "2024-09-11T18:32:57.061Z"
   },
   {
    "duration": 9,
    "start_time": "2024-09-11T18:32:57.072Z"
   },
   {
    "duration": 325,
    "start_time": "2024-09-11T18:32:57.082Z"
   },
   {
    "duration": 252,
    "start_time": "2024-09-11T18:32:57.409Z"
   },
   {
    "duration": 428,
    "start_time": "2024-09-11T18:32:57.663Z"
   },
   {
    "duration": 362,
    "start_time": "2024-09-11T18:32:58.093Z"
   },
   {
    "duration": 265,
    "start_time": "2024-09-11T18:32:58.457Z"
   },
   {
    "duration": 308,
    "start_time": "2024-09-11T18:32:58.723Z"
   },
   {
    "duration": 336,
    "start_time": "2024-09-11T18:32:59.033Z"
   },
   {
    "duration": 1334,
    "start_time": "2024-09-11T18:32:59.371Z"
   },
   {
    "duration": 321,
    "start_time": "2024-09-11T18:33:00.706Z"
   },
   {
    "duration": 726,
    "start_time": "2024-09-11T18:33:01.028Z"
   },
   {
    "duration": 311,
    "start_time": "2024-09-11T18:33:01.756Z"
   },
   {
    "duration": 12,
    "start_time": "2024-09-11T18:33:02.069Z"
   },
   {
    "duration": 51,
    "start_time": "2024-09-11T18:33:02.082Z"
   },
   {
    "duration": 16,
    "start_time": "2024-09-11T18:33:02.134Z"
   },
   {
    "duration": 19,
    "start_time": "2024-09-11T18:33:02.152Z"
   },
   {
    "duration": 22,
    "start_time": "2024-09-11T18:33:02.172Z"
   },
   {
    "duration": 14,
    "start_time": "2024-09-11T18:33:02.195Z"
   },
   {
    "duration": 9,
    "start_time": "2024-09-11T18:33:02.211Z"
   },
   {
    "duration": 10,
    "start_time": "2024-09-11T18:33:02.222Z"
   },
   {
    "duration": 7,
    "start_time": "2024-09-11T18:33:02.234Z"
   },
   {
    "duration": 8,
    "start_time": "2024-09-11T18:33:02.247Z"
   },
   {
    "duration": 32,
    "start_time": "2024-09-11T18:33:02.256Z"
   },
   {
    "duration": 26,
    "start_time": "2024-09-11T18:33:02.292Z"
   },
   {
    "duration": 616,
    "start_time": "2024-09-11T18:33:02.320Z"
   },
   {
    "duration": 1394,
    "start_time": "2024-09-11T18:33:02.938Z"
   },
   {
    "duration": 5,
    "start_time": "2024-09-11T18:33:04.334Z"
   },
   {
    "duration": 6,
    "start_time": "2024-09-11T18:33:04.340Z"
   },
   {
    "duration": 19,
    "start_time": "2024-09-11T18:33:04.348Z"
   },
   {
    "duration": 167,
    "start_time": "2024-09-11T18:33:04.368Z"
   },
   {
    "duration": 0,
    "start_time": "2024-09-11T18:33:04.536Z"
   },
   {
    "duration": 0,
    "start_time": "2024-09-11T18:33:04.538Z"
   },
   {
    "duration": 0,
    "start_time": "2024-09-11T18:33:04.539Z"
   },
   {
    "duration": 0,
    "start_time": "2024-09-11T18:33:04.552Z"
   },
   {
    "duration": 0,
    "start_time": "2024-09-11T18:33:04.553Z"
   },
   {
    "duration": 0,
    "start_time": "2024-09-11T18:33:04.555Z"
   },
   {
    "duration": 0,
    "start_time": "2024-09-11T18:33:04.556Z"
   },
   {
    "duration": 0,
    "start_time": "2024-09-11T18:33:04.558Z"
   },
   {
    "duration": 0,
    "start_time": "2024-09-11T18:33:04.560Z"
   },
   {
    "duration": 0,
    "start_time": "2024-09-11T18:33:04.561Z"
   },
   {
    "duration": 0,
    "start_time": "2024-09-11T18:33:04.563Z"
   },
   {
    "duration": 0,
    "start_time": "2024-09-11T18:33:04.564Z"
   },
   {
    "duration": 14231,
    "start_time": "2024-09-11T18:33:26.517Z"
   },
   {
    "duration": 2784,
    "start_time": "2024-09-11T18:33:40.750Z"
   },
   {
    "duration": 2181,
    "start_time": "2024-09-11T18:33:43.536Z"
   },
   {
    "duration": 97,
    "start_time": "2024-09-11T18:33:45.718Z"
   },
   {
    "duration": 28,
    "start_time": "2024-09-11T18:33:45.817Z"
   },
   {
    "duration": 22,
    "start_time": "2024-09-11T18:33:45.847Z"
   },
   {
    "duration": 9,
    "start_time": "2024-09-11T18:33:45.874Z"
   },
   {
    "duration": 15,
    "start_time": "2024-09-11T18:33:45.884Z"
   },
   {
    "duration": 35,
    "start_time": "2024-09-11T18:33:45.901Z"
   },
   {
    "duration": 4,
    "start_time": "2024-09-11T18:33:45.938Z"
   },
   {
    "duration": 22,
    "start_time": "2024-09-11T18:33:45.944Z"
   },
   {
    "duration": 8,
    "start_time": "2024-09-11T18:33:45.968Z"
   },
   {
    "duration": 4,
    "start_time": "2024-09-11T18:33:45.978Z"
   },
   {
    "duration": 4,
    "start_time": "2024-09-11T18:33:45.986Z"
   },
   {
    "duration": 8,
    "start_time": "2024-09-11T18:33:45.992Z"
   },
   {
    "duration": 9,
    "start_time": "2024-09-11T18:33:46.003Z"
   },
   {
    "duration": 47,
    "start_time": "2024-09-11T18:33:46.013Z"
   },
   {
    "duration": 19,
    "start_time": "2024-09-11T18:33:46.062Z"
   },
   {
    "duration": 8,
    "start_time": "2024-09-11T18:33:46.082Z"
   },
   {
    "duration": 18,
    "start_time": "2024-09-11T18:33:46.091Z"
   },
   {
    "duration": 12,
    "start_time": "2024-09-11T18:33:46.111Z"
   },
   {
    "duration": 10,
    "start_time": "2024-09-11T18:33:46.125Z"
   },
   {
    "duration": 16,
    "start_time": "2024-09-11T18:33:46.136Z"
   },
   {
    "duration": 7,
    "start_time": "2024-09-11T18:33:46.160Z"
   },
   {
    "duration": 8,
    "start_time": "2024-09-11T18:33:46.169Z"
   },
   {
    "duration": 8,
    "start_time": "2024-09-11T18:33:46.179Z"
   },
   {
    "duration": 14,
    "start_time": "2024-09-11T18:33:46.189Z"
   },
   {
    "duration": 10,
    "start_time": "2024-09-11T18:33:46.204Z"
   },
   {
    "duration": 18,
    "start_time": "2024-09-11T18:33:46.216Z"
   },
   {
    "duration": 16,
    "start_time": "2024-09-11T18:33:46.252Z"
   },
   {
    "duration": 318,
    "start_time": "2024-09-11T18:33:46.272Z"
   },
   {
    "duration": 264,
    "start_time": "2024-09-11T18:33:46.592Z"
   },
   {
    "duration": 12,
    "start_time": "2024-09-11T18:33:46.858Z"
   },
   {
    "duration": 273,
    "start_time": "2024-09-11T18:33:46.872Z"
   },
   {
    "duration": 13,
    "start_time": "2024-09-11T18:33:47.147Z"
   },
   {
    "duration": 235,
    "start_time": "2024-09-11T18:33:47.162Z"
   },
   {
    "duration": 419,
    "start_time": "2024-09-11T18:33:47.398Z"
   },
   {
    "duration": 3,
    "start_time": "2024-09-11T18:33:47.819Z"
   },
   {
    "duration": 366,
    "start_time": "2024-09-11T18:33:47.823Z"
   },
   {
    "duration": 236,
    "start_time": "2024-09-11T18:33:48.191Z"
   },
   {
    "duration": 497,
    "start_time": "2024-09-11T18:33:48.432Z"
   },
   {
    "duration": 367,
    "start_time": "2024-09-11T18:33:48.931Z"
   },
   {
    "duration": 217,
    "start_time": "2024-09-11T18:33:49.299Z"
   },
   {
    "duration": 380,
    "start_time": "2024-09-11T18:33:49.518Z"
   },
   {
    "duration": 256,
    "start_time": "2024-09-11T18:33:49.899Z"
   },
   {
    "duration": 12,
    "start_time": "2024-09-11T18:33:50.157Z"
   },
   {
    "duration": 338,
    "start_time": "2024-09-11T18:33:50.171Z"
   },
   {
    "duration": 7,
    "start_time": "2024-09-11T18:33:50.511Z"
   },
   {
    "duration": 356,
    "start_time": "2024-09-11T18:33:50.520Z"
   },
   {
    "duration": 250,
    "start_time": "2024-09-11T18:33:50.878Z"
   },
   {
    "duration": 345,
    "start_time": "2024-09-11T18:33:51.130Z"
   },
   {
    "duration": 251,
    "start_time": "2024-09-11T18:33:51.477Z"
   },
   {
    "duration": 366,
    "start_time": "2024-09-11T18:33:51.729Z"
   },
   {
    "duration": 241,
    "start_time": "2024-09-11T18:33:52.097Z"
   },
   {
    "duration": 370,
    "start_time": "2024-09-11T18:33:52.341Z"
   },
   {
    "duration": 266,
    "start_time": "2024-09-11T18:33:52.712Z"
   },
   {
    "duration": 8,
    "start_time": "2024-09-11T18:33:52.980Z"
   },
   {
    "duration": 8,
    "start_time": "2024-09-11T18:33:52.990Z"
   },
   {
    "duration": 8,
    "start_time": "2024-09-11T18:33:53.000Z"
   },
   {
    "duration": 15,
    "start_time": "2024-09-11T18:33:53.010Z"
   },
   {
    "duration": 29,
    "start_time": "2024-09-11T18:33:53.027Z"
   },
   {
    "duration": 367,
    "start_time": "2024-09-11T18:33:53.057Z"
   },
   {
    "duration": 304,
    "start_time": "2024-09-11T18:33:53.426Z"
   },
   {
    "duration": 372,
    "start_time": "2024-09-11T18:33:53.732Z"
   },
   {
    "duration": 479,
    "start_time": "2024-09-11T18:33:54.107Z"
   },
   {
    "duration": 264,
    "start_time": "2024-09-11T18:33:54.588Z"
   },
   {
    "duration": 303,
    "start_time": "2024-09-11T18:33:54.853Z"
   },
   {
    "duration": 314,
    "start_time": "2024-09-11T18:33:55.157Z"
   },
   {
    "duration": 240,
    "start_time": "2024-09-11T18:33:55.473Z"
   },
   {
    "duration": 7,
    "start_time": "2024-09-11T18:33:55.715Z"
   },
   {
    "duration": 18,
    "start_time": "2024-09-11T18:33:55.723Z"
   },
   {
    "duration": 113,
    "start_time": "2024-09-11T18:33:55.742Z"
   },
   {
    "duration": 14,
    "start_time": "2024-09-11T18:33:55.857Z"
   },
   {
    "duration": 48,
    "start_time": "2024-09-11T18:33:55.873Z"
   },
   {
    "duration": 11,
    "start_time": "2024-09-11T18:33:55.923Z"
   },
   {
    "duration": 7,
    "start_time": "2024-09-11T18:33:55.936Z"
   },
   {
    "duration": 25,
    "start_time": "2024-09-11T18:33:55.945Z"
   },
   {
    "duration": 8,
    "start_time": "2024-09-11T18:33:55.971Z"
   },
   {
    "duration": 8,
    "start_time": "2024-09-11T18:33:55.981Z"
   },
   {
    "duration": 8,
    "start_time": "2024-09-11T18:33:55.991Z"
   },
   {
    "duration": 21,
    "start_time": "2024-09-11T18:33:56.002Z"
   },
   {
    "duration": 9,
    "start_time": "2024-09-11T18:33:56.025Z"
   },
   {
    "duration": 16,
    "start_time": "2024-09-11T18:33:56.036Z"
   },
   {
    "duration": 17,
    "start_time": "2024-09-11T18:33:56.056Z"
   },
   {
    "duration": 559,
    "start_time": "2024-09-11T18:33:56.075Z"
   },
   {
    "duration": 1249,
    "start_time": "2024-09-11T18:33:56.636Z"
   },
   {
    "duration": 7,
    "start_time": "2024-09-11T18:33:57.886Z"
   },
   {
    "duration": 51,
    "start_time": "2024-09-11T18:33:57.894Z"
   },
   {
    "duration": 9,
    "start_time": "2024-09-11T18:33:57.946Z"
   },
   {
    "duration": 178,
    "start_time": "2024-09-11T18:33:57.957Z"
   },
   {
    "duration": 0,
    "start_time": "2024-09-11T18:33:58.137Z"
   },
   {
    "duration": 0,
    "start_time": "2024-09-11T18:33:58.138Z"
   },
   {
    "duration": 0,
    "start_time": "2024-09-11T18:33:58.152Z"
   },
   {
    "duration": 0,
    "start_time": "2024-09-11T18:33:58.153Z"
   },
   {
    "duration": 0,
    "start_time": "2024-09-11T18:33:58.155Z"
   },
   {
    "duration": 0,
    "start_time": "2024-09-11T18:33:58.156Z"
   },
   {
    "duration": 0,
    "start_time": "2024-09-11T18:33:58.158Z"
   },
   {
    "duration": 0,
    "start_time": "2024-09-11T18:33:58.159Z"
   },
   {
    "duration": 0,
    "start_time": "2024-09-11T18:33:58.160Z"
   },
   {
    "duration": 0,
    "start_time": "2024-09-11T18:33:58.162Z"
   },
   {
    "duration": 0,
    "start_time": "2024-09-11T18:33:58.163Z"
   },
   {
    "duration": 13816,
    "start_time": "2024-09-11T18:35:52.009Z"
   },
   {
    "duration": 24,
    "start_time": "2024-09-11T18:37:31.467Z"
   },
   {
    "duration": 6,
    "start_time": "2024-09-11T18:38:14.834Z"
   },
   {
    "duration": 13041,
    "start_time": "2024-09-11T18:38:23.141Z"
   },
   {
    "duration": 2839,
    "start_time": "2024-09-11T18:38:36.184Z"
   },
   {
    "duration": 3161,
    "start_time": "2024-09-11T18:38:39.025Z"
   },
   {
    "duration": 108,
    "start_time": "2024-09-11T18:38:42.188Z"
   },
   {
    "duration": 31,
    "start_time": "2024-09-11T18:38:42.299Z"
   },
   {
    "duration": 10,
    "start_time": "2024-09-11T18:38:42.332Z"
   },
   {
    "duration": 9,
    "start_time": "2024-09-11T18:38:42.344Z"
   },
   {
    "duration": 18,
    "start_time": "2024-09-11T18:38:42.355Z"
   },
   {
    "duration": 15,
    "start_time": "2024-09-11T18:38:42.375Z"
   },
   {
    "duration": 13,
    "start_time": "2024-09-11T18:38:42.392Z"
   },
   {
    "duration": 17,
    "start_time": "2024-09-11T18:38:42.407Z"
   },
   {
    "duration": 10,
    "start_time": "2024-09-11T18:38:42.426Z"
   },
   {
    "duration": 60,
    "start_time": "2024-09-11T18:38:42.438Z"
   },
   {
    "duration": 4,
    "start_time": "2024-09-11T18:38:42.501Z"
   },
   {
    "duration": 7,
    "start_time": "2024-09-11T18:38:42.507Z"
   },
   {
    "duration": 7,
    "start_time": "2024-09-11T18:38:42.515Z"
   },
   {
    "duration": 15,
    "start_time": "2024-09-11T18:38:42.524Z"
   },
   {
    "duration": 4,
    "start_time": "2024-09-11T18:38:42.540Z"
   },
   {
    "duration": 29,
    "start_time": "2024-09-11T18:38:42.546Z"
   },
   {
    "duration": 8,
    "start_time": "2024-09-11T18:38:42.580Z"
   },
   {
    "duration": 25,
    "start_time": "2024-09-11T18:38:42.589Z"
   },
   {
    "duration": 22,
    "start_time": "2024-09-11T18:38:42.615Z"
   },
   {
    "duration": 22,
    "start_time": "2024-09-11T18:38:42.638Z"
   },
   {
    "duration": 7,
    "start_time": "2024-09-11T18:38:42.662Z"
   },
   {
    "duration": 7,
    "start_time": "2024-09-11T18:38:42.672Z"
   },
   {
    "duration": 6,
    "start_time": "2024-09-11T18:38:42.681Z"
   },
   {
    "duration": 21,
    "start_time": "2024-09-11T18:38:42.688Z"
   },
   {
    "duration": 10,
    "start_time": "2024-09-11T18:38:42.710Z"
   },
   {
    "duration": 10,
    "start_time": "2024-09-11T18:38:42.721Z"
   },
   {
    "duration": 21,
    "start_time": "2024-09-11T18:38:42.732Z"
   },
   {
    "duration": 342,
    "start_time": "2024-09-11T18:38:42.755Z"
   },
   {
    "duration": 282,
    "start_time": "2024-09-11T18:38:43.098Z"
   },
   {
    "duration": 9,
    "start_time": "2024-09-11T18:38:43.382Z"
   },
   {
    "duration": 287,
    "start_time": "2024-09-11T18:38:43.393Z"
   },
   {
    "duration": 7,
    "start_time": "2024-09-11T18:38:43.682Z"
   },
   {
    "duration": 297,
    "start_time": "2024-09-11T18:38:43.691Z"
   },
   {
    "duration": 366,
    "start_time": "2024-09-11T18:38:43.990Z"
   },
   {
    "duration": 8,
    "start_time": "2024-09-11T18:38:44.359Z"
   },
   {
    "duration": 364,
    "start_time": "2024-09-11T18:38:44.370Z"
   },
   {
    "duration": 295,
    "start_time": "2024-09-11T18:38:44.735Z"
   },
   {
    "duration": 468,
    "start_time": "2024-09-11T18:38:45.035Z"
   },
   {
    "duration": 362,
    "start_time": "2024-09-11T18:38:45.504Z"
   },
   {
    "duration": 261,
    "start_time": "2024-09-11T18:38:45.868Z"
   },
   {
    "duration": 372,
    "start_time": "2024-09-11T18:38:46.130Z"
   },
   {
    "duration": 234,
    "start_time": "2024-09-11T18:38:46.503Z"
   },
   {
    "duration": 6,
    "start_time": "2024-09-11T18:38:46.753Z"
   },
   {
    "duration": 430,
    "start_time": "2024-09-11T18:38:46.761Z"
   },
   {
    "duration": 6,
    "start_time": "2024-09-11T18:38:47.193Z"
   },
   {
    "duration": 371,
    "start_time": "2024-09-11T18:38:47.201Z"
   },
   {
    "duration": 253,
    "start_time": "2024-09-11T18:38:47.574Z"
   },
   {
    "duration": 360,
    "start_time": "2024-09-11T18:38:47.829Z"
   },
   {
    "duration": 228,
    "start_time": "2024-09-11T18:38:48.190Z"
   },
   {
    "duration": 365,
    "start_time": "2024-09-11T18:38:48.420Z"
   },
   {
    "duration": 254,
    "start_time": "2024-09-11T18:38:48.786Z"
   },
   {
    "duration": 349,
    "start_time": "2024-09-11T18:38:49.042Z"
   },
   {
    "duration": 246,
    "start_time": "2024-09-11T18:38:49.392Z"
   },
   {
    "duration": 13,
    "start_time": "2024-09-11T18:38:49.639Z"
   },
   {
    "duration": 21,
    "start_time": "2024-09-11T18:38:49.653Z"
   },
   {
    "duration": 15,
    "start_time": "2024-09-11T18:38:49.676Z"
   },
   {
    "duration": 6,
    "start_time": "2024-09-11T18:38:49.693Z"
   },
   {
    "duration": 13,
    "start_time": "2024-09-11T18:38:49.701Z"
   },
   {
    "duration": 396,
    "start_time": "2024-09-11T18:38:49.716Z"
   },
   {
    "duration": 317,
    "start_time": "2024-09-11T18:38:50.114Z"
   },
   {
    "duration": 345,
    "start_time": "2024-09-11T18:38:50.432Z"
   },
   {
    "duration": 509,
    "start_time": "2024-09-11T18:38:50.778Z"
   },
   {
    "duration": 268,
    "start_time": "2024-09-11T18:38:51.288Z"
   },
   {
    "duration": 282,
    "start_time": "2024-09-11T18:38:51.558Z"
   },
   {
    "duration": 366,
    "start_time": "2024-09-11T18:38:51.841Z"
   },
   {
    "duration": 260,
    "start_time": "2024-09-11T18:38:52.209Z"
   },
   {
    "duration": 10,
    "start_time": "2024-09-11T18:38:52.471Z"
   },
   {
    "duration": 25,
    "start_time": "2024-09-11T18:38:52.483Z"
   },
   {
    "duration": 4,
    "start_time": "2024-09-11T18:38:52.510Z"
   },
   {
    "duration": 6,
    "start_time": "2024-09-11T18:38:52.516Z"
   },
   {
    "duration": 30,
    "start_time": "2024-09-11T18:38:52.524Z"
   },
   {
    "duration": 17,
    "start_time": "2024-09-11T18:38:52.564Z"
   },
   {
    "duration": 17,
    "start_time": "2024-09-11T18:38:52.583Z"
   },
   {
    "duration": 19,
    "start_time": "2024-09-11T18:38:52.602Z"
   },
   {
    "duration": 13,
    "start_time": "2024-09-11T18:38:52.622Z"
   },
   {
    "duration": 13,
    "start_time": "2024-09-11T18:38:52.637Z"
   },
   {
    "duration": 19,
    "start_time": "2024-09-11T18:38:52.652Z"
   },
   {
    "duration": 13,
    "start_time": "2024-09-11T18:38:52.673Z"
   },
   {
    "duration": 8,
    "start_time": "2024-09-11T18:38:52.688Z"
   },
   {
    "duration": 24,
    "start_time": "2024-09-11T18:38:52.698Z"
   },
   {
    "duration": 20,
    "start_time": "2024-09-11T18:38:52.724Z"
   },
   {
    "duration": 638,
    "start_time": "2024-09-11T18:38:52.746Z"
   },
   {
    "duration": 1420,
    "start_time": "2024-09-11T18:38:53.385Z"
   },
   {
    "duration": 5,
    "start_time": "2024-09-11T18:38:54.807Z"
   },
   {
    "duration": 36,
    "start_time": "2024-09-11T18:38:54.814Z"
   },
   {
    "duration": 11,
    "start_time": "2024-09-11T18:38:54.852Z"
   },
   {
    "duration": 150,
    "start_time": "2024-09-11T18:38:54.865Z"
   },
   {
    "duration": 0,
    "start_time": "2024-09-11T18:38:55.017Z"
   },
   {
    "duration": 0,
    "start_time": "2024-09-11T18:38:55.018Z"
   },
   {
    "duration": 0,
    "start_time": "2024-09-11T18:38:55.019Z"
   },
   {
    "duration": 0,
    "start_time": "2024-09-11T18:38:55.020Z"
   },
   {
    "duration": 0,
    "start_time": "2024-09-11T18:38:55.021Z"
   },
   {
    "duration": 0,
    "start_time": "2024-09-11T18:38:55.022Z"
   },
   {
    "duration": 0,
    "start_time": "2024-09-11T18:38:55.023Z"
   },
   {
    "duration": 0,
    "start_time": "2024-09-11T18:38:55.024Z"
   },
   {
    "duration": 0,
    "start_time": "2024-09-11T18:38:55.025Z"
   },
   {
    "duration": 0,
    "start_time": "2024-09-11T18:38:55.026Z"
   },
   {
    "duration": 0,
    "start_time": "2024-09-11T18:38:55.027Z"
   },
   {
    "duration": 0,
    "start_time": "2024-09-11T18:38:55.028Z"
   },
   {
    "duration": 6379,
    "start_time": "2024-09-11T18:39:08.065Z"
   },
   {
    "duration": 15113,
    "start_time": "2024-09-11T18:39:17.927Z"
   },
   {
    "duration": 5836,
    "start_time": "2024-09-11T18:39:33.043Z"
   },
   {
    "duration": 2097,
    "start_time": "2024-09-11T18:39:38.881Z"
   },
   {
    "duration": 113,
    "start_time": "2024-09-11T18:39:40.981Z"
   },
   {
    "duration": 21,
    "start_time": "2024-09-11T18:39:41.096Z"
   },
   {
    "duration": 9,
    "start_time": "2024-09-11T18:39:41.119Z"
   },
   {
    "duration": 13,
    "start_time": "2024-09-11T18:39:41.129Z"
   },
   {
    "duration": 12,
    "start_time": "2024-09-11T18:39:41.143Z"
   },
   {
    "duration": 19,
    "start_time": "2024-09-11T18:39:41.168Z"
   },
   {
    "duration": 4,
    "start_time": "2024-09-11T18:39:41.190Z"
   },
   {
    "duration": 18,
    "start_time": "2024-09-11T18:39:41.195Z"
   },
   {
    "duration": 5,
    "start_time": "2024-09-11T18:39:41.215Z"
   },
   {
    "duration": 6,
    "start_time": "2024-09-11T18:39:41.221Z"
   },
   {
    "duration": 10,
    "start_time": "2024-09-11T18:39:41.229Z"
   },
   {
    "duration": 10,
    "start_time": "2024-09-11T18:39:41.240Z"
   },
   {
    "duration": 14,
    "start_time": "2024-09-11T18:39:41.256Z"
   },
   {
    "duration": 13,
    "start_time": "2024-09-11T18:39:41.278Z"
   },
   {
    "duration": 15,
    "start_time": "2024-09-11T18:39:41.293Z"
   },
   {
    "duration": 7,
    "start_time": "2024-09-11T18:39:41.310Z"
   },
   {
    "duration": 10,
    "start_time": "2024-09-11T18:39:41.319Z"
   },
   {
    "duration": 12,
    "start_time": "2024-09-11T18:39:41.331Z"
   },
   {
    "duration": 8,
    "start_time": "2024-09-11T18:39:41.356Z"
   },
   {
    "duration": 12,
    "start_time": "2024-09-11T18:39:41.365Z"
   },
   {
    "duration": 20,
    "start_time": "2024-09-11T18:39:41.379Z"
   },
   {
    "duration": 12,
    "start_time": "2024-09-11T18:39:41.400Z"
   },
   {
    "duration": 16,
    "start_time": "2024-09-11T18:39:41.414Z"
   },
   {
    "duration": 11,
    "start_time": "2024-09-11T18:39:41.431Z"
   },
   {
    "duration": 12,
    "start_time": "2024-09-11T18:39:41.447Z"
   },
   {
    "duration": 23,
    "start_time": "2024-09-11T18:39:41.461Z"
   },
   {
    "duration": 11,
    "start_time": "2024-09-11T18:39:41.488Z"
   },
   {
    "duration": 322,
    "start_time": "2024-09-11T18:39:41.500Z"
   },
   {
    "duration": 318,
    "start_time": "2024-09-11T18:39:41.824Z"
   },
   {
    "duration": 17,
    "start_time": "2024-09-11T18:39:42.144Z"
   },
   {
    "duration": 278,
    "start_time": "2024-09-11T18:39:42.169Z"
   },
   {
    "duration": 6,
    "start_time": "2024-09-11T18:39:42.455Z"
   },
   {
    "duration": 303,
    "start_time": "2024-09-11T18:39:42.463Z"
   },
   {
    "duration": 367,
    "start_time": "2024-09-11T18:39:42.768Z"
   },
   {
    "duration": 4,
    "start_time": "2024-09-11T18:39:43.137Z"
   },
   {
    "duration": 372,
    "start_time": "2024-09-11T18:39:43.142Z"
   },
   {
    "duration": 307,
    "start_time": "2024-09-11T18:39:43.515Z"
   },
   {
    "duration": 511,
    "start_time": "2024-09-11T18:39:43.823Z"
   },
   {
    "duration": 361,
    "start_time": "2024-09-11T18:39:44.335Z"
   },
   {
    "duration": 221,
    "start_time": "2024-09-11T18:39:44.697Z"
   },
   {
    "duration": 369,
    "start_time": "2024-09-11T18:39:44.920Z"
   },
   {
    "duration": 266,
    "start_time": "2024-09-11T18:39:45.291Z"
   },
   {
    "duration": 17,
    "start_time": "2024-09-11T18:39:45.568Z"
   },
   {
    "duration": 418,
    "start_time": "2024-09-11T18:39:45.587Z"
   },
   {
    "duration": 10,
    "start_time": "2024-09-11T18:39:46.007Z"
   },
   {
    "duration": 380,
    "start_time": "2024-09-11T18:39:46.018Z"
   },
   {
    "duration": 252,
    "start_time": "2024-09-11T18:39:46.400Z"
   },
   {
    "duration": 330,
    "start_time": "2024-09-11T18:39:46.655Z"
   },
   {
    "duration": 235,
    "start_time": "2024-09-11T18:39:46.987Z"
   },
   {
    "duration": 373,
    "start_time": "2024-09-11T18:39:47.224Z"
   },
   {
    "duration": 247,
    "start_time": "2024-09-11T18:39:47.598Z"
   },
   {
    "duration": 352,
    "start_time": "2024-09-11T18:39:47.846Z"
   },
   {
    "duration": 231,
    "start_time": "2024-09-11T18:39:48.200Z"
   },
   {
    "duration": 26,
    "start_time": "2024-09-11T18:39:48.433Z"
   },
   {
    "duration": 56,
    "start_time": "2024-09-11T18:39:48.461Z"
   },
   {
    "duration": 9,
    "start_time": "2024-09-11T18:39:48.519Z"
   },
   {
    "duration": 4,
    "start_time": "2024-09-11T18:39:48.529Z"
   },
   {
    "duration": 9,
    "start_time": "2024-09-11T18:39:48.534Z"
   },
   {
    "duration": 376,
    "start_time": "2024-09-11T18:39:48.545Z"
   },
   {
    "duration": 275,
    "start_time": "2024-09-11T18:39:48.923Z"
   },
   {
    "duration": 290,
    "start_time": "2024-09-11T18:39:49.200Z"
   },
   {
    "duration": 499,
    "start_time": "2024-09-11T18:39:49.492Z"
   },
   {
    "duration": 246,
    "start_time": "2024-09-11T18:39:49.993Z"
   },
   {
    "duration": 297,
    "start_time": "2024-09-11T18:39:50.240Z"
   },
   {
    "duration": 345,
    "start_time": "2024-09-11T18:39:50.539Z"
   },
   {
    "duration": 251,
    "start_time": "2024-09-11T18:39:50.886Z"
   },
   {
    "duration": 6,
    "start_time": "2024-09-11T18:39:51.139Z"
   },
   {
    "duration": 19,
    "start_time": "2024-09-11T18:39:51.146Z"
   },
   {
    "duration": 3,
    "start_time": "2024-09-11T18:39:51.166Z"
   },
   {
    "duration": 28,
    "start_time": "2024-09-11T18:39:51.180Z"
   },
   {
    "duration": 19,
    "start_time": "2024-09-11T18:39:51.209Z"
   },
   {
    "duration": 17,
    "start_time": "2024-09-11T18:39:51.229Z"
   },
   {
    "duration": 16,
    "start_time": "2024-09-11T18:39:51.248Z"
   },
   {
    "duration": 44,
    "start_time": "2024-09-11T18:39:51.266Z"
   },
   {
    "duration": 21,
    "start_time": "2024-09-11T18:39:51.312Z"
   },
   {
    "duration": 36,
    "start_time": "2024-09-11T18:39:51.334Z"
   },
   {
    "duration": 15,
    "start_time": "2024-09-11T18:39:51.372Z"
   },
   {
    "duration": 16,
    "start_time": "2024-09-11T18:39:51.389Z"
   },
   {
    "duration": 8,
    "start_time": "2024-09-11T18:39:51.414Z"
   },
   {
    "duration": 26,
    "start_time": "2024-09-11T18:39:51.424Z"
   },
   {
    "duration": 41,
    "start_time": "2024-09-11T18:39:51.452Z"
   },
   {
    "duration": 628,
    "start_time": "2024-09-11T18:39:51.494Z"
   },
   {
    "duration": 1381,
    "start_time": "2024-09-11T18:39:52.123Z"
   },
   {
    "duration": 5,
    "start_time": "2024-09-11T18:39:53.506Z"
   },
   {
    "duration": 76,
    "start_time": "2024-09-11T18:39:53.513Z"
   },
   {
    "duration": 10,
    "start_time": "2024-09-11T18:39:53.591Z"
   },
   {
    "duration": 185,
    "start_time": "2024-09-11T18:39:53.602Z"
   },
   {
    "duration": 0,
    "start_time": "2024-09-11T18:39:53.789Z"
   },
   {
    "duration": 0,
    "start_time": "2024-09-11T18:39:53.790Z"
   },
   {
    "duration": 0,
    "start_time": "2024-09-11T18:39:53.791Z"
   },
   {
    "duration": 0,
    "start_time": "2024-09-11T18:39:53.792Z"
   },
   {
    "duration": 0,
    "start_time": "2024-09-11T18:39:53.794Z"
   },
   {
    "duration": 0,
    "start_time": "2024-09-11T18:39:53.795Z"
   },
   {
    "duration": 0,
    "start_time": "2024-09-11T18:39:53.796Z"
   },
   {
    "duration": 0,
    "start_time": "2024-09-11T18:39:53.797Z"
   },
   {
    "duration": 0,
    "start_time": "2024-09-11T18:39:53.798Z"
   },
   {
    "duration": 0,
    "start_time": "2024-09-11T18:39:53.799Z"
   },
   {
    "duration": 0,
    "start_time": "2024-09-11T18:39:53.800Z"
   },
   {
    "duration": 0,
    "start_time": "2024-09-11T18:39:53.801Z"
   },
   {
    "duration": 3,
    "start_time": "2024-09-11T18:40:18.522Z"
   },
   {
    "duration": 19,
    "start_time": "2024-09-11T18:40:30.539Z"
   },
   {
    "duration": 3,
    "start_time": "2024-09-11T18:40:35.150Z"
   },
   {
    "duration": 2841,
    "start_time": "2024-09-11T18:41:01.238Z"
   },
   {
    "duration": 26,
    "start_time": "2024-09-11T18:41:04.081Z"
   },
   {
    "duration": 17,
    "start_time": "2024-09-11T18:43:04.118Z"
   },
   {
    "duration": 11,
    "start_time": "2024-09-11T18:43:05.207Z"
   },
   {
    "duration": 54,
    "start_time": "2024-09-11T18:43:16.837Z"
   },
   {
    "duration": 33,
    "start_time": "2024-09-11T18:44:19.476Z"
   },
   {
    "duration": 29,
    "start_time": "2024-09-11T18:45:29.447Z"
   },
   {
    "duration": 31,
    "start_time": "2024-09-11T18:46:27.686Z"
   },
   {
    "duration": 17,
    "start_time": "2024-09-11T18:47:14.856Z"
   },
   {
    "duration": 12583,
    "start_time": "2024-09-11T18:47:23.765Z"
   },
   {
    "duration": 5123,
    "start_time": "2024-09-11T18:47:36.350Z"
   },
   {
    "duration": 2703,
    "start_time": "2024-09-11T18:47:41.476Z"
   },
   {
    "duration": 99,
    "start_time": "2024-09-11T18:47:44.181Z"
   },
   {
    "duration": 27,
    "start_time": "2024-09-11T18:47:44.282Z"
   },
   {
    "duration": 7,
    "start_time": "2024-09-11T18:47:44.311Z"
   },
   {
    "duration": 13,
    "start_time": "2024-09-11T18:47:44.320Z"
   },
   {
    "duration": 14,
    "start_time": "2024-09-11T18:47:44.335Z"
   },
   {
    "duration": 19,
    "start_time": "2024-09-11T18:47:44.350Z"
   },
   {
    "duration": 4,
    "start_time": "2024-09-11T18:47:44.372Z"
   },
   {
    "duration": 12,
    "start_time": "2024-09-11T18:47:44.377Z"
   },
   {
    "duration": 10,
    "start_time": "2024-09-11T18:47:44.390Z"
   },
   {
    "duration": 5,
    "start_time": "2024-09-11T18:47:44.402Z"
   },
   {
    "duration": 8,
    "start_time": "2024-09-11T18:47:44.408Z"
   },
   {
    "duration": 7,
    "start_time": "2024-09-11T18:47:44.417Z"
   },
   {
    "duration": 26,
    "start_time": "2024-09-11T18:47:44.426Z"
   },
   {
    "duration": 10,
    "start_time": "2024-09-11T18:47:44.454Z"
   },
   {
    "duration": 70,
    "start_time": "2024-09-11T18:47:44.466Z"
   },
   {
    "duration": 8,
    "start_time": "2024-09-11T18:47:44.537Z"
   },
   {
    "duration": 7,
    "start_time": "2024-09-11T18:47:44.547Z"
   },
   {
    "duration": 12,
    "start_time": "2024-09-11T18:47:44.556Z"
   },
   {
    "duration": 6,
    "start_time": "2024-09-11T18:47:44.570Z"
   },
   {
    "duration": 5,
    "start_time": "2024-09-11T18:47:44.577Z"
   },
   {
    "duration": 14,
    "start_time": "2024-09-11T18:47:44.583Z"
   },
   {
    "duration": 12,
    "start_time": "2024-09-11T18:47:44.599Z"
   },
   {
    "duration": 6,
    "start_time": "2024-09-11T18:47:44.612Z"
   },
   {
    "duration": 35,
    "start_time": "2024-09-11T18:47:44.619Z"
   },
   {
    "duration": 5,
    "start_time": "2024-09-11T18:47:44.659Z"
   },
   {
    "duration": 7,
    "start_time": "2024-09-11T18:47:44.666Z"
   },
   {
    "duration": 12,
    "start_time": "2024-09-11T18:47:44.674Z"
   },
   {
    "duration": 353,
    "start_time": "2024-09-11T18:47:44.688Z"
   },
   {
    "duration": 269,
    "start_time": "2024-09-11T18:47:45.042Z"
   },
   {
    "duration": 6,
    "start_time": "2024-09-11T18:47:45.312Z"
   },
   {
    "duration": 305,
    "start_time": "2024-09-11T18:47:45.320Z"
   },
   {
    "duration": 6,
    "start_time": "2024-09-11T18:47:45.626Z"
   },
   {
    "duration": 242,
    "start_time": "2024-09-11T18:47:45.634Z"
   },
   {
    "duration": 357,
    "start_time": "2024-09-11T18:47:45.877Z"
   },
   {
    "duration": 2,
    "start_time": "2024-09-11T18:47:46.236Z"
   },
   {
    "duration": 329,
    "start_time": "2024-09-11T18:47:46.251Z"
   },
   {
    "duration": 232,
    "start_time": "2024-09-11T18:47:46.582Z"
   },
   {
    "duration": 482,
    "start_time": "2024-09-11T18:47:46.816Z"
   },
   {
    "duration": 337,
    "start_time": "2024-09-11T18:47:47.300Z"
   },
   {
    "duration": 244,
    "start_time": "2024-09-11T18:47:47.639Z"
   },
   {
    "duration": 309,
    "start_time": "2024-09-11T18:47:47.884Z"
   },
   {
    "duration": 218,
    "start_time": "2024-09-11T18:47:48.195Z"
   },
   {
    "duration": 6,
    "start_time": "2024-09-11T18:47:48.414Z"
   },
   {
    "duration": 358,
    "start_time": "2024-09-11T18:47:48.422Z"
   },
   {
    "duration": 7,
    "start_time": "2024-09-11T18:47:48.782Z"
   },
   {
    "duration": 385,
    "start_time": "2024-09-11T18:47:48.790Z"
   },
   {
    "duration": 238,
    "start_time": "2024-09-11T18:47:49.177Z"
   },
   {
    "duration": 320,
    "start_time": "2024-09-11T18:47:49.417Z"
   },
   {
    "duration": 254,
    "start_time": "2024-09-11T18:47:49.739Z"
   },
   {
    "duration": 359,
    "start_time": "2024-09-11T18:47:49.995Z"
   },
   {
    "duration": 263,
    "start_time": "2024-09-11T18:47:50.355Z"
   },
   {
    "duration": 344,
    "start_time": "2024-09-11T18:47:50.620Z"
   },
   {
    "duration": 239,
    "start_time": "2024-09-11T18:47:50.966Z"
   },
   {
    "duration": 8,
    "start_time": "2024-09-11T18:47:51.207Z"
   },
   {
    "duration": 15,
    "start_time": "2024-09-11T18:47:51.216Z"
   },
   {
    "duration": 21,
    "start_time": "2024-09-11T18:47:51.233Z"
   },
   {
    "duration": 4,
    "start_time": "2024-09-11T18:47:51.255Z"
   },
   {
    "duration": 11,
    "start_time": "2024-09-11T18:47:51.261Z"
   },
   {
    "duration": 318,
    "start_time": "2024-09-11T18:47:51.274Z"
   },
   {
    "duration": 237,
    "start_time": "2024-09-11T18:47:51.594Z"
   },
   {
    "duration": 297,
    "start_time": "2024-09-11T18:47:51.833Z"
   },
   {
    "duration": 454,
    "start_time": "2024-09-11T18:47:52.132Z"
   },
   {
    "duration": 252,
    "start_time": "2024-09-11T18:47:52.587Z"
   },
   {
    "duration": 294,
    "start_time": "2024-09-11T18:47:52.841Z"
   },
   {
    "duration": 345,
    "start_time": "2024-09-11T18:47:53.137Z"
   },
   {
    "duration": 229,
    "start_time": "2024-09-11T18:47:53.484Z"
   },
   {
    "duration": 6,
    "start_time": "2024-09-11T18:47:53.714Z"
   },
   {
    "duration": 15,
    "start_time": "2024-09-11T18:47:53.721Z"
   },
   {
    "duration": 5,
    "start_time": "2024-09-11T18:47:53.737Z"
   },
   {
    "duration": 9,
    "start_time": "2024-09-11T18:47:53.753Z"
   },
   {
    "duration": 16,
    "start_time": "2024-09-11T18:47:53.763Z"
   },
   {
    "duration": 18,
    "start_time": "2024-09-11T18:47:53.781Z"
   },
   {
    "duration": 73,
    "start_time": "2024-09-11T18:47:53.801Z"
   },
   {
    "duration": 13,
    "start_time": "2024-09-11T18:47:53.875Z"
   },
   {
    "duration": 11,
    "start_time": "2024-09-11T18:47:53.890Z"
   },
   {
    "duration": 15,
    "start_time": "2024-09-11T18:47:53.903Z"
   },
   {
    "duration": 10,
    "start_time": "2024-09-11T18:47:53.926Z"
   },
   {
    "duration": 18,
    "start_time": "2024-09-11T18:47:53.939Z"
   },
   {
    "duration": 19,
    "start_time": "2024-09-11T18:47:53.966Z"
   },
   {
    "duration": 29,
    "start_time": "2024-09-11T18:47:53.987Z"
   },
   {
    "duration": 15,
    "start_time": "2024-09-11T18:47:54.018Z"
   },
   {
    "duration": 597,
    "start_time": "2024-09-11T18:47:54.035Z"
   },
   {
    "duration": 1264,
    "start_time": "2024-09-11T18:47:54.633Z"
   },
   {
    "duration": 5,
    "start_time": "2024-09-11T18:47:55.899Z"
   },
   {
    "duration": 7,
    "start_time": "2024-09-11T18:47:55.905Z"
   },
   {
    "duration": 6,
    "start_time": "2024-09-11T18:47:55.913Z"
   },
   {
    "duration": 12,
    "start_time": "2024-09-11T18:47:55.920Z"
   },
   {
    "duration": 6,
    "start_time": "2024-09-11T18:47:55.934Z"
   },
   {
    "duration": 13,
    "start_time": "2024-09-11T18:47:55.941Z"
   },
   {
    "duration": 2428,
    "start_time": "2024-09-11T18:47:55.956Z"
   },
   {
    "duration": 15,
    "start_time": "2024-09-11T18:47:58.386Z"
   },
   {
    "duration": 19,
    "start_time": "2024-09-11T18:47:58.403Z"
   },
   {
    "duration": 10,
    "start_time": "2024-09-11T18:47:58.424Z"
   },
   {
    "duration": 186,
    "start_time": "2024-09-11T18:47:58.451Z"
   },
   {
    "duration": 0,
    "start_time": "2024-09-11T18:47:58.639Z"
   },
   {
    "duration": 0,
    "start_time": "2024-09-11T18:47:58.640Z"
   },
   {
    "duration": 0,
    "start_time": "2024-09-11T18:47:58.641Z"
   },
   {
    "duration": 0,
    "start_time": "2024-09-11T18:47:58.651Z"
   },
   {
    "duration": 0,
    "start_time": "2024-09-11T18:47:58.653Z"
   },
   {
    "duration": 4,
    "start_time": "2024-09-11T18:52:07.492Z"
   },
   {
    "duration": 30,
    "start_time": "2024-09-11T18:52:54.833Z"
   },
   {
    "duration": 34901,
    "start_time": "2024-09-16T11:45:22.578Z"
   },
   {
    "duration": 13865,
    "start_time": "2024-09-16T11:46:22.237Z"
   },
   {
    "duration": 6296,
    "start_time": "2024-09-16T11:46:36.104Z"
   },
   {
    "duration": 1927,
    "start_time": "2024-09-16T11:46:42.402Z"
   },
   {
    "duration": 82,
    "start_time": "2024-09-16T11:46:44.331Z"
   },
   {
    "duration": 19,
    "start_time": "2024-09-16T11:46:44.415Z"
   },
   {
    "duration": 7,
    "start_time": "2024-09-16T11:46:44.436Z"
   },
   {
    "duration": 13,
    "start_time": "2024-09-16T11:46:44.445Z"
   },
   {
    "duration": 48,
    "start_time": "2024-09-16T11:46:44.460Z"
   },
   {
    "duration": 16,
    "start_time": "2024-09-16T11:46:44.509Z"
   },
   {
    "duration": 4,
    "start_time": "2024-09-16T11:46:44.529Z"
   },
   {
    "duration": 60,
    "start_time": "2024-09-16T11:46:44.534Z"
   },
   {
    "duration": 58,
    "start_time": "2024-09-16T11:46:44.596Z"
   },
   {
    "duration": 32,
    "start_time": "2024-09-16T11:46:44.655Z"
   },
   {
    "duration": 28,
    "start_time": "2024-09-16T11:46:44.688Z"
   },
   {
    "duration": 10,
    "start_time": "2024-09-16T11:46:44.717Z"
   },
   {
    "duration": 7,
    "start_time": "2024-09-16T11:46:44.729Z"
   },
   {
    "duration": 11,
    "start_time": "2024-09-16T11:46:44.738Z"
   },
   {
    "duration": 5,
    "start_time": "2024-09-16T11:46:44.750Z"
   },
   {
    "duration": 10,
    "start_time": "2024-09-16T11:46:44.756Z"
   },
   {
    "duration": 5,
    "start_time": "2024-09-16T11:46:44.767Z"
   },
   {
    "duration": 41,
    "start_time": "2024-09-16T11:46:44.774Z"
   },
   {
    "duration": 5,
    "start_time": "2024-09-16T11:46:44.816Z"
   },
   {
    "duration": 20,
    "start_time": "2024-09-16T11:46:44.823Z"
   },
   {
    "duration": 9,
    "start_time": "2024-09-16T11:46:44.845Z"
   },
   {
    "duration": 6,
    "start_time": "2024-09-16T11:46:44.856Z"
   },
   {
    "duration": 8,
    "start_time": "2024-09-16T11:46:44.863Z"
   },
   {
    "duration": 8,
    "start_time": "2024-09-16T11:46:44.872Z"
   },
   {
    "duration": 5,
    "start_time": "2024-09-16T11:46:44.884Z"
   },
   {
    "duration": 19,
    "start_time": "2024-09-16T11:46:44.890Z"
   },
   {
    "duration": 21,
    "start_time": "2024-09-16T11:46:44.911Z"
   },
   {
    "duration": 294,
    "start_time": "2024-09-16T11:46:44.934Z"
   },
   {
    "duration": 238,
    "start_time": "2024-09-16T11:46:45.230Z"
   },
   {
    "duration": 5,
    "start_time": "2024-09-16T11:46:45.469Z"
   },
   {
    "duration": 291,
    "start_time": "2024-09-16T11:46:45.475Z"
   },
   {
    "duration": 5,
    "start_time": "2024-09-16T11:46:45.768Z"
   },
   {
    "duration": 267,
    "start_time": "2024-09-16T11:46:45.774Z"
   },
   {
    "duration": 334,
    "start_time": "2024-09-16T11:46:46.042Z"
   },
   {
    "duration": 2,
    "start_time": "2024-09-16T11:46:46.378Z"
   },
   {
    "duration": 346,
    "start_time": "2024-09-16T11:46:46.382Z"
   },
   {
    "duration": 248,
    "start_time": "2024-09-16T11:46:46.729Z"
   },
   {
    "duration": 432,
    "start_time": "2024-09-16T11:46:46.978Z"
   },
   {
    "duration": 297,
    "start_time": "2024-09-16T11:46:47.411Z"
   },
   {
    "duration": 236,
    "start_time": "2024-09-16T11:46:47.709Z"
   },
   {
    "duration": 283,
    "start_time": "2024-09-16T11:46:47.946Z"
   },
   {
    "duration": 248,
    "start_time": "2024-09-16T11:46:48.231Z"
   },
   {
    "duration": 5,
    "start_time": "2024-09-16T11:46:48.480Z"
   },
   {
    "duration": 330,
    "start_time": "2024-09-16T11:46:48.486Z"
   },
   {
    "duration": 11,
    "start_time": "2024-09-16T11:46:48.818Z"
   },
   {
    "duration": 327,
    "start_time": "2024-09-16T11:46:48.832Z"
   },
   {
    "duration": 277,
    "start_time": "2024-09-16T11:46:49.161Z"
   },
   {
    "duration": 267,
    "start_time": "2024-09-16T11:46:49.440Z"
   },
   {
    "duration": 251,
    "start_time": "2024-09-16T11:46:49.709Z"
   },
   {
    "duration": 362,
    "start_time": "2024-09-16T11:46:49.962Z"
   },
   {
    "duration": 241,
    "start_time": "2024-09-16T11:46:50.326Z"
   },
   {
    "duration": 324,
    "start_time": "2024-09-16T11:46:50.569Z"
   },
   {
    "duration": 247,
    "start_time": "2024-09-16T11:46:50.895Z"
   },
   {
    "duration": 7,
    "start_time": "2024-09-16T11:46:51.143Z"
   },
   {
    "duration": 17,
    "start_time": "2024-09-16T11:46:51.151Z"
   },
   {
    "duration": 24,
    "start_time": "2024-09-16T11:46:51.169Z"
   },
   {
    "duration": 34,
    "start_time": "2024-09-16T11:46:51.194Z"
   },
   {
    "duration": 34,
    "start_time": "2024-09-16T11:46:51.231Z"
   },
   {
    "duration": 329,
    "start_time": "2024-09-16T11:46:51.266Z"
   },
   {
    "duration": 271,
    "start_time": "2024-09-16T11:46:51.596Z"
   },
   {
    "duration": 307,
    "start_time": "2024-09-16T11:46:51.868Z"
   },
   {
    "duration": 433,
    "start_time": "2024-09-16T11:46:52.177Z"
   },
   {
    "duration": 267,
    "start_time": "2024-09-16T11:46:52.612Z"
   },
   {
    "duration": 283,
    "start_time": "2024-09-16T11:46:52.880Z"
   },
   {
    "duration": 344,
    "start_time": "2024-09-16T11:46:53.164Z"
   },
   {
    "duration": 245,
    "start_time": "2024-09-16T11:46:53.510Z"
   },
   {
    "duration": 5,
    "start_time": "2024-09-16T11:46:53.757Z"
   },
   {
    "duration": 28,
    "start_time": "2024-09-16T11:46:53.764Z"
   },
   {
    "duration": 5,
    "start_time": "2024-09-16T11:46:53.793Z"
   },
   {
    "duration": 17,
    "start_time": "2024-09-16T11:46:53.799Z"
   },
   {
    "duration": 17,
    "start_time": "2024-09-16T11:46:53.817Z"
   },
   {
    "duration": 18,
    "start_time": "2024-09-16T11:46:53.835Z"
   },
   {
    "duration": 19,
    "start_time": "2024-09-16T11:46:53.855Z"
   },
   {
    "duration": 12,
    "start_time": "2024-09-16T11:46:53.875Z"
   },
   {
    "duration": 12,
    "start_time": "2024-09-16T11:46:53.888Z"
   },
   {
    "duration": 13,
    "start_time": "2024-09-16T11:46:53.902Z"
   },
   {
    "duration": 8,
    "start_time": "2024-09-16T11:46:53.916Z"
   },
   {
    "duration": 6,
    "start_time": "2024-09-16T11:46:53.926Z"
   },
   {
    "duration": 6,
    "start_time": "2024-09-16T11:46:53.938Z"
   },
   {
    "duration": 34,
    "start_time": "2024-09-16T11:46:53.945Z"
   },
   {
    "duration": 21,
    "start_time": "2024-09-16T11:46:53.980Z"
   },
   {
    "duration": 458,
    "start_time": "2024-09-16T11:46:54.002Z"
   },
   {
    "duration": 1099,
    "start_time": "2024-09-16T11:46:54.462Z"
   },
   {
    "duration": 4,
    "start_time": "2024-09-16T11:46:55.563Z"
   },
   {
    "duration": 59,
    "start_time": "2024-09-16T11:46:55.568Z"
   },
   {
    "duration": 20,
    "start_time": "2024-09-16T11:46:55.629Z"
   },
   {
    "duration": 29,
    "start_time": "2024-09-16T11:46:55.651Z"
   },
   {
    "duration": 45,
    "start_time": "2024-09-16T11:46:55.682Z"
   },
   {
    "duration": 21,
    "start_time": "2024-09-16T11:46:55.729Z"
   },
   {
    "duration": 2223,
    "start_time": "2024-09-16T11:46:55.752Z"
   },
   {
    "duration": 14,
    "start_time": "2024-09-16T11:46:57.976Z"
   },
   {
    "duration": 18,
    "start_time": "2024-09-16T11:46:57.992Z"
   },
   {
    "duration": 27,
    "start_time": "2024-09-16T11:46:58.012Z"
   },
   {
    "duration": 2,
    "start_time": "2024-09-16T11:46:58.041Z"
   },
   {
    "duration": 160,
    "start_time": "2024-09-16T12:02:28.430Z"
   },
   {
    "duration": 1407,
    "start_time": "2024-09-16T12:03:03.370Z"
   },
   {
    "duration": 32,
    "start_time": "2024-09-16T12:05:01.022Z"
   },
   {
    "duration": 25,
    "start_time": "2024-09-16T12:06:18.958Z"
   },
   {
    "duration": 24,
    "start_time": "2024-09-16T12:06:37.065Z"
   },
   {
    "duration": 31,
    "start_time": "2024-09-16T12:06:47.006Z"
   },
   {
    "duration": 17,
    "start_time": "2024-09-16T12:07:25.682Z"
   },
   {
    "duration": 24,
    "start_time": "2024-09-16T12:07:51.592Z"
   },
   {
    "duration": 35,
    "start_time": "2024-09-16T12:08:25.663Z"
   },
   {
    "duration": 15,
    "start_time": "2024-09-16T12:11:00.771Z"
   },
   {
    "duration": 18,
    "start_time": "2024-09-16T12:11:14.311Z"
   },
   {
    "duration": 18,
    "start_time": "2024-09-16T12:12:27.782Z"
   },
   {
    "duration": 2,
    "start_time": "2024-09-16T12:12:55.530Z"
   },
   {
    "duration": 14,
    "start_time": "2024-09-16T12:13:24.590Z"
   },
   {
    "duration": 34,
    "start_time": "2024-09-16T12:13:54.254Z"
   },
   {
    "duration": 12,
    "start_time": "2024-09-16T12:15:42.685Z"
   },
   {
    "duration": 58,
    "start_time": "2024-09-16T12:18:29.280Z"
   },
   {
    "duration": 1182,
    "start_time": "2024-09-16T12:18:49.691Z"
   },
   {
    "duration": 1127,
    "start_time": "2024-09-16T12:23:40.463Z"
   },
   {
    "duration": 1197,
    "start_time": "2024-09-16T12:31:07.328Z"
   },
   {
    "duration": 32,
    "start_time": "2024-09-16T12:33:22.575Z"
   },
   {
    "duration": 1481,
    "start_time": "2024-09-16T12:33:58.976Z"
   },
   {
    "duration": 81,
    "start_time": "2024-09-16T12:35:58.628Z"
   },
   {
    "duration": 10,
    "start_time": "2024-09-16T12:35:59.565Z"
   },
   {
    "duration": 12662,
    "start_time": "2024-09-16T12:36:08.302Z"
   },
   {
    "duration": 5297,
    "start_time": "2024-09-16T12:36:20.966Z"
   },
   {
    "duration": 1744,
    "start_time": "2024-09-16T12:36:26.265Z"
   },
   {
    "duration": 81,
    "start_time": "2024-09-16T12:36:28.011Z"
   },
   {
    "duration": 15,
    "start_time": "2024-09-16T12:36:28.093Z"
   },
   {
    "duration": 7,
    "start_time": "2024-09-16T12:36:28.109Z"
   },
   {
    "duration": 8,
    "start_time": "2024-09-16T12:36:28.118Z"
   },
   {
    "duration": 32,
    "start_time": "2024-09-16T12:36:28.127Z"
   },
   {
    "duration": 16,
    "start_time": "2024-09-16T12:36:28.160Z"
   },
   {
    "duration": 3,
    "start_time": "2024-09-16T12:36:28.178Z"
   },
   {
    "duration": 19,
    "start_time": "2024-09-16T12:36:28.182Z"
   },
   {
    "duration": 13,
    "start_time": "2024-09-16T12:36:28.203Z"
   },
   {
    "duration": 18,
    "start_time": "2024-09-16T12:36:28.217Z"
   },
   {
    "duration": 16,
    "start_time": "2024-09-16T12:36:28.236Z"
   },
   {
    "duration": 39,
    "start_time": "2024-09-16T12:36:28.254Z"
   },
   {
    "duration": 14,
    "start_time": "2024-09-16T12:36:28.295Z"
   },
   {
    "duration": 20,
    "start_time": "2024-09-16T12:36:28.311Z"
   },
   {
    "duration": 17,
    "start_time": "2024-09-16T12:36:28.333Z"
   },
   {
    "duration": 9,
    "start_time": "2024-09-16T12:36:28.352Z"
   },
   {
    "duration": 45,
    "start_time": "2024-09-16T12:36:28.363Z"
   },
   {
    "duration": 17,
    "start_time": "2024-09-16T12:36:28.409Z"
   },
   {
    "duration": 20,
    "start_time": "2024-09-16T12:36:28.428Z"
   },
   {
    "duration": 46,
    "start_time": "2024-09-16T12:36:28.449Z"
   },
   {
    "duration": 30,
    "start_time": "2024-09-16T12:36:28.496Z"
   },
   {
    "duration": 17,
    "start_time": "2024-09-16T12:36:28.528Z"
   },
   {
    "duration": 10,
    "start_time": "2024-09-16T12:36:28.547Z"
   },
   {
    "duration": 14,
    "start_time": "2024-09-16T12:36:28.558Z"
   },
   {
    "duration": 6,
    "start_time": "2024-09-16T12:36:28.576Z"
   },
   {
    "duration": 8,
    "start_time": "2024-09-16T12:36:28.583Z"
   },
   {
    "duration": 23,
    "start_time": "2024-09-16T12:36:28.593Z"
   },
   {
    "duration": 256,
    "start_time": "2024-09-16T12:36:28.618Z"
   },
   {
    "duration": 269,
    "start_time": "2024-09-16T12:36:28.875Z"
   },
   {
    "duration": 5,
    "start_time": "2024-09-16T12:36:29.145Z"
   },
   {
    "duration": 276,
    "start_time": "2024-09-16T12:36:29.151Z"
   },
   {
    "duration": 6,
    "start_time": "2024-09-16T12:36:29.429Z"
   },
   {
    "duration": 271,
    "start_time": "2024-09-16T12:36:29.436Z"
   },
   {
    "duration": 311,
    "start_time": "2024-09-16T12:36:29.708Z"
   },
   {
    "duration": 3,
    "start_time": "2024-09-16T12:36:30.020Z"
   },
   {
    "duration": 340,
    "start_time": "2024-09-16T12:36:30.024Z"
   },
   {
    "duration": 184,
    "start_time": "2024-09-16T12:36:30.365Z"
   },
   {
    "duration": 418,
    "start_time": "2024-09-16T12:36:30.550Z"
   },
   {
    "duration": 303,
    "start_time": "2024-09-16T12:36:30.969Z"
   },
   {
    "duration": 176,
    "start_time": "2024-09-16T12:36:31.274Z"
   },
   {
    "duration": 330,
    "start_time": "2024-09-16T12:36:31.451Z"
   },
   {
    "duration": 258,
    "start_time": "2024-09-16T12:36:31.783Z"
   },
   {
    "duration": 5,
    "start_time": "2024-09-16T12:36:32.042Z"
   },
   {
    "duration": 327,
    "start_time": "2024-09-16T12:36:32.049Z"
   },
   {
    "duration": 6,
    "start_time": "2024-09-16T12:36:32.378Z"
   },
   {
    "duration": 313,
    "start_time": "2024-09-16T12:36:32.385Z"
   },
   {
    "duration": 246,
    "start_time": "2024-09-16T12:36:32.700Z"
   },
   {
    "duration": 234,
    "start_time": "2024-09-16T12:36:32.947Z"
   },
   {
    "duration": 250,
    "start_time": "2024-09-16T12:36:33.183Z"
   },
   {
    "duration": 258,
    "start_time": "2024-09-16T12:36:33.434Z"
   },
   {
    "duration": 245,
    "start_time": "2024-09-16T12:36:33.694Z"
   },
   {
    "duration": 252,
    "start_time": "2024-09-16T12:36:33.941Z"
   },
   {
    "duration": 246,
    "start_time": "2024-09-16T12:36:34.194Z"
   },
   {
    "duration": 7,
    "start_time": "2024-09-16T12:36:34.442Z"
   },
   {
    "duration": 69,
    "start_time": "2024-09-16T12:36:34.450Z"
   },
   {
    "duration": 9,
    "start_time": "2024-09-16T12:36:34.521Z"
   },
   {
    "duration": 14,
    "start_time": "2024-09-16T12:36:34.532Z"
   },
   {
    "duration": 15,
    "start_time": "2024-09-16T12:36:34.548Z"
   },
   {
    "duration": 331,
    "start_time": "2024-09-16T12:36:34.564Z"
   },
   {
    "duration": 242,
    "start_time": "2024-09-16T12:36:34.906Z"
   },
   {
    "duration": 237,
    "start_time": "2024-09-16T12:36:35.149Z"
   },
   {
    "duration": 391,
    "start_time": "2024-09-16T12:36:35.387Z"
   },
   {
    "duration": 261,
    "start_time": "2024-09-16T12:36:35.780Z"
   },
   {
    "duration": 242,
    "start_time": "2024-09-16T12:36:36.042Z"
   },
   {
    "duration": 1332,
    "start_time": "2024-09-16T12:36:36.286Z"
   },
   {
    "duration": 0,
    "start_time": "2024-09-16T12:36:37.620Z"
   },
   {
    "duration": 0,
    "start_time": "2024-09-16T12:36:37.621Z"
   },
   {
    "duration": 0,
    "start_time": "2024-09-16T12:36:37.622Z"
   },
   {
    "duration": 1,
    "start_time": "2024-09-16T12:36:37.622Z"
   },
   {
    "duration": 0,
    "start_time": "2024-09-16T12:36:37.624Z"
   },
   {
    "duration": 0,
    "start_time": "2024-09-16T12:36:37.625Z"
   },
   {
    "duration": 1,
    "start_time": "2024-09-16T12:36:37.625Z"
   },
   {
    "duration": 0,
    "start_time": "2024-09-16T12:36:37.626Z"
   },
   {
    "duration": 0,
    "start_time": "2024-09-16T12:36:37.627Z"
   },
   {
    "duration": 0,
    "start_time": "2024-09-16T12:36:37.628Z"
   },
   {
    "duration": 0,
    "start_time": "2024-09-16T12:36:37.629Z"
   },
   {
    "duration": 0,
    "start_time": "2024-09-16T12:36:37.630Z"
   },
   {
    "duration": 0,
    "start_time": "2024-09-16T12:36:37.631Z"
   },
   {
    "duration": 0,
    "start_time": "2024-09-16T12:36:37.632Z"
   },
   {
    "duration": 0,
    "start_time": "2024-09-16T12:36:37.632Z"
   },
   {
    "duration": 0,
    "start_time": "2024-09-16T12:36:37.633Z"
   },
   {
    "duration": 0,
    "start_time": "2024-09-16T12:36:37.634Z"
   },
   {
    "duration": 0,
    "start_time": "2024-09-16T12:36:37.635Z"
   },
   {
    "duration": 0,
    "start_time": "2024-09-16T12:36:37.636Z"
   },
   {
    "duration": 0,
    "start_time": "2024-09-16T12:36:37.637Z"
   },
   {
    "duration": 0,
    "start_time": "2024-09-16T12:36:37.638Z"
   },
   {
    "duration": 0,
    "start_time": "2024-09-16T12:36:37.638Z"
   },
   {
    "duration": 0,
    "start_time": "2024-09-16T12:36:37.639Z"
   },
   {
    "duration": 0,
    "start_time": "2024-09-16T12:36:37.640Z"
   },
   {
    "duration": 0,
    "start_time": "2024-09-16T12:36:37.641Z"
   },
   {
    "duration": 0,
    "start_time": "2024-09-16T12:36:37.641Z"
   },
   {
    "duration": 0,
    "start_time": "2024-09-16T12:36:37.642Z"
   },
   {
    "duration": 0,
    "start_time": "2024-09-16T12:36:37.643Z"
   },
   {
    "duration": 0,
    "start_time": "2024-09-16T12:36:37.644Z"
   },
   {
    "duration": 79,
    "start_time": "2024-09-16T12:39:57.657Z"
   },
   {
    "duration": 11,
    "start_time": "2024-09-16T12:39:59.232Z"
   },
   {
    "duration": 81,
    "start_time": "2024-09-16T12:40:22.943Z"
   },
   {
    "duration": 11,
    "start_time": "2024-09-16T12:40:23.664Z"
   },
   {
    "duration": 12410,
    "start_time": "2024-09-16T12:40:31.001Z"
   },
   {
    "duration": 5073,
    "start_time": "2024-09-16T12:40:43.414Z"
   },
   {
    "duration": 2362,
    "start_time": "2024-09-16T12:40:48.489Z"
   },
   {
    "duration": 82,
    "start_time": "2024-09-16T12:40:50.852Z"
   },
   {
    "duration": 50,
    "start_time": "2024-09-16T12:40:50.935Z"
   },
   {
    "duration": 26,
    "start_time": "2024-09-16T12:40:50.987Z"
   },
   {
    "duration": 19,
    "start_time": "2024-09-16T12:40:51.015Z"
   },
   {
    "duration": 10,
    "start_time": "2024-09-16T12:40:51.035Z"
   },
   {
    "duration": 30,
    "start_time": "2024-09-16T12:40:51.046Z"
   },
   {
    "duration": 18,
    "start_time": "2024-09-16T12:40:51.079Z"
   },
   {
    "duration": 20,
    "start_time": "2024-09-16T12:40:51.098Z"
   },
   {
    "duration": 8,
    "start_time": "2024-09-16T12:40:51.120Z"
   },
   {
    "duration": 7,
    "start_time": "2024-09-16T12:40:51.129Z"
   },
   {
    "duration": 21,
    "start_time": "2024-09-16T12:40:51.137Z"
   },
   {
    "duration": 14,
    "start_time": "2024-09-16T12:40:51.159Z"
   },
   {
    "duration": 25,
    "start_time": "2024-09-16T12:40:51.174Z"
   },
   {
    "duration": 96,
    "start_time": "2024-09-16T12:40:51.201Z"
   },
   {
    "duration": 78,
    "start_time": "2024-09-16T12:40:51.298Z"
   },
   {
    "duration": 16,
    "start_time": "2024-09-16T12:40:51.377Z"
   },
   {
    "duration": 14,
    "start_time": "2024-09-16T12:40:51.394Z"
   },
   {
    "duration": 17,
    "start_time": "2024-09-16T12:40:51.409Z"
   },
   {
    "duration": 6,
    "start_time": "2024-09-16T12:40:51.427Z"
   },
   {
    "duration": 10,
    "start_time": "2024-09-16T12:40:51.434Z"
   },
   {
    "duration": 48,
    "start_time": "2024-09-16T12:40:51.445Z"
   },
   {
    "duration": 32,
    "start_time": "2024-09-16T12:40:51.494Z"
   },
   {
    "duration": 23,
    "start_time": "2024-09-16T12:40:51.528Z"
   },
   {
    "duration": 89,
    "start_time": "2024-09-16T12:40:51.552Z"
   },
   {
    "duration": 103,
    "start_time": "2024-09-16T12:40:51.645Z"
   },
   {
    "duration": 12,
    "start_time": "2024-09-16T12:40:51.749Z"
   },
   {
    "duration": 17,
    "start_time": "2024-09-16T12:40:51.762Z"
   },
   {
    "duration": 282,
    "start_time": "2024-09-16T12:40:51.780Z"
   },
   {
    "duration": 187,
    "start_time": "2024-09-16T12:40:52.063Z"
   },
   {
    "duration": 5,
    "start_time": "2024-09-16T12:40:52.251Z"
   },
   {
    "duration": 297,
    "start_time": "2024-09-16T12:40:52.258Z"
   },
   {
    "duration": 5,
    "start_time": "2024-09-16T12:40:52.557Z"
   },
   {
    "duration": 248,
    "start_time": "2024-09-16T12:40:52.563Z"
   },
   {
    "duration": 323,
    "start_time": "2024-09-16T12:40:52.813Z"
   },
   {
    "duration": 3,
    "start_time": "2024-09-16T12:40:53.138Z"
   },
   {
    "duration": 292,
    "start_time": "2024-09-16T12:40:53.142Z"
   },
   {
    "duration": 204,
    "start_time": "2024-09-16T12:40:53.436Z"
   },
   {
    "duration": 340,
    "start_time": "2024-09-16T12:40:53.641Z"
   },
   {
    "duration": 285,
    "start_time": "2024-09-16T12:40:53.982Z"
   },
   {
    "duration": 260,
    "start_time": "2024-09-16T12:40:54.269Z"
   },
   {
    "duration": 417,
    "start_time": "2024-09-16T12:40:54.530Z"
   },
   {
    "duration": 302,
    "start_time": "2024-09-16T12:40:54.949Z"
   },
   {
    "duration": 5,
    "start_time": "2024-09-16T12:40:55.306Z"
   },
   {
    "duration": 450,
    "start_time": "2024-09-16T12:40:55.312Z"
   },
   {
    "duration": 49,
    "start_time": "2024-09-16T12:40:55.763Z"
   },
   {
    "duration": 268,
    "start_time": "2024-09-16T12:40:55.814Z"
   },
   {
    "duration": 261,
    "start_time": "2024-09-16T12:40:56.083Z"
   },
   {
    "duration": 240,
    "start_time": "2024-09-16T12:40:56.345Z"
   },
   {
    "duration": 238,
    "start_time": "2024-09-16T12:40:56.586Z"
   },
   {
    "duration": 268,
    "start_time": "2024-09-16T12:40:56.825Z"
   },
   {
    "duration": 246,
    "start_time": "2024-09-16T12:40:57.095Z"
   },
   {
    "duration": 248,
    "start_time": "2024-09-16T12:40:57.343Z"
   },
   {
    "duration": 246,
    "start_time": "2024-09-16T12:40:57.592Z"
   },
   {
    "duration": 9,
    "start_time": "2024-09-16T12:40:57.839Z"
   },
   {
    "duration": 64,
    "start_time": "2024-09-16T12:40:57.850Z"
   },
   {
    "duration": 14,
    "start_time": "2024-09-16T12:40:57.916Z"
   },
   {
    "duration": 9,
    "start_time": "2024-09-16T12:40:57.932Z"
   },
   {
    "duration": 66,
    "start_time": "2024-09-16T12:40:57.943Z"
   },
   {
    "duration": 499,
    "start_time": "2024-09-16T12:40:58.011Z"
   },
   {
    "duration": 314,
    "start_time": "2024-09-16T12:40:58.511Z"
   },
   {
    "duration": 391,
    "start_time": "2024-09-16T12:40:58.826Z"
   },
   {
    "duration": 445,
    "start_time": "2024-09-16T12:40:59.219Z"
   },
   {
    "duration": 201,
    "start_time": "2024-09-16T12:40:59.665Z"
   },
   {
    "duration": 243,
    "start_time": "2024-09-16T12:40:59.907Z"
   },
   {
    "duration": 264,
    "start_time": "2024-09-16T12:41:00.151Z"
   },
   {
    "duration": 219,
    "start_time": "2024-09-16T12:41:00.416Z"
   },
   {
    "duration": 6,
    "start_time": "2024-09-16T12:41:00.636Z"
   },
   {
    "duration": 57,
    "start_time": "2024-09-16T12:41:00.643Z"
   },
   {
    "duration": 15,
    "start_time": "2024-09-16T12:41:00.701Z"
   },
   {
    "duration": 10,
    "start_time": "2024-09-16T12:41:00.717Z"
   },
   {
    "duration": 60,
    "start_time": "2024-09-16T12:41:00.728Z"
   },
   {
    "duration": 16,
    "start_time": "2024-09-16T12:41:00.789Z"
   },
   {
    "duration": 24,
    "start_time": "2024-09-16T12:41:00.806Z"
   },
   {
    "duration": 16,
    "start_time": "2024-09-16T12:41:00.831Z"
   },
   {
    "duration": 12,
    "start_time": "2024-09-16T12:41:00.848Z"
   },
   {
    "duration": 83,
    "start_time": "2024-09-16T12:41:00.862Z"
   },
   {
    "duration": 36,
    "start_time": "2024-09-16T12:41:00.947Z"
   },
   {
    "duration": 27,
    "start_time": "2024-09-16T12:41:00.984Z"
   },
   {
    "duration": 20,
    "start_time": "2024-09-16T12:41:01.017Z"
   },
   {
    "duration": 35,
    "start_time": "2024-09-16T12:41:01.038Z"
   },
   {
    "duration": 31,
    "start_time": "2024-09-16T12:41:01.074Z"
   },
   {
    "duration": 470,
    "start_time": "2024-09-16T12:41:01.107Z"
   },
   {
    "duration": 987,
    "start_time": "2024-09-16T12:41:01.578Z"
   },
   {
    "duration": 6,
    "start_time": "2024-09-16T12:41:02.567Z"
   },
   {
    "duration": 54,
    "start_time": "2024-09-16T12:41:02.574Z"
   },
   {
    "duration": 46,
    "start_time": "2024-09-16T12:41:02.629Z"
   },
   {
    "duration": 32,
    "start_time": "2024-09-16T12:41:02.676Z"
   },
   {
    "duration": 22,
    "start_time": "2024-09-16T12:41:02.710Z"
   },
   {
    "duration": 7,
    "start_time": "2024-09-16T12:41:02.733Z"
   },
   {
    "duration": 2528,
    "start_time": "2024-09-16T12:41:02.741Z"
   },
   {
    "duration": 13,
    "start_time": "2024-09-16T12:41:05.271Z"
   },
   {
    "duration": 93,
    "start_time": "2024-09-16T12:41:05.285Z"
   },
   {
    "duration": 16,
    "start_time": "2024-09-16T12:41:05.379Z"
   },
   {
    "duration": 1259,
    "start_time": "2024-09-16T12:41:05.396Z"
   },
   {
    "duration": 79,
    "start_time": "2024-09-16T12:42:49.512Z"
   },
   {
    "duration": 10,
    "start_time": "2024-09-16T12:42:50.631Z"
   },
   {
    "duration": 12670,
    "start_time": "2024-09-16T12:43:01.065Z"
   },
   {
    "duration": 5102,
    "start_time": "2024-09-16T12:43:13.737Z"
   },
   {
    "duration": 1623,
    "start_time": "2024-09-16T12:43:18.841Z"
   },
   {
    "duration": 82,
    "start_time": "2024-09-16T12:43:20.466Z"
   },
   {
    "duration": 15,
    "start_time": "2024-09-16T12:43:20.549Z"
   },
   {
    "duration": 49,
    "start_time": "2024-09-16T12:43:20.566Z"
   },
   {
    "duration": 16,
    "start_time": "2024-09-16T12:43:20.616Z"
   },
   {
    "duration": 9,
    "start_time": "2024-09-16T12:43:20.633Z"
   },
   {
    "duration": 27,
    "start_time": "2024-09-16T12:43:20.643Z"
   },
   {
    "duration": 19,
    "start_time": "2024-09-16T12:43:20.671Z"
   },
   {
    "duration": 30,
    "start_time": "2024-09-16T12:43:20.691Z"
   },
   {
    "duration": 23,
    "start_time": "2024-09-16T12:43:20.722Z"
   },
   {
    "duration": 3,
    "start_time": "2024-09-16T12:43:20.746Z"
   },
   {
    "duration": 21,
    "start_time": "2024-09-16T12:43:20.752Z"
   },
   {
    "duration": 25,
    "start_time": "2024-09-16T12:43:20.774Z"
   },
   {
    "duration": 20,
    "start_time": "2024-09-16T12:43:20.800Z"
   },
   {
    "duration": 22,
    "start_time": "2024-09-16T12:43:20.821Z"
   },
   {
    "duration": 13,
    "start_time": "2024-09-16T12:43:20.844Z"
   },
   {
    "duration": 11,
    "start_time": "2024-09-16T12:43:20.858Z"
   },
   {
    "duration": 41,
    "start_time": "2024-09-16T12:43:20.870Z"
   },
   {
    "duration": 32,
    "start_time": "2024-09-16T12:43:20.912Z"
   },
   {
    "duration": 4,
    "start_time": "2024-09-16T12:43:20.945Z"
   },
   {
    "duration": 14,
    "start_time": "2024-09-16T12:43:20.950Z"
   },
   {
    "duration": 7,
    "start_time": "2024-09-16T12:43:20.965Z"
   },
   {
    "duration": 6,
    "start_time": "2024-09-16T12:43:20.973Z"
   },
   {
    "duration": 19,
    "start_time": "2024-09-16T12:43:20.980Z"
   },
   {
    "duration": 24,
    "start_time": "2024-09-16T12:43:21.000Z"
   },
   {
    "duration": 5,
    "start_time": "2024-09-16T12:43:21.025Z"
   },
   {
    "duration": 5,
    "start_time": "2024-09-16T12:43:21.031Z"
   },
   {
    "duration": 9,
    "start_time": "2024-09-16T12:43:21.037Z"
   },
   {
    "duration": 240,
    "start_time": "2024-09-16T12:43:21.047Z"
   },
   {
    "duration": 252,
    "start_time": "2024-09-16T12:43:21.288Z"
   },
   {
    "duration": 5,
    "start_time": "2024-09-16T12:43:21.542Z"
   },
   {
    "duration": 309,
    "start_time": "2024-09-16T12:43:21.548Z"
   },
   {
    "duration": 4,
    "start_time": "2024-09-16T12:43:21.858Z"
   },
   {
    "duration": 258,
    "start_time": "2024-09-16T12:43:21.863Z"
   },
   {
    "duration": 299,
    "start_time": "2024-09-16T12:43:22.122Z"
   },
   {
    "duration": 3,
    "start_time": "2024-09-16T12:43:22.422Z"
   },
   {
    "duration": 286,
    "start_time": "2024-09-16T12:43:22.426Z"
   },
   {
    "duration": 215,
    "start_time": "2024-09-16T12:43:22.713Z"
   },
   {
    "duration": 344,
    "start_time": "2024-09-16T12:43:22.932Z"
   },
   {
    "duration": 290,
    "start_time": "2024-09-16T12:43:23.277Z"
   },
   {
    "duration": 187,
    "start_time": "2024-09-16T12:43:23.568Z"
   },
   {
    "duration": 326,
    "start_time": "2024-09-16T12:43:23.756Z"
   },
   {
    "duration": 244,
    "start_time": "2024-09-16T12:43:24.083Z"
   },
   {
    "duration": 4,
    "start_time": "2024-09-16T12:43:24.329Z"
   },
   {
    "duration": 329,
    "start_time": "2024-09-16T12:43:24.335Z"
   },
   {
    "duration": 5,
    "start_time": "2024-09-16T12:43:24.665Z"
   },
   {
    "duration": 295,
    "start_time": "2024-09-16T12:43:24.671Z"
   },
   {
    "duration": 191,
    "start_time": "2024-09-16T12:43:24.967Z"
   },
   {
    "duration": 336,
    "start_time": "2024-09-16T12:43:25.159Z"
   },
   {
    "duration": 227,
    "start_time": "2024-09-16T12:43:25.497Z"
   },
   {
    "duration": 268,
    "start_time": "2024-09-16T12:43:25.725Z"
   },
   {
    "duration": 246,
    "start_time": "2024-09-16T12:43:25.994Z"
   },
   {
    "duration": 250,
    "start_time": "2024-09-16T12:43:26.241Z"
   },
   {
    "duration": 232,
    "start_time": "2024-09-16T12:43:26.492Z"
   },
   {
    "duration": 7,
    "start_time": "2024-09-16T12:43:26.725Z"
   },
   {
    "duration": 14,
    "start_time": "2024-09-16T12:43:26.733Z"
   },
   {
    "duration": 19,
    "start_time": "2024-09-16T12:43:26.748Z"
   },
   {
    "duration": 8,
    "start_time": "2024-09-16T12:43:26.768Z"
   },
   {
    "duration": 9,
    "start_time": "2024-09-16T12:43:26.777Z"
   },
   {
    "duration": 296,
    "start_time": "2024-09-16T12:43:26.787Z"
   },
   {
    "duration": 282,
    "start_time": "2024-09-16T12:43:27.085Z"
   },
   {
    "duration": 253,
    "start_time": "2024-09-16T12:43:27.369Z"
   },
   {
    "duration": 361,
    "start_time": "2024-09-16T12:43:27.623Z"
   },
   {
    "duration": 251,
    "start_time": "2024-09-16T12:43:27.985Z"
   },
   {
    "duration": 245,
    "start_time": "2024-09-16T12:43:28.237Z"
   },
   {
    "duration": 285,
    "start_time": "2024-09-16T12:43:28.484Z"
   },
   {
    "duration": 176,
    "start_time": "2024-09-16T12:43:28.770Z"
   },
   {
    "duration": 4,
    "start_time": "2024-09-16T12:43:28.947Z"
   },
   {
    "duration": 56,
    "start_time": "2024-09-16T12:43:28.952Z"
   },
   {
    "duration": 3,
    "start_time": "2024-09-16T12:43:29.009Z"
   },
   {
    "duration": 65,
    "start_time": "2024-09-16T12:43:29.013Z"
   },
   {
    "duration": 63,
    "start_time": "2024-09-16T12:43:29.080Z"
   },
   {
    "duration": 11,
    "start_time": "2024-09-16T12:43:29.144Z"
   },
   {
    "duration": 23,
    "start_time": "2024-09-16T12:43:29.156Z"
   },
   {
    "duration": 18,
    "start_time": "2024-09-16T12:43:29.180Z"
   },
   {
    "duration": 93,
    "start_time": "2024-09-16T12:43:29.199Z"
   },
   {
    "duration": 11,
    "start_time": "2024-09-16T12:43:29.293Z"
   },
   {
    "duration": 108,
    "start_time": "2024-09-16T12:43:29.305Z"
   },
   {
    "duration": 7,
    "start_time": "2024-09-16T12:43:29.415Z"
   },
   {
    "duration": 14,
    "start_time": "2024-09-16T12:43:29.423Z"
   },
   {
    "duration": 12,
    "start_time": "2024-09-16T12:43:29.438Z"
   },
   {
    "duration": 12,
    "start_time": "2024-09-16T12:43:29.451Z"
   },
   {
    "duration": 411,
    "start_time": "2024-09-16T12:43:29.465Z"
   },
   {
    "duration": 1024,
    "start_time": "2024-09-16T12:43:29.877Z"
   },
   {
    "duration": 4,
    "start_time": "2024-09-16T12:43:30.903Z"
   },
   {
    "duration": 111,
    "start_time": "2024-09-16T12:43:30.909Z"
   },
   {
    "duration": 31,
    "start_time": "2024-09-16T12:43:31.021Z"
   },
   {
    "duration": 22,
    "start_time": "2024-09-16T12:43:31.053Z"
   },
   {
    "duration": 23,
    "start_time": "2024-09-16T12:43:31.076Z"
   },
   {
    "duration": 9,
    "start_time": "2024-09-16T12:43:31.100Z"
   },
   {
    "duration": 1987,
    "start_time": "2024-09-16T12:43:31.110Z"
   },
   {
    "duration": 15,
    "start_time": "2024-09-16T12:43:33.099Z"
   },
   {
    "duration": 14,
    "start_time": "2024-09-16T12:43:33.116Z"
   },
   {
    "duration": 8,
    "start_time": "2024-09-16T12:43:33.131Z"
   },
   {
    "duration": 1283,
    "start_time": "2024-09-16T12:43:33.140Z"
   },
   {
    "duration": 1118,
    "start_time": "2024-09-16T12:44:53.751Z"
   },
   {
    "duration": 426,
    "start_time": "2024-09-16T12:48:16.525Z"
   },
   {
    "duration": 14,
    "start_time": "2024-09-16T12:48:33.533Z"
   },
   {
    "duration": 8,
    "start_time": "2024-09-16T12:48:56.882Z"
   },
   {
    "duration": 413,
    "start_time": "2024-09-16T12:49:05.609Z"
   },
   {
    "duration": 427,
    "start_time": "2024-09-16T12:49:43.474Z"
   },
   {
    "duration": 473,
    "start_time": "2024-09-16T12:50:10.468Z"
   },
   {
    "duration": 987,
    "start_time": "2024-09-16T12:50:33.143Z"
   },
   {
    "duration": 14228,
    "start_time": "2024-09-16T12:50:47.945Z"
   },
   {
    "duration": 5232,
    "start_time": "2024-09-16T12:51:02.176Z"
   },
   {
    "duration": 1842,
    "start_time": "2024-09-16T12:51:07.410Z"
   },
   {
    "duration": 82,
    "start_time": "2024-09-16T12:51:09.254Z"
   },
   {
    "duration": 17,
    "start_time": "2024-09-16T12:51:09.337Z"
   },
   {
    "duration": 137,
    "start_time": "2024-09-16T12:51:09.355Z"
   },
   {
    "duration": 35,
    "start_time": "2024-09-16T12:51:09.493Z"
   },
   {
    "duration": 9,
    "start_time": "2024-09-16T12:51:09.530Z"
   },
   {
    "duration": 30,
    "start_time": "2024-09-16T12:51:09.540Z"
   },
   {
    "duration": 3,
    "start_time": "2024-09-16T12:51:09.573Z"
   },
   {
    "duration": 11,
    "start_time": "2024-09-16T12:51:09.577Z"
   },
   {
    "duration": 23,
    "start_time": "2024-09-16T12:51:09.589Z"
   },
   {
    "duration": 148,
    "start_time": "2024-09-16T12:51:09.613Z"
   },
   {
    "duration": 40,
    "start_time": "2024-09-16T12:51:09.763Z"
   },
   {
    "duration": 8,
    "start_time": "2024-09-16T12:51:09.804Z"
   },
   {
    "duration": 5,
    "start_time": "2024-09-16T12:51:09.813Z"
   },
   {
    "duration": 22,
    "start_time": "2024-09-16T12:51:09.819Z"
   },
   {
    "duration": 5,
    "start_time": "2024-09-16T12:51:09.842Z"
   },
   {
    "duration": 8,
    "start_time": "2024-09-16T12:51:09.848Z"
   },
   {
    "duration": 19,
    "start_time": "2024-09-16T12:51:09.857Z"
   },
   {
    "duration": 32,
    "start_time": "2024-09-16T12:51:09.877Z"
   },
   {
    "duration": 5,
    "start_time": "2024-09-16T12:51:09.910Z"
   },
   {
    "duration": 4,
    "start_time": "2024-09-16T12:51:09.916Z"
   },
   {
    "duration": 25,
    "start_time": "2024-09-16T12:51:09.921Z"
   },
   {
    "duration": 21,
    "start_time": "2024-09-16T12:51:09.947Z"
   },
   {
    "duration": 5,
    "start_time": "2024-09-16T12:51:09.969Z"
   },
   {
    "duration": 9,
    "start_time": "2024-09-16T12:51:09.975Z"
   },
   {
    "duration": 4,
    "start_time": "2024-09-16T12:51:09.988Z"
   },
   {
    "duration": 21,
    "start_time": "2024-09-16T12:51:09.993Z"
   },
   {
    "duration": 15,
    "start_time": "2024-09-16T12:51:10.016Z"
   },
   {
    "duration": 282,
    "start_time": "2024-09-16T12:51:10.033Z"
   },
   {
    "duration": 240,
    "start_time": "2024-09-16T12:51:10.317Z"
   },
   {
    "duration": 5,
    "start_time": "2024-09-16T12:51:10.559Z"
   },
   {
    "duration": 292,
    "start_time": "2024-09-16T12:51:10.565Z"
   },
   {
    "duration": 5,
    "start_time": "2024-09-16T12:51:10.859Z"
   },
   {
    "duration": 249,
    "start_time": "2024-09-16T12:51:10.866Z"
   },
   {
    "duration": 349,
    "start_time": "2024-09-16T12:51:11.117Z"
   },
   {
    "duration": 2,
    "start_time": "2024-09-16T12:51:11.468Z"
   },
   {
    "duration": 315,
    "start_time": "2024-09-16T12:51:11.472Z"
   },
   {
    "duration": 245,
    "start_time": "2024-09-16T12:51:11.788Z"
   },
   {
    "duration": 354,
    "start_time": "2024-09-16T12:51:12.035Z"
   },
   {
    "duration": 294,
    "start_time": "2024-09-16T12:51:12.390Z"
   },
   {
    "duration": 228,
    "start_time": "2024-09-16T12:51:12.685Z"
   },
   {
    "duration": 281,
    "start_time": "2024-09-16T12:51:12.914Z"
   },
   {
    "duration": 232,
    "start_time": "2024-09-16T12:51:13.206Z"
   },
   {
    "duration": 4,
    "start_time": "2024-09-16T12:51:13.439Z"
   },
   {
    "duration": 287,
    "start_time": "2024-09-16T12:51:13.444Z"
   },
   {
    "duration": 5,
    "start_time": "2024-09-16T12:51:13.732Z"
   },
   {
    "duration": 328,
    "start_time": "2024-09-16T12:51:13.738Z"
   },
   {
    "duration": 196,
    "start_time": "2024-09-16T12:51:14.068Z"
   },
   {
    "duration": 315,
    "start_time": "2024-09-16T12:51:14.266Z"
   },
   {
    "duration": 249,
    "start_time": "2024-09-16T12:51:14.582Z"
   },
   {
    "duration": 420,
    "start_time": "2024-09-16T12:51:14.832Z"
   },
   {
    "duration": 372,
    "start_time": "2024-09-16T12:51:15.253Z"
   },
   {
    "duration": 502,
    "start_time": "2024-09-16T12:51:15.627Z"
   },
   {
    "duration": 238,
    "start_time": "2024-09-16T12:51:16.131Z"
   },
   {
    "duration": 8,
    "start_time": "2024-09-16T12:51:16.370Z"
   },
   {
    "duration": 32,
    "start_time": "2024-09-16T12:51:16.379Z"
   },
   {
    "duration": 6,
    "start_time": "2024-09-16T12:51:16.412Z"
   },
   {
    "duration": 29,
    "start_time": "2024-09-16T12:51:16.420Z"
   },
   {
    "duration": 14,
    "start_time": "2024-09-16T12:51:16.451Z"
   },
   {
    "duration": 314,
    "start_time": "2024-09-16T12:51:16.466Z"
   },
   {
    "duration": 254,
    "start_time": "2024-09-16T12:51:16.782Z"
   },
   {
    "duration": 229,
    "start_time": "2024-09-16T12:51:17.037Z"
   },
   {
    "duration": 373,
    "start_time": "2024-09-16T12:51:17.268Z"
   },
   {
    "duration": 211,
    "start_time": "2024-09-16T12:51:17.642Z"
   },
   {
    "duration": 223,
    "start_time": "2024-09-16T12:51:17.854Z"
   },
   {
    "duration": 302,
    "start_time": "2024-09-16T12:51:18.079Z"
   },
   {
    "duration": 243,
    "start_time": "2024-09-16T12:51:18.383Z"
   },
   {
    "duration": 6,
    "start_time": "2024-09-16T12:51:18.627Z"
   },
   {
    "duration": 39,
    "start_time": "2024-09-16T12:51:18.635Z"
   },
   {
    "duration": 36,
    "start_time": "2024-09-16T12:51:18.675Z"
   },
   {
    "duration": 25,
    "start_time": "2024-09-16T12:51:18.713Z"
   },
   {
    "duration": 41,
    "start_time": "2024-09-16T12:51:18.739Z"
   },
   {
    "duration": 11,
    "start_time": "2024-09-16T12:51:18.781Z"
   },
   {
    "duration": 27,
    "start_time": "2024-09-16T12:51:18.793Z"
   },
   {
    "duration": 6,
    "start_time": "2024-09-16T12:51:18.821Z"
   },
   {
    "duration": 17,
    "start_time": "2024-09-16T12:51:18.828Z"
   },
   {
    "duration": 11,
    "start_time": "2024-09-16T12:51:18.846Z"
   },
   {
    "duration": 20,
    "start_time": "2024-09-16T12:51:18.858Z"
   },
   {
    "duration": 29,
    "start_time": "2024-09-16T12:51:18.879Z"
   },
   {
    "duration": 20,
    "start_time": "2024-09-16T12:51:18.913Z"
   },
   {
    "duration": 152,
    "start_time": "2024-09-16T12:51:18.934Z"
   },
   {
    "duration": 33,
    "start_time": "2024-09-16T12:51:19.087Z"
   },
   {
    "duration": 453,
    "start_time": "2024-09-16T12:51:19.122Z"
   },
   {
    "duration": 1000,
    "start_time": "2024-09-16T12:51:19.577Z"
   },
   {
    "duration": 4,
    "start_time": "2024-09-16T12:51:20.579Z"
   },
   {
    "duration": 53,
    "start_time": "2024-09-16T12:51:20.584Z"
   },
   {
    "duration": 11,
    "start_time": "2024-09-16T12:51:20.639Z"
   },
   {
    "duration": 9,
    "start_time": "2024-09-16T12:51:20.651Z"
   },
   {
    "duration": 17,
    "start_time": "2024-09-16T12:51:20.661Z"
   },
   {
    "duration": 14,
    "start_time": "2024-09-16T12:51:20.679Z"
   },
   {
    "duration": 1920,
    "start_time": "2024-09-16T12:51:20.694Z"
   },
   {
    "duration": 20,
    "start_time": "2024-09-16T12:51:22.616Z"
   },
   {
    "duration": 23,
    "start_time": "2024-09-16T12:51:22.638Z"
   },
   {
    "duration": 21,
    "start_time": "2024-09-16T12:51:22.662Z"
   },
   {
    "duration": 1326,
    "start_time": "2024-09-16T12:51:22.684Z"
   },
   {
    "duration": 10,
    "start_time": "2024-09-16T12:56:44.762Z"
   },
   {
    "duration": 4,
    "start_time": "2024-09-16T12:57:01.448Z"
   },
   {
    "duration": 4,
    "start_time": "2024-09-16T12:58:40.805Z"
   },
   {
    "duration": 6,
    "start_time": "2024-09-16T12:59:10.100Z"
   },
   {
    "duration": 13,
    "start_time": "2024-09-16T12:59:22.050Z"
   },
   {
    "duration": 1319,
    "start_time": "2024-09-16T13:01:14.906Z"
   },
   {
    "duration": 32,
    "start_time": "2024-09-16T13:08:55.708Z"
   },
   {
    "duration": 26,
    "start_time": "2024-09-16T13:09:20.891Z"
   },
   {
    "duration": 20,
    "start_time": "2024-09-16T13:15:09.123Z"
   },
   {
    "duration": 20,
    "start_time": "2024-09-16T13:15:26.507Z"
   },
   {
    "duration": 28,
    "start_time": "2024-09-16T13:15:51.550Z"
   },
   {
    "duration": 1154,
    "start_time": "2024-09-16T13:16:49.181Z"
   },
   {
    "duration": 21,
    "start_time": "2024-09-16T13:19:42.071Z"
   },
   {
    "duration": 19,
    "start_time": "2024-09-16T13:22:28.140Z"
   },
   {
    "duration": 12377,
    "start_time": "2024-09-16T13:22:39.032Z"
   },
   {
    "duration": 5098,
    "start_time": "2024-09-16T13:22:51.412Z"
   },
   {
    "duration": 1715,
    "start_time": "2024-09-16T13:22:56.511Z"
   },
   {
    "duration": 88,
    "start_time": "2024-09-16T13:22:58.228Z"
   },
   {
    "duration": 25,
    "start_time": "2024-09-16T13:22:58.318Z"
   },
   {
    "duration": 9,
    "start_time": "2024-09-16T13:22:58.344Z"
   },
   {
    "duration": 23,
    "start_time": "2024-09-16T13:22:58.357Z"
   },
   {
    "duration": 31,
    "start_time": "2024-09-16T13:22:58.381Z"
   },
   {
    "duration": 30,
    "start_time": "2024-09-16T13:22:58.413Z"
   },
   {
    "duration": 6,
    "start_time": "2024-09-16T13:22:58.446Z"
   },
   {
    "duration": 18,
    "start_time": "2024-09-16T13:22:58.454Z"
   },
   {
    "duration": 8,
    "start_time": "2024-09-16T13:22:58.474Z"
   },
   {
    "duration": 9,
    "start_time": "2024-09-16T13:22:58.484Z"
   },
   {
    "duration": 14,
    "start_time": "2024-09-16T13:22:58.495Z"
   },
   {
    "duration": 23,
    "start_time": "2024-09-16T13:22:58.511Z"
   },
   {
    "duration": 7,
    "start_time": "2024-09-16T13:22:58.535Z"
   },
   {
    "duration": 12,
    "start_time": "2024-09-16T13:22:58.543Z"
   },
   {
    "duration": 4,
    "start_time": "2024-09-16T13:22:58.557Z"
   },
   {
    "duration": 8,
    "start_time": "2024-09-16T13:22:58.562Z"
   },
   {
    "duration": 6,
    "start_time": "2024-09-16T13:22:58.572Z"
   },
   {
    "duration": 13,
    "start_time": "2024-09-16T13:22:58.579Z"
   },
   {
    "duration": 32,
    "start_time": "2024-09-16T13:22:58.593Z"
   },
   {
    "duration": 20,
    "start_time": "2024-09-16T13:22:58.626Z"
   },
   {
    "duration": 16,
    "start_time": "2024-09-16T13:22:58.647Z"
   },
   {
    "duration": 27,
    "start_time": "2024-09-16T13:22:58.664Z"
   },
   {
    "duration": 11,
    "start_time": "2024-09-16T13:22:58.693Z"
   },
   {
    "duration": 22,
    "start_time": "2024-09-16T13:22:58.705Z"
   },
   {
    "duration": 10,
    "start_time": "2024-09-16T13:22:58.732Z"
   },
   {
    "duration": 14,
    "start_time": "2024-09-16T13:22:58.744Z"
   },
   {
    "duration": 34,
    "start_time": "2024-09-16T13:22:58.760Z"
   },
   {
    "duration": 284,
    "start_time": "2024-09-16T13:22:58.796Z"
   },
   {
    "duration": 253,
    "start_time": "2024-09-16T13:22:59.082Z"
   },
   {
    "duration": 4,
    "start_time": "2024-09-16T13:22:59.337Z"
   },
   {
    "duration": 298,
    "start_time": "2024-09-16T13:22:59.342Z"
   },
   {
    "duration": 5,
    "start_time": "2024-09-16T13:22:59.642Z"
   },
   {
    "duration": 258,
    "start_time": "2024-09-16T13:22:59.649Z"
   },
   {
    "duration": 312,
    "start_time": "2024-09-16T13:22:59.909Z"
   },
   {
    "duration": 3,
    "start_time": "2024-09-16T13:23:00.224Z"
   },
   {
    "duration": 354,
    "start_time": "2024-09-16T13:23:00.228Z"
   },
   {
    "duration": 249,
    "start_time": "2024-09-16T13:23:00.584Z"
   },
   {
    "duration": 354,
    "start_time": "2024-09-16T13:23:00.835Z"
   },
   {
    "duration": 281,
    "start_time": "2024-09-16T13:23:01.192Z"
   },
   {
    "duration": 235,
    "start_time": "2024-09-16T13:23:01.474Z"
   },
   {
    "duration": 285,
    "start_time": "2024-09-16T13:23:01.710Z"
   },
   {
    "duration": 264,
    "start_time": "2024-09-16T13:23:01.996Z"
   },
   {
    "duration": 5,
    "start_time": "2024-09-16T13:23:02.262Z"
   },
   {
    "duration": 312,
    "start_time": "2024-09-16T13:23:02.268Z"
   },
   {
    "duration": 7,
    "start_time": "2024-09-16T13:23:02.581Z"
   },
   {
    "duration": 308,
    "start_time": "2024-09-16T13:23:02.589Z"
   },
   {
    "duration": 238,
    "start_time": "2024-09-16T13:23:02.899Z"
   },
   {
    "duration": 276,
    "start_time": "2024-09-16T13:23:03.139Z"
   },
   {
    "duration": 208,
    "start_time": "2024-09-16T13:23:03.416Z"
   },
   {
    "duration": 321,
    "start_time": "2024-09-16T13:23:03.625Z"
   },
   {
    "duration": 218,
    "start_time": "2024-09-16T13:23:03.948Z"
   },
   {
    "duration": 312,
    "start_time": "2024-09-16T13:23:04.167Z"
   },
   {
    "duration": 239,
    "start_time": "2024-09-16T13:23:04.480Z"
   },
   {
    "duration": 7,
    "start_time": "2024-09-16T13:23:04.720Z"
   },
   {
    "duration": 31,
    "start_time": "2024-09-16T13:23:04.729Z"
   },
   {
    "duration": 26,
    "start_time": "2024-09-16T13:23:04.762Z"
   },
   {
    "duration": 9,
    "start_time": "2024-09-16T13:23:04.789Z"
   },
   {
    "duration": 14,
    "start_time": "2024-09-16T13:23:04.799Z"
   },
   {
    "duration": 294,
    "start_time": "2024-09-16T13:23:04.814Z"
   },
   {
    "duration": 266,
    "start_time": "2024-09-16T13:23:05.109Z"
   },
   {
    "duration": 301,
    "start_time": "2024-09-16T13:23:05.377Z"
   },
   {
    "duration": 394,
    "start_time": "2024-09-16T13:23:05.680Z"
   },
   {
    "duration": 260,
    "start_time": "2024-09-16T13:23:06.075Z"
   },
   {
    "duration": 224,
    "start_time": "2024-09-16T13:23:06.336Z"
   },
   {
    "duration": 292,
    "start_time": "2024-09-16T13:23:06.561Z"
   },
   {
    "duration": 212,
    "start_time": "2024-09-16T13:23:06.855Z"
   },
   {
    "duration": 5,
    "start_time": "2024-09-16T13:23:07.069Z"
   },
   {
    "duration": 26,
    "start_time": "2024-09-16T13:23:07.075Z"
   },
   {
    "duration": 37,
    "start_time": "2024-09-16T13:23:07.102Z"
   },
   {
    "duration": 178,
    "start_time": "2024-09-16T13:23:07.141Z"
   },
   {
    "duration": 107,
    "start_time": "2024-09-16T13:23:07.321Z"
   },
   {
    "duration": 26,
    "start_time": "2024-09-16T13:23:07.430Z"
   },
   {
    "duration": 93,
    "start_time": "2024-09-16T13:23:07.457Z"
   },
   {
    "duration": 22,
    "start_time": "2024-09-16T13:23:07.552Z"
   },
   {
    "duration": 14,
    "start_time": "2024-09-16T13:23:07.576Z"
   },
   {
    "duration": 20,
    "start_time": "2024-09-16T13:23:07.592Z"
   },
   {
    "duration": 8,
    "start_time": "2024-09-16T13:23:07.613Z"
   },
   {
    "duration": 9,
    "start_time": "2024-09-16T13:23:07.623Z"
   },
   {
    "duration": 16,
    "start_time": "2024-09-16T13:23:07.636Z"
   },
   {
    "duration": 10,
    "start_time": "2024-09-16T13:23:07.653Z"
   },
   {
    "duration": 25,
    "start_time": "2024-09-16T13:23:07.665Z"
   },
   {
    "duration": 560,
    "start_time": "2024-09-16T13:23:07.691Z"
   },
   {
    "duration": 1017,
    "start_time": "2024-09-16T13:23:08.252Z"
   },
   {
    "duration": 4,
    "start_time": "2024-09-16T13:23:09.271Z"
   },
   {
    "duration": 14,
    "start_time": "2024-09-16T13:23:09.276Z"
   },
   {
    "duration": 13,
    "start_time": "2024-09-16T13:23:09.291Z"
   },
   {
    "duration": 29,
    "start_time": "2024-09-16T13:23:09.305Z"
   },
   {
    "duration": 84,
    "start_time": "2024-09-16T13:23:09.336Z"
   },
   {
    "duration": 30,
    "start_time": "2024-09-16T13:23:09.422Z"
   },
   {
    "duration": 2021,
    "start_time": "2024-09-16T13:23:09.453Z"
   },
   {
    "duration": 12,
    "start_time": "2024-09-16T13:23:11.476Z"
   },
   {
    "duration": 79,
    "start_time": "2024-09-16T13:23:11.489Z"
   },
   {
    "duration": 13,
    "start_time": "2024-09-16T13:23:11.570Z"
   },
   {
    "duration": 164,
    "start_time": "2024-09-16T13:23:11.584Z"
   },
   {
    "duration": 25,
    "start_time": "2024-09-16T13:23:38.915Z"
   },
   {
    "duration": 16,
    "start_time": "2024-09-16T13:23:52.034Z"
   },
   {
    "duration": 18,
    "start_time": "2024-09-16T13:25:31.110Z"
   },
   {
    "duration": 9,
    "start_time": "2024-09-16T13:37:14.150Z"
   },
   {
    "duration": 4,
    "start_time": "2024-09-16T13:37:25.277Z"
   },
   {
    "duration": 1324,
    "start_time": "2024-09-16T13:42:21.914Z"
   },
   {
    "duration": 41,
    "start_time": "2024-09-16T13:42:37.719Z"
   },
   {
    "duration": 20,
    "start_time": "2024-09-16T13:44:40.859Z"
   },
   {
    "duration": 22,
    "start_time": "2024-09-16T13:46:52.371Z"
   },
   {
    "duration": 28,
    "start_time": "2024-09-16T13:47:26.483Z"
   },
   {
    "duration": 21,
    "start_time": "2024-09-16T13:50:23.692Z"
   },
   {
    "duration": 27,
    "start_time": "2024-09-16T13:53:06.640Z"
   },
   {
    "duration": 28,
    "start_time": "2024-09-16T13:53:15.413Z"
   },
   {
    "duration": 12033,
    "start_time": "2024-09-16T13:53:33.693Z"
   },
   {
    "duration": 5046,
    "start_time": "2024-09-16T13:53:45.729Z"
   },
   {
    "duration": 1712,
    "start_time": "2024-09-16T13:53:50.777Z"
   },
   {
    "duration": 84,
    "start_time": "2024-09-16T13:53:52.491Z"
   },
   {
    "duration": 18,
    "start_time": "2024-09-16T13:53:52.576Z"
   },
   {
    "duration": 19,
    "start_time": "2024-09-16T13:53:52.596Z"
   },
   {
    "duration": 12,
    "start_time": "2024-09-16T13:53:52.616Z"
   },
   {
    "duration": 8,
    "start_time": "2024-09-16T13:53:52.630Z"
   },
   {
    "duration": 21,
    "start_time": "2024-09-16T13:53:52.639Z"
   },
   {
    "duration": 4,
    "start_time": "2024-09-16T13:53:52.661Z"
   },
   {
    "duration": 17,
    "start_time": "2024-09-16T13:53:52.666Z"
   },
   {
    "duration": 22,
    "start_time": "2024-09-16T13:53:52.685Z"
   },
   {
    "duration": 25,
    "start_time": "2024-09-16T13:53:52.708Z"
   },
   {
    "duration": 24,
    "start_time": "2024-09-16T13:53:52.736Z"
   },
   {
    "duration": 38,
    "start_time": "2024-09-16T13:53:52.761Z"
   },
   {
    "duration": 6,
    "start_time": "2024-09-16T13:53:52.800Z"
   },
   {
    "duration": 25,
    "start_time": "2024-09-16T13:53:52.807Z"
   },
   {
    "duration": 25,
    "start_time": "2024-09-16T13:53:52.833Z"
   },
   {
    "duration": 30,
    "start_time": "2024-09-16T13:53:52.860Z"
   },
   {
    "duration": 7,
    "start_time": "2024-09-16T13:53:52.892Z"
   },
   {
    "duration": 13,
    "start_time": "2024-09-16T13:53:52.901Z"
   },
   {
    "duration": 10,
    "start_time": "2024-09-16T13:53:52.916Z"
   },
   {
    "duration": 18,
    "start_time": "2024-09-16T13:53:52.927Z"
   },
   {
    "duration": 39,
    "start_time": "2024-09-16T13:53:52.947Z"
   },
   {
    "duration": 24,
    "start_time": "2024-09-16T13:53:52.988Z"
   },
   {
    "duration": 10,
    "start_time": "2024-09-16T13:53:53.014Z"
   },
   {
    "duration": 16,
    "start_time": "2024-09-16T13:53:53.025Z"
   },
   {
    "duration": 9,
    "start_time": "2024-09-16T13:53:53.043Z"
   },
   {
    "duration": 16,
    "start_time": "2024-09-16T13:53:53.053Z"
   },
   {
    "duration": 17,
    "start_time": "2024-09-16T13:53:53.071Z"
   },
   {
    "duration": 286,
    "start_time": "2024-09-16T13:53:53.090Z"
   },
   {
    "duration": 255,
    "start_time": "2024-09-16T13:53:53.377Z"
   },
   {
    "duration": 5,
    "start_time": "2024-09-16T13:53:53.633Z"
   },
   {
    "duration": 312,
    "start_time": "2024-09-16T13:53:53.640Z"
   },
   {
    "duration": 6,
    "start_time": "2024-09-16T13:53:53.954Z"
   },
   {
    "duration": 250,
    "start_time": "2024-09-16T13:53:53.961Z"
   },
   {
    "duration": 317,
    "start_time": "2024-09-16T13:53:54.213Z"
   },
   {
    "duration": 3,
    "start_time": "2024-09-16T13:53:54.531Z"
   },
   {
    "duration": 276,
    "start_time": "2024-09-16T13:53:54.536Z"
   },
   {
    "duration": 218,
    "start_time": "2024-09-16T13:53:54.813Z"
   },
   {
    "duration": 364,
    "start_time": "2024-09-16T13:53:55.035Z"
   },
   {
    "duration": 280,
    "start_time": "2024-09-16T13:53:55.400Z"
   },
   {
    "duration": 259,
    "start_time": "2024-09-16T13:53:55.681Z"
   },
   {
    "duration": 270,
    "start_time": "2024-09-16T13:53:55.942Z"
   },
   {
    "duration": 229,
    "start_time": "2024-09-16T13:53:56.214Z"
   },
   {
    "duration": 5,
    "start_time": "2024-09-16T13:53:56.444Z"
   },
   {
    "duration": 280,
    "start_time": "2024-09-16T13:53:56.450Z"
   },
   {
    "duration": 7,
    "start_time": "2024-09-16T13:53:56.731Z"
   },
   {
    "duration": 239,
    "start_time": "2024-09-16T13:53:56.739Z"
   },
   {
    "duration": 254,
    "start_time": "2024-09-16T13:53:56.980Z"
   },
   {
    "duration": 249,
    "start_time": "2024-09-16T13:53:57.235Z"
   },
   {
    "duration": 237,
    "start_time": "2024-09-16T13:53:57.485Z"
   },
   {
    "duration": 300,
    "start_time": "2024-09-16T13:53:57.724Z"
   },
   {
    "duration": 226,
    "start_time": "2024-09-16T13:53:58.025Z"
   },
   {
    "duration": 282,
    "start_time": "2024-09-16T13:53:58.253Z"
   },
   {
    "duration": 203,
    "start_time": "2024-09-16T13:53:58.536Z"
   },
   {
    "duration": 8,
    "start_time": "2024-09-16T13:53:58.740Z"
   },
   {
    "duration": 13,
    "start_time": "2024-09-16T13:53:58.749Z"
   },
   {
    "duration": 39,
    "start_time": "2024-09-16T13:53:58.763Z"
   },
   {
    "duration": 15,
    "start_time": "2024-09-16T13:53:58.803Z"
   },
   {
    "duration": 10,
    "start_time": "2024-09-16T13:53:58.819Z"
   },
   {
    "duration": 286,
    "start_time": "2024-09-16T13:53:58.830Z"
   },
   {
    "duration": 243,
    "start_time": "2024-09-16T13:53:59.118Z"
   },
   {
    "duration": 255,
    "start_time": "2024-09-16T13:53:59.363Z"
   },
   {
    "duration": 374,
    "start_time": "2024-09-16T13:53:59.619Z"
   },
   {
    "duration": 248,
    "start_time": "2024-09-16T13:53:59.994Z"
   },
   {
    "duration": 217,
    "start_time": "2024-09-16T13:54:00.244Z"
   },
   {
    "duration": 299,
    "start_time": "2024-09-16T13:54:00.463Z"
   },
   {
    "duration": 190,
    "start_time": "2024-09-16T13:54:00.763Z"
   },
   {
    "duration": 5,
    "start_time": "2024-09-16T13:54:00.954Z"
   },
   {
    "duration": 59,
    "start_time": "2024-09-16T13:54:00.960Z"
   },
   {
    "duration": 32,
    "start_time": "2024-09-16T13:54:01.020Z"
   },
   {
    "duration": 43,
    "start_time": "2024-09-16T13:54:01.053Z"
   },
   {
    "duration": 20,
    "start_time": "2024-09-16T13:54:01.097Z"
   },
   {
    "duration": 30,
    "start_time": "2024-09-16T13:54:01.119Z"
   },
   {
    "duration": 44,
    "start_time": "2024-09-16T13:54:01.150Z"
   },
   {
    "duration": 26,
    "start_time": "2024-09-16T13:54:01.195Z"
   },
   {
    "duration": 40,
    "start_time": "2024-09-16T13:54:01.223Z"
   },
   {
    "duration": 45,
    "start_time": "2024-09-16T13:54:01.265Z"
   },
   {
    "duration": 22,
    "start_time": "2024-09-16T13:54:01.311Z"
   },
   {
    "duration": 143,
    "start_time": "2024-09-16T13:54:01.334Z"
   },
   {
    "duration": 37,
    "start_time": "2024-09-16T13:54:01.479Z"
   },
   {
    "duration": 42,
    "start_time": "2024-09-16T13:54:01.518Z"
   },
   {
    "duration": 97,
    "start_time": "2024-09-16T13:54:01.561Z"
   },
   {
    "duration": 462,
    "start_time": "2024-09-16T13:54:01.659Z"
   },
   {
    "duration": 1007,
    "start_time": "2024-09-16T13:54:02.122Z"
   },
   {
    "duration": 5,
    "start_time": "2024-09-16T13:54:03.132Z"
   },
   {
    "duration": 36,
    "start_time": "2024-09-16T13:54:03.138Z"
   },
   {
    "duration": 15,
    "start_time": "2024-09-16T13:54:03.176Z"
   },
   {
    "duration": 26,
    "start_time": "2024-09-16T13:54:03.192Z"
   },
   {
    "duration": 59,
    "start_time": "2024-09-16T13:54:03.220Z"
   },
   {
    "duration": 44,
    "start_time": "2024-09-16T13:54:03.281Z"
   },
   {
    "duration": 1998,
    "start_time": "2024-09-16T13:54:03.327Z"
   },
   {
    "duration": 19,
    "start_time": "2024-09-16T13:54:05.327Z"
   },
   {
    "duration": 103,
    "start_time": "2024-09-16T13:54:05.348Z"
   },
   {
    "duration": 60,
    "start_time": "2024-09-16T13:54:05.453Z"
   },
   {
    "duration": 46,
    "start_time": "2024-09-16T13:54:05.514Z"
   },
   {
    "duration": 1290,
    "start_time": "2024-09-16T13:54:05.562Z"
   },
   {
    "duration": 0,
    "start_time": "2024-09-16T13:54:06.853Z"
   },
   {
    "duration": 21,
    "start_time": "2024-09-16T13:54:31.383Z"
   },
   {
    "duration": 28,
    "start_time": "2024-09-16T13:59:51.396Z"
   },
   {
    "duration": 20,
    "start_time": "2024-09-16T14:00:47.578Z"
   },
   {
    "duration": 21,
    "start_time": "2024-09-16T14:02:27.341Z"
   },
   {
    "duration": 15,
    "start_time": "2024-09-16T14:03:29.806Z"
   },
   {
    "duration": 12,
    "start_time": "2024-09-16T14:10:45.738Z"
   },
   {
    "duration": 10,
    "start_time": "2024-09-16T14:11:21.182Z"
   },
   {
    "duration": 44,
    "start_time": "2024-09-16T14:16:14.117Z"
   },
   {
    "duration": 47,
    "start_time": "2024-09-16T14:18:05.564Z"
   },
   {
    "duration": 46,
    "start_time": "2024-09-16T14:18:20.520Z"
   },
   {
    "duration": 30,
    "start_time": "2024-09-16T14:22:09.873Z"
   },
   {
    "duration": 20,
    "start_time": "2024-09-16T14:23:08.598Z"
   },
   {
    "duration": 24,
    "start_time": "2024-09-16T14:23:26.290Z"
   },
   {
    "duration": 19,
    "start_time": "2024-09-16T14:26:08.619Z"
   },
   {
    "duration": 21,
    "start_time": "2024-09-16T14:26:19.450Z"
   },
   {
    "duration": 19,
    "start_time": "2024-09-16T14:29:05.025Z"
   },
   {
    "duration": 21,
    "start_time": "2024-09-16T14:29:14.844Z"
   },
   {
    "duration": 41,
    "start_time": "2024-09-16T14:31:40.246Z"
   },
   {
    "duration": 35,
    "start_time": "2024-09-16T14:36:07.100Z"
   },
   {
    "duration": 26,
    "start_time": "2024-09-16T14:40:01.508Z"
   },
   {
    "duration": 30,
    "start_time": "2024-09-16T14:41:34.717Z"
   },
   {
    "duration": 25,
    "start_time": "2024-09-16T14:43:36.940Z"
   },
   {
    "duration": 20,
    "start_time": "2024-09-16T14:44:03.076Z"
   },
   {
    "duration": 1143,
    "start_time": "2024-09-16T14:44:23.558Z"
   },
   {
    "duration": 31,
    "start_time": "2024-09-16T14:44:33.367Z"
   },
   {
    "duration": 35,
    "start_time": "2024-09-16T14:46:16.797Z"
   },
   {
    "duration": 29,
    "start_time": "2024-09-16T14:46:45.168Z"
   },
   {
    "duration": 1239,
    "start_time": "2024-09-16T14:47:51.885Z"
   },
   {
    "duration": 27,
    "start_time": "2024-09-16T14:48:01.265Z"
   },
   {
    "duration": 34,
    "start_time": "2024-09-16T14:54:43.623Z"
   },
   {
    "duration": 26,
    "start_time": "2024-09-16T14:57:49.038Z"
   },
   {
    "duration": 22,
    "start_time": "2024-09-16T14:59:48.041Z"
   },
   {
    "duration": 3158,
    "start_time": "2024-09-16T15:00:13.535Z"
   },
   {
    "duration": 29,
    "start_time": "2024-09-16T15:03:34.732Z"
   },
   {
    "duration": 26,
    "start_time": "2024-09-16T15:04:20.253Z"
   },
   {
    "duration": 19,
    "start_time": "2024-09-16T15:05:59.136Z"
   },
   {
    "duration": 34,
    "start_time": "2024-09-16T15:06:43.358Z"
   },
   {
    "duration": 149,
    "start_time": "2024-09-16T15:06:59.064Z"
   },
   {
    "duration": 30,
    "start_time": "2024-09-16T15:07:56.369Z"
   },
   {
    "duration": 8,
    "start_time": "2024-09-16T15:08:38.905Z"
   },
   {
    "duration": 3,
    "start_time": "2024-09-16T15:08:49.779Z"
   },
   {
    "duration": 30,
    "start_time": "2024-09-16T15:10:22.223Z"
   },
   {
    "duration": 17,
    "start_time": "2024-09-16T15:13:08.693Z"
   },
   {
    "duration": 1432,
    "start_time": "2024-09-16T15:14:57.363Z"
   },
   {
    "duration": 1158,
    "start_time": "2024-09-16T15:15:50.713Z"
   },
   {
    "duration": 1499,
    "start_time": "2024-09-16T15:18:19.971Z"
   },
   {
    "duration": 27,
    "start_time": "2024-09-16T15:18:32.666Z"
   },
   {
    "duration": 22,
    "start_time": "2024-09-16T15:18:54.442Z"
   },
   {
    "duration": 22,
    "start_time": "2024-09-16T15:20:55.239Z"
   },
   {
    "duration": 28,
    "start_time": "2024-09-16T15:23:47.097Z"
   },
   {
    "duration": 11,
    "start_time": "2024-09-16T15:24:31.996Z"
   },
   {
    "duration": 22,
    "start_time": "2024-09-16T15:28:16.207Z"
   },
   {
    "duration": 20,
    "start_time": "2024-09-16T15:28:38.782Z"
   },
   {
    "duration": 35,
    "start_time": "2024-09-16T15:30:16.299Z"
   },
   {
    "duration": 44,
    "start_time": "2024-09-16T15:30:39.277Z"
   },
   {
    "duration": 24,
    "start_time": "2024-09-16T15:31:15.217Z"
   },
   {
    "duration": 31,
    "start_time": "2024-09-16T15:31:22.056Z"
   },
   {
    "duration": 25,
    "start_time": "2024-09-16T15:32:05.398Z"
   },
   {
    "duration": 1699,
    "start_time": "2024-09-16T15:32:23.086Z"
   },
   {
    "duration": 28,
    "start_time": "2024-09-16T15:32:32.111Z"
   },
   {
    "duration": 42,
    "start_time": "2024-09-16T15:33:49.430Z"
   },
   {
    "duration": 30,
    "start_time": "2024-09-16T15:34:11.419Z"
   },
   {
    "duration": 29,
    "start_time": "2024-09-16T15:34:41.580Z"
   },
   {
    "duration": 28,
    "start_time": "2024-09-16T15:36:45.140Z"
   },
   {
    "duration": 30,
    "start_time": "2024-09-16T15:37:58.076Z"
   },
   {
    "duration": 29,
    "start_time": "2024-09-16T15:39:19.886Z"
   },
   {
    "duration": 30,
    "start_time": "2024-09-16T15:39:44.845Z"
   },
   {
    "duration": 33,
    "start_time": "2024-09-16T15:40:19.397Z"
   },
   {
    "duration": 32,
    "start_time": "2024-09-16T15:40:38.540Z"
   },
   {
    "duration": 29,
    "start_time": "2024-09-16T15:41:20.766Z"
   },
   {
    "duration": 1570,
    "start_time": "2024-09-16T15:44:37.140Z"
   },
   {
    "duration": 24,
    "start_time": "2024-09-16T15:45:17.415Z"
   },
   {
    "duration": 186,
    "start_time": "2024-09-16T15:45:32.222Z"
   },
   {
    "duration": 109,
    "start_time": "2024-09-16T15:46:25.509Z"
   },
   {
    "duration": 25,
    "start_time": "2024-09-16T15:46:44.314Z"
   },
   {
    "duration": 24,
    "start_time": "2024-09-16T15:47:04.547Z"
   },
   {
    "duration": 41,
    "start_time": "2024-09-16T15:57:12.401Z"
   },
   {
    "duration": 26,
    "start_time": "2024-09-16T15:58:06.547Z"
   },
   {
    "duration": 25,
    "start_time": "2024-09-16T15:58:24.435Z"
   },
   {
    "duration": 17,
    "start_time": "2024-09-16T16:02:23.629Z"
   },
   {
    "duration": 18,
    "start_time": "2024-09-16T16:09:00.413Z"
   },
   {
    "duration": 64,
    "start_time": "2024-09-16T16:09:01.413Z"
   },
   {
    "duration": 29,
    "start_time": "2024-09-16T16:10:17.755Z"
   },
   {
    "duration": 20,
    "start_time": "2024-09-16T16:12:11.553Z"
   },
   {
    "duration": 38,
    "start_time": "2024-09-16T16:12:39.685Z"
   },
   {
    "duration": 27,
    "start_time": "2024-09-16T16:12:55.327Z"
   },
   {
    "duration": 41,
    "start_time": "2024-09-16T16:13:59.798Z"
   },
   {
    "duration": 29,
    "start_time": "2024-09-16T16:14:27.764Z"
   },
   {
    "duration": 32,
    "start_time": "2024-09-16T16:14:41.818Z"
   },
   {
    "duration": 27,
    "start_time": "2024-09-16T16:15:14.233Z"
   },
   {
    "duration": 29,
    "start_time": "2024-09-16T16:15:34.829Z"
   },
   {
    "duration": 49,
    "start_time": "2024-09-16T16:15:51.900Z"
   },
   {
    "duration": 23,
    "start_time": "2024-09-16T16:17:27.842Z"
   },
   {
    "duration": 51,
    "start_time": "2024-09-16T16:17:43.381Z"
   },
   {
    "duration": 42,
    "start_time": "2024-09-16T16:19:04.243Z"
   },
   {
    "duration": 35,
    "start_time": "2024-09-16T16:19:41.336Z"
   },
   {
    "duration": 40,
    "start_time": "2024-09-16T16:19:54.490Z"
   },
   {
    "duration": 35,
    "start_time": "2024-09-16T16:25:03.973Z"
   },
   {
    "duration": 8344,
    "start_time": "2024-09-16T16:25:21.840Z"
   },
   {
    "duration": 17,
    "start_time": "2024-09-16T16:28:00.943Z"
   },
   {
    "duration": 12012,
    "start_time": "2024-09-16T16:28:17.180Z"
   },
   {
    "duration": 10234,
    "start_time": "2024-09-16T16:37:02.831Z"
   },
   {
    "duration": 11,
    "start_time": "2024-09-16T16:44:31.024Z"
   },
   {
    "duration": 13,
    "start_time": "2024-09-16T16:45:25.605Z"
   },
   {
    "duration": 2433,
    "start_time": "2024-09-16T16:45:45.722Z"
   },
   {
    "duration": 3,
    "start_time": "2024-09-16T16:47:57.740Z"
   },
   {
    "duration": 44,
    "start_time": "2024-09-16T16:48:30.318Z"
   },
   {
    "duration": 1201,
    "start_time": "2024-09-16T16:48:43.857Z"
   },
   {
    "duration": 239,
    "start_time": "2024-09-16T16:49:01.952Z"
   },
   {
    "duration": 4,
    "start_time": "2024-09-16T16:49:39.470Z"
   },
   {
    "duration": 1138,
    "start_time": "2024-09-16T16:53:23.152Z"
   },
   {
    "duration": 32,
    "start_time": "2024-09-16T16:53:46.742Z"
   },
   {
    "duration": 30,
    "start_time": "2024-09-16T16:54:04.017Z"
   },
   {
    "duration": 11245,
    "start_time": "2024-09-16T16:54:25.741Z"
   },
   {
    "duration": 11,
    "start_time": "2024-09-16T16:55:40.640Z"
   },
   {
    "duration": 18,
    "start_time": "2024-09-16T16:55:52.524Z"
   },
   {
    "duration": 2,
    "start_time": "2024-09-16T16:56:18.946Z"
   },
   {
    "duration": 14,
    "start_time": "2024-09-16T16:56:32.234Z"
   },
   {
    "duration": 13,
    "start_time": "2024-09-16T16:56:43.129Z"
   },
   {
    "duration": 10,
    "start_time": "2024-09-16T16:58:17.834Z"
   },
   {
    "duration": 34,
    "start_time": "2024-09-16T16:58:44.900Z"
   },
   {
    "duration": 3,
    "start_time": "2024-09-16T16:59:36.864Z"
   },
   {
    "duration": 1039,
    "start_time": "2024-09-16T16:59:37.521Z"
   },
   {
    "duration": 14,
    "start_time": "2024-09-16T16:59:40.242Z"
   },
   {
    "duration": 15,
    "start_time": "2024-09-16T17:00:11.038Z"
   },
   {
    "duration": 18,
    "start_time": "2024-09-16T17:02:32.029Z"
   },
   {
    "duration": 11933,
    "start_time": "2024-09-16T17:09:21.041Z"
   },
   {
    "duration": 7,
    "start_time": "2024-09-16T17:17:08.982Z"
   },
   {
    "duration": 2,
    "start_time": "2024-09-16T17:18:29.470Z"
   },
   {
    "duration": 1266,
    "start_time": "2024-09-16T17:19:05.224Z"
   },
   {
    "duration": 997,
    "start_time": "2024-09-16T17:19:39.223Z"
   },
   {
    "duration": 7,
    "start_time": "2024-09-16T17:20:04.797Z"
   },
   {
    "duration": 14,
    "start_time": "2024-09-16T17:21:13.327Z"
   },
   {
    "duration": 271,
    "start_time": "2024-09-16T17:21:23.172Z"
   },
   {
    "duration": 1013,
    "start_time": "2024-09-16T17:26:20.606Z"
   },
   {
    "duration": 7,
    "start_time": "2024-09-16T17:26:22.641Z"
   },
   {
    "duration": 24,
    "start_time": "2024-09-16T17:26:25.696Z"
   },
   {
    "duration": 1014,
    "start_time": "2024-09-16T17:26:39.807Z"
   },
   {
    "duration": 6,
    "start_time": "2024-09-16T17:26:40.823Z"
   },
   {
    "duration": 264,
    "start_time": "2024-09-16T17:26:41.417Z"
   },
   {
    "duration": 12539,
    "start_time": "2024-09-17T08:23:28.969Z"
   },
   {
    "duration": 4884,
    "start_time": "2024-09-17T08:23:41.510Z"
   },
   {
    "duration": 1820,
    "start_time": "2024-09-17T08:23:46.397Z"
   },
   {
    "duration": 94,
    "start_time": "2024-09-17T08:23:48.220Z"
   },
   {
    "duration": 20,
    "start_time": "2024-09-17T08:23:48.315Z"
   },
   {
    "duration": 15,
    "start_time": "2024-09-17T08:23:48.336Z"
   },
   {
    "duration": 22,
    "start_time": "2024-09-17T08:23:48.352Z"
   },
   {
    "duration": 17,
    "start_time": "2024-09-17T08:23:48.375Z"
   },
   {
    "duration": 17,
    "start_time": "2024-09-17T08:23:48.394Z"
   },
   {
    "duration": 12,
    "start_time": "2024-09-17T08:23:48.413Z"
   },
   {
    "duration": 27,
    "start_time": "2024-09-17T08:23:48.426Z"
   },
   {
    "duration": 27,
    "start_time": "2024-09-17T08:23:48.454Z"
   },
   {
    "duration": 4,
    "start_time": "2024-09-17T08:23:48.483Z"
   },
   {
    "duration": 14,
    "start_time": "2024-09-17T08:23:48.488Z"
   },
   {
    "duration": 15,
    "start_time": "2024-09-17T08:23:48.503Z"
   },
   {
    "duration": 5,
    "start_time": "2024-09-17T08:23:48.520Z"
   },
   {
    "duration": 11,
    "start_time": "2024-09-17T08:23:48.526Z"
   },
   {
    "duration": 6,
    "start_time": "2024-09-17T08:23:48.538Z"
   },
   {
    "duration": 9,
    "start_time": "2024-09-17T08:23:48.545Z"
   },
   {
    "duration": 29,
    "start_time": "2024-09-17T08:23:48.555Z"
   },
   {
    "duration": 10,
    "start_time": "2024-09-17T08:23:48.586Z"
   },
   {
    "duration": 8,
    "start_time": "2024-09-17T08:23:48.598Z"
   },
   {
    "duration": 7,
    "start_time": "2024-09-17T08:23:48.608Z"
   },
   {
    "duration": 9,
    "start_time": "2024-09-17T08:23:48.616Z"
   },
   {
    "duration": 6,
    "start_time": "2024-09-17T08:23:48.626Z"
   },
   {
    "duration": 14,
    "start_time": "2024-09-17T08:23:48.633Z"
   },
   {
    "duration": 17,
    "start_time": "2024-09-17T08:23:48.648Z"
   },
   {
    "duration": 5,
    "start_time": "2024-09-17T08:23:48.669Z"
   },
   {
    "duration": 5,
    "start_time": "2024-09-17T08:23:48.675Z"
   },
   {
    "duration": 14,
    "start_time": "2024-09-17T08:23:48.682Z"
   },
   {
    "duration": 278,
    "start_time": "2024-09-17T08:23:48.698Z"
   },
   {
    "duration": 260,
    "start_time": "2024-09-17T08:23:48.977Z"
   },
   {
    "duration": 5,
    "start_time": "2024-09-17T08:23:49.239Z"
   },
   {
    "duration": 288,
    "start_time": "2024-09-17T08:23:49.246Z"
   },
   {
    "duration": 5,
    "start_time": "2024-09-17T08:23:49.536Z"
   },
   {
    "duration": 248,
    "start_time": "2024-09-17T08:23:49.543Z"
   },
   {
    "duration": 337,
    "start_time": "2024-09-17T08:23:49.793Z"
   },
   {
    "duration": 3,
    "start_time": "2024-09-17T08:23:50.132Z"
   },
   {
    "duration": 326,
    "start_time": "2024-09-17T08:23:50.136Z"
   },
   {
    "duration": 262,
    "start_time": "2024-09-17T08:23:50.464Z"
   },
   {
    "duration": 405,
    "start_time": "2024-09-17T08:23:50.727Z"
   },
   {
    "duration": 285,
    "start_time": "2024-09-17T08:23:51.133Z"
   },
   {
    "duration": 217,
    "start_time": "2024-09-17T08:23:51.420Z"
   },
   {
    "duration": 341,
    "start_time": "2024-09-17T08:23:51.639Z"
   },
   {
    "duration": 254,
    "start_time": "2024-09-17T08:23:51.982Z"
   },
   {
    "duration": 5,
    "start_time": "2024-09-17T08:23:52.238Z"
   },
   {
    "duration": 326,
    "start_time": "2024-09-17T08:23:52.244Z"
   },
   {
    "duration": 6,
    "start_time": "2024-09-17T08:23:52.571Z"
   },
   {
    "duration": 288,
    "start_time": "2024-09-17T08:23:52.589Z"
   },
   {
    "duration": 258,
    "start_time": "2024-09-17T08:23:52.879Z"
   },
   {
    "duration": 333,
    "start_time": "2024-09-17T08:23:53.138Z"
   },
   {
    "duration": 251,
    "start_time": "2024-09-17T08:23:53.473Z"
   },
   {
    "duration": 301,
    "start_time": "2024-09-17T08:23:53.726Z"
   },
   {
    "duration": 233,
    "start_time": "2024-09-17T08:23:54.028Z"
   },
   {
    "duration": 333,
    "start_time": "2024-09-17T08:23:54.263Z"
   },
   {
    "duration": 240,
    "start_time": "2024-09-17T08:23:54.598Z"
   },
   {
    "duration": 8,
    "start_time": "2024-09-17T08:23:54.839Z"
   },
   {
    "duration": 11,
    "start_time": "2024-09-17T08:23:54.849Z"
   },
   {
    "duration": 17,
    "start_time": "2024-09-17T08:23:54.862Z"
   },
   {
    "duration": 4,
    "start_time": "2024-09-17T08:23:54.889Z"
   },
   {
    "duration": 18,
    "start_time": "2024-09-17T08:23:54.894Z"
   },
   {
    "duration": 321,
    "start_time": "2024-09-17T08:23:54.914Z"
   },
   {
    "duration": 240,
    "start_time": "2024-09-17T08:23:55.236Z"
   },
   {
    "duration": 281,
    "start_time": "2024-09-17T08:23:55.478Z"
   },
   {
    "duration": 436,
    "start_time": "2024-09-17T08:23:55.761Z"
   },
   {
    "duration": 249,
    "start_time": "2024-09-17T08:23:56.198Z"
   },
   {
    "duration": 343,
    "start_time": "2024-09-17T08:23:56.449Z"
   },
   {
    "duration": 514,
    "start_time": "2024-09-17T08:23:56.793Z"
   },
   {
    "duration": 307,
    "start_time": "2024-09-17T08:23:57.309Z"
   },
   {
    "duration": 6,
    "start_time": "2024-09-17T08:23:57.617Z"
   },
   {
    "duration": 10,
    "start_time": "2024-09-17T08:23:57.624Z"
   },
   {
    "duration": 11,
    "start_time": "2024-09-17T08:23:57.635Z"
   },
   {
    "duration": 11,
    "start_time": "2024-09-17T08:23:57.690Z"
   },
   {
    "duration": 12,
    "start_time": "2024-09-17T08:23:57.702Z"
   },
   {
    "duration": 4,
    "start_time": "2024-09-17T08:23:57.715Z"
   },
   {
    "duration": 5,
    "start_time": "2024-09-17T08:23:57.721Z"
   },
   {
    "duration": 9,
    "start_time": "2024-09-17T08:23:57.727Z"
   },
   {
    "duration": 52,
    "start_time": "2024-09-17T08:23:57.738Z"
   },
   {
    "duration": 16,
    "start_time": "2024-09-17T08:23:57.791Z"
   },
   {
    "duration": 10,
    "start_time": "2024-09-17T08:23:57.809Z"
   },
   {
    "duration": 9,
    "start_time": "2024-09-17T08:23:57.820Z"
   },
   {
    "duration": 6,
    "start_time": "2024-09-17T08:23:57.835Z"
   },
   {
    "duration": 58,
    "start_time": "2024-09-17T08:23:57.842Z"
   },
   {
    "duration": 14,
    "start_time": "2024-09-17T08:23:57.902Z"
   },
   {
    "duration": 763,
    "start_time": "2024-09-17T08:23:57.917Z"
   },
   {
    "duration": 1192,
    "start_time": "2024-09-17T08:23:58.682Z"
   },
   {
    "duration": 5,
    "start_time": "2024-09-17T08:23:59.876Z"
   },
   {
    "duration": 6,
    "start_time": "2024-09-17T08:23:59.882Z"
   },
   {
    "duration": 10,
    "start_time": "2024-09-17T08:23:59.890Z"
   },
   {
    "duration": 15,
    "start_time": "2024-09-17T08:23:59.902Z"
   },
   {
    "duration": 3,
    "start_time": "2024-09-17T08:23:59.919Z"
   },
   {
    "duration": 6,
    "start_time": "2024-09-17T08:23:59.923Z"
   },
   {
    "duration": 2287,
    "start_time": "2024-09-17T08:23:59.930Z"
   },
   {
    "duration": 14,
    "start_time": "2024-09-17T08:24:02.218Z"
   },
   {
    "duration": 24,
    "start_time": "2024-09-17T08:24:02.234Z"
   },
   {
    "duration": 10,
    "start_time": "2024-09-17T08:24:02.260Z"
   },
   {
    "duration": 56,
    "start_time": "2024-09-17T08:24:02.271Z"
   },
   {
    "duration": 10257,
    "start_time": "2024-09-17T08:24:02.328Z"
   },
   {
    "duration": 2838,
    "start_time": "2024-09-17T08:24:12.589Z"
   },
   {
    "duration": 3,
    "start_time": "2024-09-17T08:24:15.428Z"
   },
   {
    "duration": 161,
    "start_time": "2024-09-17T08:24:15.432Z"
   },
   {
    "duration": 0,
    "start_time": "2024-09-17T08:24:15.594Z"
   },
   {
    "duration": 0,
    "start_time": "2024-09-17T08:24:15.595Z"
   },
   {
    "duration": 0,
    "start_time": "2024-09-17T08:24:15.596Z"
   },
   {
    "duration": 10518,
    "start_time": "2024-09-17T08:24:39.797Z"
   },
   {
    "duration": 34124,
    "start_time": "2024-09-18T13:10:27.538Z"
   },
   {
    "duration": 11555,
    "start_time": "2024-09-18T13:11:01.667Z"
   },
   {
    "duration": 2301,
    "start_time": "2024-09-18T13:11:13.224Z"
   },
   {
    "duration": 350,
    "start_time": "2024-09-18T13:11:15.527Z"
   },
   {
    "duration": 24,
    "start_time": "2024-09-18T13:11:15.879Z"
   },
   {
    "duration": 57,
    "start_time": "2024-09-18T13:11:15.905Z"
   },
   {
    "duration": 15,
    "start_time": "2024-09-18T13:11:15.963Z"
   },
   {
    "duration": 9,
    "start_time": "2024-09-18T13:11:15.980Z"
   },
   {
    "duration": 17,
    "start_time": "2024-09-18T13:11:15.992Z"
   },
   {
    "duration": 3,
    "start_time": "2024-09-18T13:11:16.012Z"
   },
   {
    "duration": 22,
    "start_time": "2024-09-18T13:11:16.017Z"
   },
   {
    "duration": 5,
    "start_time": "2024-09-18T13:11:16.041Z"
   },
   {
    "duration": 29,
    "start_time": "2024-09-18T13:11:16.048Z"
   },
   {
    "duration": 8,
    "start_time": "2024-09-18T13:11:16.079Z"
   },
   {
    "duration": 10,
    "start_time": "2024-09-18T13:11:16.090Z"
   },
   {
    "duration": 7,
    "start_time": "2024-09-18T13:11:16.102Z"
   },
   {
    "duration": 12,
    "start_time": "2024-09-18T13:11:16.111Z"
   },
   {
    "duration": 6,
    "start_time": "2024-09-18T13:11:16.125Z"
   },
   {
    "duration": 44,
    "start_time": "2024-09-18T13:11:16.133Z"
   },
   {
    "duration": 8,
    "start_time": "2024-09-18T13:11:16.179Z"
   },
   {
    "duration": 13,
    "start_time": "2024-09-18T13:11:16.189Z"
   },
   {
    "duration": 46,
    "start_time": "2024-09-18T13:11:16.203Z"
   },
   {
    "duration": 28,
    "start_time": "2024-09-18T13:11:16.251Z"
   },
   {
    "duration": 11,
    "start_time": "2024-09-18T13:11:16.282Z"
   },
   {
    "duration": 8,
    "start_time": "2024-09-18T13:11:16.296Z"
   },
   {
    "duration": 8,
    "start_time": "2024-09-18T13:11:16.305Z"
   },
   {
    "duration": 11,
    "start_time": "2024-09-18T13:11:16.314Z"
   },
   {
    "duration": 6,
    "start_time": "2024-09-18T13:11:16.330Z"
   },
   {
    "duration": 13,
    "start_time": "2024-09-18T13:11:16.337Z"
   },
   {
    "duration": 16,
    "start_time": "2024-09-18T13:11:16.376Z"
   },
   {
    "duration": 522,
    "start_time": "2024-09-18T13:11:16.394Z"
   },
   {
    "duration": 276,
    "start_time": "2024-09-18T13:11:16.917Z"
   },
   {
    "duration": 6,
    "start_time": "2024-09-18T13:11:17.195Z"
   },
   {
    "duration": 283,
    "start_time": "2024-09-18T13:11:17.203Z"
   },
   {
    "duration": 9,
    "start_time": "2024-09-18T13:11:17.488Z"
   },
   {
    "duration": 296,
    "start_time": "2024-09-18T13:11:17.498Z"
   },
   {
    "duration": 378,
    "start_time": "2024-09-18T13:11:17.796Z"
   },
   {
    "duration": 10,
    "start_time": "2024-09-18T13:11:18.177Z"
   },
   {
    "duration": 372,
    "start_time": "2024-09-18T13:11:18.193Z"
   },
   {
    "duration": 369,
    "start_time": "2024-09-18T13:11:18.566Z"
   },
   {
    "duration": 433,
    "start_time": "2024-09-18T13:11:18.937Z"
   },
   {
    "duration": 330,
    "start_time": "2024-09-18T13:11:19.371Z"
   },
   {
    "duration": 237,
    "start_time": "2024-09-18T13:11:19.703Z"
   },
   {
    "duration": 368,
    "start_time": "2024-09-18T13:11:19.942Z"
   },
   {
    "duration": 244,
    "start_time": "2024-09-18T13:11:20.311Z"
   },
   {
    "duration": 6,
    "start_time": "2024-09-18T13:11:20.557Z"
   },
   {
    "duration": 369,
    "start_time": "2024-09-18T13:11:20.577Z"
   },
   {
    "duration": 7,
    "start_time": "2024-09-18T13:11:20.948Z"
   },
   {
    "duration": 352,
    "start_time": "2024-09-18T13:11:20.957Z"
   },
   {
    "duration": 251,
    "start_time": "2024-09-18T13:11:21.310Z"
   },
   {
    "duration": 330,
    "start_time": "2024-09-18T13:11:21.563Z"
   },
   {
    "duration": 237,
    "start_time": "2024-09-18T13:11:21.895Z"
   },
   {
    "duration": 377,
    "start_time": "2024-09-18T13:11:22.133Z"
   },
   {
    "duration": 250,
    "start_time": "2024-09-18T13:11:22.512Z"
   },
   {
    "duration": 343,
    "start_time": "2024-09-18T13:11:22.764Z"
   },
   {
    "duration": 230,
    "start_time": "2024-09-18T13:11:23.109Z"
   },
   {
    "duration": 9,
    "start_time": "2024-09-18T13:11:23.341Z"
   },
   {
    "duration": 26,
    "start_time": "2024-09-18T13:11:23.351Z"
   },
   {
    "duration": 12,
    "start_time": "2024-09-18T13:11:23.380Z"
   },
   {
    "duration": 21,
    "start_time": "2024-09-18T13:11:23.394Z"
   },
   {
    "duration": 17,
    "start_time": "2024-09-18T13:11:23.417Z"
   },
   {
    "duration": 381,
    "start_time": "2024-09-18T13:11:23.436Z"
   },
   {
    "duration": 268,
    "start_time": "2024-09-18T13:11:23.819Z"
   },
   {
    "duration": 424,
    "start_time": "2024-09-18T13:11:24.088Z"
   },
   {
    "duration": 329,
    "start_time": "2024-09-18T13:11:24.513Z"
   },
   {
    "duration": 292,
    "start_time": "2024-09-18T13:11:24.844Z"
   },
   {
    "duration": 308,
    "start_time": "2024-09-18T13:11:25.138Z"
   },
   {
    "duration": 354,
    "start_time": "2024-09-18T13:11:25.448Z"
   },
   {
    "duration": 244,
    "start_time": "2024-09-18T13:11:25.805Z"
   },
   {
    "duration": 5,
    "start_time": "2024-09-18T13:11:26.051Z"
   },
   {
    "duration": 20,
    "start_time": "2024-09-18T13:11:26.058Z"
   },
   {
    "duration": 4,
    "start_time": "2024-09-18T13:11:26.080Z"
   },
   {
    "duration": 5,
    "start_time": "2024-09-18T13:11:26.086Z"
   },
   {
    "duration": 13,
    "start_time": "2024-09-18T13:11:26.093Z"
   },
   {
    "duration": 8,
    "start_time": "2024-09-18T13:11:26.108Z"
   },
   {
    "duration": 6,
    "start_time": "2024-09-18T13:11:26.117Z"
   },
   {
    "duration": 3,
    "start_time": "2024-09-18T13:11:26.125Z"
   },
   {
    "duration": 46,
    "start_time": "2024-09-18T13:11:26.130Z"
   },
   {
    "duration": 12,
    "start_time": "2024-09-18T13:11:26.178Z"
   },
   {
    "duration": 17,
    "start_time": "2024-09-18T13:11:26.192Z"
   },
   {
    "duration": 7,
    "start_time": "2024-09-18T13:11:26.211Z"
   },
   {
    "duration": 8,
    "start_time": "2024-09-18T13:11:26.224Z"
   },
   {
    "duration": 43,
    "start_time": "2024-09-18T13:11:26.234Z"
   },
   {
    "duration": 26,
    "start_time": "2024-09-18T13:11:26.280Z"
   },
   {
    "duration": 797,
    "start_time": "2024-09-18T13:11:26.307Z"
   },
   {
    "duration": 1610,
    "start_time": "2024-09-18T13:11:27.106Z"
   },
   {
    "duration": 5,
    "start_time": "2024-09-18T13:11:28.718Z"
   },
   {
    "duration": 4,
    "start_time": "2024-09-18T13:11:28.725Z"
   },
   {
    "duration": 5,
    "start_time": "2024-09-18T13:11:28.731Z"
   },
   {
    "duration": 11,
    "start_time": "2024-09-18T13:11:28.737Z"
   },
   {
    "duration": 6,
    "start_time": "2024-09-18T13:11:28.750Z"
   },
   {
    "duration": 3,
    "start_time": "2024-09-18T13:11:28.776Z"
   },
   {
    "duration": 2602,
    "start_time": "2024-09-18T13:11:28.781Z"
   },
   {
    "duration": 23,
    "start_time": "2024-09-18T13:11:31.386Z"
   },
   {
    "duration": 1115,
    "start_time": "2024-09-18T13:11:31.410Z"
   },
   {
    "duration": 22,
    "start_time": "2024-09-18T13:11:32.527Z"
   },
   {
    "duration": 25,
    "start_time": "2024-09-18T13:11:32.551Z"
   },
   {
    "duration": 12947,
    "start_time": "2024-09-18T13:11:32.578Z"
   },
   {
    "duration": 3114,
    "start_time": "2024-09-18T13:11:45.527Z"
   },
   {
    "duration": 3,
    "start_time": "2024-09-18T13:11:48.643Z"
   },
   {
    "duration": 211,
    "start_time": "2024-09-18T13:11:48.647Z"
   },
   {
    "duration": 0,
    "start_time": "2024-09-18T13:11:48.860Z"
   },
   {
    "duration": 0,
    "start_time": "2024-09-18T13:11:48.861Z"
   },
   {
    "duration": 0,
    "start_time": "2024-09-18T13:11:48.862Z"
   },
   {
    "duration": 73,
    "start_time": "2024-09-18T13:15:50.278Z"
   },
   {
    "duration": 11,
    "start_time": "2024-09-18T13:16:33.102Z"
   },
   {
    "duration": 19,
    "start_time": "2024-09-18T13:16:40.734Z"
   },
   {
    "duration": 452883,
    "start_time": "2024-09-18T13:17:41.992Z"
   },
   {
    "duration": 12,
    "start_time": "2024-09-18T13:25:14.877Z"
   },
   {
    "duration": 417308,
    "start_time": "2024-09-18T13:41:31.384Z"
   },
   {
    "duration": 11,
    "start_time": "2024-09-18T13:48:28.693Z"
   },
   {
    "duration": 10800,
    "start_time": "2024-09-18T14:00:11.088Z"
   },
   {
    "duration": 13,
    "start_time": "2024-09-18T14:03:25.628Z"
   },
   {
    "duration": 14,
    "start_time": "2024-09-18T14:03:43.059Z"
   },
   {
    "duration": 11,
    "start_time": "2024-09-18T14:03:49.464Z"
   },
   {
    "duration": 432860,
    "start_time": "2024-09-18T14:11:24.249Z"
   },
   {
    "duration": 10,
    "start_time": "2024-09-18T14:26:42.357Z"
   },
   {
    "duration": 10,
    "start_time": "2024-09-18T14:30:00.727Z"
   },
   {
    "duration": 5,
    "start_time": "2024-09-18T15:45:14.503Z"
   },
   {
    "duration": 16,
    "start_time": "2024-09-18T15:45:33.013Z"
   },
   {
    "duration": 14,
    "start_time": "2024-09-18T15:45:39.191Z"
   },
   {
    "duration": 554,
    "start_time": "2024-09-18T15:46:06.962Z"
   },
   {
    "duration": 1246,
    "start_time": "2024-09-18T15:46:16.907Z"
   },
   {
    "duration": 5,
    "start_time": "2024-09-18T15:46:26.621Z"
   },
   {
    "duration": 5,
    "start_time": "2024-09-18T15:46:28.745Z"
   },
   {
    "duration": 5,
    "start_time": "2024-09-18T15:46:29.908Z"
   },
   {
    "duration": 12,
    "start_time": "2024-09-18T15:46:31.027Z"
   },
   {
    "duration": 3,
    "start_time": "2024-09-18T15:46:32.066Z"
   },
   {
    "duration": 3,
    "start_time": "2024-09-18T15:46:39.876Z"
   },
   {
    "duration": 4511,
    "start_time": "2024-09-18T15:47:00.291Z"
   },
   {
    "duration": 12859,
    "start_time": "2024-09-18T15:47:39.108Z"
   },
   {
    "duration": 5293,
    "start_time": "2024-09-18T15:47:51.969Z"
   },
   {
    "duration": 2005,
    "start_time": "2024-09-18T15:47:57.264Z"
   },
   {
    "duration": 86,
    "start_time": "2024-09-18T15:47:59.271Z"
   },
   {
    "duration": 19,
    "start_time": "2024-09-18T15:47:59.359Z"
   },
   {
    "duration": 8,
    "start_time": "2024-09-18T15:47:59.380Z"
   },
   {
    "duration": 14,
    "start_time": "2024-09-18T15:47:59.389Z"
   },
   {
    "duration": 7,
    "start_time": "2024-09-18T15:47:59.405Z"
   },
   {
    "duration": 13,
    "start_time": "2024-09-18T15:47:59.414Z"
   },
   {
    "duration": 4,
    "start_time": "2024-09-18T15:47:59.429Z"
   },
   {
    "duration": 50,
    "start_time": "2024-09-18T15:47:59.435Z"
   },
   {
    "duration": 14,
    "start_time": "2024-09-18T15:47:59.486Z"
   },
   {
    "duration": 12,
    "start_time": "2024-09-18T15:47:59.502Z"
   },
   {
    "duration": 7,
    "start_time": "2024-09-18T15:47:59.516Z"
   },
   {
    "duration": 9,
    "start_time": "2024-09-18T15:47:59.525Z"
   },
   {
    "duration": 7,
    "start_time": "2024-09-18T15:47:59.536Z"
   },
   {
    "duration": 31,
    "start_time": "2024-09-18T15:47:59.545Z"
   },
   {
    "duration": 5,
    "start_time": "2024-09-18T15:47:59.577Z"
   },
   {
    "duration": 48,
    "start_time": "2024-09-18T15:47:59.583Z"
   },
   {
    "duration": 8,
    "start_time": "2024-09-18T15:47:59.632Z"
   },
   {
    "duration": 11,
    "start_time": "2024-09-18T15:47:59.641Z"
   },
   {
    "duration": 4,
    "start_time": "2024-09-18T15:47:59.654Z"
   },
   {
    "duration": 5,
    "start_time": "2024-09-18T15:47:59.659Z"
   },
   {
    "duration": 11,
    "start_time": "2024-09-18T15:47:59.665Z"
   },
   {
    "duration": 5,
    "start_time": "2024-09-18T15:47:59.678Z"
   },
   {
    "duration": 9,
    "start_time": "2024-09-18T15:47:59.685Z"
   },
   {
    "duration": 10,
    "start_time": "2024-09-18T15:47:59.696Z"
   },
   {
    "duration": 9,
    "start_time": "2024-09-18T15:47:59.710Z"
   },
   {
    "duration": 5,
    "start_time": "2024-09-18T15:47:59.720Z"
   },
   {
    "duration": 52,
    "start_time": "2024-09-18T15:47:59.727Z"
   },
   {
    "duration": 331,
    "start_time": "2024-09-18T15:47:59.780Z"
   },
   {
    "duration": 303,
    "start_time": "2024-09-18T15:48:00.113Z"
   },
   {
    "duration": 58,
    "start_time": "2024-09-18T15:48:00.418Z"
   },
   {
    "duration": 424,
    "start_time": "2024-09-18T15:48:00.478Z"
   },
   {
    "duration": 6,
    "start_time": "2024-09-18T15:48:00.904Z"
   },
   {
    "duration": 390,
    "start_time": "2024-09-18T15:48:00.911Z"
   },
   {
    "duration": 606,
    "start_time": "2024-09-18T15:48:01.302Z"
   },
   {
    "duration": 4,
    "start_time": "2024-09-18T15:48:01.909Z"
   },
   {
    "duration": 510,
    "start_time": "2024-09-18T15:48:01.915Z"
   },
   {
    "duration": 275,
    "start_time": "2024-09-18T15:48:02.426Z"
   },
   {
    "duration": 455,
    "start_time": "2024-09-18T15:48:02.703Z"
   },
   {
    "duration": 328,
    "start_time": "2024-09-18T15:48:03.160Z"
   },
   {
    "duration": 240,
    "start_time": "2024-09-18T15:48:03.489Z"
   },
   {
    "duration": 360,
    "start_time": "2024-09-18T15:48:03.730Z"
   },
   {
    "duration": 252,
    "start_time": "2024-09-18T15:48:04.092Z"
   },
   {
    "duration": 6,
    "start_time": "2024-09-18T15:48:04.346Z"
   },
   {
    "duration": 344,
    "start_time": "2024-09-18T15:48:04.354Z"
   },
   {
    "duration": 8,
    "start_time": "2024-09-18T15:48:04.700Z"
   },
   {
    "duration": 367,
    "start_time": "2024-09-18T15:48:04.710Z"
   },
   {
    "duration": 260,
    "start_time": "2024-09-18T15:48:05.079Z"
   },
   {
    "duration": 340,
    "start_time": "2024-09-18T15:48:05.341Z"
   },
   {
    "duration": 259,
    "start_time": "2024-09-18T15:48:05.682Z"
   },
   {
    "duration": 350,
    "start_time": "2024-09-18T15:48:05.943Z"
   },
   {
    "duration": 257,
    "start_time": "2024-09-18T15:48:06.295Z"
   },
   {
    "duration": 342,
    "start_time": "2024-09-18T15:48:06.554Z"
   },
   {
    "duration": 243,
    "start_time": "2024-09-18T15:48:06.897Z"
   },
   {
    "duration": 8,
    "start_time": "2024-09-18T15:48:07.142Z"
   },
   {
    "duration": 27,
    "start_time": "2024-09-18T15:48:07.152Z"
   },
   {
    "duration": 7,
    "start_time": "2024-09-18T15:48:07.181Z"
   },
   {
    "duration": 6,
    "start_time": "2024-09-18T15:48:07.190Z"
   },
   {
    "duration": 13,
    "start_time": "2024-09-18T15:48:07.198Z"
   },
   {
    "duration": 392,
    "start_time": "2024-09-18T15:48:07.212Z"
   },
   {
    "duration": 250,
    "start_time": "2024-09-18T15:48:07.605Z"
   },
   {
    "duration": 301,
    "start_time": "2024-09-18T15:48:07.857Z"
   },
   {
    "duration": 480,
    "start_time": "2024-09-18T15:48:08.160Z"
   },
   {
    "duration": 288,
    "start_time": "2024-09-18T15:48:08.642Z"
   },
   {
    "duration": 311,
    "start_time": "2024-09-18T15:48:08.932Z"
   },
   {
    "duration": 341,
    "start_time": "2024-09-18T15:48:09.245Z"
   },
   {
    "duration": 245,
    "start_time": "2024-09-18T15:48:09.588Z"
   },
   {
    "duration": 7,
    "start_time": "2024-09-18T15:48:09.835Z"
   },
   {
    "duration": 14,
    "start_time": "2024-09-18T15:48:09.844Z"
   },
   {
    "duration": 16,
    "start_time": "2024-09-18T15:48:09.860Z"
   },
   {
    "duration": 7,
    "start_time": "2024-09-18T15:48:09.878Z"
   },
   {
    "duration": 17,
    "start_time": "2024-09-18T15:48:09.886Z"
   },
   {
    "duration": 11,
    "start_time": "2024-09-18T15:48:09.905Z"
   },
   {
    "duration": 8,
    "start_time": "2024-09-18T15:48:09.917Z"
   },
   {
    "duration": 5,
    "start_time": "2024-09-18T15:48:09.927Z"
   },
   {
    "duration": 15,
    "start_time": "2024-09-18T15:48:09.934Z"
   },
   {
    "duration": 26,
    "start_time": "2024-09-18T15:48:09.951Z"
   },
   {
    "duration": 7,
    "start_time": "2024-09-18T15:48:09.979Z"
   },
   {
    "duration": 12,
    "start_time": "2024-09-18T15:48:09.988Z"
   },
   {
    "duration": 9,
    "start_time": "2024-09-18T15:48:10.007Z"
   },
   {
    "duration": 37,
    "start_time": "2024-09-18T15:48:10.017Z"
   },
   {
    "duration": 21,
    "start_time": "2024-09-18T15:48:10.056Z"
   },
   {
    "duration": 7,
    "start_time": "2024-09-18T15:48:10.079Z"
   },
   {
    "duration": 19,
    "start_time": "2024-09-18T15:48:10.087Z"
   },
   {
    "duration": 618,
    "start_time": "2024-09-18T15:48:10.107Z"
   },
   {
    "duration": 1279,
    "start_time": "2024-09-18T15:48:10.726Z"
   },
   {
    "duration": 7,
    "start_time": "2024-09-18T15:48:12.007Z"
   },
   {
    "duration": 18,
    "start_time": "2024-09-18T15:48:12.015Z"
   },
   {
    "duration": 12,
    "start_time": "2024-09-18T15:48:12.035Z"
   },
   {
    "duration": 12,
    "start_time": "2024-09-18T15:48:12.049Z"
   },
   {
    "duration": 11,
    "start_time": "2024-09-18T15:48:12.062Z"
   },
   {
    "duration": 4621,
    "start_time": "2024-09-18T15:48:12.075Z"
   },
   {
    "duration": 0,
    "start_time": "2024-09-18T15:48:16.698Z"
   },
   {
    "duration": 0,
    "start_time": "2024-09-18T15:48:16.700Z"
   },
   {
    "duration": 0,
    "start_time": "2024-09-18T15:48:16.701Z"
   },
   {
    "duration": 0,
    "start_time": "2024-09-18T15:48:16.703Z"
   },
   {
    "duration": 0,
    "start_time": "2024-09-18T15:48:16.704Z"
   },
   {
    "duration": 0,
    "start_time": "2024-09-18T15:48:16.706Z"
   },
   {
    "duration": 0,
    "start_time": "2024-09-18T15:48:16.707Z"
   },
   {
    "duration": 0,
    "start_time": "2024-09-18T15:48:16.709Z"
   },
   {
    "duration": 0,
    "start_time": "2024-09-18T15:48:16.710Z"
   },
   {
    "duration": 0,
    "start_time": "2024-09-18T15:48:16.712Z"
   },
   {
    "duration": 0,
    "start_time": "2024-09-18T15:48:16.714Z"
   },
   {
    "duration": 14,
    "start_time": "2024-09-18T15:53:09.421Z"
   },
   {
    "duration": 3,
    "start_time": "2024-09-18T15:53:11.410Z"
   },
   {
    "duration": 2519,
    "start_time": "2024-09-18T15:53:13.970Z"
   },
   {
    "duration": 17,
    "start_time": "2024-09-18T15:53:26.770Z"
   },
   {
    "duration": 15,
    "start_time": "2024-09-18T15:53:29.012Z"
   },
   {
    "duration": 11,
    "start_time": "2024-09-18T15:53:29.805Z"
   },
   {
    "duration": 23,
    "start_time": "2024-09-18T15:53:32.687Z"
   },
   {
    "duration": 12014,
    "start_time": "2024-09-18T15:53:33.449Z"
   },
   {
    "duration": 435845,
    "start_time": "2024-09-18T15:53:54.052Z"
   },
   {
    "duration": 1296,
    "start_time": "2024-09-18T16:01:09.899Z"
   },
   {
    "duration": 19,
    "start_time": "2024-09-18T16:04:33.797Z"
   },
   {
    "duration": 5,
    "start_time": "2024-09-18T16:19:30.607Z"
   },
   {
    "duration": 13,
    "start_time": "2024-09-18T16:19:43.610Z"
   },
   {
    "duration": 333,
    "start_time": "2024-09-18T16:21:09.643Z"
   },
   {
    "duration": 14,
    "start_time": "2024-09-18T16:21:46.190Z"
   },
   {
    "duration": 11,
    "start_time": "2024-09-18T16:22:02.961Z"
   },
   {
    "duration": 10,
    "start_time": "2024-09-18T16:22:14.328Z"
   },
   {
    "duration": 12,
    "start_time": "2024-09-18T16:24:33.207Z"
   },
   {
    "duration": 13,
    "start_time": "2024-09-18T16:24:39.616Z"
   },
   {
    "duration": 13,
    "start_time": "2024-09-18T16:24:48.981Z"
   },
   {
    "duration": 10,
    "start_time": "2024-09-18T16:25:19.068Z"
   },
   {
    "duration": 3,
    "start_time": "2024-09-18T16:25:48.482Z"
   },
   {
    "duration": 7,
    "start_time": "2024-09-18T16:26:07.565Z"
   },
   {
    "duration": 12,
    "start_time": "2024-09-18T16:32:35.779Z"
   },
   {
    "duration": 17,
    "start_time": "2024-09-18T16:34:59.330Z"
   },
   {
    "duration": 16,
    "start_time": "2024-09-18T16:35:17.430Z"
   },
   {
    "duration": 4,
    "start_time": "2024-09-18T16:35:34.190Z"
   },
   {
    "duration": 191,
    "start_time": "2024-09-18T16:36:10.654Z"
   },
   {
    "duration": 9,
    "start_time": "2024-09-18T16:36:29.073Z"
   },
   {
    "duration": 7,
    "start_time": "2024-09-18T16:38:07.813Z"
   },
   {
    "duration": 9,
    "start_time": "2024-09-18T16:38:24.315Z"
   },
   {
    "duration": 9,
    "start_time": "2024-09-18T16:41:17.292Z"
   },
   {
    "duration": 8,
    "start_time": "2024-09-18T16:41:28.084Z"
   },
   {
    "duration": 8,
    "start_time": "2024-09-18T16:42:23.921Z"
   },
   {
    "duration": 11,
    "start_time": "2024-09-18T16:42:41.338Z"
   },
   {
    "duration": 10,
    "start_time": "2024-09-18T16:42:47.200Z"
   },
   {
    "duration": 9,
    "start_time": "2024-09-18T16:42:54.821Z"
   },
   {
    "duration": 10,
    "start_time": "2024-09-18T16:43:12.781Z"
   },
   {
    "duration": 11,
    "start_time": "2024-09-18T16:43:47.776Z"
   },
   {
    "duration": 8,
    "start_time": "2024-09-18T16:44:09.128Z"
   },
   {
    "duration": 12,
    "start_time": "2024-09-18T16:44:17.441Z"
   },
   {
    "duration": 7,
    "start_time": "2024-09-18T16:44:33.041Z"
   },
   {
    "duration": 8,
    "start_time": "2024-09-18T16:44:50.958Z"
   },
   {
    "duration": 12,
    "start_time": "2024-09-18T16:45:03.310Z"
   },
   {
    "duration": 12681,
    "start_time": "2024-09-18T16:45:20.106Z"
   },
   {
    "duration": 5264,
    "start_time": "2024-09-18T16:45:32.789Z"
   },
   {
    "duration": 2046,
    "start_time": "2024-09-18T16:45:38.055Z"
   },
   {
    "duration": 87,
    "start_time": "2024-09-18T16:45:40.103Z"
   },
   {
    "duration": 22,
    "start_time": "2024-09-18T16:45:40.192Z"
   },
   {
    "duration": 8,
    "start_time": "2024-09-18T16:45:40.216Z"
   },
   {
    "duration": 14,
    "start_time": "2024-09-18T16:45:40.226Z"
   },
   {
    "duration": 13,
    "start_time": "2024-09-18T16:45:40.242Z"
   },
   {
    "duration": 22,
    "start_time": "2024-09-18T16:45:40.256Z"
   },
   {
    "duration": 4,
    "start_time": "2024-09-18T16:45:40.282Z"
   },
   {
    "duration": 13,
    "start_time": "2024-09-18T16:45:40.288Z"
   },
   {
    "duration": 38,
    "start_time": "2024-09-18T16:45:40.303Z"
   },
   {
    "duration": 4,
    "start_time": "2024-09-18T16:45:40.343Z"
   },
   {
    "duration": 5,
    "start_time": "2024-09-18T16:45:40.349Z"
   },
   {
    "duration": 8,
    "start_time": "2024-09-18T16:45:40.356Z"
   },
   {
    "duration": 7,
    "start_time": "2024-09-18T16:45:40.375Z"
   },
   {
    "duration": 12,
    "start_time": "2024-09-18T16:45:40.384Z"
   },
   {
    "duration": 5,
    "start_time": "2024-09-18T16:45:40.398Z"
   },
   {
    "duration": 7,
    "start_time": "2024-09-18T16:45:40.404Z"
   },
   {
    "duration": 7,
    "start_time": "2024-09-18T16:45:40.413Z"
   },
   {
    "duration": 13,
    "start_time": "2024-09-18T16:45:40.421Z"
   },
   {
    "duration": 4,
    "start_time": "2024-09-18T16:45:40.476Z"
   },
   {
    "duration": 7,
    "start_time": "2024-09-18T16:45:40.482Z"
   },
   {
    "duration": 8,
    "start_time": "2024-09-18T16:45:40.490Z"
   },
   {
    "duration": 7,
    "start_time": "2024-09-18T16:45:40.499Z"
   },
   {
    "duration": 5,
    "start_time": "2024-09-18T16:45:40.508Z"
   },
   {
    "duration": 11,
    "start_time": "2024-09-18T16:45:40.514Z"
   },
   {
    "duration": 6,
    "start_time": "2024-09-18T16:45:40.529Z"
   },
   {
    "duration": 8,
    "start_time": "2024-09-18T16:45:40.536Z"
   },
   {
    "duration": 14,
    "start_time": "2024-09-18T16:45:40.579Z"
   },
   {
    "duration": 313,
    "start_time": "2024-09-18T16:45:40.595Z"
   },
   {
    "duration": 245,
    "start_time": "2024-09-18T16:45:40.909Z"
   },
   {
    "duration": 5,
    "start_time": "2024-09-18T16:45:41.156Z"
   },
   {
    "duration": 276,
    "start_time": "2024-09-18T16:45:41.176Z"
   },
   {
    "duration": 6,
    "start_time": "2024-09-18T16:45:41.453Z"
   },
   {
    "duration": 234,
    "start_time": "2024-09-18T16:45:41.460Z"
   },
   {
    "duration": 344,
    "start_time": "2024-09-18T16:45:41.696Z"
   },
   {
    "duration": 3,
    "start_time": "2024-09-18T16:45:42.041Z"
   },
   {
    "duration": 348,
    "start_time": "2024-09-18T16:45:42.046Z"
   },
   {
    "duration": 234,
    "start_time": "2024-09-18T16:45:42.396Z"
   },
   {
    "duration": 464,
    "start_time": "2024-09-18T16:45:42.632Z"
   },
   {
    "duration": 293,
    "start_time": "2024-09-18T16:45:43.098Z"
   },
   {
    "duration": 233,
    "start_time": "2024-09-18T16:45:43.393Z"
   },
   {
    "duration": 353,
    "start_time": "2024-09-18T16:45:43.628Z"
   },
   {
    "duration": 254,
    "start_time": "2024-09-18T16:45:43.982Z"
   },
   {
    "duration": 6,
    "start_time": "2024-09-18T16:45:44.237Z"
   },
   {
    "duration": 342,
    "start_time": "2024-09-18T16:45:44.244Z"
   },
   {
    "duration": 6,
    "start_time": "2024-09-18T16:45:44.588Z"
   },
   {
    "duration": 292,
    "start_time": "2024-09-18T16:45:44.596Z"
   },
   {
    "duration": 239,
    "start_time": "2024-09-18T16:45:44.890Z"
   },
   {
    "duration": 327,
    "start_time": "2024-09-18T16:45:45.130Z"
   },
   {
    "duration": 253,
    "start_time": "2024-09-18T16:45:45.459Z"
   },
   {
    "duration": 335,
    "start_time": "2024-09-18T16:45:45.713Z"
   },
   {
    "duration": 286,
    "start_time": "2024-09-18T16:45:46.050Z"
   },
   {
    "duration": 344,
    "start_time": "2024-09-18T16:45:46.337Z"
   },
   {
    "duration": 241,
    "start_time": "2024-09-18T16:45:46.683Z"
   },
   {
    "duration": 8,
    "start_time": "2024-09-18T16:45:46.926Z"
   },
   {
    "duration": 9,
    "start_time": "2024-09-18T16:45:46.936Z"
   },
   {
    "duration": 101,
    "start_time": "2024-09-18T16:45:46.947Z"
   },
   {
    "duration": 5,
    "start_time": "2024-09-18T16:45:47.049Z"
   },
   {
    "duration": 13,
    "start_time": "2024-09-18T16:45:47.055Z"
   },
   {
    "duration": 345,
    "start_time": "2024-09-18T16:45:47.069Z"
   },
   {
    "duration": 250,
    "start_time": "2024-09-18T16:45:47.416Z"
   },
   {
    "duration": 301,
    "start_time": "2024-09-18T16:45:47.677Z"
   },
   {
    "duration": 471,
    "start_time": "2024-09-18T16:45:47.980Z"
   },
   {
    "duration": 283,
    "start_time": "2024-09-18T16:45:48.453Z"
   },
   {
    "duration": 304,
    "start_time": "2024-09-18T16:45:48.738Z"
   },
   {
    "duration": 350,
    "start_time": "2024-09-18T16:45:49.043Z"
   },
   {
    "duration": 243,
    "start_time": "2024-09-18T16:45:49.395Z"
   },
   {
    "duration": 8,
    "start_time": "2024-09-18T16:45:49.640Z"
   },
   {
    "duration": 27,
    "start_time": "2024-09-18T16:45:49.649Z"
   },
   {
    "duration": 4,
    "start_time": "2024-09-18T16:45:49.677Z"
   },
   {
    "duration": 10,
    "start_time": "2024-09-18T16:45:49.683Z"
   },
   {
    "duration": 12,
    "start_time": "2024-09-18T16:45:49.694Z"
   },
   {
    "duration": 5,
    "start_time": "2024-09-18T16:45:49.707Z"
   },
   {
    "duration": 5,
    "start_time": "2024-09-18T16:45:49.714Z"
   },
   {
    "duration": 76,
    "start_time": "2024-09-18T16:45:49.721Z"
   },
   {
    "duration": 8,
    "start_time": "2024-09-18T16:45:49.799Z"
   },
   {
    "duration": 9,
    "start_time": "2024-09-18T16:45:49.809Z"
   },
   {
    "duration": 14,
    "start_time": "2024-09-18T16:45:49.820Z"
   },
   {
    "duration": 8,
    "start_time": "2024-09-18T16:45:49.835Z"
   },
   {
    "duration": 7,
    "start_time": "2024-09-18T16:45:49.850Z"
   },
   {
    "duration": 24,
    "start_time": "2024-09-18T16:45:49.859Z"
   },
   {
    "duration": 16,
    "start_time": "2024-09-18T16:45:49.885Z"
   },
   {
    "duration": 5,
    "start_time": "2024-09-18T16:45:49.903Z"
   },
   {
    "duration": 16,
    "start_time": "2024-09-18T16:45:49.910Z"
   },
   {
    "duration": 589,
    "start_time": "2024-09-18T16:45:49.928Z"
   },
   {
    "duration": 1261,
    "start_time": "2024-09-18T16:45:50.519Z"
   },
   {
    "duration": 5,
    "start_time": "2024-09-18T16:45:51.782Z"
   },
   {
    "duration": 17,
    "start_time": "2024-09-18T16:45:51.789Z"
   },
   {
    "duration": 6,
    "start_time": "2024-09-18T16:45:51.808Z"
   },
   {
    "duration": 13,
    "start_time": "2024-09-18T16:45:51.816Z"
   },
   {
    "duration": 22,
    "start_time": "2024-09-18T16:45:51.831Z"
   },
   {
    "duration": 2454,
    "start_time": "2024-09-18T16:45:51.855Z"
   },
   {
    "duration": 17,
    "start_time": "2024-09-18T16:45:54.311Z"
   },
   {
    "duration": 42,
    "start_time": "2024-09-18T16:45:54.329Z"
   },
   {
    "duration": 11,
    "start_time": "2024-09-18T16:45:54.373Z"
   },
   {
    "duration": 23,
    "start_time": "2024-09-18T16:45:54.385Z"
   },
   {
    "duration": 10939,
    "start_time": "2024-09-18T16:45:54.410Z"
   },
   {
    "duration": 350,
    "start_time": "2024-09-18T16:46:05.351Z"
   },
   {
    "duration": 0,
    "start_time": "2024-09-18T16:46:05.703Z"
   },
   {
    "duration": 0,
    "start_time": "2024-09-18T16:46:05.704Z"
   },
   {
    "duration": 0,
    "start_time": "2024-09-18T16:46:05.705Z"
   },
   {
    "duration": 0,
    "start_time": "2024-09-18T16:46:05.706Z"
   },
   {
    "duration": 0,
    "start_time": "2024-09-18T16:46:05.707Z"
   },
   {
    "duration": 197,
    "start_time": "2024-09-18T16:50:49.102Z"
   },
   {
    "duration": 237,
    "start_time": "2024-09-18T16:51:35.309Z"
   },
   {
    "duration": 13,
    "start_time": "2024-09-18T16:51:55.663Z"
   },
   {
    "duration": 12,
    "start_time": "2024-09-18T16:52:35.527Z"
   },
   {
    "duration": 58,
    "start_time": "2024-09-18T16:53:13.533Z"
   },
   {
    "duration": 256,
    "start_time": "2024-09-18T16:53:24.689Z"
   },
   {
    "duration": 4,
    "start_time": "2024-09-18T16:53:58.519Z"
   },
   {
    "duration": 7,
    "start_time": "2024-09-18T16:53:59.527Z"
   },
   {
    "duration": 10,
    "start_time": "2024-09-18T16:54:00.648Z"
   },
   {
    "duration": 8,
    "start_time": "2024-09-18T16:54:09.008Z"
   },
   {
    "duration": 10,
    "start_time": "2024-09-18T16:54:10.447Z"
   },
   {
    "duration": 8,
    "start_time": "2024-09-18T16:54:34.244Z"
   },
   {
    "duration": 6,
    "start_time": "2024-09-18T16:54:45.726Z"
   },
   {
    "duration": 8,
    "start_time": "2024-09-18T16:54:46.778Z"
   },
   {
    "duration": 19,
    "start_time": "2024-09-18T16:55:01.695Z"
   },
   {
    "duration": 8,
    "start_time": "2024-09-18T16:56:15.537Z"
   },
   {
    "duration": 21,
    "start_time": "2024-09-18T16:56:21.658Z"
   },
   {
    "duration": 17,
    "start_time": "2024-09-18T16:57:52.831Z"
   },
   {
    "duration": 9,
    "start_time": "2024-09-18T16:58:04.179Z"
   },
   {
    "duration": 4,
    "start_time": "2024-09-18T17:07:50.992Z"
   },
   {
    "duration": 17,
    "start_time": "2024-09-18T17:08:02.285Z"
   },
   {
    "duration": 538,
    "start_time": "2024-09-18T17:08:21.227Z"
   },
   {
    "duration": 1262,
    "start_time": "2024-09-18T17:08:32.924Z"
   },
   {
    "duration": 5,
    "start_time": "2024-09-18T17:08:46.358Z"
   },
   {
    "duration": 5,
    "start_time": "2024-09-18T17:08:47.228Z"
   },
   {
    "duration": 6,
    "start_time": "2024-09-18T17:09:26.509Z"
   },
   {
    "duration": 23,
    "start_time": "2024-09-18T17:09:28.534Z"
   },
   {
    "duration": 13,
    "start_time": "2024-09-18T17:09:40.327Z"
   },
   {
    "duration": 3,
    "start_time": "2024-09-18T17:09:42.302Z"
   },
   {
    "duration": 2384,
    "start_time": "2024-09-18T17:09:44.011Z"
   },
   {
    "duration": 15,
    "start_time": "2024-09-18T17:09:46.397Z"
   },
   {
    "duration": 14,
    "start_time": "2024-09-18T17:09:54.699Z"
   },
   {
    "duration": 14,
    "start_time": "2024-09-18T17:09:55.929Z"
   },
   {
    "duration": 9,
    "start_time": "2024-09-18T17:09:56.800Z"
   },
   {
    "duration": 21,
    "start_time": "2024-09-18T17:10:00.377Z"
   },
   {
    "duration": 11638,
    "start_time": "2024-09-18T17:10:01.310Z"
   },
   {
    "duration": 4,
    "start_time": "2024-09-18T17:10:13.337Z"
   },
   {
    "duration": 8,
    "start_time": "2024-09-18T17:10:15.117Z"
   },
   {
    "duration": 7,
    "start_time": "2024-09-18T17:10:16.706Z"
   },
   {
    "duration": 21,
    "start_time": "2024-09-18T17:10:18.214Z"
   },
   {
    "duration": 7,
    "start_time": "2024-09-18T17:10:39.200Z"
   },
   {
    "duration": 9,
    "start_time": "2024-09-18T17:10:40.522Z"
   },
   {
    "duration": 6,
    "start_time": "2024-09-18T17:15:38.743Z"
   },
   {
    "duration": 8,
    "start_time": "2024-09-18T17:15:39.438Z"
   },
   {
    "duration": 3,
    "start_time": "2024-09-18T17:22:15.189Z"
   },
   {
    "duration": 6,
    "start_time": "2024-09-18T17:22:15.756Z"
   },
   {
    "duration": 8,
    "start_time": "2024-09-18T17:22:16.277Z"
   },
   {
    "duration": 3887,
    "start_time": "2024-09-18T17:28:33.641Z"
   },
   {
    "duration": 17,
    "start_time": "2024-09-18T17:35:26.151Z"
   },
   {
    "duration": 295,
    "start_time": "2024-09-18T17:36:15.399Z"
   },
   {
    "duration": 10,
    "start_time": "2024-09-18T17:37:06.694Z"
   },
   {
    "duration": 11,
    "start_time": "2024-09-18T17:37:14.880Z"
   },
   {
    "duration": 62,
    "start_time": "2024-09-18T17:37:21.614Z"
   },
   {
    "duration": 97,
    "start_time": "2024-09-18T17:38:33.181Z"
   },
   {
    "duration": 309,
    "start_time": "2024-09-18T17:41:35.882Z"
   },
   {
    "duration": 307,
    "start_time": "2024-09-18T17:42:07.582Z"
   },
   {
    "duration": 389640,
    "start_time": "2024-09-18T17:43:46.697Z"
   },
   {
    "duration": 399727,
    "start_time": "2024-09-18T17:50:35.768Z"
   },
   {
    "duration": 11,
    "start_time": "2024-09-18T17:57:15.497Z"
   },
   {
    "duration": 13,
    "start_time": "2024-09-18T17:57:34.469Z"
   },
   {
    "duration": 15,
    "start_time": "2024-09-18T17:58:50.938Z"
   },
   {
    "duration": 59,
    "start_time": "2024-09-18T17:59:36.725Z"
   },
   {
    "duration": 54,
    "start_time": "2024-09-18T17:59:44.260Z"
   },
   {
    "duration": 11,
    "start_time": "2024-09-18T17:59:53.912Z"
   },
   {
    "duration": 11,
    "start_time": "2024-09-18T18:00:49.935Z"
   },
   {
    "duration": 102323,
    "start_time": "2024-09-18T18:06:23.415Z"
   },
   {
    "duration": 305387,
    "start_time": "2024-09-18T18:08:40.735Z"
   },
   {
    "duration": 11281,
    "start_time": "2024-09-18T18:17:09.497Z"
   },
   {
    "duration": 18,
    "start_time": "2024-09-18T18:36:06.245Z"
   },
   {
    "duration": 20063,
    "start_time": "2024-09-18T18:37:01.314Z"
   },
   {
    "duration": 20471,
    "start_time": "2024-09-18T18:38:33.934Z"
   },
   {
    "duration": 20721,
    "start_time": "2024-09-18T18:39:09.860Z"
   },
   {
    "duration": 19290,
    "start_time": "2024-09-18T18:39:45.994Z"
   },
   {
    "duration": 20137,
    "start_time": "2024-09-18T18:41:14.510Z"
   },
   {
    "duration": 574745,
    "start_time": "2024-09-18T18:41:59.107Z"
   },
   {
    "duration": 11787,
    "start_time": "2024-09-18T18:59:46.166Z"
   },
   {
    "duration": 4933,
    "start_time": "2024-09-18T18:59:57.955Z"
   },
   {
    "duration": 1887,
    "start_time": "2024-09-18T19:00:02.890Z"
   },
   {
    "duration": 87,
    "start_time": "2024-09-18T19:00:04.779Z"
   },
   {
    "duration": 20,
    "start_time": "2024-09-18T19:00:04.867Z"
   },
   {
    "duration": 8,
    "start_time": "2024-09-18T19:00:04.888Z"
   },
   {
    "duration": 10,
    "start_time": "2024-09-18T19:00:04.898Z"
   },
   {
    "duration": 16,
    "start_time": "2024-09-18T19:00:04.909Z"
   },
   {
    "duration": 23,
    "start_time": "2024-09-18T19:00:04.927Z"
   },
   {
    "duration": 4,
    "start_time": "2024-09-18T19:00:04.953Z"
   },
   {
    "duration": 17,
    "start_time": "2024-09-18T19:00:04.959Z"
   },
   {
    "duration": 15,
    "start_time": "2024-09-18T19:00:04.978Z"
   },
   {
    "duration": 7,
    "start_time": "2024-09-18T19:00:04.994Z"
   },
   {
    "duration": 7,
    "start_time": "2024-09-18T19:00:05.002Z"
   },
   {
    "duration": 22,
    "start_time": "2024-09-18T19:00:05.011Z"
   },
   {
    "duration": 28,
    "start_time": "2024-09-18T19:00:05.035Z"
   },
   {
    "duration": 10,
    "start_time": "2024-09-18T19:00:05.065Z"
   },
   {
    "duration": 11,
    "start_time": "2024-09-18T19:00:05.077Z"
   },
   {
    "duration": 8,
    "start_time": "2024-09-18T19:00:05.089Z"
   },
   {
    "duration": 6,
    "start_time": "2024-09-18T19:00:05.098Z"
   },
   {
    "duration": 10,
    "start_time": "2024-09-18T19:00:05.106Z"
   },
   {
    "duration": 7,
    "start_time": "2024-09-18T19:00:05.118Z"
   },
   {
    "duration": 7,
    "start_time": "2024-09-18T19:00:05.126Z"
   },
   {
    "duration": 19,
    "start_time": "2024-09-18T19:00:05.134Z"
   },
   {
    "duration": 23,
    "start_time": "2024-09-18T19:00:05.154Z"
   },
   {
    "duration": 6,
    "start_time": "2024-09-18T19:00:05.178Z"
   },
   {
    "duration": 22,
    "start_time": "2024-09-18T19:00:05.186Z"
   },
   {
    "duration": 7,
    "start_time": "2024-09-18T19:00:05.213Z"
   },
   {
    "duration": 12,
    "start_time": "2024-09-18T19:00:05.221Z"
   },
   {
    "duration": 21,
    "start_time": "2024-09-18T19:00:05.234Z"
   },
   {
    "duration": 295,
    "start_time": "2024-09-18T19:00:05.257Z"
   },
   {
    "duration": 275,
    "start_time": "2024-09-18T19:00:05.554Z"
   },
   {
    "duration": 6,
    "start_time": "2024-09-18T19:00:05.830Z"
   },
   {
    "duration": 290,
    "start_time": "2024-09-18T19:00:05.838Z"
   },
   {
    "duration": 6,
    "start_time": "2024-09-18T19:00:06.130Z"
   },
   {
    "duration": 247,
    "start_time": "2024-09-18T19:00:06.137Z"
   },
   {
    "duration": 330,
    "start_time": "2024-09-18T19:00:06.386Z"
   },
   {
    "duration": 3,
    "start_time": "2024-09-18T19:00:06.718Z"
   },
   {
    "duration": 357,
    "start_time": "2024-09-18T19:00:06.723Z"
   },
   {
    "duration": 236,
    "start_time": "2024-09-18T19:00:07.081Z"
   },
   {
    "duration": 421,
    "start_time": "2024-09-18T19:00:07.319Z"
   },
   {
    "duration": 316,
    "start_time": "2024-09-18T19:00:07.742Z"
   },
   {
    "duration": 263,
    "start_time": "2024-09-18T19:00:08.060Z"
   },
   {
    "duration": 336,
    "start_time": "2024-09-18T19:00:08.324Z"
   },
   {
    "duration": 259,
    "start_time": "2024-09-18T19:00:08.662Z"
   },
   {
    "duration": 5,
    "start_time": "2024-09-18T19:00:08.922Z"
   },
   {
    "duration": 336,
    "start_time": "2024-09-18T19:00:08.928Z"
   },
   {
    "duration": 13,
    "start_time": "2024-09-18T19:00:09.266Z"
   },
   {
    "duration": 282,
    "start_time": "2024-09-18T19:00:09.281Z"
   },
   {
    "duration": 260,
    "start_time": "2024-09-18T19:00:09.564Z"
   },
   {
    "duration": 329,
    "start_time": "2024-09-18T19:00:09.825Z"
   },
   {
    "duration": 244,
    "start_time": "2024-09-18T19:00:10.155Z"
   },
   {
    "duration": 313,
    "start_time": "2024-09-18T19:00:10.400Z"
   },
   {
    "duration": 225,
    "start_time": "2024-09-18T19:00:10.714Z"
   },
   {
    "duration": 329,
    "start_time": "2024-09-18T19:00:10.941Z"
   },
   {
    "duration": 237,
    "start_time": "2024-09-18T19:00:11.276Z"
   },
   {
    "duration": 8,
    "start_time": "2024-09-18T19:00:11.514Z"
   },
   {
    "duration": 11,
    "start_time": "2024-09-18T19:00:11.523Z"
   },
   {
    "duration": 8,
    "start_time": "2024-09-18T19:00:11.535Z"
   },
   {
    "duration": 3,
    "start_time": "2024-09-18T19:00:11.544Z"
   },
   {
    "duration": 29,
    "start_time": "2024-09-18T19:00:11.548Z"
   },
   {
    "duration": 319,
    "start_time": "2024-09-18T19:00:11.579Z"
   },
   {
    "duration": 246,
    "start_time": "2024-09-18T19:00:11.900Z"
   },
   {
    "duration": 290,
    "start_time": "2024-09-18T19:00:12.147Z"
   },
   {
    "duration": 433,
    "start_time": "2024-09-18T19:00:12.438Z"
   },
   {
    "duration": 252,
    "start_time": "2024-09-18T19:00:12.876Z"
   },
   {
    "duration": 270,
    "start_time": "2024-09-18T19:00:13.130Z"
   },
   {
    "duration": 301,
    "start_time": "2024-09-18T19:00:13.401Z"
   },
   {
    "duration": 223,
    "start_time": "2024-09-18T19:00:13.704Z"
   },
   {
    "duration": 5,
    "start_time": "2024-09-18T19:00:13.928Z"
   },
   {
    "duration": 9,
    "start_time": "2024-09-18T19:00:13.935Z"
   },
   {
    "duration": 2,
    "start_time": "2024-09-18T19:00:13.945Z"
   },
   {
    "duration": 28,
    "start_time": "2024-09-18T19:00:13.949Z"
   },
   {
    "duration": 15,
    "start_time": "2024-09-18T19:00:13.978Z"
   },
   {
    "duration": 7,
    "start_time": "2024-09-18T19:00:13.995Z"
   },
   {
    "duration": 5,
    "start_time": "2024-09-18T19:00:14.003Z"
   },
   {
    "duration": 15,
    "start_time": "2024-09-18T19:00:14.010Z"
   },
   {
    "duration": 16,
    "start_time": "2024-09-18T19:00:14.026Z"
   },
   {
    "duration": 9,
    "start_time": "2024-09-18T19:00:14.043Z"
   },
   {
    "duration": 9,
    "start_time": "2024-09-18T19:00:14.053Z"
   },
   {
    "duration": 13,
    "start_time": "2024-09-18T19:00:14.063Z"
   },
   {
    "duration": 6,
    "start_time": "2024-09-18T19:00:14.081Z"
   },
   {
    "duration": 12,
    "start_time": "2024-09-18T19:00:14.088Z"
   },
   {
    "duration": 13,
    "start_time": "2024-09-18T19:00:14.102Z"
   },
   {
    "duration": 9,
    "start_time": "2024-09-18T19:00:14.117Z"
   },
   {
    "duration": 18,
    "start_time": "2024-09-18T19:00:14.127Z"
   },
   {
    "duration": 30,
    "start_time": "2024-09-18T19:00:14.146Z"
   },
   {
    "duration": 523,
    "start_time": "2024-09-18T19:00:14.178Z"
   },
   {
    "duration": 1131,
    "start_time": "2024-09-18T19:00:14.703Z"
   },
   {
    "duration": 5,
    "start_time": "2024-09-18T19:00:15.835Z"
   },
   {
    "duration": 8,
    "start_time": "2024-09-18T19:00:15.842Z"
   },
   {
    "duration": 6,
    "start_time": "2024-09-18T19:00:15.851Z"
   },
   {
    "duration": 22,
    "start_time": "2024-09-18T19:00:15.858Z"
   },
   {
    "duration": 2,
    "start_time": "2024-09-18T19:00:15.882Z"
   },
   {
    "duration": 2272,
    "start_time": "2024-09-18T19:00:15.885Z"
   },
   {
    "duration": 27,
    "start_time": "2024-09-18T19:00:18.159Z"
   },
   {
    "duration": 19,
    "start_time": "2024-09-18T19:00:18.188Z"
   },
   {
    "duration": 14,
    "start_time": "2024-09-18T19:00:18.209Z"
   },
   {
    "duration": 75,
    "start_time": "2024-09-18T19:00:18.225Z"
   },
   {
    "duration": 11524,
    "start_time": "2024-09-18T19:00:18.302Z"
   },
   {
    "duration": 575240,
    "start_time": "2024-09-18T19:00:29.827Z"
   },
   {
    "duration": 4,
    "start_time": "2024-09-18T19:10:05.069Z"
   },
   {
    "duration": 28,
    "start_time": "2024-09-18T19:10:05.074Z"
   },
   {
    "duration": 8,
    "start_time": "2024-09-18T19:10:05.103Z"
   },
   {
    "duration": 301,
    "start_time": "2024-09-18T19:10:05.112Z"
   },
   {
    "duration": 135,
    "start_time": "2024-09-18T19:42:48.324Z"
   },
   {
    "duration": 11,
    "start_time": "2024-09-18T19:43:09.119Z"
   },
   {
    "duration": 313,
    "start_time": "2024-09-18T19:43:17.367Z"
   },
   {
    "duration": 319,
    "start_time": "2024-09-18T19:44:19.234Z"
   },
   {
    "duration": 10,
    "start_time": "2024-09-18T19:45:05.074Z"
   },
   {
    "duration": 312,
    "start_time": "2024-09-18T19:45:32.850Z"
   },
   {
    "duration": 311,
    "start_time": "2024-09-18T19:50:50.277Z"
   },
   {
    "duration": 963,
    "start_time": "2024-09-18T19:51:21.321Z"
   },
   {
    "duration": 483,
    "start_time": "2024-09-18T19:51:37.894Z"
   },
   {
    "duration": 304,
    "start_time": "2024-09-18T19:51:54.684Z"
   },
   {
    "duration": 312,
    "start_time": "2024-09-18T19:52:07.945Z"
   },
   {
    "duration": 17192,
    "start_time": "2024-09-21T08:34:50.890Z"
   },
   {
    "duration": 7444,
    "start_time": "2024-09-21T08:35:08.084Z"
   },
   {
    "duration": 2659,
    "start_time": "2024-09-21T08:35:15.530Z"
   },
   {
    "duration": 324,
    "start_time": "2024-09-21T08:35:18.191Z"
   },
   {
    "duration": 21,
    "start_time": "2024-09-21T08:35:18.516Z"
   },
   {
    "duration": 39,
    "start_time": "2024-09-21T08:35:18.538Z"
   },
   {
    "duration": 9,
    "start_time": "2024-09-21T08:35:18.578Z"
   },
   {
    "duration": 17,
    "start_time": "2024-09-21T08:35:18.588Z"
   },
   {
    "duration": 13,
    "start_time": "2024-09-21T08:35:18.607Z"
   },
   {
    "duration": 4,
    "start_time": "2024-09-21T08:35:18.623Z"
   },
   {
    "duration": 13,
    "start_time": "2024-09-21T08:35:18.629Z"
   },
   {
    "duration": 13,
    "start_time": "2024-09-21T08:35:18.643Z"
   },
   {
    "duration": 5,
    "start_time": "2024-09-21T08:35:18.657Z"
   },
   {
    "duration": 15,
    "start_time": "2024-09-21T08:35:18.663Z"
   },
   {
    "duration": 13,
    "start_time": "2024-09-21T08:35:18.680Z"
   },
   {
    "duration": 18,
    "start_time": "2024-09-21T08:35:18.695Z"
   },
   {
    "duration": 15,
    "start_time": "2024-09-21T08:35:18.714Z"
   },
   {
    "duration": 15,
    "start_time": "2024-09-21T08:35:18.731Z"
   },
   {
    "duration": 16,
    "start_time": "2024-09-21T08:35:18.747Z"
   },
   {
    "duration": 66,
    "start_time": "2024-09-21T08:35:18.765Z"
   },
   {
    "duration": 32,
    "start_time": "2024-09-21T08:35:18.833Z"
   },
   {
    "duration": 10,
    "start_time": "2024-09-21T08:35:18.867Z"
   },
   {
    "duration": 4,
    "start_time": "2024-09-21T08:35:18.879Z"
   },
   {
    "duration": 7,
    "start_time": "2024-09-21T08:35:18.885Z"
   },
   {
    "duration": 9,
    "start_time": "2024-09-21T08:35:18.894Z"
   },
   {
    "duration": 18,
    "start_time": "2024-09-21T08:35:18.905Z"
   },
   {
    "duration": 33,
    "start_time": "2024-09-21T08:35:18.924Z"
   },
   {
    "duration": 7,
    "start_time": "2024-09-21T08:35:18.963Z"
   },
   {
    "duration": 19,
    "start_time": "2024-09-21T08:35:18.971Z"
   },
   {
    "duration": 11,
    "start_time": "2024-09-21T08:35:18.992Z"
   },
   {
    "duration": 348,
    "start_time": "2024-09-21T08:35:19.004Z"
   },
   {
    "duration": 272,
    "start_time": "2024-09-21T08:35:19.353Z"
   },
   {
    "duration": 6,
    "start_time": "2024-09-21T08:35:19.626Z"
   },
   {
    "duration": 265,
    "start_time": "2024-09-21T08:35:19.634Z"
   },
   {
    "duration": 5,
    "start_time": "2024-09-21T08:35:19.906Z"
   },
   {
    "duration": 311,
    "start_time": "2024-09-21T08:35:19.912Z"
   },
   {
    "duration": 332,
    "start_time": "2024-09-21T08:35:20.225Z"
   },
   {
    "duration": 1315,
    "start_time": "2024-09-21T08:35:20.559Z"
   },
   {
    "duration": 455,
    "start_time": "2024-09-21T08:35:21.876Z"
   },
   {
    "duration": 334,
    "start_time": "2024-09-21T08:35:22.333Z"
   },
   {
    "duration": 369,
    "start_time": "2024-09-21T08:35:22.669Z"
   },
   {
    "duration": 298,
    "start_time": "2024-09-21T08:35:23.040Z"
   },
   {
    "duration": 216,
    "start_time": "2024-09-21T08:35:23.339Z"
   },
   {
    "duration": 358,
    "start_time": "2024-09-21T08:35:23.557Z"
   },
   {
    "duration": 242,
    "start_time": "2024-09-21T08:35:23.917Z"
   },
   {
    "duration": 6,
    "start_time": "2024-09-21T08:35:24.162Z"
   },
   {
    "duration": 359,
    "start_time": "2024-09-21T08:35:24.169Z"
   },
   {
    "duration": 7,
    "start_time": "2024-09-21T08:35:24.530Z"
   },
   {
    "duration": 309,
    "start_time": "2024-09-21T08:35:24.539Z"
   },
   {
    "duration": 239,
    "start_time": "2024-09-21T08:35:24.849Z"
   },
   {
    "duration": 320,
    "start_time": "2024-09-21T08:35:25.105Z"
   },
   {
    "duration": 225,
    "start_time": "2024-09-21T08:35:25.426Z"
   },
   {
    "duration": 400,
    "start_time": "2024-09-21T08:35:25.653Z"
   },
   {
    "duration": 288,
    "start_time": "2024-09-21T08:35:26.055Z"
   },
   {
    "duration": 323,
    "start_time": "2024-09-21T08:35:26.344Z"
   },
   {
    "duration": 254,
    "start_time": "2024-09-21T08:35:26.668Z"
   },
   {
    "duration": 8,
    "start_time": "2024-09-21T08:35:26.924Z"
   },
   {
    "duration": 26,
    "start_time": "2024-09-21T08:35:26.933Z"
   },
   {
    "duration": 16,
    "start_time": "2024-09-21T08:35:26.961Z"
   },
   {
    "duration": 5,
    "start_time": "2024-09-21T08:35:26.979Z"
   },
   {
    "duration": 22,
    "start_time": "2024-09-21T08:35:26.986Z"
   },
   {
    "duration": 334,
    "start_time": "2024-09-21T08:35:27.010Z"
   },
   {
    "duration": 370,
    "start_time": "2024-09-21T08:35:27.346Z"
   },
   {
    "duration": 301,
    "start_time": "2024-09-21T08:35:27.718Z"
   },
   {
    "duration": 311,
    "start_time": "2024-09-21T08:35:28.021Z"
   },
   {
    "duration": 244,
    "start_time": "2024-09-21T08:35:28.334Z"
   },
   {
    "duration": 292,
    "start_time": "2024-09-21T08:35:28.579Z"
   },
   {
    "duration": 378,
    "start_time": "2024-09-21T08:35:28.873Z"
   },
   {
    "duration": 220,
    "start_time": "2024-09-21T08:35:29.253Z"
   },
   {
    "duration": 7,
    "start_time": "2024-09-21T08:35:29.475Z"
   },
   {
    "duration": 33,
    "start_time": "2024-09-21T08:35:29.483Z"
   },
   {
    "duration": 21,
    "start_time": "2024-09-21T08:35:29.518Z"
   },
   {
    "duration": 8,
    "start_time": "2024-09-21T08:35:29.540Z"
   },
   {
    "duration": 12,
    "start_time": "2024-09-21T08:35:29.549Z"
   },
   {
    "duration": 11,
    "start_time": "2024-09-21T08:35:29.563Z"
   },
   {
    "duration": 6,
    "start_time": "2024-09-21T08:35:29.576Z"
   },
   {
    "duration": 4,
    "start_time": "2024-09-21T08:35:29.584Z"
   },
   {
    "duration": 17,
    "start_time": "2024-09-21T08:35:29.589Z"
   },
   {
    "duration": 11,
    "start_time": "2024-09-21T08:35:29.608Z"
   },
   {
    "duration": 8,
    "start_time": "2024-09-21T08:35:29.621Z"
   },
   {
    "duration": 28,
    "start_time": "2024-09-21T08:35:29.631Z"
   },
   {
    "duration": 11,
    "start_time": "2024-09-21T08:35:29.664Z"
   },
   {
    "duration": 76,
    "start_time": "2024-09-21T08:35:29.677Z"
   },
   {
    "duration": 130,
    "start_time": "2024-09-21T08:35:29.755Z"
   },
   {
    "duration": 8,
    "start_time": "2024-09-21T08:35:29.886Z"
   },
   {
    "duration": 15,
    "start_time": "2024-09-21T08:35:29.896Z"
   },
   {
    "duration": 60,
    "start_time": "2024-09-21T08:35:29.912Z"
   },
   {
    "duration": 545,
    "start_time": "2024-09-21T08:35:29.974Z"
   },
   {
    "duration": 1280,
    "start_time": "2024-09-21T08:35:30.521Z"
   },
   {
    "duration": 6,
    "start_time": "2024-09-21T08:35:31.804Z"
   },
   {
    "duration": 85,
    "start_time": "2024-09-21T08:35:31.812Z"
   },
   {
    "duration": 102,
    "start_time": "2024-09-21T08:35:31.898Z"
   },
   {
    "duration": 33,
    "start_time": "2024-09-21T08:35:32.001Z"
   },
   {
    "duration": 54,
    "start_time": "2024-09-21T08:35:32.035Z"
   },
   {
    "duration": 2467,
    "start_time": "2024-09-21T08:35:32.091Z"
   },
   {
    "duration": 16,
    "start_time": "2024-09-21T08:35:34.560Z"
   },
   {
    "duration": 34,
    "start_time": "2024-09-21T08:35:34.577Z"
   },
   {
    "duration": 10,
    "start_time": "2024-09-21T08:35:34.613Z"
   },
   {
    "duration": 46,
    "start_time": "2024-09-21T08:35:34.624Z"
   },
   {
    "duration": 13306,
    "start_time": "2024-09-21T08:35:43.846Z"
   },
   {
    "duration": 5378,
    "start_time": "2024-09-21T08:35:57.154Z"
   },
   {
    "duration": 1999,
    "start_time": "2024-09-21T08:36:02.535Z"
   },
   {
    "duration": 90,
    "start_time": "2024-09-21T08:36:04.535Z"
   },
   {
    "duration": 20,
    "start_time": "2024-09-21T08:36:04.627Z"
   },
   {
    "duration": 33,
    "start_time": "2024-09-21T08:36:04.649Z"
   },
   {
    "duration": 31,
    "start_time": "2024-09-21T08:36:04.684Z"
   },
   {
    "duration": 47,
    "start_time": "2024-09-21T08:36:04.716Z"
   },
   {
    "duration": 60,
    "start_time": "2024-09-21T08:36:04.765Z"
   },
   {
    "duration": 47,
    "start_time": "2024-09-21T08:36:04.827Z"
   },
   {
    "duration": 51,
    "start_time": "2024-09-21T08:36:04.875Z"
   },
   {
    "duration": 36,
    "start_time": "2024-09-21T08:36:04.928Z"
   },
   {
    "duration": 28,
    "start_time": "2024-09-21T08:36:04.966Z"
   },
   {
    "duration": 22,
    "start_time": "2024-09-21T08:36:04.997Z"
   },
   {
    "duration": 26,
    "start_time": "2024-09-21T08:36:05.021Z"
   },
   {
    "duration": 29,
    "start_time": "2024-09-21T08:36:05.049Z"
   },
   {
    "duration": 102,
    "start_time": "2024-09-21T08:36:05.079Z"
   },
   {
    "duration": 39,
    "start_time": "2024-09-21T08:36:05.183Z"
   },
   {
    "duration": 29,
    "start_time": "2024-09-21T08:36:05.224Z"
   },
   {
    "duration": 36,
    "start_time": "2024-09-21T08:36:05.255Z"
   },
   {
    "duration": 30,
    "start_time": "2024-09-21T08:36:05.293Z"
   },
   {
    "duration": 36,
    "start_time": "2024-09-21T08:36:05.324Z"
   },
   {
    "duration": 29,
    "start_time": "2024-09-21T08:36:05.362Z"
   },
   {
    "duration": 46,
    "start_time": "2024-09-21T08:36:05.393Z"
   },
   {
    "duration": 38,
    "start_time": "2024-09-21T08:36:05.441Z"
   },
   {
    "duration": 17,
    "start_time": "2024-09-21T08:36:05.481Z"
   },
   {
    "duration": 18,
    "start_time": "2024-09-21T08:36:05.500Z"
   },
   {
    "duration": 31,
    "start_time": "2024-09-21T08:36:05.519Z"
   },
   {
    "duration": 14,
    "start_time": "2024-09-21T08:36:05.552Z"
   },
   {
    "duration": 52,
    "start_time": "2024-09-21T08:36:05.567Z"
   },
   {
    "duration": 357,
    "start_time": "2024-09-21T08:36:05.620Z"
   },
   {
    "duration": 301,
    "start_time": "2024-09-21T08:36:05.979Z"
   },
   {
    "duration": 6,
    "start_time": "2024-09-21T08:36:06.282Z"
   },
   {
    "duration": 287,
    "start_time": "2024-09-21T08:36:06.289Z"
   },
   {
    "duration": 6,
    "start_time": "2024-09-21T08:36:06.577Z"
   },
   {
    "duration": 241,
    "start_time": "2024-09-21T08:36:06.584Z"
   },
   {
    "duration": 345,
    "start_time": "2024-09-21T08:36:06.828Z"
   },
   {
    "duration": 4,
    "start_time": "2024-09-21T08:36:07.174Z"
   },
   {
    "duration": 360,
    "start_time": "2024-09-21T08:36:07.179Z"
   },
   {
    "duration": 227,
    "start_time": "2024-09-21T08:36:07.541Z"
   },
   {
    "duration": 481,
    "start_time": "2024-09-21T08:36:07.773Z"
   },
   {
    "duration": 340,
    "start_time": "2024-09-21T08:36:08.256Z"
   },
   {
    "duration": 260,
    "start_time": "2024-09-21T08:36:08.598Z"
   },
   {
    "duration": 372,
    "start_time": "2024-09-21T08:36:08.860Z"
   },
   {
    "duration": 238,
    "start_time": "2024-09-21T08:36:09.234Z"
   },
   {
    "duration": 5,
    "start_time": "2024-09-21T08:36:09.473Z"
   },
   {
    "duration": 343,
    "start_time": "2024-09-21T08:36:09.480Z"
   },
   {
    "duration": 8,
    "start_time": "2024-09-21T08:36:09.825Z"
   },
   {
    "duration": 285,
    "start_time": "2024-09-21T08:36:09.834Z"
   },
   {
    "duration": 250,
    "start_time": "2024-09-21T08:36:10.121Z"
   },
   {
    "duration": 333,
    "start_time": "2024-09-21T08:36:10.373Z"
   },
   {
    "duration": 301,
    "start_time": "2024-09-21T08:36:10.708Z"
   },
   {
    "duration": 340,
    "start_time": "2024-09-21T08:36:11.011Z"
   },
   {
    "duration": 402,
    "start_time": "2024-09-21T08:36:11.353Z"
   },
   {
    "duration": 410,
    "start_time": "2024-09-21T08:36:11.757Z"
   },
   {
    "duration": 283,
    "start_time": "2024-09-21T08:36:12.169Z"
   },
   {
    "duration": 9,
    "start_time": "2024-09-21T08:36:12.454Z"
   },
   {
    "duration": 15,
    "start_time": "2024-09-21T08:36:12.465Z"
   },
   {
    "duration": 25,
    "start_time": "2024-09-21T08:36:12.482Z"
   },
   {
    "duration": 8,
    "start_time": "2024-09-21T08:36:12.508Z"
   },
   {
    "duration": 17,
    "start_time": "2024-09-21T08:36:12.517Z"
   },
   {
    "duration": 364,
    "start_time": "2024-09-21T08:36:12.536Z"
   },
   {
    "duration": 286,
    "start_time": "2024-09-21T08:36:12.905Z"
   },
   {
    "duration": 293,
    "start_time": "2024-09-21T08:36:13.192Z"
   },
   {
    "duration": 449,
    "start_time": "2024-09-21T08:36:13.487Z"
   },
   {
    "duration": 250,
    "start_time": "2024-09-21T08:36:13.938Z"
   },
   {
    "duration": 300,
    "start_time": "2024-09-21T08:36:14.190Z"
   },
   {
    "duration": 359,
    "start_time": "2024-09-21T08:36:14.491Z"
   },
   {
    "duration": 230,
    "start_time": "2024-09-21T08:36:14.852Z"
   },
   {
    "duration": 5,
    "start_time": "2024-09-21T08:36:15.084Z"
   },
   {
    "duration": 141,
    "start_time": "2024-09-21T08:36:15.091Z"
   },
   {
    "duration": 31,
    "start_time": "2024-09-21T08:36:15.234Z"
   },
   {
    "duration": 73,
    "start_time": "2024-09-21T08:36:15.267Z"
   },
   {
    "duration": 63,
    "start_time": "2024-09-21T08:36:15.342Z"
   },
   {
    "duration": 43,
    "start_time": "2024-09-21T08:36:15.407Z"
   },
   {
    "duration": 30,
    "start_time": "2024-09-21T08:36:15.453Z"
   },
   {
    "duration": 25,
    "start_time": "2024-09-21T08:36:15.485Z"
   },
   {
    "duration": 19,
    "start_time": "2024-09-21T08:36:15.512Z"
   },
   {
    "duration": 11,
    "start_time": "2024-09-21T08:36:15.533Z"
   },
   {
    "duration": 9,
    "start_time": "2024-09-21T08:36:15.545Z"
   },
   {
    "duration": 10,
    "start_time": "2024-09-21T08:36:15.555Z"
   },
   {
    "duration": 17,
    "start_time": "2024-09-21T08:36:15.567Z"
   },
   {
    "duration": 30,
    "start_time": "2024-09-21T08:36:15.586Z"
   },
   {
    "duration": 16,
    "start_time": "2024-09-21T08:36:15.618Z"
   },
   {
    "duration": 33,
    "start_time": "2024-09-21T08:36:15.636Z"
   },
   {
    "duration": 33,
    "start_time": "2024-09-21T08:36:15.671Z"
   },
   {
    "duration": 11,
    "start_time": "2024-09-21T08:36:15.707Z"
   },
   {
    "duration": 657,
    "start_time": "2024-09-21T08:36:15.720Z"
   },
   {
    "duration": 1286,
    "start_time": "2024-09-21T08:36:16.379Z"
   },
   {
    "duration": 7,
    "start_time": "2024-09-21T08:36:17.669Z"
   },
   {
    "duration": 11,
    "start_time": "2024-09-21T08:36:17.678Z"
   },
   {
    "duration": 7,
    "start_time": "2024-09-21T08:36:17.691Z"
   },
   {
    "duration": 25,
    "start_time": "2024-09-21T08:36:17.700Z"
   },
   {
    "duration": 4,
    "start_time": "2024-09-21T08:36:17.726Z"
   },
   {
    "duration": 2444,
    "start_time": "2024-09-21T08:36:17.732Z"
   },
   {
    "duration": 17,
    "start_time": "2024-09-21T08:36:20.178Z"
   },
   {
    "duration": 15,
    "start_time": "2024-09-21T08:36:20.205Z"
   },
   {
    "duration": 10,
    "start_time": "2024-09-21T08:36:20.222Z"
   },
   {
    "duration": 22,
    "start_time": "2024-09-21T08:36:20.234Z"
   },
   {
    "duration": 10803,
    "start_time": "2024-09-21T08:36:20.258Z"
   },
   {
    "duration": 627248,
    "start_time": "2024-09-21T08:36:31.063Z"
   },
   {
    "duration": 4,
    "start_time": "2024-09-21T08:46:58.313Z"
   },
   {
    "duration": 12,
    "start_time": "2024-09-21T08:46:58.318Z"
   },
   {
    "duration": 12,
    "start_time": "2024-09-21T08:46:58.332Z"
   },
   {
    "duration": 320,
    "start_time": "2024-09-21T08:46:58.346Z"
   },
   {
    "duration": 282,
    "start_time": "2024-09-21T09:11:22.586Z"
   },
   {
    "duration": 620376,
    "start_time": "2024-09-21T09:11:30.678Z"
   },
   {
    "duration": 310,
    "start_time": "2024-09-21T09:21:51.057Z"
   },
   {
    "duration": 482,
    "start_time": "2024-09-21T09:24:47.858Z"
   },
   {
    "duration": 10,
    "start_time": "2024-09-21T09:40:18.963Z"
   },
   {
    "duration": 7,
    "start_time": "2024-09-21T09:43:36.793Z"
   },
   {
    "duration": 10,
    "start_time": "2024-09-21T09:44:01.017Z"
   },
   {
    "duration": 8,
    "start_time": "2024-09-21T09:48:36.984Z"
   },
   {
    "duration": 27,
    "start_time": "2024-09-21T09:48:57.564Z"
   },
   {
    "duration": 166,
    "start_time": "2024-09-21T09:56:18.016Z"
   },
   {
    "duration": 450,
    "start_time": "2024-09-21T09:56:37.701Z"
   },
   {
    "duration": 22,
    "start_time": "2024-09-21T09:57:58.386Z"
   },
   {
    "duration": 22,
    "start_time": "2024-09-21T10:08:14.044Z"
   },
   {
    "duration": 18,
    "start_time": "2024-09-21T10:08:22.440Z"
   },
   {
    "duration": 16,
    "start_time": "2024-09-21T10:08:30.668Z"
   },
   {
    "duration": 3,
    "start_time": "2024-09-21T10:09:43.000Z"
   },
   {
    "duration": 35,
    "start_time": "2024-09-21T10:10:22.604Z"
   },
   {
    "duration": 17,
    "start_time": "2024-09-21T10:10:58.194Z"
   },
   {
    "duration": 41,
    "start_time": "2024-09-21T10:11:09.411Z"
   },
   {
    "duration": 16,
    "start_time": "2024-09-21T10:11:52.063Z"
   },
   {
    "duration": 1419,
    "start_time": "2024-09-21T10:14:36.893Z"
   },
   {
    "duration": 0,
    "start_time": "2024-09-21T10:14:38.314Z"
   },
   {
    "duration": 6,
    "start_time": "2024-09-21T10:15:03.945Z"
   },
   {
    "duration": 10,
    "start_time": "2024-09-21T10:15:05.783Z"
   },
   {
    "duration": 89,
    "start_time": "2024-09-21T10:16:11.487Z"
   },
   {
    "duration": 541,
    "start_time": "2024-09-21T10:16:21.702Z"
   },
   {
    "duration": 6,
    "start_time": "2024-09-21T10:16:34.135Z"
   },
   {
    "duration": 9,
    "start_time": "2024-09-21T10:16:35.721Z"
   },
   {
    "duration": 7,
    "start_time": "2024-09-21T10:17:00.437Z"
   },
   {
    "duration": 13,
    "start_time": "2024-09-21T10:17:01.170Z"
   },
   {
    "duration": 18,
    "start_time": "2024-09-21T10:17:02.513Z"
   },
   {
    "duration": 241,
    "start_time": "2024-09-21T10:20:26.104Z"
   },
   {
    "duration": 256,
    "start_time": "2024-09-21T10:20:50.788Z"
   },
   {
    "duration": 12,
    "start_time": "2024-09-21T10:21:43.763Z"
   },
   {
    "duration": 341,
    "start_time": "2024-09-21T10:21:53.628Z"
   },
   {
    "duration": 341,
    "start_time": "2024-09-21T10:22:34.029Z"
   },
   {
    "duration": 34,
    "start_time": "2024-09-21T10:27:20.716Z"
   },
   {
    "duration": 20,
    "start_time": "2024-09-21T10:27:42.571Z"
   },
   {
    "duration": 24,
    "start_time": "2024-09-21T10:28:12.120Z"
   },
   {
    "duration": 16,
    "start_time": "2024-09-21T10:29:17.730Z"
   },
   {
    "duration": 1797,
    "start_time": "2024-09-21T10:29:39.400Z"
   },
   {
    "duration": 18,
    "start_time": "2024-09-21T10:36:04.972Z"
   },
   {
    "duration": 15,
    "start_time": "2024-09-21T10:36:19.659Z"
   },
   {
    "duration": 6,
    "start_time": "2024-09-21T10:39:44.944Z"
   },
   {
    "duration": 13,
    "start_time": "2024-09-21T10:40:04.078Z"
   },
   {
    "duration": 22,
    "start_time": "2024-09-21T10:43:42.379Z"
   },
   {
    "duration": 224,
    "start_time": "2024-09-21T10:44:29.429Z"
   },
   {
    "duration": 1036,
    "start_time": "2024-09-21T10:44:54.128Z"
   },
   {
    "duration": 320,
    "start_time": "2024-09-21T10:49:28.525Z"
   },
   {
    "duration": 322,
    "start_time": "2024-09-21T10:49:47.351Z"
   },
   {
    "duration": 353,
    "start_time": "2024-09-21T10:50:05.109Z"
   },
   {
    "duration": 368,
    "start_time": "2024-09-21T10:50:23.094Z"
   },
   {
    "duration": 352,
    "start_time": "2024-09-21T10:50:37.284Z"
   },
   {
    "duration": 351,
    "start_time": "2024-09-21T10:50:48.500Z"
   },
   {
    "duration": 286,
    "start_time": "2024-09-21T10:53:51.086Z"
   },
   {
    "duration": 3017,
    "start_time": "2024-09-21T10:54:47.684Z"
   },
   {
    "duration": 3036,
    "start_time": "2024-09-21T10:55:22.471Z"
   },
   {
    "duration": 2979,
    "start_time": "2024-09-21T10:57:40.339Z"
   },
   {
    "duration": 12,
    "start_time": "2024-09-21T11:01:02.822Z"
   },
   {
    "duration": 522,
    "start_time": "2024-09-21T11:01:56.823Z"
   },
   {
    "duration": 523,
    "start_time": "2024-09-21T11:02:43.514Z"
   },
   {
    "duration": 6549,
    "start_time": "2024-09-21T11:03:23.240Z"
   },
   {
    "duration": 683,
    "start_time": "2024-09-21T11:03:31.931Z"
   },
   {
    "duration": 267,
    "start_time": "2024-09-21T11:03:59.824Z"
   },
   {
    "duration": 532,
    "start_time": "2024-09-21T11:04:52.216Z"
   },
   {
    "duration": 870,
    "start_time": "2024-09-21T11:05:17.753Z"
   },
   {
    "duration": 13,
    "start_time": "2024-09-21T11:05:32.984Z"
   },
   {
    "duration": 15,
    "start_time": "2024-09-21T11:05:47.141Z"
   },
   {
    "duration": 330,
    "start_time": "2024-09-21T11:06:14.336Z"
   },
   {
    "duration": 296,
    "start_time": "2024-09-21T11:21:05.433Z"
   },
   {
    "duration": 69,
    "start_time": "2024-09-21T11:21:37.215Z"
   },
   {
    "duration": 54,
    "start_time": "2024-09-21T11:22:41.428Z"
   },
   {
    "duration": 330,
    "start_time": "2024-09-21T11:22:58.291Z"
   },
   {
    "duration": 359,
    "start_time": "2024-09-21T11:23:05.691Z"
   },
   {
    "duration": 351,
    "start_time": "2024-09-21T11:23:14.215Z"
   },
   {
    "duration": 348,
    "start_time": "2024-09-21T11:24:11.602Z"
   },
   {
    "duration": 362,
    "start_time": "2024-09-21T11:24:44.910Z"
   },
   {
    "duration": 360,
    "start_time": "2024-09-21T11:25:31.054Z"
   },
   {
    "duration": 33243,
    "start_time": "2024-09-22T16:37:25.208Z"
   },
   {
    "duration": 10899,
    "start_time": "2024-09-22T16:37:58.454Z"
   },
   {
    "duration": 2261,
    "start_time": "2024-09-22T16:38:09.355Z"
   },
   {
    "duration": 10365,
    "start_time": "2024-09-22T16:38:14.996Z"
   },
   {
    "duration": 5899,
    "start_time": "2024-09-22T16:38:25.364Z"
   },
   {
    "duration": 2056,
    "start_time": "2024-09-22T16:38:31.265Z"
   },
   {
    "duration": 140,
    "start_time": "2024-09-22T16:38:33.323Z"
   },
   {
    "duration": 23,
    "start_time": "2024-09-22T16:38:33.466Z"
   },
   {
    "duration": 27,
    "start_time": "2024-09-22T16:38:33.491Z"
   },
   {
    "duration": 22,
    "start_time": "2024-09-22T16:38:33.520Z"
   },
   {
    "duration": 8,
    "start_time": "2024-09-22T16:38:33.544Z"
   },
   {
    "duration": 12,
    "start_time": "2024-09-22T16:38:33.553Z"
   },
   {
    "duration": 9,
    "start_time": "2024-09-22T16:38:33.567Z"
   },
   {
    "duration": 56,
    "start_time": "2024-09-22T16:38:33.578Z"
   },
   {
    "duration": 105,
    "start_time": "2024-09-22T16:38:33.636Z"
   },
   {
    "duration": 5,
    "start_time": "2024-09-22T16:38:33.742Z"
   },
   {
    "duration": 4,
    "start_time": "2024-09-22T16:38:33.750Z"
   },
   {
    "duration": 8,
    "start_time": "2024-09-22T16:38:33.756Z"
   },
   {
    "duration": 6,
    "start_time": "2024-09-22T16:38:33.766Z"
   },
   {
    "duration": 20,
    "start_time": "2024-09-22T16:38:33.774Z"
   },
   {
    "duration": 8,
    "start_time": "2024-09-22T16:38:33.795Z"
   },
   {
    "duration": 8,
    "start_time": "2024-09-22T16:38:33.804Z"
   },
   {
    "duration": 14,
    "start_time": "2024-09-22T16:38:33.814Z"
   },
   {
    "duration": 12,
    "start_time": "2024-09-22T16:38:33.830Z"
   },
   {
    "duration": 7,
    "start_time": "2024-09-22T16:38:33.844Z"
   },
   {
    "duration": 23,
    "start_time": "2024-09-22T16:38:33.853Z"
   },
   {
    "duration": 17,
    "start_time": "2024-09-22T16:38:33.878Z"
   },
   {
    "duration": 10,
    "start_time": "2024-09-22T16:38:33.896Z"
   },
   {
    "duration": 7,
    "start_time": "2024-09-22T16:38:33.908Z"
   },
   {
    "duration": 11,
    "start_time": "2024-09-22T16:38:33.917Z"
   },
   {
    "duration": 63,
    "start_time": "2024-09-22T16:38:33.930Z"
   },
   {
    "duration": 15,
    "start_time": "2024-09-22T16:38:33.995Z"
   },
   {
    "duration": 25,
    "start_time": "2024-09-22T16:38:34.012Z"
   },
   {
    "duration": 337,
    "start_time": "2024-09-22T16:38:34.039Z"
   },
   {
    "duration": 273,
    "start_time": "2024-09-22T16:38:34.378Z"
   },
   {
    "duration": 5,
    "start_time": "2024-09-22T16:38:34.653Z"
   },
   {
    "duration": 311,
    "start_time": "2024-09-22T16:38:34.659Z"
   },
   {
    "duration": 6,
    "start_time": "2024-09-22T16:38:34.976Z"
   },
   {
    "duration": 312,
    "start_time": "2024-09-22T16:38:34.983Z"
   },
   {
    "duration": 346,
    "start_time": "2024-09-22T16:38:35.297Z"
   },
   {
    "duration": 4,
    "start_time": "2024-09-22T16:38:35.644Z"
   },
   {
    "duration": 453,
    "start_time": "2024-09-22T16:38:35.649Z"
   },
   {
    "duration": 226,
    "start_time": "2024-09-22T16:38:36.104Z"
   },
   {
    "duration": 477,
    "start_time": "2024-09-22T16:38:36.336Z"
   },
   {
    "duration": 318,
    "start_time": "2024-09-22T16:38:36.814Z"
   },
   {
    "duration": 252,
    "start_time": "2024-09-22T16:38:37.134Z"
   },
   {
    "duration": 319,
    "start_time": "2024-09-22T16:38:37.388Z"
   },
   {
    "duration": 235,
    "start_time": "2024-09-22T16:38:37.709Z"
   },
   {
    "duration": 6,
    "start_time": "2024-09-22T16:38:37.946Z"
   },
   {
    "duration": 358,
    "start_time": "2024-09-22T16:38:37.953Z"
   },
   {
    "duration": 7,
    "start_time": "2024-09-22T16:38:38.313Z"
   },
   {
    "duration": 343,
    "start_time": "2024-09-22T16:38:38.322Z"
   },
   {
    "duration": 267,
    "start_time": "2024-09-22T16:38:38.668Z"
   },
   {
    "duration": 331,
    "start_time": "2024-09-22T16:38:38.936Z"
   },
   {
    "duration": 260,
    "start_time": "2024-09-22T16:38:39.269Z"
   },
   {
    "duration": 356,
    "start_time": "2024-09-22T16:38:39.531Z"
   },
   {
    "duration": 260,
    "start_time": "2024-09-22T16:38:39.889Z"
   },
   {
    "duration": 334,
    "start_time": "2024-09-22T16:38:40.151Z"
   },
   {
    "duration": 250,
    "start_time": "2024-09-22T16:38:40.487Z"
   },
   {
    "duration": 9,
    "start_time": "2024-09-22T16:38:40.739Z"
   },
   {
    "duration": 19,
    "start_time": "2024-09-22T16:38:40.749Z"
   },
   {
    "duration": 8,
    "start_time": "2024-09-22T16:38:40.776Z"
   },
   {
    "duration": 4,
    "start_time": "2024-09-22T16:38:40.785Z"
   },
   {
    "duration": 9,
    "start_time": "2024-09-22T16:38:40.791Z"
   },
   {
    "duration": 336,
    "start_time": "2024-09-22T16:38:40.802Z"
   },
   {
    "duration": 281,
    "start_time": "2024-09-22T16:38:41.140Z"
   },
   {
    "duration": 292,
    "start_time": "2024-09-22T16:38:41.423Z"
   },
   {
    "duration": 462,
    "start_time": "2024-09-22T16:38:41.717Z"
   },
   {
    "duration": 263,
    "start_time": "2024-09-22T16:38:42.181Z"
   },
   {
    "duration": 300,
    "start_time": "2024-09-22T16:38:42.446Z"
   },
   {
    "duration": 343,
    "start_time": "2024-09-22T16:38:42.748Z"
   },
   {
    "duration": 235,
    "start_time": "2024-09-22T16:38:43.093Z"
   },
   {
    "duration": 8,
    "start_time": "2024-09-22T16:38:43.329Z"
   },
   {
    "duration": 9,
    "start_time": "2024-09-22T16:38:43.338Z"
   },
   {
    "duration": 3,
    "start_time": "2024-09-22T16:38:43.348Z"
   },
   {
    "duration": 25,
    "start_time": "2024-09-22T16:38:43.353Z"
   },
   {
    "duration": 14,
    "start_time": "2024-09-22T16:38:43.380Z"
   },
   {
    "duration": 20,
    "start_time": "2024-09-22T16:38:43.396Z"
   },
   {
    "duration": 7,
    "start_time": "2024-09-22T16:38:43.417Z"
   },
   {
    "duration": 5,
    "start_time": "2024-09-22T16:38:43.425Z"
   },
   {
    "duration": 7,
    "start_time": "2024-09-22T16:38:43.431Z"
   },
   {
    "duration": 9,
    "start_time": "2024-09-22T16:38:43.440Z"
   },
   {
    "duration": 26,
    "start_time": "2024-09-22T16:38:43.450Z"
   },
   {
    "duration": 8,
    "start_time": "2024-09-22T16:38:43.478Z"
   },
   {
    "duration": 7,
    "start_time": "2024-09-22T16:38:43.488Z"
   },
   {
    "duration": 14,
    "start_time": "2024-09-22T16:38:43.496Z"
   },
   {
    "duration": 16,
    "start_time": "2024-09-22T16:38:43.512Z"
   },
   {
    "duration": 4,
    "start_time": "2024-09-22T16:38:43.529Z"
   },
   {
    "duration": 48,
    "start_time": "2024-09-22T16:38:43.535Z"
   },
   {
    "duration": 8,
    "start_time": "2024-09-22T16:38:43.585Z"
   },
   {
    "duration": 662,
    "start_time": "2024-09-22T16:38:43.594Z"
   },
   {
    "duration": 1315,
    "start_time": "2024-09-22T16:38:44.257Z"
   },
   {
    "duration": 5,
    "start_time": "2024-09-22T16:38:45.574Z"
   },
   {
    "duration": 6,
    "start_time": "2024-09-22T16:38:45.580Z"
   },
   {
    "duration": 141,
    "start_time": "2024-09-22T16:38:45.588Z"
   },
   {
    "duration": 14,
    "start_time": "2024-09-22T16:38:45.731Z"
   },
   {
    "duration": 7,
    "start_time": "2024-09-22T16:38:45.747Z"
   },
   {
    "duration": 2524,
    "start_time": "2024-09-22T16:38:45.756Z"
   },
   {
    "duration": 16,
    "start_time": "2024-09-22T16:38:48.282Z"
   },
   {
    "duration": 16,
    "start_time": "2024-09-22T16:38:48.300Z"
   },
   {
    "duration": 12,
    "start_time": "2024-09-22T16:38:48.318Z"
   },
   {
    "duration": 57,
    "start_time": "2024-09-22T16:38:48.332Z"
   },
   {
    "duration": 10480,
    "start_time": "2024-09-22T16:38:48.391Z"
   },
   {
    "duration": 640680,
    "start_time": "2024-09-22T16:38:58.876Z"
   },
   {
    "duration": 4,
    "start_time": "2024-09-22T16:49:39.557Z"
   },
   {
    "duration": 16,
    "start_time": "2024-09-22T16:49:39.563Z"
   },
   {
    "duration": 8,
    "start_time": "2024-09-22T16:49:39.581Z"
   },
   {
    "duration": 332,
    "start_time": "2024-09-22T16:49:39.590Z"
   },
   {
    "duration": 7,
    "start_time": "2024-09-22T16:49:39.924Z"
   },
   {
    "duration": 10,
    "start_time": "2024-09-22T16:49:39.933Z"
   },
   {
    "duration": 33,
    "start_time": "2024-09-22T16:49:39.945Z"
   },
   {
    "duration": 12,
    "start_time": "2024-09-22T16:49:39.979Z"
   },
   {
    "duration": 315,
    "start_time": "2024-09-22T16:49:39.992Z"
   },
   {
    "duration": 367,
    "start_time": "2024-09-22T16:49:40.309Z"
   },
   {
    "duration": 375,
    "start_time": "2024-09-22T16:49:40.679Z"
   },
   {
    "duration": 521,
    "start_time": "2024-09-22T16:49:41.056Z"
   },
   {
    "duration": 360,
    "start_time": "2024-09-22T16:49:41.579Z"
   },
   {
    "duration": 314,
    "start_time": "2024-09-22T16:54:16.195Z"
   },
   {
    "duration": 419,
    "start_time": "2024-09-22T16:57:42.404Z"
   },
   {
    "duration": 344,
    "start_time": "2024-09-22T16:58:20.862Z"
   },
   {
    "duration": 350,
    "start_time": "2024-09-22T17:01:06.559Z"
   },
   {
    "duration": 298,
    "start_time": "2024-09-22T17:01:27.814Z"
   },
   {
    "duration": 10699,
    "start_time": "2024-09-22T17:56:49.655Z"
   },
   {
    "duration": 5553,
    "start_time": "2024-09-22T17:57:00.356Z"
   },
   {
    "duration": 2637,
    "start_time": "2024-09-22T17:57:05.911Z"
   },
   {
    "duration": 88,
    "start_time": "2024-09-22T17:57:08.550Z"
   },
   {
    "duration": 22,
    "start_time": "2024-09-22T17:57:08.641Z"
   },
   {
    "duration": 9,
    "start_time": "2024-09-22T17:57:08.664Z"
   },
   {
    "duration": 7,
    "start_time": "2024-09-22T17:57:08.675Z"
   },
   {
    "duration": 7,
    "start_time": "2024-09-22T17:57:08.684Z"
   },
   {
    "duration": 13,
    "start_time": "2024-09-22T17:57:08.693Z"
   },
   {
    "duration": 4,
    "start_time": "2024-09-22T17:57:08.707Z"
   },
   {
    "duration": 13,
    "start_time": "2024-09-22T17:57:08.712Z"
   },
   {
    "duration": 5,
    "start_time": "2024-09-22T17:57:08.727Z"
   },
   {
    "duration": 42,
    "start_time": "2024-09-22T17:57:08.734Z"
   },
   {
    "duration": 5,
    "start_time": "2024-09-22T17:57:08.779Z"
   },
   {
    "duration": 8,
    "start_time": "2024-09-22T17:57:08.786Z"
   },
   {
    "duration": 7,
    "start_time": "2024-09-22T17:57:08.796Z"
   },
   {
    "duration": 22,
    "start_time": "2024-09-22T17:57:08.804Z"
   },
   {
    "duration": 6,
    "start_time": "2024-09-22T17:57:08.828Z"
   },
   {
    "duration": 7,
    "start_time": "2024-09-22T17:57:08.836Z"
   },
   {
    "duration": 6,
    "start_time": "2024-09-22T17:57:08.877Z"
   },
   {
    "duration": 11,
    "start_time": "2024-09-22T17:57:08.885Z"
   },
   {
    "duration": 4,
    "start_time": "2024-09-22T17:57:08.898Z"
   },
   {
    "duration": 5,
    "start_time": "2024-09-22T17:57:08.903Z"
   },
   {
    "duration": 10,
    "start_time": "2024-09-22T17:57:08.909Z"
   },
   {
    "duration": 6,
    "start_time": "2024-09-22T17:57:08.920Z"
   },
   {
    "duration": 6,
    "start_time": "2024-09-22T17:57:08.928Z"
   },
   {
    "duration": 11,
    "start_time": "2024-09-22T17:57:08.977Z"
   },
   {
    "duration": 20,
    "start_time": "2024-09-22T17:57:08.989Z"
   },
   {
    "duration": 6,
    "start_time": "2024-09-22T17:57:09.010Z"
   },
   {
    "duration": 13,
    "start_time": "2024-09-22T17:57:09.017Z"
   },
   {
    "duration": 355,
    "start_time": "2024-09-22T17:57:09.031Z"
   },
   {
    "duration": 262,
    "start_time": "2024-09-22T17:57:09.388Z"
   },
   {
    "duration": 6,
    "start_time": "2024-09-22T17:57:09.652Z"
   },
   {
    "duration": 295,
    "start_time": "2024-09-22T17:57:09.660Z"
   },
   {
    "duration": 5,
    "start_time": "2024-09-22T17:57:09.957Z"
   },
   {
    "duration": 227,
    "start_time": "2024-09-22T17:57:09.976Z"
   },
   {
    "duration": 443,
    "start_time": "2024-09-22T17:57:10.204Z"
   },
   {
    "duration": 5,
    "start_time": "2024-09-22T17:57:10.649Z"
   },
   {
    "duration": 364,
    "start_time": "2024-09-22T17:57:10.657Z"
   },
   {
    "duration": 225,
    "start_time": "2024-09-22T17:57:11.023Z"
   },
   {
    "duration": 452,
    "start_time": "2024-09-22T17:57:11.279Z"
   },
   {
    "duration": 349,
    "start_time": "2024-09-22T17:57:11.733Z"
   },
   {
    "duration": 239,
    "start_time": "2024-09-22T17:57:12.084Z"
   },
   {
    "duration": 366,
    "start_time": "2024-09-22T17:57:12.325Z"
   },
   {
    "duration": 257,
    "start_time": "2024-09-22T17:57:12.692Z"
   },
   {
    "duration": 6,
    "start_time": "2024-09-22T17:57:12.952Z"
   },
   {
    "duration": 349,
    "start_time": "2024-09-22T17:57:12.960Z"
   },
   {
    "duration": 8,
    "start_time": "2024-09-22T17:57:13.310Z"
   },
   {
    "duration": 356,
    "start_time": "2024-09-22T17:57:13.320Z"
   },
   {
    "duration": 264,
    "start_time": "2024-09-22T17:57:13.678Z"
   },
   {
    "duration": 332,
    "start_time": "2024-09-22T17:57:13.943Z"
   },
   {
    "duration": 247,
    "start_time": "2024-09-22T17:57:14.277Z"
   },
   {
    "duration": 370,
    "start_time": "2024-09-22T17:57:14.526Z"
   },
   {
    "duration": 262,
    "start_time": "2024-09-22T17:57:14.898Z"
   },
   {
    "duration": 337,
    "start_time": "2024-09-22T17:57:15.162Z"
   },
   {
    "duration": 236,
    "start_time": "2024-09-22T17:57:15.502Z"
   },
   {
    "duration": 10,
    "start_time": "2024-09-22T17:57:15.740Z"
   },
   {
    "duration": 29,
    "start_time": "2024-09-22T17:57:15.752Z"
   },
   {
    "duration": 9,
    "start_time": "2024-09-22T17:57:15.783Z"
   },
   {
    "duration": 5,
    "start_time": "2024-09-22T17:57:15.794Z"
   },
   {
    "duration": 10,
    "start_time": "2024-09-22T17:57:15.801Z"
   },
   {
    "duration": 401,
    "start_time": "2024-09-22T17:57:15.813Z"
   },
   {
    "duration": 261,
    "start_time": "2024-09-22T17:57:16.216Z"
   },
   {
    "duration": 301,
    "start_time": "2024-09-22T17:57:16.479Z"
   },
   {
    "duration": 487,
    "start_time": "2024-09-22T17:57:16.781Z"
   },
   {
    "duration": 274,
    "start_time": "2024-09-22T17:57:17.269Z"
   },
   {
    "duration": 298,
    "start_time": "2024-09-22T17:57:17.544Z"
   },
   {
    "duration": 363,
    "start_time": "2024-09-22T17:57:17.844Z"
   },
   {
    "duration": 242,
    "start_time": "2024-09-22T17:57:18.210Z"
   },
   {
    "duration": 28,
    "start_time": "2024-09-22T17:57:18.454Z"
   },
   {
    "duration": 15,
    "start_time": "2024-09-22T17:57:18.484Z"
   },
   {
    "duration": 4,
    "start_time": "2024-09-22T17:57:18.500Z"
   },
   {
    "duration": 5,
    "start_time": "2024-09-22T17:57:18.505Z"
   },
   {
    "duration": 12,
    "start_time": "2024-09-22T17:57:18.512Z"
   },
   {
    "duration": 5,
    "start_time": "2024-09-22T17:57:18.525Z"
   },
   {
    "duration": 5,
    "start_time": "2024-09-22T17:57:18.531Z"
   },
   {
    "duration": 42,
    "start_time": "2024-09-22T17:57:18.537Z"
   },
   {
    "duration": 9,
    "start_time": "2024-09-22T17:57:18.580Z"
   },
   {
    "duration": 12,
    "start_time": "2024-09-22T17:57:18.590Z"
   },
   {
    "duration": 12,
    "start_time": "2024-09-22T17:57:18.605Z"
   },
   {
    "duration": 8,
    "start_time": "2024-09-22T17:57:18.620Z"
   },
   {
    "duration": 7,
    "start_time": "2024-09-22T17:57:18.630Z"
   },
   {
    "duration": 42,
    "start_time": "2024-09-22T17:57:18.639Z"
   },
   {
    "duration": 17,
    "start_time": "2024-09-22T17:57:18.682Z"
   },
   {
    "duration": 5,
    "start_time": "2024-09-22T17:57:18.701Z"
   },
   {
    "duration": 16,
    "start_time": "2024-09-22T17:57:18.708Z"
   },
   {
    "duration": 5,
    "start_time": "2024-09-22T17:57:18.726Z"
   },
   {
    "duration": 599,
    "start_time": "2024-09-22T17:57:18.732Z"
   },
   {
    "duration": 1250,
    "start_time": "2024-09-22T17:57:19.334Z"
   },
   {
    "duration": 8,
    "start_time": "2024-09-22T17:57:20.586Z"
   },
   {
    "duration": 9,
    "start_time": "2024-09-22T17:57:20.596Z"
   },
   {
    "duration": 6,
    "start_time": "2024-09-22T17:57:20.606Z"
   },
   {
    "duration": 24,
    "start_time": "2024-09-22T17:57:20.614Z"
   },
   {
    "duration": 15,
    "start_time": "2024-09-22T17:57:20.640Z"
   },
   {
    "duration": 2539,
    "start_time": "2024-09-22T17:57:20.657Z"
   },
   {
    "duration": 17,
    "start_time": "2024-09-22T17:57:23.198Z"
   },
   {
    "duration": 49,
    "start_time": "2024-09-22T17:57:23.217Z"
   },
   {
    "duration": 12,
    "start_time": "2024-09-22T17:57:23.268Z"
   },
   {
    "duration": 22,
    "start_time": "2024-09-22T17:57:23.282Z"
   },
   {
    "duration": 10442,
    "start_time": "2024-09-22T17:57:23.306Z"
   },
   {
    "duration": 626089,
    "start_time": "2024-09-22T17:57:33.749Z"
   },
   {
    "duration": 3,
    "start_time": "2024-09-22T18:07:59.840Z"
   },
   {
    "duration": 51,
    "start_time": "2024-09-22T18:07:59.845Z"
   },
   {
    "duration": 38,
    "start_time": "2024-09-22T18:07:59.898Z"
   },
   {
    "duration": 384,
    "start_time": "2024-09-22T18:07:59.938Z"
   },
   {
    "duration": 9,
    "start_time": "2024-09-22T18:08:00.323Z"
   },
   {
    "duration": 37,
    "start_time": "2024-09-22T18:08:00.333Z"
   },
   {
    "duration": 14,
    "start_time": "2024-09-22T18:08:00.372Z"
   },
   {
    "duration": 13,
    "start_time": "2024-09-22T18:08:00.387Z"
   },
   {
    "duration": 307,
    "start_time": "2024-09-22T18:08:00.401Z"
   },
   {
    "duration": 335,
    "start_time": "2024-09-22T18:08:00.710Z"
   },
   {
    "duration": 382,
    "start_time": "2024-09-22T18:08:01.046Z"
   },
   {
    "duration": 575,
    "start_time": "2024-09-22T18:08:01.429Z"
   },
   {
    "duration": 355,
    "start_time": "2024-09-22T18:08:02.005Z"
   },
   {
    "duration": 13036,
    "start_time": "2024-09-23T06:58:35.322Z"
   },
   {
    "duration": 12737,
    "start_time": "2024-09-23T06:58:48.360Z"
   },
   {
    "duration": 603,
    "start_time": "2024-09-23T06:59:01.099Z"
   },
   {
    "duration": 0,
    "start_time": "2024-09-23T06:59:01.708Z"
   },
   {
    "duration": 0,
    "start_time": "2024-09-23T06:59:01.715Z"
   },
   {
    "duration": 0,
    "start_time": "2024-09-23T06:59:01.716Z"
   },
   {
    "duration": 0,
    "start_time": "2024-09-23T06:59:01.717Z"
   },
   {
    "duration": 0,
    "start_time": "2024-09-23T06:59:01.718Z"
   },
   {
    "duration": 0,
    "start_time": "2024-09-23T06:59:01.719Z"
   },
   {
    "duration": 0,
    "start_time": "2024-09-23T06:59:01.720Z"
   },
   {
    "duration": 0,
    "start_time": "2024-09-23T06:59:01.721Z"
   },
   {
    "duration": 0,
    "start_time": "2024-09-23T06:59:01.722Z"
   },
   {
    "duration": 0,
    "start_time": "2024-09-23T06:59:01.723Z"
   },
   {
    "duration": 0,
    "start_time": "2024-09-23T06:59:01.724Z"
   },
   {
    "duration": 0,
    "start_time": "2024-09-23T06:59:01.725Z"
   },
   {
    "duration": 0,
    "start_time": "2024-09-23T06:59:01.726Z"
   },
   {
    "duration": 0,
    "start_time": "2024-09-23T06:59:01.727Z"
   },
   {
    "duration": 0,
    "start_time": "2024-09-23T06:59:01.728Z"
   },
   {
    "duration": 1,
    "start_time": "2024-09-23T06:59:01.728Z"
   },
   {
    "duration": 0,
    "start_time": "2024-09-23T06:59:01.729Z"
   },
   {
    "duration": 0,
    "start_time": "2024-09-23T06:59:01.731Z"
   },
   {
    "duration": 0,
    "start_time": "2024-09-23T06:59:01.732Z"
   },
   {
    "duration": 0,
    "start_time": "2024-09-23T06:59:01.733Z"
   },
   {
    "duration": 1,
    "start_time": "2024-09-23T06:59:01.733Z"
   },
   {
    "duration": 0,
    "start_time": "2024-09-23T06:59:01.734Z"
   },
   {
    "duration": 0,
    "start_time": "2024-09-23T06:59:01.736Z"
   },
   {
    "duration": 0,
    "start_time": "2024-09-23T06:59:01.736Z"
   },
   {
    "duration": 0,
    "start_time": "2024-09-23T06:59:01.737Z"
   },
   {
    "duration": 0,
    "start_time": "2024-09-23T06:59:01.738Z"
   },
   {
    "duration": 0,
    "start_time": "2024-09-23T06:59:01.739Z"
   },
   {
    "duration": 0,
    "start_time": "2024-09-23T06:59:01.740Z"
   },
   {
    "duration": 0,
    "start_time": "2024-09-23T06:59:01.741Z"
   },
   {
    "duration": 0,
    "start_time": "2024-09-23T06:59:01.742Z"
   },
   {
    "duration": 0,
    "start_time": "2024-09-23T06:59:01.743Z"
   },
   {
    "duration": 0,
    "start_time": "2024-09-23T06:59:01.744Z"
   },
   {
    "duration": 0,
    "start_time": "2024-09-23T06:59:01.745Z"
   },
   {
    "duration": 0,
    "start_time": "2024-09-23T06:59:01.746Z"
   },
   {
    "duration": 0,
    "start_time": "2024-09-23T06:59:01.747Z"
   },
   {
    "duration": 0,
    "start_time": "2024-09-23T06:59:01.748Z"
   },
   {
    "duration": 0,
    "start_time": "2024-09-23T06:59:01.749Z"
   },
   {
    "duration": 0,
    "start_time": "2024-09-23T06:59:01.750Z"
   },
   {
    "duration": 0,
    "start_time": "2024-09-23T06:59:01.751Z"
   },
   {
    "duration": 0,
    "start_time": "2024-09-23T06:59:01.752Z"
   },
   {
    "duration": 0,
    "start_time": "2024-09-23T06:59:01.752Z"
   },
   {
    "duration": 0,
    "start_time": "2024-09-23T06:59:01.817Z"
   },
   {
    "duration": 0,
    "start_time": "2024-09-23T06:59:01.819Z"
   },
   {
    "duration": 0,
    "start_time": "2024-09-23T06:59:01.820Z"
   },
   {
    "duration": 0,
    "start_time": "2024-09-23T06:59:01.821Z"
   },
   {
    "duration": 0,
    "start_time": "2024-09-23T06:59:01.822Z"
   },
   {
    "duration": 0,
    "start_time": "2024-09-23T06:59:01.823Z"
   },
   {
    "duration": 0,
    "start_time": "2024-09-23T06:59:01.824Z"
   },
   {
    "duration": 0,
    "start_time": "2024-09-23T06:59:01.825Z"
   },
   {
    "duration": 0,
    "start_time": "2024-09-23T06:59:01.826Z"
   },
   {
    "duration": 0,
    "start_time": "2024-09-23T06:59:01.827Z"
   },
   {
    "duration": 0,
    "start_time": "2024-09-23T06:59:01.828Z"
   },
   {
    "duration": 1,
    "start_time": "2024-09-23T06:59:01.829Z"
   },
   {
    "duration": 0,
    "start_time": "2024-09-23T06:59:01.830Z"
   },
   {
    "duration": 0,
    "start_time": "2024-09-23T06:59:01.832Z"
   },
   {
    "duration": 0,
    "start_time": "2024-09-23T06:59:01.832Z"
   },
   {
    "duration": 0,
    "start_time": "2024-09-23T06:59:01.833Z"
   },
   {
    "duration": 0,
    "start_time": "2024-09-23T06:59:01.835Z"
   },
   {
    "duration": 0,
    "start_time": "2024-09-23T06:59:01.836Z"
   },
   {
    "duration": 0,
    "start_time": "2024-09-23T06:59:01.837Z"
   },
   {
    "duration": 0,
    "start_time": "2024-09-23T06:59:01.838Z"
   },
   {
    "duration": 0,
    "start_time": "2024-09-23T06:59:01.839Z"
   },
   {
    "duration": 0,
    "start_time": "2024-09-23T06:59:01.840Z"
   },
   {
    "duration": 0,
    "start_time": "2024-09-23T06:59:01.841Z"
   },
   {
    "duration": 0,
    "start_time": "2024-09-23T06:59:01.842Z"
   },
   {
    "duration": 0,
    "start_time": "2024-09-23T06:59:01.843Z"
   },
   {
    "duration": 0,
    "start_time": "2024-09-23T06:59:01.844Z"
   },
   {
    "duration": 0,
    "start_time": "2024-09-23T06:59:01.845Z"
   },
   {
    "duration": 0,
    "start_time": "2024-09-23T06:59:01.846Z"
   },
   {
    "duration": 0,
    "start_time": "2024-09-23T06:59:01.847Z"
   },
   {
    "duration": 0,
    "start_time": "2024-09-23T06:59:01.848Z"
   },
   {
    "duration": 0,
    "start_time": "2024-09-23T06:59:01.849Z"
   },
   {
    "duration": 0,
    "start_time": "2024-09-23T06:59:01.850Z"
   },
   {
    "duration": 0,
    "start_time": "2024-09-23T06:59:01.851Z"
   },
   {
    "duration": 0,
    "start_time": "2024-09-23T06:59:01.916Z"
   },
   {
    "duration": 0,
    "start_time": "2024-09-23T06:59:01.917Z"
   },
   {
    "duration": 0,
    "start_time": "2024-09-23T06:59:01.918Z"
   },
   {
    "duration": 0,
    "start_time": "2024-09-23T06:59:01.919Z"
   },
   {
    "duration": 0,
    "start_time": "2024-09-23T06:59:01.920Z"
   },
   {
    "duration": 0,
    "start_time": "2024-09-23T06:59:01.921Z"
   },
   {
    "duration": 0,
    "start_time": "2024-09-23T06:59:01.922Z"
   },
   {
    "duration": 0,
    "start_time": "2024-09-23T06:59:01.923Z"
   },
   {
    "duration": 0,
    "start_time": "2024-09-23T06:59:01.924Z"
   },
   {
    "duration": 0,
    "start_time": "2024-09-23T06:59:01.925Z"
   },
   {
    "duration": 0,
    "start_time": "2024-09-23T06:59:01.927Z"
   },
   {
    "duration": 0,
    "start_time": "2024-09-23T06:59:01.927Z"
   },
   {
    "duration": 0,
    "start_time": "2024-09-23T06:59:01.928Z"
   },
   {
    "duration": 0,
    "start_time": "2024-09-23T06:59:01.929Z"
   },
   {
    "duration": 0,
    "start_time": "2024-09-23T06:59:01.930Z"
   },
   {
    "duration": 0,
    "start_time": "2024-09-23T06:59:01.931Z"
   },
   {
    "duration": 0,
    "start_time": "2024-09-23T06:59:01.932Z"
   },
   {
    "duration": 0,
    "start_time": "2024-09-23T06:59:01.933Z"
   },
   {
    "duration": 0,
    "start_time": "2024-09-23T06:59:01.934Z"
   },
   {
    "duration": 0,
    "start_time": "2024-09-23T06:59:01.935Z"
   },
   {
    "duration": 0,
    "start_time": "2024-09-23T06:59:01.936Z"
   },
   {
    "duration": 0,
    "start_time": "2024-09-23T06:59:01.937Z"
   },
   {
    "duration": 0,
    "start_time": "2024-09-23T06:59:01.938Z"
   },
   {
    "duration": 0,
    "start_time": "2024-09-23T06:59:01.939Z"
   },
   {
    "duration": 0,
    "start_time": "2024-09-23T06:59:01.940Z"
   },
   {
    "duration": 0,
    "start_time": "2024-09-23T06:59:01.941Z"
   },
   {
    "duration": 0,
    "start_time": "2024-09-23T06:59:01.942Z"
   },
   {
    "duration": 0,
    "start_time": "2024-09-23T06:59:01.943Z"
   },
   {
    "duration": 0,
    "start_time": "2024-09-23T06:59:01.944Z"
   },
   {
    "duration": 0,
    "start_time": "2024-09-23T06:59:01.944Z"
   },
   {
    "duration": 0,
    "start_time": "2024-09-23T06:59:01.945Z"
   },
   {
    "duration": 0,
    "start_time": "2024-09-23T06:59:01.947Z"
   },
   {
    "duration": 0,
    "start_time": "2024-09-23T06:59:01.947Z"
   },
   {
    "duration": 0,
    "start_time": "2024-09-23T06:59:01.949Z"
   },
   {
    "duration": 0,
    "start_time": "2024-09-23T06:59:01.949Z"
   },
   {
    "duration": 0,
    "start_time": "2024-09-23T06:59:02.015Z"
   },
   {
    "duration": 0,
    "start_time": "2024-09-23T06:59:02.017Z"
   },
   {
    "duration": 2,
    "start_time": "2024-09-23T07:10:13.078Z"
   },
   {
    "duration": 3,
    "start_time": "2024-09-23T07:10:19.813Z"
   },
   {
    "duration": 24829,
    "start_time": "2024-09-23T15:16:44.234Z"
   },
   {
    "duration": 15352,
    "start_time": "2024-09-23T15:17:09.066Z"
   },
   {
    "duration": 669,
    "start_time": "2024-09-23T15:17:24.420Z"
   },
   {
    "duration": 0,
    "start_time": "2024-09-23T15:17:25.099Z"
   },
   {
    "duration": 0,
    "start_time": "2024-09-23T15:17:25.100Z"
   },
   {
    "duration": 0,
    "start_time": "2024-09-23T15:17:25.102Z"
   },
   {
    "duration": 1,
    "start_time": "2024-09-23T15:17:25.103Z"
   },
   {
    "duration": 0,
    "start_time": "2024-09-23T15:17:25.105Z"
   },
   {
    "duration": 0,
    "start_time": "2024-09-23T15:17:25.123Z"
   },
   {
    "duration": 0,
    "start_time": "2024-09-23T15:17:25.124Z"
   },
   {
    "duration": 0,
    "start_time": "2024-09-23T15:17:25.127Z"
   },
   {
    "duration": 0,
    "start_time": "2024-09-23T15:17:25.128Z"
   },
   {
    "duration": 0,
    "start_time": "2024-09-23T15:17:25.129Z"
   },
   {
    "duration": 0,
    "start_time": "2024-09-23T15:17:25.133Z"
   },
   {
    "duration": 0,
    "start_time": "2024-09-23T15:17:25.134Z"
   },
   {
    "duration": 0,
    "start_time": "2024-09-23T15:17:25.136Z"
   },
   {
    "duration": 0,
    "start_time": "2024-09-23T15:17:25.137Z"
   },
   {
    "duration": 0,
    "start_time": "2024-09-23T15:17:25.139Z"
   },
   {
    "duration": 0,
    "start_time": "2024-09-23T15:17:25.140Z"
   },
   {
    "duration": 0,
    "start_time": "2024-09-23T15:17:25.142Z"
   },
   {
    "duration": 0,
    "start_time": "2024-09-23T15:17:25.144Z"
   },
   {
    "duration": 0,
    "start_time": "2024-09-23T15:17:25.145Z"
   },
   {
    "duration": 0,
    "start_time": "2024-09-23T15:17:25.147Z"
   },
   {
    "duration": 0,
    "start_time": "2024-09-23T15:17:25.148Z"
   },
   {
    "duration": 0,
    "start_time": "2024-09-23T15:17:25.149Z"
   },
   {
    "duration": 0,
    "start_time": "2024-09-23T15:17:25.150Z"
   },
   {
    "duration": 1,
    "start_time": "2024-09-23T15:17:25.151Z"
   },
   {
    "duration": 0,
    "start_time": "2024-09-23T15:17:25.153Z"
   },
   {
    "duration": 0,
    "start_time": "2024-09-23T15:17:25.154Z"
   },
   {
    "duration": 0,
    "start_time": "2024-09-23T15:17:25.156Z"
   },
   {
    "duration": 0,
    "start_time": "2024-09-23T15:17:25.158Z"
   },
   {
    "duration": 0,
    "start_time": "2024-09-23T15:17:25.159Z"
   },
   {
    "duration": 0,
    "start_time": "2024-09-23T15:17:25.161Z"
   },
   {
    "duration": 0,
    "start_time": "2024-09-23T15:17:25.221Z"
   },
   {
    "duration": 0,
    "start_time": "2024-09-23T15:17:25.222Z"
   },
   {
    "duration": 0,
    "start_time": "2024-09-23T15:17:25.224Z"
   },
   {
    "duration": 0,
    "start_time": "2024-09-23T15:17:25.226Z"
   },
   {
    "duration": 0,
    "start_time": "2024-09-23T15:17:25.227Z"
   },
   {
    "duration": 0,
    "start_time": "2024-09-23T15:17:25.229Z"
   },
   {
    "duration": 0,
    "start_time": "2024-09-23T15:17:25.230Z"
   },
   {
    "duration": 0,
    "start_time": "2024-09-23T15:17:25.232Z"
   },
   {
    "duration": 0,
    "start_time": "2024-09-23T15:17:25.233Z"
   },
   {
    "duration": 0,
    "start_time": "2024-09-23T15:17:25.235Z"
   },
   {
    "duration": 0,
    "start_time": "2024-09-23T15:17:25.237Z"
   },
   {
    "duration": 0,
    "start_time": "2024-09-23T15:17:25.238Z"
   },
   {
    "duration": 0,
    "start_time": "2024-09-23T15:17:25.240Z"
   },
   {
    "duration": 0,
    "start_time": "2024-09-23T15:17:25.242Z"
   },
   {
    "duration": 0,
    "start_time": "2024-09-23T15:17:25.244Z"
   },
   {
    "duration": 0,
    "start_time": "2024-09-23T15:17:25.245Z"
   },
   {
    "duration": 0,
    "start_time": "2024-09-23T15:17:25.247Z"
   },
   {
    "duration": 0,
    "start_time": "2024-09-23T15:17:25.249Z"
   },
   {
    "duration": 0,
    "start_time": "2024-09-23T15:17:25.250Z"
   },
   {
    "duration": 0,
    "start_time": "2024-09-23T15:17:25.252Z"
   },
   {
    "duration": 0,
    "start_time": "2024-09-23T15:17:25.254Z"
   },
   {
    "duration": 0,
    "start_time": "2024-09-23T15:17:25.255Z"
   },
   {
    "duration": 0,
    "start_time": "2024-09-23T15:17:25.257Z"
   },
   {
    "duration": 0,
    "start_time": "2024-09-23T15:17:25.258Z"
   },
   {
    "duration": 0,
    "start_time": "2024-09-23T15:17:25.260Z"
   },
   {
    "duration": 0,
    "start_time": "2024-09-23T15:17:25.321Z"
   },
   {
    "duration": 0,
    "start_time": "2024-09-23T15:17:25.323Z"
   },
   {
    "duration": 0,
    "start_time": "2024-09-23T15:17:25.325Z"
   },
   {
    "duration": 0,
    "start_time": "2024-09-23T15:17:25.326Z"
   },
   {
    "duration": 0,
    "start_time": "2024-09-23T15:17:25.327Z"
   },
   {
    "duration": 0,
    "start_time": "2024-09-23T15:17:25.329Z"
   },
   {
    "duration": 0,
    "start_time": "2024-09-23T15:17:25.330Z"
   },
   {
    "duration": 0,
    "start_time": "2024-09-23T15:17:25.331Z"
   },
   {
    "duration": 0,
    "start_time": "2024-09-23T15:17:25.333Z"
   },
   {
    "duration": 0,
    "start_time": "2024-09-23T15:17:25.334Z"
   },
   {
    "duration": 0,
    "start_time": "2024-09-23T15:17:25.336Z"
   },
   {
    "duration": 0,
    "start_time": "2024-09-23T15:17:25.337Z"
   },
   {
    "duration": 0,
    "start_time": "2024-09-23T15:17:25.339Z"
   },
   {
    "duration": 0,
    "start_time": "2024-09-23T15:17:25.340Z"
   },
   {
    "duration": 0,
    "start_time": "2024-09-23T15:17:25.342Z"
   },
   {
    "duration": 0,
    "start_time": "2024-09-23T15:17:25.343Z"
   },
   {
    "duration": 0,
    "start_time": "2024-09-23T15:17:25.345Z"
   },
   {
    "duration": 0,
    "start_time": "2024-09-23T15:17:25.346Z"
   },
   {
    "duration": 0,
    "start_time": "2024-09-23T15:17:25.348Z"
   },
   {
    "duration": 0,
    "start_time": "2024-09-23T15:17:25.349Z"
   },
   {
    "duration": 0,
    "start_time": "2024-09-23T15:17:25.351Z"
   },
   {
    "duration": 0,
    "start_time": "2024-09-23T15:17:25.352Z"
   },
   {
    "duration": 0,
    "start_time": "2024-09-23T15:17:25.353Z"
   },
   {
    "duration": 0,
    "start_time": "2024-09-23T15:17:25.354Z"
   },
   {
    "duration": 0,
    "start_time": "2024-09-23T15:17:25.355Z"
   },
   {
    "duration": 0,
    "start_time": "2024-09-23T15:17:25.357Z"
   },
   {
    "duration": 0,
    "start_time": "2024-09-23T15:17:25.421Z"
   },
   {
    "duration": 0,
    "start_time": "2024-09-23T15:17:25.422Z"
   },
   {
    "duration": 0,
    "start_time": "2024-09-23T15:17:25.424Z"
   },
   {
    "duration": 0,
    "start_time": "2024-09-23T15:17:25.425Z"
   },
   {
    "duration": 0,
    "start_time": "2024-09-23T15:17:25.426Z"
   },
   {
    "duration": 0,
    "start_time": "2024-09-23T15:17:25.428Z"
   },
   {
    "duration": 0,
    "start_time": "2024-09-23T15:17:25.429Z"
   },
   {
    "duration": 0,
    "start_time": "2024-09-23T15:17:25.430Z"
   },
   {
    "duration": 0,
    "start_time": "2024-09-23T15:17:25.432Z"
   },
   {
    "duration": 0,
    "start_time": "2024-09-23T15:17:25.433Z"
   },
   {
    "duration": 0,
    "start_time": "2024-09-23T15:17:25.435Z"
   },
   {
    "duration": 0,
    "start_time": "2024-09-23T15:17:25.436Z"
   },
   {
    "duration": 0,
    "start_time": "2024-09-23T15:17:25.437Z"
   },
   {
    "duration": 0,
    "start_time": "2024-09-23T15:17:25.439Z"
   },
   {
    "duration": 0,
    "start_time": "2024-09-23T15:17:25.440Z"
   },
   {
    "duration": 0,
    "start_time": "2024-09-23T15:17:25.442Z"
   },
   {
    "duration": 0,
    "start_time": "2024-09-23T15:17:25.443Z"
   },
   {
    "duration": 0,
    "start_time": "2024-09-23T15:17:25.444Z"
   },
   {
    "duration": 0,
    "start_time": "2024-09-23T15:17:25.445Z"
   },
   {
    "duration": 0,
    "start_time": "2024-09-23T15:17:25.447Z"
   },
   {
    "duration": 0,
    "start_time": "2024-09-23T15:17:25.448Z"
   },
   {
    "duration": 0,
    "start_time": "2024-09-23T15:17:25.449Z"
   },
   {
    "duration": 0,
    "start_time": "2024-09-23T15:17:25.450Z"
   },
   {
    "duration": 0,
    "start_time": "2024-09-23T15:17:25.451Z"
   },
   {
    "duration": 0,
    "start_time": "2024-09-23T15:17:25.452Z"
   },
   {
    "duration": 0,
    "start_time": "2024-09-23T15:17:25.454Z"
   },
   {
    "duration": 0,
    "start_time": "2024-09-23T15:17:25.455Z"
   },
   {
    "duration": 0,
    "start_time": "2024-09-23T15:17:25.456Z"
   },
   {
    "duration": 0,
    "start_time": "2024-09-23T15:17:25.457Z"
   },
   {
    "duration": 0,
    "start_time": "2024-09-23T15:17:25.458Z"
   },
   {
    "duration": 20798,
    "start_time": "2024-09-23T15:21:27.298Z"
   },
   {
    "duration": 12813,
    "start_time": "2024-09-23T15:21:48.099Z"
   },
   {
    "duration": 573,
    "start_time": "2024-09-23T15:22:00.917Z"
   },
   {
    "duration": 0,
    "start_time": "2024-09-23T15:22:01.496Z"
   },
   {
    "duration": 0,
    "start_time": "2024-09-23T15:22:01.497Z"
   },
   {
    "duration": 0,
    "start_time": "2024-09-23T15:22:01.498Z"
   },
   {
    "duration": 0,
    "start_time": "2024-09-23T15:22:01.499Z"
   },
   {
    "duration": 0,
    "start_time": "2024-09-23T15:22:01.501Z"
   },
   {
    "duration": 0,
    "start_time": "2024-09-23T15:22:01.502Z"
   },
   {
    "duration": 0,
    "start_time": "2024-09-23T15:22:01.503Z"
   },
   {
    "duration": 0,
    "start_time": "2024-09-23T15:22:01.504Z"
   },
   {
    "duration": 0,
    "start_time": "2024-09-23T15:22:01.505Z"
   },
   {
    "duration": 0,
    "start_time": "2024-09-23T15:22:01.520Z"
   },
   {
    "duration": 0,
    "start_time": "2024-09-23T15:22:01.522Z"
   },
   {
    "duration": 0,
    "start_time": "2024-09-23T15:22:01.523Z"
   },
   {
    "duration": 0,
    "start_time": "2024-09-23T15:22:01.524Z"
   },
   {
    "duration": 0,
    "start_time": "2024-09-23T15:22:01.525Z"
   },
   {
    "duration": 0,
    "start_time": "2024-09-23T15:22:01.526Z"
   },
   {
    "duration": 0,
    "start_time": "2024-09-23T15:22:01.527Z"
   },
   {
    "duration": 0,
    "start_time": "2024-09-23T15:22:01.528Z"
   },
   {
    "duration": 0,
    "start_time": "2024-09-23T15:22:01.529Z"
   },
   {
    "duration": 0,
    "start_time": "2024-09-23T15:22:01.530Z"
   },
   {
    "duration": 0,
    "start_time": "2024-09-23T15:22:01.532Z"
   },
   {
    "duration": 0,
    "start_time": "2024-09-23T15:22:01.532Z"
   },
   {
    "duration": 0,
    "start_time": "2024-09-23T15:22:01.534Z"
   },
   {
    "duration": 0,
    "start_time": "2024-09-23T15:22:01.535Z"
   },
   {
    "duration": 0,
    "start_time": "2024-09-23T15:22:01.536Z"
   },
   {
    "duration": 0,
    "start_time": "2024-09-23T15:22:01.537Z"
   },
   {
    "duration": 0,
    "start_time": "2024-09-23T15:22:01.538Z"
   },
   {
    "duration": 0,
    "start_time": "2024-09-23T15:22:01.539Z"
   },
   {
    "duration": 0,
    "start_time": "2024-09-23T15:22:01.540Z"
   },
   {
    "duration": 0,
    "start_time": "2024-09-23T15:22:01.541Z"
   },
   {
    "duration": 0,
    "start_time": "2024-09-23T15:22:01.543Z"
   },
   {
    "duration": 0,
    "start_time": "2024-09-23T15:22:01.543Z"
   },
   {
    "duration": 0,
    "start_time": "2024-09-23T15:22:01.544Z"
   },
   {
    "duration": 1,
    "start_time": "2024-09-23T15:22:01.545Z"
   },
   {
    "duration": 0,
    "start_time": "2024-09-23T15:22:01.547Z"
   },
   {
    "duration": 0,
    "start_time": "2024-09-23T15:22:01.548Z"
   },
   {
    "duration": 1,
    "start_time": "2024-09-23T15:22:01.548Z"
   },
   {
    "duration": 0,
    "start_time": "2024-09-23T15:22:01.550Z"
   },
   {
    "duration": 0,
    "start_time": "2024-09-23T15:22:01.550Z"
   },
   {
    "duration": 0,
    "start_time": "2024-09-23T15:22:01.551Z"
   },
   {
    "duration": 0,
    "start_time": "2024-09-23T15:22:01.552Z"
   },
   {
    "duration": 0,
    "start_time": "2024-09-23T15:22:01.553Z"
   },
   {
    "duration": 0,
    "start_time": "2024-09-23T15:22:01.555Z"
   },
   {
    "duration": 0,
    "start_time": "2024-09-23T15:22:01.556Z"
   },
   {
    "duration": 0,
    "start_time": "2024-09-23T15:22:01.556Z"
   },
   {
    "duration": 0,
    "start_time": "2024-09-23T15:22:01.621Z"
   },
   {
    "duration": 0,
    "start_time": "2024-09-23T15:22:01.623Z"
   },
   {
    "duration": 0,
    "start_time": "2024-09-23T15:22:01.625Z"
   },
   {
    "duration": 0,
    "start_time": "2024-09-23T15:22:01.626Z"
   },
   {
    "duration": 0,
    "start_time": "2024-09-23T15:22:01.629Z"
   },
   {
    "duration": 0,
    "start_time": "2024-09-23T15:22:01.631Z"
   },
   {
    "duration": 0,
    "start_time": "2024-09-23T15:22:01.634Z"
   },
   {
    "duration": 0,
    "start_time": "2024-09-23T15:22:01.635Z"
   },
   {
    "duration": 0,
    "start_time": "2024-09-23T15:22:01.637Z"
   },
   {
    "duration": 0,
    "start_time": "2024-09-23T15:22:01.638Z"
   },
   {
    "duration": 0,
    "start_time": "2024-09-23T15:22:01.639Z"
   },
   {
    "duration": 0,
    "start_time": "2024-09-23T15:22:01.640Z"
   },
   {
    "duration": 0,
    "start_time": "2024-09-23T15:22:01.641Z"
   },
   {
    "duration": 0,
    "start_time": "2024-09-23T15:22:01.643Z"
   },
   {
    "duration": 0,
    "start_time": "2024-09-23T15:22:01.644Z"
   },
   {
    "duration": 0,
    "start_time": "2024-09-23T15:22:01.646Z"
   },
   {
    "duration": 0,
    "start_time": "2024-09-23T15:22:01.647Z"
   },
   {
    "duration": 0,
    "start_time": "2024-09-23T15:22:01.649Z"
   },
   {
    "duration": 0,
    "start_time": "2024-09-23T15:22:01.650Z"
   },
   {
    "duration": 0,
    "start_time": "2024-09-23T15:22:01.651Z"
   },
   {
    "duration": 0,
    "start_time": "2024-09-23T15:22:01.652Z"
   },
   {
    "duration": 0,
    "start_time": "2024-09-23T15:22:01.653Z"
   },
   {
    "duration": 0,
    "start_time": "2024-09-23T15:22:01.655Z"
   },
   {
    "duration": 0,
    "start_time": "2024-09-23T15:22:01.656Z"
   },
   {
    "duration": 0,
    "start_time": "2024-09-23T15:22:01.656Z"
   },
   {
    "duration": 0,
    "start_time": "2024-09-23T15:22:01.721Z"
   },
   {
    "duration": 0,
    "start_time": "2024-09-23T15:22:01.722Z"
   },
   {
    "duration": 0,
    "start_time": "2024-09-23T15:22:01.723Z"
   },
   {
    "duration": 0,
    "start_time": "2024-09-23T15:22:01.724Z"
   },
   {
    "duration": 0,
    "start_time": "2024-09-23T15:22:01.726Z"
   },
   {
    "duration": 0,
    "start_time": "2024-09-23T15:22:01.727Z"
   },
   {
    "duration": 0,
    "start_time": "2024-09-23T15:22:01.729Z"
   },
   {
    "duration": 0,
    "start_time": "2024-09-23T15:22:01.730Z"
   },
   {
    "duration": 0,
    "start_time": "2024-09-23T15:22:01.731Z"
   },
   {
    "duration": 0,
    "start_time": "2024-09-23T15:22:01.733Z"
   },
   {
    "duration": 0,
    "start_time": "2024-09-23T15:22:01.734Z"
   },
   {
    "duration": 0,
    "start_time": "2024-09-23T15:22:01.735Z"
   },
   {
    "duration": 0,
    "start_time": "2024-09-23T15:22:01.737Z"
   },
   {
    "duration": 0,
    "start_time": "2024-09-23T15:22:01.738Z"
   },
   {
    "duration": 0,
    "start_time": "2024-09-23T15:22:01.739Z"
   },
   {
    "duration": 0,
    "start_time": "2024-09-23T15:22:01.741Z"
   },
   {
    "duration": 0,
    "start_time": "2024-09-23T15:22:01.742Z"
   },
   {
    "duration": 0,
    "start_time": "2024-09-23T15:22:01.744Z"
   },
   {
    "duration": 0,
    "start_time": "2024-09-23T15:22:01.746Z"
   },
   {
    "duration": 0,
    "start_time": "2024-09-23T15:22:01.747Z"
   },
   {
    "duration": 0,
    "start_time": "2024-09-23T15:22:01.749Z"
   },
   {
    "duration": 0,
    "start_time": "2024-09-23T15:22:01.750Z"
   },
   {
    "duration": 0,
    "start_time": "2024-09-23T15:22:01.752Z"
   },
   {
    "duration": 0,
    "start_time": "2024-09-23T15:22:01.753Z"
   },
   {
    "duration": 0,
    "start_time": "2024-09-23T15:22:01.755Z"
   },
   {
    "duration": 0,
    "start_time": "2024-09-23T15:22:01.757Z"
   },
   {
    "duration": 0,
    "start_time": "2024-09-23T15:22:01.823Z"
   },
   {
    "duration": 1,
    "start_time": "2024-09-23T15:22:01.824Z"
   },
   {
    "duration": 0,
    "start_time": "2024-09-23T15:22:01.826Z"
   },
   {
    "duration": 0,
    "start_time": "2024-09-23T15:22:01.831Z"
   },
   {
    "duration": 0,
    "start_time": "2024-09-23T15:22:01.833Z"
   },
   {
    "duration": 0,
    "start_time": "2024-09-23T15:22:01.834Z"
   },
   {
    "duration": 0,
    "start_time": "2024-09-23T15:22:01.836Z"
   },
   {
    "duration": 0,
    "start_time": "2024-09-23T15:22:01.837Z"
   },
   {
    "duration": 0,
    "start_time": "2024-09-23T15:22:01.839Z"
   },
   {
    "duration": 0,
    "start_time": "2024-09-23T15:22:01.840Z"
   },
   {
    "duration": 0,
    "start_time": "2024-09-23T15:22:01.841Z"
   },
   {
    "duration": 0,
    "start_time": "2024-09-23T15:22:01.843Z"
   },
   {
    "duration": 0,
    "start_time": "2024-09-23T15:22:01.844Z"
   },
   {
    "duration": 0,
    "start_time": "2024-09-23T15:22:01.846Z"
   },
   {
    "duration": 0,
    "start_time": "2024-09-23T15:22:01.847Z"
   },
   {
    "duration": 0,
    "start_time": "2024-09-23T15:22:01.849Z"
   },
   {
    "duration": 22762,
    "start_time": "2024-09-23T15:22:36.367Z"
   },
   {
    "duration": 9215,
    "start_time": "2024-09-23T15:22:59.132Z"
   },
   {
    "duration": 22,
    "start_time": "2024-09-23T15:23:08.350Z"
   },
   {
    "duration": 11688,
    "start_time": "2024-09-23T15:24:32.150Z"
   },
   {
    "duration": 5557,
    "start_time": "2024-09-23T15:24:43.841Z"
   },
   {
    "duration": 18,
    "start_time": "2024-09-23T15:24:56.451Z"
   },
   {
    "duration": 12327,
    "start_time": "2024-09-23T15:26:32.537Z"
   },
   {
    "duration": 5521,
    "start_time": "2024-09-23T15:26:44.866Z"
   },
   {
    "duration": 2333,
    "start_time": "2024-09-23T15:26:50.392Z"
   },
   {
    "duration": 323,
    "start_time": "2024-09-23T15:26:52.727Z"
   },
   {
    "duration": 22,
    "start_time": "2024-09-23T15:26:53.052Z"
   },
   {
    "duration": 8,
    "start_time": "2024-09-23T15:26:53.076Z"
   },
   {
    "duration": 10,
    "start_time": "2024-09-23T15:26:53.086Z"
   },
   {
    "duration": 10,
    "start_time": "2024-09-23T15:26:53.098Z"
   },
   {
    "duration": 14,
    "start_time": "2024-09-23T15:26:53.110Z"
   },
   {
    "duration": 3,
    "start_time": "2024-09-23T15:26:53.126Z"
   },
   {
    "duration": 54,
    "start_time": "2024-09-23T15:26:53.131Z"
   },
   {
    "duration": 28,
    "start_time": "2024-09-23T15:26:53.187Z"
   },
   {
    "duration": 58,
    "start_time": "2024-09-23T15:26:53.216Z"
   },
   {
    "duration": 13,
    "start_time": "2024-09-23T15:26:53.276Z"
   },
   {
    "duration": 22,
    "start_time": "2024-09-23T15:26:53.291Z"
   },
   {
    "duration": 14,
    "start_time": "2024-09-23T15:26:53.315Z"
   },
   {
    "duration": 16,
    "start_time": "2024-09-23T15:26:53.331Z"
   },
   {
    "duration": 8,
    "start_time": "2024-09-23T15:26:53.349Z"
   },
   {
    "duration": 12,
    "start_time": "2024-09-23T15:26:53.359Z"
   },
   {
    "duration": 9,
    "start_time": "2024-09-23T15:26:53.372Z"
   },
   {
    "duration": 20,
    "start_time": "2024-09-23T15:26:53.383Z"
   },
   {
    "duration": 6,
    "start_time": "2024-09-23T15:26:53.405Z"
   },
   {
    "duration": 13,
    "start_time": "2024-09-23T15:26:53.421Z"
   },
   {
    "duration": 21,
    "start_time": "2024-09-23T15:26:53.436Z"
   },
   {
    "duration": 26,
    "start_time": "2024-09-23T15:26:53.459Z"
   },
   {
    "duration": 6,
    "start_time": "2024-09-23T15:26:53.487Z"
   },
   {
    "duration": 17,
    "start_time": "2024-09-23T15:26:53.497Z"
   },
   {
    "duration": 7,
    "start_time": "2024-09-23T15:26:53.515Z"
   },
   {
    "duration": 33,
    "start_time": "2024-09-23T15:26:53.523Z"
   },
   {
    "duration": 21,
    "start_time": "2024-09-23T15:26:53.557Z"
   },
   {
    "duration": 400,
    "start_time": "2024-09-23T15:26:53.579Z"
   },
   {
    "duration": 317,
    "start_time": "2024-09-23T15:26:53.980Z"
   },
   {
    "duration": 6,
    "start_time": "2024-09-23T15:26:54.299Z"
   },
   {
    "duration": 315,
    "start_time": "2024-09-23T15:26:54.307Z"
   },
   {
    "duration": 5,
    "start_time": "2024-09-23T15:26:54.624Z"
   },
   {
    "duration": 309,
    "start_time": "2024-09-23T15:26:54.631Z"
   },
   {
    "duration": 381,
    "start_time": "2024-09-23T15:26:54.941Z"
   },
   {
    "duration": 4,
    "start_time": "2024-09-23T15:26:55.323Z"
   },
   {
    "duration": 334,
    "start_time": "2024-09-23T15:26:55.328Z"
   },
   {
    "duration": 235,
    "start_time": "2024-09-23T15:26:55.664Z"
   },
   {
    "duration": 470,
    "start_time": "2024-09-23T15:26:55.900Z"
   },
   {
    "duration": 362,
    "start_time": "2024-09-23T15:26:56.372Z"
   },
   {
    "duration": 243,
    "start_time": "2024-09-23T15:26:56.736Z"
   },
   {
    "duration": 355,
    "start_time": "2024-09-23T15:26:56.981Z"
   },
   {
    "duration": 255,
    "start_time": "2024-09-23T15:26:57.338Z"
   },
   {
    "duration": 6,
    "start_time": "2024-09-23T15:26:57.595Z"
   },
   {
    "duration": 337,
    "start_time": "2024-09-23T15:26:57.620Z"
   },
   {
    "duration": 8,
    "start_time": "2024-09-23T15:26:57.959Z"
   },
   {
    "duration": 353,
    "start_time": "2024-09-23T15:26:57.968Z"
   },
   {
    "duration": 259,
    "start_time": "2024-09-23T15:26:58.323Z"
   },
   {
    "duration": 337,
    "start_time": "2024-09-23T15:26:58.584Z"
   },
   {
    "duration": 250,
    "start_time": "2024-09-23T15:26:58.922Z"
   },
   {
    "duration": 362,
    "start_time": "2024-09-23T15:26:59.174Z"
   },
   {
    "duration": 261,
    "start_time": "2024-09-23T15:26:59.538Z"
   },
   {
    "duration": 338,
    "start_time": "2024-09-23T15:26:59.801Z"
   },
   {
    "duration": 251,
    "start_time": "2024-09-23T15:27:00.141Z"
   },
   {
    "duration": 9,
    "start_time": "2024-09-23T15:27:00.394Z"
   },
   {
    "duration": 34,
    "start_time": "2024-09-23T15:27:00.404Z"
   },
   {
    "duration": 9,
    "start_time": "2024-09-23T15:27:00.440Z"
   },
   {
    "duration": 27,
    "start_time": "2024-09-23T15:27:00.451Z"
   },
   {
    "duration": 15,
    "start_time": "2024-09-23T15:27:00.480Z"
   },
   {
    "duration": 471,
    "start_time": "2024-09-23T15:27:00.497Z"
   },
   {
    "duration": 273,
    "start_time": "2024-09-23T15:27:00.970Z"
   },
   {
    "duration": 465,
    "start_time": "2024-09-23T15:27:01.245Z"
   },
   {
    "duration": 361,
    "start_time": "2024-09-23T15:27:01.712Z"
   },
   {
    "duration": 278,
    "start_time": "2024-09-23T15:27:02.075Z"
   },
   {
    "duration": 292,
    "start_time": "2024-09-23T15:27:02.355Z"
   },
   {
    "duration": 337,
    "start_time": "2024-09-23T15:27:02.650Z"
   },
   {
    "duration": 302,
    "start_time": "2024-09-23T15:27:02.989Z"
   },
   {
    "duration": 8,
    "start_time": "2024-09-23T15:27:03.293Z"
   },
   {
    "duration": 47,
    "start_time": "2024-09-23T15:27:03.303Z"
   },
   {
    "duration": 24,
    "start_time": "2024-09-23T15:27:03.352Z"
   },
   {
    "duration": 7,
    "start_time": "2024-09-23T15:27:03.379Z"
   },
   {
    "duration": 27,
    "start_time": "2024-09-23T15:27:03.388Z"
   },
   {
    "duration": 27,
    "start_time": "2024-09-23T15:27:03.417Z"
   },
   {
    "duration": 24,
    "start_time": "2024-09-23T15:27:03.446Z"
   },
   {
    "duration": 38,
    "start_time": "2024-09-23T15:27:03.472Z"
   },
   {
    "duration": 36,
    "start_time": "2024-09-23T15:27:03.512Z"
   },
   {
    "duration": 19,
    "start_time": "2024-09-23T15:27:03.550Z"
   },
   {
    "duration": 24,
    "start_time": "2024-09-23T15:27:03.571Z"
   },
   {
    "duration": 10,
    "start_time": "2024-09-23T15:27:03.601Z"
   },
   {
    "duration": 28,
    "start_time": "2024-09-23T15:27:03.612Z"
   },
   {
    "duration": 18,
    "start_time": "2024-09-23T15:27:03.642Z"
   },
   {
    "duration": 37,
    "start_time": "2024-09-23T15:27:03.662Z"
   },
   {
    "duration": 20,
    "start_time": "2024-09-23T15:27:03.700Z"
   },
   {
    "duration": 31,
    "start_time": "2024-09-23T15:27:03.722Z"
   },
   {
    "duration": 10,
    "start_time": "2024-09-23T15:27:03.755Z"
   },
   {
    "duration": 601,
    "start_time": "2024-09-23T15:27:03.767Z"
   },
   {
    "duration": 1353,
    "start_time": "2024-09-23T15:27:04.371Z"
   },
   {
    "duration": 7,
    "start_time": "2024-09-23T15:27:05.726Z"
   },
   {
    "duration": 9,
    "start_time": "2024-09-23T15:27:05.735Z"
   },
   {
    "duration": 9,
    "start_time": "2024-09-23T15:27:05.746Z"
   },
   {
    "duration": 35,
    "start_time": "2024-09-23T15:27:05.757Z"
   },
   {
    "duration": 22,
    "start_time": "2024-09-23T15:27:05.795Z"
   },
   {
    "duration": 2569,
    "start_time": "2024-09-23T15:27:05.820Z"
   },
   {
    "duration": 18,
    "start_time": "2024-09-23T15:27:08.391Z"
   },
   {
    "duration": 15,
    "start_time": "2024-09-23T15:27:08.421Z"
   },
   {
    "duration": 11,
    "start_time": "2024-09-23T15:27:08.438Z"
   },
   {
    "duration": 29,
    "start_time": "2024-09-23T15:27:08.451Z"
   },
   {
    "duration": 10055,
    "start_time": "2024-09-23T15:27:08.482Z"
   },
   {
    "duration": 667818,
    "start_time": "2024-09-23T15:27:18.539Z"
   },
   {
    "duration": 4,
    "start_time": "2024-09-23T15:38:26.359Z"
   },
   {
    "duration": 64,
    "start_time": "2024-09-23T15:38:26.364Z"
   },
   {
    "duration": 9,
    "start_time": "2024-09-23T15:38:26.433Z"
   },
   {
    "duration": 564,
    "start_time": "2024-09-23T15:38:26.443Z"
   },
   {
    "duration": 25,
    "start_time": "2024-09-23T15:38:27.010Z"
   },
   {
    "duration": 8,
    "start_time": "2024-09-23T15:38:27.037Z"
   },
   {
    "duration": 11,
    "start_time": "2024-09-23T15:38:27.047Z"
   },
   {
    "duration": 15,
    "start_time": "2024-09-23T15:38:27.060Z"
   },
   {
    "duration": 291,
    "start_time": "2024-09-23T15:38:27.076Z"
   },
   {
    "duration": 376,
    "start_time": "2024-09-23T15:38:27.369Z"
   },
   {
    "duration": 364,
    "start_time": "2024-09-23T15:38:27.747Z"
   },
   {
    "duration": 384,
    "start_time": "2024-09-23T15:38:28.113Z"
   },
   {
    "duration": 386,
    "start_time": "2024-09-23T15:38:28.499Z"
   },
   {
    "duration": 16835,
    "start_time": "2024-09-23T15:38:28.889Z"
   },
   {
    "duration": 436,
    "start_time": "2024-09-23T15:42:06.072Z"
   },
   {
    "duration": 314,
    "start_time": "2024-09-23T15:42:53.295Z"
   },
   {
    "duration": 312,
    "start_time": "2024-09-23T15:43:28.517Z"
   },
   {
    "duration": 18,
    "start_time": "2024-09-23T15:43:49.558Z"
   },
   {
    "duration": 207,
    "start_time": "2024-09-23T15:44:40.515Z"
   },
   {
    "duration": 232,
    "start_time": "2024-09-23T15:45:27.001Z"
   },
   {
    "duration": 248,
    "start_time": "2024-09-23T15:46:20.273Z"
   },
   {
    "duration": 4,
    "start_time": "2024-09-23T16:02:29.874Z"
   },
   {
    "duration": 414,
    "start_time": "2024-09-23T16:02:31.270Z"
   },
   {
    "duration": 4,
    "start_time": "2024-09-23T16:05:23.831Z"
   },
   {
    "duration": 396,
    "start_time": "2024-09-23T16:05:25.882Z"
   },
   {
    "duration": 3,
    "start_time": "2024-09-23T16:05:47.499Z"
   },
   {
    "duration": 392,
    "start_time": "2024-09-23T16:05:48.291Z"
   },
   {
    "duration": 1678,
    "start_time": "2024-09-23T16:07:57.817Z"
   },
   {
    "duration": 1888,
    "start_time": "2024-09-23T16:08:40.490Z"
   },
   {
    "duration": 1350,
    "start_time": "2024-09-23T16:08:54.099Z"
   },
   {
    "duration": 21,
    "start_time": "2024-09-23T16:10:10.560Z"
   },
   {
    "duration": 1296,
    "start_time": "2024-09-23T16:10:52.916Z"
   },
   {
    "duration": 610,
    "start_time": "2024-09-23T16:12:21.886Z"
   },
   {
    "duration": 407,
    "start_time": "2024-09-23T16:12:34.045Z"
   },
   {
    "duration": 387,
    "start_time": "2024-09-23T16:12:53.099Z"
   },
   {
    "duration": 14,
    "start_time": "2024-09-23T16:15:01.656Z"
   },
   {
    "duration": 5,
    "start_time": "2024-09-23T16:15:18.228Z"
   },
   {
    "duration": 385,
    "start_time": "2024-09-23T16:15:20.840Z"
   },
   {
    "duration": 4,
    "start_time": "2024-09-23T16:15:34.090Z"
   },
   {
    "duration": 342,
    "start_time": "2024-09-23T16:15:35.954Z"
   },
   {
    "duration": 359,
    "start_time": "2024-09-23T16:15:56.898Z"
   },
   {
    "duration": 399,
    "start_time": "2024-09-23T16:16:06.777Z"
   },
   {
    "duration": 350,
    "start_time": "2024-09-23T16:16:20.337Z"
   },
   {
    "duration": 358,
    "start_time": "2024-09-23T16:16:28.989Z"
   },
   {
    "duration": 347,
    "start_time": "2024-09-23T16:16:37.498Z"
   },
   {
    "duration": 359,
    "start_time": "2024-09-23T16:16:44.958Z"
   },
   {
    "duration": 12,
    "start_time": "2024-09-23T16:19:33.500Z"
   },
   {
    "duration": 265,
    "start_time": "2024-09-23T16:19:53.909Z"
   },
   {
    "duration": 407,
    "start_time": "2024-09-23T16:22:42.675Z"
   },
   {
    "duration": 390,
    "start_time": "2024-09-23T16:23:03.987Z"
   },
   {
    "duration": 330,
    "start_time": "2024-09-23T16:23:42.361Z"
   },
   {
    "duration": 296,
    "start_time": "2024-09-23T16:25:09.354Z"
   },
   {
    "duration": 348,
    "start_time": "2024-09-23T16:25:11.415Z"
   },
   {
    "duration": 384,
    "start_time": "2024-09-23T16:27:15.480Z"
   },
   {
    "duration": 462,
    "start_time": "2024-09-23T16:28:03.118Z"
   },
   {
    "duration": 659,
    "start_time": "2024-09-23T16:29:08.839Z"
   },
   {
    "duration": 466,
    "start_time": "2024-09-23T16:29:16.746Z"
   },
   {
    "duration": 192,
    "start_time": "2024-09-23T16:31:59.137Z"
   },
   {
    "duration": 129,
    "start_time": "2024-09-23T16:32:09.814Z"
   },
   {
    "duration": 16,
    "start_time": "2024-09-23T16:33:58.851Z"
   },
   {
    "duration": 382,
    "start_time": "2024-09-23T16:34:14.550Z"
   },
   {
    "duration": 362,
    "start_time": "2024-09-23T16:39:13.098Z"
   },
   {
    "duration": 406,
    "start_time": "2024-09-23T16:39:32.286Z"
   },
   {
    "duration": 15,
    "start_time": "2024-09-23T16:46:55.143Z"
   },
   {
    "duration": 9705,
    "start_time": "2024-09-23T16:51:19.547Z"
   },
   {
    "duration": 7328,
    "start_time": "2024-09-23T16:51:34.517Z"
   },
   {
    "duration": 14,
    "start_time": "2024-09-23T16:53:07.982Z"
   },
   {
    "duration": 7837,
    "start_time": "2024-09-23T16:53:19.434Z"
   },
   {
    "duration": 7291,
    "start_time": "2024-09-23T16:55:35.066Z"
   },
   {
    "duration": 7984,
    "start_time": "2024-09-23T16:57:06.443Z"
   },
   {
    "duration": 44489,
    "start_time": "2024-09-23T17:13:03.990Z"
   },
   {
    "duration": 345,
    "start_time": "2024-09-23T17:15:44.093Z"
   },
   {
    "duration": 330,
    "start_time": "2024-09-23T17:15:53.564Z"
   },
   {
    "duration": 411,
    "start_time": "2024-09-23T17:16:52.724Z"
   },
   {
    "duration": 14,
    "start_time": "2024-09-23T17:17:21.651Z"
   },
   {
    "duration": 406,
    "start_time": "2024-09-23T17:17:30.720Z"
   },
   {
    "duration": 362,
    "start_time": "2024-09-23T17:21:26.433Z"
   },
   {
    "duration": 344,
    "start_time": "2024-09-23T17:22:57.155Z"
   },
   {
    "duration": 314,
    "start_time": "2024-09-23T17:23:13.180Z"
   },
   {
    "duration": 15,
    "start_time": "2024-09-23T17:24:47.288Z"
   },
   {
    "duration": 10,
    "start_time": "2024-09-23T17:26:59.850Z"
   },
   {
    "duration": 13,
    "start_time": "2024-09-23T17:27:05.233Z"
   },
   {
    "duration": 14,
    "start_time": "2024-09-23T17:27:17.648Z"
   },
   {
    "duration": 4,
    "start_time": "2024-09-23T17:27:27.906Z"
   },
   {
    "duration": 14,
    "start_time": "2024-09-23T17:27:33.895Z"
   },
   {
    "duration": 4,
    "start_time": "2024-09-23T17:27:49.965Z"
   },
   {
    "duration": 14,
    "start_time": "2024-09-23T17:27:51.082Z"
   },
   {
    "duration": 14,
    "start_time": "2024-09-23T17:28:05.813Z"
   },
   {
    "duration": 20321,
    "start_time": "2024-09-23T17:28:13.040Z"
   },
   {
    "duration": 9083,
    "start_time": "2024-09-23T17:28:33.363Z"
   },
   {
    "duration": 2064,
    "start_time": "2024-09-23T17:28:42.449Z"
   },
   {
    "duration": 88,
    "start_time": "2024-09-23T17:28:44.515Z"
   },
   {
    "duration": 21,
    "start_time": "2024-09-23T17:28:44.604Z"
   },
   {
    "duration": 8,
    "start_time": "2024-09-23T17:28:44.627Z"
   },
   {
    "duration": 15,
    "start_time": "2024-09-23T17:28:44.637Z"
   },
   {
    "duration": 24,
    "start_time": "2024-09-23T17:28:44.654Z"
   },
   {
    "duration": 14,
    "start_time": "2024-09-23T17:28:44.680Z"
   },
   {
    "duration": 24,
    "start_time": "2024-09-23T17:28:44.698Z"
   },
   {
    "duration": 20,
    "start_time": "2024-09-23T17:28:44.724Z"
   },
   {
    "duration": 5,
    "start_time": "2024-09-23T17:28:44.746Z"
   },
   {
    "duration": 4,
    "start_time": "2024-09-23T17:28:44.753Z"
   },
   {
    "duration": 18,
    "start_time": "2024-09-23T17:28:44.759Z"
   },
   {
    "duration": 10,
    "start_time": "2024-09-23T17:28:44.779Z"
   },
   {
    "duration": 11,
    "start_time": "2024-09-23T17:28:44.791Z"
   },
   {
    "duration": 27,
    "start_time": "2024-09-23T17:28:44.803Z"
   },
   {
    "duration": 13,
    "start_time": "2024-09-23T17:28:44.832Z"
   },
   {
    "duration": 19,
    "start_time": "2024-09-23T17:28:44.847Z"
   },
   {
    "duration": 11,
    "start_time": "2024-09-23T17:28:44.868Z"
   },
   {
    "duration": 15,
    "start_time": "2024-09-23T17:28:44.881Z"
   },
   {
    "duration": 8,
    "start_time": "2024-09-23T17:28:44.898Z"
   },
   {
    "duration": 4,
    "start_time": "2024-09-23T17:28:44.921Z"
   },
   {
    "duration": 138,
    "start_time": "2024-09-23T17:28:44.927Z"
   },
   {
    "duration": 34,
    "start_time": "2024-09-23T17:28:45.067Z"
   },
   {
    "duration": 27,
    "start_time": "2024-09-23T17:28:45.103Z"
   },
   {
    "duration": 41,
    "start_time": "2024-09-23T17:28:45.132Z"
   },
   {
    "duration": 23,
    "start_time": "2024-09-23T17:28:45.179Z"
   },
   {
    "duration": 24,
    "start_time": "2024-09-23T17:28:45.204Z"
   },
   {
    "duration": 106,
    "start_time": "2024-09-23T17:28:45.230Z"
   },
   {
    "duration": 199,
    "start_time": "2024-09-23T17:28:45.338Z"
   },
   {
    "duration": 282,
    "start_time": "2024-09-23T17:28:45.539Z"
   },
   {
    "duration": 212,
    "start_time": "2024-09-23T17:28:45.823Z"
   },
   {
    "duration": 289,
    "start_time": "2024-09-23T17:28:46.036Z"
   },
   {
    "duration": 374,
    "start_time": "2024-09-23T17:28:46.327Z"
   },
   {
    "duration": 23,
    "start_time": "2024-09-23T17:28:46.702Z"
   },
   {
    "duration": 4,
    "start_time": "2024-09-23T17:28:46.726Z"
   },
   {
    "duration": 344,
    "start_time": "2024-09-23T17:28:46.731Z"
   },
   {
    "duration": 258,
    "start_time": "2024-09-23T17:28:47.077Z"
   },
   {
    "duration": 339,
    "start_time": "2024-09-23T17:28:47.336Z"
   },
   {
    "duration": 466,
    "start_time": "2024-09-23T17:28:47.677Z"
   },
   {
    "duration": 233,
    "start_time": "2024-09-23T17:28:48.145Z"
   },
   {
    "duration": 359,
    "start_time": "2024-09-23T17:28:48.380Z"
   },
   {
    "duration": 255,
    "start_time": "2024-09-23T17:28:48.741Z"
   },
   {
    "duration": 6,
    "start_time": "2024-09-23T17:28:48.998Z"
   },
   {
    "duration": 380,
    "start_time": "2024-09-23T17:28:49.006Z"
   },
   {
    "duration": 7,
    "start_time": "2024-09-23T17:28:49.388Z"
   },
   {
    "duration": 336,
    "start_time": "2024-09-23T17:28:49.397Z"
   },
   {
    "duration": 254,
    "start_time": "2024-09-23T17:28:49.735Z"
   },
   {
    "duration": 360,
    "start_time": "2024-09-23T17:28:49.991Z"
   },
   {
    "duration": 232,
    "start_time": "2024-09-23T17:28:50.353Z"
   },
   {
    "duration": 361,
    "start_time": "2024-09-23T17:28:50.586Z"
   },
   {
    "duration": 255,
    "start_time": "2024-09-23T17:28:50.949Z"
   },
   {
    "duration": 7618,
    "start_time": "2024-09-23T17:28:51.205Z"
   },
   {
    "duration": 334,
    "start_time": "2024-09-23T17:28:58.825Z"
   },
   {
    "duration": 230,
    "start_time": "2024-09-23T17:28:59.161Z"
   },
   {
    "duration": 29,
    "start_time": "2024-09-23T17:28:59.393Z"
   },
   {
    "duration": 13,
    "start_time": "2024-09-23T17:28:59.424Z"
   },
   {
    "duration": 11,
    "start_time": "2024-09-23T17:28:59.439Z"
   },
   {
    "duration": 19,
    "start_time": "2024-09-23T17:28:59.451Z"
   },
   {
    "duration": 15,
    "start_time": "2024-09-23T17:28:59.472Z"
   },
   {
    "duration": 409,
    "start_time": "2024-09-23T17:28:59.489Z"
   },
   {
    "duration": 614,
    "start_time": "2024-09-23T17:28:59.899Z"
   },
   {
    "duration": 293,
    "start_time": "2024-09-23T17:29:00.515Z"
   },
   {
    "duration": 212,
    "start_time": "2024-09-23T17:29:00.810Z"
   },
   {
    "duration": 322,
    "start_time": "2024-09-23T17:29:01.024Z"
   },
   {
    "duration": 388,
    "start_time": "2024-09-23T17:29:01.347Z"
   },
   {
    "duration": 285,
    "start_time": "2024-09-23T17:29:01.736Z"
   },
   {
    "duration": 301,
    "start_time": "2024-09-23T17:29:02.024Z"
   },
   {
    "duration": 337,
    "start_time": "2024-09-23T17:29:02.328Z"
   },
   {
    "duration": 227,
    "start_time": "2024-09-23T17:29:02.667Z"
   },
   {
    "duration": 25,
    "start_time": "2024-09-23T17:29:02.896Z"
   },
   {
    "duration": 69,
    "start_time": "2024-09-23T17:29:02.923Z"
   },
   {
    "duration": 66,
    "start_time": "2024-09-23T17:29:02.994Z"
   },
   {
    "duration": 23,
    "start_time": "2024-09-23T17:29:03.062Z"
   },
   {
    "duration": 33,
    "start_time": "2024-09-23T17:29:03.087Z"
   },
   {
    "duration": 26,
    "start_time": "2024-09-23T17:29:03.122Z"
   },
   {
    "duration": 15,
    "start_time": "2024-09-23T17:29:03.149Z"
   },
   {
    "duration": 20,
    "start_time": "2024-09-23T17:29:03.166Z"
   },
   {
    "duration": 12,
    "start_time": "2024-09-23T17:29:03.187Z"
   },
   {
    "duration": 10,
    "start_time": "2024-09-23T17:29:03.201Z"
   },
   {
    "duration": 82,
    "start_time": "2024-09-23T17:29:03.218Z"
   },
   {
    "duration": 11,
    "start_time": "2024-09-23T17:29:03.302Z"
   },
   {
    "duration": 11,
    "start_time": "2024-09-23T17:29:03.315Z"
   },
   {
    "duration": 36,
    "start_time": "2024-09-23T17:29:03.328Z"
   },
   {
    "duration": 27,
    "start_time": "2024-09-23T17:29:03.367Z"
   },
   {
    "duration": 21,
    "start_time": "2024-09-23T17:29:03.397Z"
   },
   {
    "duration": 28,
    "start_time": "2024-09-23T17:29:03.420Z"
   },
   {
    "duration": 20,
    "start_time": "2024-09-23T17:29:03.450Z"
   },
   {
    "duration": 624,
    "start_time": "2024-09-23T17:29:03.471Z"
   },
   {
    "duration": 1308,
    "start_time": "2024-09-23T17:29:04.097Z"
   },
   {
    "duration": 440,
    "start_time": "2024-09-23T17:29:05.407Z"
   },
   {
    "duration": 16,
    "start_time": "2024-09-23T17:29:05.849Z"
   },
   {
    "duration": 469,
    "start_time": "2024-09-23T17:29:05.866Z"
   },
   {
    "duration": 0,
    "start_time": "2024-09-23T17:29:06.336Z"
   },
   {
    "duration": 0,
    "start_time": "2024-09-23T17:29:06.338Z"
   },
   {
    "duration": 0,
    "start_time": "2024-09-23T17:29:06.339Z"
   },
   {
    "duration": 0,
    "start_time": "2024-09-23T17:29:06.340Z"
   },
   {
    "duration": 0,
    "start_time": "2024-09-23T17:29:06.341Z"
   },
   {
    "duration": 0,
    "start_time": "2024-09-23T17:29:06.342Z"
   },
   {
    "duration": 0,
    "start_time": "2024-09-23T17:29:06.343Z"
   },
   {
    "duration": 0,
    "start_time": "2024-09-23T17:29:06.344Z"
   },
   {
    "duration": 0,
    "start_time": "2024-09-23T17:29:06.345Z"
   },
   {
    "duration": 0,
    "start_time": "2024-09-23T17:29:06.346Z"
   },
   {
    "duration": 0,
    "start_time": "2024-09-23T17:29:06.347Z"
   },
   {
    "duration": 0,
    "start_time": "2024-09-23T17:29:06.348Z"
   },
   {
    "duration": 0,
    "start_time": "2024-09-23T17:29:06.349Z"
   },
   {
    "duration": 0,
    "start_time": "2024-09-23T17:29:06.350Z"
   },
   {
    "duration": 0,
    "start_time": "2024-09-23T17:29:06.351Z"
   },
   {
    "duration": 0,
    "start_time": "2024-09-23T17:29:06.352Z"
   },
   {
    "duration": 0,
    "start_time": "2024-09-23T17:29:06.353Z"
   },
   {
    "duration": 0,
    "start_time": "2024-09-23T17:29:06.354Z"
   },
   {
    "duration": 0,
    "start_time": "2024-09-23T17:29:06.355Z"
   },
   {
    "duration": 0,
    "start_time": "2024-09-23T17:29:06.356Z"
   },
   {
    "duration": 0,
    "start_time": "2024-09-23T17:29:06.357Z"
   },
   {
    "duration": 0,
    "start_time": "2024-09-23T17:29:06.358Z"
   },
   {
    "duration": 0,
    "start_time": "2024-09-23T17:29:06.359Z"
   },
   {
    "duration": 0,
    "start_time": "2024-09-23T17:29:06.360Z"
   },
   {
    "duration": 0,
    "start_time": "2024-09-23T17:29:06.361Z"
   },
   {
    "duration": 14,
    "start_time": "2024-09-23T17:30:44.983Z"
   },
   {
    "duration": 359,
    "start_time": "2024-09-23T17:30:51.548Z"
   },
   {
    "duration": 6,
    "start_time": "2024-09-23T17:32:43.656Z"
   },
   {
    "duration": 7,
    "start_time": "2024-09-23T17:32:44.428Z"
   },
   {
    "duration": 6,
    "start_time": "2024-09-23T17:32:45.106Z"
   },
   {
    "duration": 12,
    "start_time": "2024-09-23T17:32:46.398Z"
   },
   {
    "duration": 3,
    "start_time": "2024-09-23T17:32:48.300Z"
   },
   {
    "duration": 2570,
    "start_time": "2024-09-23T17:32:49.435Z"
   },
   {
    "duration": 19,
    "start_time": "2024-09-23T17:32:52.007Z"
   },
   {
    "duration": 15,
    "start_time": "2024-09-23T17:32:52.269Z"
   },
   {
    "duration": 10,
    "start_time": "2024-09-23T17:32:52.842Z"
   },
   {
    "duration": 23,
    "start_time": "2024-09-23T17:32:55.716Z"
   },
   {
    "duration": 11244,
    "start_time": "2024-09-23T17:32:56.238Z"
   },
   {
    "duration": 653480,
    "start_time": "2024-09-23T17:33:07.484Z"
   },
   {
    "duration": 713,
    "start_time": "2024-09-23T17:44:00.966Z"
   },
   {
    "duration": 72,
    "start_time": "2024-09-23T17:44:01.681Z"
   },
   {
    "duration": 0,
    "start_time": "2024-09-23T17:44:01.755Z"
   },
   {
    "duration": 0,
    "start_time": "2024-09-23T17:44:01.757Z"
   },
   {
    "duration": 11604,
    "start_time": "2024-09-23T17:51:04.435Z"
   },
   {
    "duration": 4,
    "start_time": "2024-09-23T17:52:21.495Z"
   },
   {
    "duration": 5,
    "start_time": "2024-09-23T17:52:37.954Z"
   },
   {
    "duration": 5,
    "start_time": "2024-09-23T17:52:38.832Z"
   },
   {
    "duration": 5,
    "start_time": "2024-09-23T17:52:51.046Z"
   },
   {
    "duration": 5,
    "start_time": "2024-09-23T17:52:51.904Z"
   },
   {
    "duration": 5,
    "start_time": "2024-09-23T17:53:00.750Z"
   },
   {
    "duration": 5,
    "start_time": "2024-09-23T17:53:01.756Z"
   },
   {
    "duration": 5,
    "start_time": "2024-09-23T17:53:09.539Z"
   },
   {
    "duration": 5,
    "start_time": "2024-09-23T17:53:12.373Z"
   },
   {
    "duration": 5,
    "start_time": "2024-09-23T17:55:02.795Z"
   },
   {
    "duration": 5,
    "start_time": "2024-09-23T17:55:03.422Z"
   },
   {
    "duration": 5,
    "start_time": "2024-09-23T17:55:12.555Z"
   },
   {
    "duration": 5,
    "start_time": "2024-09-23T17:55:46.472Z"
   },
   {
    "duration": 5,
    "start_time": "2024-09-23T17:55:54.654Z"
   },
   {
    "duration": 5,
    "start_time": "2024-09-23T17:56:05.164Z"
   },
   {
    "duration": 5,
    "start_time": "2024-09-23T17:58:28.226Z"
   },
   {
    "duration": 5,
    "start_time": "2024-09-23T17:58:28.830Z"
   },
   {
    "duration": 16,
    "start_time": "2024-09-23T18:09:08.755Z"
   },
   {
    "duration": 11,
    "start_time": "2024-09-23T18:09:12.324Z"
   },
   {
    "duration": 10899,
    "start_time": "2024-09-23T18:19:11.817Z"
   },
   {
    "duration": 10930,
    "start_time": "2024-09-23T18:19:48.747Z"
   },
   {
    "duration": 10789,
    "start_time": "2024-09-23T18:20:47.138Z"
   },
   {
    "duration": 4,
    "start_time": "2024-09-23T18:21:28.347Z"
   },
   {
    "duration": 7,
    "start_time": "2024-09-23T18:21:30.643Z"
   },
   {
    "duration": 8,
    "start_time": "2024-09-23T18:21:31.700Z"
   },
   {
    "duration": 359,
    "start_time": "2024-09-23T18:21:33.263Z"
   },
   {
    "duration": 8,
    "start_time": "2024-09-23T18:22:58.088Z"
   },
   {
    "duration": 9,
    "start_time": "2024-09-23T18:22:59.399Z"
   },
   {
    "duration": 7,
    "start_time": "2024-09-23T18:23:18.257Z"
   },
   {
    "duration": 8,
    "start_time": "2024-09-23T18:23:35.075Z"
   },
   {
    "duration": 10,
    "start_time": "2024-09-23T18:23:35.666Z"
   },
   {
    "duration": 7,
    "start_time": "2024-09-23T18:23:41.560Z"
   },
   {
    "duration": 8,
    "start_time": "2024-09-23T18:23:42.279Z"
   },
   {
    "duration": 7,
    "start_time": "2024-09-23T18:23:58.826Z"
   },
   {
    "duration": 14,
    "start_time": "2024-09-23T18:24:00.161Z"
   },
   {
    "duration": 312,
    "start_time": "2024-09-23T18:24:01.423Z"
   },
   {
    "duration": 359,
    "start_time": "2024-09-23T18:24:02.140Z"
   },
   {
    "duration": 374,
    "start_time": "2024-09-23T18:24:04.297Z"
   },
   {
    "duration": 334,
    "start_time": "2024-09-23T18:24:05.150Z"
   },
   {
    "duration": 367,
    "start_time": "2024-09-23T18:24:15.076Z"
   },
   {
    "duration": 8,
    "start_time": "2024-09-23T18:26:00.624Z"
   },
   {
    "duration": 9,
    "start_time": "2024-09-23T18:26:03.067Z"
   },
   {
    "duration": 8,
    "start_time": "2024-09-23T18:26:37.675Z"
   },
   {
    "duration": 9,
    "start_time": "2024-09-23T18:26:39.317Z"
   },
   {
    "duration": 8,
    "start_time": "2024-09-23T18:26:56.770Z"
   },
   {
    "duration": 12,
    "start_time": "2024-09-23T18:26:58.176Z"
   },
   {
    "duration": 261,
    "start_time": "2024-09-23T18:27:18.407Z"
   },
   {
    "duration": 392,
    "start_time": "2024-09-23T18:27:22.185Z"
   },
   {
    "duration": 364,
    "start_time": "2024-09-23T18:27:46.385Z"
   },
   {
    "duration": 386,
    "start_time": "2024-09-23T18:27:50.814Z"
   },
   {
    "duration": 366,
    "start_time": "2024-09-23T18:27:52.006Z"
   },
   {
    "duration": 16845,
    "start_time": "2024-09-23T18:32:19.086Z"
   },
   {
    "duration": 9235,
    "start_time": "2024-09-23T18:32:35.933Z"
   },
   {
    "duration": 2111,
    "start_time": "2024-09-23T18:32:45.170Z"
   },
   {
    "duration": 93,
    "start_time": "2024-09-23T18:32:47.284Z"
   },
   {
    "duration": 22,
    "start_time": "2024-09-23T18:32:47.378Z"
   },
   {
    "duration": 8,
    "start_time": "2024-09-23T18:32:47.402Z"
   },
   {
    "duration": 8,
    "start_time": "2024-09-23T18:32:47.412Z"
   },
   {
    "duration": 65,
    "start_time": "2024-09-23T18:32:47.422Z"
   },
   {
    "duration": 14,
    "start_time": "2024-09-23T18:32:47.489Z"
   },
   {
    "duration": 10,
    "start_time": "2024-09-23T18:32:47.507Z"
   },
   {
    "duration": 18,
    "start_time": "2024-09-23T18:32:47.519Z"
   },
   {
    "duration": 9,
    "start_time": "2024-09-23T18:32:47.539Z"
   },
   {
    "duration": 5,
    "start_time": "2024-09-23T18:32:47.549Z"
   },
   {
    "duration": 5,
    "start_time": "2024-09-23T18:32:47.556Z"
   },
   {
    "duration": 8,
    "start_time": "2024-09-23T18:32:47.563Z"
   },
   {
    "duration": 9,
    "start_time": "2024-09-23T18:32:47.572Z"
   },
   {
    "duration": 39,
    "start_time": "2024-09-23T18:32:47.582Z"
   },
   {
    "duration": 20,
    "start_time": "2024-09-23T18:32:47.623Z"
   },
   {
    "duration": 9,
    "start_time": "2024-09-23T18:32:47.645Z"
   },
   {
    "duration": 8,
    "start_time": "2024-09-23T18:32:47.656Z"
   },
   {
    "duration": 10,
    "start_time": "2024-09-23T18:32:47.666Z"
   },
   {
    "duration": 5,
    "start_time": "2024-09-23T18:32:47.678Z"
   },
   {
    "duration": 6,
    "start_time": "2024-09-23T18:32:47.684Z"
   },
   {
    "duration": 17,
    "start_time": "2024-09-23T18:32:47.692Z"
   },
   {
    "duration": 14,
    "start_time": "2024-09-23T18:32:47.710Z"
   },
   {
    "duration": 7,
    "start_time": "2024-09-23T18:32:47.725Z"
   },
   {
    "duration": 11,
    "start_time": "2024-09-23T18:32:47.734Z"
   },
   {
    "duration": 9,
    "start_time": "2024-09-23T18:32:47.749Z"
   },
   {
    "duration": 20,
    "start_time": "2024-09-23T18:32:47.760Z"
   },
   {
    "duration": 18,
    "start_time": "2024-09-23T18:32:47.782Z"
   },
   {
    "duration": 227,
    "start_time": "2024-09-23T18:32:47.802Z"
   },
   {
    "duration": 219,
    "start_time": "2024-09-23T18:32:48.032Z"
   },
   {
    "duration": 215,
    "start_time": "2024-09-23T18:32:48.321Z"
   },
   {
    "duration": 284,
    "start_time": "2024-09-23T18:32:48.538Z"
   },
   {
    "duration": 354,
    "start_time": "2024-09-23T18:32:48.824Z"
   },
   {
    "duration": 11,
    "start_time": "2024-09-23T18:32:49.180Z"
   },
   {
    "duration": 16,
    "start_time": "2024-09-23T18:32:49.193Z"
   },
   {
    "duration": 454,
    "start_time": "2024-09-23T18:32:49.211Z"
   },
   {
    "duration": 225,
    "start_time": "2024-09-23T18:32:49.667Z"
   },
   {
    "duration": 353,
    "start_time": "2024-09-23T18:32:49.920Z"
   },
   {
    "duration": 462,
    "start_time": "2024-09-23T18:32:50.275Z"
   },
   {
    "duration": 240,
    "start_time": "2024-09-23T18:32:50.739Z"
   },
   {
    "duration": 361,
    "start_time": "2024-09-23T18:32:50.981Z"
   },
   {
    "duration": 246,
    "start_time": "2024-09-23T18:32:51.345Z"
   },
   {
    "duration": 7,
    "start_time": "2024-09-23T18:32:51.593Z"
   },
   {
    "duration": 346,
    "start_time": "2024-09-23T18:32:51.601Z"
   },
   {
    "duration": 8,
    "start_time": "2024-09-23T18:32:51.949Z"
   },
   {
    "duration": 368,
    "start_time": "2024-09-23T18:32:51.959Z"
   },
   {
    "duration": 256,
    "start_time": "2024-09-23T18:32:52.329Z"
   },
   {
    "duration": 334,
    "start_time": "2024-09-23T18:32:52.587Z"
   },
   {
    "duration": 244,
    "start_time": "2024-09-23T18:32:52.923Z"
   },
   {
    "duration": 383,
    "start_time": "2024-09-23T18:32:53.169Z"
   },
   {
    "duration": 250,
    "start_time": "2024-09-23T18:32:53.554Z"
   },
   {
    "duration": 7409,
    "start_time": "2024-09-23T18:32:53.806Z"
   },
   {
    "duration": 329,
    "start_time": "2024-09-23T18:33:01.217Z"
   },
   {
    "duration": 243,
    "start_time": "2024-09-23T18:33:01.547Z"
   },
   {
    "duration": 9,
    "start_time": "2024-09-23T18:33:01.792Z"
   },
   {
    "duration": 10,
    "start_time": "2024-09-23T18:33:01.820Z"
   },
   {
    "duration": 33,
    "start_time": "2024-09-23T18:33:01.832Z"
   },
   {
    "duration": 14,
    "start_time": "2024-09-23T18:33:01.866Z"
   },
   {
    "duration": 13,
    "start_time": "2024-09-23T18:33:01.882Z"
   },
   {
    "duration": 363,
    "start_time": "2024-09-23T18:33:01.897Z"
   },
   {
    "duration": 622,
    "start_time": "2024-09-23T18:33:02.262Z"
   },
   {
    "duration": 298,
    "start_time": "2024-09-23T18:33:02.886Z"
   },
   {
    "duration": 153,
    "start_time": "2024-09-23T18:33:03.186Z"
   },
   {
    "duration": 429,
    "start_time": "2024-09-23T18:33:03.341Z"
   },
   {
    "duration": 395,
    "start_time": "2024-09-23T18:33:03.772Z"
   },
   {
    "duration": 262,
    "start_time": "2024-09-23T18:33:04.169Z"
   },
   {
    "duration": 272,
    "start_time": "2024-09-23T18:33:04.433Z"
   },
   {
    "duration": 343,
    "start_time": "2024-09-23T18:33:04.707Z"
   },
   {
    "duration": 250,
    "start_time": "2024-09-23T18:33:05.052Z"
   },
   {
    "duration": 6,
    "start_time": "2024-09-23T18:33:05.304Z"
   },
   {
    "duration": 9,
    "start_time": "2024-09-23T18:33:05.321Z"
   },
   {
    "duration": 24,
    "start_time": "2024-09-23T18:33:05.332Z"
   },
   {
    "duration": 19,
    "start_time": "2024-09-23T18:33:05.358Z"
   },
   {
    "duration": 36,
    "start_time": "2024-09-23T18:33:05.379Z"
   },
   {
    "duration": 63,
    "start_time": "2024-09-23T18:33:05.416Z"
   },
   {
    "duration": 56,
    "start_time": "2024-09-23T18:33:05.481Z"
   },
   {
    "duration": 15,
    "start_time": "2024-09-23T18:33:05.539Z"
   },
   {
    "duration": 31,
    "start_time": "2024-09-23T18:33:05.556Z"
   },
   {
    "duration": 10,
    "start_time": "2024-09-23T18:33:05.588Z"
   },
   {
    "duration": 14,
    "start_time": "2024-09-23T18:33:05.604Z"
   },
   {
    "duration": 18,
    "start_time": "2024-09-23T18:33:05.620Z"
   },
   {
    "duration": 14,
    "start_time": "2024-09-23T18:33:05.639Z"
   },
   {
    "duration": 41,
    "start_time": "2024-09-23T18:33:05.654Z"
   },
   {
    "duration": 16,
    "start_time": "2024-09-23T18:33:05.697Z"
   },
   {
    "duration": 18,
    "start_time": "2024-09-23T18:33:05.714Z"
   },
   {
    "duration": 32,
    "start_time": "2024-09-23T18:33:05.734Z"
   },
   {
    "duration": 23,
    "start_time": "2024-09-23T18:33:05.768Z"
   },
   {
    "duration": 625,
    "start_time": "2024-09-23T18:33:05.793Z"
   },
   {
    "duration": 1336,
    "start_time": "2024-09-23T18:33:06.421Z"
   },
   {
    "duration": 494,
    "start_time": "2024-09-23T18:33:07.759Z"
   },
   {
    "duration": 390,
    "start_time": "2024-09-23T18:33:08.255Z"
   },
   {
    "duration": 6,
    "start_time": "2024-09-23T18:33:08.647Z"
   },
   {
    "duration": 5,
    "start_time": "2024-09-23T18:33:08.654Z"
   },
   {
    "duration": 5,
    "start_time": "2024-09-23T18:33:08.661Z"
   },
   {
    "duration": 11,
    "start_time": "2024-09-23T18:33:08.668Z"
   },
   {
    "duration": 3,
    "start_time": "2024-09-23T18:33:08.681Z"
   },
   {
    "duration": 2638,
    "start_time": "2024-09-23T18:33:08.685Z"
   },
   {
    "duration": 17,
    "start_time": "2024-09-23T18:33:11.325Z"
   },
   {
    "duration": 17,
    "start_time": "2024-09-23T18:33:11.343Z"
   },
   {
    "duration": 35,
    "start_time": "2024-09-23T18:33:11.362Z"
   },
   {
    "duration": 110,
    "start_time": "2024-09-23T18:33:11.399Z"
   },
   {
    "duration": 11213,
    "start_time": "2024-09-23T18:33:11.511Z"
   },
   {
    "duration": 629275,
    "start_time": "2024-09-23T18:33:22.726Z"
   },
   {
    "duration": 6,
    "start_time": "2024-09-23T18:43:52.004Z"
   },
   {
    "duration": 25,
    "start_time": "2024-09-23T18:43:52.012Z"
   },
   {
    "duration": 17,
    "start_time": "2024-09-23T18:43:52.038Z"
   },
   {
    "duration": 606,
    "start_time": "2024-09-23T18:43:52.057Z"
   },
   {
    "duration": 8,
    "start_time": "2024-09-23T18:43:52.665Z"
   },
   {
    "duration": 16,
    "start_time": "2024-09-23T18:43:52.674Z"
   },
   {
    "duration": 7,
    "start_time": "2024-09-23T18:43:52.692Z"
   },
   {
    "duration": 12,
    "start_time": "2024-09-23T18:43:52.720Z"
   },
   {
    "duration": 327,
    "start_time": "2024-09-23T18:43:52.734Z"
   },
   {
    "duration": 342,
    "start_time": "2024-09-23T18:43:53.063Z"
   },
   {
    "duration": 379,
    "start_time": "2024-09-23T18:43:53.407Z"
   },
   {
    "duration": 408,
    "start_time": "2024-09-23T18:43:53.788Z"
   },
   {
    "duration": 5,
    "start_time": "2024-09-23T18:43:54.201Z"
   },
   {
    "duration": 16,
    "start_time": "2024-09-23T18:43:54.208Z"
   },
   {
    "duration": 6,
    "start_time": "2024-09-23T18:45:40.624Z"
   },
   {
    "duration": 5,
    "start_time": "2024-09-23T18:45:41.420Z"
   },
   {
    "duration": 4,
    "start_time": "2024-09-23T18:50:03.541Z"
   },
   {
    "duration": 5,
    "start_time": "2024-09-23T18:50:05.825Z"
   },
   {
    "duration": 5,
    "start_time": "2024-09-23T18:50:14.213Z"
   },
   {
    "duration": 5,
    "start_time": "2024-09-23T18:50:15.486Z"
   },
   {
    "duration": 16446,
    "start_time": "2024-09-23T18:50:30.747Z"
   },
   {
    "duration": 9389,
    "start_time": "2024-09-23T18:50:47.195Z"
   },
   {
    "duration": 2142,
    "start_time": "2024-09-23T18:50:56.586Z"
   },
   {
    "duration": 89,
    "start_time": "2024-09-23T18:50:58.730Z"
   },
   {
    "duration": 21,
    "start_time": "2024-09-23T18:50:58.820Z"
   },
   {
    "duration": 8,
    "start_time": "2024-09-23T18:50:58.843Z"
   },
   {
    "duration": 37,
    "start_time": "2024-09-23T18:50:58.853Z"
   },
   {
    "duration": 13,
    "start_time": "2024-09-23T18:50:58.892Z"
   },
   {
    "duration": 15,
    "start_time": "2024-09-23T18:50:58.906Z"
   },
   {
    "duration": 4,
    "start_time": "2024-09-23T18:50:58.925Z"
   },
   {
    "duration": 13,
    "start_time": "2024-09-23T18:50:58.931Z"
   },
   {
    "duration": 19,
    "start_time": "2024-09-23T18:50:58.946Z"
   },
   {
    "duration": 8,
    "start_time": "2024-09-23T18:50:58.967Z"
   },
   {
    "duration": 5,
    "start_time": "2024-09-23T18:50:58.977Z"
   },
   {
    "duration": 8,
    "start_time": "2024-09-23T18:50:58.984Z"
   },
   {
    "duration": 33,
    "start_time": "2024-09-23T18:50:58.994Z"
   },
   {
    "duration": 20,
    "start_time": "2024-09-23T18:50:59.029Z"
   },
   {
    "duration": 7,
    "start_time": "2024-09-23T18:50:59.051Z"
   },
   {
    "duration": 6,
    "start_time": "2024-09-23T18:50:59.060Z"
   },
   {
    "duration": 10,
    "start_time": "2024-09-23T18:50:59.067Z"
   },
   {
    "duration": 10,
    "start_time": "2024-09-23T18:50:59.079Z"
   },
   {
    "duration": 32,
    "start_time": "2024-09-23T18:50:59.091Z"
   },
   {
    "duration": 7,
    "start_time": "2024-09-23T18:50:59.124Z"
   },
   {
    "duration": 13,
    "start_time": "2024-09-23T18:50:59.132Z"
   },
   {
    "duration": 69,
    "start_time": "2024-09-23T18:50:59.146Z"
   },
   {
    "duration": 7,
    "start_time": "2024-09-23T18:50:59.216Z"
   },
   {
    "duration": 12,
    "start_time": "2024-09-23T18:50:59.224Z"
   },
   {
    "duration": 12,
    "start_time": "2024-09-23T18:50:59.240Z"
   },
   {
    "duration": 5,
    "start_time": "2024-09-23T18:50:59.254Z"
   },
   {
    "duration": 11,
    "start_time": "2024-09-23T18:50:59.260Z"
   },
   {
    "duration": 253,
    "start_time": "2024-09-23T18:50:59.272Z"
   },
   {
    "duration": 218,
    "start_time": "2024-09-23T18:50:59.527Z"
   },
   {
    "duration": 294,
    "start_time": "2024-09-23T18:50:59.747Z"
   },
   {
    "duration": 279,
    "start_time": "2024-09-23T18:51:00.043Z"
   },
   {
    "duration": 360,
    "start_time": "2024-09-23T18:51:00.324Z"
   },
   {
    "duration": 12,
    "start_time": "2024-09-23T18:51:00.686Z"
   },
   {
    "duration": 21,
    "start_time": "2024-09-23T18:51:00.700Z"
   },
   {
    "duration": 352,
    "start_time": "2024-09-23T18:51:00.722Z"
   },
   {
    "duration": 258,
    "start_time": "2024-09-23T18:51:01.076Z"
   },
   {
    "duration": 338,
    "start_time": "2024-09-23T18:51:01.336Z"
   },
   {
    "duration": 462,
    "start_time": "2024-09-23T18:51:01.675Z"
   },
   {
    "duration": 237,
    "start_time": "2024-09-23T18:51:02.139Z"
   },
   {
    "duration": 365,
    "start_time": "2024-09-23T18:51:02.378Z"
   },
   {
    "duration": 248,
    "start_time": "2024-09-23T18:51:02.745Z"
   },
   {
    "duration": 6,
    "start_time": "2024-09-23T18:51:02.995Z"
   },
   {
    "duration": 345,
    "start_time": "2024-09-23T18:51:03.002Z"
   },
   {
    "duration": 7,
    "start_time": "2024-09-23T18:51:03.349Z"
   },
   {
    "duration": 364,
    "start_time": "2024-09-23T18:51:03.358Z"
   },
   {
    "duration": 278,
    "start_time": "2024-09-23T18:51:03.724Z"
   },
   {
    "duration": 323,
    "start_time": "2024-09-23T18:51:04.004Z"
   },
   {
    "duration": 235,
    "start_time": "2024-09-23T18:51:04.329Z"
   },
   {
    "duration": 383,
    "start_time": "2024-09-23T18:51:04.565Z"
   },
   {
    "duration": 279,
    "start_time": "2024-09-23T18:51:04.950Z"
   },
   {
    "duration": 7431,
    "start_time": "2024-09-23T18:51:05.231Z"
   },
   {
    "duration": 387,
    "start_time": "2024-09-23T18:51:12.664Z"
   },
   {
    "duration": 234,
    "start_time": "2024-09-23T18:51:13.053Z"
   },
   {
    "duration": 11,
    "start_time": "2024-09-23T18:51:13.289Z"
   },
   {
    "duration": 47,
    "start_time": "2024-09-23T18:51:13.302Z"
   },
   {
    "duration": 9,
    "start_time": "2024-09-23T18:51:13.351Z"
   },
   {
    "duration": 4,
    "start_time": "2024-09-23T18:51:13.363Z"
   },
   {
    "duration": 10,
    "start_time": "2024-09-23T18:51:13.369Z"
   },
   {
    "duration": 564,
    "start_time": "2024-09-23T18:51:13.381Z"
   },
   {
    "duration": 1080,
    "start_time": "2024-09-23T18:51:13.947Z"
   },
   {
    "duration": 407,
    "start_time": "2024-09-23T18:51:15.029Z"
   },
   {
    "duration": 303,
    "start_time": "2024-09-23T18:51:15.438Z"
   },
   {
    "duration": 586,
    "start_time": "2024-09-23T18:51:15.743Z"
   },
   {
    "duration": 631,
    "start_time": "2024-09-23T18:51:16.331Z"
   },
   {
    "duration": 330,
    "start_time": "2024-09-23T18:51:16.964Z"
   },
   {
    "duration": 296,
    "start_time": "2024-09-23T18:51:17.296Z"
   },
   {
    "duration": 359,
    "start_time": "2024-09-23T18:51:17.594Z"
   },
   {
    "duration": 235,
    "start_time": "2024-09-23T18:51:17.955Z"
   },
   {
    "duration": 6,
    "start_time": "2024-09-23T18:51:18.191Z"
   },
   {
    "duration": 22,
    "start_time": "2024-09-23T18:51:18.199Z"
   },
   {
    "duration": 3,
    "start_time": "2024-09-23T18:51:18.223Z"
   },
   {
    "duration": 6,
    "start_time": "2024-09-23T18:51:18.227Z"
   },
   {
    "duration": 11,
    "start_time": "2024-09-23T18:51:18.234Z"
   },
   {
    "duration": 4,
    "start_time": "2024-09-23T18:51:18.247Z"
   },
   {
    "duration": 5,
    "start_time": "2024-09-23T18:51:18.252Z"
   },
   {
    "duration": 12,
    "start_time": "2024-09-23T18:51:18.259Z"
   },
   {
    "duration": 41,
    "start_time": "2024-09-23T18:51:18.272Z"
   },
   {
    "duration": 13,
    "start_time": "2024-09-23T18:51:18.315Z"
   },
   {
    "duration": 7,
    "start_time": "2024-09-23T18:51:18.336Z"
   },
   {
    "duration": 8,
    "start_time": "2024-09-23T18:51:18.345Z"
   },
   {
    "duration": 6,
    "start_time": "2024-09-23T18:51:18.355Z"
   },
   {
    "duration": 25,
    "start_time": "2024-09-23T18:51:18.363Z"
   },
   {
    "duration": 32,
    "start_time": "2024-09-23T18:51:18.390Z"
   },
   {
    "duration": 24,
    "start_time": "2024-09-23T18:51:18.424Z"
   },
   {
    "duration": 17,
    "start_time": "2024-09-23T18:51:18.450Z"
   },
   {
    "duration": 50,
    "start_time": "2024-09-23T18:51:18.468Z"
   },
   {
    "duration": 582,
    "start_time": "2024-09-23T18:51:18.520Z"
   },
   {
    "duration": 1314,
    "start_time": "2024-09-23T18:51:19.104Z"
   },
   {
    "duration": 431,
    "start_time": "2024-09-23T18:51:20.421Z"
   },
   {
    "duration": 379,
    "start_time": "2024-09-23T18:51:20.854Z"
   },
   {
    "duration": 4,
    "start_time": "2024-09-23T18:51:21.235Z"
   },
   {
    "duration": 7,
    "start_time": "2024-09-23T18:51:21.240Z"
   },
   {
    "duration": 4,
    "start_time": "2024-09-23T18:51:21.249Z"
   },
   {
    "duration": 8,
    "start_time": "2024-09-23T18:51:21.255Z"
   },
   {
    "duration": 31,
    "start_time": "2024-09-23T18:51:21.265Z"
   },
   {
    "duration": 45,
    "start_time": "2024-09-23T18:51:21.297Z"
   },
   {
    "duration": 2524,
    "start_time": "2024-09-23T18:51:21.344Z"
   },
   {
    "duration": 16,
    "start_time": "2024-09-23T18:51:23.870Z"
   },
   {
    "duration": 17,
    "start_time": "2024-09-23T18:51:23.888Z"
   },
   {
    "duration": 21,
    "start_time": "2024-09-23T18:51:23.907Z"
   },
   {
    "duration": 23,
    "start_time": "2024-09-23T18:51:23.929Z"
   },
   {
    "duration": 9983,
    "start_time": "2024-09-23T18:51:23.953Z"
   },
   {
    "duration": 16777,
    "start_time": "2024-09-23T18:52:13.595Z"
   },
   {
    "duration": 9081,
    "start_time": "2024-09-23T18:52:30.374Z"
   },
   {
    "duration": 2100,
    "start_time": "2024-09-23T18:52:39.458Z"
   },
   {
    "duration": 89,
    "start_time": "2024-09-23T18:52:41.560Z"
   },
   {
    "duration": 20,
    "start_time": "2024-09-23T18:52:41.651Z"
   },
   {
    "duration": 8,
    "start_time": "2024-09-23T18:52:41.673Z"
   },
   {
    "duration": 12,
    "start_time": "2024-09-23T18:52:41.682Z"
   },
   {
    "duration": 7,
    "start_time": "2024-09-23T18:52:41.695Z"
   },
   {
    "duration": 16,
    "start_time": "2024-09-23T18:52:41.704Z"
   },
   {
    "duration": 4,
    "start_time": "2024-09-23T18:52:41.723Z"
   },
   {
    "duration": 30,
    "start_time": "2024-09-23T18:52:41.728Z"
   },
   {
    "duration": 7,
    "start_time": "2024-09-23T18:52:41.759Z"
   },
   {
    "duration": 4,
    "start_time": "2024-09-23T18:52:41.768Z"
   },
   {
    "duration": 6,
    "start_time": "2024-09-23T18:52:41.773Z"
   },
   {
    "duration": 13,
    "start_time": "2024-09-23T18:52:41.780Z"
   },
   {
    "duration": 27,
    "start_time": "2024-09-23T18:52:41.795Z"
   },
   {
    "duration": 12,
    "start_time": "2024-09-23T18:52:41.824Z"
   },
   {
    "duration": 4,
    "start_time": "2024-09-23T18:52:41.838Z"
   },
   {
    "duration": 8,
    "start_time": "2024-09-23T18:52:41.844Z"
   },
   {
    "duration": 7,
    "start_time": "2024-09-23T18:52:41.854Z"
   },
   {
    "duration": 13,
    "start_time": "2024-09-23T18:52:41.863Z"
   },
   {
    "duration": 44,
    "start_time": "2024-09-23T18:52:41.877Z"
   },
   {
    "duration": 4,
    "start_time": "2024-09-23T18:52:41.923Z"
   },
   {
    "duration": 8,
    "start_time": "2024-09-23T18:52:41.928Z"
   },
   {
    "duration": 18,
    "start_time": "2024-09-23T18:52:41.938Z"
   },
   {
    "duration": 8,
    "start_time": "2024-09-23T18:52:41.957Z"
   },
   {
    "duration": 11,
    "start_time": "2024-09-23T18:52:41.966Z"
   },
   {
    "duration": 23,
    "start_time": "2024-09-23T18:52:41.982Z"
   },
   {
    "duration": 15,
    "start_time": "2024-09-23T18:52:42.007Z"
   },
   {
    "duration": 31,
    "start_time": "2024-09-23T18:52:42.024Z"
   },
   {
    "duration": 182,
    "start_time": "2024-09-23T18:52:42.056Z"
   },
   {
    "duration": 281,
    "start_time": "2024-09-23T18:52:42.240Z"
   },
   {
    "duration": 210,
    "start_time": "2024-09-23T18:52:42.523Z"
   },
   {
    "duration": 288,
    "start_time": "2024-09-23T18:52:42.734Z"
   },
   {
    "duration": 356,
    "start_time": "2024-09-23T18:52:43.024Z"
   },
   {
    "duration": 13,
    "start_time": "2024-09-23T18:52:43.381Z"
   },
   {
    "duration": 4,
    "start_time": "2024-09-23T18:52:43.395Z"
   },
   {
    "duration": 365,
    "start_time": "2024-09-23T18:52:43.400Z"
   },
   {
    "duration": 255,
    "start_time": "2024-09-23T18:52:43.767Z"
   },
   {
    "duration": 358,
    "start_time": "2024-09-23T18:52:44.023Z"
   },
   {
    "duration": 473,
    "start_time": "2024-09-23T18:52:44.383Z"
   },
   {
    "duration": 311,
    "start_time": "2024-09-23T18:52:44.858Z"
   },
   {
    "duration": 371,
    "start_time": "2024-09-23T18:52:45.171Z"
   },
   {
    "duration": 251,
    "start_time": "2024-09-23T18:52:45.544Z"
   },
   {
    "duration": 6,
    "start_time": "2024-09-23T18:52:45.796Z"
   },
   {
    "duration": 348,
    "start_time": "2024-09-23T18:52:45.804Z"
   },
   {
    "duration": 9,
    "start_time": "2024-09-23T18:52:46.154Z"
   },
   {
    "duration": 378,
    "start_time": "2024-09-23T18:52:46.164Z"
   },
   {
    "duration": 251,
    "start_time": "2024-09-23T18:52:46.543Z"
   },
   {
    "duration": 353,
    "start_time": "2024-09-23T18:52:46.796Z"
   },
   {
    "duration": 227,
    "start_time": "2024-09-23T18:52:47.151Z"
   },
   {
    "duration": 369,
    "start_time": "2024-09-23T18:52:47.379Z"
   },
   {
    "duration": 257,
    "start_time": "2024-09-23T18:52:47.750Z"
   },
   {
    "duration": 7502,
    "start_time": "2024-09-23T18:52:48.009Z"
   },
   {
    "duration": 362,
    "start_time": "2024-09-23T18:52:55.513Z"
   },
   {
    "duration": 263,
    "start_time": "2024-09-23T18:52:55.877Z"
   },
   {
    "duration": 11,
    "start_time": "2024-09-23T18:52:56.141Z"
   },
   {
    "duration": 14,
    "start_time": "2024-09-23T18:52:56.153Z"
   },
   {
    "duration": 10,
    "start_time": "2024-09-23T18:52:56.169Z"
   },
   {
    "duration": 4,
    "start_time": "2024-09-23T18:52:56.180Z"
   },
   {
    "duration": 35,
    "start_time": "2024-09-23T18:52:56.186Z"
   },
   {
    "duration": 357,
    "start_time": "2024-09-23T18:52:56.223Z"
   },
   {
    "duration": 629,
    "start_time": "2024-09-23T18:52:56.582Z"
   },
   {
    "duration": 287,
    "start_time": "2024-09-23T18:52:57.213Z"
   },
   {
    "duration": 146,
    "start_time": "2024-09-23T18:52:57.502Z"
   },
   {
    "duration": 332,
    "start_time": "2024-09-23T18:52:57.720Z"
   },
   {
    "duration": 411,
    "start_time": "2024-09-23T18:52:58.054Z"
   },
   {
    "duration": 263,
    "start_time": "2024-09-23T18:52:58.466Z"
   },
   {
    "duration": 276,
    "start_time": "2024-09-23T18:52:58.730Z"
   },
   {
    "duration": 336,
    "start_time": "2024-09-23T18:52:59.008Z"
   },
   {
    "duration": 238,
    "start_time": "2024-09-23T18:52:59.345Z"
   },
   {
    "duration": 6,
    "start_time": "2024-09-23T18:52:59.584Z"
   },
   {
    "duration": 21,
    "start_time": "2024-09-23T18:52:59.592Z"
   },
   {
    "duration": 3,
    "start_time": "2024-09-23T18:52:59.620Z"
   },
   {
    "duration": 11,
    "start_time": "2024-09-23T18:52:59.624Z"
   },
   {
    "duration": 13,
    "start_time": "2024-09-23T18:52:59.636Z"
   },
   {
    "duration": 4,
    "start_time": "2024-09-23T18:52:59.650Z"
   },
   {
    "duration": 4,
    "start_time": "2024-09-23T18:52:59.656Z"
   },
   {
    "duration": 5,
    "start_time": "2024-09-23T18:52:59.661Z"
   },
   {
    "duration": 7,
    "start_time": "2024-09-23T18:52:59.667Z"
   },
   {
    "duration": 10,
    "start_time": "2024-09-23T18:52:59.676Z"
   },
   {
    "duration": 7,
    "start_time": "2024-09-23T18:52:59.723Z"
   },
   {
    "duration": 10,
    "start_time": "2024-09-23T18:52:59.731Z"
   },
   {
    "duration": 7,
    "start_time": "2024-09-23T18:52:59.743Z"
   },
   {
    "duration": 14,
    "start_time": "2024-09-23T18:52:59.751Z"
   },
   {
    "duration": 16,
    "start_time": "2024-09-23T18:52:59.767Z"
   },
   {
    "duration": 37,
    "start_time": "2024-09-23T18:52:59.785Z"
   },
   {
    "duration": 24,
    "start_time": "2024-09-23T18:52:59.823Z"
   },
   {
    "duration": 5,
    "start_time": "2024-09-23T18:52:59.849Z"
   },
   {
    "duration": 585,
    "start_time": "2024-09-23T18:52:59.855Z"
   },
   {
    "duration": 1267,
    "start_time": "2024-09-23T18:53:00.441Z"
   },
   {
    "duration": 423,
    "start_time": "2024-09-23T18:53:01.709Z"
   },
   {
    "duration": 395,
    "start_time": "2024-09-23T18:53:02.134Z"
   },
   {
    "duration": 5,
    "start_time": "2024-09-23T18:53:02.531Z"
   },
   {
    "duration": 47,
    "start_time": "2024-09-23T18:53:02.538Z"
   },
   {
    "duration": 14,
    "start_time": "2024-09-23T18:53:02.587Z"
   },
   {
    "duration": 29,
    "start_time": "2024-09-23T18:53:02.603Z"
   },
   {
    "duration": 63,
    "start_time": "2024-09-23T18:53:02.634Z"
   },
   {
    "duration": 2657,
    "start_time": "2024-09-23T18:53:02.699Z"
   },
   {
    "duration": 16,
    "start_time": "2024-09-23T18:53:05.359Z"
   },
   {
    "duration": 46,
    "start_time": "2024-09-23T18:53:05.376Z"
   },
   {
    "duration": 12,
    "start_time": "2024-09-23T18:53:05.424Z"
   },
   {
    "duration": 30,
    "start_time": "2024-09-23T18:53:05.437Z"
   },
   {
    "duration": 10371,
    "start_time": "2024-09-23T18:53:05.469Z"
   },
   {
    "duration": 16374,
    "start_time": "2024-09-23T18:56:42.849Z"
   },
   {
    "duration": 9103,
    "start_time": "2024-09-23T18:56:59.225Z"
   },
   {
    "duration": 2031,
    "start_time": "2024-09-23T18:57:08.330Z"
   },
   {
    "duration": 87,
    "start_time": "2024-09-23T18:57:10.363Z"
   },
   {
    "duration": 20,
    "start_time": "2024-09-23T18:57:10.452Z"
   },
   {
    "duration": 7,
    "start_time": "2024-09-23T18:57:10.474Z"
   },
   {
    "duration": 6,
    "start_time": "2024-09-23T18:57:10.483Z"
   },
   {
    "duration": 8,
    "start_time": "2024-09-23T18:57:10.491Z"
   },
   {
    "duration": 13,
    "start_time": "2024-09-23T18:57:10.500Z"
   },
   {
    "duration": 3,
    "start_time": "2024-09-23T18:57:10.520Z"
   },
   {
    "duration": 11,
    "start_time": "2024-09-23T18:57:10.524Z"
   },
   {
    "duration": 4,
    "start_time": "2024-09-23T18:57:10.537Z"
   },
   {
    "duration": 3,
    "start_time": "2024-09-23T18:57:10.543Z"
   },
   {
    "duration": 5,
    "start_time": "2024-09-23T18:57:10.547Z"
   },
   {
    "duration": 7,
    "start_time": "2024-09-23T18:57:10.553Z"
   },
   {
    "duration": 6,
    "start_time": "2024-09-23T18:57:10.561Z"
   },
   {
    "duration": 52,
    "start_time": "2024-09-23T18:57:10.569Z"
   },
   {
    "duration": 5,
    "start_time": "2024-09-23T18:57:10.623Z"
   },
   {
    "duration": 7,
    "start_time": "2024-09-23T18:57:10.629Z"
   },
   {
    "duration": 23,
    "start_time": "2024-09-23T18:57:10.637Z"
   },
   {
    "duration": 16,
    "start_time": "2024-09-23T18:57:10.661Z"
   },
   {
    "duration": 5,
    "start_time": "2024-09-23T18:57:10.679Z"
   },
   {
    "duration": 4,
    "start_time": "2024-09-23T18:57:10.686Z"
   },
   {
    "duration": 9,
    "start_time": "2024-09-23T18:57:10.692Z"
   },
   {
    "duration": 7,
    "start_time": "2024-09-23T18:57:10.721Z"
   },
   {
    "duration": 6,
    "start_time": "2024-09-23T18:57:10.729Z"
   },
   {
    "duration": 13,
    "start_time": "2024-09-23T18:57:10.737Z"
   },
   {
    "duration": 7,
    "start_time": "2024-09-23T18:57:10.755Z"
   },
   {
    "duration": 5,
    "start_time": "2024-09-23T18:57:10.764Z"
   },
   {
    "duration": 26,
    "start_time": "2024-09-23T18:57:10.771Z"
   },
   {
    "duration": 251,
    "start_time": "2024-09-23T18:57:10.798Z"
   },
   {
    "duration": 281,
    "start_time": "2024-09-23T18:57:11.051Z"
   },
   {
    "duration": 199,
    "start_time": "2024-09-23T18:57:11.333Z"
   },
   {
    "duration": 297,
    "start_time": "2024-09-23T18:57:11.534Z"
   },
   {
    "duration": 353,
    "start_time": "2024-09-23T18:57:11.832Z"
   },
   {
    "duration": 12,
    "start_time": "2024-09-23T18:57:12.187Z"
   },
   {
    "duration": 21,
    "start_time": "2024-09-23T18:57:12.201Z"
   },
   {
    "duration": 334,
    "start_time": "2024-09-23T18:57:12.224Z"
   },
   {
    "duration": 228,
    "start_time": "2024-09-23T18:57:12.560Z"
   },
   {
    "duration": 360,
    "start_time": "2024-09-23T18:57:12.790Z"
   },
   {
    "duration": 456,
    "start_time": "2024-09-23T18:57:13.151Z"
   },
   {
    "duration": 257,
    "start_time": "2024-09-23T18:57:13.610Z"
   },
   {
    "duration": 376,
    "start_time": "2024-09-23T18:57:13.869Z"
   },
   {
    "duration": 251,
    "start_time": "2024-09-23T18:57:14.248Z"
   },
   {
    "duration": 6,
    "start_time": "2024-09-23T18:57:14.501Z"
   },
   {
    "duration": 346,
    "start_time": "2024-09-23T18:57:14.521Z"
   },
   {
    "duration": 8,
    "start_time": "2024-09-23T18:57:14.870Z"
   },
   {
    "duration": 355,
    "start_time": "2024-09-23T18:57:14.880Z"
   },
   {
    "duration": 271,
    "start_time": "2024-09-23T18:57:15.236Z"
   },
   {
    "duration": 330,
    "start_time": "2024-09-23T18:57:15.509Z"
   },
   {
    "duration": 237,
    "start_time": "2024-09-23T18:57:15.841Z"
   },
   {
    "duration": 378,
    "start_time": "2024-09-23T18:57:16.080Z"
   },
   {
    "duration": 244,
    "start_time": "2024-09-23T18:57:16.460Z"
   },
   {
    "duration": 7512,
    "start_time": "2024-09-23T18:57:16.706Z"
   },
   {
    "duration": 373,
    "start_time": "2024-09-23T18:57:24.220Z"
   },
   {
    "duration": 282,
    "start_time": "2024-09-23T18:57:24.595Z"
   },
   {
    "duration": 14,
    "start_time": "2024-09-23T18:57:24.878Z"
   },
   {
    "duration": 28,
    "start_time": "2024-09-23T18:57:24.894Z"
   },
   {
    "duration": 25,
    "start_time": "2024-09-23T18:57:24.924Z"
   },
   {
    "duration": 42,
    "start_time": "2024-09-23T18:57:24.951Z"
   },
   {
    "duration": 12,
    "start_time": "2024-09-23T18:57:24.995Z"
   },
   {
    "duration": 401,
    "start_time": "2024-09-23T18:57:25.009Z"
   },
   {
    "duration": 623,
    "start_time": "2024-09-23T18:57:25.411Z"
   },
   {
    "duration": 272,
    "start_time": "2024-09-23T18:57:26.036Z"
   },
   {
    "duration": 139,
    "start_time": "2024-09-23T18:57:26.311Z"
   },
   {
    "duration": 369,
    "start_time": "2024-09-23T18:57:26.520Z"
   },
   {
    "duration": 393,
    "start_time": "2024-09-23T18:57:26.891Z"
   },
   {
    "duration": 312,
    "start_time": "2024-09-23T18:57:27.287Z"
   },
   {
    "duration": 325,
    "start_time": "2024-09-23T18:57:27.601Z"
   },
   {
    "duration": 343,
    "start_time": "2024-09-23T18:57:27.928Z"
   },
   {
    "duration": 215,
    "start_time": "2024-09-23T18:57:28.273Z"
   },
   {
    "duration": 36,
    "start_time": "2024-09-23T18:57:28.490Z"
   },
   {
    "duration": 14,
    "start_time": "2024-09-23T18:57:28.527Z"
   },
   {
    "duration": 2,
    "start_time": "2024-09-23T18:57:28.543Z"
   },
   {
    "duration": 7,
    "start_time": "2024-09-23T18:57:28.546Z"
   },
   {
    "duration": 13,
    "start_time": "2024-09-23T18:57:28.554Z"
   },
   {
    "duration": 6,
    "start_time": "2024-09-23T18:57:28.568Z"
   },
   {
    "duration": 53,
    "start_time": "2024-09-23T18:57:28.575Z"
   },
   {
    "duration": 9,
    "start_time": "2024-09-23T18:57:28.630Z"
   },
   {
    "duration": 8,
    "start_time": "2024-09-23T18:57:28.640Z"
   },
   {
    "duration": 9,
    "start_time": "2024-09-23T18:57:28.650Z"
   },
   {
    "duration": 7,
    "start_time": "2024-09-23T18:57:28.667Z"
   },
   {
    "duration": 9,
    "start_time": "2024-09-23T18:57:28.675Z"
   },
   {
    "duration": 35,
    "start_time": "2024-09-23T18:57:28.686Z"
   },
   {
    "duration": 16,
    "start_time": "2024-09-23T18:57:28.723Z"
   },
   {
    "duration": 15,
    "start_time": "2024-09-23T18:57:28.741Z"
   },
   {
    "duration": 5,
    "start_time": "2024-09-23T18:57:28.759Z"
   },
   {
    "duration": 16,
    "start_time": "2024-09-23T18:57:28.765Z"
   },
   {
    "duration": 38,
    "start_time": "2024-09-23T18:57:28.783Z"
   },
   {
    "duration": 588,
    "start_time": "2024-09-23T18:57:28.823Z"
   },
   {
    "duration": 1357,
    "start_time": "2024-09-23T18:57:29.414Z"
   },
   {
    "duration": 367,
    "start_time": "2024-09-23T18:57:30.773Z"
   },
   {
    "duration": 388,
    "start_time": "2024-09-23T18:57:31.142Z"
   },
   {
    "duration": 5,
    "start_time": "2024-09-23T18:57:31.532Z"
   },
   {
    "duration": 48,
    "start_time": "2024-09-23T18:57:31.539Z"
   },
   {
    "duration": 9,
    "start_time": "2024-09-23T18:57:31.589Z"
   },
   {
    "duration": 37,
    "start_time": "2024-09-23T18:57:31.599Z"
   },
   {
    "duration": 48,
    "start_time": "2024-09-23T18:57:31.637Z"
   },
   {
    "duration": 2546,
    "start_time": "2024-09-23T18:57:31.687Z"
   },
   {
    "duration": 16,
    "start_time": "2024-09-23T18:57:34.235Z"
   },
   {
    "duration": 35,
    "start_time": "2024-09-23T18:57:34.252Z"
   },
   {
    "duration": 11,
    "start_time": "2024-09-23T18:57:34.288Z"
   },
   {
    "duration": 28,
    "start_time": "2024-09-23T18:57:34.301Z"
   },
   {
    "duration": 11034,
    "start_time": "2024-09-23T18:57:34.331Z"
   },
   {
    "duration": 4,
    "start_time": "2024-09-23T18:57:45.366Z"
   },
   {
    "duration": 30,
    "start_time": "2024-09-23T18:57:45.372Z"
   },
   {
    "duration": 20,
    "start_time": "2024-09-23T18:57:45.404Z"
   },
   {
    "duration": 349,
    "start_time": "2024-09-23T18:57:45.426Z"
   },
   {
    "duration": 7,
    "start_time": "2024-09-23T18:57:45.777Z"
   },
   {
    "duration": 12,
    "start_time": "2024-09-23T18:57:45.786Z"
   },
   {
    "duration": 24,
    "start_time": "2024-09-23T18:57:45.800Z"
   },
   {
    "duration": 13,
    "start_time": "2024-09-23T18:57:45.826Z"
   },
   {
    "duration": 301,
    "start_time": "2024-09-23T18:57:45.840Z"
   },
   {
    "duration": 367,
    "start_time": "2024-09-23T18:57:46.143Z"
   },
   {
    "duration": 409,
    "start_time": "2024-09-23T18:57:46.512Z"
   },
   {
    "duration": 371,
    "start_time": "2024-09-23T18:57:46.923Z"
   },
   {
    "duration": 8,
    "start_time": "2024-09-23T19:11:20.334Z"
   },
   {
    "duration": 8,
    "start_time": "2024-09-23T19:13:02.294Z"
   },
   {
    "duration": 155,
    "start_time": "2024-09-23T19:13:03.113Z"
   },
   {
    "duration": 6,
    "start_time": "2024-09-23T19:13:22.151Z"
   },
   {
    "duration": 266,
    "start_time": "2024-09-23T19:13:25.705Z"
   },
   {
    "duration": 7,
    "start_time": "2024-09-23T19:14:36.543Z"
   },
   {
    "duration": 8,
    "start_time": "2024-09-23T19:15:11.137Z"
   },
   {
    "duration": 265,
    "start_time": "2024-09-23T19:15:41.799Z"
   },
   {
    "duration": 17866,
    "start_time": "2024-09-24T14:11:42.345Z"
   },
   {
    "duration": 12477,
    "start_time": "2024-09-24T14:12:00.214Z"
   },
   {
    "duration": 581,
    "start_time": "2024-09-24T14:12:12.693Z"
   },
   {
    "duration": 0,
    "start_time": "2024-09-24T14:12:13.280Z"
   },
   {
    "duration": 0,
    "start_time": "2024-09-24T14:12:13.282Z"
   },
   {
    "duration": 0,
    "start_time": "2024-09-24T14:12:13.283Z"
   },
   {
    "duration": 0,
    "start_time": "2024-09-24T14:12:13.284Z"
   },
   {
    "duration": 0,
    "start_time": "2024-09-24T14:12:13.285Z"
   },
   {
    "duration": 0,
    "start_time": "2024-09-24T14:12:13.286Z"
   },
   {
    "duration": 0,
    "start_time": "2024-09-24T14:12:13.287Z"
   },
   {
    "duration": 0,
    "start_time": "2024-09-24T14:12:13.288Z"
   },
   {
    "duration": 0,
    "start_time": "2024-09-24T14:12:13.289Z"
   },
   {
    "duration": 0,
    "start_time": "2024-09-24T14:12:13.290Z"
   },
   {
    "duration": 0,
    "start_time": "2024-09-24T14:12:13.291Z"
   },
   {
    "duration": 0,
    "start_time": "2024-09-24T14:12:13.315Z"
   },
   {
    "duration": 0,
    "start_time": "2024-09-24T14:12:13.316Z"
   },
   {
    "duration": 0,
    "start_time": "2024-09-24T14:12:13.317Z"
   },
   {
    "duration": 0,
    "start_time": "2024-09-24T14:12:13.318Z"
   },
   {
    "duration": 0,
    "start_time": "2024-09-24T14:12:13.319Z"
   },
   {
    "duration": 0,
    "start_time": "2024-09-24T14:12:13.320Z"
   },
   {
    "duration": 0,
    "start_time": "2024-09-24T14:12:13.321Z"
   },
   {
    "duration": 0,
    "start_time": "2024-09-24T14:12:13.322Z"
   },
   {
    "duration": 0,
    "start_time": "2024-09-24T14:12:13.323Z"
   },
   {
    "duration": 0,
    "start_time": "2024-09-24T14:12:13.324Z"
   },
   {
    "duration": 0,
    "start_time": "2024-09-24T14:12:13.326Z"
   },
   {
    "duration": 0,
    "start_time": "2024-09-24T14:12:13.326Z"
   },
   {
    "duration": 0,
    "start_time": "2024-09-24T14:12:13.327Z"
   },
   {
    "duration": 0,
    "start_time": "2024-09-24T14:12:13.328Z"
   },
   {
    "duration": 0,
    "start_time": "2024-09-24T14:12:13.329Z"
   },
   {
    "duration": 0,
    "start_time": "2024-09-24T14:12:13.330Z"
   },
   {
    "duration": 0,
    "start_time": "2024-09-24T14:12:13.331Z"
   },
   {
    "duration": 0,
    "start_time": "2024-09-24T14:12:13.333Z"
   },
   {
    "duration": 1,
    "start_time": "2024-09-24T14:12:13.333Z"
   },
   {
    "duration": 0,
    "start_time": "2024-09-24T14:12:13.335Z"
   },
   {
    "duration": 0,
    "start_time": "2024-09-24T14:12:13.336Z"
   },
   {
    "duration": 0,
    "start_time": "2024-09-24T14:12:13.337Z"
   },
   {
    "duration": 1,
    "start_time": "2024-09-24T14:12:13.337Z"
   },
   {
    "duration": 0,
    "start_time": "2024-09-24T14:12:13.339Z"
   },
   {
    "duration": 0,
    "start_time": "2024-09-24T14:12:13.340Z"
   },
   {
    "duration": 0,
    "start_time": "2024-09-24T14:12:13.341Z"
   },
   {
    "duration": 0,
    "start_time": "2024-09-24T14:12:13.342Z"
   },
   {
    "duration": 0,
    "start_time": "2024-09-24T14:12:13.343Z"
   },
   {
    "duration": 0,
    "start_time": "2024-09-24T14:12:13.344Z"
   },
   {
    "duration": 0,
    "start_time": "2024-09-24T14:12:13.345Z"
   },
   {
    "duration": 0,
    "start_time": "2024-09-24T14:12:13.346Z"
   },
   {
    "duration": 0,
    "start_time": "2024-09-24T14:12:13.347Z"
   },
   {
    "duration": 0,
    "start_time": "2024-09-24T14:12:13.348Z"
   },
   {
    "duration": 0,
    "start_time": "2024-09-24T14:12:13.349Z"
   },
   {
    "duration": 0,
    "start_time": "2024-09-24T14:12:13.350Z"
   },
   {
    "duration": 0,
    "start_time": "2024-09-24T14:12:13.351Z"
   },
   {
    "duration": 0,
    "start_time": "2024-09-24T14:12:13.352Z"
   },
   {
    "duration": 0,
    "start_time": "2024-09-24T14:12:13.353Z"
   },
   {
    "duration": 0,
    "start_time": "2024-09-24T14:12:13.415Z"
   },
   {
    "duration": 0,
    "start_time": "2024-09-24T14:12:13.416Z"
   },
   {
    "duration": 1,
    "start_time": "2024-09-24T14:12:13.417Z"
   },
   {
    "duration": 0,
    "start_time": "2024-09-24T14:12:13.419Z"
   },
   {
    "duration": 0,
    "start_time": "2024-09-24T14:12:13.420Z"
   },
   {
    "duration": 0,
    "start_time": "2024-09-24T14:12:13.421Z"
   },
   {
    "duration": 0,
    "start_time": "2024-09-24T14:12:13.422Z"
   },
   {
    "duration": 0,
    "start_time": "2024-09-24T14:12:13.423Z"
   },
   {
    "duration": 0,
    "start_time": "2024-09-24T14:12:13.424Z"
   },
   {
    "duration": 0,
    "start_time": "2024-09-24T14:12:13.425Z"
   },
   {
    "duration": 0,
    "start_time": "2024-09-24T14:12:13.426Z"
   },
   {
    "duration": 0,
    "start_time": "2024-09-24T14:12:13.427Z"
   },
   {
    "duration": 0,
    "start_time": "2024-09-24T14:12:13.428Z"
   },
   {
    "duration": 0,
    "start_time": "2024-09-24T14:12:13.428Z"
   },
   {
    "duration": 0,
    "start_time": "2024-09-24T14:12:13.430Z"
   },
   {
    "duration": 0,
    "start_time": "2024-09-24T14:12:13.431Z"
   },
   {
    "duration": 0,
    "start_time": "2024-09-24T14:12:13.432Z"
   },
   {
    "duration": 0,
    "start_time": "2024-09-24T14:12:13.433Z"
   },
   {
    "duration": 0,
    "start_time": "2024-09-24T14:12:13.433Z"
   },
   {
    "duration": 0,
    "start_time": "2024-09-24T14:12:13.434Z"
   },
   {
    "duration": 0,
    "start_time": "2024-09-24T14:12:13.435Z"
   },
   {
    "duration": 0,
    "start_time": "2024-09-24T14:12:13.436Z"
   },
   {
    "duration": 0,
    "start_time": "2024-09-24T14:12:13.437Z"
   },
   {
    "duration": 0,
    "start_time": "2024-09-24T14:12:13.438Z"
   },
   {
    "duration": 0,
    "start_time": "2024-09-24T14:12:13.439Z"
   },
   {
    "duration": 0,
    "start_time": "2024-09-24T14:12:13.441Z"
   },
   {
    "duration": 0,
    "start_time": "2024-09-24T14:12:13.442Z"
   },
   {
    "duration": 0,
    "start_time": "2024-09-24T14:12:13.443Z"
   },
   {
    "duration": 0,
    "start_time": "2024-09-24T14:12:13.444Z"
   },
   {
    "duration": 0,
    "start_time": "2024-09-24T14:12:13.445Z"
   },
   {
    "duration": 0,
    "start_time": "2024-09-24T14:12:13.446Z"
   },
   {
    "duration": 0,
    "start_time": "2024-09-24T14:12:13.447Z"
   },
   {
    "duration": 0,
    "start_time": "2024-09-24T14:12:13.448Z"
   },
   {
    "duration": 0,
    "start_time": "2024-09-24T14:12:13.449Z"
   },
   {
    "duration": 0,
    "start_time": "2024-09-24T14:12:13.450Z"
   },
   {
    "duration": 0,
    "start_time": "2024-09-24T14:12:13.451Z"
   },
   {
    "duration": 0,
    "start_time": "2024-09-24T14:12:13.516Z"
   },
   {
    "duration": 0,
    "start_time": "2024-09-24T14:12:13.516Z"
   },
   {
    "duration": 0,
    "start_time": "2024-09-24T14:12:13.517Z"
   },
   {
    "duration": 0,
    "start_time": "2024-09-24T14:12:13.518Z"
   },
   {
    "duration": 0,
    "start_time": "2024-09-24T14:12:13.519Z"
   },
   {
    "duration": 0,
    "start_time": "2024-09-24T14:12:13.520Z"
   },
   {
    "duration": 0,
    "start_time": "2024-09-24T14:12:13.521Z"
   },
   {
    "duration": 0,
    "start_time": "2024-09-24T14:12:13.522Z"
   },
   {
    "duration": 0,
    "start_time": "2024-09-24T14:12:13.523Z"
   },
   {
    "duration": 0,
    "start_time": "2024-09-24T14:12:13.524Z"
   },
   {
    "duration": 0,
    "start_time": "2024-09-24T14:12:13.525Z"
   },
   {
    "duration": 0,
    "start_time": "2024-09-24T14:12:13.526Z"
   },
   {
    "duration": 0,
    "start_time": "2024-09-24T14:12:13.527Z"
   },
   {
    "duration": 0,
    "start_time": "2024-09-24T14:12:13.528Z"
   },
   {
    "duration": 0,
    "start_time": "2024-09-24T14:12:13.529Z"
   },
   {
    "duration": 0,
    "start_time": "2024-09-24T14:12:13.530Z"
   },
   {
    "duration": 0,
    "start_time": "2024-09-24T14:12:13.531Z"
   },
   {
    "duration": 0,
    "start_time": "2024-09-24T14:12:13.532Z"
   },
   {
    "duration": 0,
    "start_time": "2024-09-24T14:12:13.533Z"
   },
   {
    "duration": 0,
    "start_time": "2024-09-24T14:12:13.534Z"
   },
   {
    "duration": 0,
    "start_time": "2024-09-24T14:12:13.535Z"
   },
   {
    "duration": 0,
    "start_time": "2024-09-24T14:12:13.536Z"
   },
   {
    "duration": 0,
    "start_time": "2024-09-24T14:12:13.537Z"
   },
   {
    "duration": 0,
    "start_time": "2024-09-24T14:12:13.538Z"
   },
   {
    "duration": 0,
    "start_time": "2024-09-24T14:12:13.539Z"
   },
   {
    "duration": 0,
    "start_time": "2024-09-24T14:12:13.540Z"
   },
   {
    "duration": 0,
    "start_time": "2024-09-24T14:12:13.541Z"
   },
   {
    "duration": 0,
    "start_time": "2024-09-24T14:12:13.542Z"
   },
   {
    "duration": 0,
    "start_time": "2024-09-24T14:12:13.543Z"
   },
   {
    "duration": 0,
    "start_time": "2024-09-24T14:12:13.544Z"
   },
   {
    "duration": 0,
    "start_time": "2024-09-24T14:12:13.545Z"
   },
   {
    "duration": 36279,
    "start_time": "2024-09-24T14:13:25.185Z"
   },
   {
    "duration": 12354,
    "start_time": "2024-09-24T14:14:01.466Z"
   },
   {
    "duration": 555,
    "start_time": "2024-09-24T14:14:13.822Z"
   },
   {
    "duration": 0,
    "start_time": "2024-09-24T14:14:14.385Z"
   },
   {
    "duration": 0,
    "start_time": "2024-09-24T14:14:14.387Z"
   },
   {
    "duration": 0,
    "start_time": "2024-09-24T14:14:14.388Z"
   },
   {
    "duration": 0,
    "start_time": "2024-09-24T14:14:14.389Z"
   },
   {
    "duration": 0,
    "start_time": "2024-09-24T14:14:14.391Z"
   },
   {
    "duration": 0,
    "start_time": "2024-09-24T14:14:14.392Z"
   },
   {
    "duration": 0,
    "start_time": "2024-09-24T14:14:14.394Z"
   },
   {
    "duration": 0,
    "start_time": "2024-09-24T14:14:14.395Z"
   },
   {
    "duration": 0,
    "start_time": "2024-09-24T14:14:14.396Z"
   },
   {
    "duration": 0,
    "start_time": "2024-09-24T14:14:14.397Z"
   },
   {
    "duration": 0,
    "start_time": "2024-09-24T14:14:14.397Z"
   },
   {
    "duration": 0,
    "start_time": "2024-09-24T14:14:14.416Z"
   },
   {
    "duration": 0,
    "start_time": "2024-09-24T14:14:14.417Z"
   },
   {
    "duration": 0,
    "start_time": "2024-09-24T14:14:14.418Z"
   },
   {
    "duration": 0,
    "start_time": "2024-09-24T14:14:14.420Z"
   },
   {
    "duration": 0,
    "start_time": "2024-09-24T14:14:14.421Z"
   },
   {
    "duration": 0,
    "start_time": "2024-09-24T14:14:14.422Z"
   },
   {
    "duration": 0,
    "start_time": "2024-09-24T14:14:14.424Z"
   },
   {
    "duration": 0,
    "start_time": "2024-09-24T14:14:14.425Z"
   },
   {
    "duration": 0,
    "start_time": "2024-09-24T14:14:14.427Z"
   },
   {
    "duration": 0,
    "start_time": "2024-09-24T14:14:14.428Z"
   },
   {
    "duration": 0,
    "start_time": "2024-09-24T14:14:14.430Z"
   },
   {
    "duration": 0,
    "start_time": "2024-09-24T14:14:14.431Z"
   },
   {
    "duration": 0,
    "start_time": "2024-09-24T14:14:14.432Z"
   },
   {
    "duration": 0,
    "start_time": "2024-09-24T14:14:14.435Z"
   },
   {
    "duration": 0,
    "start_time": "2024-09-24T14:14:14.436Z"
   },
   {
    "duration": 0,
    "start_time": "2024-09-24T14:14:14.438Z"
   },
   {
    "duration": 0,
    "start_time": "2024-09-24T14:14:14.439Z"
   },
   {
    "duration": 0,
    "start_time": "2024-09-24T14:14:14.441Z"
   },
   {
    "duration": 0,
    "start_time": "2024-09-24T14:14:14.442Z"
   },
   {
    "duration": 0,
    "start_time": "2024-09-24T14:14:14.443Z"
   },
   {
    "duration": 0,
    "start_time": "2024-09-24T14:14:14.445Z"
   },
   {
    "duration": 0,
    "start_time": "2024-09-24T14:14:14.446Z"
   },
   {
    "duration": 0,
    "start_time": "2024-09-24T14:14:14.447Z"
   },
   {
    "duration": 0,
    "start_time": "2024-09-24T14:14:14.448Z"
   },
   {
    "duration": 0,
    "start_time": "2024-09-24T14:14:14.449Z"
   },
   {
    "duration": 0,
    "start_time": "2024-09-24T14:14:14.450Z"
   },
   {
    "duration": 0,
    "start_time": "2024-09-24T14:14:14.451Z"
   },
   {
    "duration": 0,
    "start_time": "2024-09-24T14:14:14.453Z"
   },
   {
    "duration": 0,
    "start_time": "2024-09-24T14:14:14.516Z"
   },
   {
    "duration": 0,
    "start_time": "2024-09-24T14:14:14.517Z"
   },
   {
    "duration": 0,
    "start_time": "2024-09-24T14:14:14.518Z"
   },
   {
    "duration": 0,
    "start_time": "2024-09-24T14:14:14.519Z"
   },
   {
    "duration": 0,
    "start_time": "2024-09-24T14:14:14.520Z"
   },
   {
    "duration": 0,
    "start_time": "2024-09-24T14:14:14.521Z"
   },
   {
    "duration": 0,
    "start_time": "2024-09-24T14:14:14.522Z"
   },
   {
    "duration": 0,
    "start_time": "2024-09-24T14:14:14.523Z"
   },
   {
    "duration": 0,
    "start_time": "2024-09-24T14:14:14.524Z"
   },
   {
    "duration": 0,
    "start_time": "2024-09-24T14:14:14.525Z"
   },
   {
    "duration": 0,
    "start_time": "2024-09-24T14:14:14.527Z"
   },
   {
    "duration": 0,
    "start_time": "2024-09-24T14:14:14.528Z"
   },
   {
    "duration": 0,
    "start_time": "2024-09-24T14:14:14.529Z"
   },
   {
    "duration": 0,
    "start_time": "2024-09-24T14:14:14.530Z"
   },
   {
    "duration": 0,
    "start_time": "2024-09-24T14:14:14.531Z"
   },
   {
    "duration": 0,
    "start_time": "2024-09-24T14:14:14.532Z"
   },
   {
    "duration": 0,
    "start_time": "2024-09-24T14:14:14.533Z"
   },
   {
    "duration": 0,
    "start_time": "2024-09-24T14:14:14.534Z"
   },
   {
    "duration": 0,
    "start_time": "2024-09-24T14:14:14.535Z"
   },
   {
    "duration": 0,
    "start_time": "2024-09-24T14:14:14.537Z"
   },
   {
    "duration": 0,
    "start_time": "2024-09-24T14:14:14.538Z"
   },
   {
    "duration": 0,
    "start_time": "2024-09-24T14:14:14.539Z"
   },
   {
    "duration": 0,
    "start_time": "2024-09-24T14:14:14.540Z"
   },
   {
    "duration": 0,
    "start_time": "2024-09-24T14:14:14.541Z"
   },
   {
    "duration": 0,
    "start_time": "2024-09-24T14:14:14.542Z"
   },
   {
    "duration": 0,
    "start_time": "2024-09-24T14:14:14.543Z"
   },
   {
    "duration": 0,
    "start_time": "2024-09-24T14:14:14.544Z"
   },
   {
    "duration": 0,
    "start_time": "2024-09-24T14:14:14.545Z"
   },
   {
    "duration": 0,
    "start_time": "2024-09-24T14:14:14.547Z"
   },
   {
    "duration": 0,
    "start_time": "2024-09-24T14:14:14.548Z"
   },
   {
    "duration": 0,
    "start_time": "2024-09-24T14:14:14.549Z"
   },
   {
    "duration": 0,
    "start_time": "2024-09-24T14:14:14.550Z"
   },
   {
    "duration": 0,
    "start_time": "2024-09-24T14:14:14.615Z"
   },
   {
    "duration": 0,
    "start_time": "2024-09-24T14:14:14.617Z"
   },
   {
    "duration": 0,
    "start_time": "2024-09-24T14:14:14.618Z"
   },
   {
    "duration": 0,
    "start_time": "2024-09-24T14:14:14.619Z"
   },
   {
    "duration": 0,
    "start_time": "2024-09-24T14:14:14.620Z"
   },
   {
    "duration": 0,
    "start_time": "2024-09-24T14:14:14.621Z"
   },
   {
    "duration": 0,
    "start_time": "2024-09-24T14:14:14.622Z"
   },
   {
    "duration": 0,
    "start_time": "2024-09-24T14:14:14.623Z"
   },
   {
    "duration": 0,
    "start_time": "2024-09-24T14:14:14.624Z"
   },
   {
    "duration": 0,
    "start_time": "2024-09-24T14:14:14.625Z"
   },
   {
    "duration": 0,
    "start_time": "2024-09-24T14:14:14.627Z"
   },
   {
    "duration": 0,
    "start_time": "2024-09-24T14:14:14.628Z"
   },
   {
    "duration": 0,
    "start_time": "2024-09-24T14:14:14.629Z"
   },
   {
    "duration": 0,
    "start_time": "2024-09-24T14:14:14.630Z"
   },
   {
    "duration": 0,
    "start_time": "2024-09-24T14:14:14.631Z"
   },
   {
    "duration": 0,
    "start_time": "2024-09-24T14:14:14.632Z"
   },
   {
    "duration": 0,
    "start_time": "2024-09-24T14:14:14.634Z"
   },
   {
    "duration": 0,
    "start_time": "2024-09-24T14:14:14.634Z"
   },
   {
    "duration": 0,
    "start_time": "2024-09-24T14:14:14.636Z"
   },
   {
    "duration": 0,
    "start_time": "2024-09-24T14:14:14.636Z"
   },
   {
    "duration": 0,
    "start_time": "2024-09-24T14:14:14.638Z"
   },
   {
    "duration": 0,
    "start_time": "2024-09-24T14:14:14.639Z"
   },
   {
    "duration": 0,
    "start_time": "2024-09-24T14:14:14.640Z"
   },
   {
    "duration": 0,
    "start_time": "2024-09-24T14:14:14.641Z"
   },
   {
    "duration": 0,
    "start_time": "2024-09-24T14:14:14.642Z"
   },
   {
    "duration": 0,
    "start_time": "2024-09-24T14:14:14.643Z"
   },
   {
    "duration": 0,
    "start_time": "2024-09-24T14:14:14.644Z"
   },
   {
    "duration": 0,
    "start_time": "2024-09-24T14:14:14.645Z"
   },
   {
    "duration": 0,
    "start_time": "2024-09-24T14:14:14.646Z"
   },
   {
    "duration": 0,
    "start_time": "2024-09-24T14:14:14.648Z"
   },
   {
    "duration": 0,
    "start_time": "2024-09-24T14:14:14.649Z"
   },
   {
    "duration": 0,
    "start_time": "2024-09-24T14:14:14.651Z"
   },
   {
    "duration": 0,
    "start_time": "2024-09-24T14:14:14.652Z"
   },
   {
    "duration": 0,
    "start_time": "2024-09-24T14:14:14.716Z"
   },
   {
    "duration": 0,
    "start_time": "2024-09-24T14:14:14.717Z"
   },
   {
    "duration": 0,
    "start_time": "2024-09-24T14:14:14.719Z"
   },
   {
    "duration": 0,
    "start_time": "2024-09-24T14:14:14.720Z"
   },
   {
    "duration": 0,
    "start_time": "2024-09-24T14:14:14.722Z"
   },
   {
    "duration": 0,
    "start_time": "2024-09-24T14:14:14.723Z"
   },
   {
    "duration": 0,
    "start_time": "2024-09-24T14:14:14.724Z"
   },
   {
    "duration": 0,
    "start_time": "2024-09-24T14:14:14.726Z"
   },
   {
    "duration": 0,
    "start_time": "2024-09-24T14:14:14.728Z"
   },
   {
    "duration": 0,
    "start_time": "2024-09-24T14:14:14.729Z"
   },
   {
    "duration": 0,
    "start_time": "2024-09-24T14:14:14.730Z"
   },
   {
    "duration": 0,
    "start_time": "2024-09-24T14:14:14.732Z"
   },
   {
    "duration": 52610,
    "start_time": "2024-09-24T14:16:14.442Z"
   },
   {
    "duration": 8705,
    "start_time": "2024-09-24T14:17:07.055Z"
   },
   {
    "duration": 2197,
    "start_time": "2024-09-24T14:17:15.761Z"
   },
   {
    "duration": 451,
    "start_time": "2024-09-24T14:17:17.960Z"
   },
   {
    "duration": 21,
    "start_time": "2024-09-24T14:17:18.413Z"
   },
   {
    "duration": 8,
    "start_time": "2024-09-24T14:17:18.435Z"
   },
   {
    "duration": 12,
    "start_time": "2024-09-24T14:17:18.445Z"
   },
   {
    "duration": 29,
    "start_time": "2024-09-24T14:17:18.458Z"
   },
   {
    "duration": 46,
    "start_time": "2024-09-24T14:17:18.489Z"
   },
   {
    "duration": 36,
    "start_time": "2024-09-24T14:17:18.538Z"
   },
   {
    "duration": 29,
    "start_time": "2024-09-24T14:17:18.576Z"
   },
   {
    "duration": 12,
    "start_time": "2024-09-24T14:17:18.607Z"
   },
   {
    "duration": 22,
    "start_time": "2024-09-24T14:17:18.620Z"
   },
   {
    "duration": 7,
    "start_time": "2024-09-24T14:17:18.644Z"
   },
   {
    "duration": 19,
    "start_time": "2024-09-24T14:17:18.652Z"
   },
   {
    "duration": 28,
    "start_time": "2024-09-24T14:17:18.673Z"
   },
   {
    "duration": 15,
    "start_time": "2024-09-24T14:17:18.703Z"
   },
   {
    "duration": 8,
    "start_time": "2024-09-24T14:17:18.720Z"
   },
   {
    "duration": 7,
    "start_time": "2024-09-24T14:17:18.729Z"
   },
   {
    "duration": 9,
    "start_time": "2024-09-24T14:17:18.738Z"
   },
   {
    "duration": 11,
    "start_time": "2024-09-24T14:17:18.749Z"
   },
   {
    "duration": 15,
    "start_time": "2024-09-24T14:17:18.761Z"
   },
   {
    "duration": 18,
    "start_time": "2024-09-24T14:17:18.778Z"
   },
   {
    "duration": 37,
    "start_time": "2024-09-24T14:17:18.798Z"
   },
   {
    "duration": 15,
    "start_time": "2024-09-24T14:17:18.837Z"
   },
   {
    "duration": 8,
    "start_time": "2024-09-24T14:17:18.854Z"
   },
   {
    "duration": 42,
    "start_time": "2024-09-24T14:17:18.863Z"
   },
   {
    "duration": 31,
    "start_time": "2024-09-24T14:17:18.910Z"
   },
   {
    "duration": 72,
    "start_time": "2024-09-24T14:17:18.943Z"
   },
   {
    "duration": 66,
    "start_time": "2024-09-24T14:17:19.017Z"
   },
   {
    "duration": 256,
    "start_time": "2024-09-24T14:17:19.085Z"
   },
   {
    "duration": 180,
    "start_time": "2024-09-24T14:17:19.342Z"
   },
   {
    "duration": 223,
    "start_time": "2024-09-24T14:17:19.524Z"
   },
   {
    "duration": 219,
    "start_time": "2024-09-24T14:17:19.816Z"
   },
   {
    "duration": 352,
    "start_time": "2024-09-24T14:17:20.036Z"
   },
   {
    "duration": 11,
    "start_time": "2024-09-24T14:17:20.389Z"
   },
   {
    "duration": 30,
    "start_time": "2024-09-24T14:17:20.402Z"
   },
   {
    "duration": 343,
    "start_time": "2024-09-24T14:17:20.434Z"
   },
   {
    "duration": 246,
    "start_time": "2024-09-24T14:17:20.779Z"
   },
   {
    "duration": 437,
    "start_time": "2024-09-24T14:17:21.027Z"
   },
   {
    "duration": 344,
    "start_time": "2024-09-24T14:17:21.465Z"
   },
   {
    "duration": 258,
    "start_time": "2024-09-24T14:17:21.816Z"
   },
   {
    "duration": 403,
    "start_time": "2024-09-24T14:17:22.076Z"
   },
   {
    "duration": 279,
    "start_time": "2024-09-24T14:17:22.481Z"
   },
   {
    "duration": 6,
    "start_time": "2024-09-24T14:17:22.762Z"
   },
   {
    "duration": 381,
    "start_time": "2024-09-24T14:17:22.769Z"
   },
   {
    "duration": 7,
    "start_time": "2024-09-24T14:17:23.152Z"
   },
   {
    "duration": 356,
    "start_time": "2024-09-24T14:17:23.160Z"
   },
   {
    "duration": 262,
    "start_time": "2024-09-24T14:17:23.517Z"
   },
   {
    "duration": 355,
    "start_time": "2024-09-24T14:17:23.781Z"
   },
   {
    "duration": 247,
    "start_time": "2024-09-24T14:17:24.138Z"
   },
   {
    "duration": 371,
    "start_time": "2024-09-24T14:17:24.387Z"
   },
   {
    "duration": 229,
    "start_time": "2024-09-24T14:17:24.760Z"
   },
   {
    "duration": 7126,
    "start_time": "2024-09-24T14:17:24.990Z"
   },
   {
    "duration": 348,
    "start_time": "2024-09-24T14:17:32.118Z"
   },
   {
    "duration": 248,
    "start_time": "2024-09-24T14:17:32.468Z"
   },
   {
    "duration": 9,
    "start_time": "2024-09-24T14:17:32.718Z"
   },
   {
    "duration": 37,
    "start_time": "2024-09-24T14:17:32.728Z"
   },
   {
    "duration": 23,
    "start_time": "2024-09-24T14:17:32.767Z"
   },
   {
    "duration": 10,
    "start_time": "2024-09-24T14:17:32.791Z"
   },
   {
    "duration": 10,
    "start_time": "2024-09-24T14:17:32.803Z"
   },
   {
    "duration": 358,
    "start_time": "2024-09-24T14:17:32.815Z"
   },
   {
    "duration": 623,
    "start_time": "2024-09-24T14:17:33.175Z"
   },
   {
    "duration": 290,
    "start_time": "2024-09-24T14:17:33.800Z"
   },
   {
    "duration": 147,
    "start_time": "2024-09-24T14:17:34.092Z"
   },
   {
    "duration": 394,
    "start_time": "2024-09-24T14:17:34.241Z"
   },
   {
    "duration": 1020,
    "start_time": "2024-09-24T14:17:34.637Z"
   },
   {
    "duration": 228,
    "start_time": "2024-09-24T14:17:35.659Z"
   },
   {
    "duration": 291,
    "start_time": "2024-09-24T14:17:35.889Z"
   },
   {
    "duration": 336,
    "start_time": "2024-09-24T14:17:36.182Z"
   },
   {
    "duration": 249,
    "start_time": "2024-09-24T14:17:36.520Z"
   },
   {
    "duration": 6,
    "start_time": "2024-09-24T14:17:36.770Z"
   },
   {
    "duration": 21,
    "start_time": "2024-09-24T14:17:36.778Z"
   },
   {
    "duration": 4,
    "start_time": "2024-09-24T14:17:36.801Z"
   },
   {
    "duration": 4,
    "start_time": "2024-09-24T14:17:36.815Z"
   },
   {
    "duration": 41,
    "start_time": "2024-09-24T14:17:36.821Z"
   },
   {
    "duration": 11,
    "start_time": "2024-09-24T14:17:36.864Z"
   },
   {
    "duration": 15,
    "start_time": "2024-09-24T14:17:36.876Z"
   },
   {
    "duration": 15,
    "start_time": "2024-09-24T14:17:36.893Z"
   },
   {
    "duration": 41,
    "start_time": "2024-09-24T14:17:36.910Z"
   },
   {
    "duration": 142,
    "start_time": "2024-09-24T14:17:36.953Z"
   },
   {
    "duration": 12,
    "start_time": "2024-09-24T14:17:37.101Z"
   },
   {
    "duration": 7,
    "start_time": "2024-09-24T14:17:37.115Z"
   },
   {
    "duration": 6,
    "start_time": "2024-09-24T14:17:37.123Z"
   },
   {
    "duration": 32,
    "start_time": "2024-09-24T14:17:37.131Z"
   },
   {
    "duration": 21,
    "start_time": "2024-09-24T14:17:37.165Z"
   },
   {
    "duration": 11,
    "start_time": "2024-09-24T14:17:37.188Z"
   },
   {
    "duration": 31,
    "start_time": "2024-09-24T14:17:37.201Z"
   },
   {
    "duration": 12,
    "start_time": "2024-09-24T14:17:37.234Z"
   },
   {
    "duration": 620,
    "start_time": "2024-09-24T14:17:37.248Z"
   },
   {
    "duration": 1235,
    "start_time": "2024-09-24T14:17:37.870Z"
   },
   {
    "duration": 404,
    "start_time": "2024-09-24T14:17:39.106Z"
   },
   {
    "duration": 391,
    "start_time": "2024-09-24T14:17:39.516Z"
   },
   {
    "duration": 8,
    "start_time": "2024-09-24T14:17:39.908Z"
   },
   {
    "duration": 50,
    "start_time": "2024-09-24T14:17:39.917Z"
   },
   {
    "duration": 25,
    "start_time": "2024-09-24T14:17:39.969Z"
   },
   {
    "duration": 39,
    "start_time": "2024-09-24T14:17:39.996Z"
   },
   {
    "duration": 27,
    "start_time": "2024-09-24T14:17:40.037Z"
   },
   {
    "duration": 2417,
    "start_time": "2024-09-24T14:17:40.066Z"
   },
   {
    "duration": 15,
    "start_time": "2024-09-24T14:17:42.485Z"
   },
   {
    "duration": 90,
    "start_time": "2024-09-24T14:17:42.502Z"
   },
   {
    "duration": 19,
    "start_time": "2024-09-24T14:17:42.594Z"
   },
   {
    "duration": 39,
    "start_time": "2024-09-24T14:17:42.614Z"
   },
   {
    "duration": 10468,
    "start_time": "2024-09-24T14:17:42.655Z"
   },
   {
    "duration": 3,
    "start_time": "2024-09-24T14:17:53.125Z"
   },
   {
    "duration": 20,
    "start_time": "2024-09-24T14:17:53.130Z"
   },
   {
    "duration": 14,
    "start_time": "2024-09-24T14:17:53.151Z"
   },
   {
    "duration": 334,
    "start_time": "2024-09-24T14:17:53.166Z"
   },
   {
    "duration": 14,
    "start_time": "2024-09-24T14:17:53.502Z"
   },
   {
    "duration": 12,
    "start_time": "2024-09-24T14:17:53.518Z"
   },
   {
    "duration": 83,
    "start_time": "2024-09-24T14:17:53.532Z"
   },
   {
    "duration": 15,
    "start_time": "2024-09-24T14:17:53.617Z"
   },
   {
    "duration": 313,
    "start_time": "2024-09-24T14:17:53.634Z"
   },
   {
    "duration": 7,
    "start_time": "2024-09-24T14:17:53.948Z"
   },
   {
    "duration": 15,
    "start_time": "2024-09-24T14:17:53.957Z"
   },
   {
    "duration": 545,
    "start_time": "2024-09-24T14:17:53.974Z"
   },
   {
    "duration": 7,
    "start_time": "2024-09-24T14:17:54.521Z"
   },
   {
    "duration": 30,
    "start_time": "2024-09-24T14:17:54.530Z"
   },
   {
    "duration": 289,
    "start_time": "2024-09-24T14:17:54.563Z"
   },
   {
    "duration": 358,
    "start_time": "2024-09-24T14:19:02.409Z"
   },
   {
    "duration": 100,
    "start_time": "2024-09-24T14:21:59.733Z"
   },
   {
    "duration": 1767,
    "start_time": "2024-09-24T14:40:50.052Z"
   },
   {
    "duration": 438,
    "start_time": "2024-09-24T14:41:16.442Z"
   },
   {
    "duration": 448,
    "start_time": "2024-09-24T14:41:28.184Z"
   },
   {
    "duration": 430,
    "start_time": "2024-09-24T14:41:45.456Z"
   },
   {
    "duration": 534,
    "start_time": "2024-09-24T14:44:07.325Z"
   },
   {
    "duration": 561,
    "start_time": "2024-09-24T14:44:17.416Z"
   },
   {
    "duration": 688,
    "start_time": "2024-09-24T14:44:31.382Z"
   },
   {
    "duration": 559,
    "start_time": "2024-09-24T14:45:13.916Z"
   },
   {
    "duration": 12,
    "start_time": "2024-09-24T14:46:03.652Z"
   },
   {
    "duration": 12,
    "start_time": "2024-09-24T14:46:50.961Z"
   },
   {
    "duration": 321,
    "start_time": "2024-09-24T14:49:09.837Z"
   },
   {
    "duration": 15,
    "start_time": "2024-09-24T14:50:02.759Z"
   },
   {
    "duration": 58,
    "start_time": "2024-09-24T14:50:57.679Z"
   },
   {
    "duration": 552,
    "start_time": "2024-09-24T14:51:10.599Z"
   },
   {
    "duration": 553,
    "start_time": "2024-09-24T14:51:35.403Z"
   },
   {
    "duration": 583,
    "start_time": "2024-09-24T14:52:19.599Z"
   },
   {
    "duration": 65,
    "start_time": "2024-09-24T14:53:37.249Z"
   },
   {
    "duration": 58,
    "start_time": "2024-09-24T14:54:01.419Z"
   },
   {
    "duration": 521,
    "start_time": "2024-09-24T14:54:58.964Z"
   },
   {
    "duration": 806,
    "start_time": "2024-09-24T14:55:18.869Z"
   },
   {
    "duration": 844,
    "start_time": "2024-09-24T14:55:29.659Z"
   },
   {
    "duration": 626,
    "start_time": "2024-09-24T14:55:48.252Z"
   },
   {
    "duration": 643,
    "start_time": "2024-09-24T14:56:01.681Z"
   },
   {
    "duration": 693,
    "start_time": "2024-09-24T14:56:18.007Z"
   },
   {
    "duration": 16,
    "start_time": "2024-09-24T15:02:17.723Z"
   },
   {
    "duration": 14,
    "start_time": "2024-09-24T15:02:49.810Z"
   },
   {
    "duration": 13,
    "start_time": "2024-09-24T15:03:28.597Z"
   },
   {
    "duration": 13,
    "start_time": "2024-09-24T15:04:02.098Z"
   },
   {
    "duration": 14,
    "start_time": "2024-09-24T15:04:21.278Z"
   },
   {
    "duration": 30,
    "start_time": "2024-09-24T15:09:38.651Z"
   },
   {
    "duration": 20,
    "start_time": "2024-09-24T15:10:19.496Z"
   },
   {
    "duration": 16,
    "start_time": "2024-09-24T15:10:43.348Z"
   },
   {
    "duration": 16,
    "start_time": "2024-09-24T15:11:08.368Z"
   },
   {
    "duration": 18,
    "start_time": "2024-09-24T15:11:23.415Z"
   },
   {
    "duration": 17,
    "start_time": "2024-09-24T15:11:34.179Z"
   },
   {
    "duration": 17,
    "start_time": "2024-09-24T15:11:48.064Z"
   },
   {
    "duration": 612010,
    "start_time": "2024-09-24T15:25:46.561Z"
   },
   {
    "duration": 39331,
    "start_time": "2024-09-24T20:07:38.724Z"
   },
   {
    "duration": 11546,
    "start_time": "2024-09-24T20:08:18.057Z"
   },
   {
    "duration": 4551,
    "start_time": "2024-09-24T20:08:29.606Z"
   },
   {
    "duration": 317,
    "start_time": "2024-09-24T20:08:34.159Z"
   },
   {
    "duration": 23,
    "start_time": "2024-09-24T20:08:34.478Z"
   },
   {
    "duration": 91,
    "start_time": "2024-09-24T20:08:34.503Z"
   },
   {
    "duration": 17,
    "start_time": "2024-09-24T20:08:34.596Z"
   },
   {
    "duration": 16,
    "start_time": "2024-09-24T20:08:34.615Z"
   },
   {
    "duration": 22,
    "start_time": "2024-09-24T20:08:34.633Z"
   },
   {
    "duration": 9,
    "start_time": "2024-09-24T20:08:34.658Z"
   },
   {
    "duration": 21,
    "start_time": "2024-09-24T20:08:34.669Z"
   },
   {
    "duration": 20,
    "start_time": "2024-09-24T20:08:34.692Z"
   },
   {
    "duration": 7,
    "start_time": "2024-09-24T20:08:34.713Z"
   },
   {
    "duration": 15,
    "start_time": "2024-09-24T20:08:34.722Z"
   },
   {
    "duration": 18,
    "start_time": "2024-09-24T20:08:34.738Z"
   },
   {
    "duration": 8,
    "start_time": "2024-09-24T20:08:34.757Z"
   },
   {
    "duration": 14,
    "start_time": "2024-09-24T20:08:34.766Z"
   },
   {
    "duration": 9,
    "start_time": "2024-09-24T20:08:34.782Z"
   },
   {
    "duration": 10,
    "start_time": "2024-09-24T20:08:34.792Z"
   },
   {
    "duration": 24,
    "start_time": "2024-09-24T20:08:34.804Z"
   },
   {
    "duration": 11,
    "start_time": "2024-09-24T20:08:34.830Z"
   },
   {
    "duration": 15,
    "start_time": "2024-09-24T20:08:34.843Z"
   },
   {
    "duration": 9,
    "start_time": "2024-09-24T20:08:34.862Z"
   },
   {
    "duration": 18,
    "start_time": "2024-09-24T20:08:34.872Z"
   },
   {
    "duration": 28,
    "start_time": "2024-09-24T20:08:34.892Z"
   },
   {
    "duration": 9,
    "start_time": "2024-09-24T20:08:34.922Z"
   },
   {
    "duration": 13,
    "start_time": "2024-09-24T20:08:34.933Z"
   },
   {
    "duration": 20,
    "start_time": "2024-09-24T20:08:34.950Z"
   },
   {
    "duration": 7,
    "start_time": "2024-09-24T20:08:34.972Z"
   },
   {
    "duration": 13,
    "start_time": "2024-09-24T20:08:34.980Z"
   },
   {
    "duration": 346,
    "start_time": "2024-09-24T20:08:34.994Z"
   },
   {
    "duration": 280,
    "start_time": "2024-09-24T20:08:35.342Z"
   },
   {
    "duration": 226,
    "start_time": "2024-09-24T20:08:35.624Z"
   },
   {
    "duration": 276,
    "start_time": "2024-09-24T20:08:35.852Z"
   },
   {
    "duration": 13,
    "start_time": "2024-09-24T20:08:36.129Z"
   },
   {
    "duration": 6,
    "start_time": "2024-09-24T20:08:36.144Z"
   },
   {
    "duration": 390,
    "start_time": "2024-09-24T20:08:36.152Z"
   },
   {
    "duration": 255,
    "start_time": "2024-09-24T20:08:36.544Z"
   },
   {
    "duration": 367,
    "start_time": "2024-09-24T20:08:36.801Z"
   },
   {
    "duration": 463,
    "start_time": "2024-09-24T20:08:37.171Z"
   },
   {
    "duration": 256,
    "start_time": "2024-09-24T20:08:37.636Z"
   },
   {
    "duration": 358,
    "start_time": "2024-09-24T20:08:37.894Z"
   },
   {
    "duration": 244,
    "start_time": "2024-09-24T20:08:38.254Z"
   },
   {
    "duration": 6,
    "start_time": "2024-09-24T20:08:38.499Z"
   },
   {
    "duration": 417,
    "start_time": "2024-09-24T20:08:38.507Z"
   },
   {
    "duration": 7,
    "start_time": "2024-09-24T20:08:38.927Z"
   },
   {
    "duration": 413,
    "start_time": "2024-09-24T20:08:38.936Z"
   },
   {
    "duration": 247,
    "start_time": "2024-09-24T20:08:39.351Z"
   },
   {
    "duration": 328,
    "start_time": "2024-09-24T20:08:39.600Z"
   },
   {
    "duration": 1139,
    "start_time": "2024-09-24T20:08:39.930Z"
   },
   {
    "duration": 437,
    "start_time": "2024-09-24T20:08:41.071Z"
   },
   {
    "duration": 771,
    "start_time": "2024-09-24T20:08:41.509Z"
   },
   {
    "duration": 7986,
    "start_time": "2024-09-24T20:08:42.282Z"
   },
   {
    "duration": 392,
    "start_time": "2024-09-24T20:08:50.269Z"
   },
   {
    "duration": 266,
    "start_time": "2024-09-24T20:08:50.663Z"
   },
   {
    "duration": 11,
    "start_time": "2024-09-24T20:08:50.931Z"
   },
   {
    "duration": 20,
    "start_time": "2024-09-24T20:08:50.944Z"
   },
   {
    "duration": 15,
    "start_time": "2024-09-24T20:08:50.967Z"
   },
   {
    "duration": 6,
    "start_time": "2024-09-24T20:08:50.984Z"
   },
   {
    "duration": 35,
    "start_time": "2024-09-24T20:08:50.993Z"
   },
   {
    "duration": 374,
    "start_time": "2024-09-24T20:08:51.030Z"
   },
   {
    "duration": 670,
    "start_time": "2024-09-24T20:08:51.406Z"
   },
   {
    "duration": 301,
    "start_time": "2024-09-24T20:08:52.078Z"
   },
   {
    "duration": 159,
    "start_time": "2024-09-24T20:08:52.381Z"
   },
   {
    "duration": 418,
    "start_time": "2024-09-24T20:08:52.541Z"
   },
   {
    "duration": 407,
    "start_time": "2024-09-24T20:08:52.961Z"
   },
   {
    "duration": 342,
    "start_time": "2024-09-24T20:08:53.370Z"
   },
   {
    "duration": 134,
    "start_time": "2024-09-24T20:08:53.714Z"
   },
   {
    "duration": 348,
    "start_time": "2024-09-24T20:08:53.920Z"
   },
   {
    "duration": 276,
    "start_time": "2024-09-24T20:08:54.270Z"
   },
   {
    "duration": 7,
    "start_time": "2024-09-24T20:08:54.548Z"
   },
   {
    "duration": 16,
    "start_time": "2024-09-24T20:08:54.557Z"
   },
   {
    "duration": 9,
    "start_time": "2024-09-24T20:08:54.575Z"
   },
   {
    "duration": 7,
    "start_time": "2024-09-24T20:08:54.586Z"
   },
   {
    "duration": 29,
    "start_time": "2024-09-24T20:08:54.595Z"
   },
   {
    "duration": 16,
    "start_time": "2024-09-24T20:08:54.626Z"
   },
   {
    "duration": 10,
    "start_time": "2024-09-24T20:08:54.644Z"
   },
   {
    "duration": 8,
    "start_time": "2024-09-24T20:08:54.655Z"
   },
   {
    "duration": 8,
    "start_time": "2024-09-24T20:08:54.665Z"
   },
   {
    "duration": 10,
    "start_time": "2024-09-24T20:08:54.675Z"
   },
   {
    "duration": 10,
    "start_time": "2024-09-24T20:08:54.687Z"
   },
   {
    "duration": 11,
    "start_time": "2024-09-24T20:08:54.724Z"
   },
   {
    "duration": 23,
    "start_time": "2024-09-24T20:08:54.737Z"
   },
   {
    "duration": 42,
    "start_time": "2024-09-24T20:08:54.763Z"
   },
   {
    "duration": 23,
    "start_time": "2024-09-24T20:08:54.807Z"
   },
   {
    "duration": 7,
    "start_time": "2024-09-24T20:08:54.832Z"
   },
   {
    "duration": 22,
    "start_time": "2024-09-24T20:08:54.841Z"
   },
   {
    "duration": 5,
    "start_time": "2024-09-24T20:08:54.865Z"
   },
   {
    "duration": 655,
    "start_time": "2024-09-24T20:08:54.872Z"
   },
   {
    "duration": 1314,
    "start_time": "2024-09-24T20:08:55.528Z"
   },
   {
    "duration": 404,
    "start_time": "2024-09-24T20:08:56.844Z"
   },
   {
    "duration": 389,
    "start_time": "2024-09-24T20:08:57.249Z"
   },
   {
    "duration": 5,
    "start_time": "2024-09-24T20:08:57.640Z"
   },
   {
    "duration": 5,
    "start_time": "2024-09-24T20:08:57.647Z"
   },
   {
    "duration": 6,
    "start_time": "2024-09-24T20:08:57.653Z"
   },
   {
    "duration": 14,
    "start_time": "2024-09-24T20:08:57.661Z"
   },
   {
    "duration": 15,
    "start_time": "2024-09-24T20:08:57.677Z"
   },
   {
    "duration": 2574,
    "start_time": "2024-09-24T20:08:57.693Z"
   },
   {
    "duration": 16,
    "start_time": "2024-09-24T20:09:00.269Z"
   },
   {
    "duration": 45,
    "start_time": "2024-09-24T20:09:00.287Z"
   },
   {
    "duration": 30,
    "start_time": "2024-09-24T20:09:00.334Z"
   },
   {
    "duration": 35,
    "start_time": "2024-09-24T20:09:00.366Z"
   },
   {
    "duration": 12311,
    "start_time": "2024-09-24T20:09:00.403Z"
   },
   {
    "duration": 665484,
    "start_time": "2024-09-24T20:09:12.715Z"
   },
   {
    "duration": 4,
    "start_time": "2024-09-24T20:20:18.201Z"
   },
   {
    "duration": 9,
    "start_time": "2024-09-24T20:20:18.221Z"
   },
   {
    "duration": 24,
    "start_time": "2024-09-24T20:20:18.232Z"
   },
   {
    "duration": 381,
    "start_time": "2024-09-24T20:20:18.258Z"
   },
   {
    "duration": 9,
    "start_time": "2024-09-24T20:20:18.641Z"
   },
   {
    "duration": 9,
    "start_time": "2024-09-24T20:20:18.652Z"
   },
   {
    "duration": 24,
    "start_time": "2024-09-24T20:20:18.663Z"
   },
   {
    "duration": 32,
    "start_time": "2024-09-24T20:20:18.690Z"
   },
   {
    "duration": 629,
    "start_time": "2024-09-24T20:20:18.724Z"
   },
   {
    "duration": 7,
    "start_time": "2024-09-24T20:20:19.355Z"
   },
   {
    "duration": 14,
    "start_time": "2024-09-24T20:20:19.364Z"
   },
   {
    "duration": 280,
    "start_time": "2024-09-24T20:20:19.380Z"
   },
   {
    "duration": 19,
    "start_time": "2024-09-24T20:20:19.662Z"
   },
   {
    "duration": 50,
    "start_time": "2024-09-24T20:20:19.683Z"
   },
   {
    "duration": 40119,
    "start_time": "2024-11-24T19:40:35.039Z"
   },
   {
    "duration": 11797,
    "start_time": "2024-11-24T19:41:15.161Z"
   },
   {
    "duration": 2252,
    "start_time": "2024-11-24T19:41:26.960Z"
   },
   {
    "duration": 458,
    "start_time": "2024-11-24T19:41:29.214Z"
   },
   {
    "duration": 19,
    "start_time": "2024-11-24T19:41:29.674Z"
   },
   {
    "duration": 86,
    "start_time": "2024-11-24T19:41:29.695Z"
   },
   {
    "duration": 70,
    "start_time": "2024-11-24T19:41:29.783Z"
   },
   {
    "duration": 9,
    "start_time": "2024-11-24T19:41:29.855Z"
   },
   {
    "duration": 28,
    "start_time": "2024-11-24T19:41:29.865Z"
   },
   {
    "duration": 4,
    "start_time": "2024-11-24T19:41:29.895Z"
   },
   {
    "duration": 15,
    "start_time": "2024-11-24T19:41:29.900Z"
   },
   {
    "duration": 31,
    "start_time": "2024-11-24T19:41:29.917Z"
   },
   {
    "duration": 66,
    "start_time": "2024-11-24T19:41:29.951Z"
   },
   {
    "duration": 46,
    "start_time": "2024-11-24T19:41:30.018Z"
   },
   {
    "duration": 85,
    "start_time": "2024-11-24T19:41:30.065Z"
   },
   {
    "duration": 22,
    "start_time": "2024-11-24T19:41:30.152Z"
   },
   {
    "duration": 23,
    "start_time": "2024-11-24T19:41:30.175Z"
   },
   {
    "duration": 44,
    "start_time": "2024-11-24T19:41:30.200Z"
   },
   {
    "duration": 145,
    "start_time": "2024-11-24T19:41:30.246Z"
   },
   {
    "duration": 16,
    "start_time": "2024-11-24T19:41:30.393Z"
   },
   {
    "duration": 34,
    "start_time": "2024-11-24T19:41:30.410Z"
   },
   {
    "duration": 19,
    "start_time": "2024-11-24T19:41:30.445Z"
   },
   {
    "duration": 26,
    "start_time": "2024-11-24T19:41:30.466Z"
   },
   {
    "duration": 57,
    "start_time": "2024-11-24T19:41:30.494Z"
   },
   {
    "duration": 21,
    "start_time": "2024-11-24T19:41:30.553Z"
   },
   {
    "duration": 12,
    "start_time": "2024-11-24T19:41:30.576Z"
   },
   {
    "duration": 10,
    "start_time": "2024-11-24T19:41:30.590Z"
   },
   {
    "duration": 38,
    "start_time": "2024-11-24T19:41:30.604Z"
   },
   {
    "duration": 19,
    "start_time": "2024-11-24T19:41:30.644Z"
   },
   {
    "duration": 16,
    "start_time": "2024-11-24T19:41:30.664Z"
   },
   {
    "duration": 271,
    "start_time": "2024-11-24T19:41:30.681Z"
   },
   {
    "duration": 189,
    "start_time": "2024-11-24T19:41:30.954Z"
   },
   {
    "duration": 289,
    "start_time": "2024-11-24T19:41:31.145Z"
   },
   {
    "duration": 313,
    "start_time": "2024-11-24T19:41:31.436Z"
   },
   {
    "duration": 11,
    "start_time": "2024-11-24T19:41:31.752Z"
   },
   {
    "duration": 22,
    "start_time": "2024-11-24T19:41:31.764Z"
   },
   {
    "duration": 377,
    "start_time": "2024-11-24T19:41:31.788Z"
   },
   {
    "duration": 241,
    "start_time": "2024-11-24T19:41:32.167Z"
   },
   {
    "duration": 359,
    "start_time": "2024-11-24T19:41:32.409Z"
   },
   {
    "duration": 421,
    "start_time": "2024-11-24T19:41:32.770Z"
   },
   {
    "duration": 300,
    "start_time": "2024-11-24T19:41:33.193Z"
   },
   {
    "duration": 363,
    "start_time": "2024-11-24T19:41:33.495Z"
   },
   {
    "duration": 243,
    "start_time": "2024-11-24T19:41:33.860Z"
   },
   {
    "duration": 6,
    "start_time": "2024-11-24T19:41:34.104Z"
   },
   {
    "duration": 350,
    "start_time": "2024-11-24T19:41:34.120Z"
   },
   {
    "duration": 8,
    "start_time": "2024-11-24T19:41:34.472Z"
   },
   {
    "duration": 373,
    "start_time": "2024-11-24T19:41:34.481Z"
   },
   {
    "duration": 244,
    "start_time": "2024-11-24T19:41:34.855Z"
   },
   {
    "duration": 346,
    "start_time": "2024-11-24T19:41:35.101Z"
   },
   {
    "duration": 236,
    "start_time": "2024-11-24T19:41:35.451Z"
   },
   {
    "duration": 373,
    "start_time": "2024-11-24T19:41:35.689Z"
   },
   {
    "duration": 241,
    "start_time": "2024-11-24T19:41:36.064Z"
   },
   {
    "duration": 7491,
    "start_time": "2024-11-24T19:41:36.306Z"
   },
   {
    "duration": 355,
    "start_time": "2024-11-24T19:41:43.799Z"
   },
   {
    "duration": 255,
    "start_time": "2024-11-24T19:41:44.156Z"
   },
   {
    "duration": 31,
    "start_time": "2024-11-24T19:41:44.412Z"
   },
   {
    "duration": 28,
    "start_time": "2024-11-24T19:41:44.446Z"
   },
   {
    "duration": 19,
    "start_time": "2024-11-24T19:41:44.476Z"
   },
   {
    "duration": 12,
    "start_time": "2024-11-24T19:41:44.497Z"
   },
   {
    "duration": 38,
    "start_time": "2024-11-24T19:41:44.510Z"
   },
   {
    "duration": 321,
    "start_time": "2024-11-24T19:41:44.551Z"
   },
   {
    "duration": 630,
    "start_time": "2024-11-24T19:41:44.874Z"
   },
   {
    "duration": 307,
    "start_time": "2024-11-24T19:41:45.506Z"
   },
   {
    "duration": 1111,
    "start_time": "2024-11-24T19:41:45.815Z"
   },
   {
    "duration": 338,
    "start_time": "2024-11-24T19:41:46.929Z"
   },
   {
    "duration": 415,
    "start_time": "2024-11-24T19:41:47.269Z"
   },
   {
    "duration": 278,
    "start_time": "2024-11-24T19:41:47.686Z"
   },
   {
    "duration": 166,
    "start_time": "2024-11-24T19:41:47.966Z"
   },
   {
    "duration": 423,
    "start_time": "2024-11-24T19:41:48.134Z"
   },
   {
    "duration": 231,
    "start_time": "2024-11-24T19:41:48.558Z"
   },
   {
    "duration": 5,
    "start_time": "2024-11-24T19:41:48.790Z"
   },
   {
    "duration": 10,
    "start_time": "2024-11-24T19:41:48.797Z"
   },
   {
    "duration": 14,
    "start_time": "2024-11-24T19:41:48.822Z"
   },
   {
    "duration": 6,
    "start_time": "2024-11-24T19:41:48.844Z"
   },
   {
    "duration": 11,
    "start_time": "2024-11-24T19:41:48.852Z"
   },
   {
    "duration": 4,
    "start_time": "2024-11-24T19:41:48.865Z"
   },
   {
    "duration": 5,
    "start_time": "2024-11-24T19:41:48.871Z"
   },
   {
    "duration": 5,
    "start_time": "2024-11-24T19:41:48.877Z"
   },
   {
    "duration": 10,
    "start_time": "2024-11-24T19:41:48.884Z"
   },
   {
    "duration": 47,
    "start_time": "2024-11-24T19:41:48.895Z"
   },
   {
    "duration": 12,
    "start_time": "2024-11-24T19:41:48.944Z"
   },
   {
    "duration": 7,
    "start_time": "2024-11-24T19:41:48.962Z"
   },
   {
    "duration": 7,
    "start_time": "2024-11-24T19:41:48.970Z"
   },
   {
    "duration": 13,
    "start_time": "2024-11-24T19:41:48.978Z"
   },
   {
    "duration": 14,
    "start_time": "2024-11-24T19:41:48.992Z"
   },
   {
    "duration": 8,
    "start_time": "2024-11-24T19:41:49.024Z"
   },
   {
    "duration": 22,
    "start_time": "2024-11-24T19:41:49.034Z"
   },
   {
    "duration": 5,
    "start_time": "2024-11-24T19:41:49.057Z"
   },
   {
    "duration": 594,
    "start_time": "2024-11-24T19:41:49.063Z"
   },
   {
    "duration": 1291,
    "start_time": "2024-11-24T19:41:49.659Z"
   },
   {
    "duration": 388,
    "start_time": "2024-11-24T19:41:50.953Z"
   },
   {
    "duration": 374,
    "start_time": "2024-11-24T19:41:51.346Z"
   },
   {
    "duration": 18,
    "start_time": "2024-11-24T19:41:51.728Z"
   },
   {
    "duration": 103,
    "start_time": "2024-11-24T19:41:51.750Z"
   },
   {
    "duration": 39,
    "start_time": "2024-11-24T19:41:51.855Z"
   },
   {
    "duration": 12,
    "start_time": "2024-11-24T19:41:51.895Z"
   },
   {
    "duration": 6,
    "start_time": "2024-11-24T19:41:51.908Z"
   },
   {
    "duration": 2655,
    "start_time": "2024-11-24T19:41:51.916Z"
   },
   {
    "duration": 14,
    "start_time": "2024-11-24T19:41:54.573Z"
   },
   {
    "duration": 15,
    "start_time": "2024-11-24T19:41:54.589Z"
   },
   {
    "duration": 34,
    "start_time": "2024-11-24T19:41:54.606Z"
   },
   {
    "duration": 28,
    "start_time": "2024-11-24T19:41:54.641Z"
   },
   {
    "duration": 14881,
    "start_time": "2024-11-24T19:41:54.670Z"
   },
   {
    "duration": 19460,
    "start_time": "2024-11-24T19:50:00.621Z"
   },
   {
    "duration": 8567,
    "start_time": "2024-11-24T19:50:20.084Z"
   },
   {
    "duration": 1939,
    "start_time": "2024-11-24T19:50:28.654Z"
   },
   {
    "duration": 104,
    "start_time": "2024-11-24T19:50:30.595Z"
   },
   {
    "duration": 18,
    "start_time": "2024-11-24T19:50:30.700Z"
   },
   {
    "duration": 16,
    "start_time": "2024-11-24T19:50:30.719Z"
   },
   {
    "duration": 35,
    "start_time": "2024-11-24T19:50:30.737Z"
   },
   {
    "duration": 28,
    "start_time": "2024-11-24T19:50:30.773Z"
   },
   {
    "duration": 80,
    "start_time": "2024-11-24T19:50:30.803Z"
   },
   {
    "duration": 21,
    "start_time": "2024-11-24T19:50:30.886Z"
   },
   {
    "duration": 35,
    "start_time": "2024-11-24T19:50:30.909Z"
   },
   {
    "duration": 27,
    "start_time": "2024-11-24T19:50:30.946Z"
   },
   {
    "duration": 22,
    "start_time": "2024-11-24T19:50:30.974Z"
   },
   {
    "duration": 23,
    "start_time": "2024-11-24T19:50:30.997Z"
   },
   {
    "duration": 29,
    "start_time": "2024-11-24T19:50:31.021Z"
   },
   {
    "duration": 25,
    "start_time": "2024-11-24T19:50:31.052Z"
   },
   {
    "duration": 32,
    "start_time": "2024-11-24T19:50:31.078Z"
   },
   {
    "duration": 40,
    "start_time": "2024-11-24T19:50:31.111Z"
   },
   {
    "duration": 39,
    "start_time": "2024-11-24T19:50:31.152Z"
   },
   {
    "duration": 22,
    "start_time": "2024-11-24T19:50:31.192Z"
   },
   {
    "duration": 36,
    "start_time": "2024-11-24T19:50:31.216Z"
   },
   {
    "duration": 20,
    "start_time": "2024-11-24T19:50:31.254Z"
   },
   {
    "duration": 36,
    "start_time": "2024-11-24T19:50:31.276Z"
   },
   {
    "duration": 53,
    "start_time": "2024-11-24T19:50:31.313Z"
   },
   {
    "duration": 28,
    "start_time": "2024-11-24T19:50:31.367Z"
   },
   {
    "duration": 26,
    "start_time": "2024-11-24T19:50:31.396Z"
   },
   {
    "duration": 46,
    "start_time": "2024-11-24T19:50:31.424Z"
   },
   {
    "duration": 79,
    "start_time": "2024-11-24T19:50:31.475Z"
   },
   {
    "duration": 29,
    "start_time": "2024-11-24T19:50:31.556Z"
   },
   {
    "duration": 59,
    "start_time": "2024-11-24T19:50:31.587Z"
   },
   {
    "duration": 295,
    "start_time": "2024-11-24T19:50:31.647Z"
   },
   {
    "duration": 294,
    "start_time": "2024-11-24T19:50:31.943Z"
   },
   {
    "duration": 205,
    "start_time": "2024-11-24T19:50:32.238Z"
   },
   {
    "duration": 306,
    "start_time": "2024-11-24T19:50:32.445Z"
   },
   {
    "duration": 14,
    "start_time": "2024-11-24T19:50:32.753Z"
   },
   {
    "duration": 13,
    "start_time": "2024-11-24T19:50:32.769Z"
   },
   {
    "duration": 379,
    "start_time": "2024-11-24T19:50:32.783Z"
   },
   {
    "duration": 236,
    "start_time": "2024-11-24T19:50:33.163Z"
   },
   {
    "duration": 357,
    "start_time": "2024-11-24T19:50:33.400Z"
   },
   {
    "duration": 293,
    "start_time": "2024-11-24T19:50:33.759Z"
   },
   {
    "duration": 330,
    "start_time": "2024-11-24T19:50:34.053Z"
   },
   {
    "duration": 370,
    "start_time": "2024-11-24T19:50:34.385Z"
   },
   {
    "duration": 234,
    "start_time": "2024-11-24T19:50:34.756Z"
   },
   {
    "duration": 5,
    "start_time": "2024-11-24T19:50:34.992Z"
   },
   {
    "duration": 355,
    "start_time": "2024-11-24T19:50:34.999Z"
   },
   {
    "duration": 7,
    "start_time": "2024-11-24T19:50:35.356Z"
   },
   {
    "duration": 350,
    "start_time": "2024-11-24T19:50:35.365Z"
   },
   {
    "duration": 283,
    "start_time": "2024-11-24T19:50:35.720Z"
   },
   {
    "duration": 335,
    "start_time": "2024-11-24T19:50:36.004Z"
   },
   {
    "duration": 243,
    "start_time": "2024-11-24T19:50:36.341Z"
   },
   {
    "duration": 338,
    "start_time": "2024-11-24T19:50:36.587Z"
   },
   {
    "duration": 265,
    "start_time": "2024-11-24T19:50:36.926Z"
   },
   {
    "duration": 6906,
    "start_time": "2024-11-24T19:50:37.192Z"
   },
   {
    "duration": 352,
    "start_time": "2024-11-24T19:50:44.099Z"
   },
   {
    "duration": 239,
    "start_time": "2024-11-24T19:50:44.453Z"
   },
   {
    "duration": 8,
    "start_time": "2024-11-24T19:50:44.694Z"
   },
   {
    "duration": 27,
    "start_time": "2024-11-24T19:50:44.703Z"
   },
   {
    "duration": 8,
    "start_time": "2024-11-24T19:50:44.731Z"
   },
   {
    "duration": 12,
    "start_time": "2024-11-24T19:50:44.740Z"
   },
   {
    "duration": 21,
    "start_time": "2024-11-24T19:50:44.753Z"
   },
   {
    "duration": 381,
    "start_time": "2024-11-24T19:50:44.775Z"
   },
   {
    "duration": 433,
    "start_time": "2024-11-24T19:50:45.158Z"
   },
   {
    "duration": 287,
    "start_time": "2024-11-24T19:50:45.593Z"
   },
   {
    "duration": 151,
    "start_time": "2024-11-24T19:50:45.882Z"
   },
   {
    "duration": 541,
    "start_time": "2024-11-24T19:50:46.035Z"
   },
   {
    "duration": 377,
    "start_time": "2024-11-24T19:50:46.577Z"
   },
   {
    "duration": 233,
    "start_time": "2024-11-24T19:50:46.955Z"
   },
   {
    "duration": 153,
    "start_time": "2024-11-24T19:50:47.189Z"
   },
   {
    "duration": 404,
    "start_time": "2024-11-24T19:50:47.346Z"
   },
   {
    "duration": 238,
    "start_time": "2024-11-24T19:50:47.752Z"
   },
   {
    "duration": 5,
    "start_time": "2024-11-24T19:50:47.992Z"
   },
   {
    "duration": 28,
    "start_time": "2024-11-24T19:50:47.999Z"
   },
   {
    "duration": 3,
    "start_time": "2024-11-24T19:50:48.029Z"
   },
   {
    "duration": 5,
    "start_time": "2024-11-24T19:50:48.033Z"
   },
   {
    "duration": 11,
    "start_time": "2024-11-24T19:50:48.039Z"
   },
   {
    "duration": 4,
    "start_time": "2024-11-24T19:50:48.051Z"
   },
   {
    "duration": 3,
    "start_time": "2024-11-24T19:50:48.057Z"
   },
   {
    "duration": 3,
    "start_time": "2024-11-24T19:50:48.062Z"
   },
   {
    "duration": 14,
    "start_time": "2024-11-24T19:50:48.066Z"
   },
   {
    "duration": 7,
    "start_time": "2024-11-24T19:50:48.082Z"
   },
   {
    "duration": 31,
    "start_time": "2024-11-24T19:50:48.090Z"
   },
   {
    "duration": 8,
    "start_time": "2024-11-24T19:50:48.129Z"
   },
   {
    "duration": 6,
    "start_time": "2024-11-24T19:50:48.139Z"
   },
   {
    "duration": 13,
    "start_time": "2024-11-24T19:50:48.147Z"
   },
   {
    "duration": 15,
    "start_time": "2024-11-24T19:50:48.162Z"
   },
   {
    "duration": 4,
    "start_time": "2024-11-24T19:50:48.179Z"
   },
   {
    "duration": 15,
    "start_time": "2024-11-24T19:50:48.220Z"
   },
   {
    "duration": 4,
    "start_time": "2024-11-24T19:50:48.237Z"
   },
   {
    "duration": 584,
    "start_time": "2024-11-24T19:50:48.243Z"
   },
   {
    "duration": 1219,
    "start_time": "2024-11-24T19:50:48.828Z"
   },
   {
    "duration": 388,
    "start_time": "2024-11-24T19:50:50.049Z"
   },
   {
    "duration": 345,
    "start_time": "2024-11-24T19:50:50.439Z"
   },
   {
    "duration": 5,
    "start_time": "2024-11-24T19:50:50.785Z"
   },
   {
    "duration": 8,
    "start_time": "2024-11-24T19:50:50.791Z"
   },
   {
    "duration": 8,
    "start_time": "2024-11-24T19:50:50.800Z"
   },
   {
    "duration": 20,
    "start_time": "2024-11-24T19:50:50.809Z"
   },
   {
    "duration": 12,
    "start_time": "2024-11-24T19:50:50.831Z"
   },
   {
    "duration": 2405,
    "start_time": "2024-11-24T19:50:50.845Z"
   },
   {
    "duration": 14,
    "start_time": "2024-11-24T19:50:53.251Z"
   },
   {
    "duration": 30,
    "start_time": "2024-11-24T19:50:53.267Z"
   },
   {
    "duration": 18,
    "start_time": "2024-11-24T19:50:53.299Z"
   },
   {
    "duration": 23,
    "start_time": "2024-11-24T19:50:53.318Z"
   },
   {
    "duration": 36,
    "start_time": "2024-11-24T19:50:53.345Z"
   },
   {
    "duration": 8,
    "start_time": "2024-11-24T19:50:53.382Z"
   },
   {
    "duration": 362,
    "start_time": "2024-11-24T19:50:53.391Z"
   },
   {
    "duration": 8,
    "start_time": "2024-11-24T19:50:53.755Z"
   },
   {
    "duration": 54,
    "start_time": "2024-11-24T19:50:53.765Z"
   },
   {
    "duration": 23,
    "start_time": "2024-11-24T19:50:53.820Z"
   },
   {
    "duration": 28,
    "start_time": "2024-11-24T19:50:53.845Z"
   },
   {
    "duration": 282,
    "start_time": "2024-11-24T19:50:53.875Z"
   },
   {
    "duration": 7,
    "start_time": "2024-11-24T19:50:54.158Z"
   },
   {
    "duration": 24,
    "start_time": "2024-11-24T19:50:54.167Z"
   },
   {
    "duration": 280,
    "start_time": "2024-11-24T19:50:54.193Z"
   },
   {
    "duration": 18,
    "start_time": "2024-11-24T19:50:54.475Z"
   },
   {
    "duration": 39,
    "start_time": "2024-11-24T19:50:54.495Z"
   },
   {
    "duration": 2364,
    "start_time": "2024-11-24T19:51:29.333Z"
   },
   {
    "duration": 20,
    "start_time": "2024-11-24T19:51:48.275Z"
   },
   {
    "duration": 15,
    "start_time": "2024-11-24T19:52:00.903Z"
   },
   {
    "duration": 9,
    "start_time": "2024-11-24T19:52:03.102Z"
   }
  ],
  "colab": {
   "provenance": []
  },
  "kernelspec": {
   "display_name": "Python 3 (ipykernel)",
   "language": "python",
   "name": "python3"
  },
  "language_info": {
   "codemirror_mode": {
    "name": "ipython",
    "version": 3
   },
   "file_extension": ".py",
   "mimetype": "text/x-python",
   "name": "python",
   "nbconvert_exporter": "python",
   "pygments_lexer": "ipython3",
   "version": "3.9.5"
  },
  "toc": {
   "base_numbering": 1,
   "nav_menu": {},
   "number_sections": true,
   "sideBar": true,
   "skip_h1_title": true,
   "title_cell": "Table of Contents",
   "title_sidebar": "Contents",
   "toc_cell": false,
   "toc_position": {},
   "toc_section_display": true,
   "toc_window_display": false
  }
 },
 "nbformat": 4,
 "nbformat_minor": 1
}
